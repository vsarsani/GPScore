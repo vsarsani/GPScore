{
 "cells": [
  {
   "cell_type": "code",
   "execution_count": 1,
   "id": "bacbb8b2",
   "metadata": {},
   "outputs": [],
   "source": [
    "suppressMessages(suppressWarnings(library(tidyverse)))\n",
    "suppressMessages(suppressWarnings(library(metap)))\n",
    "suppressMessages(suppressWarnings(library(relaimpo)))"
   ]
  },
  {
   "cell_type": "code",
   "execution_count": null,
   "id": "b4d026fe-ef1a-4aea-a59b-114dffc9d568",
   "metadata": {},
   "outputs": [],
   "source": []
  },
  {
   "cell_type": "code",
   "execution_count": 96,
   "id": "7f3c0e1b",
   "metadata": {},
   "outputs": [],
   "source": [
    "### Load hg19 gene,TSS information from "
   ]
  },
  {
   "cell_type": "code",
   "execution_count": 6,
   "id": "8b2ee1ce",
   "metadata": {},
   "outputs": [],
   "source": [
    "gene_annotation<- read.table(\"data/gene_annot_jun10.txt\",header=T)"
   ]
  },
  {
   "cell_type": "code",
   "execution_count": 7,
   "id": "bb227f95",
   "metadata": {},
   "outputs": [
    {
     "data": {
      "text/html": [
       "<table class=\"dataframe\">\n",
       "<caption>A data.frame: 3 × 6</caption>\n",
       "<thead>\n",
       "\t<tr><th></th><th scope=col>ENSGID</th><th scope=col>NAME</th><th scope=col>CHR</th><th scope=col>START</th><th scope=col>END</th><th scope=col>TSS</th></tr>\n",
       "\t<tr><th></th><th scope=col>&lt;chr&gt;</th><th scope=col>&lt;chr&gt;</th><th scope=col>&lt;int&gt;</th><th scope=col>&lt;int&gt;</th><th scope=col>&lt;int&gt;</th><th scope=col>&lt;int&gt;</th></tr>\n",
       "</thead>\n",
       "<tbody>\n",
       "\t<tr><th scope=row>1</th><td>ENSG00000186092</td><td>OR4F5 </td><td>1</td><td> 69091</td><td> 70008</td><td> 69091</td></tr>\n",
       "\t<tr><th scope=row>2</th><td>ENSG00000235249</td><td>OR4F29</td><td>1</td><td>367640</td><td>368634</td><td>367640</td></tr>\n",
       "\t<tr><th scope=row>3</th><td>ENSG00000185097</td><td>OR4F16</td><td>1</td><td>621059</td><td>622053</td><td>622053</td></tr>\n",
       "</tbody>\n",
       "</table>\n"
      ],
      "text/latex": [
       "A data.frame: 3 × 6\n",
       "\\begin{tabular}{r|llllll}\n",
       "  & ENSGID & NAME & CHR & START & END & TSS\\\\\n",
       "  & <chr> & <chr> & <int> & <int> & <int> & <int>\\\\\n",
       "\\hline\n",
       "\t1 & ENSG00000186092 & OR4F5  & 1 &  69091 &  70008 &  69091\\\\\n",
       "\t2 & ENSG00000235249 & OR4F29 & 1 & 367640 & 368634 & 367640\\\\\n",
       "\t3 & ENSG00000185097 & OR4F16 & 1 & 621059 & 622053 & 622053\\\\\n",
       "\\end{tabular}\n"
      ],
      "text/markdown": [
       "\n",
       "A data.frame: 3 × 6\n",
       "\n",
       "| <!--/--> | ENSGID &lt;chr&gt; | NAME &lt;chr&gt; | CHR &lt;int&gt; | START &lt;int&gt; | END &lt;int&gt; | TSS &lt;int&gt; |\n",
       "|---|---|---|---|---|---|---|\n",
       "| 1 | ENSG00000186092 | OR4F5  | 1 |  69091 |  70008 |  69091 |\n",
       "| 2 | ENSG00000235249 | OR4F29 | 1 | 367640 | 368634 | 367640 |\n",
       "| 3 | ENSG00000185097 | OR4F16 | 1 | 621059 | 622053 | 622053 |\n",
       "\n"
      ],
      "text/plain": [
       "  ENSGID          NAME   CHR START  END    TSS   \n",
       "1 ENSG00000186092 OR4F5  1    69091  70008  69091\n",
       "2 ENSG00000235249 OR4F29 1   367640 368634 367640\n",
       "3 ENSG00000185097 OR4F16 1   621059 622053 622053"
      ]
     },
     "metadata": {},
     "output_type": "display_data"
    }
   ],
   "source": [
    "head(gene_annotation,3)"
   ]
  },
  {
   "cell_type": "code",
   "execution_count": 113,
   "id": "553444fb",
   "metadata": {},
   "outputs": [],
   "source": [
    "# 3 Mb window around the lead variant with chromosome, start and stop"
   ]
  },
  {
   "cell_type": "code",
   "execution_count": 122,
   "id": "e354bb0e",
   "metadata": {},
   "outputs": [],
   "source": [
    "lead <- read.table(\"LEAD.txt\",header=T)"
   ]
  },
  {
   "cell_type": "code",
   "execution_count": 124,
   "id": "09e19a1f",
   "metadata": {},
   "outputs": [],
   "source": [
    "# gene to variant mapping"
   ]
  },
  {
   "cell_type": "code",
   "execution_count": 125,
   "id": "4e4ef23c",
   "metadata": {},
   "outputs": [],
   "source": [
    "gene_variant <- data.frame()\n",
    "\n",
    "for (i in 1:nrow(trans_lead) ){\n",
    "   \n",
    "line_q <- trans_lead[i,]\n",
    "marker_q <- as.character(line_q[1])\n",
    "chr_q <- as.integer(line_q[2])\n",
    "start_q<- as.integer(line_q[6])\n",
    "end_q <- as.integer(line_q[7])\n",
    "lead_q <- as.integer(line_q[5])\n",
    "position_q <- as.integer(line_q[3])\n",
    "tmp_df <- gene_annotation%>%filter(CHR==chr_q & START >= start_q & END <= end_q)%>%mutate(INDEX=marker_q,WINDOW=lead_q,POSITION=position_q,TSS_DISTANCE=abs(TSS-POSITION))\n",
    "gene_variant <- rbind(gene_variant,tmp_df)\n",
    "}"
   ]
  },
  {
   "cell_type": "code",
   "execution_count": 126,
   "id": "5677e842",
   "metadata": {},
   "outputs": [],
   "source": [
    "###Add MAGMA output "
   ]
  },
  {
   "cell_type": "code",
   "execution_count": 127,
   "id": "cb3b64c8",
   "metadata": {},
   "outputs": [],
   "source": [
    "magma <- read.table(\"MAGMA.genes.out\",header=T)%>%rename(ENSGID=GENE)\n",
    "gene_variant_1 <- merge(gene_variant,magma,by=\"ENSGID\")%>%select(ENSGID,NAME,CHR.x,START.x,END,TSS,INDEX,WINDOW,POSITION,TSS_DISTANCE,P)%>%rename(CHR=CHR.x,START=START.x,MAGMA_P=P)"
   ]
  },
  {
   "cell_type": "code",
   "execution_count": 129,
   "id": "c971eb75",
   "metadata": {},
   "outputs": [],
   "source": [
    "## Add coloc output "
   ]
  },
  {
   "cell_type": "code",
   "execution_count": 130,
   "id": "8e5c8484",
   "metadata": {},
   "outputs": [],
   "source": [
    "coloc <- read.table(\"COLOC_H4.TAB\",header=T)%>%rename(ENSGID=Probe)%>%select(ENSGID,Tissue,H4_abf)"
   ]
  },
  {
   "cell_type": "code",
   "execution_count": 132,
   "id": "4841d33f",
   "metadata": {},
   "outputs": [],
   "source": [
    "# Take maximum coloc score of variant per gene per tissue"
   ]
  },
  {
   "cell_type": "code",
   "execution_count": 133,
   "id": "d1942428",
   "metadata": {},
   "outputs": [],
   "source": [
    "gene_variant_2<- data.frame()\n",
    "for (i in 1:nrow(gene_variant_1) ){\n",
    "line_q <- gene_variant_1[i,]\n",
    "ensg_q <- as.character(line_q[1])\n",
    "genep<- nrow(coloc%>%filter(ENSGID==ensg_q))\n",
    "if (genep>0){\n",
    "c_df <- coloc%>%filter(ENSGID==ensg_q)%>%select(Tissue,H4_abf)%>%mutate(weight = case_when(grepl(\"Artery|Adipose|Heart\", Tissue) ~ \"1\",TRUE ~ '0.8'))\n",
    "pip_coloc <- max(c_df$H4_abf)\n",
    "coloc_weight <- max(as.double((c_df%>%filter(H4_abf==pip_coloc))$weight))\n",
    "}else {\n",
    "pip_coloc <- 0\n",
    "coloc_weight <- 0\n",
    "}\n",
    "tmp_df <- gene_variant_1[i,]%>%mutate(coloc_pip=pip_coloc,coloc_WT=coloc_weight)\n",
    "gene_variant_2 <- rbind(gene_variant_2,tmp_df)\n",
    "}"
   ]
  },
  {
   "cell_type": "code",
   "execution_count": 135,
   "id": "89d3c9ce",
   "metadata": {},
   "outputs": [],
   "source": [
    "## Add SMR"
   ]
  },
  {
   "cell_type": "code",
   "execution_count": 136,
   "id": "cfb5a75e",
   "metadata": {},
   "outputs": [],
   "source": [
    "smr <- read.table(\"../../ANALYSIS/SMR//Trans_ancestry_SMR.tab\",header=T)%>%rename(ENSGID=probeID)"
   ]
  },
  {
   "cell_type": "code",
   "execution_count": 137,
   "id": "1e543e60",
   "metadata": {},
   "outputs": [],
   "source": [
    "gene_variant_3 <- data.frame()\n",
    "for (i in 1:nrow(gene_variant_2) ){\n",
    "line_q <- gene_variant_2[i,]\n",
    "ensg_q <- as.character(line_q[1])\n",
    "genep<- nrow(smr%>%filter(ENSGID==ensg_q))\n",
    "if (genep>0){\n",
    "smr_df <- smr%>%filter(ENSGID==ensg_q)%>%select(filename,p_SMR)%>%mutate(weight_smr = case_when(grepl(\"Artery|Adipose|Heart\", filename) ~ \"1\",TRUE ~ '0.8'))\n",
    "p_smr <- min(smr_df$p_SMR)\n",
    "smr_weight <- max(as.double((smr_df%>%filter(p_SMR==p_smr))$weight_smr))\n",
    "}else {\n",
    "p_smr <- NA\n",
    "smr_weight <-0 \n",
    "}\n",
    "tmp_df <- gene_variant_2[i,]%>%mutate(p_SMR=p_smr,SMR_WT=smr_weight)\n",
    "gene_variant_3 <- rbind(gene_variant_3,tmp_df)\n",
    "}\n"
   ]
  },
  {
   "cell_type": "code",
   "execution_count": 139,
   "id": "f0ca8c8c",
   "metadata": {},
   "outputs": [],
   "source": [
    "## Add eQTL overlaps"
   ]
  },
  {
   "cell_type": "code",
   "execution_count": 140,
   "id": "cc98d93c",
   "metadata": {},
   "outputs": [],
   "source": [
    "eqtl_overlaps <- read.table(\"EQTL_OVERLAPS.txt\",fill=TRUE,row.names=NULL,header=TRUE)"
   ]
  },
  {
   "cell_type": "code",
   "execution_count": 141,
   "id": "fc1090b9",
   "metadata": {},
   "outputs": [],
   "source": [
    "gene_variant_4 <- data.frame()\n",
    "for (i in 1:nrow(gene_variant_3) ){\n",
    "line_q <- gene_variant_3[i,]\n",
    "ensg_q <- as.character(line_q[2])\n",
    "genep<- nrow(eqtl_overlaps%>%filter(Transcript==ensg_q))\n",
    "if (genep>0){\n",
    "smr_df <- eqtl_overlaps%>%filter(Transcript==ensg_q)%>%select(Tissue,P_EQTL)%>%mutate(weight_lookup = case_when(grepl(\"Artery|Adipose|Heart\", Tissue) ~ \"1\",TRUE ~ '0.8'))\n",
    "p_smr <- min(smr_df$P_EQTL)\n",
    "smr_weight <- max(as.double((smr_df%>%filter(P_EQTL==p_smr))$weight_lookup))\n",
    "}else {\n",
    "p_smr <- NA\n",
    "smr_weight <-0 \n",
    "}\n",
    "tmp_df <- gene_variant_3[i,]%>%mutate(P_EQTL=p_smr,EQTL_WT=smr_weight)\n",
    "gene_variant_4 <- rbind(gene_variant_4,tmp_df)\n",
    "}\n"
   ]
  },
  {
   "cell_type": "code",
   "execution_count": 144,
   "id": "bc91aba2",
   "metadata": {},
   "outputs": [],
   "source": [
    "### LDSC(Expression modifier Score)"
   ]
  },
  {
   "cell_type": "code",
   "execution_count": 145,
   "id": "8c184980",
   "metadata": {},
   "outputs": [],
   "source": [
    "ldsc <- read.table(\"ldsc_RESULTS.TAB\",fill=TRUE,row.names=NULL,header=TRUE)"
   ]
  },
  {
   "cell_type": "code",
   "execution_count": 147,
   "id": "9ffe8415",
   "metadata": {},
   "outputs": [],
   "source": [
    "gene_variant_5 <- data.frame()\n",
    "for (i in 1:nrow(gene_variant_4) ){\n",
    "line_q <- gene_variant_4[i,]\n",
    "ensg_q <- as.character(line_q[2])\n",
    "genep<- nrow(ldsc%>%filter(GENE==ensg_q))\n",
    "if (genep>0){\n",
    "ldsc_df <- ldsc%>%filter(GENE==ensg_q)%>%select(Tissue,Enrichment_p)%>%mutate(weight_ldsc = case_when(grepl(\"Artery|Adipose|Heart\", Tissue) ~ \"1\",TRUE ~ '0.8'))\n",
    "p_ldsc <- min(ldsc_df$Enrichment_p)\n",
    "smr_weight <- max(as.double((ldsc_df%>%filter(Enrichment_p==p_ldsc))$weight_ldsc))\n",
    "}else {\n",
    "p_ldsc <- NA\n",
    "smr_weight <-0 \n",
    "}\n",
    "tmp_df <- gene_variant_4[i,]%>%mutate(LDSC_P=p_ldsc,LDSC_WT=smr_weight)\n",
    "gene_variant_5 <- rbind(gene_variant_5,tmp_df)\n",
    "}\n"
   ]
  },
  {
   "cell_type": "code",
   "execution_count": 149,
   "id": "ed826249",
   "metadata": {},
   "outputs": [],
   "source": [
    "## Add EMS overlaps"
   ]
  },
  {
   "cell_type": "code",
   "execution_count": 150,
   "id": "bb9f53f7",
   "metadata": {},
   "outputs": [],
   "source": [
    "ems <- read.table(\"OVERLAP_EMS.TAB\",fill=TRUE,row.names=NULL,header=TRUE)"
   ]
  },
  {
   "cell_type": "code",
   "execution_count": 152,
   "id": "5195dcca",
   "metadata": {},
   "outputs": [],
   "source": [
    "gene_variant_6 <- data.frame()\n",
    "for (i in 1:nrow(gene_variant_5) ){\n",
    "line_q <- gene_variant_5[i,]\n",
    "ensg_q <- as.character(line_q[1])\n",
    "genep<- nrow(ems%>%filter(GENE==ensg_q))\n",
    "if (genep>0){\n",
    "ems_df <- ems%>%filter(GENE==ensg_q)%>%select(Tissue,scaled_EMS)%>%mutate(weight_ems = case_when(grepl(\"Artery|Adipose|Heart\", Tissue) ~ \"1\",TRUE ~ '0.8'))\n",
    "s_ems <- max(ems_df$scaled_EMS)\n",
    "ems_weight <- max(as.double((ems_df%>%filter(scaled_EMS==s_ems))$weight_ems))\n",
    "}else {\n",
    "s_ems <- 0\n",
    "ems_weight <-0 \n",
    "}\n",
    "tmp_df <- gene_variant_5[i,]%>%mutate(EMS_SCORE=s_ems,EMS_WT=ems_weight)\n",
    "gene_variant_6 <- rbind(gene_variant_6,tmp_df)\n",
    "}"
   ]
  },
  {
   "cell_type": "code",
   "execution_count": 154,
   "id": "349b3246",
   "metadata": {},
   "outputs": [],
   "source": [
    "### Add POPS\n",
    "stand01 <- function(x){(x-min(x,na.rm = TRUE))/(max(x,na.rm = TRUE)-min(x,na.rm = TRUE))}"
   ]
  },
  {
   "cell_type": "code",
   "execution_count": 155,
   "id": "e85f16fa",
   "metadata": {},
   "outputs": [],
   "source": [
    "pops_ems <- read.table(\"POPS.txt\",fill=TRUE,row.names=NULL,header=TRUE)%>%mutate(POPS=stand01(PoPS_score))"
   ]
  },
  {
   "cell_type": "code",
   "execution_count": 157,
   "id": "49a1b411",
   "metadata": {},
   "outputs": [],
   "source": [
    "gene_variant_7 <- data.frame()\n",
    "for (i in 1:nrow(gene_variant_6) ){\n",
    "line_q <- gene_variant_6[i,]\n",
    "ensg_q <- as.character(line_q[1])\n",
    "genep<- nrow(pops_ems%>%filter(ENSG==ensg_q))\n",
    "if (genep>0){\n",
    "pops_df <- pops_ems%>%filter(ENSG==ensg_q)%>%select(POPS)\n",
    "pops_score <- as.double(pops_df)\n",
    "}else {\n",
    "pops_score <- 0 \n",
    "}\n",
    "tmp_df <- gene_variant_6[i,]%>%mutate(POPS_SCORE=pops_score)\n",
    "gene_variant_7 <- rbind(gene_variant_7,tmp_df)\n",
    "}"
   ]
  },
  {
   "cell_type": "code",
   "execution_count": 159,
   "id": "52e96a74",
   "metadata": {},
   "outputs": [],
   "source": [
    "## Add DOWNSTREAMER"
   ]
  },
  {
   "cell_type": "code",
   "execution_count": 160,
   "id": "7ed55ee2",
   "metadata": {},
   "outputs": [],
   "source": [
    "down_df <- read.table(\"Downstreamer.txt\",fill=TRUE,row.names=NULL,header=TRUE)%>%mutate(DOWNSTREAMER_P=pnorm(q=ZSCORE, lower.tail=TRUE))"
   ]
  },
  {
   "cell_type": "code",
   "execution_count": 162,
   "id": "9e9a10e2",
   "metadata": {},
   "outputs": [],
   "source": [
    "gene_variant_8 <- data.frame()\n",
    "for (i in 1:nrow(gene_variant_7) ){\n",
    "line_q <- gene_variant_7[i,]\n",
    "ensg_q <- as.character(line_q[1])\n",
    "genep<- nrow(down_df%>%filter(ENSG==ensg_q))\n",
    "if (genep>0){\n",
    "downs_df <- down_df%>%filter(ENSG==ensg_q)%>%select(DOWNSTREAMER_P)\n",
    "p_down <- min(downs_df$DOWNSTREAMER_P)\n",
    "}else {\n",
    "p_down <- NA\n",
    "}\n",
    "tmp_df <- gene_variant_7[i,]%>%mutate(DOWN_P=p_down)\n",
    "gene_variant_8 <- rbind(gene_variant_8,tmp_df)\n",
    "}"
   ]
  },
  {
   "cell_type": "code",
   "execution_count": 164,
   "id": "cf216d41",
   "metadata": {},
   "outputs": [],
   "source": [
    "## Add EpiMAp"
   ]
  },
  {
   "cell_type": "code",
   "execution_count": 165,
   "id": "51f59da4",
   "metadata": {},
   "outputs": [],
   "source": [
    "epi_map <- read.table(\"EPIMAP.tab\",fill=TRUE,row.names=NULL,header=TRUE)"
   ]
  },
  {
   "cell_type": "code",
   "execution_count": 167,
   "id": "3ce46a42",
   "metadata": {},
   "outputs": [],
   "source": [
    "gene_variant_9 <- data.frame()\n",
    "for (i in 1:nrow(gene_variant_8) ){\n",
    "line_q <- gene_variant_8[i,]\n",
    "ensg_q <- as.character(line_q[1])\n",
    "genep<- nrow(epi_map%>%filter(gene==ensg_q))\n",
    "if (genep>0){\n",
    "epi_df <- epi_map%>%filter(gene==ensg_q)%>%select(score)\n",
    "epi_score <- max(epi_df$score)\n",
    "}else {\n",
    "epi_score <- 0\n",
    "}\n",
    "tmp_df <- gene_variant_8[i,]%>%mutate(EPIMAP_SCORE=epi_score)\n",
    "gene_variant_9 <- rbind(gene_variant_9,tmp_df)\n",
    "}"
   ]
  },
  {
   "cell_type": "code",
   "execution_count": 169,
   "id": "8ccefa45",
   "metadata": {},
   "outputs": [],
   "source": [
    "## Add Genehancer"
   ]
  },
  {
   "cell_type": "code",
   "execution_count": 170,
   "id": "34f5cc7e",
   "metadata": {},
   "outputs": [
    {
     "name": "stderr",
     "output_type": "stream",
     "text": [
      "Warning message in mask$eval_all_mutate(quo):\n",
      "\"NAs introduced by coercion\"\n"
     ]
    }
   ],
   "source": [
    "gh <- read.table(\"GENEHANCER.TAB\",fill=TRUE,row.names=NULL,header=TRUE)%>%mutate(CHROM=as.integer(om))%>%rename(START=name,END=start,SCORE=end)%>%\n",
    "select(-om)%>%mutate(SCORE=stand01(SCORE))"
   ]
  },
  {
   "cell_type": "code",
   "execution_count": 172,
   "id": "f5fa22ce",
   "metadata": {},
   "outputs": [],
   "source": [
    "gene_variant_10 <- data.frame()\n",
    "for (i in 1:nrow(gene_variant_9) ){\n",
    "line_q <- gene_variant_9[i,]\n",
    "chr_q <- as.integer(line_q[3])\n",
    "start_q<- as.integer(line_q[4])\n",
    "end_q <- as.integer(line_q[5])\n",
    "genep<- nrow(gh%>%filter(CHROM==chr_q & START >= start_q & END <= end_q))\n",
    "if (genep>0){\n",
    "gh_df <- gh%>%filter(CHROM==chr_q & START >= start_q & END <= end_q)%>%select(SCORE)\n",
    "gh_score <- max(gh_df$SCORE)\n",
    "}else {\n",
    "gh_score <- 0\n",
    "}\n",
    "tmp_df <- gene_variant_9[i,]%>%mutate(GH_SCORE=gh_score)\n",
    "gene_variant_10 <- rbind(gene_variant_10,tmp_df)\n",
    "}"
   ]
  },
  {
   "cell_type": "code",
   "execution_count": 175,
   "id": "a4307f61",
   "metadata": {},
   "outputs": [],
   "source": [
    "## Add CS2GO SCORE"
   ]
  },
  {
   "cell_type": "code",
   "execution_count": 176,
   "id": "46c78a35",
   "metadata": {},
   "outputs": [],
   "source": [
    "cs2g <- read.table(\"TRANS_CS2G.TAB\",fill=TRUE,row.names=NULL,header=TRUE)"
   ]
  },
  {
   "cell_type": "code",
   "execution_count": 178,
   "id": "df13763c",
   "metadata": {},
   "outputs": [],
   "source": [
    "gene_variant_11 <- data.frame()\n",
    "for (i in 1:nrow(gene_variant_10) ){\n",
    "line_q <- gene_variant_10[i,]\n",
    "ensg_q <- as.character(line_q[2])\n",
    "genep<- nrow(cs2g%>%filter(GENENAME==ensg_q))\n",
    "if (genep>0){\n",
    "cs2g_df <- cs2g%>%filter(GENENAME==ensg_q)%>%select(SCORE)\n",
    "score <- max(cs2g_df$SCORE)\n",
    "}else {\n",
    "score <- NA\n",
    "}\n",
    "tmp_df <- gene_variant_10[i,]%>%mutate(CS2G_SCORE=score)\n",
    "gene_variant_11 <- rbind(gene_variant_11,tmp_df)\n",
    "}"
   ]
  },
  {
   "cell_type": "code",
   "execution_count": null,
   "id": "1cdd08bf-90ad-4bb9-affc-955ec0b16c27",
   "metadata": {},
   "outputs": [],
   "source": []
  },
  {
   "cell_type": "code",
   "execution_count": 184,
   "id": "e364d7e3",
   "metadata": {},
   "outputs": [],
   "source": [
    "## CALCULATE GENE PRIORITY SCORE"
   ]
  },
  {
   "cell_type": "code",
   "execution_count": 186,
   "id": "03c23c6f",
   "metadata": {},
   "outputs": [],
   "source": [
    "gene_priority <- data.frame()\n",
    "for (i in 1:nrow(gene_variant_11) ){\n",
    "line_q <- gene_variant_11[i,] \n",
    "p_g_raw <- na.omit(c(line_q$MAGMA_P,line_q$p_SMR,line_q$P_EQTL,line_q$LDSC_P,line_q$DOWN_P))\n",
    "if (length(p_g_raw)<2){\n",
    "p_g <- p_g_raw\n",
    "} else {\n",
    "p_g <- -log10(as.double(allmetap(p_g_raw,method=\"sumz\")$p))}\n",
    "S_G <- sum(as.double(na.omit(c(line_q$coloc_pip,line_q$EMS_SCORE,line_q$POPS_SCORE,line_q$EPIMAP_SCORE,line_q$GH_SCORE,line_q$CS2G_SCORE))))\n",
    "C_S <- sum(as.double(na.omit(c(line_q$coloc_WT,line_q$SMR_WT,line_q$EQTL_WT,line_q$LDSC_WT,line_q$EMS_WT)))+\n",
    "           length(as.double(na.omit(line_q$MAGMA_P,line_q$POPS_SCORE,line_q$DOWN_P,line_q$EPIMAP_SCORE,line_q$GH_SCORE,line_q$CS2G_SCORE))))/11\n",
    "GP_SCORE <- ((as.double(p_g)+as.double(S_G))*as.double(C_S))/log2(line_q$TSS_DISTANCE)\n",
    "tmp_df <- gene_variant_11[i,]%>%mutate(GP_SCORE=as.double(GP_SCORE),P_G=p_g,SG=S_G,CS=C_S)\n",
    "gene_priority  <- rbind(gene_priority,tmp_df)\n",
    "}"
   ]
  },
  {
   "cell_type": "code",
   "execution_count": 187,
   "id": "2d6374fb",
   "metadata": {},
   "outputs": [
    {
     "name": "stderr",
     "output_type": "stream",
     "text": [
      "\u001b[1m\u001b[22mAdding missing grouping variables: `WINDOW`\n"
     ]
    }
   ],
   "source": [
    "gene_priority <- arrange(gene_priority%>%group_by(WINDOW)%>% mutate(mx = max(GP_SCORE)) %>% arrange(desc(mx), desc(GP_SCORE)) %>% select(-mx),CHR,POSITION)%>%\n",
    "select(NAME,CHR,POSITION,INDEX,GP_SCORE,TSS_DISTANCE,P_G,SG,CS,MAGMA_P,p_SMR,P_EQTL,LDSC_P,DOWN_P,coloc_pip,EMS_SCORE,POPS_SCORE,GH_SCORE,CS2G_SCORE,coloc_WT,SMR_WT,EQTL_WT,LDSC_WT,EMS_WT)"
   ]
  },
  {
   "cell_type": "code",
   "execution_count": null,
   "id": "d081ee2b-b19b-41da-b205-bc5bc0349c18",
   "metadata": {},
   "outputs": [],
   "source": []
  },
  {
   "cell_type": "code",
   "execution_count": 88,
   "id": "4f6e0bfa-f1bf-45d7-b199-19f59be4ec9d",
   "metadata": {},
   "outputs": [],
   "source": [
    "normalit<-function(m){\n",
    "   (m - mean(m))/(sd(m))\n",
    " }"
   ]
  },
  {
   "cell_type": "code",
   "execution_count": 89,
   "id": "b2e5d697-6e44-45bd-a2fd-d19371f556fb",
   "metadata": {},
   "outputs": [],
   "source": [
    "## Calculate the relative  importance of GPscore Terms"
   ]
  },
  {
   "cell_type": "code",
   "execution_count": null,
   "id": "01de1c3d-27b6-4ada-b347-4c1260e0fe99",
   "metadata": {},
   "outputs": [],
   "source": [
    "df <- gene_priority%>%group_by(WINDOW)%>% mutate(CS2G_SCORE = ifelse(is.na(CS2G_SCORE), 0, CS2G_SCORE))%>%mutate(TSS_norm=normalit(log2(TSS_DISTANCE)),PG=normalit(P_G),CSN=normalit(CS),SGN=normalit(SG))\n",
    "df_csf1 <- df%>%filter(WINDOW==1)\n",
    "df1 <- df%>%group_by(WINDOW) %>%do( gpcontrib= (calc.relimp(lm(GP_SCORE ~  TSS_norm+ PG + CSN+ SGN, data = .),rela = TRUE))$lmg)"
   ]
  },
  {
   "cell_type": "code",
   "execution_count": null,
   "id": "85d8e496",
   "metadata": {},
   "outputs": [],
   "source": []
  }
 ],
 "metadata": {
  "kernelspec": {
   "display_name": "R",
   "language": "R",
   "name": "ir"
  },
  "language_info": {
   "codemirror_mode": "r",
   "file_extension": ".r",
   "mimetype": "text/x-r-source",
   "name": "R",
   "pygments_lexer": "r",
   "version": "4.2.0"
  }
 },
 "nbformat": 4,
 "nbformat_minor": 5
}
