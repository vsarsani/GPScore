{
 "cells": [
  {
   "cell_type": "code",
   "execution_count": 96,
   "id": "2f28ed52",
   "metadata": {},
   "outputs": [],
   "source": [
    "suppressMessages(suppressWarnings(library(tidyverse)))"
   ]
  },
  {
   "cell_type": "code",
   "execution_count": 97,
   "id": "5b2fee58",
   "metadata": {},
   "outputs": [],
   "source": [
    "### Read the Master file and lead variants"
   ]
  },
  {
   "cell_type": "code",
   "execution_count": 98,
   "id": "d33cd6f6",
   "metadata": {},
   "outputs": [],
   "source": [
    "Three <- read.table(gzfile(\"../data/TRANSANCESTRY_GWAS.TAB.gz\"),header=T,fill=TRUE,row.names=NULL)"
   ]
  },
  {
   "cell_type": "code",
   "execution_count": 99,
   "id": "5cffaba0",
   "metadata": {},
   "outputs": [
    {
     "data": {
      "text/html": [
       "<style>\n",
       ".list-inline {list-style: none; margin:0; padding: 0}\n",
       ".list-inline>li {display: inline-block}\n",
       ".list-inline>li:not(:last-child)::after {content: \"\\00b7\"; padding: 0 .5ex}\n",
       "</style>\n",
       "<ol class=list-inline><li>'MARKERNAME'</li><li>'CHROMOSOME'</li><li>'POSITION'</li><li>'ADIPO_EA'</li><li>'ADIPO_NEA'</li><li>'ADIPO_EAF'</li><li>'ADIPO_N'</li><li>'ADIPO_BETA'</li><li>'ADIPO_SE'</li><li>'ADIPO_PVALUE'</li><li>'AGEN_EA'</li><li>'AGEN_NEA'</li><li>'AGEN_EAF'</li><li>'AGEN_N'</li><li>'AGEN_BETA'</li><li>'AGEN_SE'</li><li>'AGEN_PVALUE'</li><li>'METSIM_EA'</li><li>'METSIM_NEA'</li><li>'METSIM_EAF'</li><li>'METSIM_N'</li><li>'METSIM_BETA'</li><li>'METSIM_SE'</li><li>'METSIM_PVALUE'</li></ol>\n"
      ],
      "text/latex": [
       "\\begin{enumerate*}\n",
       "\\item 'MARKERNAME'\n",
       "\\item 'CHROMOSOME'\n",
       "\\item 'POSITION'\n",
       "\\item 'ADIPO\\_EA'\n",
       "\\item 'ADIPO\\_NEA'\n",
       "\\item 'ADIPO\\_EAF'\n",
       "\\item 'ADIPO\\_N'\n",
       "\\item 'ADIPO\\_BETA'\n",
       "\\item 'ADIPO\\_SE'\n",
       "\\item 'ADIPO\\_PVALUE'\n",
       "\\item 'AGEN\\_EA'\n",
       "\\item 'AGEN\\_NEA'\n",
       "\\item 'AGEN\\_EAF'\n",
       "\\item 'AGEN\\_N'\n",
       "\\item 'AGEN\\_BETA'\n",
       "\\item 'AGEN\\_SE'\n",
       "\\item 'AGEN\\_PVALUE'\n",
       "\\item 'METSIM\\_EA'\n",
       "\\item 'METSIM\\_NEA'\n",
       "\\item 'METSIM\\_EAF'\n",
       "\\item 'METSIM\\_N'\n",
       "\\item 'METSIM\\_BETA'\n",
       "\\item 'METSIM\\_SE'\n",
       "\\item 'METSIM\\_PVALUE'\n",
       "\\end{enumerate*}\n"
      ],
      "text/markdown": [
       "1. 'MARKERNAME'\n",
       "2. 'CHROMOSOME'\n",
       "3. 'POSITION'\n",
       "4. 'ADIPO_EA'\n",
       "5. 'ADIPO_NEA'\n",
       "6. 'ADIPO_EAF'\n",
       "7. 'ADIPO_N'\n",
       "8. 'ADIPO_BETA'\n",
       "9. 'ADIPO_SE'\n",
       "10. 'ADIPO_PVALUE'\n",
       "11. 'AGEN_EA'\n",
       "12. 'AGEN_NEA'\n",
       "13. 'AGEN_EAF'\n",
       "14. 'AGEN_N'\n",
       "15. 'AGEN_BETA'\n",
       "16. 'AGEN_SE'\n",
       "17. 'AGEN_PVALUE'\n",
       "18. 'METSIM_EA'\n",
       "19. 'METSIM_NEA'\n",
       "20. 'METSIM_EAF'\n",
       "21. 'METSIM_N'\n",
       "22. 'METSIM_BETA'\n",
       "23. 'METSIM_SE'\n",
       "24. 'METSIM_PVALUE'\n",
       "\n",
       "\n"
      ],
      "text/plain": [
       " [1] \"MARKERNAME\"    \"CHROMOSOME\"    \"POSITION\"      \"ADIPO_EA\"     \n",
       " [5] \"ADIPO_NEA\"     \"ADIPO_EAF\"     \"ADIPO_N\"       \"ADIPO_BETA\"   \n",
       " [9] \"ADIPO_SE\"      \"ADIPO_PVALUE\"  \"AGEN_EA\"       \"AGEN_NEA\"     \n",
       "[13] \"AGEN_EAF\"      \"AGEN_N\"        \"AGEN_BETA\"     \"AGEN_SE\"      \n",
       "[17] \"AGEN_PVALUE\"   \"METSIM_EA\"     \"METSIM_NEA\"    \"METSIM_EAF\"   \n",
       "[21] \"METSIM_N\"      \"METSIM_BETA\"   \"METSIM_SE\"     \"METSIM_PVALUE\""
      ]
     },
     "metadata": {},
     "output_type": "display_data"
    },
    {
     "data": {
      "text/html": [
       "2197980"
      ],
      "text/latex": [
       "2197980"
      ],
      "text/markdown": [
       "2197980"
      ],
      "text/plain": [
       "[1] 2197980"
      ]
     },
     "metadata": {},
     "output_type": "display_data"
    }
   ],
   "source": [
    "colnames(Three)\n",
    "nrow(Three)"
   ]
  },
  {
   "cell_type": "code",
   "execution_count": null,
   "id": "384b99a0",
   "metadata": {},
   "outputs": [],
   "source": []
  },
  {
   "cell_type": "code",
   "execution_count": 100,
   "id": "65d836df",
   "metadata": {},
   "outputs": [],
   "source": [
    "## ALLELE FLIPPING"
   ]
  },
  {
   "cell_type": "code",
   "execution_count": 101,
   "id": "263c976f",
   "metadata": {},
   "outputs": [],
   "source": [
    "# Seperate out concordant alleles"
   ]
  },
  {
   "cell_type": "code",
   "execution_count": 102,
   "id": "57b7cd88",
   "metadata": {},
   "outputs": [],
   "source": [
    "concordant <- Three%>%filter(ADIPO_EA==METSIM_EA & METSIM_EA==AGEN_EA)"
   ]
  },
  {
   "cell_type": "code",
   "execution_count": 103,
   "id": "da64c9de",
   "metadata": {},
   "outputs": [],
   "source": [
    "# Flip metsim alleles and beta if discordant with adipogen and agen"
   ]
  },
  {
   "cell_type": "code",
   "execution_count": 104,
   "id": "979dd0da",
   "metadata": {},
   "outputs": [],
   "source": [
    " flipped_metsim <- Three%>%filter(!(ADIPO_EA==METSIM_EA & METSIM_EA==AGEN_EA))%>%filter(METSIM_EA!=ADIPO_EA& METSIM_EA!=AGEN_EA)%>%filter(ADIPO_EA==AGEN_EA & ADIPO_NEA== AGEN_NEA)%>%mutate(METSIM_EA_FLIP=METSIM_NEA,\n",
    "METSIM_NEA_FLIP=METSIM_EA,METSIM_BETA=-METSIM_BETA)%>%select(-METSIM_EA,-METSIM_NEA)%>%rename(METSIM_EA=METSIM_EA_FLIP,METSIM_NEA=METSIM_NEA_FLIP)"
   ]
  },
  {
   "cell_type": "code",
   "execution_count": 105,
   "id": "9abec970",
   "metadata": {},
   "outputs": [],
   "source": [
    "# Flip adipo alleles and beta if discordant with metsim and agen"
   ]
  },
  {
   "cell_type": "code",
   "execution_count": 106,
   "id": "7ea367fc",
   "metadata": {},
   "outputs": [],
   "source": [
    "flipped_adipo <- Three%>%filter(!(ADIPO_EA==METSIM_EA & METSIM_EA==AGEN_EA))%>%filter(ADIPO_EA!=AGEN_EA& ADIPO_EA!=METSIM_EA)%>%filter(METSIM_EA==AGEN_EA & METSIM_NEA== AGEN_NEA)%>%\n",
    "mutate(ADIPO_EA_FLIP=ADIPO_NEA,ADIPO_NEA_FLIP=ADIPO_EA,ADIPO_BETA=-ADIPO_BETA)%>%\n",
    "select(-ADIPO_EA,-ADIPO_NEA)%>%rename(ADIPO_EA=ADIPO_EA_FLIP,ADIPO_NEA=ADIPO_NEA_FLIP)"
   ]
  },
  {
   "cell_type": "code",
   "execution_count": 107,
   "id": "9d57f3b8",
   "metadata": {},
   "outputs": [],
   "source": [
    "# Flip agen alleles and beta if discordant with adipo and agen"
   ]
  },
  {
   "cell_type": "code",
   "execution_count": 108,
   "id": "c3eb11ba",
   "metadata": {},
   "outputs": [],
   "source": [
    "flipped_agen <- Three%>%filter(!(ADIPO_EA==METSIM_EA & METSIM_EA==AGEN_EA))%>%filter(ADIPO_EA!=AGEN_EA& AGEN_EA!=METSIM_EA)%>%\n",
    "filter(ADIPO_EA==METSIM_EA & METSIM_NEA== ADIPO_NEA)%>%\n",
    "mutate(AGEN_EA_FLIP=AGEN_NEA,AGEN_NEA_FLIP=AGEN_EA,AGEN_BETA=-AGEN_BETA)%>%\n",
    "select(-AGEN_EA,-AGEN_NEA)%>%rename(AGEN_EA=AGEN_EA_FLIP,AGEN_NEA=AGEN_NEA_FLIP)"
   ]
  },
  {
   "cell_type": "code",
   "execution_count": 109,
   "id": "200e6504",
   "metadata": {},
   "outputs": [],
   "source": [
    "##concatenate all the RSIDS"
   ]
  },
  {
   "cell_type": "code",
   "execution_count": 110,
   "id": "ec8f5b79",
   "metadata": {},
   "outputs": [],
   "source": [
    "META_THREE <- rbind(concordant,flipped_metsim,flipped_adipo,flipped_agen)"
   ]
  },
  {
   "cell_type": "code",
   "execution_count": 111,
   "id": "748d31b2",
   "metadata": {},
   "outputs": [],
   "source": [
    "##Write INFO FIELD"
   ]
  },
  {
   "cell_type": "code",
   "execution_count": 112,
   "id": "85459799",
   "metadata": {},
   "outputs": [],
   "source": [
    "write.table(META_THREE,\"../data/TRANSANCESTRY_GWAS_ALLELECORRECTED.TAB\",row.names=FALSE,quote=FALSE)"
   ]
  },
  {
   "cell_type": "code",
   "execution_count": 113,
   "id": "d3766ebd",
   "metadata": {},
   "outputs": [],
   "source": [
    " META_THREE <- META_THREE%>%filter(ADIPO_EA==METSIM_EA & METSIM_EA==AGEN_EA & ADIPO_NEA==METSIM_NEA & METSIM_NEA==AGEN_NEA)"
   ]
  },
  {
   "cell_type": "code",
   "execution_count": 114,
   "id": "cdf41b75",
   "metadata": {},
   "outputs": [],
   "source": [
    "## Raw input for METAL AND MR-MEGA"
   ]
  },
  {
   "cell_type": "code",
   "execution_count": 115,
   "id": "5e5ee750",
   "metadata": {},
   "outputs": [],
   "source": [
    " Adipo_mrmega <- META_THREE%>%mutate(STRAND=\"+\")%>%select(MARKERNAME,STRAND,CHROMOSOME,POSITION,ADIPO_EA,ADIPO_NEA,ADIPO_EAF,ADIPO_N,ADIPO_BETA,ADIPO_SE,ADIPO_PVALUE)%>%\n",
    "rename(EA=ADIPO_EA,NEA=ADIPO_NEA,EAF=ADIPO_EAF,N=ADIPO_N,BETA=ADIPO_BETA,SE=ADIPO_SE,PVALUE=ADIPO_PVALUE)\n",
    "write.table(Adipo_mrmega,\"../data/TRANSANCESTRY_ADIPOGEN_MRMEGA_RAW.TAB\",row.names=FALSE,quote=FALSE)"
   ]
  },
  {
   "cell_type": "code",
   "execution_count": 116,
   "id": "722697c9",
   "metadata": {},
   "outputs": [],
   "source": [
    " Agen_mrmega <- META_THREE%>%mutate(STRAND=\"+\")%>%select(MARKERNAME,STRAND,CHROMOSOME,POSITION,AGEN_EA,AGEN_NEA,AGEN_EAF,AGEN_N,AGEN_BETA,AGEN_SE,AGEN_PVALUE)%>%\n",
    "rename(EA=AGEN_EA,NEA=AGEN_NEA,EAF=AGEN_EAF,N=AGEN_N,BETA=AGEN_BETA,SE=AGEN_SE,PVALUE=AGEN_PVALUE)\n",
    "write.table(Agen_mrmega,\"../data/TRANSANCESTRY_AGEN_MRMEGA_RAW.TAB\",row.names=FALSE,quote=FALSE)"
   ]
  },
  {
   "cell_type": "code",
   "execution_count": 117,
   "id": "8caafb46",
   "metadata": {},
   "outputs": [],
   "source": [
    " metsim_mrmega <- META_THREE%>%mutate(STRAND=\"+\")%>%select(MARKERNAME,STRAND,CHROMOSOME,POSITION,METSIM_EA,METSIM_NEA,METSIM_EAF,METSIM_N,METSIM_BETA,METSIM_SE,METSIM_PVALUE)%>%\n",
    "rename(EA=METSIM_EA,NEA=METSIM_NEA,EAF=METSIM_EAF,N=METSIM_N,BETA=METSIM_BETA,SE=METSIM_SE,PVALUE=METSIM_PVALUE)\n",
    "write.table(metsim_mrmega,\"../data/TRANSANCESTRY_METSIM_MRMEGA_RAW.TAB\",row.names=FALSE,quote=FALSE)"
   ]
  },
  {
   "cell_type": "code",
   "execution_count": 118,
   "id": "51a7254a",
   "metadata": {},
   "outputs": [],
   "source": [
    "## Raw input for METASOFT"
   ]
  },
  {
   "cell_type": "code",
   "execution_count": 119,
   "id": "b98bf4be",
   "metadata": {},
   "outputs": [],
   "source": [
    "META_SOFT <- META_THREE%>%select(MARKERNAME,ADIPO_BETA,ADIPO_SE,AGEN_BETA,AGEN_SE,METSIM_BETA,METSIM_SE)\n",
    "write.table(META_SOFT,\"../data/TRANSANCESTRY_METASOFT_RAW.TAB\",row.names=FALSE,col.names=FALSE,quote=FALSE)"
   ]
  },
  {
   "cell_type": "code",
   "execution_count": null,
   "id": "1fc741a8",
   "metadata": {},
   "outputs": [],
   "source": []
  },
  {
   "cell_type": "code",
   "execution_count": null,
   "id": "6ee4bb24",
   "metadata": {},
   "outputs": [],
   "source": []
  }
 ],
 "metadata": {
  "kernelspec": {
   "display_name": "R",
   "language": "R",
   "name": "ir"
  },
  "language_info": {
   "codemirror_mode": "r",
   "file_extension": ".r",
   "mimetype": "text/x-r-source",
   "name": "R",
   "pygments_lexer": "r",
   "version": "4.2.0"
  }
 },
 "nbformat": 4,
 "nbformat_minor": 5
}
