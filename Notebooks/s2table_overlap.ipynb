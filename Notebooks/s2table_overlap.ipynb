{
 "cells": [
  {
   "cell_type": "code",
   "execution_count": 62,
   "id": "9075b873",
   "metadata": {},
   "outputs": [],
   "source": [
    "suppressMessages(suppressWarnings(library(tidyverse)))"
   ]
  },
  {
   "cell_type": "code",
   "execution_count": 71,
   "id": "ced24fac",
   "metadata": {},
   "outputs": [],
   "source": [
    "Metasoft_results <-  read.table(\"../../ANALYSIS/META/METASOFT/SECOND_PASS/TRANSANCESTRY_METASOFT_SECONDPASS_RESULTS.TAB\",fill=TRUE,row.names=NULL,header=FALSE)\n",
    "META_THREE <- read.table(gzfile(\"../data/TRANSANCESTRY_GWAS_ALLELECORRECTED.TAB\"),header=T,fill=TRUE,row.names=NULL)\n",
    "colnames(Metasoft_results) <- c(\"MARKERNAME\",\"N\",\"PVALUE_FE\",\"BETA_FE\",\"STD_FE\",\"PVALUE_RE\",\"BETA_RE\",\"STD_RE\",\"PVALUE_RE2\",\"STAT1_RE2\",\"STAT2_RE2\",\"PVALUE_BE\",\"I_SQUARE\",\"Q\",\"PVALUE_Q\",\"TAU_SQUARE\",\n",
    "                                \"PVALUE_ADIPOGEN\",\"PVALUE_AGEN\",\"PVALUE_METSIM\",\"NA1\",\"NA2\",\"NA3\")\n",
    "Metasoft_results <- Metasoft_results%>%filter(MARKERNAME!=\"RSID\")\n",
    "TRANSANCESTRY_RESULTS <- merge(META_THREE,Metasoft_results,by=\"MARKERNAME\")\n",
    "TRANSANCESTRY_RESULTS <- TRANSANCESTRY_RESULTS%>%\n",
    "mutate(TOTAL_N=ceiling(ADIPO_N)+ceiling(AGEN_N)+ceiling(METSIM_N))%>%mutate(MAF_AVG=(ADIPO_EAF*2*ADIPO_N+AGEN_EAF*2*AGEN_N+METSIM_EAF*2*METSIM_N)/(2*TOTAL_N))%>%\n",
    "select(-NA1,-N,-NA2,-NA3)"
   ]
  },
  {
   "cell_type": "code",
   "execution_count": 75,
   "id": "d819dff2",
   "metadata": {},
   "outputs": [],
   "source": [
    "df_rsid <- read.table(\"../../../../Downloads/RSID_table.txt\",fill=TRUE,row.names=NULL,header=FALSE)\n",
    "colnames(df_rsid) <- c(\"MARKERNAME\")\n",
    "df_rsid$id  <- 1:nrow(df_rsid)"
   ]
  },
  {
   "cell_type": "code",
   "execution_count": 77,
   "id": "692c4366",
   "metadata": {},
   "outputs": [],
   "source": [
    "df1<- merge(df_rsid,TRANSANCESTRY_RESULTS,by=\"MARKERNAME\",all.x=TRUE)%>%select(MARKERNAME,MAF_AVG,BETA_FE,STD_FE,PVALUE_FE,TOTAL_N,id)\n",
    "df1 <- df1[order(df1$id), ]"
   ]
  },
  {
   "cell_type": "code",
   "execution_count": 78,
   "id": "53a8a66a",
   "metadata": {},
   "outputs": [],
   "source": [
    "write.table(df1,\"../../../../Downloads/trans_download.txt\",row.names=FALSE,quote=FALSE,sep=\"\\t\")"
   ]
  },
  {
   "cell_type": "code",
   "execution_count": 67,
   "id": "c2912648",
   "metadata": {},
   "outputs": [],
   "source": [
    "#EUR"
   ]
  },
  {
   "cell_type": "code",
   "execution_count": 79,
   "id": "be93f4b1",
   "metadata": {},
   "outputs": [],
   "source": [
    "Metasoft_results <-  read.table(\"../../ANALYSIS/META/METASOFT/SECOND_PASS/EUROPEAN_METASOFT_SECONDPASS_RESULTS.TAB\",fill=TRUE,row.names=NULL,header=FALSE)\n",
    "META_TWO <- read.table(gzfile(\"../data/EUROPEAN_GWAS_ALLELECORRECTED.TAB\"),header=T,fill=TRUE,row.names=NULL)\n",
    "colnames(Metasoft_results) <- c(\"MARKERNAME\",\"N\",\"PVALUE_FE\",\"BETA_FE\",\"STD_FE\",\"PVALUE_RE\",\"BETA_RE\",\"STD_RE\",\"PVALUE_RE2\",\"STAT1_RE2\",\"STAT2_RE2\",\"PVALUE_BE\",\"I_SQUARE\",\"Q\",\"PVALUE_Q\",\"TAU_SQUARE\",\n",
    "                                \"PVALUE_ADIPOGEN\",\"PVALUE_METSIM\",\"NA1\",\"NA2\")\n",
    "Metasoft_results <- Metasoft_results%>%filter(MARKERNAME!=\"RSID\")\n",
    "EUR_RESULTS <- merge(META_TWO,Metasoft_results,by=\"MARKERNAME\")\n",
    "EUR_RESULTS <- EUR_RESULTS%>%mutate(TOTAL_N=ceiling(ADIPO_N)+ceiling(METSIM_N))%>%mutate(MAF_AVG=(ADIPO_EAF*2*ADIPO_N+METSIM_EAF*2*METSIM_N)/(2*TOTAL_N))%>%\n",
    "filter(ADIPO_EAF>0.005)%>%filter(METSIM_EAF>0.005)%>%select(-NA1,-N,-NA2)"
   ]
  },
  {
   "cell_type": "code",
   "execution_count": 84,
   "id": "3133dd23",
   "metadata": {},
   "outputs": [],
   "source": [
    "df2<- merge(df_rsid,EUR_RESULTS,by=\"MARKERNAME\",all.x=TRUE)%>%select(MARKERNAME,MAF_AVG,BETA_FE,STD_FE,PVALUE_FE,TOTAL_N,id)\n",
    "df2 <- df2[order(df2$id), ]"
   ]
  },
  {
   "cell_type": "code",
   "execution_count": 85,
   "id": "084dee5f",
   "metadata": {},
   "outputs": [],
   "source": [
    "write.table(df2,\"../../../../Downloads/eur_download.txt\",row.names=FALSE,quote=FALSE,sep=\"\\t\")"
   ]
  },
  {
   "cell_type": "code",
   "execution_count": null,
   "id": "0f353a6e",
   "metadata": {},
   "outputs": [],
   "source": []
  }
 ],
 "metadata": {
  "kernelspec": {
   "display_name": "R",
   "language": "R",
   "name": "ir"
  },
  "language_info": {
   "codemirror_mode": "r",
   "file_extension": ".r",
   "mimetype": "text/x-r-source",
   "name": "R",
   "pygments_lexer": "r",
   "version": "4.1.2"
  }
 },
 "nbformat": 4,
 "nbformat_minor": 5
}
