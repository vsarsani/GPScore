{
 "cells": [
  {
   "cell_type": "code",
   "execution_count": 1,
   "id": "68549664",
   "metadata": {},
   "outputs": [],
   "source": [
    "suppressMessages(suppressWarnings(library(tidyverse)))"
   ]
  },
  {
   "cell_type": "code",
   "execution_count": null,
   "id": "ce5300d5",
   "metadata": {},
   "outputs": [],
   "source": [
    "##Metsim"
   ]
  },
  {
   "cell_type": "code",
   "execution_count": 7,
   "id": "794a0a56",
   "metadata": {},
   "outputs": [],
   "source": [
    "df_smr <- list.files(\"../../ANALYSIS/SMR/metsim_input\",pattern='*.smr',full.names = TRUE)"
   ]
  },
  {
   "cell_type": "code",
   "execution_count": 10,
   "id": "6863fa73",
   "metadata": {},
   "outputs": [
    {
     "data": {
      "text/html": [
       "'Adipose_Subcutaneous_@chr11-81356.013_11.ma.out'"
      ],
      "text/latex": [
       "'Adipose\\_Subcutaneous\\_@chr11-81356.013\\_11.ma.out'"
      ],
      "text/markdown": [
       "'Adipose_Subcutaneous_@chr11-81356.013_11.ma.out'"
      ],
      "text/plain": [
       "[1] \"Adipose_Subcutaneous_@chr11-81356.013_11.ma.out\""
      ]
     },
     "metadata": {},
     "output_type": "display_data"
    }
   ],
   "source": [
    " tail(str_split(df_smr,\"/|.smr\")[[1]],n=2)[1]"
   ]
  },
  {
   "cell_type": "code",
   "execution_count": 11,
   "id": "0543f5b3",
   "metadata": {},
   "outputs": [],
   "source": [
    "smr_results <- data.frame()\n",
    "\n",
    "for (i in 1:length(df_smr))\n",
    "{\n",
    "    name <-  tail(str_split(df_smr,\"/|.smr\")[[i]],n=2)[1]\n",
    "df  <- read.table(df_smr[i],header=TRUE,fill = TRUE)%>%mutate(filename=name)%>%distinct()\n",
    "smr_results<- rbind(smr_results,df)}"
   ]
  },
  {
   "cell_type": "code",
   "execution_count": 12,
   "id": "18627d65",
   "metadata": {},
   "outputs": [],
   "source": [
    "tmp_df <- arrange(smr_results%>%filter( p_HEIDI >= 0.01 )%>%\n",
    "                  select(probeID,Gene,topSNP,topSNP_chr,topSNP_bp,Freq,p_eQTL,p_GWAS,p_SMR ,p_HEIDI,nsnp_HEIDI,filename),topSNP_chr,topSNP_bp)%>%distinct()"
   ]
  },
  {
   "cell_type": "code",
   "execution_count": 14,
   "id": "70273ea0",
   "metadata": {},
   "outputs": [],
   "source": [
    "write.table(tmp_df,\"../../ANALYSIS/SMR/METSIM_SMR.tab\",row.names=FALSE,quote=FALSE,sep=\"\\t\")"
   ]
  },
  {
   "cell_type": "code",
   "execution_count": null,
   "id": "e070631e",
   "metadata": {},
   "outputs": [],
   "source": []
  },
  {
   "cell_type": "code",
   "execution_count": 31,
   "id": "ce56d0bd",
   "metadata": {},
   "outputs": [],
   "source": [
    "df_smr <- list.files(\"../../ANALYSIS/SMR/eur_IV/\",pattern='*.smr',full.names = TRUE)"
   ]
  },
  {
   "cell_type": "code",
   "execution_count": 32,
   "id": "c519e20c",
   "metadata": {},
   "outputs": [
    {
     "data": {
      "text/html": [
       "'Adipose_Subcutaneous_rs10787516_10.ma_Adipose_Subcutaneous'"
      ],
      "text/latex": [
       "'Adipose\\_Subcutaneous\\_rs10787516\\_10.ma\\_Adipose\\_Subcutaneous'"
      ],
      "text/markdown": [
       "'Adipose_Subcutaneous_rs10787516_10.ma_Adipose_Subcutaneous'"
      ],
      "text/plain": [
       "[1] \"Adipose_Subcutaneous_rs10787516_10.ma_Adipose_Subcutaneous\""
      ]
     },
     "metadata": {},
     "output_type": "display_data"
    }
   ],
   "source": [
    " tail(str_split(df_smr,\"/|.smr\")[[1]],n=2)[1]"
   ]
  },
  {
   "cell_type": "code",
   "execution_count": 33,
   "id": "cfb653d9",
   "metadata": {},
   "outputs": [],
   "source": [
    "smr_results <- data.frame()\n",
    "\n",
    "for (i in 1:length(df_smr))\n",
    "{\n",
    "    name <-  tail(str_split(df_smr,\"/|.smr\")[[i]],n=2)[1]\n",
    "df  <- read.table(df_smr[i],header=TRUE,fill = TRUE)%>%mutate(filename=name)%>%distinct()\n",
    "smr_results<- rbind(smr_results,df)}"
   ]
  },
  {
   "cell_type": "code",
   "execution_count": 34,
   "id": "18dc44e2",
   "metadata": {},
   "outputs": [
    {
     "data": {
      "text/html": [
       "<table class=\"dataframe\">\n",
       "<caption>A data.frame: 2 × 22</caption>\n",
       "<thead>\n",
       "\t<tr><th scope=col>probeID</th><th scope=col>ProbeChr</th><th scope=col>Gene</th><th scope=col>Probe_bp</th><th scope=col>topSNP</th><th scope=col>topSNP_chr</th><th scope=col>topSNP_bp</th><th scope=col>A1</th><th scope=col>A2</th><th scope=col>Freq</th><th scope=col>...</th><th scope=col>p_GWAS</th><th scope=col>b_eQTL</th><th scope=col>se_eQTL</th><th scope=col>p_eQTL</th><th scope=col>b_SMR</th><th scope=col>se_SMR</th><th scope=col>p_SMR</th><th scope=col>p_HEIDI</th><th scope=col>nsnp_HEIDI</th><th scope=col>filename</th></tr>\n",
       "\t<tr><th scope=col>&lt;chr&gt;</th><th scope=col>&lt;int&gt;</th><th scope=col>&lt;chr&gt;</th><th scope=col>&lt;int&gt;</th><th scope=col>&lt;chr&gt;</th><th scope=col>&lt;int&gt;</th><th scope=col>&lt;int&gt;</th><th scope=col>&lt;chr&gt;</th><th scope=col>&lt;chr&gt;</th><th scope=col>&lt;dbl&gt;</th><th scope=col>...</th><th scope=col>&lt;dbl&gt;</th><th scope=col>&lt;dbl&gt;</th><th scope=col>&lt;dbl&gt;</th><th scope=col>&lt;dbl&gt;</th><th scope=col>&lt;dbl&gt;</th><th scope=col>&lt;dbl&gt;</th><th scope=col>&lt;dbl&gt;</th><th scope=col>&lt;dbl&gt;</th><th scope=col>&lt;int&gt;</th><th scope=col>&lt;chr&gt;</th></tr>\n",
       "</thead>\n",
       "<tbody>\n",
       "\t<tr><td>ENSG00000119242</td><td>12</td><td>CCDC92</td><td>124403207</td><td>rs11057401</td><td>12</td><td>124427306</td><td>A</td><td>T</td><td>0.267037</td><td>...</td><td>3.44469e-12</td><td>0.129441</td><td>0.0219922</td><td>3.962086e-09</td><td>0.242574</td><td>0.0539803</td><td>6.998042e-06</td><td>0.01991289</td><td>4</td><td>Muscle_Skeletal_rs601339_12.ma_Muscle_Skeletal </td></tr>\n",
       "\t<tr><td>ENSG00000119242</td><td>12</td><td>CCDC92</td><td>124403207</td><td>rs11057401</td><td>12</td><td>124427306</td><td>A</td><td>T</td><td>0.267037</td><td>...</td><td>3.44469e-12</td><td>0.129441</td><td>0.0219922</td><td>3.962086e-09</td><td>0.242574</td><td>0.0539803</td><td>6.998042e-06</td><td>0.01991289</td><td>4</td><td>Muscle_Skeletal_rs7978610_12.ma_Muscle_Skeletal</td></tr>\n",
       "</tbody>\n",
       "</table>\n"
      ],
      "text/latex": [
       "A data.frame: 2 × 22\n",
       "\\begin{tabular}{lllllllllllllllllllll}\n",
       " probeID & ProbeChr & Gene & Probe\\_bp & topSNP & topSNP\\_chr & topSNP\\_bp & A1 & A2 & Freq & ... & p\\_GWAS & b\\_eQTL & se\\_eQTL & p\\_eQTL & b\\_SMR & se\\_SMR & p\\_SMR & p\\_HEIDI & nsnp\\_HEIDI & filename\\\\\n",
       " <chr> & <int> & <chr> & <int> & <chr> & <int> & <int> & <chr> & <chr> & <dbl> & ... & <dbl> & <dbl> & <dbl> & <dbl> & <dbl> & <dbl> & <dbl> & <dbl> & <int> & <chr>\\\\\n",
       "\\hline\n",
       "\t ENSG00000119242 & 12 & CCDC92 & 124403207 & rs11057401 & 12 & 124427306 & A & T & 0.267037 & ... & 3.44469e-12 & 0.129441 & 0.0219922 & 3.962086e-09 & 0.242574 & 0.0539803 & 6.998042e-06 & 0.01991289 & 4 & Muscle\\_Skeletal\\_rs601339\\_12.ma\\_Muscle\\_Skeletal \\\\\n",
       "\t ENSG00000119242 & 12 & CCDC92 & 124403207 & rs11057401 & 12 & 124427306 & A & T & 0.267037 & ... & 3.44469e-12 & 0.129441 & 0.0219922 & 3.962086e-09 & 0.242574 & 0.0539803 & 6.998042e-06 & 0.01991289 & 4 & Muscle\\_Skeletal\\_rs7978610\\_12.ma\\_Muscle\\_Skeletal\\\\\n",
       "\\end{tabular}\n"
      ],
      "text/markdown": [
       "\n",
       "A data.frame: 2 × 22\n",
       "\n",
       "| probeID &lt;chr&gt; | ProbeChr &lt;int&gt; | Gene &lt;chr&gt; | Probe_bp &lt;int&gt; | topSNP &lt;chr&gt; | topSNP_chr &lt;int&gt; | topSNP_bp &lt;int&gt; | A1 &lt;chr&gt; | A2 &lt;chr&gt; | Freq &lt;dbl&gt; | ... ... | p_GWAS &lt;dbl&gt; | b_eQTL &lt;dbl&gt; | se_eQTL &lt;dbl&gt; | p_eQTL &lt;dbl&gt; | b_SMR &lt;dbl&gt; | se_SMR &lt;dbl&gt; | p_SMR &lt;dbl&gt; | p_HEIDI &lt;dbl&gt; | nsnp_HEIDI &lt;int&gt; | filename &lt;chr&gt; |\n",
       "|---|---|---|---|---|---|---|---|---|---|---|---|---|---|---|---|---|---|---|---|---|\n",
       "| ENSG00000119242 | 12 | CCDC92 | 124403207 | rs11057401 | 12 | 124427306 | A | T | 0.267037 | ... | 3.44469e-12 | 0.129441 | 0.0219922 | 3.962086e-09 | 0.242574 | 0.0539803 | 6.998042e-06 | 0.01991289 | 4 | Muscle_Skeletal_rs601339_12.ma_Muscle_Skeletal  |\n",
       "| ENSG00000119242 | 12 | CCDC92 | 124403207 | rs11057401 | 12 | 124427306 | A | T | 0.267037 | ... | 3.44469e-12 | 0.129441 | 0.0219922 | 3.962086e-09 | 0.242574 | 0.0539803 | 6.998042e-06 | 0.01991289 | 4 | Muscle_Skeletal_rs7978610_12.ma_Muscle_Skeletal |\n",
       "\n"
      ],
      "text/plain": [
       "  probeID         ProbeChr Gene   Probe_bp  topSNP     topSNP_chr topSNP_bp A1\n",
       "1 ENSG00000119242 12       CCDC92 124403207 rs11057401 12         124427306 A \n",
       "2 ENSG00000119242 12       CCDC92 124403207 rs11057401 12         124427306 A \n",
       "  A2 Freq     ... p_GWAS      b_eQTL   se_eQTL   p_eQTL       b_SMR   \n",
       "1 T  0.267037 ... 3.44469e-12 0.129441 0.0219922 3.962086e-09 0.242574\n",
       "2 T  0.267037 ... 3.44469e-12 0.129441 0.0219922 3.962086e-09 0.242574\n",
       "  se_SMR    p_SMR        p_HEIDI    nsnp_HEIDI\n",
       "1 0.0539803 6.998042e-06 0.01991289 4         \n",
       "2 0.0539803 6.998042e-06 0.01991289 4         \n",
       "  filename                                       \n",
       "1 Muscle_Skeletal_rs601339_12.ma_Muscle_Skeletal \n",
       "2 Muscle_Skeletal_rs7978610_12.ma_Muscle_Skeletal"
      ]
     },
     "metadata": {},
     "output_type": "display_data"
    }
   ],
   "source": [
    "smr_results%>%filter(topSNP==\"rs11057401\")%>% distinct()"
   ]
  },
  {
   "cell_type": "code",
   "execution_count": 35,
   "id": "8def1e90",
   "metadata": {},
   "outputs": [],
   "source": [
    "tmp_df <- arrange(smr_results%>%filter( p_HEIDI >= 0.01 )%>%\n",
    "                  select(probeID,Gene,topSNP,topSNP_chr,topSNP_bp,Freq,p_eQTL,p_GWAS,p_SMR ,p_HEIDI,nsnp_HEIDI,filename),topSNP_chr,topSNP_bp)%>%distinct()"
   ]
  },
  {
   "cell_type": "code",
   "execution_count": 36,
   "id": "01ebc893",
   "metadata": {},
   "outputs": [],
   "source": [
    "write.table(tmp_df,\"../../ANALYSIS/SMR/Eur_ancestry_SMR.tab\",row.names=FALSE,quote=FALSE,sep=\"\\t\")"
   ]
  },
  {
   "cell_type": "code",
   "execution_count": null,
   "id": "0489035b",
   "metadata": {},
   "outputs": [],
   "source": []
  }
 ],
 "metadata": {
  "kernelspec": {
   "display_name": "R",
   "language": "R",
   "name": "ir"
  },
  "language_info": {
   "codemirror_mode": "r",
   "file_extension": ".r",
   "mimetype": "text/x-r-source",
   "name": "R",
   "pygments_lexer": "r",
   "version": "4.1.2"
  }
 },
 "nbformat": 4,
 "nbformat_minor": 5
}
