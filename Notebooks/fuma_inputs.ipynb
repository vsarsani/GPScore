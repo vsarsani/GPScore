{
 "cells": [
  {
   "cell_type": "code",
   "execution_count": 1,
   "id": "8efedeb4",
   "metadata": {},
   "outputs": [],
   "source": [
    "suppressMessages(suppressWarnings(library(tidyverse)))"
   ]
  },
  {
   "cell_type": "code",
   "execution_count": 2,
   "id": "ac45041a",
   "metadata": {},
   "outputs": [],
   "source": [
    "## TRANS"
   ]
  },
  {
   "cell_type": "code",
   "execution_count": 12,
   "id": "7fefaf85",
   "metadata": {},
   "outputs": [],
   "source": [
    "Metasoft_results <-  read.table(\"../../ANALYSIS/META/METASOFT/SECOND_PASS/TRANSANCESTRY_METASOFT_SECONDPASS_RESULTS.TAB\",fill=TRUE,row.names=NULL,header=FALSE)\n",
    "META_THREE <- read.table(gzfile(\"../data/TRANSANCESTRY_GWAS_ALLELECORRECTED.TAB\"),header=T,fill=TRUE,row.names=NULL)\n",
    "colnames(Metasoft_results) <- c(\"MARKERNAME\",\"N\",\"PVALUE_FE\",\"BETA_FE\",\"STD_FE\",\"PVALUE_RE\",\"BETA_RE\",\"STD_RE\",\"PVALUE_RE2\",\"STAT1_RE2\",\"STAT2_RE2\",\"PVALUE_BE\",\"I_SQUARE\",\"Q\",\"PVALUE_Q\",\"TAU_SQUARE\",\n",
    "                                \"PVALUE_ADIPOGEN\",\"PVALUE_AGEN\",\"PVALUE_METSIM\",\"NA1\",\"NA2\",\"NA3\")\n",
    "Metasoft_results <- Metasoft_results%>%filter(MARKERNAME!=\"RSID\")\n",
    "TRANSANCESTRY_RESULTS <- merge(META_THREE,Metasoft_results,by=\"MARKERNAME\")\n",
    "TRANSANCESTRY_RESULTS <- TRANSANCESTRY_RESULTS%>%mutate(TOTAL_N=ceiling(ADIPO_N)+ceiling(AGEN_N)+ceiling(METSIM_N))%>%mutate(MAF_AVG=(ADIPO_EAF*2*ADIPO_N+AGEN_EAF*2*AGEN_N+METSIM_EAF*2*METSIM_N)/(2*TOTAL_N))%>%\n",
    "filter(ADIPO_EAF>0.005)%>%filter(AGEN_EAF>0.005)%>%filter(METSIM_EAF>0.005)%>%select(-NA1,-N,-NA2,-NA3)%>%select(CHROMOSOME,POSITION,MARKERNAME,PVALUE_FE,METSIM_EA,METSIM_NEA,BETA_FE,STD_FE,TOTAL_N)\n",
    "write.table(TRANSANCESTRY_RESULTS,\"../../ANALYSIS/FUMA/TRANS_ALL_INPUT.TAB\",sep = \"\\t\",row.names=FALSE,quote=FALSE)"
   ]
  },
  {
   "cell_type": "code",
   "execution_count": 13,
   "id": "159a1268",
   "metadata": {},
   "outputs": [],
   "source": [
    "lead <- read.table(\"../../ANALYSIS/lead_transancestry_3mb_merged.txt\",fill=TRUE,header=TRUE)\n",
    "output_df <- merge(TRANSANCESTRY_RESULTS,lead)%>%select(CHROMOSOME,POSITION,MARKERNAME,PVALUE_FE,METSIM_EA,METSIM_NEA,BETA_FE,STD_FE,TOTAL_N)"
   ]
  },
  {
   "cell_type": "code",
   "execution_count": 14,
   "id": "e01a46b9",
   "metadata": {},
   "outputs": [],
   "source": [
    "lead_variants <- data.frame()\n",
    "\n",
    "for (i in 1:nrow(lead) ){\n",
    "   \n",
    "line_q <- lead[i,]\n",
    "chr_q <- as.integer(line_q[1])\n",
    "start_q<- as.integer(line_q[2])\n",
    "end_q <- as.integer(line_q[3])\n",
    "\n",
    "tmp_df <- output_df%>%filter(CHROMOSOME==chr_q & POSITION >= start_q & POSITION <= end_q)%>% distinct()\n",
    "lead_variants  <- rbind(lead_variants,tmp_df)\n",
    "}"
   ]
  },
  {
   "cell_type": "code",
   "execution_count": 15,
   "id": "49f1e947",
   "metadata": {},
   "outputs": [],
   "source": [
    "write.table(lead_variants,\"../../ANALYSIS/FUMA/FUMA_TRANS_INPUT.TAB\",row.names=FALSE,quote=FALSE,sep=\"\\t\")"
   ]
  },
  {
   "cell_type": "code",
   "execution_count": null,
   "id": "8a903fa4",
   "metadata": {},
   "outputs": [],
   "source": [
    "##VEGAS2 INPUT"
   ]
  },
  {
   "cell_type": "code",
   "execution_count": 13,
   "id": "19c74727",
   "metadata": {},
   "outputs": [],
   "source": [
    "VEGAS_TRANS <- TRANSANCESTRY_RESULTS%>%select(MARKERNAME,PVALUE_FE)\n",
    "write.table(VEGAS_TRANS,\"../../ANALYSIS/FUMA/TRANS_VEGAS_INPUT.TAB\",sep = \"\\t\",row.names=FALSE,quote=FALSE)"
   ]
  },
  {
   "cell_type": "code",
   "execution_count": null,
   "id": "6691bfc9",
   "metadata": {},
   "outputs": [],
   "source": [
    "# TRANS LEAD "
   ]
  },
  {
   "cell_type": "code",
   "execution_count": 6,
   "id": "503898ad",
   "metadata": {},
   "outputs": [],
   "source": [
    "trans_lead <-  read.table(\"../../ANALYSIS/TRANSANCESTRY_LEAD.TAB\",fill=TRUE,row.names=NULL,header=TRUE)%>%select(MARKERNAME,CHROMOSOME,POSITION)\n",
    "write.table(trans_lead,\"../../ANALYSIS/FUMA/TRANS_LEAD.TAB\",sep = \"\\t\",row.names=FALSE,quote=FALSE)"
   ]
  },
  {
   "cell_type": "code",
   "execution_count": null,
   "id": "17d4ce26",
   "metadata": {},
   "outputs": [],
   "source": [
    "## EUR"
   ]
  },
  {
   "cell_type": "code",
   "execution_count": 16,
   "id": "3134ab65",
   "metadata": {},
   "outputs": [],
   "source": [
    "Metasoft_results <-  read.table(\"../../ANALYSIS/META/METASOFT/SECOND_PASS/EUROPEAN_METASOFT_SECONDPASS_RESULTS.TAB\",fill=TRUE,row.names=NULL,header=FALSE)\n",
    "META_TWO <- read.table(gzfile(\"../data/EUROPEAN_GWAS_ALLELECORRECTED.TAB\"),header=T,fill=TRUE,row.names=NULL)\n",
    "colnames(Metasoft_results) <- c(\"MARKERNAME\",\"N\",\"PVALUE_FE\",\"BETA_FE\",\"STD_FE\",\"PVALUE_RE\",\"BETA_RE\",\"STD_RE\",\"PVALUE_RE2\",\"STAT1_RE2\",\"STAT2_RE2\",\"PVALUE_BE\",\"I_SQUARE\",\"Q\",\"PVALUE_Q\",\"TAU_SQUARE\",\n",
    "                                \"PVALUE_ADIPOGEN\",\"PVALUE_METSIM\",\"NA1\",\"NA2\")\n",
    "Metasoft_results <- Metasoft_results%>%filter(MARKERNAME!=\"RSID\")\n",
    "EUR_RESULTS <- merge(META_TWO,Metasoft_results,by=\"MARKERNAME\")\n",
    "EUR_RESULTS <- EUR_RESULTS%>%mutate(TOTAL_N=ceiling(ADIPO_N)+ceiling(METSIM_N))%>%mutate(MAF_AVG=(ADIPO_EAF*2*ADIPO_N+METSIM_EAF*2*METSIM_N)/(2*TOTAL_N))%>%\n",
    "filter(ADIPO_EAF>0.005)%>%filter(METSIM_EAF>0.005)%>%select(-NA1,-N,-NA2)%>%select(CHROMOSOME,POSITION,MARKERNAME,PVALUE_FE,METSIM_EA,METSIM_NEA,BETA_FE,STD_FE,TOTAL_N)\n",
    "write.table(EUR_RESULTS,\"../../ANALYSIS/FUMA/EUR_ALL_INPUT.TAB\",sep = \"\\t\",row.names=FALSE,quote=FALSE)"
   ]
  },
  {
   "cell_type": "code",
   "execution_count": 17,
   "id": "ee655b2a",
   "metadata": {},
   "outputs": [],
   "source": [
    "lead <- read.table(\"../../ANALYSIS/lead_european_3mb_merged.txt\",fill=TRUE,header=TRUE)\n",
    "output_df <- merge(TRANSANCESTRY_RESULTS,lead)%>%select(CHROMOSOME,POSITION,MARKERNAME,PVALUE_FE,METSIM_EA,METSIM_NEA,BETA_FE,STD_FE,TOTAL_N)"
   ]
  },
  {
   "cell_type": "code",
   "execution_count": 18,
   "id": "860dd6bf",
   "metadata": {},
   "outputs": [],
   "source": [
    "lead_variants <- data.frame()\n",
    "\n",
    "for (i in 1:nrow(lead) ){\n",
    "   \n",
    "line_q <- lead[i,]\n",
    "chr_q <- as.integer(line_q[1])\n",
    "start_q<- as.integer(line_q[2])\n",
    "end_q <- as.integer(line_q[3])\n",
    "\n",
    "tmp_df <- output_df%>%filter(CHROMOSOME==chr_q & POSITION >= start_q & POSITION <= end_q)%>% distinct()\n",
    "lead_variants  <- rbind(lead_variants,tmp_df)\n",
    "}"
   ]
  },
  {
   "cell_type": "code",
   "execution_count": 19,
   "id": "99ec6405",
   "metadata": {},
   "outputs": [],
   "source": [
    "write.table(lead_variants,\"../../ANALYSIS/FUMA/FUMA_EUR_INPUT.TAB\",row.names=FALSE,quote=FALSE,sep=\"\\t\")"
   ]
  },
  {
   "cell_type": "code",
   "execution_count": null,
   "id": "1e3c5fac",
   "metadata": {},
   "outputs": [],
   "source": []
  },
  {
   "cell_type": "code",
   "execution_count": null,
   "id": "b6e7df93",
   "metadata": {},
   "outputs": [],
   "source": [
    "##VEGAS2 INPUT"
   ]
  },
  {
   "cell_type": "code",
   "execution_count": 14,
   "id": "cac82177",
   "metadata": {},
   "outputs": [],
   "source": [
    "VEGAS_EUR <- EUR_RESULTS%>%select(MARKERNAME,PVALUE_FE)\n",
    "write.table(VEGAS_EUR,\"../../ANALYSIS/FUMA/EUR_VEGAS_INPUT.TAB\",sep = \"\\t\",row.names=FALSE,quote=FALSE)"
   ]
  },
  {
   "cell_type": "code",
   "execution_count": 9,
   "id": "42692fae",
   "metadata": {},
   "outputs": [],
   "source": [
    "## EUR LEAD"
   ]
  },
  {
   "cell_type": "code",
   "execution_count": 10,
   "id": "3414fbb4",
   "metadata": {},
   "outputs": [],
   "source": [
    "eur_lead <-  read.table(\"../../ANALYSIS/EUROPEAN_LEAD.TAB\",fill=TRUE,row.names=NULL,header=TRUE)%>%select(MARKERNAME,CHROMOSOME,POSITION)\n",
    "write.table(trans_lead,\"../../ANALYSIS/FUMA/EUR_LEAD.TAB\",sep = \"\\t\",row.names=FALSE,quote=FALSE)"
   ]
  },
  {
   "cell_type": "code",
   "execution_count": null,
   "id": "2be7129f",
   "metadata": {},
   "outputs": [],
   "source": []
  }
 ],
 "metadata": {
  "kernelspec": {
   "display_name": "R",
   "language": "R",
   "name": "ir"
  },
  "language_info": {
   "codemirror_mode": "r",
   "file_extension": ".r",
   "mimetype": "text/x-r-source",
   "name": "R",
   "pygments_lexer": "r",
   "version": "4.1.2"
  }
 },
 "nbformat": 4,
 "nbformat_minor": 5
}
