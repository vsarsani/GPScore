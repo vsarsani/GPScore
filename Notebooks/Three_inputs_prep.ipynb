{
 "cells": [
  {
   "cell_type": "code",
   "execution_count": 1,
   "id": "20f9cd33",
   "metadata": {},
   "outputs": [],
   "source": [
    "suppressMessages(suppressWarnings(library(tidyverse)))"
   ]
  },
  {
   "cell_type": "code",
   "execution_count": 2,
   "id": "b25864e3",
   "metadata": {},
   "outputs": [],
   "source": [
    "META_THREE <- read.table(\"../data/TRANSANCESTRY_GWAS_ALLELECORRECTED.TAB\",header=T,fill=TRUE,row.names=NULL)"
   ]
  },
  {
   "cell_type": "code",
   "execution_count": 3,
   "id": "0cf0c850",
   "metadata": {},
   "outputs": [
    {
     "data": {
      "text/html": [
       "<table class=\"dataframe\">\n",
       "<caption>A data.frame: 6 × 24</caption>\n",
       "<thead>\n",
       "\t<tr><th></th><th scope=col>MARKERNAME</th><th scope=col>CHROMOSOME</th><th scope=col>POSITION</th><th scope=col>ADIPO_EA</th><th scope=col>ADIPO_NEA</th><th scope=col>ADIPO_EAF</th><th scope=col>ADIPO_N</th><th scope=col>ADIPO_BETA</th><th scope=col>ADIPO_SE</th><th scope=col>ADIPO_PVALUE</th><th scope=col>...</th><th scope=col>AGEN_BETA</th><th scope=col>AGEN_SE</th><th scope=col>AGEN_PVALUE</th><th scope=col>METSIM_EA</th><th scope=col>METSIM_NEA</th><th scope=col>METSIM_EAF</th><th scope=col>METSIM_N</th><th scope=col>METSIM_BETA</th><th scope=col>METSIM_SE</th><th scope=col>METSIM_PVALUE</th></tr>\n",
       "\t<tr><th></th><th scope=col>&lt;chr&gt;</th><th scope=col>&lt;int&gt;</th><th scope=col>&lt;int&gt;</th><th scope=col>&lt;chr&gt;</th><th scope=col>&lt;chr&gt;</th><th scope=col>&lt;dbl&gt;</th><th scope=col>&lt;int&gt;</th><th scope=col>&lt;dbl&gt;</th><th scope=col>&lt;dbl&gt;</th><th scope=col>&lt;dbl&gt;</th><th scope=col>...</th><th scope=col>&lt;dbl&gt;</th><th scope=col>&lt;dbl&gt;</th><th scope=col>&lt;dbl&gt;</th><th scope=col>&lt;chr&gt;</th><th scope=col>&lt;chr&gt;</th><th scope=col>&lt;dbl&gt;</th><th scope=col>&lt;int&gt;</th><th scope=col>&lt;dbl&gt;</th><th scope=col>&lt;dbl&gt;</th><th scope=col>&lt;dbl&gt;</th></tr>\n",
       "</thead>\n",
       "<tbody>\n",
       "\t<tr><th scope=row>1</th><td>rs10000017</td><td>4</td><td> 84778125</td><td>T</td><td>C</td><td>0.22320</td><td>29230</td><td>-0.003433</td><td>0.005454</td><td>0.5416628</td><td>...</td><td>-0.1790</td><td>0.0761</td><td>0.01871</td><td>T</td><td>C</td><td>0.23253</td><td>9236</td><td> 0.045910</td><td>0.01781</td><td>0.00995</td></tr>\n",
       "\t<tr><th scope=row>2</th><td>rs1000002 </td><td>3</td><td>183635768</td><td>T</td><td>C</td><td>0.47500</td><td>29335</td><td>-0.002754</td><td>0.004301</td><td>0.5347318</td><td>...</td><td> 0.0188</td><td>0.0145</td><td>0.19360</td><td>T</td><td>C</td><td>0.39411</td><td>9236</td><td> 0.006938</td><td>0.01552</td><td>0.65490</td></tr>\n",
       "\t<tr><th scope=row>3</th><td>rs10000023</td><td>4</td><td> 95733906</td><td>T</td><td>G</td><td>0.40830</td><td>29339</td><td> 0.000369</td><td>0.004491</td><td>0.9365264</td><td>...</td><td> 0.0002</td><td>0.0151</td><td>0.98940</td><td>T</td><td>G</td><td>0.38454</td><td>9236</td><td>-0.020860</td><td>0.01533</td><td>0.17360</td></tr>\n",
       "\t<tr><th scope=row>4</th><td>rs10000036</td><td>4</td><td>139219262</td><td>T</td><td>C</td><td>0.48150</td><td>29219</td><td>-0.007643</td><td>0.004423</td><td>0.0937771</td><td>...</td><td> 0.0258</td><td>0.0147</td><td>0.07850</td><td>T</td><td>C</td><td>0.40017</td><td>9236</td><td> 0.003430</td><td>0.01545</td><td>0.82430</td></tr>\n",
       "\t<tr><th scope=row>5</th><td>rs10000041</td><td>4</td><td>165621955</td><td>T</td><td>G</td><td>0.06780</td><td>29264</td><td> 0.004084</td><td>0.006830</td><td>0.5620630</td><td>...</td><td> 0.0098</td><td>0.0198</td><td>0.62040</td><td>T</td><td>G</td><td>0.19413</td><td>9236</td><td>-0.000210</td><td>0.01894</td><td>0.99120</td></tr>\n",
       "\t<tr><th scope=row>6</th><td>rs10000042</td><td>4</td><td>  5237152</td><td>T</td><td>C</td><td>0.04167</td><td>29330</td><td>-0.012786</td><td>0.010627</td><td>0.2433532</td><td>...</td><td>-0.0227</td><td>0.0241</td><td>0.34630</td><td>T</td><td>C</td><td>0.11014</td><td>9236</td><td>-0.027380</td><td>0.02395</td><td>0.25300</td></tr>\n",
       "</tbody>\n",
       "</table>\n"
      ],
      "text/latex": [
       "A data.frame: 6 × 24\n",
       "\\begin{tabular}{r|lllllllllllllllllllll}\n",
       "  & MARKERNAME & CHROMOSOME & POSITION & ADIPO\\_EA & ADIPO\\_NEA & ADIPO\\_EAF & ADIPO\\_N & ADIPO\\_BETA & ADIPO\\_SE & ADIPO\\_PVALUE & ... & AGEN\\_BETA & AGEN\\_SE & AGEN\\_PVALUE & METSIM\\_EA & METSIM\\_NEA & METSIM\\_EAF & METSIM\\_N & METSIM\\_BETA & METSIM\\_SE & METSIM\\_PVALUE\\\\\n",
       "  & <chr> & <int> & <int> & <chr> & <chr> & <dbl> & <int> & <dbl> & <dbl> & <dbl> & ... & <dbl> & <dbl> & <dbl> & <chr> & <chr> & <dbl> & <int> & <dbl> & <dbl> & <dbl>\\\\\n",
       "\\hline\n",
       "\t1 & rs10000017 & 4 &  84778125 & T & C & 0.22320 & 29230 & -0.003433 & 0.005454 & 0.5416628 & ... & -0.1790 & 0.0761 & 0.01871 & T & C & 0.23253 & 9236 &  0.045910 & 0.01781 & 0.00995\\\\\n",
       "\t2 & rs1000002  & 3 & 183635768 & T & C & 0.47500 & 29335 & -0.002754 & 0.004301 & 0.5347318 & ... &  0.0188 & 0.0145 & 0.19360 & T & C & 0.39411 & 9236 &  0.006938 & 0.01552 & 0.65490\\\\\n",
       "\t3 & rs10000023 & 4 &  95733906 & T & G & 0.40830 & 29339 &  0.000369 & 0.004491 & 0.9365264 & ... &  0.0002 & 0.0151 & 0.98940 & T & G & 0.38454 & 9236 & -0.020860 & 0.01533 & 0.17360\\\\\n",
       "\t4 & rs10000036 & 4 & 139219262 & T & C & 0.48150 & 29219 & -0.007643 & 0.004423 & 0.0937771 & ... &  0.0258 & 0.0147 & 0.07850 & T & C & 0.40017 & 9236 &  0.003430 & 0.01545 & 0.82430\\\\\n",
       "\t5 & rs10000041 & 4 & 165621955 & T & G & 0.06780 & 29264 &  0.004084 & 0.006830 & 0.5620630 & ... &  0.0098 & 0.0198 & 0.62040 & T & G & 0.19413 & 9236 & -0.000210 & 0.01894 & 0.99120\\\\\n",
       "\t6 & rs10000042 & 4 &   5237152 & T & C & 0.04167 & 29330 & -0.012786 & 0.010627 & 0.2433532 & ... & -0.0227 & 0.0241 & 0.34630 & T & C & 0.11014 & 9236 & -0.027380 & 0.02395 & 0.25300\\\\\n",
       "\\end{tabular}\n"
      ],
      "text/markdown": [
       "\n",
       "A data.frame: 6 × 24\n",
       "\n",
       "| <!--/--> | MARKERNAME &lt;chr&gt; | CHROMOSOME &lt;int&gt; | POSITION &lt;int&gt; | ADIPO_EA &lt;chr&gt; | ADIPO_NEA &lt;chr&gt; | ADIPO_EAF &lt;dbl&gt; | ADIPO_N &lt;int&gt; | ADIPO_BETA &lt;dbl&gt; | ADIPO_SE &lt;dbl&gt; | ADIPO_PVALUE &lt;dbl&gt; | ... ... | AGEN_BETA &lt;dbl&gt; | AGEN_SE &lt;dbl&gt; | AGEN_PVALUE &lt;dbl&gt; | METSIM_EA &lt;chr&gt; | METSIM_NEA &lt;chr&gt; | METSIM_EAF &lt;dbl&gt; | METSIM_N &lt;int&gt; | METSIM_BETA &lt;dbl&gt; | METSIM_SE &lt;dbl&gt; | METSIM_PVALUE &lt;dbl&gt; |\n",
       "|---|---|---|---|---|---|---|---|---|---|---|---|---|---|---|---|---|---|---|---|---|---|\n",
       "| 1 | rs10000017 | 4 |  84778125 | T | C | 0.22320 | 29230 | -0.003433 | 0.005454 | 0.5416628 | ... | -0.1790 | 0.0761 | 0.01871 | T | C | 0.23253 | 9236 |  0.045910 | 0.01781 | 0.00995 |\n",
       "| 2 | rs1000002  | 3 | 183635768 | T | C | 0.47500 | 29335 | -0.002754 | 0.004301 | 0.5347318 | ... |  0.0188 | 0.0145 | 0.19360 | T | C | 0.39411 | 9236 |  0.006938 | 0.01552 | 0.65490 |\n",
       "| 3 | rs10000023 | 4 |  95733906 | T | G | 0.40830 | 29339 |  0.000369 | 0.004491 | 0.9365264 | ... |  0.0002 | 0.0151 | 0.98940 | T | G | 0.38454 | 9236 | -0.020860 | 0.01533 | 0.17360 |\n",
       "| 4 | rs10000036 | 4 | 139219262 | T | C | 0.48150 | 29219 | -0.007643 | 0.004423 | 0.0937771 | ... |  0.0258 | 0.0147 | 0.07850 | T | C | 0.40017 | 9236 |  0.003430 | 0.01545 | 0.82430 |\n",
       "| 5 | rs10000041 | 4 | 165621955 | T | G | 0.06780 | 29264 |  0.004084 | 0.006830 | 0.5620630 | ... |  0.0098 | 0.0198 | 0.62040 | T | G | 0.19413 | 9236 | -0.000210 | 0.01894 | 0.99120 |\n",
       "| 6 | rs10000042 | 4 |   5237152 | T | C | 0.04167 | 29330 | -0.012786 | 0.010627 | 0.2433532 | ... | -0.0227 | 0.0241 | 0.34630 | T | C | 0.11014 | 9236 | -0.027380 | 0.02395 | 0.25300 |\n",
       "\n"
      ],
      "text/plain": [
       "  MARKERNAME CHROMOSOME POSITION  ADIPO_EA ADIPO_NEA ADIPO_EAF ADIPO_N\n",
       "1 rs10000017 4           84778125 T        C         0.22320   29230  \n",
       "2 rs1000002  3          183635768 T        C         0.47500   29335  \n",
       "3 rs10000023 4           95733906 T        G         0.40830   29339  \n",
       "4 rs10000036 4          139219262 T        C         0.48150   29219  \n",
       "5 rs10000041 4          165621955 T        G         0.06780   29264  \n",
       "6 rs10000042 4            5237152 T        C         0.04167   29330  \n",
       "  ADIPO_BETA ADIPO_SE ADIPO_PVALUE ... AGEN_BETA AGEN_SE AGEN_PVALUE METSIM_EA\n",
       "1 -0.003433  0.005454 0.5416628    ... -0.1790   0.0761  0.01871     T        \n",
       "2 -0.002754  0.004301 0.5347318    ...  0.0188   0.0145  0.19360     T        \n",
       "3  0.000369  0.004491 0.9365264    ...  0.0002   0.0151  0.98940     T        \n",
       "4 -0.007643  0.004423 0.0937771    ...  0.0258   0.0147  0.07850     T        \n",
       "5  0.004084  0.006830 0.5620630    ...  0.0098   0.0198  0.62040     T        \n",
       "6 -0.012786  0.010627 0.2433532    ... -0.0227   0.0241  0.34630     T        \n",
       "  METSIM_NEA METSIM_EAF METSIM_N METSIM_BETA METSIM_SE METSIM_PVALUE\n",
       "1 C          0.23253    9236      0.045910   0.01781   0.00995      \n",
       "2 C          0.39411    9236      0.006938   0.01552   0.65490      \n",
       "3 G          0.38454    9236     -0.020860   0.01533   0.17360      \n",
       "4 C          0.40017    9236      0.003430   0.01545   0.82430      \n",
       "5 G          0.19413    9236     -0.000210   0.01894   0.99120      \n",
       "6 C          0.11014    9236     -0.027380   0.02395   0.25300      "
      ]
     },
     "metadata": {},
     "output_type": "display_data"
    }
   ],
   "source": [
    "head(META_THREE)"
   ]
  },
  {
   "cell_type": "code",
   "execution_count": null,
   "id": "f7b2686c",
   "metadata": {},
   "outputs": [],
   "source": [
    "# First Pass RSID"
   ]
  },
  {
   "cell_type": "code",
   "execution_count": 4,
   "id": "ff9cef0a",
   "metadata": {},
   "outputs": [],
   "source": [
    "RSID_THREE <- read.table(\"../../ANALYSIS/META/METASOFT/SECOND_PASS/TRANSANCESTRY_RSIDS_FIRSTPASS.TAB\",fill=TRUE,row.names=NULL)\n",
    "colnames(RSID_THREE) <- \"MARKERNAME\""
   ]
  },
  {
   "cell_type": "code",
   "execution_count": null,
   "id": "d7944078",
   "metadata": {},
   "outputs": [],
   "source": [
    "## Prepare Input"
   ]
  },
  {
   "cell_type": "code",
   "execution_count": 8,
   "id": "6c1257a5",
   "metadata": {},
   "outputs": [],
   "source": [
    "TRANS_SECONDPASS <- merge(META_THREE,RSID_THREE,by=\"MARKERNAME\")%>%select(MARKERNAME,ADIPO_BETA,ADIPO_SE,AGEN_BETA,AGEN_SE,METSIM_BETA,METSIM_SE)"
   ]
  },
  {
   "cell_type": "code",
   "execution_count": 9,
   "id": "e16f7e85",
   "metadata": {},
   "outputs": [],
   "source": [
    "write.table(TRANS_SECONDPASS,\"../data/TRANSANCESTRY_METASOFT_SECONDPASS.TAB\",row.names=FALSE,col.names=FALSE,quote=FALSE)\n",
    "write.table(TRANS_SECONDPASS,\"../../ANALYSIS/META/METASOFT/SECOND_PASS/TRANSANCESTRY_METASOFT_SECONDPASS.TAB\",row.names=FALSE,col.names=FALSE,quote=FALSE)"
   ]
  },
  {
   "cell_type": "code",
   "execution_count": null,
   "id": "17fbc4ce",
   "metadata": {},
   "outputs": [],
   "source": []
  },
  {
   "cell_type": "code",
   "execution_count": null,
   "id": "9e70a791",
   "metadata": {},
   "outputs": [],
   "source": [
    "#### Prepare Final Results "
   ]
  },
  {
   "cell_type": "code",
   "execution_count": 18,
   "id": "61490754",
   "metadata": {},
   "outputs": [],
   "source": [
    "Metasoft_results <-  read.table(\"../../ANALYSIS/META/METASOFT/SECOND_PASS/TRANSANCESTRY_METASOFT_SECONDPASS_RESULTS.TAB\",fill=TRUE,row.names=NULL,header=FALSE)"
   ]
  },
  {
   "cell_type": "code",
   "execution_count": 19,
   "id": "6f3b0e49",
   "metadata": {},
   "outputs": [],
   "source": [
    "colnames(Metasoft_results) <- c(\"MARKERNAME\",\"N\",\"PVALUE_FE\",\"BETA_FE\",\"STD_FE\",\"PVALUE_RE\",\"BETA_RE\",\"STD_RE\",\"PVALUE_RE2\",\"STAT1_RE2\",\"STAT2_RE2\",\"PVALUE_BE\",\"I_SQUARE\",\"Q\",\"PVALUE_Q\",\"TAU_SQUARE\",\n",
    "                                \"PVALUE_ADIPOGEN\",\"PVALUE_AGEN\",\"PVALUE_METSIM\",\"NA1\",\"NA2\",\"NA3\")\n",
    "Metasoft_results <- Metasoft_results%>%filter(MARKERNAME!=\"RSID\")"
   ]
  },
  {
   "cell_type": "code",
   "execution_count": 21,
   "id": "f078df29",
   "metadata": {},
   "outputs": [
    {
     "data": {
      "text/html": [
       "161136"
      ],
      "text/latex": [
       "161136"
      ],
      "text/markdown": [
       "161136"
      ],
      "text/plain": [
       "[1] 161136"
      ]
     },
     "metadata": {},
     "output_type": "display_data"
    }
   ],
   "source": [
    "nrow(Metasoft_results)"
   ]
  },
  {
   "cell_type": "code",
   "execution_count": 37,
   "id": "4c5a8bf9",
   "metadata": {},
   "outputs": [],
   "source": [
    "TRANSANCESTRY_RESULTS <- merge(META_THREE,Metasoft_results,by=\"MARKERNAME\")"
   ]
  },
  {
   "cell_type": "code",
   "execution_count": 38,
   "id": "cd55bbed",
   "metadata": {},
   "outputs": [],
   "source": [
    "TRANSANCESTRY_RESULTS <- TRANSANCESTRY_RESULTS%>%mutate(TOTAL_N=ceiling(ADIPO_N)+ceiling(AGEN_N)+ceiling(METSIM_N))%>%mutate(MAF_AVG=(ADIPO_EAF*2*ADIPO_N+AGEN_EAF*2*AGEN_N+METSIM_EAF*2*METSIM_N)/(2*TOTAL_N))%>%\n",
    "filter(ADIPO_EAF>0.005)%>%filter(AGEN_EAF>0.005)%>%filter(METSIM_EAF>0.005)%>%select(-NA1,-N,-NA2,-NA3)%>%filter(PVALUE_FE < 5E-08)"
   ]
  },
  {
   "cell_type": "code",
   "execution_count": 39,
   "id": "74351cb5",
   "metadata": {},
   "outputs": [],
   "source": [
    "write.table(TRANSANCESTRY_RESULTS,\"../../ANALYSIS/META/TRANSANCESTRY_GS.TAB\",row.names=FALSE,quote=FALSE,sep=\"\\t\")"
   ]
  },
  {
   "cell_type": "code",
   "execution_count": 33,
   "id": "11199504",
   "metadata": {},
   "outputs": [],
   "source": [
    "### GCTA input"
   ]
  },
  {
   "cell_type": "code",
   "execution_count": 35,
   "id": "0a8cb1f4",
   "metadata": {},
   "outputs": [
    {
     "data": {
      "text/html": [
       "<style>\n",
       ".list-inline {list-style: none; margin:0; padding: 0}\n",
       ".list-inline>li {display: inline-block}\n",
       ".list-inline>li:not(:last-child)::after {content: \"\\00b7\"; padding: 0 .5ex}\n",
       "</style>\n",
       "<ol class=list-inline><li>'MARKERNAME'</li><li>'CHROMOSOME'</li><li>'POSITION'</li><li>'ADIPO_EA'</li><li>'ADIPO_NEA'</li><li>'ADIPO_EAF'</li><li>'ADIPO_N'</li><li>'ADIPO_BETA'</li><li>'ADIPO_SE'</li><li>'ADIPO_PVALUE'</li><li>'AGEN_EA'</li><li>'AGEN_NEA'</li><li>'AGEN_EAF'</li><li>'AGEN_N'</li><li>'AGEN_BETA'</li><li>'AGEN_SE'</li><li>'AGEN_PVALUE'</li><li>'METSIM_EA'</li><li>'METSIM_NEA'</li><li>'METSIM_EAF'</li><li>'METSIM_N'</li><li>'METSIM_BETA'</li><li>'METSIM_SE'</li><li>'METSIM_PVALUE'</li><li>'PVALUE_FE'</li><li>'BETA_FE'</li><li>'STD_FE'</li><li>'PVALUE_RE'</li><li>'BETA_RE'</li><li>'STD_RE'</li><li>'PVALUE_RE2'</li><li>'STAT1_RE2'</li><li>'STAT2_RE2'</li><li>'PVALUE_BE'</li><li>'I_SQUARE'</li><li>'Q'</li><li>'PVALUE_Q'</li><li>'TAU_SQUARE'</li><li>'PVALUE_ADIPOGEN'</li><li>'PVALUE_AGEN'</li><li>'PVALUE_METSIM'</li><li>'TOTAL_N'</li><li>'MAF_AVG'</li></ol>\n"
      ],
      "text/latex": [
       "\\begin{enumerate*}\n",
       "\\item 'MARKERNAME'\n",
       "\\item 'CHROMOSOME'\n",
       "\\item 'POSITION'\n",
       "\\item 'ADIPO\\_EA'\n",
       "\\item 'ADIPO\\_NEA'\n",
       "\\item 'ADIPO\\_EAF'\n",
       "\\item 'ADIPO\\_N'\n",
       "\\item 'ADIPO\\_BETA'\n",
       "\\item 'ADIPO\\_SE'\n",
       "\\item 'ADIPO\\_PVALUE'\n",
       "\\item 'AGEN\\_EA'\n",
       "\\item 'AGEN\\_NEA'\n",
       "\\item 'AGEN\\_EAF'\n",
       "\\item 'AGEN\\_N'\n",
       "\\item 'AGEN\\_BETA'\n",
       "\\item 'AGEN\\_SE'\n",
       "\\item 'AGEN\\_PVALUE'\n",
       "\\item 'METSIM\\_EA'\n",
       "\\item 'METSIM\\_NEA'\n",
       "\\item 'METSIM\\_EAF'\n",
       "\\item 'METSIM\\_N'\n",
       "\\item 'METSIM\\_BETA'\n",
       "\\item 'METSIM\\_SE'\n",
       "\\item 'METSIM\\_PVALUE'\n",
       "\\item 'PVALUE\\_FE'\n",
       "\\item 'BETA\\_FE'\n",
       "\\item 'STD\\_FE'\n",
       "\\item 'PVALUE\\_RE'\n",
       "\\item 'BETA\\_RE'\n",
       "\\item 'STD\\_RE'\n",
       "\\item 'PVALUE\\_RE2'\n",
       "\\item 'STAT1\\_RE2'\n",
       "\\item 'STAT2\\_RE2'\n",
       "\\item 'PVALUE\\_BE'\n",
       "\\item 'I\\_SQUARE'\n",
       "\\item 'Q'\n",
       "\\item 'PVALUE\\_Q'\n",
       "\\item 'TAU\\_SQUARE'\n",
       "\\item 'PVALUE\\_ADIPOGEN'\n",
       "\\item 'PVALUE\\_AGEN'\n",
       "\\item 'PVALUE\\_METSIM'\n",
       "\\item 'TOTAL\\_N'\n",
       "\\item 'MAF\\_AVG'\n",
       "\\end{enumerate*}\n"
      ],
      "text/markdown": [
       "1. 'MARKERNAME'\n",
       "2. 'CHROMOSOME'\n",
       "3. 'POSITION'\n",
       "4. 'ADIPO_EA'\n",
       "5. 'ADIPO_NEA'\n",
       "6. 'ADIPO_EAF'\n",
       "7. 'ADIPO_N'\n",
       "8. 'ADIPO_BETA'\n",
       "9. 'ADIPO_SE'\n",
       "10. 'ADIPO_PVALUE'\n",
       "11. 'AGEN_EA'\n",
       "12. 'AGEN_NEA'\n",
       "13. 'AGEN_EAF'\n",
       "14. 'AGEN_N'\n",
       "15. 'AGEN_BETA'\n",
       "16. 'AGEN_SE'\n",
       "17. 'AGEN_PVALUE'\n",
       "18. 'METSIM_EA'\n",
       "19. 'METSIM_NEA'\n",
       "20. 'METSIM_EAF'\n",
       "21. 'METSIM_N'\n",
       "22. 'METSIM_BETA'\n",
       "23. 'METSIM_SE'\n",
       "24. 'METSIM_PVALUE'\n",
       "25. 'PVALUE_FE'\n",
       "26. 'BETA_FE'\n",
       "27. 'STD_FE'\n",
       "28. 'PVALUE_RE'\n",
       "29. 'BETA_RE'\n",
       "30. 'STD_RE'\n",
       "31. 'PVALUE_RE2'\n",
       "32. 'STAT1_RE2'\n",
       "33. 'STAT2_RE2'\n",
       "34. 'PVALUE_BE'\n",
       "35. 'I_SQUARE'\n",
       "36. 'Q'\n",
       "37. 'PVALUE_Q'\n",
       "38. 'TAU_SQUARE'\n",
       "39. 'PVALUE_ADIPOGEN'\n",
       "40. 'PVALUE_AGEN'\n",
       "41. 'PVALUE_METSIM'\n",
       "42. 'TOTAL_N'\n",
       "43. 'MAF_AVG'\n",
       "\n",
       "\n"
      ],
      "text/plain": [
       " [1] \"MARKERNAME\"      \"CHROMOSOME\"      \"POSITION\"        \"ADIPO_EA\"       \n",
       " [5] \"ADIPO_NEA\"       \"ADIPO_EAF\"       \"ADIPO_N\"         \"ADIPO_BETA\"     \n",
       " [9] \"ADIPO_SE\"        \"ADIPO_PVALUE\"    \"AGEN_EA\"         \"AGEN_NEA\"       \n",
       "[13] \"AGEN_EAF\"        \"AGEN_N\"          \"AGEN_BETA\"       \"AGEN_SE\"        \n",
       "[17] \"AGEN_PVALUE\"     \"METSIM_EA\"       \"METSIM_NEA\"      \"METSIM_EAF\"     \n",
       "[21] \"METSIM_N\"        \"METSIM_BETA\"     \"METSIM_SE\"       \"METSIM_PVALUE\"  \n",
       "[25] \"PVALUE_FE\"       \"BETA_FE\"         \"STD_FE\"          \"PVALUE_RE\"      \n",
       "[29] \"BETA_RE\"         \"STD_RE\"          \"PVALUE_RE2\"      \"STAT1_RE2\"      \n",
       "[33] \"STAT2_RE2\"       \"PVALUE_BE\"       \"I_SQUARE\"        \"Q\"              \n",
       "[37] \"PVALUE_Q\"        \"TAU_SQUARE\"      \"PVALUE_ADIPOGEN\" \"PVALUE_AGEN\"    \n",
       "[41] \"PVALUE_METSIM\"   \"TOTAL_N\"         \"MAF_AVG\"        "
      ]
     },
     "metadata": {},
     "output_type": "display_data"
    }
   ],
   "source": [
    "colnames(TRANSANCESTRY_RESULTS)"
   ]
  },
  {
   "cell_type": "code",
   "execution_count": null,
   "id": "fe54c018",
   "metadata": {},
   "outputs": [],
   "source": []
  }
 ],
 "metadata": {
  "kernelspec": {
   "display_name": "R",
   "language": "R",
   "name": "ir"
  },
  "language_info": {
   "codemirror_mode": "r",
   "file_extension": ".r",
   "mimetype": "text/x-r-source",
   "name": "R",
   "pygments_lexer": "r",
   "version": "4.2.0"
  }
 },
 "nbformat": 4,
 "nbformat_minor": 5
}
