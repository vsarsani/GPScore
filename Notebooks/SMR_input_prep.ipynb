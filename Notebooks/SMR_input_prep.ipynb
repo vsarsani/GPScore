{
 "cells": [
  {
   "cell_type": "code",
   "execution_count": 1,
   "id": "b9f4e3c8",
   "metadata": {},
   "outputs": [],
   "source": [
    "suppressMessages(suppressWarnings(library(tidyverse)))"
   ]
  },
  {
   "cell_type": "code",
   "execution_count": 2,
   "id": "451672d8",
   "metadata": {},
   "outputs": [],
   "source": [
    "#METSIM"
   ]
  },
  {
   "cell_type": "code",
   "execution_count": 3,
   "id": "d36685dd",
   "metadata": {},
   "outputs": [],
   "source": [
    "METSIM_RESULTS <- read.table(\"../../Summary_Statistic//Formatted//METSIM_hg19_METAL_POS.TAB\",header=F,fill=TRUE,row.names=NULL)\n",
    "colnames(METSIM_RESULTS) <- c(\"CHROMOSOME\",\"POSITION\",\"MARKERNAME\",\"METSIM_NEA\",\"METSIM_EA\",\"METSIM_N\",\"PVALUE_FE\",\"METSIM_BETA\",\"METSIM_SE\")"
   ]
  },
  {
   "cell_type": "code",
   "execution_count": 4,
   "id": "cadda48c",
   "metadata": {},
   "outputs": [],
   "source": [
    "METSIM_MAF <- read.table(\"../../Summary_Statistic//Formatted/CHR_POS_MAF.TAB\",header=F,fill=TRUE,row.names=NULL)\n",
    "colnames(METSIM_MAF) <- c(\"CHROMOSOME\",\"POSITION\",\"MAF\")"
   ]
  },
  {
   "cell_type": "code",
   "execution_count": 5,
   "id": "0867c2e6",
   "metadata": {},
   "outputs": [],
   "source": [
    "  METSIM_DF <- merge(METSIM_RESULTS,METSIM_MAF,by=c(\"CHROMOSOME\",\"POSITION\"))"
   ]
  },
  {
   "cell_type": "code",
   "execution_count": 6,
   "id": "e647d8d1",
   "metadata": {},
   "outputs": [],
   "source": [
    "lead <- read.table(\"../../ANALYSIS/lead_metsim_3mb_merged.txt\",fill=TRUE,header=TRUE)\n",
    "output_df <- merge(METSIM_DF,lead)%>%select(MARKERNAME,CHROMOSOME,POSITION,METSIM_EA,METSIM_NEA,METSIM_BETA,METSIM_SE,PVALUE_FE,MAF,METSIM_N)%>%\n",
    "rename(SNP=MARKERNAME,chromosome=CHROMOSOME,position=POSITION,A1=METSIM_EA,A2=METSIM_NEA,freq=MAF,b=METSIM_BETA,se=METSIM_SE,p=PVALUE_FE,n=METSIM_N)%>%distinct(SNP,.keep_all = TRUE)"
   ]
  },
  {
   "cell_type": "code",
   "execution_count": 7,
   "id": "302c0350",
   "metadata": {},
   "outputs": [],
   "source": [
    "df_gwas <- list.files(\"../../ANALYSIS/COLOC_SUSIE/harmonized_metsim/gwas/\",pattern='.z',full.names = TRUE)\n",
    "df_gwas <- df_gwas[ !grepl(\".bgen.bcor.ld\", df_gwas) ]\n",
    "df_eqtl <- list.files(\"../../ANALYSIS/COLOC_SUSIE/harmonized_metsim/eqtl/\",pattern='.z',full.names = TRUE)\n",
    "df_eqtl <- df_eqtl[ !grepl(\".bgen.bcor.ld\", df_eqtl) ]"
   ]
  },
  {
   "cell_type": "code",
   "execution_count": 8,
   "id": "9a21edcd",
   "metadata": {},
   "outputs": [],
   "source": [
    "for (i in seq_along(df_gwas))\n",
    "{\n",
    "\n",
    "# tissue\n",
    "tissue <- tail(str_split(df_gwas,\"/|.z\")[[i]],n=3)[2]\n",
    "    # gwas\n",
    "s_rsid <- unique((read.table(df_gwas[i],header=T,sep=\" \"))$rsid)\n",
    "s_chr <- unique((read.table(df_gwas[i],header=T,sep=\" \"))$chromosome)\n",
    "tmp_df <- output_df%>%filter(SNP %in% s_rsid)%>%distinct()\n",
    "file_name <- paste0(tissue,\"_\",s_chr,\".ma\")\n",
    "write.table(tmp_df,paste0(\"../../ANALYSIS/SMR/metsim_input//\",file_name),sep = \"\\t\",row.names=FALSE,quote=FALSE)\n",
    "    }\n"
   ]
  },
  {
   "cell_type": "code",
   "execution_count": null,
   "id": "6eb42250",
   "metadata": {},
   "outputs": [],
   "source": [
    "for (i in 1:nrow(lead) ){\n",
    "   \n",
    "line_q <- lead[i,]\n",
    "chr_q <- as.integer(line_q[1])\n",
    "start_q<- as.integer(line_q[2])\n",
    "end_q <- as.integer(line_q[3])\n",
    "file_name <- paste0(chr_q,\"_\",start_q,\"_\",end_q,\".ma\")\n",
    "tmp_df <- output_df%>%filter(chromosome==chr_q & position >= start_q & position <= end_q)%>% distinct()%>%select(SNP,A1,A2,freq,b,se,p,n)\n",
    "write.table(tmp_df,paste0(\"../../ANALYSIS/SMR/metsim_input/\",file_name),sep = \"\\t\",row.names=FALSE,quote=FALSE)\n",
    "}"
   ]
  },
  {
   "cell_type": "code",
   "execution_count": null,
   "id": "b4ce99dd",
   "metadata": {},
   "outputs": [],
   "source": []
  },
  {
   "cell_type": "code",
   "execution_count": null,
   "id": "30a13e05",
   "metadata": {},
   "outputs": [],
   "source": []
  },
  {
   "cell_type": "code",
   "execution_count": null,
   "id": "6558355a",
   "metadata": {},
   "outputs": [],
   "source": []
  },
  {
   "cell_type": "code",
   "execution_count": 43,
   "id": "6c6ff1db",
   "metadata": {},
   "outputs": [],
   "source": [
    "## Trans-ancestry "
   ]
  },
  {
   "cell_type": "code",
   "execution_count": 44,
   "id": "ff196706",
   "metadata": {},
   "outputs": [],
   "source": [
    "Metasoft_results <-  read.table(\"../../ANALYSIS/META/METASOFT/SECOND_PASS/TRANSANCESTRY_METASOFT_SECONDPASS_RESULTS.TAB\",fill=TRUE,row.names=NULL,header=FALSE)\n",
    "META_THREE <- read.table(gzfile(\"../data/TRANSANCESTRY_GWAS_ALLELECORRECTED.TAB\"),header=T,fill=TRUE,row.names=NULL)\n",
    "colnames(Metasoft_results) <- c(\"MARKERNAME\",\"N\",\"PVALUE_FE\",\"BETA_FE\",\"STD_FE\",\"PVALUE_RE\",\"BETA_RE\",\"STD_RE\",\"PVALUE_RE2\",\"STAT1_RE2\",\"STAT2_RE2\",\"PVALUE_BE\",\"I_SQUARE\",\"Q\",\"PVALUE_Q\",\"TAU_SQUARE\",\n",
    "                                \"PVALUE_ADIPOGEN\",\"PVALUE_AGEN\",\"PVALUE_METSIM\",\"NA1\",\"NA2\",\"NA3\")\n",
    "Metasoft_results <- Metasoft_results%>%filter(MARKERNAME!=\"RSID\")\n",
    "TRANSANCESTRY_RESULTS <- merge(META_THREE,Metasoft_results,by=\"MARKERNAME\")\n",
    "TRANSANCESTRY_RESULTS <- TRANSANCESTRY_RESULTS%>%mutate(TOTAL_N=ceiling(ADIPO_N)+ceiling(AGEN_N)+ceiling(METSIM_N))%>%mutate(MAF_AVG=(ADIPO_EAF*2*ADIPO_N+AGEN_EAF*2*AGEN_N+METSIM_EAF*2*METSIM_N)/(2*TOTAL_N))%>%\n",
    "filter(ADIPO_EAF>0.005)%>%filter(AGEN_EAF>0.005)%>%filter(METSIM_EAF>0.005)%>%select(-NA1,-N,-NA2,-NA3)"
   ]
  },
  {
   "cell_type": "code",
   "execution_count": 45,
   "id": "83a17163",
   "metadata": {},
   "outputs": [],
   "source": [
    "lead <- read.table(\"../../ANALYSIS/lead_transancestry_3mb.txt\",fill=TRUE,header=TRUE)\n",
    "output_df <- merge(TRANSANCESTRY_RESULTS,lead)%>%select(MARKERNAME,METSIM_EA,METSIM_NEA,MAF_AVG,BETA_FE,STD_FE,PVALUE_FE,TOTAL_N)%>%\n",
    "rename(SNP=MARKERNAME,A1=METSIM_EA,A2=METSIM_NEA,freq=MAF_AVG,b=BETA_FE,se=STD_FE,p=PVALUE_FE,n=TOTAL_N)"
   ]
  },
  {
   "cell_type": "code",
   "execution_count": 46,
   "id": "fe1ca238",
   "metadata": {},
   "outputs": [
    {
     "data": {
      "text/html": [
       "<table class=\"dataframe\">\n",
       "<caption>A data.frame: 6 × 8</caption>\n",
       "<thead>\n",
       "\t<tr><th></th><th scope=col>SNP</th><th scope=col>A1</th><th scope=col>A2</th><th scope=col>freq</th><th scope=col>b</th><th scope=col>se</th><th scope=col>p</th><th scope=col>n</th></tr>\n",
       "\t<tr><th></th><th scope=col>&lt;chr&gt;</th><th scope=col>&lt;chr&gt;</th><th scope=col>&lt;chr&gt;</th><th scope=col>&lt;dbl&gt;</th><th scope=col>&lt;dbl&gt;</th><th scope=col>&lt;dbl&gt;</th><th scope=col>&lt;dbl&gt;</th><th scope=col>&lt;dbl&gt;</th></tr>\n",
       "</thead>\n",
       "<tbody>\n",
       "\t<tr><th scope=row>1</th><td>rs10000081</td><td>T</td><td>C</td><td>0.33229026</td><td>-0.0095197</td><td>0.00463699</td><td>0.04007360</td><td>46381</td></tr>\n",
       "\t<tr><th scope=row>2</th><td>rs10000092</td><td>T</td><td>C</td><td>0.38806186</td><td> 0.0121143</td><td>0.00451048</td><td>0.00723546</td><td>44685</td></tr>\n",
       "\t<tr><th scope=row>3</th><td>rs1000025 </td><td>T</td><td>C</td><td>0.28441548</td><td>-0.0111126</td><td>0.00485617</td><td>0.02211700</td><td>46325</td></tr>\n",
       "\t<tr><th scope=row>4</th><td>rs10000252</td><td>T</td><td>C</td><td>0.02623173</td><td> 0.0314747</td><td>0.01459080</td><td>0.03099270</td><td>36369</td></tr>\n",
       "\t<tr><th scope=row>5</th><td>rs10000268</td><td>T</td><td>A</td><td>0.16447520</td><td>-0.0106829</td><td>0.00585867</td><td>0.06823810</td><td>46410</td></tr>\n",
       "\t<tr><th scope=row>6</th><td>rs10000289</td><td>A</td><td>T</td><td>0.03235335</td><td> 0.0396380</td><td>0.01743640</td><td>0.02300860</td><td>39605</td></tr>\n",
       "</tbody>\n",
       "</table>\n"
      ],
      "text/latex": [
       "A data.frame: 6 × 8\n",
       "\\begin{tabular}{r|llllllll}\n",
       "  & SNP & A1 & A2 & freq & b & se & p & n\\\\\n",
       "  & <chr> & <chr> & <chr> & <dbl> & <dbl> & <dbl> & <dbl> & <dbl>\\\\\n",
       "\\hline\n",
       "\t1 & rs10000081 & T & C & 0.33229026 & -0.0095197 & 0.00463699 & 0.04007360 & 46381\\\\\n",
       "\t2 & rs10000092 & T & C & 0.38806186 &  0.0121143 & 0.00451048 & 0.00723546 & 44685\\\\\n",
       "\t3 & rs1000025  & T & C & 0.28441548 & -0.0111126 & 0.00485617 & 0.02211700 & 46325\\\\\n",
       "\t4 & rs10000252 & T & C & 0.02623173 &  0.0314747 & 0.01459080 & 0.03099270 & 36369\\\\\n",
       "\t5 & rs10000268 & T & A & 0.16447520 & -0.0106829 & 0.00585867 & 0.06823810 & 46410\\\\\n",
       "\t6 & rs10000289 & A & T & 0.03235335 &  0.0396380 & 0.01743640 & 0.02300860 & 39605\\\\\n",
       "\\end{tabular}\n"
      ],
      "text/markdown": [
       "\n",
       "A data.frame: 6 × 8\n",
       "\n",
       "| <!--/--> | SNP &lt;chr&gt; | A1 &lt;chr&gt; | A2 &lt;chr&gt; | freq &lt;dbl&gt; | b &lt;dbl&gt; | se &lt;dbl&gt; | p &lt;dbl&gt; | n &lt;dbl&gt; |\n",
       "|---|---|---|---|---|---|---|---|---|\n",
       "| 1 | rs10000081 | T | C | 0.33229026 | -0.0095197 | 0.00463699 | 0.04007360 | 46381 |\n",
       "| 2 | rs10000092 | T | C | 0.38806186 |  0.0121143 | 0.00451048 | 0.00723546 | 44685 |\n",
       "| 3 | rs1000025  | T | C | 0.28441548 | -0.0111126 | 0.00485617 | 0.02211700 | 46325 |\n",
       "| 4 | rs10000252 | T | C | 0.02623173 |  0.0314747 | 0.01459080 | 0.03099270 | 36369 |\n",
       "| 5 | rs10000268 | T | A | 0.16447520 | -0.0106829 | 0.00585867 | 0.06823810 | 46410 |\n",
       "| 6 | rs10000289 | A | T | 0.03235335 |  0.0396380 | 0.01743640 | 0.02300860 | 39605 |\n",
       "\n"
      ],
      "text/plain": [
       "  SNP        A1 A2 freq       b          se         p          n    \n",
       "1 rs10000081 T  C  0.33229026 -0.0095197 0.00463699 0.04007360 46381\n",
       "2 rs10000092 T  C  0.38806186  0.0121143 0.00451048 0.00723546 44685\n",
       "3 rs1000025  T  C  0.28441548 -0.0111126 0.00485617 0.02211700 46325\n",
       "4 rs10000252 T  C  0.02623173  0.0314747 0.01459080 0.03099270 36369\n",
       "5 rs10000268 T  A  0.16447520 -0.0106829 0.00585867 0.06823810 46410\n",
       "6 rs10000289 A  T  0.03235335  0.0396380 0.01743640 0.02300860 39605"
      ]
     },
     "metadata": {},
     "output_type": "display_data"
    }
   ],
   "source": [
    "head(output_df)"
   ]
  },
  {
   "cell_type": "code",
   "execution_count": 47,
   "id": "06e923fc",
   "metadata": {},
   "outputs": [],
   "source": [
    "####"
   ]
  },
  {
   "cell_type": "code",
   "execution_count": 48,
   "id": "80824a3a",
   "metadata": {},
   "outputs": [],
   "source": [
    "df_gwas <- list.files(\"../../ANALYSIS/COLOC_SUSIE/harmonized_trans/gwas/\",pattern='.z',full.names = TRUE)\n",
    "df_gwas <- df_gwas[ !grepl(\".bgen.bcor.ld\", df_gwas) ]\n",
    "df_eqtl <- list.files(\"../../ANALYSIS/COLOC_SUSIE/harmonized_trans/eqtl/\",pattern='.z',full.names = TRUE)\n",
    "df_eqtl <- df_eqtl[ !grepl(\".bgen.bcor.ld\", df_eqtl) ]"
   ]
  },
  {
   "cell_type": "code",
   "execution_count": 49,
   "id": "73a5fd49",
   "metadata": {},
   "outputs": [],
   "source": [
    "trans_coloc <- read.table(\"../../ANALYSIS/trans_coloc.txt\",fill=TRUE,header=TRUE)"
   ]
  },
  {
   "cell_type": "code",
   "execution_count": 50,
   "id": "ee96284f",
   "metadata": {},
   "outputs": [
    {
     "data": {
      "text/html": [
       "<table class=\"dataframe\">\n",
       "<caption>A data.frame: 6 × 3</caption>\n",
       "<thead>\n",
       "\t<tr><th></th><th scope=col>Tissue</th><th scope=col>SNP</th><th scope=col>chr</th></tr>\n",
       "\t<tr><th></th><th scope=col>&lt;chr&gt;</th><th scope=col>&lt;chr&gt;</th><th scope=col>&lt;int&gt;</th></tr>\n",
       "</thead>\n",
       "<tbody>\n",
       "\t<tr><th scope=row>1</th><td>ArteryTibial          </td><td>rs6537885</td><td>1</td></tr>\n",
       "\t<tr><th scope=row>2</th><td>AdiposeSubcutaneous   </td><td>rs3795823</td><td>1</td></tr>\n",
       "\t<tr><th scope=row>3</th><td>MuscleSkeletal        </td><td>rs3795823</td><td>1</td></tr>\n",
       "\t<tr><th scope=row>4</th><td>AdiposeVisceralOmentum</td><td>rs3818797</td><td>1</td></tr>\n",
       "\t<tr><th scope=row>5</th><td>ArteryAorta           </td><td>rs3818797</td><td>1</td></tr>\n",
       "\t<tr><th scope=row>6</th><td>HeartAtrialAppendage  </td><td>rs3818797</td><td>1</td></tr>\n",
       "</tbody>\n",
       "</table>\n"
      ],
      "text/latex": [
       "A data.frame: 6 × 3\n",
       "\\begin{tabular}{r|lll}\n",
       "  & Tissue & SNP & chr\\\\\n",
       "  & <chr> & <chr> & <int>\\\\\n",
       "\\hline\n",
       "\t1 & ArteryTibial           & rs6537885 & 1\\\\\n",
       "\t2 & AdiposeSubcutaneous    & rs3795823 & 1\\\\\n",
       "\t3 & MuscleSkeletal         & rs3795823 & 1\\\\\n",
       "\t4 & AdiposeVisceralOmentum & rs3818797 & 1\\\\\n",
       "\t5 & ArteryAorta            & rs3818797 & 1\\\\\n",
       "\t6 & HeartAtrialAppendage   & rs3818797 & 1\\\\\n",
       "\\end{tabular}\n"
      ],
      "text/markdown": [
       "\n",
       "A data.frame: 6 × 3\n",
       "\n",
       "| <!--/--> | Tissue &lt;chr&gt; | SNP &lt;chr&gt; | chr &lt;int&gt; |\n",
       "|---|---|---|---|\n",
       "| 1 | ArteryTibial           | rs6537885 | 1 |\n",
       "| 2 | AdiposeSubcutaneous    | rs3795823 | 1 |\n",
       "| 3 | MuscleSkeletal         | rs3795823 | 1 |\n",
       "| 4 | AdiposeVisceralOmentum | rs3818797 | 1 |\n",
       "| 5 | ArteryAorta            | rs3818797 | 1 |\n",
       "| 6 | HeartAtrialAppendage   | rs3818797 | 1 |\n",
       "\n"
      ],
      "text/plain": [
       "  Tissue                 SNP       chr\n",
       "1 ArteryTibial           rs6537885 1  \n",
       "2 AdiposeSubcutaneous    rs3795823 1  \n",
       "3 MuscleSkeletal         rs3795823 1  \n",
       "4 AdiposeVisceralOmentum rs3818797 1  \n",
       "5 ArteryAorta            rs3818797 1  \n",
       "6 HeartAtrialAppendage   rs3818797 1  "
      ]
     },
     "metadata": {},
     "output_type": "display_data"
    }
   ],
   "source": [
    "head(trans_coloc)"
   ]
  },
  {
   "cell_type": "code",
   "execution_count": 52,
   "id": "5014d9fa",
   "metadata": {},
   "outputs": [
    {
     "name": "stderr",
     "output_type": "stream",
     "text": [
      "Warning message in if (file == \"\") file <- stdout() else if (is.character(file)) {:\n",
      "\"the condition has length > 1 and only the first element will be used\"\n"
     ]
    },
    {
     "ename": "ERROR",
     "evalue": "Error in file(file, ifelse(append, \"a\", \"w\")): invalid 'description' argument\n",
     "output_type": "error",
     "traceback": [
      "Error in file(file, ifelse(append, \"a\", \"w\")): invalid 'description' argument\nTraceback:\n",
      "1. write.table(tmp_df, paste0(\"../../ANALYSIS/SMR/trans_coloc/\", \n .     file_name), sep = \"\\t\", row.names = FALSE, quote = FALSE)",
      "2. file(file, ifelse(append, \"a\", \"w\"))"
     ]
    }
   ],
   "source": [
    "\n",
    "for (i in seq_along(df_gwas))\n",
    "{\n",
    "\n",
    "# tissue\n",
    "tissue <- tail(str_split(df_gwas,\"/|.z\")[[i]],n=3)[2]\n",
    "    # gwas\n",
    "s_rsid <- unique((read.table(df_gwas[i],header=T,sep=\" \"))$rsid)\n",
    "s_chr <- unique((read.table(df_gwas[i],header=T,sep=\" \"))$chromosome)\n",
    "tmp_df <- output_df%>%filter(SNP %in% s_rsid)%>%distinct()\n",
    "file_name <- paste0(tissue,\"_\",s_chr,\".ma\")\n",
    "write.table(tmp_df,paste0(\"../../ANALYSIS/SMR/trans_IV/\",file_name),sep = \"\\t\",row.names=FALSE,quote=FALSE)\n",
    "    }\n"
   ]
  },
  {
   "cell_type": "code",
   "execution_count": null,
   "id": "0da7d33e",
   "metadata": {},
   "outputs": [],
   "source": [
    "###"
   ]
  },
  {
   "cell_type": "code",
   "execution_count": 9,
   "id": "ac131277",
   "metadata": {},
   "outputs": [],
   "source": [
    "for (i in 1:nrow(lead) ){\n",
    "   \n",
    "line_q <- lead[i,]\n",
    "chr_q <- as.integer(line_q[1])\n",
    "start_q<- as.integer(line_q[2])\n",
    "end_q <- as.integer(line_q[3])\n",
    "file_name <- paste0(chr_q,\"_\",start_q,\"_\",end_q,\".ma\")\n",
    "tmp_df <- output_df%>%filter(chromosome==chr_q & position >= start_q & position <= end_q)%>% distinct()%>%select(SNP,A1,A2,freq,b,se,p,n)\n",
    "write.table(tmp_df,paste0(\"../../ANALYSIS/SMR/trans_input/\",file_name),sep = \"\\t\",row.names=FALSE,quote=FALSE)\n",
    "}"
   ]
  },
  {
   "cell_type": "code",
   "execution_count": null,
   "id": "4355ad31",
   "metadata": {},
   "outputs": [],
   "source": []
  },
  {
   "cell_type": "code",
   "execution_count": null,
   "id": "25a5fac6",
   "metadata": {},
   "outputs": [],
   "source": [
    "### European "
   ]
  },
  {
   "cell_type": "code",
   "execution_count": 13,
   "id": "d7253ff5",
   "metadata": {},
   "outputs": [],
   "source": [
    "Metasoft_results <-  read.table(\"../../ANALYSIS/META/METASOFT/SECOND_PASS/EUROPEAN_METASOFT_SECONDPASS_RESULTS.TAB\",fill=TRUE,row.names=NULL,header=FALSE)\n",
    "META_TWO <- read.table(gzfile(\"../data/EUROPEAN_GWAS_ALLELECORRECTED.TAB\"),header=T,fill=TRUE,row.names=NULL)\n",
    "colnames(Metasoft_results) <- c(\"MARKERNAME\",\"N\",\"PVALUE_FE\",\"BETA_FE\",\"STD_FE\",\"PVALUE_RE\",\"BETA_RE\",\"STD_RE\",\"PVALUE_RE2\",\"STAT1_RE2\",\"STAT2_RE2\",\"PVALUE_BE\",\"I_SQUARE\",\"Q\",\"PVALUE_Q\",\"TAU_SQUARE\",\n",
    "                                \"PVALUE_ADIPOGEN\",\"PVALUE_METSIM\",\"NA1\",\"NA2\")\n",
    "Metasoft_results <- Metasoft_results%>%filter(MARKERNAME!=\"RSID\")\n",
    "EUR_RESULTS <- merge(META_TWO,Metasoft_results,by=\"MARKERNAME\")\n",
    "EUR_RESULTS <- EUR_RESULTS%>%mutate(TOTAL_N=ceiling(ADIPO_N)+ceiling(METSIM_N))%>%mutate(MAF_AVG=(ADIPO_EAF*2*ADIPO_N+METSIM_EAF*2*METSIM_N)/(2*TOTAL_N))%>%\n",
    "filter(ADIPO_EAF>0.005)%>%filter(METSIM_EAF>0.005)%>%select(-NA1,-N,-NA2)"
   ]
  },
  {
   "cell_type": "code",
   "execution_count": 14,
   "id": "c130f989",
   "metadata": {},
   "outputs": [],
   "source": [
    "lead <- read.table(\"../../ANALYSIS/lead_european_3mb.txt\",fill=TRUE,header=TRUE)\n",
    " output_df <- merge(EUR_RESULTS,lead)%>%select(MARKERNAME,METSIM_EA,METSIM_NEA,MAF_AVG,BETA_FE,STD_FE,PVALUE_FE,TOTAL_N)%>%\n",
    "rename(SNP=MARKERNAME,A1=METSIM_EA,A2=METSIM_NEA,freq=MAF_AVG,b=BETA_FE,se=STD_FE,p=PVALUE_FE,n=TOTAL_N)"
   ]
  },
  {
   "cell_type": "code",
   "execution_count": 15,
   "id": "7d8e35c1",
   "metadata": {},
   "outputs": [],
   "source": [
    "df_gwas <- list.files(\"../../ANALYSIS/COLOC_SUSIE/harmonized_eur/gwas/\",pattern='.z',full.names = TRUE)\n",
    "df_gwas <- df_gwas[ !grepl(\".bgen.bcor.ld\", df_gwas) ]\n",
    "df_eqtl <- list.files(\"../../ANALYSIS/COLOC_SUSIE/harmonized_eur/eqtl/\",pattern='.z',full.names = TRUE)\n",
    "df_eqtl <- df_eqtl[ !grepl(\".bgen.bcor.ld\", df_eqtl) ]"
   ]
  },
  {
   "cell_type": "code",
   "execution_count": 16,
   "id": "9eaaded9",
   "metadata": {},
   "outputs": [],
   "source": [
    "\n",
    "for (i in seq_along(df_gwas))\n",
    "{\n",
    "\n",
    "# tissue\n",
    "tissue <- tail(str_split(df_gwas,\"/|.z\")[[i]],n=3)[2]\n",
    "    # gwas\n",
    "s_rsid <- unique((read.table(df_gwas[i],header=T,sep=\" \"))$rsid)\n",
    "s_chr <- unique((read.table(df_gwas[i],header=T,sep=\" \"))$chromosome)\n",
    "tmp_df <- output_df%>%filter(SNP %in% s_rsid)%>%distinct()\n",
    "file_name <- paste0(tissue,\"_\",s_chr,\".ma\")\n",
    "write.table(tmp_df,paste0(\"../../ANALYSIS/SMR/eur_IV//\",file_name),sep = \"\\t\",row.names=FALSE,quote=FALSE)\n",
    "    }"
   ]
  },
  {
   "cell_type": "code",
   "execution_count": 47,
   "id": "8291bbde",
   "metadata": {},
   "outputs": [],
   "source": [
    "###"
   ]
  },
  {
   "cell_type": "code",
   "execution_count": null,
   "id": "726c5085",
   "metadata": {},
   "outputs": [],
   "source": []
  },
  {
   "cell_type": "code",
   "execution_count": 14,
   "id": "8d693f34",
   "metadata": {},
   "outputs": [],
   "source": [
    "for (i in 1:nrow(lead) ){\n",
    "   \n",
    "line_q <- lead[i,]\n",
    "chr_q <- as.integer(line_q[1])\n",
    "start_q<- as.integer(line_q[2])\n",
    "end_q <- as.integer(line_q[3])\n",
    "file_name <- paste0(chr_q,\"_\",start_q,\"_\",end_q,\".ma\")\n",
    "tmp_df <- output_df%>%filter(chromosome==chr_q & position >= start_q & position <= end_q)%>% distinct()%>%select(SNP,A1,A2,freq,b,se,p,n)\n",
    "write.table(tmp_df,paste0(\"../../ANALYSIS/SMR/eur_input/\",file_name),sep = \"\\t\",row.names=FALSE,quote=FALSE)\n",
    "}"
   ]
  },
  {
   "cell_type": "code",
   "execution_count": null,
   "id": "9ebbc84c",
   "metadata": {},
   "outputs": [],
   "source": []
  },
  {
   "cell_type": "code",
   "execution_count": null,
   "id": "dd7b57b7",
   "metadata": {},
   "outputs": [],
   "source": []
  }
 ],
 "metadata": {
  "kernelspec": {
   "display_name": "R",
   "language": "R",
   "name": "ir"
  },
  "language_info": {
   "codemirror_mode": "r",
   "file_extension": ".r",
   "mimetype": "text/x-r-source",
   "name": "R",
   "pygments_lexer": "r",
   "version": "4.1.2"
  }
 },
 "nbformat": 4,
 "nbformat_minor": 5
}
