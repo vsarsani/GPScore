{
 "cells": [
  {
   "cell_type": "code",
   "execution_count": 1,
   "id": "64068e26",
   "metadata": {},
   "outputs": [],
   "source": [
    "suppressMessages(suppressWarnings(library(tidyverse)))"
   ]
  },
  {
   "cell_type": "code",
   "execution_count": 2,
   "id": "3020612d",
   "metadata": {},
   "outputs": [],
   "source": [
    "### Load hg19 gene,TSS information"
   ]
  },
  {
   "cell_type": "code",
   "execution_count": 3,
   "id": "9390440d",
   "metadata": {},
   "outputs": [],
   "source": [
    "gene_annotation<- read.table(\"../../ANALYSIS/gene_annot_jun10.txt\",header=T)"
   ]
  },
  {
   "cell_type": "code",
   "execution_count": 4,
   "id": "97682377",
   "metadata": {},
   "outputs": [
    {
     "data": {
      "text/html": [
       "<table class=\"dataframe\">\n",
       "<caption>A data.frame: 6 × 6</caption>\n",
       "<thead>\n",
       "\t<tr><th></th><th scope=col>ENSGID</th><th scope=col>NAME</th><th scope=col>CHR</th><th scope=col>START</th><th scope=col>END</th><th scope=col>TSS</th></tr>\n",
       "\t<tr><th></th><th scope=col>&lt;chr&gt;</th><th scope=col>&lt;chr&gt;</th><th scope=col>&lt;int&gt;</th><th scope=col>&lt;int&gt;</th><th scope=col>&lt;int&gt;</th><th scope=col>&lt;int&gt;</th></tr>\n",
       "</thead>\n",
       "<tbody>\n",
       "\t<tr><th scope=row>1</th><td>ENSG00000186092</td><td>OR4F5 </td><td>1</td><td> 69091</td><td> 70008</td><td> 69091</td></tr>\n",
       "\t<tr><th scope=row>2</th><td>ENSG00000235249</td><td>OR4F29</td><td>1</td><td>367640</td><td>368634</td><td>367640</td></tr>\n",
       "\t<tr><th scope=row>3</th><td>ENSG00000185097</td><td>OR4F16</td><td>1</td><td>621059</td><td>622053</td><td>622053</td></tr>\n",
       "\t<tr><th scope=row>4</th><td>ENSG00000187634</td><td>SAMD11</td><td>1</td><td>860260</td><td>879955</td><td>860260</td></tr>\n",
       "\t<tr><th scope=row>5</th><td>ENSG00000188976</td><td>NOC2L </td><td>1</td><td>879584</td><td>894689</td><td>894689</td></tr>\n",
       "\t<tr><th scope=row>6</th><td>ENSG00000187961</td><td>KLHL17</td><td>1</td><td>895967</td><td>901095</td><td>895967</td></tr>\n",
       "</tbody>\n",
       "</table>\n"
      ],
      "text/latex": [
       "A data.frame: 6 × 6\n",
       "\\begin{tabular}{r|llllll}\n",
       "  & ENSGID & NAME & CHR & START & END & TSS\\\\\n",
       "  & <chr> & <chr> & <int> & <int> & <int> & <int>\\\\\n",
       "\\hline\n",
       "\t1 & ENSG00000186092 & OR4F5  & 1 &  69091 &  70008 &  69091\\\\\n",
       "\t2 & ENSG00000235249 & OR4F29 & 1 & 367640 & 368634 & 367640\\\\\n",
       "\t3 & ENSG00000185097 & OR4F16 & 1 & 621059 & 622053 & 622053\\\\\n",
       "\t4 & ENSG00000187634 & SAMD11 & 1 & 860260 & 879955 & 860260\\\\\n",
       "\t5 & ENSG00000188976 & NOC2L  & 1 & 879584 & 894689 & 894689\\\\\n",
       "\t6 & ENSG00000187961 & KLHL17 & 1 & 895967 & 901095 & 895967\\\\\n",
       "\\end{tabular}\n"
      ],
      "text/markdown": [
       "\n",
       "A data.frame: 6 × 6\n",
       "\n",
       "| <!--/--> | ENSGID &lt;chr&gt; | NAME &lt;chr&gt; | CHR &lt;int&gt; | START &lt;int&gt; | END &lt;int&gt; | TSS &lt;int&gt; |\n",
       "|---|---|---|---|---|---|---|\n",
       "| 1 | ENSG00000186092 | OR4F5  | 1 |  69091 |  70008 |  69091 |\n",
       "| 2 | ENSG00000235249 | OR4F29 | 1 | 367640 | 368634 | 367640 |\n",
       "| 3 | ENSG00000185097 | OR4F16 | 1 | 621059 | 622053 | 622053 |\n",
       "| 4 | ENSG00000187634 | SAMD11 | 1 | 860260 | 879955 | 860260 |\n",
       "| 5 | ENSG00000188976 | NOC2L  | 1 | 879584 | 894689 | 894689 |\n",
       "| 6 | ENSG00000187961 | KLHL17 | 1 | 895967 | 901095 | 895967 |\n",
       "\n"
      ],
      "text/plain": [
       "  ENSGID          NAME   CHR START  END    TSS   \n",
       "1 ENSG00000186092 OR4F5  1    69091  70008  69091\n",
       "2 ENSG00000235249 OR4F29 1   367640 368634 367640\n",
       "3 ENSG00000185097 OR4F16 1   621059 622053 622053\n",
       "4 ENSG00000187634 SAMD11 1   860260 879955 860260\n",
       "5 ENSG00000188976 NOC2L  1   879584 894689 894689\n",
       "6 ENSG00000187961 KLHL17 1   895967 901095 895967"
      ]
     },
     "metadata": {},
     "output_type": "display_data"
    }
   ],
   "source": [
    "head(gene_annotation)"
   ]
  },
  {
   "cell_type": "code",
   "execution_count": 5,
   "id": "af299499",
   "metadata": {},
   "outputs": [],
   "source": [
    "## Trans"
   ]
  },
  {
   "cell_type": "code",
   "execution_count": 6,
   "id": "52984a01",
   "metadata": {},
   "outputs": [],
   "source": [
    "trans_lead <- read.table(\"../../ANALYSIS/METSIM_LEAD.TAB\",header=T)"
   ]
  },
  {
   "cell_type": "code",
   "execution_count": 7,
   "id": "53e51cdf",
   "metadata": {},
   "outputs": [],
   "source": [
    "#gene to variant mapping"
   ]
  },
  {
   "cell_type": "code",
   "execution_count": 8,
   "id": "4c815be1",
   "metadata": {},
   "outputs": [],
   "source": [
    "gene_variant <- data.frame()\n",
    "\n",
    "for (i in 1:nrow(trans_lead) ){\n",
    "   \n",
    "line_q <- trans_lead[i,]\n",
    "marker_q <- as.character(line_q[1])\n",
    "chr_q <- as.integer(line_q[2])\n",
    "start_q<- as.integer(line_q[6])\n",
    "end_q <- as.integer(line_q[7])\n",
    "lead_q <- as.integer(line_q[5])\n",
    "position_q <- as.integer(line_q[3])\n",
    "tmp_df <- gene_annotation%>%filter(CHR==chr_q & START >= start_q & END <= end_q)%>%mutate(INDEX=marker_q,WINDOW=lead_q,POSITION=position_q,TSS_DISTANCE=abs(TSS-POSITION))\n",
    "gene_variant <- rbind(gene_variant,tmp_df)\n",
    "}"
   ]
  },
  {
   "cell_type": "code",
   "execution_count": 9,
   "id": "e98b784e",
   "metadata": {},
   "outputs": [],
   "source": [
    "###MAGMA"
   ]
  },
  {
   "cell_type": "code",
   "execution_count": 10,
   "id": "69e3fc71",
   "metadata": {},
   "outputs": [],
   "source": [
    "trans_magma <- read.table(\"../../ANALYSIS/POPS/METSIM_MAGMA_OUTPUT.TAB.genes.out\",header=T)%>%rename(ENSGID=GENE)\n",
    "gene_variant_1 <- merge(gene_variant,trans_magma,by=\"ENSGID\")%>%select(ENSGID,NAME,CHR.x,START.x,END,TSS,INDEX,WINDOW,POSITION,TSS_DISTANCE,P)%>%rename(CHR=CHR.x,START=START.x,MAGMA_P=P)"
   ]
  },
  {
   "cell_type": "code",
   "execution_count": 11,
   "id": "5fcd9448",
   "metadata": {},
   "outputs": [
    {
     "data": {
      "text/html": [
       "<table class=\"dataframe\">\n",
       "<caption>A data.frame: 6 × 11</caption>\n",
       "<thead>\n",
       "\t<tr><th></th><th scope=col>ENSGID</th><th scope=col>NAME</th><th scope=col>CHR</th><th scope=col>START</th><th scope=col>END</th><th scope=col>TSS</th><th scope=col>INDEX</th><th scope=col>WINDOW</th><th scope=col>POSITION</th><th scope=col>TSS_DISTANCE</th><th scope=col>MAGMA_P</th></tr>\n",
       "\t<tr><th></th><th scope=col>&lt;chr&gt;</th><th scope=col>&lt;chr&gt;</th><th scope=col>&lt;int&gt;</th><th scope=col>&lt;int&gt;</th><th scope=col>&lt;int&gt;</th><th scope=col>&lt;int&gt;</th><th scope=col>&lt;chr&gt;</th><th scope=col>&lt;int&gt;</th><th scope=col>&lt;int&gt;</th><th scope=col>&lt;int&gt;</th><th scope=col>&lt;dbl&gt;</th></tr>\n",
       "</thead>\n",
       "<tbody>\n",
       "\t<tr><th scope=row>1</th><td>ENSG00000010318</td><td>PHF7  </td><td>3</td><td>52444673</td><td>52457657</td><td>52444673</td><td>rs2276824</td><td>2</td><td>52637486</td><td> 192813</td><td>7.2766e-04</td></tr>\n",
       "\t<tr><th scope=row>2</th><td>ENSG00000010319</td><td>SEMA3G</td><td>3</td><td>52467069</td><td>52479101</td><td>52479101</td><td>rs2276824</td><td>2</td><td>52637486</td><td> 158385</td><td>1.0045e-03</td></tr>\n",
       "\t<tr><th scope=row>3</th><td>ENSG00000010322</td><td>NISCH </td><td>3</td><td>52489134</td><td>52527087</td><td>52489134</td><td>rs2276824</td><td>2</td><td>52637486</td><td> 148352</td><td>3.0592e-05</td></tr>\n",
       "\t<tr><th scope=row>4</th><td>ENSG00000010327</td><td>STAB1 </td><td>3</td><td>52529354</td><td>52558511</td><td>52529354</td><td>rs2276824</td><td>2</td><td>52637486</td><td> 108132</td><td>3.8966e-06</td></tr>\n",
       "\t<tr><th scope=row>5</th><td>ENSG00000016391</td><td>CHDH  </td><td>3</td><td>53846362</td><td>53880417</td><td>53880417</td><td>rs2276824</td><td>2</td><td>52637486</td><td>1242931</td><td>9.4306e-02</td></tr>\n",
       "\t<tr><th scope=row>6</th><td>ENSG00000016864</td><td>GLT8D1</td><td>3</td><td>52728505</td><td>52740048</td><td>52740048</td><td>rs2276824</td><td>2</td><td>52637486</td><td> 102562</td><td>1.7761e-06</td></tr>\n",
       "</tbody>\n",
       "</table>\n"
      ],
      "text/latex": [
       "A data.frame: 6 × 11\n",
       "\\begin{tabular}{r|lllllllllll}\n",
       "  & ENSGID & NAME & CHR & START & END & TSS & INDEX & WINDOW & POSITION & TSS\\_DISTANCE & MAGMA\\_P\\\\\n",
       "  & <chr> & <chr> & <int> & <int> & <int> & <int> & <chr> & <int> & <int> & <int> & <dbl>\\\\\n",
       "\\hline\n",
       "\t1 & ENSG00000010318 & PHF7   & 3 & 52444673 & 52457657 & 52444673 & rs2276824 & 2 & 52637486 &  192813 & 7.2766e-04\\\\\n",
       "\t2 & ENSG00000010319 & SEMA3G & 3 & 52467069 & 52479101 & 52479101 & rs2276824 & 2 & 52637486 &  158385 & 1.0045e-03\\\\\n",
       "\t3 & ENSG00000010322 & NISCH  & 3 & 52489134 & 52527087 & 52489134 & rs2276824 & 2 & 52637486 &  148352 & 3.0592e-05\\\\\n",
       "\t4 & ENSG00000010327 & STAB1  & 3 & 52529354 & 52558511 & 52529354 & rs2276824 & 2 & 52637486 &  108132 & 3.8966e-06\\\\\n",
       "\t5 & ENSG00000016391 & CHDH   & 3 & 53846362 & 53880417 & 53880417 & rs2276824 & 2 & 52637486 & 1242931 & 9.4306e-02\\\\\n",
       "\t6 & ENSG00000016864 & GLT8D1 & 3 & 52728505 & 52740048 & 52740048 & rs2276824 & 2 & 52637486 &  102562 & 1.7761e-06\\\\\n",
       "\\end{tabular}\n"
      ],
      "text/markdown": [
       "\n",
       "A data.frame: 6 × 11\n",
       "\n",
       "| <!--/--> | ENSGID &lt;chr&gt; | NAME &lt;chr&gt; | CHR &lt;int&gt; | START &lt;int&gt; | END &lt;int&gt; | TSS &lt;int&gt; | INDEX &lt;chr&gt; | WINDOW &lt;int&gt; | POSITION &lt;int&gt; | TSS_DISTANCE &lt;int&gt; | MAGMA_P &lt;dbl&gt; |\n",
       "|---|---|---|---|---|---|---|---|---|---|---|---|\n",
       "| 1 | ENSG00000010318 | PHF7   | 3 | 52444673 | 52457657 | 52444673 | rs2276824 | 2 | 52637486 |  192813 | 7.2766e-04 |\n",
       "| 2 | ENSG00000010319 | SEMA3G | 3 | 52467069 | 52479101 | 52479101 | rs2276824 | 2 | 52637486 |  158385 | 1.0045e-03 |\n",
       "| 3 | ENSG00000010322 | NISCH  | 3 | 52489134 | 52527087 | 52489134 | rs2276824 | 2 | 52637486 |  148352 | 3.0592e-05 |\n",
       "| 4 | ENSG00000010327 | STAB1  | 3 | 52529354 | 52558511 | 52529354 | rs2276824 | 2 | 52637486 |  108132 | 3.8966e-06 |\n",
       "| 5 | ENSG00000016391 | CHDH   | 3 | 53846362 | 53880417 | 53880417 | rs2276824 | 2 | 52637486 | 1242931 | 9.4306e-02 |\n",
       "| 6 | ENSG00000016864 | GLT8D1 | 3 | 52728505 | 52740048 | 52740048 | rs2276824 | 2 | 52637486 |  102562 | 1.7761e-06 |\n",
       "\n"
      ],
      "text/plain": [
       "  ENSGID          NAME   CHR START    END      TSS      INDEX     WINDOW\n",
       "1 ENSG00000010318 PHF7   3   52444673 52457657 52444673 rs2276824 2     \n",
       "2 ENSG00000010319 SEMA3G 3   52467069 52479101 52479101 rs2276824 2     \n",
       "3 ENSG00000010322 NISCH  3   52489134 52527087 52489134 rs2276824 2     \n",
       "4 ENSG00000010327 STAB1  3   52529354 52558511 52529354 rs2276824 2     \n",
       "5 ENSG00000016391 CHDH   3   53846362 53880417 53880417 rs2276824 2     \n",
       "6 ENSG00000016864 GLT8D1 3   52728505 52740048 52740048 rs2276824 2     \n",
       "  POSITION TSS_DISTANCE MAGMA_P   \n",
       "1 52637486  192813      7.2766e-04\n",
       "2 52637486  158385      1.0045e-03\n",
       "3 52637486  148352      3.0592e-05\n",
       "4 52637486  108132      3.8966e-06\n",
       "5 52637486 1242931      9.4306e-02\n",
       "6 52637486  102562      1.7761e-06"
      ]
     },
     "metadata": {},
     "output_type": "display_data"
    }
   ],
   "source": [
    "head(gene_variant_1)"
   ]
  },
  {
   "cell_type": "code",
   "execution_count": 12,
   "id": "e2340e15",
   "metadata": {},
   "outputs": [],
   "source": [
    "## Colocalization"
   ]
  },
  {
   "cell_type": "code",
   "execution_count": 13,
   "id": "e6a8dc56",
   "metadata": {},
   "outputs": [],
   "source": [
    "trans_coloc <- read.table(\"../../ANALYSIS/GTEX/METSIM_COLOC.txt\",header=T)\n",
    "trans_coloc <- merge(gene_variant_1,trans_coloc,by=\"NAME\")%>%select(ENSGID,Tissue,H4_abf)"
   ]
  },
  {
   "cell_type": "code",
   "execution_count": 14,
   "id": "9e8d4cd7",
   "metadata": {},
   "outputs": [],
   "source": [
    "gene_variant_2<- data.frame()\n",
    "for (i in 1:nrow(gene_variant_1) ){\n",
    "line_q <- gene_variant_1[i,]\n",
    "ensg_q <- as.character(line_q[1])\n",
    "genep<- nrow(trans_coloc%>%filter(ENSGID==ensg_q))\n",
    "if (genep>0){\n",
    "c_df <- trans_coloc%>%filter(ENSGID==ensg_q)%>%select(Tissue,H4_abf)%>%mutate(weight = case_when(grepl(\"Artery|Adipose|Heart\", Tissue) ~ \"1\",TRUE ~ '0.8'))\n",
    "pip_coloc <- max(c_df$H4_abf)\n",
    "coloc_weight <- max(as.double((c_df%>%filter(H4_abf==pip_coloc))$weight))\n",
    "}else {\n",
    "pip_coloc <- 0\n",
    "coloc_weight <- 0\n",
    "}\n",
    "tmp_df <- gene_variant_1[i,]%>%mutate(coloc_pip=pip_coloc,coloc_WT=coloc_weight)\n",
    "gene_variant_2 <- rbind(gene_variant_2,tmp_df)\n",
    "}\n",
    "\n"
   ]
  },
  {
   "cell_type": "code",
   "execution_count": 15,
   "id": "1b41d6ae",
   "metadata": {},
   "outputs": [
    {
     "data": {
      "text/html": [
       "<table class=\"dataframe\">\n",
       "<caption>A data.frame: 6 × 13</caption>\n",
       "<thead>\n",
       "\t<tr><th></th><th scope=col>ENSGID</th><th scope=col>NAME</th><th scope=col>CHR</th><th scope=col>START</th><th scope=col>END</th><th scope=col>TSS</th><th scope=col>INDEX</th><th scope=col>WINDOW</th><th scope=col>POSITION</th><th scope=col>TSS_DISTANCE</th><th scope=col>MAGMA_P</th><th scope=col>coloc_pip</th><th scope=col>coloc_WT</th></tr>\n",
       "\t<tr><th></th><th scope=col>&lt;chr&gt;</th><th scope=col>&lt;chr&gt;</th><th scope=col>&lt;int&gt;</th><th scope=col>&lt;int&gt;</th><th scope=col>&lt;int&gt;</th><th scope=col>&lt;int&gt;</th><th scope=col>&lt;chr&gt;</th><th scope=col>&lt;int&gt;</th><th scope=col>&lt;int&gt;</th><th scope=col>&lt;int&gt;</th><th scope=col>&lt;dbl&gt;</th><th scope=col>&lt;dbl&gt;</th><th scope=col>&lt;dbl&gt;</th></tr>\n",
       "</thead>\n",
       "<tbody>\n",
       "\t<tr><th scope=row>1</th><td>ENSG00000010318</td><td>PHF7  </td><td>3</td><td>52444673</td><td>52457657</td><td>52444673</td><td>rs2276824</td><td>2</td><td>52637486</td><td> 192813</td><td>7.2766e-04</td><td>0</td><td>0</td></tr>\n",
       "\t<tr><th scope=row>2</th><td>ENSG00000010319</td><td>SEMA3G</td><td>3</td><td>52467069</td><td>52479101</td><td>52479101</td><td>rs2276824</td><td>2</td><td>52637486</td><td> 158385</td><td>1.0045e-03</td><td>0</td><td>0</td></tr>\n",
       "\t<tr><th scope=row>3</th><td>ENSG00000010322</td><td>NISCH </td><td>3</td><td>52489134</td><td>52527087</td><td>52489134</td><td>rs2276824</td><td>2</td><td>52637486</td><td> 148352</td><td>3.0592e-05</td><td>0</td><td>0</td></tr>\n",
       "\t<tr><th scope=row>4</th><td>ENSG00000010327</td><td>STAB1 </td><td>3</td><td>52529354</td><td>52558511</td><td>52529354</td><td>rs2276824</td><td>2</td><td>52637486</td><td> 108132</td><td>3.8966e-06</td><td>0</td><td>0</td></tr>\n",
       "\t<tr><th scope=row>5</th><td>ENSG00000016391</td><td>CHDH  </td><td>3</td><td>53846362</td><td>53880417</td><td>53880417</td><td>rs2276824</td><td>2</td><td>52637486</td><td>1242931</td><td>9.4306e-02</td><td>0</td><td>0</td></tr>\n",
       "\t<tr><th scope=row>6</th><td>ENSG00000016864</td><td>GLT8D1</td><td>3</td><td>52728505</td><td>52740048</td><td>52740048</td><td>rs2276824</td><td>2</td><td>52637486</td><td> 102562</td><td>1.7761e-06</td><td>0</td><td>0</td></tr>\n",
       "</tbody>\n",
       "</table>\n"
      ],
      "text/latex": [
       "A data.frame: 6 × 13\n",
       "\\begin{tabular}{r|lllllllllllll}\n",
       "  & ENSGID & NAME & CHR & START & END & TSS & INDEX & WINDOW & POSITION & TSS\\_DISTANCE & MAGMA\\_P & coloc\\_pip & coloc\\_WT\\\\\n",
       "  & <chr> & <chr> & <int> & <int> & <int> & <int> & <chr> & <int> & <int> & <int> & <dbl> & <dbl> & <dbl>\\\\\n",
       "\\hline\n",
       "\t1 & ENSG00000010318 & PHF7   & 3 & 52444673 & 52457657 & 52444673 & rs2276824 & 2 & 52637486 &  192813 & 7.2766e-04 & 0 & 0\\\\\n",
       "\t2 & ENSG00000010319 & SEMA3G & 3 & 52467069 & 52479101 & 52479101 & rs2276824 & 2 & 52637486 &  158385 & 1.0045e-03 & 0 & 0\\\\\n",
       "\t3 & ENSG00000010322 & NISCH  & 3 & 52489134 & 52527087 & 52489134 & rs2276824 & 2 & 52637486 &  148352 & 3.0592e-05 & 0 & 0\\\\\n",
       "\t4 & ENSG00000010327 & STAB1  & 3 & 52529354 & 52558511 & 52529354 & rs2276824 & 2 & 52637486 &  108132 & 3.8966e-06 & 0 & 0\\\\\n",
       "\t5 & ENSG00000016391 & CHDH   & 3 & 53846362 & 53880417 & 53880417 & rs2276824 & 2 & 52637486 & 1242931 & 9.4306e-02 & 0 & 0\\\\\n",
       "\t6 & ENSG00000016864 & GLT8D1 & 3 & 52728505 & 52740048 & 52740048 & rs2276824 & 2 & 52637486 &  102562 & 1.7761e-06 & 0 & 0\\\\\n",
       "\\end{tabular}\n"
      ],
      "text/markdown": [
       "\n",
       "A data.frame: 6 × 13\n",
       "\n",
       "| <!--/--> | ENSGID &lt;chr&gt; | NAME &lt;chr&gt; | CHR &lt;int&gt; | START &lt;int&gt; | END &lt;int&gt; | TSS &lt;int&gt; | INDEX &lt;chr&gt; | WINDOW &lt;int&gt; | POSITION &lt;int&gt; | TSS_DISTANCE &lt;int&gt; | MAGMA_P &lt;dbl&gt; | coloc_pip &lt;dbl&gt; | coloc_WT &lt;dbl&gt; |\n",
       "|---|---|---|---|---|---|---|---|---|---|---|---|---|---|\n",
       "| 1 | ENSG00000010318 | PHF7   | 3 | 52444673 | 52457657 | 52444673 | rs2276824 | 2 | 52637486 |  192813 | 7.2766e-04 | 0 | 0 |\n",
       "| 2 | ENSG00000010319 | SEMA3G | 3 | 52467069 | 52479101 | 52479101 | rs2276824 | 2 | 52637486 |  158385 | 1.0045e-03 | 0 | 0 |\n",
       "| 3 | ENSG00000010322 | NISCH  | 3 | 52489134 | 52527087 | 52489134 | rs2276824 | 2 | 52637486 |  148352 | 3.0592e-05 | 0 | 0 |\n",
       "| 4 | ENSG00000010327 | STAB1  | 3 | 52529354 | 52558511 | 52529354 | rs2276824 | 2 | 52637486 |  108132 | 3.8966e-06 | 0 | 0 |\n",
       "| 5 | ENSG00000016391 | CHDH   | 3 | 53846362 | 53880417 | 53880417 | rs2276824 | 2 | 52637486 | 1242931 | 9.4306e-02 | 0 | 0 |\n",
       "| 6 | ENSG00000016864 | GLT8D1 | 3 | 52728505 | 52740048 | 52740048 | rs2276824 | 2 | 52637486 |  102562 | 1.7761e-06 | 0 | 0 |\n",
       "\n"
      ],
      "text/plain": [
       "  ENSGID          NAME   CHR START    END      TSS      INDEX     WINDOW\n",
       "1 ENSG00000010318 PHF7   3   52444673 52457657 52444673 rs2276824 2     \n",
       "2 ENSG00000010319 SEMA3G 3   52467069 52479101 52479101 rs2276824 2     \n",
       "3 ENSG00000010322 NISCH  3   52489134 52527087 52489134 rs2276824 2     \n",
       "4 ENSG00000010327 STAB1  3   52529354 52558511 52529354 rs2276824 2     \n",
       "5 ENSG00000016391 CHDH   3   53846362 53880417 53880417 rs2276824 2     \n",
       "6 ENSG00000016864 GLT8D1 3   52728505 52740048 52740048 rs2276824 2     \n",
       "  POSITION TSS_DISTANCE MAGMA_P    coloc_pip coloc_WT\n",
       "1 52637486  192813      7.2766e-04 0         0       \n",
       "2 52637486  158385      1.0045e-03 0         0       \n",
       "3 52637486  148352      3.0592e-05 0         0       \n",
       "4 52637486  108132      3.8966e-06 0         0       \n",
       "5 52637486 1242931      9.4306e-02 0         0       \n",
       "6 52637486  102562      1.7761e-06 0         0       "
      ]
     },
     "metadata": {},
     "output_type": "display_data"
    }
   ],
   "source": [
    "head(gene_variant_2)"
   ]
  },
  {
   "cell_type": "code",
   "execution_count": null,
   "id": "b9f1c891",
   "metadata": {},
   "outputs": [],
   "source": []
  },
  {
   "cell_type": "code",
   "execution_count": 16,
   "id": "00438c87",
   "metadata": {},
   "outputs": [],
   "source": [
    "##SMR"
   ]
  },
  {
   "cell_type": "code",
   "execution_count": 17,
   "id": "f249e519",
   "metadata": {},
   "outputs": [],
   "source": [
    "trans_smr <- read.table(\"../../ANALYSIS/SMR//METSIM_SMR.tab\",header=T)%>%rename(ENSGID=probeID)"
   ]
  },
  {
   "cell_type": "code",
   "execution_count": 18,
   "id": "95f6ceec",
   "metadata": {},
   "outputs": [],
   "source": [
    "gene_variant_3 <- data.frame()\n",
    "for (i in 1:nrow(gene_variant_2) ){\n",
    "line_q <- gene_variant_2[i,]\n",
    "ensg_q <- as.character(line_q[1])\n",
    "genep<- nrow(trans_smr%>%filter(ENSGID==ensg_q))\n",
    "if (genep>0){\n",
    "smr_df <- trans_smr%>%filter(ENSGID==ensg_q)%>%select(filename,p_SMR)%>%mutate(weight_smr = case_when(grepl(\"Artery|Adipose|Heart\", filename) ~ \"1\",TRUE ~ '0.8'))\n",
    "p_smr <- min(smr_df$p_SMR)\n",
    "smr_weight <- max(as.double((smr_df%>%filter(p_SMR==p_smr))$weight_smr))\n",
    "}else {\n",
    "p_smr <- NA\n",
    "smr_weight <-0 \n",
    "}\n",
    "tmp_df <- gene_variant_2[i,]%>%mutate(p_SMR=p_smr,SMR_WT=smr_weight)\n",
    "gene_variant_3 <- rbind(gene_variant_3,tmp_df)\n",
    "}\n"
   ]
  },
  {
   "cell_type": "code",
   "execution_count": 19,
   "id": "887de10a",
   "metadata": {},
   "outputs": [
    {
     "data": {
      "text/html": [
       "<table class=\"dataframe\">\n",
       "<caption>A data.frame: 6 × 15</caption>\n",
       "<thead>\n",
       "\t<tr><th></th><th scope=col>ENSGID</th><th scope=col>NAME</th><th scope=col>CHR</th><th scope=col>START</th><th scope=col>END</th><th scope=col>TSS</th><th scope=col>INDEX</th><th scope=col>WINDOW</th><th scope=col>POSITION</th><th scope=col>TSS_DISTANCE</th><th scope=col>MAGMA_P</th><th scope=col>coloc_pip</th><th scope=col>coloc_WT</th><th scope=col>p_SMR</th><th scope=col>SMR_WT</th></tr>\n",
       "\t<tr><th></th><th scope=col>&lt;chr&gt;</th><th scope=col>&lt;chr&gt;</th><th scope=col>&lt;int&gt;</th><th scope=col>&lt;int&gt;</th><th scope=col>&lt;int&gt;</th><th scope=col>&lt;int&gt;</th><th scope=col>&lt;chr&gt;</th><th scope=col>&lt;int&gt;</th><th scope=col>&lt;int&gt;</th><th scope=col>&lt;int&gt;</th><th scope=col>&lt;dbl&gt;</th><th scope=col>&lt;dbl&gt;</th><th scope=col>&lt;dbl&gt;</th><th scope=col>&lt;dbl&gt;</th><th scope=col>&lt;dbl&gt;</th></tr>\n",
       "</thead>\n",
       "<tbody>\n",
       "\t<tr><th scope=row>1</th><td>ENSG00000010318</td><td>PHF7  </td><td>3</td><td>52444673</td><td>52457657</td><td>52444673</td><td>rs2276824</td><td>2</td><td>52637486</td><td> 192813</td><td>7.2766e-04</td><td>0</td><td>0</td><td>          NA</td><td>0.0</td></tr>\n",
       "\t<tr><th scope=row>2</th><td>ENSG00000010319</td><td>SEMA3G</td><td>3</td><td>52467069</td><td>52479101</td><td>52479101</td><td>rs2276824</td><td>2</td><td>52637486</td><td> 158385</td><td>1.0045e-03</td><td>0</td><td>0</td><td>          NA</td><td>0.0</td></tr>\n",
       "\t<tr><th scope=row>3</th><td>ENSG00000010322</td><td>NISCH </td><td>3</td><td>52489134</td><td>52527087</td><td>52489134</td><td>rs2276824</td><td>2</td><td>52637486</td><td> 148352</td><td>3.0592e-05</td><td>0</td><td>0</td><td>0.1799546000</td><td>1.0</td></tr>\n",
       "\t<tr><th scope=row>4</th><td>ENSG00000010327</td><td>STAB1 </td><td>3</td><td>52529354</td><td>52558511</td><td>52529354</td><td>rs2276824</td><td>2</td><td>52637486</td><td> 108132</td><td>3.8966e-06</td><td>0</td><td>0</td><td>0.1485833000</td><td>0.8</td></tr>\n",
       "\t<tr><th scope=row>5</th><td>ENSG00000016391</td><td>CHDH  </td><td>3</td><td>53846362</td><td>53880417</td><td>53880417</td><td>rs2276824</td><td>2</td><td>52637486</td><td>1242931</td><td>9.4306e-02</td><td>0</td><td>0</td><td>0.0818636600</td><td>1.0</td></tr>\n",
       "\t<tr><th scope=row>6</th><td>ENSG00000016864</td><td>GLT8D1</td><td>3</td><td>52728505</td><td>52740048</td><td>52740048</td><td>rs2276824</td><td>2</td><td>52637486</td><td> 102562</td><td>1.7761e-06</td><td>0</td><td>0</td><td>0.0005232975</td><td>0.8</td></tr>\n",
       "</tbody>\n",
       "</table>\n"
      ],
      "text/latex": [
       "A data.frame: 6 × 15\n",
       "\\begin{tabular}{r|lllllllllllllll}\n",
       "  & ENSGID & NAME & CHR & START & END & TSS & INDEX & WINDOW & POSITION & TSS\\_DISTANCE & MAGMA\\_P & coloc\\_pip & coloc\\_WT & p\\_SMR & SMR\\_WT\\\\\n",
       "  & <chr> & <chr> & <int> & <int> & <int> & <int> & <chr> & <int> & <int> & <int> & <dbl> & <dbl> & <dbl> & <dbl> & <dbl>\\\\\n",
       "\\hline\n",
       "\t1 & ENSG00000010318 & PHF7   & 3 & 52444673 & 52457657 & 52444673 & rs2276824 & 2 & 52637486 &  192813 & 7.2766e-04 & 0 & 0 &           NA & 0.0\\\\\n",
       "\t2 & ENSG00000010319 & SEMA3G & 3 & 52467069 & 52479101 & 52479101 & rs2276824 & 2 & 52637486 &  158385 & 1.0045e-03 & 0 & 0 &           NA & 0.0\\\\\n",
       "\t3 & ENSG00000010322 & NISCH  & 3 & 52489134 & 52527087 & 52489134 & rs2276824 & 2 & 52637486 &  148352 & 3.0592e-05 & 0 & 0 & 0.1799546000 & 1.0\\\\\n",
       "\t4 & ENSG00000010327 & STAB1  & 3 & 52529354 & 52558511 & 52529354 & rs2276824 & 2 & 52637486 &  108132 & 3.8966e-06 & 0 & 0 & 0.1485833000 & 0.8\\\\\n",
       "\t5 & ENSG00000016391 & CHDH   & 3 & 53846362 & 53880417 & 53880417 & rs2276824 & 2 & 52637486 & 1242931 & 9.4306e-02 & 0 & 0 & 0.0818636600 & 1.0\\\\\n",
       "\t6 & ENSG00000016864 & GLT8D1 & 3 & 52728505 & 52740048 & 52740048 & rs2276824 & 2 & 52637486 &  102562 & 1.7761e-06 & 0 & 0 & 0.0005232975 & 0.8\\\\\n",
       "\\end{tabular}\n"
      ],
      "text/markdown": [
       "\n",
       "A data.frame: 6 × 15\n",
       "\n",
       "| <!--/--> | ENSGID &lt;chr&gt; | NAME &lt;chr&gt; | CHR &lt;int&gt; | START &lt;int&gt; | END &lt;int&gt; | TSS &lt;int&gt; | INDEX &lt;chr&gt; | WINDOW &lt;int&gt; | POSITION &lt;int&gt; | TSS_DISTANCE &lt;int&gt; | MAGMA_P &lt;dbl&gt; | coloc_pip &lt;dbl&gt; | coloc_WT &lt;dbl&gt; | p_SMR &lt;dbl&gt; | SMR_WT &lt;dbl&gt; |\n",
       "|---|---|---|---|---|---|---|---|---|---|---|---|---|---|---|---|\n",
       "| 1 | ENSG00000010318 | PHF7   | 3 | 52444673 | 52457657 | 52444673 | rs2276824 | 2 | 52637486 |  192813 | 7.2766e-04 | 0 | 0 |           NA | 0.0 |\n",
       "| 2 | ENSG00000010319 | SEMA3G | 3 | 52467069 | 52479101 | 52479101 | rs2276824 | 2 | 52637486 |  158385 | 1.0045e-03 | 0 | 0 |           NA | 0.0 |\n",
       "| 3 | ENSG00000010322 | NISCH  | 3 | 52489134 | 52527087 | 52489134 | rs2276824 | 2 | 52637486 |  148352 | 3.0592e-05 | 0 | 0 | 0.1799546000 | 1.0 |\n",
       "| 4 | ENSG00000010327 | STAB1  | 3 | 52529354 | 52558511 | 52529354 | rs2276824 | 2 | 52637486 |  108132 | 3.8966e-06 | 0 | 0 | 0.1485833000 | 0.8 |\n",
       "| 5 | ENSG00000016391 | CHDH   | 3 | 53846362 | 53880417 | 53880417 | rs2276824 | 2 | 52637486 | 1242931 | 9.4306e-02 | 0 | 0 | 0.0818636600 | 1.0 |\n",
       "| 6 | ENSG00000016864 | GLT8D1 | 3 | 52728505 | 52740048 | 52740048 | rs2276824 | 2 | 52637486 |  102562 | 1.7761e-06 | 0 | 0 | 0.0005232975 | 0.8 |\n",
       "\n"
      ],
      "text/plain": [
       "  ENSGID          NAME   CHR START    END      TSS      INDEX     WINDOW\n",
       "1 ENSG00000010318 PHF7   3   52444673 52457657 52444673 rs2276824 2     \n",
       "2 ENSG00000010319 SEMA3G 3   52467069 52479101 52479101 rs2276824 2     \n",
       "3 ENSG00000010322 NISCH  3   52489134 52527087 52489134 rs2276824 2     \n",
       "4 ENSG00000010327 STAB1  3   52529354 52558511 52529354 rs2276824 2     \n",
       "5 ENSG00000016391 CHDH   3   53846362 53880417 53880417 rs2276824 2     \n",
       "6 ENSG00000016864 GLT8D1 3   52728505 52740048 52740048 rs2276824 2     \n",
       "  POSITION TSS_DISTANCE MAGMA_P    coloc_pip coloc_WT p_SMR        SMR_WT\n",
       "1 52637486  192813      7.2766e-04 0         0                  NA 0.0   \n",
       "2 52637486  158385      1.0045e-03 0         0                  NA 0.0   \n",
       "3 52637486  148352      3.0592e-05 0         0        0.1799546000 1.0   \n",
       "4 52637486  108132      3.8966e-06 0         0        0.1485833000 0.8   \n",
       "5 52637486 1242931      9.4306e-02 0         0        0.0818636600 1.0   \n",
       "6 52637486  102562      1.7761e-06 0         0        0.0005232975 0.8   "
      ]
     },
     "metadata": {},
     "output_type": "display_data"
    }
   ],
   "source": [
    "head(gene_variant_3)"
   ]
  },
  {
   "cell_type": "code",
   "execution_count": 20,
   "id": "09e581f2",
   "metadata": {},
   "outputs": [],
   "source": [
    "## eQTL overlaps"
   ]
  },
  {
   "cell_type": "code",
   "execution_count": 21,
   "id": "046e55d5",
   "metadata": {},
   "outputs": [],
   "source": [
    "trans_eqtl <- read.table(\"../../ANALYSIS/GTEX/METSIM_EQTL_OVERLAPS.txt\",fill=TRUE,row.names=NULL,header=TRUE)"
   ]
  },
  {
   "cell_type": "code",
   "execution_count": 22,
   "id": "beba6dd7",
   "metadata": {},
   "outputs": [],
   "source": [
    "gene_variant_4 <- data.frame()\n",
    "for (i in 1:nrow(gene_variant_3) ){\n",
    "line_q <- gene_variant_3[i,]\n",
    "ensg_q <- as.character(line_q[2])\n",
    "genep<- nrow(trans_eqtl%>%filter(Transcript==ensg_q))\n",
    "if (genep>0){\n",
    "smr_df <- trans_eqtl%>%filter(Transcript==ensg_q)%>%select(Tissue,P_EQTL)%>%mutate(weight_lookup = case_when(grepl(\"Artery|Adipose|Heart\", Tissue) ~ \"1\",TRUE ~ '0.8'))\n",
    "p_smr <- min(smr_df$P_EQTL)\n",
    "smr_weight <- max(as.double((smr_df%>%filter(P_EQTL==p_smr))$weight_lookup))\n",
    "}else {\n",
    "p_smr <- NA\n",
    "smr_weight <-0 \n",
    "}\n",
    "tmp_df <- gene_variant_3[i,]%>%mutate(P_EQTL=p_smr,EQTL_WT=smr_weight)\n",
    "gene_variant_4 <- rbind(gene_variant_4,tmp_df)\n",
    "}\n"
   ]
  },
  {
   "cell_type": "code",
   "execution_count": 23,
   "id": "e16a79bc",
   "metadata": {},
   "outputs": [
    {
     "data": {
      "text/html": [
       "<table class=\"dataframe\">\n",
       "<caption>A data.frame: 1 × 17</caption>\n",
       "<thead>\n",
       "\t<tr><th></th><th scope=col>ENSGID</th><th scope=col>NAME</th><th scope=col>CHR</th><th scope=col>START</th><th scope=col>END</th><th scope=col>TSS</th><th scope=col>INDEX</th><th scope=col>WINDOW</th><th scope=col>POSITION</th><th scope=col>TSS_DISTANCE</th><th scope=col>MAGMA_P</th><th scope=col>coloc_pip</th><th scope=col>coloc_WT</th><th scope=col>p_SMR</th><th scope=col>SMR_WT</th><th scope=col>P_EQTL</th><th scope=col>EQTL_WT</th></tr>\n",
       "\t<tr><th></th><th scope=col>&lt;chr&gt;</th><th scope=col>&lt;chr&gt;</th><th scope=col>&lt;int&gt;</th><th scope=col>&lt;int&gt;</th><th scope=col>&lt;int&gt;</th><th scope=col>&lt;int&gt;</th><th scope=col>&lt;chr&gt;</th><th scope=col>&lt;int&gt;</th><th scope=col>&lt;int&gt;</th><th scope=col>&lt;int&gt;</th><th scope=col>&lt;dbl&gt;</th><th scope=col>&lt;dbl&gt;</th><th scope=col>&lt;dbl&gt;</th><th scope=col>&lt;dbl&gt;</th><th scope=col>&lt;dbl&gt;</th><th scope=col>&lt;dbl&gt;</th><th scope=col>&lt;dbl&gt;</th></tr>\n",
       "</thead>\n",
       "<tbody>\n",
       "\t<tr><th scope=row>1</th><td>ENSG00000010318</td><td>PHF7</td><td>3</td><td>52444673</td><td>52457657</td><td>52444673</td><td>rs2276824</td><td>2</td><td>52637486</td><td>192813</td><td>0.00072766</td><td>0</td><td>0</td><td>NA</td><td>0</td><td>NA</td><td>0</td></tr>\n",
       "</tbody>\n",
       "</table>\n"
      ],
      "text/latex": [
       "A data.frame: 1 × 17\n",
       "\\begin{tabular}{r|lllllllllllllllll}\n",
       "  & ENSGID & NAME & CHR & START & END & TSS & INDEX & WINDOW & POSITION & TSS\\_DISTANCE & MAGMA\\_P & coloc\\_pip & coloc\\_WT & p\\_SMR & SMR\\_WT & P\\_EQTL & EQTL\\_WT\\\\\n",
       "  & <chr> & <chr> & <int> & <int> & <int> & <int> & <chr> & <int> & <int> & <int> & <dbl> & <dbl> & <dbl> & <dbl> & <dbl> & <dbl> & <dbl>\\\\\n",
       "\\hline\n",
       "\t1 & ENSG00000010318 & PHF7 & 3 & 52444673 & 52457657 & 52444673 & rs2276824 & 2 & 52637486 & 192813 & 0.00072766 & 0 & 0 & NA & 0 & NA & 0\\\\\n",
       "\\end{tabular}\n"
      ],
      "text/markdown": [
       "\n",
       "A data.frame: 1 × 17\n",
       "\n",
       "| <!--/--> | ENSGID &lt;chr&gt; | NAME &lt;chr&gt; | CHR &lt;int&gt; | START &lt;int&gt; | END &lt;int&gt; | TSS &lt;int&gt; | INDEX &lt;chr&gt; | WINDOW &lt;int&gt; | POSITION &lt;int&gt; | TSS_DISTANCE &lt;int&gt; | MAGMA_P &lt;dbl&gt; | coloc_pip &lt;dbl&gt; | coloc_WT &lt;dbl&gt; | p_SMR &lt;dbl&gt; | SMR_WT &lt;dbl&gt; | P_EQTL &lt;dbl&gt; | EQTL_WT &lt;dbl&gt; |\n",
       "|---|---|---|---|---|---|---|---|---|---|---|---|---|---|---|---|---|---|\n",
       "| 1 | ENSG00000010318 | PHF7 | 3 | 52444673 | 52457657 | 52444673 | rs2276824 | 2 | 52637486 | 192813 | 0.00072766 | 0 | 0 | NA | 0 | NA | 0 |\n",
       "\n"
      ],
      "text/plain": [
       "  ENSGID          NAME CHR START    END      TSS      INDEX     WINDOW POSITION\n",
       "1 ENSG00000010318 PHF7 3   52444673 52457657 52444673 rs2276824 2      52637486\n",
       "  TSS_DISTANCE MAGMA_P    coloc_pip coloc_WT p_SMR SMR_WT P_EQTL EQTL_WT\n",
       "1 192813       0.00072766 0         0        NA    0      NA     0      "
      ]
     },
     "metadata": {},
     "output_type": "display_data"
    }
   ],
   "source": [
    "head(gene_variant_4,1)"
   ]
  },
  {
   "cell_type": "code",
   "execution_count": 24,
   "id": "5cab6ac5",
   "metadata": {},
   "outputs": [],
   "source": [
    "### LDSC(Expression modifier Score)"
   ]
  },
  {
   "cell_type": "code",
   "execution_count": 25,
   "id": "bdad9294",
   "metadata": {},
   "outputs": [],
   "source": [
    "trans_ldsc <- read.table(\"../../ANALYSIS/GTEX/METSIM_LDSC_RESULTS.TAB\",fill=TRUE,row.names=NULL,header=TRUE)"
   ]
  },
  {
   "cell_type": "code",
   "execution_count": 26,
   "id": "b740e601",
   "metadata": {},
   "outputs": [
    {
     "data": {
      "text/html": [
       "<table class=\"dataframe\">\n",
       "<caption>A data.frame: 2 × 5</caption>\n",
       "<thead>\n",
       "\t<tr><th></th><th scope=col>GENE</th><th scope=col>Enrichment_p</th><th scope=col>Coefficient_z_score</th><th scope=col>Tissue</th><th scope=col>TSS</th></tr>\n",
       "\t<tr><th></th><th scope=col>&lt;chr&gt;</th><th scope=col>&lt;dbl&gt;</th><th scope=col>&lt;dbl&gt;</th><th scope=col>&lt;chr&gt;</th><th scope=col>&lt;int&gt;</th></tr>\n",
       "</thead>\n",
       "<tbody>\n",
       "\t<tr><th scope=row>1</th><td>CCDC90B</td><td>0.3255285</td><td>0.9855832</td><td>Adrenal_Gland</td><td>82997450</td></tr>\n",
       "\t<tr><th scope=row>2</th><td>PCF11  </td><td>0.4580465</td><td>0.7435084</td><td>Artery_Tibial</td><td>82868030</td></tr>\n",
       "</tbody>\n",
       "</table>\n"
      ],
      "text/latex": [
       "A data.frame: 2 × 5\n",
       "\\begin{tabular}{r|lllll}\n",
       "  & GENE & Enrichment\\_p & Coefficient\\_z\\_score & Tissue & TSS\\\\\n",
       "  & <chr> & <dbl> & <dbl> & <chr> & <int>\\\\\n",
       "\\hline\n",
       "\t1 & CCDC90B & 0.3255285 & 0.9855832 & Adrenal\\_Gland & 82997450\\\\\n",
       "\t2 & PCF11   & 0.4580465 & 0.7435084 & Artery\\_Tibial & 82868030\\\\\n",
       "\\end{tabular}\n"
      ],
      "text/markdown": [
       "\n",
       "A data.frame: 2 × 5\n",
       "\n",
       "| <!--/--> | GENE &lt;chr&gt; | Enrichment_p &lt;dbl&gt; | Coefficient_z_score &lt;dbl&gt; | Tissue &lt;chr&gt; | TSS &lt;int&gt; |\n",
       "|---|---|---|---|---|---|\n",
       "| 1 | CCDC90B | 0.3255285 | 0.9855832 | Adrenal_Gland | 82997450 |\n",
       "| 2 | PCF11   | 0.4580465 | 0.7435084 | Artery_Tibial | 82868030 |\n",
       "\n"
      ],
      "text/plain": [
       "  GENE    Enrichment_p Coefficient_z_score Tissue        TSS     \n",
       "1 CCDC90B 0.3255285    0.9855832           Adrenal_Gland 82997450\n",
       "2 PCF11   0.4580465    0.7435084           Artery_Tibial 82868030"
      ]
     },
     "metadata": {},
     "output_type": "display_data"
    }
   ],
   "source": [
    "head(trans_ldsc,2)"
   ]
  },
  {
   "cell_type": "code",
   "execution_count": 27,
   "id": "551de5cd",
   "metadata": {},
   "outputs": [],
   "source": [
    "gene_variant_5 <- data.frame()\n",
    "for (i in 1:nrow(gene_variant_4) ){\n",
    "line_q <- gene_variant_4[i,]\n",
    "ensg_q <- as.character(line_q[2])\n",
    "genep<- nrow(trans_ldsc%>%filter(GENE==ensg_q))\n",
    "if (genep>0){\n",
    "ldsc_df <- trans_ldsc%>%filter(GENE==ensg_q)%>%select(Tissue,Enrichment_p)%>%mutate(weight_ldsc = case_when(grepl(\"Artery|Adipose|Heart\", Tissue) ~ \"1\",TRUE ~ '0.8'))\n",
    "p_ldsc <- min(ldsc_df$Enrichment_p)\n",
    "smr_weight <- max(as.double((ldsc_df%>%filter(Enrichment_p==p_ldsc))$weight_ldsc))\n",
    "}else {\n",
    "p_ldsc <- NA\n",
    "smr_weight <-0 \n",
    "}\n",
    "tmp_df <- gene_variant_4[i,]%>%mutate(LDSC_P=p_ldsc,LDSC_WT=smr_weight)\n",
    "gene_variant_5 <- rbind(gene_variant_5,tmp_df)\n",
    "}\n"
   ]
  },
  {
   "cell_type": "code",
   "execution_count": 28,
   "id": "93a402d4",
   "metadata": {},
   "outputs": [
    {
     "data": {
      "text/html": [
       "<table class=\"dataframe\">\n",
       "<caption>A data.frame: 6 × 19</caption>\n",
       "<thead>\n",
       "\t<tr><th></th><th scope=col>ENSGID</th><th scope=col>NAME</th><th scope=col>CHR</th><th scope=col>START</th><th scope=col>END</th><th scope=col>TSS</th><th scope=col>INDEX</th><th scope=col>WINDOW</th><th scope=col>POSITION</th><th scope=col>TSS_DISTANCE</th><th scope=col>MAGMA_P</th><th scope=col>coloc_pip</th><th scope=col>coloc_WT</th><th scope=col>p_SMR</th><th scope=col>SMR_WT</th><th scope=col>P_EQTL</th><th scope=col>EQTL_WT</th><th scope=col>LDSC_P</th><th scope=col>LDSC_WT</th></tr>\n",
       "\t<tr><th></th><th scope=col>&lt;chr&gt;</th><th scope=col>&lt;chr&gt;</th><th scope=col>&lt;int&gt;</th><th scope=col>&lt;int&gt;</th><th scope=col>&lt;int&gt;</th><th scope=col>&lt;int&gt;</th><th scope=col>&lt;chr&gt;</th><th scope=col>&lt;int&gt;</th><th scope=col>&lt;int&gt;</th><th scope=col>&lt;int&gt;</th><th scope=col>&lt;dbl&gt;</th><th scope=col>&lt;dbl&gt;</th><th scope=col>&lt;dbl&gt;</th><th scope=col>&lt;dbl&gt;</th><th scope=col>&lt;dbl&gt;</th><th scope=col>&lt;dbl&gt;</th><th scope=col>&lt;dbl&gt;</th><th scope=col>&lt;dbl&gt;</th><th scope=col>&lt;dbl&gt;</th></tr>\n",
       "</thead>\n",
       "<tbody>\n",
       "\t<tr><th scope=row>1</th><td>ENSG00000010318</td><td>PHF7  </td><td>3</td><td>52444673</td><td>52457657</td><td>52444673</td><td>rs2276824</td><td>2</td><td>52637486</td><td> 192813</td><td>7.2766e-04</td><td>0</td><td>0</td><td>          NA</td><td>0.0</td><td>NA</td><td>0</td><td>          NA</td><td>0.0</td></tr>\n",
       "\t<tr><th scope=row>2</th><td>ENSG00000010319</td><td>SEMA3G</td><td>3</td><td>52467069</td><td>52479101</td><td>52479101</td><td>rs2276824</td><td>2</td><td>52637486</td><td> 158385</td><td>1.0045e-03</td><td>0</td><td>0</td><td>          NA</td><td>0.0</td><td>NA</td><td>0</td><td>7.674931e-05</td><td>1.0</td></tr>\n",
       "\t<tr><th scope=row>3</th><td>ENSG00000010322</td><td>NISCH </td><td>3</td><td>52489134</td><td>52527087</td><td>52489134</td><td>rs2276824</td><td>2</td><td>52637486</td><td> 148352</td><td>3.0592e-05</td><td>0</td><td>0</td><td>0.1799546000</td><td>1.0</td><td>NA</td><td>0</td><td>1.579683e-05</td><td>1.0</td></tr>\n",
       "\t<tr><th scope=row>4</th><td>ENSG00000010327</td><td>STAB1 </td><td>3</td><td>52529354</td><td>52558511</td><td>52529354</td><td>rs2276824</td><td>2</td><td>52637486</td><td> 108132</td><td>3.8966e-06</td><td>0</td><td>0</td><td>0.1485833000</td><td>0.8</td><td>NA</td><td>0</td><td>1.539592e-05</td><td>1.0</td></tr>\n",
       "\t<tr><th scope=row>5</th><td>ENSG00000016391</td><td>CHDH  </td><td>3</td><td>53846362</td><td>53880417</td><td>53880417</td><td>rs2276824</td><td>2</td><td>52637486</td><td>1242931</td><td>9.4306e-02</td><td>0</td><td>0</td><td>0.0818636600</td><td>1.0</td><td>NA</td><td>0</td><td>9.866012e-01</td><td>0.8</td></tr>\n",
       "\t<tr><th scope=row>6</th><td>ENSG00000016864</td><td>GLT8D1</td><td>3</td><td>52728505</td><td>52740048</td><td>52740048</td><td>rs2276824</td><td>2</td><td>52637486</td><td> 102562</td><td>1.7761e-06</td><td>0</td><td>0</td><td>0.0005232975</td><td>0.8</td><td>NA</td><td>0</td><td>2.495341e-03</td><td>1.0</td></tr>\n",
       "</tbody>\n",
       "</table>\n"
      ],
      "text/latex": [
       "A data.frame: 6 × 19\n",
       "\\begin{tabular}{r|lllllllllllllllllll}\n",
       "  & ENSGID & NAME & CHR & START & END & TSS & INDEX & WINDOW & POSITION & TSS\\_DISTANCE & MAGMA\\_P & coloc\\_pip & coloc\\_WT & p\\_SMR & SMR\\_WT & P\\_EQTL & EQTL\\_WT & LDSC\\_P & LDSC\\_WT\\\\\n",
       "  & <chr> & <chr> & <int> & <int> & <int> & <int> & <chr> & <int> & <int> & <int> & <dbl> & <dbl> & <dbl> & <dbl> & <dbl> & <dbl> & <dbl> & <dbl> & <dbl>\\\\\n",
       "\\hline\n",
       "\t1 & ENSG00000010318 & PHF7   & 3 & 52444673 & 52457657 & 52444673 & rs2276824 & 2 & 52637486 &  192813 & 7.2766e-04 & 0 & 0 &           NA & 0.0 & NA & 0 &           NA & 0.0\\\\\n",
       "\t2 & ENSG00000010319 & SEMA3G & 3 & 52467069 & 52479101 & 52479101 & rs2276824 & 2 & 52637486 &  158385 & 1.0045e-03 & 0 & 0 &           NA & 0.0 & NA & 0 & 7.674931e-05 & 1.0\\\\\n",
       "\t3 & ENSG00000010322 & NISCH  & 3 & 52489134 & 52527087 & 52489134 & rs2276824 & 2 & 52637486 &  148352 & 3.0592e-05 & 0 & 0 & 0.1799546000 & 1.0 & NA & 0 & 1.579683e-05 & 1.0\\\\\n",
       "\t4 & ENSG00000010327 & STAB1  & 3 & 52529354 & 52558511 & 52529354 & rs2276824 & 2 & 52637486 &  108132 & 3.8966e-06 & 0 & 0 & 0.1485833000 & 0.8 & NA & 0 & 1.539592e-05 & 1.0\\\\\n",
       "\t5 & ENSG00000016391 & CHDH   & 3 & 53846362 & 53880417 & 53880417 & rs2276824 & 2 & 52637486 & 1242931 & 9.4306e-02 & 0 & 0 & 0.0818636600 & 1.0 & NA & 0 & 9.866012e-01 & 0.8\\\\\n",
       "\t6 & ENSG00000016864 & GLT8D1 & 3 & 52728505 & 52740048 & 52740048 & rs2276824 & 2 & 52637486 &  102562 & 1.7761e-06 & 0 & 0 & 0.0005232975 & 0.8 & NA & 0 & 2.495341e-03 & 1.0\\\\\n",
       "\\end{tabular}\n"
      ],
      "text/markdown": [
       "\n",
       "A data.frame: 6 × 19\n",
       "\n",
       "| <!--/--> | ENSGID &lt;chr&gt; | NAME &lt;chr&gt; | CHR &lt;int&gt; | START &lt;int&gt; | END &lt;int&gt; | TSS &lt;int&gt; | INDEX &lt;chr&gt; | WINDOW &lt;int&gt; | POSITION &lt;int&gt; | TSS_DISTANCE &lt;int&gt; | MAGMA_P &lt;dbl&gt; | coloc_pip &lt;dbl&gt; | coloc_WT &lt;dbl&gt; | p_SMR &lt;dbl&gt; | SMR_WT &lt;dbl&gt; | P_EQTL &lt;dbl&gt; | EQTL_WT &lt;dbl&gt; | LDSC_P &lt;dbl&gt; | LDSC_WT &lt;dbl&gt; |\n",
       "|---|---|---|---|---|---|---|---|---|---|---|---|---|---|---|---|---|---|---|---|\n",
       "| 1 | ENSG00000010318 | PHF7   | 3 | 52444673 | 52457657 | 52444673 | rs2276824 | 2 | 52637486 |  192813 | 7.2766e-04 | 0 | 0 |           NA | 0.0 | NA | 0 |           NA | 0.0 |\n",
       "| 2 | ENSG00000010319 | SEMA3G | 3 | 52467069 | 52479101 | 52479101 | rs2276824 | 2 | 52637486 |  158385 | 1.0045e-03 | 0 | 0 |           NA | 0.0 | NA | 0 | 7.674931e-05 | 1.0 |\n",
       "| 3 | ENSG00000010322 | NISCH  | 3 | 52489134 | 52527087 | 52489134 | rs2276824 | 2 | 52637486 |  148352 | 3.0592e-05 | 0 | 0 | 0.1799546000 | 1.0 | NA | 0 | 1.579683e-05 | 1.0 |\n",
       "| 4 | ENSG00000010327 | STAB1  | 3 | 52529354 | 52558511 | 52529354 | rs2276824 | 2 | 52637486 |  108132 | 3.8966e-06 | 0 | 0 | 0.1485833000 | 0.8 | NA | 0 | 1.539592e-05 | 1.0 |\n",
       "| 5 | ENSG00000016391 | CHDH   | 3 | 53846362 | 53880417 | 53880417 | rs2276824 | 2 | 52637486 | 1242931 | 9.4306e-02 | 0 | 0 | 0.0818636600 | 1.0 | NA | 0 | 9.866012e-01 | 0.8 |\n",
       "| 6 | ENSG00000016864 | GLT8D1 | 3 | 52728505 | 52740048 | 52740048 | rs2276824 | 2 | 52637486 |  102562 | 1.7761e-06 | 0 | 0 | 0.0005232975 | 0.8 | NA | 0 | 2.495341e-03 | 1.0 |\n",
       "\n"
      ],
      "text/plain": [
       "  ENSGID          NAME   CHR START    END      TSS      INDEX     WINDOW\n",
       "1 ENSG00000010318 PHF7   3   52444673 52457657 52444673 rs2276824 2     \n",
       "2 ENSG00000010319 SEMA3G 3   52467069 52479101 52479101 rs2276824 2     \n",
       "3 ENSG00000010322 NISCH  3   52489134 52527087 52489134 rs2276824 2     \n",
       "4 ENSG00000010327 STAB1  3   52529354 52558511 52529354 rs2276824 2     \n",
       "5 ENSG00000016391 CHDH   3   53846362 53880417 53880417 rs2276824 2     \n",
       "6 ENSG00000016864 GLT8D1 3   52728505 52740048 52740048 rs2276824 2     \n",
       "  POSITION TSS_DISTANCE MAGMA_P    coloc_pip coloc_WT p_SMR        SMR_WT\n",
       "1 52637486  192813      7.2766e-04 0         0                  NA 0.0   \n",
       "2 52637486  158385      1.0045e-03 0         0                  NA 0.0   \n",
       "3 52637486  148352      3.0592e-05 0         0        0.1799546000 1.0   \n",
       "4 52637486  108132      3.8966e-06 0         0        0.1485833000 0.8   \n",
       "5 52637486 1242931      9.4306e-02 0         0        0.0818636600 1.0   \n",
       "6 52637486  102562      1.7761e-06 0         0        0.0005232975 0.8   \n",
       "  P_EQTL EQTL_WT LDSC_P       LDSC_WT\n",
       "1 NA     0                 NA 0.0    \n",
       "2 NA     0       7.674931e-05 1.0    \n",
       "3 NA     0       1.579683e-05 1.0    \n",
       "4 NA     0       1.539592e-05 1.0    \n",
       "5 NA     0       9.866012e-01 0.8    \n",
       "6 NA     0       2.495341e-03 1.0    "
      ]
     },
     "metadata": {},
     "output_type": "display_data"
    }
   ],
   "source": [
    "head(gene_variant_5)"
   ]
  },
  {
   "cell_type": "code",
   "execution_count": 29,
   "id": "01de3515",
   "metadata": {},
   "outputs": [],
   "source": [
    "#gene_variant_5 <- gene_variant_4"
   ]
  },
  {
   "cell_type": "code",
   "execution_count": 30,
   "id": "0f3a9e49",
   "metadata": {},
   "outputs": [],
   "source": [
    "##EMS overlaps"
   ]
  },
  {
   "cell_type": "code",
   "execution_count": 31,
   "id": "9c033268",
   "metadata": {},
   "outputs": [],
   "source": [
    "trans_ems <- read.table(\"../../ANALYSIS/EMS_OVERLAP/METSIM_OVERLAP_EMS.TAB\",fill=TRUE,row.names=NULL,header=TRUE)"
   ]
  },
  {
   "cell_type": "code",
   "execution_count": 32,
   "id": "47c19ec0",
   "metadata": {},
   "outputs": [
    {
     "data": {
      "text/html": [
       "<table class=\"dataframe\">\n",
       "<caption>A data.frame: 2 × 6</caption>\n",
       "<thead>\n",
       "\t<tr><th></th><th scope=col>CHROMOSOME</th><th scope=col>POSITION</th><th scope=col>GENE</th><th scope=col>EMS_N</th><th scope=col>Tissue</th><th scope=col>scaled_EMS</th></tr>\n",
       "\t<tr><th></th><th scope=col>&lt;int&gt;</th><th scope=col>&lt;int&gt;</th><th scope=col>&lt;chr&gt;</th><th scope=col>&lt;dbl&gt;</th><th scope=col>&lt;chr&gt;</th><th scope=col>&lt;dbl&gt;</th></tr>\n",
       "</thead>\n",
       "<tbody>\n",
       "\t<tr><th scope=row>1</th><td>11</td><td>  1022327</td><td>ENSG000001849565</td><td>101.41</td><td>Artery_Aorta        </td><td>0.0002388518</td></tr>\n",
       "\t<tr><th scope=row>2</th><td>11</td><td>104916866</td><td>ENSG00000204397 </td><td>149.29</td><td>Adipose_Subcutaneous</td><td>0.0087101294</td></tr>\n",
       "</tbody>\n",
       "</table>\n"
      ],
      "text/latex": [
       "A data.frame: 2 × 6\n",
       "\\begin{tabular}{r|llllll}\n",
       "  & CHROMOSOME & POSITION & GENE & EMS\\_N & Tissue & scaled\\_EMS\\\\\n",
       "  & <int> & <int> & <chr> & <dbl> & <chr> & <dbl>\\\\\n",
       "\\hline\n",
       "\t1 & 11 &   1022327 & ENSG000001849565 & 101.41 & Artery\\_Aorta         & 0.0002388518\\\\\n",
       "\t2 & 11 & 104916866 & ENSG00000204397  & 149.29 & Adipose\\_Subcutaneous & 0.0087101294\\\\\n",
       "\\end{tabular}\n"
      ],
      "text/markdown": [
       "\n",
       "A data.frame: 2 × 6\n",
       "\n",
       "| <!--/--> | CHROMOSOME &lt;int&gt; | POSITION &lt;int&gt; | GENE &lt;chr&gt; | EMS_N &lt;dbl&gt; | Tissue &lt;chr&gt; | scaled_EMS &lt;dbl&gt; |\n",
       "|---|---|---|---|---|---|---|\n",
       "| 1 | 11 |   1022327 | ENSG000001849565 | 101.41 | Artery_Aorta         | 0.0002388518 |\n",
       "| 2 | 11 | 104916866 | ENSG00000204397  | 149.29 | Adipose_Subcutaneous | 0.0087101294 |\n",
       "\n"
      ],
      "text/plain": [
       "  CHROMOSOME POSITION  GENE             EMS_N  Tissue              \n",
       "1 11           1022327 ENSG000001849565 101.41 Artery_Aorta        \n",
       "2 11         104916866 ENSG00000204397  149.29 Adipose_Subcutaneous\n",
       "  scaled_EMS  \n",
       "1 0.0002388518\n",
       "2 0.0087101294"
      ]
     },
     "metadata": {},
     "output_type": "display_data"
    }
   ],
   "source": [
    "head(trans_ems,2)"
   ]
  },
  {
   "cell_type": "code",
   "execution_count": 33,
   "id": "0c59b80f",
   "metadata": {},
   "outputs": [],
   "source": [
    "gene_variant_6 <- data.frame()\n",
    "for (i in 1:nrow(gene_variant_5) ){\n",
    "line_q <- gene_variant_5[i,]\n",
    "ensg_q <- as.character(line_q[1])\n",
    "genep<- nrow(trans_ems%>%filter(GENE==ensg_q))\n",
    "if (genep>0){\n",
    "ems_df <- trans_ems%>%filter(GENE==ensg_q)%>%select(Tissue,scaled_EMS)%>%mutate(weight_ems = case_when(grepl(\"Artery|Adipose|Heart\", Tissue) ~ \"1\",TRUE ~ '0.8'))\n",
    "s_ems <- max(ems_df$scaled_EMS)\n",
    "ems_weight <- max(as.double((ems_df%>%filter(scaled_EMS==s_ems))$weight_ems))\n",
    "}else {\n",
    "s_ems <- 0\n",
    "ems_weight <-0 \n",
    "}\n",
    "tmp_df <- gene_variant_5[i,]%>%mutate(EMS_SCORE=s_ems,EMS_WT=ems_weight)\n",
    "gene_variant_6 <- rbind(gene_variant_6,tmp_df)\n",
    "}"
   ]
  },
  {
   "cell_type": "code",
   "execution_count": 34,
   "id": "e026dd07",
   "metadata": {},
   "outputs": [
    {
     "data": {
      "text/html": [
       "<table class=\"dataframe\">\n",
       "<caption>A data.frame: 2 × 21</caption>\n",
       "<thead>\n",
       "\t<tr><th></th><th scope=col>ENSGID</th><th scope=col>NAME</th><th scope=col>CHR</th><th scope=col>START</th><th scope=col>END</th><th scope=col>TSS</th><th scope=col>INDEX</th><th scope=col>WINDOW</th><th scope=col>POSITION</th><th scope=col>TSS_DISTANCE</th><th scope=col>⋯</th><th scope=col>coloc_pip</th><th scope=col>coloc_WT</th><th scope=col>p_SMR</th><th scope=col>SMR_WT</th><th scope=col>P_EQTL</th><th scope=col>EQTL_WT</th><th scope=col>LDSC_P</th><th scope=col>LDSC_WT</th><th scope=col>EMS_SCORE</th><th scope=col>EMS_WT</th></tr>\n",
       "\t<tr><th></th><th scope=col>&lt;chr&gt;</th><th scope=col>&lt;chr&gt;</th><th scope=col>&lt;int&gt;</th><th scope=col>&lt;int&gt;</th><th scope=col>&lt;int&gt;</th><th scope=col>&lt;int&gt;</th><th scope=col>&lt;chr&gt;</th><th scope=col>&lt;int&gt;</th><th scope=col>&lt;int&gt;</th><th scope=col>&lt;int&gt;</th><th scope=col>⋯</th><th scope=col>&lt;dbl&gt;</th><th scope=col>&lt;dbl&gt;</th><th scope=col>&lt;dbl&gt;</th><th scope=col>&lt;dbl&gt;</th><th scope=col>&lt;dbl&gt;</th><th scope=col>&lt;dbl&gt;</th><th scope=col>&lt;dbl&gt;</th><th scope=col>&lt;dbl&gt;</th><th scope=col>&lt;dbl&gt;</th><th scope=col>&lt;dbl&gt;</th></tr>\n",
       "</thead>\n",
       "<tbody>\n",
       "\t<tr><th scope=row>1</th><td>ENSG00000010318</td><td>PHF7  </td><td>3</td><td>52444673</td><td>52457657</td><td>52444673</td><td>rs2276824</td><td>2</td><td>52637486</td><td>192813</td><td>⋯</td><td>0</td><td>0</td><td>NA</td><td>0</td><td>NA</td><td>0</td><td>          NA</td><td>0</td><td>0.0000000000</td><td>0</td></tr>\n",
       "\t<tr><th scope=row>2</th><td>ENSG00000010319</td><td>SEMA3G</td><td>3</td><td>52467069</td><td>52479101</td><td>52479101</td><td>rs2276824</td><td>2</td><td>52637486</td><td>158385</td><td>⋯</td><td>0</td><td>0</td><td>NA</td><td>0</td><td>NA</td><td>0</td><td>7.674931e-05</td><td>1</td><td>0.0003131613</td><td>1</td></tr>\n",
       "</tbody>\n",
       "</table>\n"
      ],
      "text/latex": [
       "A data.frame: 2 × 21\n",
       "\\begin{tabular}{r|lllllllllllllllllllll}\n",
       "  & ENSGID & NAME & CHR & START & END & TSS & INDEX & WINDOW & POSITION & TSS\\_DISTANCE & ⋯ & coloc\\_pip & coloc\\_WT & p\\_SMR & SMR\\_WT & P\\_EQTL & EQTL\\_WT & LDSC\\_P & LDSC\\_WT & EMS\\_SCORE & EMS\\_WT\\\\\n",
       "  & <chr> & <chr> & <int> & <int> & <int> & <int> & <chr> & <int> & <int> & <int> & ⋯ & <dbl> & <dbl> & <dbl> & <dbl> & <dbl> & <dbl> & <dbl> & <dbl> & <dbl> & <dbl>\\\\\n",
       "\\hline\n",
       "\t1 & ENSG00000010318 & PHF7   & 3 & 52444673 & 52457657 & 52444673 & rs2276824 & 2 & 52637486 & 192813 & ⋯ & 0 & 0 & NA & 0 & NA & 0 &           NA & 0 & 0.0000000000 & 0\\\\\n",
       "\t2 & ENSG00000010319 & SEMA3G & 3 & 52467069 & 52479101 & 52479101 & rs2276824 & 2 & 52637486 & 158385 & ⋯ & 0 & 0 & NA & 0 & NA & 0 & 7.674931e-05 & 1 & 0.0003131613 & 1\\\\\n",
       "\\end{tabular}\n"
      ],
      "text/markdown": [
       "\n",
       "A data.frame: 2 × 21\n",
       "\n",
       "| <!--/--> | ENSGID &lt;chr&gt; | NAME &lt;chr&gt; | CHR &lt;int&gt; | START &lt;int&gt; | END &lt;int&gt; | TSS &lt;int&gt; | INDEX &lt;chr&gt; | WINDOW &lt;int&gt; | POSITION &lt;int&gt; | TSS_DISTANCE &lt;int&gt; | ⋯ ⋯ | coloc_pip &lt;dbl&gt; | coloc_WT &lt;dbl&gt; | p_SMR &lt;dbl&gt; | SMR_WT &lt;dbl&gt; | P_EQTL &lt;dbl&gt; | EQTL_WT &lt;dbl&gt; | LDSC_P &lt;dbl&gt; | LDSC_WT &lt;dbl&gt; | EMS_SCORE &lt;dbl&gt; | EMS_WT &lt;dbl&gt; |\n",
       "|---|---|---|---|---|---|---|---|---|---|---|---|---|---|---|---|---|---|---|---|---|---|\n",
       "| 1 | ENSG00000010318 | PHF7   | 3 | 52444673 | 52457657 | 52444673 | rs2276824 | 2 | 52637486 | 192813 | ⋯ | 0 | 0 | NA | 0 | NA | 0 |           NA | 0 | 0.0000000000 | 0 |\n",
       "| 2 | ENSG00000010319 | SEMA3G | 3 | 52467069 | 52479101 | 52479101 | rs2276824 | 2 | 52637486 | 158385 | ⋯ | 0 | 0 | NA | 0 | NA | 0 | 7.674931e-05 | 1 | 0.0003131613 | 1 |\n",
       "\n"
      ],
      "text/plain": [
       "  ENSGID          NAME   CHR START    END      TSS      INDEX     WINDOW\n",
       "1 ENSG00000010318 PHF7   3   52444673 52457657 52444673 rs2276824 2     \n",
       "2 ENSG00000010319 SEMA3G 3   52467069 52479101 52479101 rs2276824 2     \n",
       "  POSITION TSS_DISTANCE ⋯ coloc_pip coloc_WT p_SMR SMR_WT P_EQTL EQTL_WT\n",
       "1 52637486 192813       ⋯ 0         0        NA    0      NA     0      \n",
       "2 52637486 158385       ⋯ 0         0        NA    0      NA     0      \n",
       "  LDSC_P       LDSC_WT EMS_SCORE    EMS_WT\n",
       "1           NA 0       0.0000000000 0     \n",
       "2 7.674931e-05 1       0.0003131613 1     "
      ]
     },
     "metadata": {},
     "output_type": "display_data"
    }
   ],
   "source": [
    "head(gene_variant_6,2)"
   ]
  },
  {
   "cell_type": "code",
   "execution_count": 35,
   "id": "d126b4d5",
   "metadata": {},
   "outputs": [],
   "source": [
    "### POPS\n",
    "stand01 <- function(x){(x-min(x,na.rm = TRUE))/(max(x,na.rm = TRUE)-min(x,na.rm = TRUE))}"
   ]
  },
  {
   "cell_type": "code",
   "execution_count": 36,
   "id": "d2f91753",
   "metadata": {},
   "outputs": [],
   "source": [
    "pops_ems <- read.table(\"../../ANALYSIS/POPS/METSIM_POPS.txt\",fill=TRUE,row.names=NULL,header=TRUE)%>%mutate(POPS=stand01(PoPS_score))"
   ]
  },
  {
   "cell_type": "code",
   "execution_count": 37,
   "id": "6a2b8016",
   "metadata": {},
   "outputs": [
    {
     "data": {
      "text/html": [
       "<table class=\"dataframe\">\n",
       "<caption>A data.frame: 2 × 4</caption>\n",
       "<thead>\n",
       "\t<tr><th></th><th scope=col>ENSG</th><th scope=col>GENE</th><th scope=col>PoPS_score</th><th scope=col>POPS</th></tr>\n",
       "\t<tr><th></th><th scope=col>&lt;chr&gt;</th><th scope=col>&lt;chr&gt;</th><th scope=col>&lt;dbl&gt;</th><th scope=col>&lt;dbl&gt;</th></tr>\n",
       "</thead>\n",
       "<tbody>\n",
       "\t<tr><th scope=row>1</th><td>ENSG00000137509</td><td>PRCP    </td><td>-0.9374609</td><td>0.4197745</td></tr>\n",
       "\t<tr><th scope=row>2</th><td>ENSG00000165490</td><td>C11orf82</td><td>-0.6625387</td><td>0.4414417</td></tr>\n",
       "</tbody>\n",
       "</table>\n"
      ],
      "text/latex": [
       "A data.frame: 2 × 4\n",
       "\\begin{tabular}{r|llll}\n",
       "  & ENSG & GENE & PoPS\\_score & POPS\\\\\n",
       "  & <chr> & <chr> & <dbl> & <dbl>\\\\\n",
       "\\hline\n",
       "\t1 & ENSG00000137509 & PRCP     & -0.9374609 & 0.4197745\\\\\n",
       "\t2 & ENSG00000165490 & C11orf82 & -0.6625387 & 0.4414417\\\\\n",
       "\\end{tabular}\n"
      ],
      "text/markdown": [
       "\n",
       "A data.frame: 2 × 4\n",
       "\n",
       "| <!--/--> | ENSG &lt;chr&gt; | GENE &lt;chr&gt; | PoPS_score &lt;dbl&gt; | POPS &lt;dbl&gt; |\n",
       "|---|---|---|---|---|\n",
       "| 1 | ENSG00000137509 | PRCP     | -0.9374609 | 0.4197745 |\n",
       "| 2 | ENSG00000165490 | C11orf82 | -0.6625387 | 0.4414417 |\n",
       "\n"
      ],
      "text/plain": [
       "  ENSG            GENE     PoPS_score POPS     \n",
       "1 ENSG00000137509 PRCP     -0.9374609 0.4197745\n",
       "2 ENSG00000165490 C11orf82 -0.6625387 0.4414417"
      ]
     },
     "metadata": {},
     "output_type": "display_data"
    }
   ],
   "source": [
    "head(pops_ems,2)"
   ]
  },
  {
   "cell_type": "code",
   "execution_count": 38,
   "id": "0de41860",
   "metadata": {},
   "outputs": [],
   "source": [
    "gene_variant_7 <- data.frame()\n",
    "for (i in 1:nrow(gene_variant_6) ){\n",
    "line_q <- gene_variant_6[i,]\n",
    "ensg_q <- as.character(line_q[1])\n",
    "genep<- nrow(pops_ems%>%filter(ENSG==ensg_q))\n",
    "if (genep>0){\n",
    "pops_df <- pops_ems%>%filter(ENSG==ensg_q)%>%select(POPS)\n",
    "pops_score <- as.double(pops_df)\n",
    "}else {\n",
    "pops_score <- 0 \n",
    "}\n",
    "tmp_df <- gene_variant_6[i,]%>%mutate(POPS_SCORE=pops_score)\n",
    "gene_variant_7 <- rbind(gene_variant_7,tmp_df)\n",
    "}"
   ]
  },
  {
   "cell_type": "code",
   "execution_count": 39,
   "id": "3d9202ad",
   "metadata": {},
   "outputs": [
    {
     "data": {
      "text/html": [
       "<table class=\"dataframe\">\n",
       "<caption>A data.frame: 2 × 22</caption>\n",
       "<thead>\n",
       "\t<tr><th></th><th scope=col>ENSGID</th><th scope=col>NAME</th><th scope=col>CHR</th><th scope=col>START</th><th scope=col>END</th><th scope=col>TSS</th><th scope=col>INDEX</th><th scope=col>WINDOW</th><th scope=col>POSITION</th><th scope=col>TSS_DISTANCE</th><th scope=col>⋯</th><th scope=col>coloc_WT</th><th scope=col>p_SMR</th><th scope=col>SMR_WT</th><th scope=col>P_EQTL</th><th scope=col>EQTL_WT</th><th scope=col>LDSC_P</th><th scope=col>LDSC_WT</th><th scope=col>EMS_SCORE</th><th scope=col>EMS_WT</th><th scope=col>POPS_SCORE</th></tr>\n",
       "\t<tr><th></th><th scope=col>&lt;chr&gt;</th><th scope=col>&lt;chr&gt;</th><th scope=col>&lt;int&gt;</th><th scope=col>&lt;int&gt;</th><th scope=col>&lt;int&gt;</th><th scope=col>&lt;int&gt;</th><th scope=col>&lt;chr&gt;</th><th scope=col>&lt;int&gt;</th><th scope=col>&lt;int&gt;</th><th scope=col>&lt;int&gt;</th><th scope=col>⋯</th><th scope=col>&lt;dbl&gt;</th><th scope=col>&lt;dbl&gt;</th><th scope=col>&lt;dbl&gt;</th><th scope=col>&lt;dbl&gt;</th><th scope=col>&lt;dbl&gt;</th><th scope=col>&lt;dbl&gt;</th><th scope=col>&lt;dbl&gt;</th><th scope=col>&lt;dbl&gt;</th><th scope=col>&lt;dbl&gt;</th><th scope=col>&lt;dbl&gt;</th></tr>\n",
       "</thead>\n",
       "<tbody>\n",
       "\t<tr><th scope=row>1</th><td>ENSG00000010318</td><td>PHF7  </td><td>3</td><td>52444673</td><td>52457657</td><td>52444673</td><td>rs2276824</td><td>2</td><td>52637486</td><td>192813</td><td>⋯</td><td>0</td><td>NA</td><td>0</td><td>NA</td><td>0</td><td>          NA</td><td>0</td><td>0.0000000000</td><td>0</td><td>0.5255572</td></tr>\n",
       "\t<tr><th scope=row>2</th><td>ENSG00000010319</td><td>SEMA3G</td><td>3</td><td>52467069</td><td>52479101</td><td>52479101</td><td>rs2276824</td><td>2</td><td>52637486</td><td>158385</td><td>⋯</td><td>0</td><td>NA</td><td>0</td><td>NA</td><td>0</td><td>7.674931e-05</td><td>1</td><td>0.0003131613</td><td>1</td><td>0.5150698</td></tr>\n",
       "</tbody>\n",
       "</table>\n"
      ],
      "text/latex": [
       "A data.frame: 2 × 22\n",
       "\\begin{tabular}{r|lllllllllllllllllllll}\n",
       "  & ENSGID & NAME & CHR & START & END & TSS & INDEX & WINDOW & POSITION & TSS\\_DISTANCE & ⋯ & coloc\\_WT & p\\_SMR & SMR\\_WT & P\\_EQTL & EQTL\\_WT & LDSC\\_P & LDSC\\_WT & EMS\\_SCORE & EMS\\_WT & POPS\\_SCORE\\\\\n",
       "  & <chr> & <chr> & <int> & <int> & <int> & <int> & <chr> & <int> & <int> & <int> & ⋯ & <dbl> & <dbl> & <dbl> & <dbl> & <dbl> & <dbl> & <dbl> & <dbl> & <dbl> & <dbl>\\\\\n",
       "\\hline\n",
       "\t1 & ENSG00000010318 & PHF7   & 3 & 52444673 & 52457657 & 52444673 & rs2276824 & 2 & 52637486 & 192813 & ⋯ & 0 & NA & 0 & NA & 0 &           NA & 0 & 0.0000000000 & 0 & 0.5255572\\\\\n",
       "\t2 & ENSG00000010319 & SEMA3G & 3 & 52467069 & 52479101 & 52479101 & rs2276824 & 2 & 52637486 & 158385 & ⋯ & 0 & NA & 0 & NA & 0 & 7.674931e-05 & 1 & 0.0003131613 & 1 & 0.5150698\\\\\n",
       "\\end{tabular}\n"
      ],
      "text/markdown": [
       "\n",
       "A data.frame: 2 × 22\n",
       "\n",
       "| <!--/--> | ENSGID &lt;chr&gt; | NAME &lt;chr&gt; | CHR &lt;int&gt; | START &lt;int&gt; | END &lt;int&gt; | TSS &lt;int&gt; | INDEX &lt;chr&gt; | WINDOW &lt;int&gt; | POSITION &lt;int&gt; | TSS_DISTANCE &lt;int&gt; | ⋯ ⋯ | coloc_WT &lt;dbl&gt; | p_SMR &lt;dbl&gt; | SMR_WT &lt;dbl&gt; | P_EQTL &lt;dbl&gt; | EQTL_WT &lt;dbl&gt; | LDSC_P &lt;dbl&gt; | LDSC_WT &lt;dbl&gt; | EMS_SCORE &lt;dbl&gt; | EMS_WT &lt;dbl&gt; | POPS_SCORE &lt;dbl&gt; |\n",
       "|---|---|---|---|---|---|---|---|---|---|---|---|---|---|---|---|---|---|---|---|---|---|\n",
       "| 1 | ENSG00000010318 | PHF7   | 3 | 52444673 | 52457657 | 52444673 | rs2276824 | 2 | 52637486 | 192813 | ⋯ | 0 | NA | 0 | NA | 0 |           NA | 0 | 0.0000000000 | 0 | 0.5255572 |\n",
       "| 2 | ENSG00000010319 | SEMA3G | 3 | 52467069 | 52479101 | 52479101 | rs2276824 | 2 | 52637486 | 158385 | ⋯ | 0 | NA | 0 | NA | 0 | 7.674931e-05 | 1 | 0.0003131613 | 1 | 0.5150698 |\n",
       "\n"
      ],
      "text/plain": [
       "  ENSGID          NAME   CHR START    END      TSS      INDEX     WINDOW\n",
       "1 ENSG00000010318 PHF7   3   52444673 52457657 52444673 rs2276824 2     \n",
       "2 ENSG00000010319 SEMA3G 3   52467069 52479101 52479101 rs2276824 2     \n",
       "  POSITION TSS_DISTANCE ⋯ coloc_WT p_SMR SMR_WT P_EQTL EQTL_WT LDSC_P      \n",
       "1 52637486 192813       ⋯ 0        NA    0      NA     0                 NA\n",
       "2 52637486 158385       ⋯ 0        NA    0      NA     0       7.674931e-05\n",
       "  LDSC_WT EMS_SCORE    EMS_WT POPS_SCORE\n",
       "1 0       0.0000000000 0      0.5255572 \n",
       "2 1       0.0003131613 1      0.5150698 "
      ]
     },
     "metadata": {},
     "output_type": "display_data"
    }
   ],
   "source": [
    "head(gene_variant_7,2)"
   ]
  },
  {
   "cell_type": "code",
   "execution_count": 40,
   "id": "0ff727e2",
   "metadata": {},
   "outputs": [],
   "source": [
    "## DOWNSTREAMER"
   ]
  },
  {
   "cell_type": "code",
   "execution_count": 41,
   "id": "ec63c890",
   "metadata": {},
   "outputs": [],
   "source": [
    "down_df <- read.table(\"../../ANALYSIS/DOWNSTREAMER//METSIM_Downstreamer.txt\",fill=TRUE,row.names=NULL,header=TRUE)%>%mutate(DOWNSTREAMER_P=pnorm(q=ZSCORE, lower.tail=TRUE))"
   ]
  },
  {
   "cell_type": "code",
   "execution_count": 42,
   "id": "9b43be27",
   "metadata": {},
   "outputs": [
    {
     "data": {
      "text/html": [
       "<table class=\"dataframe\">\n",
       "<caption>A data.frame: 2 × 4</caption>\n",
       "<thead>\n",
       "\t<tr><th></th><th scope=col>ENSG</th><th scope=col>NAME</th><th scope=col>ZSCORE</th><th scope=col>DOWNSTREAMER_P</th></tr>\n",
       "\t<tr><th></th><th scope=col>&lt;chr&gt;</th><th scope=col>&lt;chr&gt;</th><th scope=col>&lt;dbl&gt;</th><th scope=col>&lt;dbl&gt;</th></tr>\n",
       "</thead>\n",
       "<tbody>\n",
       "\t<tr><th scope=row>1</th><td>ENSG00000086696</td><td>HSD17B2</td><td>1.972356</td><td>0.9757155</td></tr>\n",
       "\t<tr><th scope=row>2</th><td>ENSG00000140943</td><td>MBTPS1 </td><td>1.841270</td><td>0.9672090</td></tr>\n",
       "</tbody>\n",
       "</table>\n"
      ],
      "text/latex": [
       "A data.frame: 2 × 4\n",
       "\\begin{tabular}{r|llll}\n",
       "  & ENSG & NAME & ZSCORE & DOWNSTREAMER\\_P\\\\\n",
       "  & <chr> & <chr> & <dbl> & <dbl>\\\\\n",
       "\\hline\n",
       "\t1 & ENSG00000086696 & HSD17B2 & 1.972356 & 0.9757155\\\\\n",
       "\t2 & ENSG00000140943 & MBTPS1  & 1.841270 & 0.9672090\\\\\n",
       "\\end{tabular}\n"
      ],
      "text/markdown": [
       "\n",
       "A data.frame: 2 × 4\n",
       "\n",
       "| <!--/--> | ENSG &lt;chr&gt; | NAME &lt;chr&gt; | ZSCORE &lt;dbl&gt; | DOWNSTREAMER_P &lt;dbl&gt; |\n",
       "|---|---|---|---|---|\n",
       "| 1 | ENSG00000086696 | HSD17B2 | 1.972356 | 0.9757155 |\n",
       "| 2 | ENSG00000140943 | MBTPS1  | 1.841270 | 0.9672090 |\n",
       "\n"
      ],
      "text/plain": [
       "  ENSG            NAME    ZSCORE   DOWNSTREAMER_P\n",
       "1 ENSG00000086696 HSD17B2 1.972356 0.9757155     \n",
       "2 ENSG00000140943 MBTPS1  1.841270 0.9672090     "
      ]
     },
     "metadata": {},
     "output_type": "display_data"
    }
   ],
   "source": [
    "head(down_df,2)"
   ]
  },
  {
   "cell_type": "code",
   "execution_count": 43,
   "id": "fbab2ec1",
   "metadata": {},
   "outputs": [],
   "source": [
    "gene_variant_8 <- data.frame()\n",
    "for (i in 1:nrow(gene_variant_7) ){\n",
    "line_q <- gene_variant_7[i,]\n",
    "ensg_q <- as.character(line_q[1])\n",
    "genep<- nrow(down_df%>%filter(ENSG==ensg_q))\n",
    "if (genep>0){\n",
    "downs_df <- down_df%>%filter(ENSG==ensg_q)%>%select(DOWNSTREAMER_P)\n",
    "p_down <- min(downs_df$DOWNSTREAMER_P)\n",
    "}else {\n",
    "p_down <- NA\n",
    "}\n",
    "tmp_df <- gene_variant_7[i,]%>%mutate(DOWN_P=p_down)\n",
    "gene_variant_8 <- rbind(gene_variant_8,tmp_df)\n",
    "}"
   ]
  },
  {
   "cell_type": "code",
   "execution_count": 44,
   "id": "b2905a87",
   "metadata": {},
   "outputs": [
    {
     "data": {
      "text/html": [
       "<table class=\"dataframe\">\n",
       "<caption>A data.frame: 1 × 23</caption>\n",
       "<thead>\n",
       "\t<tr><th scope=col>ENSGID</th><th scope=col>NAME</th><th scope=col>CHR</th><th scope=col>START</th><th scope=col>END</th><th scope=col>TSS</th><th scope=col>INDEX</th><th scope=col>WINDOW</th><th scope=col>POSITION</th><th scope=col>TSS_DISTANCE</th><th scope=col>⋯</th><th scope=col>p_SMR</th><th scope=col>SMR_WT</th><th scope=col>P_EQTL</th><th scope=col>EQTL_WT</th><th scope=col>LDSC_P</th><th scope=col>LDSC_WT</th><th scope=col>EMS_SCORE</th><th scope=col>EMS_WT</th><th scope=col>POPS_SCORE</th><th scope=col>DOWN_P</th></tr>\n",
       "\t<tr><th scope=col>&lt;chr&gt;</th><th scope=col>&lt;chr&gt;</th><th scope=col>&lt;int&gt;</th><th scope=col>&lt;int&gt;</th><th scope=col>&lt;int&gt;</th><th scope=col>&lt;int&gt;</th><th scope=col>&lt;chr&gt;</th><th scope=col>&lt;int&gt;</th><th scope=col>&lt;int&gt;</th><th scope=col>&lt;int&gt;</th><th scope=col>⋯</th><th scope=col>&lt;dbl&gt;</th><th scope=col>&lt;dbl&gt;</th><th scope=col>&lt;dbl&gt;</th><th scope=col>&lt;dbl&gt;</th><th scope=col>&lt;dbl&gt;</th><th scope=col>&lt;dbl&gt;</th><th scope=col>&lt;dbl&gt;</th><th scope=col>&lt;dbl&gt;</th><th scope=col>&lt;dbl&gt;</th><th scope=col>&lt;dbl&gt;</th></tr>\n",
       "</thead>\n",
       "<tbody>\n",
       "\t<tr><td>ENSG00000181092</td><td>ADIPOQ</td><td>3</td><td>186560463</td><td>186576252</td><td>186560463</td><td>rs199938283</td><td>4</td><td>186552469</td><td>7994</td><td>⋯</td><td>NA</td><td>0</td><td>1.03e-09</td><td>1</td><td>0.01528739</td><td>1</td><td>0.2546231</td><td>0.8</td><td>0.9540819</td><td>0.5841135</td></tr>\n",
       "</tbody>\n",
       "</table>\n"
      ],
      "text/latex": [
       "A data.frame: 1 × 23\n",
       "\\begin{tabular}{lllllllllllllllllllll}\n",
       " ENSGID & NAME & CHR & START & END & TSS & INDEX & WINDOW & POSITION & TSS\\_DISTANCE & ⋯ & p\\_SMR & SMR\\_WT & P\\_EQTL & EQTL\\_WT & LDSC\\_P & LDSC\\_WT & EMS\\_SCORE & EMS\\_WT & POPS\\_SCORE & DOWN\\_P\\\\\n",
       " <chr> & <chr> & <int> & <int> & <int> & <int> & <chr> & <int> & <int> & <int> & ⋯ & <dbl> & <dbl> & <dbl> & <dbl> & <dbl> & <dbl> & <dbl> & <dbl> & <dbl> & <dbl>\\\\\n",
       "\\hline\n",
       "\t ENSG00000181092 & ADIPOQ & 3 & 186560463 & 186576252 & 186560463 & rs199938283 & 4 & 186552469 & 7994 & ⋯ & NA & 0 & 1.03e-09 & 1 & 0.01528739 & 1 & 0.2546231 & 0.8 & 0.9540819 & 0.5841135\\\\\n",
       "\\end{tabular}\n"
      ],
      "text/markdown": [
       "\n",
       "A data.frame: 1 × 23\n",
       "\n",
       "| ENSGID &lt;chr&gt; | NAME &lt;chr&gt; | CHR &lt;int&gt; | START &lt;int&gt; | END &lt;int&gt; | TSS &lt;int&gt; | INDEX &lt;chr&gt; | WINDOW &lt;int&gt; | POSITION &lt;int&gt; | TSS_DISTANCE &lt;int&gt; | ⋯ ⋯ | p_SMR &lt;dbl&gt; | SMR_WT &lt;dbl&gt; | P_EQTL &lt;dbl&gt; | EQTL_WT &lt;dbl&gt; | LDSC_P &lt;dbl&gt; | LDSC_WT &lt;dbl&gt; | EMS_SCORE &lt;dbl&gt; | EMS_WT &lt;dbl&gt; | POPS_SCORE &lt;dbl&gt; | DOWN_P &lt;dbl&gt; |\n",
       "|---|---|---|---|---|---|---|---|---|---|---|---|---|---|---|---|---|---|---|---|---|\n",
       "| ENSG00000181092 | ADIPOQ | 3 | 186560463 | 186576252 | 186560463 | rs199938283 | 4 | 186552469 | 7994 | ⋯ | NA | 0 | 1.03e-09 | 1 | 0.01528739 | 1 | 0.2546231 | 0.8 | 0.9540819 | 0.5841135 |\n",
       "\n"
      ],
      "text/plain": [
       "  ENSGID          NAME   CHR START     END       TSS       INDEX       WINDOW\n",
       "1 ENSG00000181092 ADIPOQ 3   186560463 186576252 186560463 rs199938283 4     \n",
       "  POSITION  TSS_DISTANCE ⋯ p_SMR SMR_WT P_EQTL   EQTL_WT LDSC_P     LDSC_WT\n",
       "1 186552469 7994         ⋯ NA    0      1.03e-09 1       0.01528739 1      \n",
       "  EMS_SCORE EMS_WT POPS_SCORE DOWN_P   \n",
       "1 0.2546231 0.8    0.9540819  0.5841135"
      ]
     },
     "metadata": {},
     "output_type": "display_data"
    }
   ],
   "source": [
    "gene_variant_8%>%filter(NAME==\"ADIPOQ\")"
   ]
  },
  {
   "cell_type": "code",
   "execution_count": 45,
   "id": "415ad782",
   "metadata": {},
   "outputs": [],
   "source": [
    "## Epi MAp"
   ]
  },
  {
   "cell_type": "code",
   "execution_count": 46,
   "id": "60bd0be7",
   "metadata": {},
   "outputs": [],
   "source": [
    "epi_map <- read.table(\"../../ANALYSIS/EPIMAP//EPIMAP.tab\",fill=TRUE,row.names=NULL,header=TRUE)"
   ]
  },
  {
   "cell_type": "code",
   "execution_count": 47,
   "id": "ddf5557d",
   "metadata": {},
   "outputs": [
    {
     "data": {
      "text/html": [
       "<table class=\"dataframe\">\n",
       "<caption>A data.frame: 2 × 3</caption>\n",
       "<thead>\n",
       "\t<tr><th></th><th scope=col>gene</th><th scope=col>score</th><th scope=col>group</th></tr>\n",
       "\t<tr><th></th><th scope=col>&lt;chr&gt;</th><th scope=col>&lt;chr&gt;</th><th scope=col>&lt;chr&gt;</th></tr>\n",
       "</thead>\n",
       "<tbody>\n",
       "\t<tr><th scope=row>1</th><td>ENSG00000008128</td><td>0.0882523589664035</td><td>Adipose</td></tr>\n",
       "\t<tr><th scope=row>2</th><td>ENSG00000078808</td><td>0.0823467903667026</td><td>Adipose</td></tr>\n",
       "</tbody>\n",
       "</table>\n"
      ],
      "text/latex": [
       "A data.frame: 2 × 3\n",
       "\\begin{tabular}{r|lll}\n",
       "  & gene & score & group\\\\\n",
       "  & <chr> & <chr> & <chr>\\\\\n",
       "\\hline\n",
       "\t1 & ENSG00000008128 & 0.0882523589664035 & Adipose\\\\\n",
       "\t2 & ENSG00000078808 & 0.0823467903667026 & Adipose\\\\\n",
       "\\end{tabular}\n"
      ],
      "text/markdown": [
       "\n",
       "A data.frame: 2 × 3\n",
       "\n",
       "| <!--/--> | gene &lt;chr&gt; | score &lt;chr&gt; | group &lt;chr&gt; |\n",
       "|---|---|---|---|\n",
       "| 1 | ENSG00000008128 | 0.0882523589664035 | Adipose |\n",
       "| 2 | ENSG00000078808 | 0.0823467903667026 | Adipose |\n",
       "\n"
      ],
      "text/plain": [
       "  gene            score              group  \n",
       "1 ENSG00000008128 0.0882523589664035 Adipose\n",
       "2 ENSG00000078808 0.0823467903667026 Adipose"
      ]
     },
     "metadata": {},
     "output_type": "display_data"
    }
   ],
   "source": [
    "head(epi_map,2)"
   ]
  },
  {
   "cell_type": "code",
   "execution_count": 48,
   "id": "f8a92546",
   "metadata": {},
   "outputs": [],
   "source": [
    "gene_variant_9 <- data.frame()\n",
    "for (i in 1:nrow(gene_variant_8) ){\n",
    "line_q <- gene_variant_8[i,]\n",
    "ensg_q <- as.character(line_q[1])\n",
    "genep<- nrow(epi_map%>%filter(gene==ensg_q))\n",
    "if (genep>0){\n",
    "epi_df <- epi_map%>%filter(gene==ensg_q)%>%select(score)\n",
    "epi_score <- max(epi_df$score)\n",
    "}else {\n",
    "epi_score <- 0\n",
    "}\n",
    "tmp_df <- gene_variant_8[i,]%>%mutate(EPIMAP_SCORE=epi_score)\n",
    "gene_variant_9 <- rbind(gene_variant_9,tmp_df)\n",
    "}"
   ]
  },
  {
   "cell_type": "code",
   "execution_count": 49,
   "id": "9420549d",
   "metadata": {},
   "outputs": [
    {
     "data": {
      "text/html": [
       "<table class=\"dataframe\">\n",
       "<caption>A data.frame: 1 × 24</caption>\n",
       "<thead>\n",
       "\t<tr><th scope=col>ENSGID</th><th scope=col>NAME</th><th scope=col>CHR</th><th scope=col>START</th><th scope=col>END</th><th scope=col>TSS</th><th scope=col>INDEX</th><th scope=col>WINDOW</th><th scope=col>POSITION</th><th scope=col>TSS_DISTANCE</th><th scope=col>⋯</th><th scope=col>SMR_WT</th><th scope=col>P_EQTL</th><th scope=col>EQTL_WT</th><th scope=col>LDSC_P</th><th scope=col>LDSC_WT</th><th scope=col>EMS_SCORE</th><th scope=col>EMS_WT</th><th scope=col>POPS_SCORE</th><th scope=col>DOWN_P</th><th scope=col>EPIMAP_SCORE</th></tr>\n",
       "\t<tr><th scope=col>&lt;chr&gt;</th><th scope=col>&lt;chr&gt;</th><th scope=col>&lt;int&gt;</th><th scope=col>&lt;int&gt;</th><th scope=col>&lt;int&gt;</th><th scope=col>&lt;int&gt;</th><th scope=col>&lt;chr&gt;</th><th scope=col>&lt;int&gt;</th><th scope=col>&lt;int&gt;</th><th scope=col>&lt;int&gt;</th><th scope=col>⋯</th><th scope=col>&lt;dbl&gt;</th><th scope=col>&lt;dbl&gt;</th><th scope=col>&lt;dbl&gt;</th><th scope=col>&lt;dbl&gt;</th><th scope=col>&lt;dbl&gt;</th><th scope=col>&lt;dbl&gt;</th><th scope=col>&lt;dbl&gt;</th><th scope=col>&lt;dbl&gt;</th><th scope=col>&lt;dbl&gt;</th><th scope=col>&lt;chr&gt;</th></tr>\n",
       "</thead>\n",
       "<tbody>\n",
       "\t<tr><td>ENSG00000181092</td><td>ADIPOQ</td><td>3</td><td>186560463</td><td>186576252</td><td>186560463</td><td>rs199938283</td><td>4</td><td>186552469</td><td>7994</td><td>⋯</td><td>0</td><td>1.03e-09</td><td>1</td><td>0.01528739</td><td>1</td><td>0.2546231</td><td>0.8</td><td>0.9540819</td><td>0.5841135</td><td>0.416221218865092</td></tr>\n",
       "</tbody>\n",
       "</table>\n"
      ],
      "text/latex": [
       "A data.frame: 1 × 24\n",
       "\\begin{tabular}{lllllllllllllllllllll}\n",
       " ENSGID & NAME & CHR & START & END & TSS & INDEX & WINDOW & POSITION & TSS\\_DISTANCE & ⋯ & SMR\\_WT & P\\_EQTL & EQTL\\_WT & LDSC\\_P & LDSC\\_WT & EMS\\_SCORE & EMS\\_WT & POPS\\_SCORE & DOWN\\_P & EPIMAP\\_SCORE\\\\\n",
       " <chr> & <chr> & <int> & <int> & <int> & <int> & <chr> & <int> & <int> & <int> & ⋯ & <dbl> & <dbl> & <dbl> & <dbl> & <dbl> & <dbl> & <dbl> & <dbl> & <dbl> & <chr>\\\\\n",
       "\\hline\n",
       "\t ENSG00000181092 & ADIPOQ & 3 & 186560463 & 186576252 & 186560463 & rs199938283 & 4 & 186552469 & 7994 & ⋯ & 0 & 1.03e-09 & 1 & 0.01528739 & 1 & 0.2546231 & 0.8 & 0.9540819 & 0.5841135 & 0.416221218865092\\\\\n",
       "\\end{tabular}\n"
      ],
      "text/markdown": [
       "\n",
       "A data.frame: 1 × 24\n",
       "\n",
       "| ENSGID &lt;chr&gt; | NAME &lt;chr&gt; | CHR &lt;int&gt; | START &lt;int&gt; | END &lt;int&gt; | TSS &lt;int&gt; | INDEX &lt;chr&gt; | WINDOW &lt;int&gt; | POSITION &lt;int&gt; | TSS_DISTANCE &lt;int&gt; | ⋯ ⋯ | SMR_WT &lt;dbl&gt; | P_EQTL &lt;dbl&gt; | EQTL_WT &lt;dbl&gt; | LDSC_P &lt;dbl&gt; | LDSC_WT &lt;dbl&gt; | EMS_SCORE &lt;dbl&gt; | EMS_WT &lt;dbl&gt; | POPS_SCORE &lt;dbl&gt; | DOWN_P &lt;dbl&gt; | EPIMAP_SCORE &lt;chr&gt; |\n",
       "|---|---|---|---|---|---|---|---|---|---|---|---|---|---|---|---|---|---|---|---|---|\n",
       "| ENSG00000181092 | ADIPOQ | 3 | 186560463 | 186576252 | 186560463 | rs199938283 | 4 | 186552469 | 7994 | ⋯ | 0 | 1.03e-09 | 1 | 0.01528739 | 1 | 0.2546231 | 0.8 | 0.9540819 | 0.5841135 | 0.416221218865092 |\n",
       "\n"
      ],
      "text/plain": [
       "  ENSGID          NAME   CHR START     END       TSS       INDEX       WINDOW\n",
       "1 ENSG00000181092 ADIPOQ 3   186560463 186576252 186560463 rs199938283 4     \n",
       "  POSITION  TSS_DISTANCE ⋯ SMR_WT P_EQTL   EQTL_WT LDSC_P     LDSC_WT EMS_SCORE\n",
       "1 186552469 7994         ⋯ 0      1.03e-09 1       0.01528739 1       0.2546231\n",
       "  EMS_WT POPS_SCORE DOWN_P    EPIMAP_SCORE     \n",
       "1 0.8    0.9540819  0.5841135 0.416221218865092"
      ]
     },
     "metadata": {},
     "output_type": "display_data"
    }
   ],
   "source": [
    "gene_variant_9%>%filter(NAME==\"ADIPOQ\")"
   ]
  },
  {
   "cell_type": "code",
   "execution_count": 50,
   "id": "5b3edbeb",
   "metadata": {},
   "outputs": [],
   "source": [
    "## Genehancer"
   ]
  },
  {
   "cell_type": "code",
   "execution_count": 51,
   "id": "5ad4eed3",
   "metadata": {},
   "outputs": [
    {
     "name": "stderr",
     "output_type": "stream",
     "text": [
      "Warning message in mask$eval_all_mutate(quo):\n",
      "\"NAs introduced by coercion\"\n"
     ]
    }
   ],
   "source": [
    "gh <- read.table(\"../../ANALYSIS/GeneHancer/GENEHANCER.TAB\",fill=TRUE,row.names=NULL,header=TRUE)%>%mutate(CHROM=as.integer(om))%>%rename(START=name,END=start,SCORE=end)%>%\n",
    "select(-om)%>%mutate(SCORE=stand01(SCORE))"
   ]
  },
  {
   "cell_type": "code",
   "execution_count": 52,
   "id": "a598f246",
   "metadata": {},
   "outputs": [
    {
     "data": {
      "text/html": [
       "<table class=\"dataframe\">\n",
       "<caption>A data.frame: 2 × 4</caption>\n",
       "<thead>\n",
       "\t<tr><th></th><th scope=col>START</th><th scope=col>END</th><th scope=col>SCORE</th><th scope=col>CHROM</th></tr>\n",
       "\t<tr><th></th><th scope=col>&lt;int&gt;</th><th scope=col>&lt;int&gt;</th><th scope=col>&lt;dbl&gt;</th><th scope=col>&lt;int&gt;</th></tr>\n",
       "</thead>\n",
       "<tbody>\n",
       "\t<tr><th scope=row>1</th><td>133518045</td><td>133518161</td><td>0.00617284</td><td> 6</td></tr>\n",
       "\t<tr><th scope=row>2</th><td> 51630569</td><td> 51633727</td><td>0.24691358</td><td>13</td></tr>\n",
       "</tbody>\n",
       "</table>\n"
      ],
      "text/latex": [
       "A data.frame: 2 × 4\n",
       "\\begin{tabular}{r|llll}\n",
       "  & START & END & SCORE & CHROM\\\\\n",
       "  & <int> & <int> & <dbl> & <int>\\\\\n",
       "\\hline\n",
       "\t1 & 133518045 & 133518161 & 0.00617284 &  6\\\\\n",
       "\t2 &  51630569 &  51633727 & 0.24691358 & 13\\\\\n",
       "\\end{tabular}\n"
      ],
      "text/markdown": [
       "\n",
       "A data.frame: 2 × 4\n",
       "\n",
       "| <!--/--> | START &lt;int&gt; | END &lt;int&gt; | SCORE &lt;dbl&gt; | CHROM &lt;int&gt; |\n",
       "|---|---|---|---|---|\n",
       "| 1 | 133518045 | 133518161 | 0.00617284 |  6 |\n",
       "| 2 |  51630569 |  51633727 | 0.24691358 | 13 |\n",
       "\n"
      ],
      "text/plain": [
       "  START     END       SCORE      CHROM\n",
       "1 133518045 133518161 0.00617284  6   \n",
       "2  51630569  51633727 0.24691358 13   "
      ]
     },
     "metadata": {},
     "output_type": "display_data"
    }
   ],
   "source": [
    "head(gh,2)"
   ]
  },
  {
   "cell_type": "code",
   "execution_count": 53,
   "id": "62fefecb",
   "metadata": {},
   "outputs": [],
   "source": [
    "gene_variant_10 <- data.frame()\n",
    "for (i in 1:nrow(gene_variant_9) ){\n",
    "line_q <- gene_variant_9[i,]\n",
    "chr_q <- as.integer(line_q[3])\n",
    "start_q<- as.integer(line_q[4])\n",
    "end_q <- as.integer(line_q[5])\n",
    "genep<- nrow(gh%>%filter(CHROM==chr_q & START >= start_q & END <= end_q))\n",
    "if (genep>0){\n",
    "gh_df <- gh%>%filter(CHROM==chr_q & START >= start_q & END <= end_q)%>%select(SCORE)\n",
    "gh_score <- max(gh_df$SCORE)\n",
    "}else {\n",
    "gh_score <- 0\n",
    "}\n",
    "tmp_df <- gene_variant_9[i,]%>%mutate(GH_SCORE=gh_score)\n",
    "gene_variant_10 <- rbind(gene_variant_10,tmp_df)\n",
    "}"
   ]
  },
  {
   "cell_type": "code",
   "execution_count": 54,
   "id": "50b8dea8",
   "metadata": {},
   "outputs": [
    {
     "data": {
      "text/html": [
       "<table class=\"dataframe\">\n",
       "<caption>A data.frame: 1 × 25</caption>\n",
       "<thead>\n",
       "\t<tr><th scope=col>ENSGID</th><th scope=col>NAME</th><th scope=col>CHR</th><th scope=col>START</th><th scope=col>END</th><th scope=col>TSS</th><th scope=col>INDEX</th><th scope=col>WINDOW</th><th scope=col>POSITION</th><th scope=col>TSS_DISTANCE</th><th scope=col>⋯</th><th scope=col>P_EQTL</th><th scope=col>EQTL_WT</th><th scope=col>LDSC_P</th><th scope=col>LDSC_WT</th><th scope=col>EMS_SCORE</th><th scope=col>EMS_WT</th><th scope=col>POPS_SCORE</th><th scope=col>DOWN_P</th><th scope=col>EPIMAP_SCORE</th><th scope=col>GH_SCORE</th></tr>\n",
       "\t<tr><th scope=col>&lt;chr&gt;</th><th scope=col>&lt;chr&gt;</th><th scope=col>&lt;int&gt;</th><th scope=col>&lt;int&gt;</th><th scope=col>&lt;int&gt;</th><th scope=col>&lt;int&gt;</th><th scope=col>&lt;chr&gt;</th><th scope=col>&lt;int&gt;</th><th scope=col>&lt;int&gt;</th><th scope=col>&lt;int&gt;</th><th scope=col>⋯</th><th scope=col>&lt;dbl&gt;</th><th scope=col>&lt;dbl&gt;</th><th scope=col>&lt;dbl&gt;</th><th scope=col>&lt;dbl&gt;</th><th scope=col>&lt;dbl&gt;</th><th scope=col>&lt;dbl&gt;</th><th scope=col>&lt;dbl&gt;</th><th scope=col>&lt;dbl&gt;</th><th scope=col>&lt;chr&gt;</th><th scope=col>&lt;dbl&gt;</th></tr>\n",
       "</thead>\n",
       "<tbody>\n",
       "\t<tr><td>ENSG00000181092</td><td>ADIPOQ</td><td>3</td><td>186560463</td><td>186576252</td><td>186560463</td><td>rs199938283</td><td>4</td><td>186552469</td><td>7994</td><td>⋯</td><td>1.03e-09</td><td>1</td><td>0.01528739</td><td>1</td><td>0.2546231</td><td>0.8</td><td>0.9540819</td><td>0.5841135</td><td>0.416221218865092</td><td>0.5740741</td></tr>\n",
       "</tbody>\n",
       "</table>\n"
      ],
      "text/latex": [
       "A data.frame: 1 × 25\n",
       "\\begin{tabular}{lllllllllllllllllllll}\n",
       " ENSGID & NAME & CHR & START & END & TSS & INDEX & WINDOW & POSITION & TSS\\_DISTANCE & ⋯ & P\\_EQTL & EQTL\\_WT & LDSC\\_P & LDSC\\_WT & EMS\\_SCORE & EMS\\_WT & POPS\\_SCORE & DOWN\\_P & EPIMAP\\_SCORE & GH\\_SCORE\\\\\n",
       " <chr> & <chr> & <int> & <int> & <int> & <int> & <chr> & <int> & <int> & <int> & ⋯ & <dbl> & <dbl> & <dbl> & <dbl> & <dbl> & <dbl> & <dbl> & <dbl> & <chr> & <dbl>\\\\\n",
       "\\hline\n",
       "\t ENSG00000181092 & ADIPOQ & 3 & 186560463 & 186576252 & 186560463 & rs199938283 & 4 & 186552469 & 7994 & ⋯ & 1.03e-09 & 1 & 0.01528739 & 1 & 0.2546231 & 0.8 & 0.9540819 & 0.5841135 & 0.416221218865092 & 0.5740741\\\\\n",
       "\\end{tabular}\n"
      ],
      "text/markdown": [
       "\n",
       "A data.frame: 1 × 25\n",
       "\n",
       "| ENSGID &lt;chr&gt; | NAME &lt;chr&gt; | CHR &lt;int&gt; | START &lt;int&gt; | END &lt;int&gt; | TSS &lt;int&gt; | INDEX &lt;chr&gt; | WINDOW &lt;int&gt; | POSITION &lt;int&gt; | TSS_DISTANCE &lt;int&gt; | ⋯ ⋯ | P_EQTL &lt;dbl&gt; | EQTL_WT &lt;dbl&gt; | LDSC_P &lt;dbl&gt; | LDSC_WT &lt;dbl&gt; | EMS_SCORE &lt;dbl&gt; | EMS_WT &lt;dbl&gt; | POPS_SCORE &lt;dbl&gt; | DOWN_P &lt;dbl&gt; | EPIMAP_SCORE &lt;chr&gt; | GH_SCORE &lt;dbl&gt; |\n",
       "|---|---|---|---|---|---|---|---|---|---|---|---|---|---|---|---|---|---|---|---|---|\n",
       "| ENSG00000181092 | ADIPOQ | 3 | 186560463 | 186576252 | 186560463 | rs199938283 | 4 | 186552469 | 7994 | ⋯ | 1.03e-09 | 1 | 0.01528739 | 1 | 0.2546231 | 0.8 | 0.9540819 | 0.5841135 | 0.416221218865092 | 0.5740741 |\n",
       "\n"
      ],
      "text/plain": [
       "  ENSGID          NAME   CHR START     END       TSS       INDEX       WINDOW\n",
       "1 ENSG00000181092 ADIPOQ 3   186560463 186576252 186560463 rs199938283 4     \n",
       "  POSITION  TSS_DISTANCE ⋯ P_EQTL   EQTL_WT LDSC_P     LDSC_WT EMS_SCORE EMS_WT\n",
       "1 186552469 7994         ⋯ 1.03e-09 1       0.01528739 1       0.2546231 0.8   \n",
       "  POPS_SCORE DOWN_P    EPIMAP_SCORE      GH_SCORE \n",
       "1 0.9540819  0.5841135 0.416221218865092 0.5740741"
      ]
     },
     "metadata": {},
     "output_type": "display_data"
    }
   ],
   "source": [
    "gene_variant_10%>%filter(NAME==\"ADIPOQ\")"
   ]
  },
  {
   "cell_type": "code",
   "execution_count": 55,
   "id": "ee874604",
   "metadata": {},
   "outputs": [],
   "source": [
    "## CS2GO SCORE"
   ]
  },
  {
   "cell_type": "code",
   "execution_count": 56,
   "id": "815c8044",
   "metadata": {},
   "outputs": [],
   "source": [
    "cs2g <- read.table(\"../../ANALYSIS/cS2G/TRANS_CS2G.TAB\",fill=TRUE,row.names=NULL,header=TRUE)"
   ]
  },
  {
   "cell_type": "code",
   "execution_count": 57,
   "id": "0e723299",
   "metadata": {},
   "outputs": [
    {
     "data": {
      "text/html": [
       "<table class=\"dataframe\">\n",
       "<caption>A data.frame: 2 × 5</caption>\n",
       "<thead>\n",
       "\t<tr><th></th><th scope=col>CHROMOSOME</th><th scope=col>POSITION</th><th scope=col>GENENAME</th><th scope=col>SCORE</th><th scope=col>INFO</th></tr>\n",
       "\t<tr><th></th><th scope=col>&lt;int&gt;</th><th scope=col>&lt;int&gt;</th><th scope=col>&lt;chr&gt;</th><th scope=col>&lt;dbl&gt;</th><th scope=col>&lt;chr&gt;</th></tr>\n",
       "</thead>\n",
       "<tbody>\n",
       "\t<tr><th scope=row>1</th><td> 4</td><td>96437606</td><td>UNC5C</td><td>1.0</td><td>|Roadmap=1|PCHiC_Jung=1|ABC=1          </td></tr>\n",
       "\t<tr><th scope=row>2</th><td>18</td><td>46361441</td><td>SMAD7</td><td>0.5</td><td>|PCHiC_Javierre=1|PCHiC_Jung=1|Cicero=1</td></tr>\n",
       "</tbody>\n",
       "</table>\n"
      ],
      "text/latex": [
       "A data.frame: 2 × 5\n",
       "\\begin{tabular}{r|lllll}\n",
       "  & CHROMOSOME & POSITION & GENENAME & SCORE & INFO\\\\\n",
       "  & <int> & <int> & <chr> & <dbl> & <chr>\\\\\n",
       "\\hline\n",
       "\t1 &  4 & 96437606 & UNC5C & 1.0 & \\textbar{}Roadmap=1\\textbar{}PCHiC\\_Jung=1\\textbar{}ABC=1          \\\\\n",
       "\t2 & 18 & 46361441 & SMAD7 & 0.5 & \\textbar{}PCHiC\\_Javierre=1\\textbar{}PCHiC\\_Jung=1\\textbar{}Cicero=1\\\\\n",
       "\\end{tabular}\n"
      ],
      "text/markdown": [
       "\n",
       "A data.frame: 2 × 5\n",
       "\n",
       "| <!--/--> | CHROMOSOME &lt;int&gt; | POSITION &lt;int&gt; | GENENAME &lt;chr&gt; | SCORE &lt;dbl&gt; | INFO &lt;chr&gt; |\n",
       "|---|---|---|---|---|---|\n",
       "| 1 |  4 | 96437606 | UNC5C | 1.0 | |Roadmap=1|PCHiC_Jung=1|ABC=1           |\n",
       "| 2 | 18 | 46361441 | SMAD7 | 0.5 | |PCHiC_Javierre=1|PCHiC_Jung=1|Cicero=1 |\n",
       "\n"
      ],
      "text/plain": [
       "  CHROMOSOME POSITION GENENAME SCORE INFO                                   \n",
       "1  4         96437606 UNC5C    1.0   |Roadmap=1|PCHiC_Jung=1|ABC=1          \n",
       "2 18         46361441 SMAD7    0.5   |PCHiC_Javierre=1|PCHiC_Jung=1|Cicero=1"
      ]
     },
     "metadata": {},
     "output_type": "display_data"
    }
   ],
   "source": [
    "head(cs2g,2)"
   ]
  },
  {
   "cell_type": "code",
   "execution_count": 58,
   "id": "37ce0b47",
   "metadata": {},
   "outputs": [],
   "source": [
    "gene_variant_11 <- data.frame()\n",
    "for (i in 1:nrow(gene_variant_10) ){\n",
    "line_q <- gene_variant_10[i,]\n",
    "ensg_q <- as.character(line_q[2])\n",
    "genep<- nrow(cs2g%>%filter(GENENAME==ensg_q))\n",
    "if (genep>0){\n",
    "cs2g_df <- cs2g%>%filter(GENENAME==ensg_q)%>%select(SCORE)\n",
    "score <- max(cs2g_df$SCORE)\n",
    "}else {\n",
    "score <- NA\n",
    "}\n",
    "tmp_df <- gene_variant_10[i,]%>%mutate(CS2G_SCORE=score)\n",
    "gene_variant_11 <- rbind(gene_variant_11,tmp_df)\n",
    "}"
   ]
  },
  {
   "cell_type": "code",
   "execution_count": 59,
   "id": "ce87d773",
   "metadata": {},
   "outputs": [
    {
     "data": {
      "text/html": [
       "<table class=\"dataframe\">\n",
       "<caption>A data.frame: 6 × 26</caption>\n",
       "<thead>\n",
       "\t<tr><th></th><th scope=col>ENSGID</th><th scope=col>NAME</th><th scope=col>CHR</th><th scope=col>START</th><th scope=col>END</th><th scope=col>TSS</th><th scope=col>INDEX</th><th scope=col>WINDOW</th><th scope=col>POSITION</th><th scope=col>TSS_DISTANCE</th><th scope=col>⋯</th><th scope=col>EQTL_WT</th><th scope=col>LDSC_P</th><th scope=col>LDSC_WT</th><th scope=col>EMS_SCORE</th><th scope=col>EMS_WT</th><th scope=col>POPS_SCORE</th><th scope=col>DOWN_P</th><th scope=col>EPIMAP_SCORE</th><th scope=col>GH_SCORE</th><th scope=col>CS2G_SCORE</th></tr>\n",
       "\t<tr><th></th><th scope=col>&lt;chr&gt;</th><th scope=col>&lt;chr&gt;</th><th scope=col>&lt;int&gt;</th><th scope=col>&lt;int&gt;</th><th scope=col>&lt;int&gt;</th><th scope=col>&lt;int&gt;</th><th scope=col>&lt;chr&gt;</th><th scope=col>&lt;int&gt;</th><th scope=col>&lt;int&gt;</th><th scope=col>&lt;int&gt;</th><th scope=col>⋯</th><th scope=col>&lt;dbl&gt;</th><th scope=col>&lt;dbl&gt;</th><th scope=col>&lt;dbl&gt;</th><th scope=col>&lt;dbl&gt;</th><th scope=col>&lt;dbl&gt;</th><th scope=col>&lt;dbl&gt;</th><th scope=col>&lt;dbl&gt;</th><th scope=col>&lt;chr&gt;</th><th scope=col>&lt;dbl&gt;</th><th scope=col>&lt;dbl&gt;</th></tr>\n",
       "</thead>\n",
       "<tbody>\n",
       "\t<tr><th scope=row>1</th><td>ENSG00000010318</td><td>PHF7  </td><td>3</td><td>52444673</td><td>52457657</td><td>52444673</td><td>rs2276824</td><td>2</td><td>52637486</td><td> 192813</td><td>⋯</td><td>0</td><td>          NA</td><td>0.0</td><td>0.0000000000</td><td>0</td><td>0.5255572</td><td>0.97996707</td><td>0.412455677986145</td><td>0.6759259</td><td>0.80</td></tr>\n",
       "\t<tr><th scope=row>2</th><td>ENSG00000010319</td><td>SEMA3G</td><td>3</td><td>52467069</td><td>52479101</td><td>52479101</td><td>rs2276824</td><td>2</td><td>52637486</td><td> 158385</td><td>⋯</td><td>0</td><td>7.674931e-05</td><td>1.0</td><td>0.0003131613</td><td>1</td><td>0.5150698</td><td>0.96314888</td><td>0.936377247174581</td><td>0.1481481</td><td>0.93</td></tr>\n",
       "\t<tr><th scope=row>3</th><td>ENSG00000010322</td><td>NISCH </td><td>3</td><td>52489134</td><td>52527087</td><td>52489134</td><td>rs2276824</td><td>2</td><td>52637486</td><td> 148352</td><td>⋯</td><td>0</td><td>1.579683e-05</td><td>1.0</td><td>0.0000000000</td><td>0</td><td>0.6401346</td><td>0.56006577</td><td>0.865026626322005</td><td>0.4444444</td><td>1.00</td></tr>\n",
       "\t<tr><th scope=row>4</th><td>ENSG00000010327</td><td>STAB1 </td><td>3</td><td>52529354</td><td>52558511</td><td>52529354</td><td>rs2276824</td><td>2</td><td>52637486</td><td> 108132</td><td>⋯</td><td>0</td><td>1.539592e-05</td><td>1.0</td><td>0.0000000000</td><td>0</td><td>0.6836916</td><td>0.93621599</td><td>0.897401365565091</td><td>0.1419753</td><td>1.00</td></tr>\n",
       "\t<tr><th scope=row>5</th><td>ENSG00000016391</td><td>CHDH  </td><td>3</td><td>53846362</td><td>53880417</td><td>53880417</td><td>rs2276824</td><td>2</td><td>52637486</td><td>1242931</td><td>⋯</td><td>0</td><td>9.866012e-01</td><td>0.8</td><td>0.0000000000</td><td>0</td><td>0.4700521</td><td>0.01067889</td><td>0.700117923864504</td><td>0.0000000</td><td>1.00</td></tr>\n",
       "\t<tr><th scope=row>6</th><td>ENSG00000016864</td><td>GLT8D1</td><td>3</td><td>52728505</td><td>52740048</td><td>52740048</td><td>rs2276824</td><td>2</td><td>52637486</td><td> 102562</td><td>⋯</td><td>0</td><td>2.495341e-03</td><td>1.0</td><td>0.0000000000</td><td>0</td><td>0.6712111</td><td>0.62797546</td><td>0.661368333631092</td><td>0.0000000</td><td>1.00</td></tr>\n",
       "</tbody>\n",
       "</table>\n"
      ],
      "text/latex": [
       "A data.frame: 6 × 26\n",
       "\\begin{tabular}{r|lllllllllllllllllllll}\n",
       "  & ENSGID & NAME & CHR & START & END & TSS & INDEX & WINDOW & POSITION & TSS\\_DISTANCE & ⋯ & EQTL\\_WT & LDSC\\_P & LDSC\\_WT & EMS\\_SCORE & EMS\\_WT & POPS\\_SCORE & DOWN\\_P & EPIMAP\\_SCORE & GH\\_SCORE & CS2G\\_SCORE\\\\\n",
       "  & <chr> & <chr> & <int> & <int> & <int> & <int> & <chr> & <int> & <int> & <int> & ⋯ & <dbl> & <dbl> & <dbl> & <dbl> & <dbl> & <dbl> & <dbl> & <chr> & <dbl> & <dbl>\\\\\n",
       "\\hline\n",
       "\t1 & ENSG00000010318 & PHF7   & 3 & 52444673 & 52457657 & 52444673 & rs2276824 & 2 & 52637486 &  192813 & ⋯ & 0 &           NA & 0.0 & 0.0000000000 & 0 & 0.5255572 & 0.97996707 & 0.412455677986145 & 0.6759259 & 0.80\\\\\n",
       "\t2 & ENSG00000010319 & SEMA3G & 3 & 52467069 & 52479101 & 52479101 & rs2276824 & 2 & 52637486 &  158385 & ⋯ & 0 & 7.674931e-05 & 1.0 & 0.0003131613 & 1 & 0.5150698 & 0.96314888 & 0.936377247174581 & 0.1481481 & 0.93\\\\\n",
       "\t3 & ENSG00000010322 & NISCH  & 3 & 52489134 & 52527087 & 52489134 & rs2276824 & 2 & 52637486 &  148352 & ⋯ & 0 & 1.579683e-05 & 1.0 & 0.0000000000 & 0 & 0.6401346 & 0.56006577 & 0.865026626322005 & 0.4444444 & 1.00\\\\\n",
       "\t4 & ENSG00000010327 & STAB1  & 3 & 52529354 & 52558511 & 52529354 & rs2276824 & 2 & 52637486 &  108132 & ⋯ & 0 & 1.539592e-05 & 1.0 & 0.0000000000 & 0 & 0.6836916 & 0.93621599 & 0.897401365565091 & 0.1419753 & 1.00\\\\\n",
       "\t5 & ENSG00000016391 & CHDH   & 3 & 53846362 & 53880417 & 53880417 & rs2276824 & 2 & 52637486 & 1242931 & ⋯ & 0 & 9.866012e-01 & 0.8 & 0.0000000000 & 0 & 0.4700521 & 0.01067889 & 0.700117923864504 & 0.0000000 & 1.00\\\\\n",
       "\t6 & ENSG00000016864 & GLT8D1 & 3 & 52728505 & 52740048 & 52740048 & rs2276824 & 2 & 52637486 &  102562 & ⋯ & 0 & 2.495341e-03 & 1.0 & 0.0000000000 & 0 & 0.6712111 & 0.62797546 & 0.661368333631092 & 0.0000000 & 1.00\\\\\n",
       "\\end{tabular}\n"
      ],
      "text/markdown": [
       "\n",
       "A data.frame: 6 × 26\n",
       "\n",
       "| <!--/--> | ENSGID &lt;chr&gt; | NAME &lt;chr&gt; | CHR &lt;int&gt; | START &lt;int&gt; | END &lt;int&gt; | TSS &lt;int&gt; | INDEX &lt;chr&gt; | WINDOW &lt;int&gt; | POSITION &lt;int&gt; | TSS_DISTANCE &lt;int&gt; | ⋯ ⋯ | EQTL_WT &lt;dbl&gt; | LDSC_P &lt;dbl&gt; | LDSC_WT &lt;dbl&gt; | EMS_SCORE &lt;dbl&gt; | EMS_WT &lt;dbl&gt; | POPS_SCORE &lt;dbl&gt; | DOWN_P &lt;dbl&gt; | EPIMAP_SCORE &lt;chr&gt; | GH_SCORE &lt;dbl&gt; | CS2G_SCORE &lt;dbl&gt; |\n",
       "|---|---|---|---|---|---|---|---|---|---|---|---|---|---|---|---|---|---|---|---|---|---|\n",
       "| 1 | ENSG00000010318 | PHF7   | 3 | 52444673 | 52457657 | 52444673 | rs2276824 | 2 | 52637486 |  192813 | ⋯ | 0 |           NA | 0.0 | 0.0000000000 | 0 | 0.5255572 | 0.97996707 | 0.412455677986145 | 0.6759259 | 0.80 |\n",
       "| 2 | ENSG00000010319 | SEMA3G | 3 | 52467069 | 52479101 | 52479101 | rs2276824 | 2 | 52637486 |  158385 | ⋯ | 0 | 7.674931e-05 | 1.0 | 0.0003131613 | 1 | 0.5150698 | 0.96314888 | 0.936377247174581 | 0.1481481 | 0.93 |\n",
       "| 3 | ENSG00000010322 | NISCH  | 3 | 52489134 | 52527087 | 52489134 | rs2276824 | 2 | 52637486 |  148352 | ⋯ | 0 | 1.579683e-05 | 1.0 | 0.0000000000 | 0 | 0.6401346 | 0.56006577 | 0.865026626322005 | 0.4444444 | 1.00 |\n",
       "| 4 | ENSG00000010327 | STAB1  | 3 | 52529354 | 52558511 | 52529354 | rs2276824 | 2 | 52637486 |  108132 | ⋯ | 0 | 1.539592e-05 | 1.0 | 0.0000000000 | 0 | 0.6836916 | 0.93621599 | 0.897401365565091 | 0.1419753 | 1.00 |\n",
       "| 5 | ENSG00000016391 | CHDH   | 3 | 53846362 | 53880417 | 53880417 | rs2276824 | 2 | 52637486 | 1242931 | ⋯ | 0 | 9.866012e-01 | 0.8 | 0.0000000000 | 0 | 0.4700521 | 0.01067889 | 0.700117923864504 | 0.0000000 | 1.00 |\n",
       "| 6 | ENSG00000016864 | GLT8D1 | 3 | 52728505 | 52740048 | 52740048 | rs2276824 | 2 | 52637486 |  102562 | ⋯ | 0 | 2.495341e-03 | 1.0 | 0.0000000000 | 0 | 0.6712111 | 0.62797546 | 0.661368333631092 | 0.0000000 | 1.00 |\n",
       "\n"
      ],
      "text/plain": [
       "  ENSGID          NAME   CHR START    END      TSS      INDEX     WINDOW\n",
       "1 ENSG00000010318 PHF7   3   52444673 52457657 52444673 rs2276824 2     \n",
       "2 ENSG00000010319 SEMA3G 3   52467069 52479101 52479101 rs2276824 2     \n",
       "3 ENSG00000010322 NISCH  3   52489134 52527087 52489134 rs2276824 2     \n",
       "4 ENSG00000010327 STAB1  3   52529354 52558511 52529354 rs2276824 2     \n",
       "5 ENSG00000016391 CHDH   3   53846362 53880417 53880417 rs2276824 2     \n",
       "6 ENSG00000016864 GLT8D1 3   52728505 52740048 52740048 rs2276824 2     \n",
       "  POSITION TSS_DISTANCE ⋯ EQTL_WT LDSC_P       LDSC_WT EMS_SCORE    EMS_WT\n",
       "1 52637486  192813      ⋯ 0                 NA 0.0     0.0000000000 0     \n",
       "2 52637486  158385      ⋯ 0       7.674931e-05 1.0     0.0003131613 1     \n",
       "3 52637486  148352      ⋯ 0       1.579683e-05 1.0     0.0000000000 0     \n",
       "4 52637486  108132      ⋯ 0       1.539592e-05 1.0     0.0000000000 0     \n",
       "5 52637486 1242931      ⋯ 0       9.866012e-01 0.8     0.0000000000 0     \n",
       "6 52637486  102562      ⋯ 0       2.495341e-03 1.0     0.0000000000 0     \n",
       "  POPS_SCORE DOWN_P     EPIMAP_SCORE      GH_SCORE  CS2G_SCORE\n",
       "1 0.5255572  0.97996707 0.412455677986145 0.6759259 0.80      \n",
       "2 0.5150698  0.96314888 0.936377247174581 0.1481481 0.93      \n",
       "3 0.6401346  0.56006577 0.865026626322005 0.4444444 1.00      \n",
       "4 0.6836916  0.93621599 0.897401365565091 0.1419753 1.00      \n",
       "5 0.4700521  0.01067889 0.700117923864504 0.0000000 1.00      \n",
       "6 0.6712111  0.62797546 0.661368333631092 0.0000000 1.00      "
      ]
     },
     "metadata": {},
     "output_type": "display_data"
    }
   ],
   "source": [
    "head(gene_variant_11)"
   ]
  },
  {
   "cell_type": "code",
   "execution_count": 60,
   "id": "179c3e85",
   "metadata": {},
   "outputs": [
    {
     "data": {
      "text/html": [
       "<style>\n",
       ".list-inline {list-style: none; margin:0; padding: 0}\n",
       ".list-inline>li {display: inline-block}\n",
       ".list-inline>li:not(:last-child)::after {content: \"\\00b7\"; padding: 0 .5ex}\n",
       "</style>\n",
       "<ol class=list-inline><li>'ENSGID'</li><li>'NAME'</li><li>'CHR'</li><li>'START'</li><li>'END'</li><li>'TSS'</li><li>'INDEX'</li><li>'WINDOW'</li><li>'POSITION'</li><li>'TSS_DISTANCE'</li><li>'MAGMA_P'</li><li>'coloc_pip'</li><li>'coloc_WT'</li><li>'p_SMR'</li><li>'SMR_WT'</li><li>'P_EQTL'</li><li>'EQTL_WT'</li><li>'LDSC_P'</li><li>'LDSC_WT'</li><li>'EMS_SCORE'</li><li>'EMS_WT'</li><li>'POPS_SCORE'</li><li>'DOWN_P'</li><li>'EPIMAP_SCORE'</li><li>'GH_SCORE'</li><li>'CS2G_SCORE'</li></ol>\n"
      ],
      "text/latex": [
       "\\begin{enumerate*}\n",
       "\\item 'ENSGID'\n",
       "\\item 'NAME'\n",
       "\\item 'CHR'\n",
       "\\item 'START'\n",
       "\\item 'END'\n",
       "\\item 'TSS'\n",
       "\\item 'INDEX'\n",
       "\\item 'WINDOW'\n",
       "\\item 'POSITION'\n",
       "\\item 'TSS\\_DISTANCE'\n",
       "\\item 'MAGMA\\_P'\n",
       "\\item 'coloc\\_pip'\n",
       "\\item 'coloc\\_WT'\n",
       "\\item 'p\\_SMR'\n",
       "\\item 'SMR\\_WT'\n",
       "\\item 'P\\_EQTL'\n",
       "\\item 'EQTL\\_WT'\n",
       "\\item 'LDSC\\_P'\n",
       "\\item 'LDSC\\_WT'\n",
       "\\item 'EMS\\_SCORE'\n",
       "\\item 'EMS\\_WT'\n",
       "\\item 'POPS\\_SCORE'\n",
       "\\item 'DOWN\\_P'\n",
       "\\item 'EPIMAP\\_SCORE'\n",
       "\\item 'GH\\_SCORE'\n",
       "\\item 'CS2G\\_SCORE'\n",
       "\\end{enumerate*}\n"
      ],
      "text/markdown": [
       "1. 'ENSGID'\n",
       "2. 'NAME'\n",
       "3. 'CHR'\n",
       "4. 'START'\n",
       "5. 'END'\n",
       "6. 'TSS'\n",
       "7. 'INDEX'\n",
       "8. 'WINDOW'\n",
       "9. 'POSITION'\n",
       "10. 'TSS_DISTANCE'\n",
       "11. 'MAGMA_P'\n",
       "12. 'coloc_pip'\n",
       "13. 'coloc_WT'\n",
       "14. 'p_SMR'\n",
       "15. 'SMR_WT'\n",
       "16. 'P_EQTL'\n",
       "17. 'EQTL_WT'\n",
       "18. 'LDSC_P'\n",
       "19. 'LDSC_WT'\n",
       "20. 'EMS_SCORE'\n",
       "21. 'EMS_WT'\n",
       "22. 'POPS_SCORE'\n",
       "23. 'DOWN_P'\n",
       "24. 'EPIMAP_SCORE'\n",
       "25. 'GH_SCORE'\n",
       "26. 'CS2G_SCORE'\n",
       "\n",
       "\n"
      ],
      "text/plain": [
       " [1] \"ENSGID\"       \"NAME\"         \"CHR\"          \"START\"        \"END\"         \n",
       " [6] \"TSS\"          \"INDEX\"        \"WINDOW\"       \"POSITION\"     \"TSS_DISTANCE\"\n",
       "[11] \"MAGMA_P\"      \"coloc_pip\"    \"coloc_WT\"     \"p_SMR\"        \"SMR_WT\"      \n",
       "[16] \"P_EQTL\"       \"EQTL_WT\"      \"LDSC_P\"       \"LDSC_WT\"      \"EMS_SCORE\"   \n",
       "[21] \"EMS_WT\"       \"POPS_SCORE\"   \"DOWN_P\"       \"EPIMAP_SCORE\" \"GH_SCORE\"    \n",
       "[26] \"CS2G_SCORE\"  "
      ]
     },
     "metadata": {},
     "output_type": "display_data"
    }
   ],
   "source": [
    "colnames(gene_variant_11)"
   ]
  },
  {
   "cell_type": "code",
   "execution_count": 61,
   "id": "0a201489",
   "metadata": {},
   "outputs": [
    {
     "data": {
      "text/html": [
       "<table class=\"dataframe\">\n",
       "<caption>A data.frame: 2 × 26</caption>\n",
       "<thead>\n",
       "\t<tr><th></th><th scope=col>ENSGID</th><th scope=col>NAME</th><th scope=col>CHR</th><th scope=col>START</th><th scope=col>END</th><th scope=col>TSS</th><th scope=col>INDEX</th><th scope=col>WINDOW</th><th scope=col>POSITION</th><th scope=col>TSS_DISTANCE</th><th scope=col>⋯</th><th scope=col>EQTL_WT</th><th scope=col>LDSC_P</th><th scope=col>LDSC_WT</th><th scope=col>EMS_SCORE</th><th scope=col>EMS_WT</th><th scope=col>POPS_SCORE</th><th scope=col>DOWN_P</th><th scope=col>EPIMAP_SCORE</th><th scope=col>GH_SCORE</th><th scope=col>CS2G_SCORE</th></tr>\n",
       "\t<tr><th></th><th scope=col>&lt;chr&gt;</th><th scope=col>&lt;chr&gt;</th><th scope=col>&lt;int&gt;</th><th scope=col>&lt;int&gt;</th><th scope=col>&lt;int&gt;</th><th scope=col>&lt;int&gt;</th><th scope=col>&lt;chr&gt;</th><th scope=col>&lt;int&gt;</th><th scope=col>&lt;int&gt;</th><th scope=col>&lt;int&gt;</th><th scope=col>⋯</th><th scope=col>&lt;dbl&gt;</th><th scope=col>&lt;dbl&gt;</th><th scope=col>&lt;dbl&gt;</th><th scope=col>&lt;dbl&gt;</th><th scope=col>&lt;dbl&gt;</th><th scope=col>&lt;dbl&gt;</th><th scope=col>&lt;dbl&gt;</th><th scope=col>&lt;chr&gt;</th><th scope=col>&lt;dbl&gt;</th><th scope=col>&lt;dbl&gt;</th></tr>\n",
       "</thead>\n",
       "<tbody>\n",
       "\t<tr><th scope=row>1</th><td>ENSG00000010318</td><td>PHF7  </td><td>3</td><td>52444673</td><td>52457657</td><td>52444673</td><td>rs2276824</td><td>2</td><td>52637486</td><td>192813</td><td>⋯</td><td>0</td><td>          NA</td><td>0</td><td>0.0000000000</td><td>0</td><td>0.5255572</td><td>0.9799671</td><td>0.412455677986145</td><td>0.6759259</td><td>0.80</td></tr>\n",
       "\t<tr><th scope=row>2</th><td>ENSG00000010319</td><td>SEMA3G</td><td>3</td><td>52467069</td><td>52479101</td><td>52479101</td><td>rs2276824</td><td>2</td><td>52637486</td><td>158385</td><td>⋯</td><td>0</td><td>7.674931e-05</td><td>1</td><td>0.0003131613</td><td>1</td><td>0.5150698</td><td>0.9631489</td><td>0.936377247174581</td><td>0.1481481</td><td>0.93</td></tr>\n",
       "</tbody>\n",
       "</table>\n"
      ],
      "text/latex": [
       "A data.frame: 2 × 26\n",
       "\\begin{tabular}{r|lllllllllllllllllllll}\n",
       "  & ENSGID & NAME & CHR & START & END & TSS & INDEX & WINDOW & POSITION & TSS\\_DISTANCE & ⋯ & EQTL\\_WT & LDSC\\_P & LDSC\\_WT & EMS\\_SCORE & EMS\\_WT & POPS\\_SCORE & DOWN\\_P & EPIMAP\\_SCORE & GH\\_SCORE & CS2G\\_SCORE\\\\\n",
       "  & <chr> & <chr> & <int> & <int> & <int> & <int> & <chr> & <int> & <int> & <int> & ⋯ & <dbl> & <dbl> & <dbl> & <dbl> & <dbl> & <dbl> & <dbl> & <chr> & <dbl> & <dbl>\\\\\n",
       "\\hline\n",
       "\t1 & ENSG00000010318 & PHF7   & 3 & 52444673 & 52457657 & 52444673 & rs2276824 & 2 & 52637486 & 192813 & ⋯ & 0 &           NA & 0 & 0.0000000000 & 0 & 0.5255572 & 0.9799671 & 0.412455677986145 & 0.6759259 & 0.80\\\\\n",
       "\t2 & ENSG00000010319 & SEMA3G & 3 & 52467069 & 52479101 & 52479101 & rs2276824 & 2 & 52637486 & 158385 & ⋯ & 0 & 7.674931e-05 & 1 & 0.0003131613 & 1 & 0.5150698 & 0.9631489 & 0.936377247174581 & 0.1481481 & 0.93\\\\\n",
       "\\end{tabular}\n"
      ],
      "text/markdown": [
       "\n",
       "A data.frame: 2 × 26\n",
       "\n",
       "| <!--/--> | ENSGID &lt;chr&gt; | NAME &lt;chr&gt; | CHR &lt;int&gt; | START &lt;int&gt; | END &lt;int&gt; | TSS &lt;int&gt; | INDEX &lt;chr&gt; | WINDOW &lt;int&gt; | POSITION &lt;int&gt; | TSS_DISTANCE &lt;int&gt; | ⋯ ⋯ | EQTL_WT &lt;dbl&gt; | LDSC_P &lt;dbl&gt; | LDSC_WT &lt;dbl&gt; | EMS_SCORE &lt;dbl&gt; | EMS_WT &lt;dbl&gt; | POPS_SCORE &lt;dbl&gt; | DOWN_P &lt;dbl&gt; | EPIMAP_SCORE &lt;chr&gt; | GH_SCORE &lt;dbl&gt; | CS2G_SCORE &lt;dbl&gt; |\n",
       "|---|---|---|---|---|---|---|---|---|---|---|---|---|---|---|---|---|---|---|---|---|---|\n",
       "| 1 | ENSG00000010318 | PHF7   | 3 | 52444673 | 52457657 | 52444673 | rs2276824 | 2 | 52637486 | 192813 | ⋯ | 0 |           NA | 0 | 0.0000000000 | 0 | 0.5255572 | 0.9799671 | 0.412455677986145 | 0.6759259 | 0.80 |\n",
       "| 2 | ENSG00000010319 | SEMA3G | 3 | 52467069 | 52479101 | 52479101 | rs2276824 | 2 | 52637486 | 158385 | ⋯ | 0 | 7.674931e-05 | 1 | 0.0003131613 | 1 | 0.5150698 | 0.9631489 | 0.936377247174581 | 0.1481481 | 0.93 |\n",
       "\n"
      ],
      "text/plain": [
       "  ENSGID          NAME   CHR START    END      TSS      INDEX     WINDOW\n",
       "1 ENSG00000010318 PHF7   3   52444673 52457657 52444673 rs2276824 2     \n",
       "2 ENSG00000010319 SEMA3G 3   52467069 52479101 52479101 rs2276824 2     \n",
       "  POSITION TSS_DISTANCE ⋯ EQTL_WT LDSC_P       LDSC_WT EMS_SCORE    EMS_WT\n",
       "1 52637486 192813       ⋯ 0                 NA 0       0.0000000000 0     \n",
       "2 52637486 158385       ⋯ 0       7.674931e-05 1       0.0003131613 1     \n",
       "  POPS_SCORE DOWN_P    EPIMAP_SCORE      GH_SCORE  CS2G_SCORE\n",
       "1 0.5255572  0.9799671 0.412455677986145 0.6759259 0.80      \n",
       "2 0.5150698  0.9631489 0.936377247174581 0.1481481 0.93      "
      ]
     },
     "metadata": {},
     "output_type": "display_data"
    }
   ],
   "source": [
    "head(gene_variant_11,2)"
   ]
  },
  {
   "cell_type": "code",
   "execution_count": 62,
   "id": "1b7e8483",
   "metadata": {},
   "outputs": [
    {
     "data": {
      "text/html": [
       "152"
      ],
      "text/latex": [
       "152"
      ],
      "text/markdown": [
       "152"
      ],
      "text/plain": [
       "[1] 152"
      ]
     },
     "metadata": {},
     "output_type": "display_data"
    }
   ],
   "source": [
    "length(na.omit(gene_variant_11$POPS_SCORE))"
   ]
  },
  {
   "cell_type": "code",
   "execution_count": 63,
   "id": "fe9cda9d",
   "metadata": {},
   "outputs": [],
   "source": [
    "## GENE PRIORITY SCORE"
   ]
  },
  {
   "cell_type": "code",
   "execution_count": null,
   "id": "51adb7f3",
   "metadata": {},
   "outputs": [],
   "source": []
  },
  {
   "cell_type": "code",
   "execution_count": 64,
   "id": "115571ed",
   "metadata": {},
   "outputs": [
    {
     "name": "stderr",
     "output_type": "stream",
     "text": [
      "Warning message:\n",
      "\"package 'metap' was built under R version 4.2.1\"\n"
     ]
    }
   ],
   "source": [
    "library('metap')"
   ]
  },
  {
   "cell_type": "code",
   "execution_count": 65,
   "id": "1284d21c",
   "metadata": {},
   "outputs": [],
   "source": [
    "gene_priority <- data.frame()\n",
    "for (i in 1:nrow(gene_variant_11) ){\n",
    "line_q <- gene_variant_11[i,] \n",
    "p_g_raw <- na.omit(c(line_q$MAGMA_P,line_q$p_SMR,line_q$P_EQTL,line_q$LDSC_P,line_q$DOWN_P))\n",
    "if (length(p_g_raw)<2){\n",
    "p_g <- p_g_raw\n",
    "} else {\n",
    "p_g <- -log10(as.double(allmetap(p_g_raw,method=\"sumz\")$p))}\n",
    "S_G <- sum(as.double(na.omit(c(line_q$coloc_pip,line_q$EMS_SCORE,line_q$POPS_SCORE,line_q$EPIMAP_SCORE,line_q$GH_SCORE,line_q$CS2G_SCORE))))\n",
    "C_S <- sum(as.double(na.omit(c(line_q$coloc_WT,line_q$SMR_WT,line_q$EQTL_WT,line_q$LDSC_WT,line_q$EMS_WT)))+\n",
    "           length(as.double(na.omit(line_q$MAGMA_P,line_q$POPS_SCORE,line_q$DOWN_P,line_q$EPIMAP_SCORE,line_q$GH_SCORE,line_q$CS2G_SCORE))))/11\n",
    "GP_SCORE <- ((as.double(p_g)+as.double(S_G))*as.double(C_S))/log2(line_q$TSS_DISTANCE)\n",
    "tmp_df <- gene_variant_11[i,]%>%mutate(GP_SCORE=as.double(GP_SCORE))\n",
    "gene_priority  <- rbind(gene_priority,tmp_df)\n",
    "}"
   ]
  },
  {
   "cell_type": "code",
   "execution_count": 66,
   "id": "3a479e3b",
   "metadata": {},
   "outputs": [
    {
     "name": "stderr",
     "output_type": "stream",
     "text": [
      "\u001b[1m\u001b[22mAdding missing grouping variables: `WINDOW`\n"
     ]
    }
   ],
   "source": [
    "gene_priority <- arrange(gene_priority%>%group_by(WINDOW)%>% mutate(mx = max(GP_SCORE)) %>% arrange(desc(mx), desc(GP_SCORE)) %>% select(-mx),CHR,POSITION)%>%\n",
    "select(NAME,CHR,POSITION,INDEX,GP_SCORE,TSS_DISTANCE,MAGMA_P,p_SMR,P_EQTL,LDSC_P,DOWN_P,coloc_pip,EMS_SCORE,POPS_SCORE,GH_SCORE,CS2G_SCORE,coloc_WT,SMR_WT,EQTL_WT,LDSC_WT,EMS_WT)"
   ]
  },
  {
   "cell_type": "code",
   "execution_count": 67,
   "id": "3de31a19",
   "metadata": {},
   "outputs": [],
   "source": [
    "write.table(gene_priority,\"../../ANALYSIS/GENE_PRIORITY/METSIM_GENE_PRIORITY.TAB\",row.names=FALSE,quote=FALSE,sep=\"\\t\")"
   ]
  },
  {
   "cell_type": "code",
   "execution_count": 139,
   "id": "a5c6362a",
   "metadata": {},
   "outputs": [],
   "source": [
    "top3_genes <- gene_priority%>%group_by(WINDOW) %>% slice_max(order_by = GP_SCORE, n = 3)"
   ]
  },
  {
   "cell_type": "code",
   "execution_count": 140,
   "id": "5743a7df",
   "metadata": {},
   "outputs": [],
   "source": [
    "write.table(top3_genes,\"../../ANALYSIS/GENE_PRIORITY/METSIM_GENE_PRIORITY_TOP3.TAB\",row.names=FALSE,quote=FALSE,sep=\"\\t\")"
   ]
  },
  {
   "cell_type": "code",
   "execution_count": null,
   "id": "119d786b",
   "metadata": {},
   "outputs": [],
   "source": []
  }
 ],
 "metadata": {
  "kernelspec": {
   "display_name": "R",
   "language": "R",
   "name": "ir"
  },
  "language_info": {
   "codemirror_mode": "r",
   "file_extension": ".r",
   "mimetype": "text/x-r-source",
   "name": "R",
   "pygments_lexer": "r",
   "version": "4.2.0"
  }
 },
 "nbformat": 4,
 "nbformat_minor": 5
}
