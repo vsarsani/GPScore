{
 "cells": [
  {
   "cell_type": "code",
   "execution_count": 1,
   "id": "1ba66e8d",
   "metadata": {},
   "outputs": [],
   "source": [
    "suppressMessages(suppressWarnings(library(tidyverse)))"
   ]
  },
  {
   "cell_type": "code",
   "execution_count": 2,
   "id": "52512c49",
   "metadata": {},
   "outputs": [],
   "source": [
    "## Trans-ancestry "
   ]
  },
  {
   "cell_type": "code",
   "execution_count": 3,
   "id": "ab0b1c03",
   "metadata": {},
   "outputs": [],
   "source": [
    "Metasoft_results <-  read.table(\"../../ANALYSIS/META/METASOFT/SECOND_PASS/TRANSANCESTRY_METASOFT_SECONDPASS_RESULTS.TAB\",fill=TRUE,row.names=NULL,header=FALSE)\n",
    "META_THREE <- read.table(\"../data/TRANSANCESTRY_GWAS_ALLELECORRECTED.TAB\",header=T,fill=TRUE,row.names=NULL)\n",
    "colnames(Metasoft_results) <- c(\"MARKERNAME\",\"N\",\"PVALUE_FE\",\"BETA_FE\",\"STD_FE\",\"PVALUE_RE\",\"BETA_RE\",\"STD_RE\",\"PVALUE_RE2\",\"STAT1_RE2\",\"STAT2_RE2\",\"PVALUE_BE\",\"I_SQUARE\",\"Q\",\"PVALUE_Q\",\"TAU_SQUARE\",\n",
    "                                \"PVALUE_ADIPOGEN\",\"PVALUE_AGEN\",\"PVALUE_METSIM\",\"NA1\",\"NA2\",\"NA3\")\n",
    "Metasoft_results <- Metasoft_results%>%filter(MARKERNAME!=\"RSID\")\n",
    "TRANSANCESTRY_RESULTS <- merge(META_THREE,Metasoft_results,by=\"MARKERNAME\")\n",
    "TRANSANCESTRY_RESULTS <- TRANSANCESTRY_RESULTS%>%mutate(TOTAL_N=ceiling(ADIPO_N)+ceiling(AGEN_N)+ceiling(METSIM_N))%>%mutate(MAF_AVG=(ADIPO_EAF*2*ADIPO_N+AGEN_EAF*2*AGEN_N+METSIM_EAF*2*METSIM_N)/(2*TOTAL_N))%>%\n",
    "filter(ADIPO_EAF>0.005)%>%filter(AGEN_EAF>0.005)%>%filter(METSIM_EAF>0.005)%>%select(-NA1,-N,-NA2,-NA3)"
   ]
  },
  {
   "cell_type": "code",
   "execution_count": 21,
   "id": "e18aa88a",
   "metadata": {},
   "outputs": [],
   "source": [
    "casual <- read.table(\"../../ANALYSIS/CAVIAR/caviar//trans/trans_casual.txt\",fill=TRUE,row.names=NULL,header=FALSE)\n",
    "colnames(casual) <- \"MARKERNAME\"\n",
    "lead <- (read.table(\"../../ANALYSIS/3way_lead.txt\",fill=TRUE,header=TRUE))$MARKERNAME"
   ]
  },
  {
   "cell_type": "code",
   "execution_count": 24,
   "id": "76690e09",
   "metadata": {},
   "outputs": [
    {
     "data": {
      "text/html": [
       "<table class=\"dataframe\">\n",
       "<caption>A data.frame: 25 × 12</caption>\n",
       "<thead>\n",
       "\t<tr><th scope=col>MARKERNAME</th><th scope=col>CHROMOSOME</th><th scope=col>POSITION</th><th scope=col>METSIM_EA</th><th scope=col>METSIM_NEA</th><th scope=col>BETA_FE</th><th scope=col>STD_FE</th><th scope=col>PVALUE_FE</th><th scope=col>ADIPO_EAF</th><th scope=col>AGEN_EAF</th><th scope=col>METSIM_EAF</th><th scope=col>TOTAL_N</th></tr>\n",
       "\t<tr><th scope=col>&lt;chr&gt;</th><th scope=col>&lt;int&gt;</th><th scope=col>&lt;int&gt;</th><th scope=col>&lt;chr&gt;</th><th scope=col>&lt;chr&gt;</th><th scope=col>&lt;dbl&gt;</th><th scope=col>&lt;dbl&gt;</th><th scope=col>&lt;dbl&gt;</th><th scope=col>&lt;dbl&gt;</th><th scope=col>&lt;dbl&gt;</th><th scope=col>&lt;dbl&gt;</th><th scope=col>&lt;dbl&gt;</th></tr>\n",
       "</thead>\n",
       "<tbody>\n",
       "\t<tr><td>rs10128681</td><td>11</td><td> 14701576</td><td>T</td><td>C</td><td> 0.0208175</td><td>0.00408346</td><td> 3.43227e-07</td><td>0.425900</td><td>0.6449</td><td>0.43927</td><td>46328</td></tr>\n",
       "\t<tr><td>rs12051272</td><td>16</td><td> 82663288</td><td>T</td><td>G</td><td>-0.3575650</td><td>0.01147570</td><td>3.89427e-213</td><td>0.009091</td><td>0.2875</td><td>0.10675</td><td>32655</td></tr>\n",
       "\t<tr><td>rs12521454</td><td> 5</td><td> 53297304</td><td>T</td><td>C</td><td> 0.0326786</td><td>0.00469917</td><td> 3.54796e-12</td><td>0.210500</td><td>0.5594</td><td>0.23205</td><td>46383</td></tr>\n",
       "\t<tr><td>rs16957913</td><td>16</td><td> 82670249</td><td>T</td><td>C</td><td> 0.2082040</td><td>0.01064290</td><td> 3.21273e-85</td><td>0.016670</td><td>0.7386</td><td>0.05792</td><td>41520</td></tr>\n",
       "\t<tr><td>rs182052  </td><td> 3</td><td>186560782</td><td>A</td><td>G</td><td>-0.0719502</td><td>0.00423002</td><td> 6.99375e-65</td><td>0.353400</td><td>0.4429</td><td>0.42879</td><td>46361</td></tr>\n",
       "\t<tr><td>rs191378  </td><td> 1</td><td>110476593</td><td>A</td><td>G</td><td>-0.0178200</td><td>0.00485552</td><td> 2.42511e-04</td><td>0.189700</td><td>0.3290</td><td>0.23214</td><td>46285</td></tr>\n",
       "\t<tr><td>rs2009084 </td><td>12</td><td> 20511193</td><td>T</td><td>C</td><td>-0.0287855</td><td>0.00447672</td><td> 1.27575e-10</td><td>0.441700</td><td>0.8403</td><td>0.30533</td><td>44908</td></tr>\n",
       "\t<tr><td>rs2276824 </td><td> 3</td><td> 52637486</td><td>G</td><td>C</td><td> 0.0339515</td><td>0.00429686</td><td> 2.75664e-15</td><td>0.465500</td><td>0.5658</td><td>0.47943</td><td>46013</td></tr>\n",
       "\t<tr><td>rs2290782 </td><td> 4</td><td> 89711849</td><td>T</td><td>C</td><td> 0.0209652</td><td>0.00405483</td><td> 2.33554e-07</td><td>0.483300</td><td>0.3104</td><td>0.45605</td><td>46408</td></tr>\n",
       "\t<tr><td>rs2429511 </td><td>10</td><td>115801253</td><td>T</td><td>C</td><td>-0.0255364</td><td>0.00479303</td><td> 9.94013e-08</td><td>0.413800</td><td>0.4061</td><td>0.47910</td><td>37690</td></tr>\n",
       "\t<tr><td>rs2654189 </td><td>17</td><td>  7177872</td><td>A</td><td>C</td><td>-0.0266400</td><td>0.00460682</td><td> 7.34963e-09</td><td>0.341700</td><td>0.6866</td><td>0.29547</td><td>45438</td></tr>\n",
       "\t<tr><td>rs2694909 </td><td>12</td><td> 56934928</td><td>T</td><td>C</td><td> 0.0252493</td><td>0.00425854</td><td> 3.04599e-09</td><td>0.358300</td><td>0.2527</td><td>0.38745</td><td>45434</td></tr>\n",
       "\t<tr><td>rs2782982 </td><td>10</td><td>115788495</td><td>G</td><td>A</td><td> 0.0250095</td><td>0.00435544</td><td> 9.34889e-09</td><td>0.421100</td><td>0.3970</td><td>0.47028</td><td>46372</td></tr>\n",
       "\t<tr><td>rs2980878 </td><td> 8</td><td>126481527</td><td>C</td><td>G</td><td> 0.0279924</td><td>0.00467805</td><td> 2.18028e-09</td><td>0.366700</td><td>0.7289</td><td>0.26911</td><td>41137</td></tr>\n",
       "\t<tr><td>rs483384  </td><td> 6</td><td> 44418601</td><td>T</td><td>C</td><td>-0.0312942</td><td>0.01072930</td><td> 3.53752e-03</td><td>0.050000</td><td>0.0462</td><td>0.07274</td><td>41627</td></tr>\n",
       "\t<tr><td>rs541112  </td><td> 6</td><td> 44417920</td><td>T</td><td>C</td><td> 0.0302402</td><td>0.01069420</td><td> 4.68797e-03</td><td>0.050000</td><td>0.9508</td><td>0.07273</td><td>41619</td></tr>\n",
       "\t<tr><td>rs5415    </td><td>17</td><td>  7184481</td><td>T</td><td>C</td><td> 0.0269293</td><td>0.00464485</td><td> 6.72459e-09</td><td>0.341700</td><td>0.3154</td><td>0.29612</td><td>45412</td></tr>\n",
       "\t<tr><td>rs6450176 </td><td> 5</td><td> 53298025</td><td>A</td><td>G</td><td>-0.0333388</td><td>0.00470795</td><td> 1.42734e-12</td><td>0.232800</td><td>0.4410</td><td>0.23186</td><td>46302</td></tr>\n",
       "\t<tr><td>rs6810075 </td><td> 3</td><td>186548565</td><td>T</td><td>C</td><td> 0.0746793</td><td>0.00436788</td><td> 1.55202e-65</td><td>0.366700</td><td>0.5522</td><td>0.44828</td><td>46203</td></tr>\n",
       "\t<tr><td>rs683039  </td><td> 6</td><td>153463915</td><td>T</td><td>G</td><td>-0.0222825</td><td>0.00404425</td><td> 3.59484e-08</td><td>0.433300</td><td>0.7418</td><td>0.44933</td><td>46381</td></tr>\n",
       "\t<tr><td>rs7311969 </td><td>12</td><td>124470333</td><td>T</td><td>C</td><td>-0.0341675</td><td>0.00438540</td><td> 6.63792e-15</td><td>0.383300</td><td>0.9191</td><td>0.26690</td><td>46388</td></tr>\n",
       "\t<tr><td>rs731839  </td><td>19</td><td> 33899065</td><td>A</td><td>G</td><td> 0.0420238</td><td>0.00444530</td><td> 3.27583e-21</td><td>0.327600</td><td>0.4583</td><td>0.33900</td><td>46229</td></tr>\n",
       "\t<tr><td>rs765751  </td><td> 1</td><td>219669226</td><td>T</td><td>C</td><td> 0.0239746</td><td>0.00412408</td><td> 6.12433e-09</td><td>0.391700</td><td>0.6380</td><td>0.37260</td><td>46388</td></tr>\n",
       "\t<tr><td>rs7978610 </td><td>12</td><td>124468572</td><td>C</td><td>G</td><td> 0.0373802</td><td>0.00464052</td><td> 7.93672e-16</td><td>0.386000</td><td>0.0807</td><td>0.26684</td><td>44745</td></tr>\n",
       "\t<tr><td>rs8047711 </td><td>16</td><td> 82667671</td><td>A</td><td>G</td><td>-0.2391800</td><td>0.01085450</td><td>1.33026e-107</td><td>0.016950</td><td>0.2370</td><td>0.05802</td><td>41530</td></tr>\n",
       "</tbody>\n",
       "</table>\n"
      ],
      "text/latex": [
       "A data.frame: 25 × 12\n",
       "\\begin{tabular}{llllllllllll}\n",
       " MARKERNAME & CHROMOSOME & POSITION & METSIM\\_EA & METSIM\\_NEA & BETA\\_FE & STD\\_FE & PVALUE\\_FE & ADIPO\\_EAF & AGEN\\_EAF & METSIM\\_EAF & TOTAL\\_N\\\\\n",
       " <chr> & <int> & <int> & <chr> & <chr> & <dbl> & <dbl> & <dbl> & <dbl> & <dbl> & <dbl> & <dbl>\\\\\n",
       "\\hline\n",
       "\t rs10128681 & 11 &  14701576 & T & C &  0.0208175 & 0.00408346 &  3.43227e-07 & 0.425900 & 0.6449 & 0.43927 & 46328\\\\\n",
       "\t rs12051272 & 16 &  82663288 & T & G & -0.3575650 & 0.01147570 & 3.89427e-213 & 0.009091 & 0.2875 & 0.10675 & 32655\\\\\n",
       "\t rs12521454 &  5 &  53297304 & T & C &  0.0326786 & 0.00469917 &  3.54796e-12 & 0.210500 & 0.5594 & 0.23205 & 46383\\\\\n",
       "\t rs16957913 & 16 &  82670249 & T & C &  0.2082040 & 0.01064290 &  3.21273e-85 & 0.016670 & 0.7386 & 0.05792 & 41520\\\\\n",
       "\t rs182052   &  3 & 186560782 & A & G & -0.0719502 & 0.00423002 &  6.99375e-65 & 0.353400 & 0.4429 & 0.42879 & 46361\\\\\n",
       "\t rs191378   &  1 & 110476593 & A & G & -0.0178200 & 0.00485552 &  2.42511e-04 & 0.189700 & 0.3290 & 0.23214 & 46285\\\\\n",
       "\t rs2009084  & 12 &  20511193 & T & C & -0.0287855 & 0.00447672 &  1.27575e-10 & 0.441700 & 0.8403 & 0.30533 & 44908\\\\\n",
       "\t rs2276824  &  3 &  52637486 & G & C &  0.0339515 & 0.00429686 &  2.75664e-15 & 0.465500 & 0.5658 & 0.47943 & 46013\\\\\n",
       "\t rs2290782  &  4 &  89711849 & T & C &  0.0209652 & 0.00405483 &  2.33554e-07 & 0.483300 & 0.3104 & 0.45605 & 46408\\\\\n",
       "\t rs2429511  & 10 & 115801253 & T & C & -0.0255364 & 0.00479303 &  9.94013e-08 & 0.413800 & 0.4061 & 0.47910 & 37690\\\\\n",
       "\t rs2654189  & 17 &   7177872 & A & C & -0.0266400 & 0.00460682 &  7.34963e-09 & 0.341700 & 0.6866 & 0.29547 & 45438\\\\\n",
       "\t rs2694909  & 12 &  56934928 & T & C &  0.0252493 & 0.00425854 &  3.04599e-09 & 0.358300 & 0.2527 & 0.38745 & 45434\\\\\n",
       "\t rs2782982  & 10 & 115788495 & G & A &  0.0250095 & 0.00435544 &  9.34889e-09 & 0.421100 & 0.3970 & 0.47028 & 46372\\\\\n",
       "\t rs2980878  &  8 & 126481527 & C & G &  0.0279924 & 0.00467805 &  2.18028e-09 & 0.366700 & 0.7289 & 0.26911 & 41137\\\\\n",
       "\t rs483384   &  6 &  44418601 & T & C & -0.0312942 & 0.01072930 &  3.53752e-03 & 0.050000 & 0.0462 & 0.07274 & 41627\\\\\n",
       "\t rs541112   &  6 &  44417920 & T & C &  0.0302402 & 0.01069420 &  4.68797e-03 & 0.050000 & 0.9508 & 0.07273 & 41619\\\\\n",
       "\t rs5415     & 17 &   7184481 & T & C &  0.0269293 & 0.00464485 &  6.72459e-09 & 0.341700 & 0.3154 & 0.29612 & 45412\\\\\n",
       "\t rs6450176  &  5 &  53298025 & A & G & -0.0333388 & 0.00470795 &  1.42734e-12 & 0.232800 & 0.4410 & 0.23186 & 46302\\\\\n",
       "\t rs6810075  &  3 & 186548565 & T & C &  0.0746793 & 0.00436788 &  1.55202e-65 & 0.366700 & 0.5522 & 0.44828 & 46203\\\\\n",
       "\t rs683039   &  6 & 153463915 & T & G & -0.0222825 & 0.00404425 &  3.59484e-08 & 0.433300 & 0.7418 & 0.44933 & 46381\\\\\n",
       "\t rs7311969  & 12 & 124470333 & T & C & -0.0341675 & 0.00438540 &  6.63792e-15 & 0.383300 & 0.9191 & 0.26690 & 46388\\\\\n",
       "\t rs731839   & 19 &  33899065 & A & G &  0.0420238 & 0.00444530 &  3.27583e-21 & 0.327600 & 0.4583 & 0.33900 & 46229\\\\\n",
       "\t rs765751   &  1 & 219669226 & T & C &  0.0239746 & 0.00412408 &  6.12433e-09 & 0.391700 & 0.6380 & 0.37260 & 46388\\\\\n",
       "\t rs7978610  & 12 & 124468572 & C & G &  0.0373802 & 0.00464052 &  7.93672e-16 & 0.386000 & 0.0807 & 0.26684 & 44745\\\\\n",
       "\t rs8047711  & 16 &  82667671 & A & G & -0.2391800 & 0.01085450 & 1.33026e-107 & 0.016950 & 0.2370 & 0.05802 & 41530\\\\\n",
       "\\end{tabular}\n"
      ],
      "text/markdown": [
       "\n",
       "A data.frame: 25 × 12\n",
       "\n",
       "| MARKERNAME &lt;chr&gt; | CHROMOSOME &lt;int&gt; | POSITION &lt;int&gt; | METSIM_EA &lt;chr&gt; | METSIM_NEA &lt;chr&gt; | BETA_FE &lt;dbl&gt; | STD_FE &lt;dbl&gt; | PVALUE_FE &lt;dbl&gt; | ADIPO_EAF &lt;dbl&gt; | AGEN_EAF &lt;dbl&gt; | METSIM_EAF &lt;dbl&gt; | TOTAL_N &lt;dbl&gt; |\n",
       "|---|---|---|---|---|---|---|---|---|---|---|---|\n",
       "| rs10128681 | 11 |  14701576 | T | C |  0.0208175 | 0.00408346 |  3.43227e-07 | 0.425900 | 0.6449 | 0.43927 | 46328 |\n",
       "| rs12051272 | 16 |  82663288 | T | G | -0.3575650 | 0.01147570 | 3.89427e-213 | 0.009091 | 0.2875 | 0.10675 | 32655 |\n",
       "| rs12521454 |  5 |  53297304 | T | C |  0.0326786 | 0.00469917 |  3.54796e-12 | 0.210500 | 0.5594 | 0.23205 | 46383 |\n",
       "| rs16957913 | 16 |  82670249 | T | C |  0.2082040 | 0.01064290 |  3.21273e-85 | 0.016670 | 0.7386 | 0.05792 | 41520 |\n",
       "| rs182052   |  3 | 186560782 | A | G | -0.0719502 | 0.00423002 |  6.99375e-65 | 0.353400 | 0.4429 | 0.42879 | 46361 |\n",
       "| rs191378   |  1 | 110476593 | A | G | -0.0178200 | 0.00485552 |  2.42511e-04 | 0.189700 | 0.3290 | 0.23214 | 46285 |\n",
       "| rs2009084  | 12 |  20511193 | T | C | -0.0287855 | 0.00447672 |  1.27575e-10 | 0.441700 | 0.8403 | 0.30533 | 44908 |\n",
       "| rs2276824  |  3 |  52637486 | G | C |  0.0339515 | 0.00429686 |  2.75664e-15 | 0.465500 | 0.5658 | 0.47943 | 46013 |\n",
       "| rs2290782  |  4 |  89711849 | T | C |  0.0209652 | 0.00405483 |  2.33554e-07 | 0.483300 | 0.3104 | 0.45605 | 46408 |\n",
       "| rs2429511  | 10 | 115801253 | T | C | -0.0255364 | 0.00479303 |  9.94013e-08 | 0.413800 | 0.4061 | 0.47910 | 37690 |\n",
       "| rs2654189  | 17 |   7177872 | A | C | -0.0266400 | 0.00460682 |  7.34963e-09 | 0.341700 | 0.6866 | 0.29547 | 45438 |\n",
       "| rs2694909  | 12 |  56934928 | T | C |  0.0252493 | 0.00425854 |  3.04599e-09 | 0.358300 | 0.2527 | 0.38745 | 45434 |\n",
       "| rs2782982  | 10 | 115788495 | G | A |  0.0250095 | 0.00435544 |  9.34889e-09 | 0.421100 | 0.3970 | 0.47028 | 46372 |\n",
       "| rs2980878  |  8 | 126481527 | C | G |  0.0279924 | 0.00467805 |  2.18028e-09 | 0.366700 | 0.7289 | 0.26911 | 41137 |\n",
       "| rs483384   |  6 |  44418601 | T | C | -0.0312942 | 0.01072930 |  3.53752e-03 | 0.050000 | 0.0462 | 0.07274 | 41627 |\n",
       "| rs541112   |  6 |  44417920 | T | C |  0.0302402 | 0.01069420 |  4.68797e-03 | 0.050000 | 0.9508 | 0.07273 | 41619 |\n",
       "| rs5415     | 17 |   7184481 | T | C |  0.0269293 | 0.00464485 |  6.72459e-09 | 0.341700 | 0.3154 | 0.29612 | 45412 |\n",
       "| rs6450176  |  5 |  53298025 | A | G | -0.0333388 | 0.00470795 |  1.42734e-12 | 0.232800 | 0.4410 | 0.23186 | 46302 |\n",
       "| rs6810075  |  3 | 186548565 | T | C |  0.0746793 | 0.00436788 |  1.55202e-65 | 0.366700 | 0.5522 | 0.44828 | 46203 |\n",
       "| rs683039   |  6 | 153463915 | T | G | -0.0222825 | 0.00404425 |  3.59484e-08 | 0.433300 | 0.7418 | 0.44933 | 46381 |\n",
       "| rs7311969  | 12 | 124470333 | T | C | -0.0341675 | 0.00438540 |  6.63792e-15 | 0.383300 | 0.9191 | 0.26690 | 46388 |\n",
       "| rs731839   | 19 |  33899065 | A | G |  0.0420238 | 0.00444530 |  3.27583e-21 | 0.327600 | 0.4583 | 0.33900 | 46229 |\n",
       "| rs765751   |  1 | 219669226 | T | C |  0.0239746 | 0.00412408 |  6.12433e-09 | 0.391700 | 0.6380 | 0.37260 | 46388 |\n",
       "| rs7978610  | 12 | 124468572 | C | G |  0.0373802 | 0.00464052 |  7.93672e-16 | 0.386000 | 0.0807 | 0.26684 | 44745 |\n",
       "| rs8047711  | 16 |  82667671 | A | G | -0.2391800 | 0.01085450 | 1.33026e-107 | 0.016950 | 0.2370 | 0.05802 | 41530 |\n",
       "\n"
      ],
      "text/plain": [
       "   MARKERNAME CHROMOSOME POSITION  METSIM_EA METSIM_NEA BETA_FE    STD_FE    \n",
       "1  rs10128681 11          14701576 T         C           0.0208175 0.00408346\n",
       "2  rs12051272 16          82663288 T         G          -0.3575650 0.01147570\n",
       "3  rs12521454  5          53297304 T         C           0.0326786 0.00469917\n",
       "4  rs16957913 16          82670249 T         C           0.2082040 0.01064290\n",
       "5  rs182052    3         186560782 A         G          -0.0719502 0.00423002\n",
       "6  rs191378    1         110476593 A         G          -0.0178200 0.00485552\n",
       "7  rs2009084  12          20511193 T         C          -0.0287855 0.00447672\n",
       "8  rs2276824   3          52637486 G         C           0.0339515 0.00429686\n",
       "9  rs2290782   4          89711849 T         C           0.0209652 0.00405483\n",
       "10 rs2429511  10         115801253 T         C          -0.0255364 0.00479303\n",
       "11 rs2654189  17           7177872 A         C          -0.0266400 0.00460682\n",
       "12 rs2694909  12          56934928 T         C           0.0252493 0.00425854\n",
       "13 rs2782982  10         115788495 G         A           0.0250095 0.00435544\n",
       "14 rs2980878   8         126481527 C         G           0.0279924 0.00467805\n",
       "15 rs483384    6          44418601 T         C          -0.0312942 0.01072930\n",
       "16 rs541112    6          44417920 T         C           0.0302402 0.01069420\n",
       "17 rs5415     17           7184481 T         C           0.0269293 0.00464485\n",
       "18 rs6450176   5          53298025 A         G          -0.0333388 0.00470795\n",
       "19 rs6810075   3         186548565 T         C           0.0746793 0.00436788\n",
       "20 rs683039    6         153463915 T         G          -0.0222825 0.00404425\n",
       "21 rs7311969  12         124470333 T         C          -0.0341675 0.00438540\n",
       "22 rs731839   19          33899065 A         G           0.0420238 0.00444530\n",
       "23 rs765751    1         219669226 T         C           0.0239746 0.00412408\n",
       "24 rs7978610  12         124468572 C         G           0.0373802 0.00464052\n",
       "25 rs8047711  16          82667671 A         G          -0.2391800 0.01085450\n",
       "   PVALUE_FE    ADIPO_EAF AGEN_EAF METSIM_EAF TOTAL_N\n",
       "1   3.43227e-07 0.425900  0.6449   0.43927    46328  \n",
       "2  3.89427e-213 0.009091  0.2875   0.10675    32655  \n",
       "3   3.54796e-12 0.210500  0.5594   0.23205    46383  \n",
       "4   3.21273e-85 0.016670  0.7386   0.05792    41520  \n",
       "5   6.99375e-65 0.353400  0.4429   0.42879    46361  \n",
       "6   2.42511e-04 0.189700  0.3290   0.23214    46285  \n",
       "7   1.27575e-10 0.441700  0.8403   0.30533    44908  \n",
       "8   2.75664e-15 0.465500  0.5658   0.47943    46013  \n",
       "9   2.33554e-07 0.483300  0.3104   0.45605    46408  \n",
       "10  9.94013e-08 0.413800  0.4061   0.47910    37690  \n",
       "11  7.34963e-09 0.341700  0.6866   0.29547    45438  \n",
       "12  3.04599e-09 0.358300  0.2527   0.38745    45434  \n",
       "13  9.34889e-09 0.421100  0.3970   0.47028    46372  \n",
       "14  2.18028e-09 0.366700  0.7289   0.26911    41137  \n",
       "15  3.53752e-03 0.050000  0.0462   0.07274    41627  \n",
       "16  4.68797e-03 0.050000  0.9508   0.07273    41619  \n",
       "17  6.72459e-09 0.341700  0.3154   0.29612    45412  \n",
       "18  1.42734e-12 0.232800  0.4410   0.23186    46302  \n",
       "19  1.55202e-65 0.366700  0.5522   0.44828    46203  \n",
       "20  3.59484e-08 0.433300  0.7418   0.44933    46381  \n",
       "21  6.63792e-15 0.383300  0.9191   0.26690    46388  \n",
       "22  3.27583e-21 0.327600  0.4583   0.33900    46229  \n",
       "23  6.12433e-09 0.391700  0.6380   0.37260    46388  \n",
       "24  7.93672e-16 0.386000  0.0807   0.26684    44745  \n",
       "25 1.33026e-107 0.016950  0.2370   0.05802    41530  "
      ]
     },
     "metadata": {},
     "output_type": "display_data"
    }
   ],
   "source": [
    "merge(TRANSANCESTRY_RESULTS,casual)%>%select(MARKERNAME,CHROMOSOME,POSITION,METSIM_EA,METSIM_NEA,BETA_FE,STD_FE,PVALUE_FE,ADIPO_EAF,AGEN_EAF,METSIM_EAF,TOTAL_N)%>%distinct()"
   ]
  },
  {
   "cell_type": "code",
   "execution_count": 25,
   "id": "8ad8be9d",
   "metadata": {},
   "outputs": [
    {
     "data": {
      "text/html": [
       "<table class=\"dataframe\">\n",
       "<caption>A data.frame: 5 × 12</caption>\n",
       "<thead>\n",
       "\t<tr><th scope=col>MARKERNAME</th><th scope=col>CHROMOSOME</th><th scope=col>POSITION</th><th scope=col>METSIM_EA</th><th scope=col>METSIM_NEA</th><th scope=col>BETA_FE</th><th scope=col>STD_FE</th><th scope=col>PVALUE_FE</th><th scope=col>ADIPO_EAF</th><th scope=col>AGEN_EAF</th><th scope=col>METSIM_EAF</th><th scope=col>TOTAL_N</th></tr>\n",
       "\t<tr><th scope=col>&lt;chr&gt;</th><th scope=col>&lt;int&gt;</th><th scope=col>&lt;int&gt;</th><th scope=col>&lt;chr&gt;</th><th scope=col>&lt;chr&gt;</th><th scope=col>&lt;dbl&gt;</th><th scope=col>&lt;dbl&gt;</th><th scope=col>&lt;dbl&gt;</th><th scope=col>&lt;dbl&gt;</th><th scope=col>&lt;dbl&gt;</th><th scope=col>&lt;dbl&gt;</th><th scope=col>&lt;dbl&gt;</th></tr>\n",
       "</thead>\n",
       "<tbody>\n",
       "\t<tr><td>rs12051272</td><td>16</td><td> 82663288</td><td>T</td><td>G</td><td>-0.3575650</td><td>0.01147570</td><td>3.89427e-213</td><td>0.009091</td><td>0.2875</td><td>0.10675</td><td>32655</td></tr>\n",
       "\t<tr><td>rs6450176 </td><td> 5</td><td> 53298025</td><td>A</td><td>G</td><td>-0.0333388</td><td>0.00470795</td><td> 1.42734e-12</td><td>0.232800</td><td>0.4410</td><td>0.23186</td><td>46302</td></tr>\n",
       "\t<tr><td>rs731839  </td><td>19</td><td> 33899065</td><td>A</td><td>G</td><td> 0.0420238</td><td>0.00444530</td><td> 3.27583e-21</td><td>0.327600</td><td>0.4583</td><td>0.33900</td><td>46229</td></tr>\n",
       "\t<tr><td>rs7978610 </td><td>12</td><td>124468572</td><td>C</td><td>G</td><td> 0.0373802</td><td>0.00464052</td><td> 7.93672e-16</td><td>0.386000</td><td>0.0807</td><td>0.26684</td><td>44745</td></tr>\n",
       "\t<tr><td>rs7978610 </td><td>12</td><td>124468572</td><td>C</td><td>G</td><td> 0.0373802</td><td>0.00464052</td><td> 7.93672e-16</td><td>0.386000</td><td>0.0807</td><td>0.26684</td><td>44745</td></tr>\n",
       "</tbody>\n",
       "</table>\n"
      ],
      "text/latex": [
       "A data.frame: 5 × 12\n",
       "\\begin{tabular}{llllllllllll}\n",
       " MARKERNAME & CHROMOSOME & POSITION & METSIM\\_EA & METSIM\\_NEA & BETA\\_FE & STD\\_FE & PVALUE\\_FE & ADIPO\\_EAF & AGEN\\_EAF & METSIM\\_EAF & TOTAL\\_N\\\\\n",
       " <chr> & <int> & <int> & <chr> & <chr> & <dbl> & <dbl> & <dbl> & <dbl> & <dbl> & <dbl> & <dbl>\\\\\n",
       "\\hline\n",
       "\t rs12051272 & 16 &  82663288 & T & G & -0.3575650 & 0.01147570 & 3.89427e-213 & 0.009091 & 0.2875 & 0.10675 & 32655\\\\\n",
       "\t rs6450176  &  5 &  53298025 & A & G & -0.0333388 & 0.00470795 &  1.42734e-12 & 0.232800 & 0.4410 & 0.23186 & 46302\\\\\n",
       "\t rs731839   & 19 &  33899065 & A & G &  0.0420238 & 0.00444530 &  3.27583e-21 & 0.327600 & 0.4583 & 0.33900 & 46229\\\\\n",
       "\t rs7978610  & 12 & 124468572 & C & G &  0.0373802 & 0.00464052 &  7.93672e-16 & 0.386000 & 0.0807 & 0.26684 & 44745\\\\\n",
       "\t rs7978610  & 12 & 124468572 & C & G &  0.0373802 & 0.00464052 &  7.93672e-16 & 0.386000 & 0.0807 & 0.26684 & 44745\\\\\n",
       "\\end{tabular}\n"
      ],
      "text/markdown": [
       "\n",
       "A data.frame: 5 × 12\n",
       "\n",
       "| MARKERNAME &lt;chr&gt; | CHROMOSOME &lt;int&gt; | POSITION &lt;int&gt; | METSIM_EA &lt;chr&gt; | METSIM_NEA &lt;chr&gt; | BETA_FE &lt;dbl&gt; | STD_FE &lt;dbl&gt; | PVALUE_FE &lt;dbl&gt; | ADIPO_EAF &lt;dbl&gt; | AGEN_EAF &lt;dbl&gt; | METSIM_EAF &lt;dbl&gt; | TOTAL_N &lt;dbl&gt; |\n",
       "|---|---|---|---|---|---|---|---|---|---|---|---|\n",
       "| rs12051272 | 16 |  82663288 | T | G | -0.3575650 | 0.01147570 | 3.89427e-213 | 0.009091 | 0.2875 | 0.10675 | 32655 |\n",
       "| rs6450176  |  5 |  53298025 | A | G | -0.0333388 | 0.00470795 |  1.42734e-12 | 0.232800 | 0.4410 | 0.23186 | 46302 |\n",
       "| rs731839   | 19 |  33899065 | A | G |  0.0420238 | 0.00444530 |  3.27583e-21 | 0.327600 | 0.4583 | 0.33900 | 46229 |\n",
       "| rs7978610  | 12 | 124468572 | C | G |  0.0373802 | 0.00464052 |  7.93672e-16 | 0.386000 | 0.0807 | 0.26684 | 44745 |\n",
       "| rs7978610  | 12 | 124468572 | C | G |  0.0373802 | 0.00464052 |  7.93672e-16 | 0.386000 | 0.0807 | 0.26684 | 44745 |\n",
       "\n"
      ],
      "text/plain": [
       "  MARKERNAME CHROMOSOME POSITION  METSIM_EA METSIM_NEA BETA_FE    STD_FE    \n",
       "1 rs12051272 16          82663288 T         G          -0.3575650 0.01147570\n",
       "2 rs6450176   5          53298025 A         G          -0.0333388 0.00470795\n",
       "3 rs731839   19          33899065 A         G           0.0420238 0.00444530\n",
       "4 rs7978610  12         124468572 C         G           0.0373802 0.00464052\n",
       "5 rs7978610  12         124468572 C         G           0.0373802 0.00464052\n",
       "  PVALUE_FE    ADIPO_EAF AGEN_EAF METSIM_EAF TOTAL_N\n",
       "1 3.89427e-213 0.009091  0.2875   0.10675    32655  \n",
       "2  1.42734e-12 0.232800  0.4410   0.23186    46302  \n",
       "3  3.27583e-21 0.327600  0.4583   0.33900    46229  \n",
       "4  7.93672e-16 0.386000  0.0807   0.26684    44745  \n",
       "5  7.93672e-16 0.386000  0.0807   0.26684    44745  "
      ]
     },
     "metadata": {},
     "output_type": "display_data"
    }
   ],
   "source": [
    "merge(TRANSANCESTRY_RESULTS,casual)%>%select(MARKERNAME,CHROMOSOME,POSITION,METSIM_EA,METSIM_NEA,BETA_FE,STD_FE,PVALUE_FE,ADIPO_EAF,AGEN_EAF,METSIM_EAF,TOTAL_N)%>%filter(MARKERNAME %in% lead)"
   ]
  },
  {
   "cell_type": "code",
   "execution_count": 26,
   "id": "c3bd3a42",
   "metadata": {},
   "outputs": [],
   "source": [
    "##EUR"
   ]
  },
  {
   "cell_type": "code",
   "execution_count": 27,
   "id": "b149d0aa",
   "metadata": {},
   "outputs": [],
   "source": [
    "Metasoft_results <-  read.table(\"../../ANALYSIS/META/METASOFT/SECOND_PASS/EUROPEAN_METASOFT_SECONDPASS_RESULTS.TAB\",fill=TRUE,row.names=NULL,header=FALSE)\n",
    "META_TWO <- read.table(gzfile(\"../data/EUR_GWAS.TAB.gz\"),header=T,fill=TRUE,row.names=NULL)\n",
    "colnames(Metasoft_results) <- c(\"MARKERNAME\",\"N\",\"PVALUE_FE\",\"BETA_FE\",\"STD_FE\",\"PVALUE_RE\",\"BETA_RE\",\"STD_RE\",\"PVALUE_RE2\",\"STAT1_RE2\",\"STAT2_RE2\",\"PVALUE_BE\",\"I_SQUARE\",\"Q\",\"PVALUE_Q\",\"TAU_SQUARE\",\n",
    "                                \"PVALUE_ADIPOGEN\",\"PVALUE_METSIM\",\"NA1\",\"NA2\")\n",
    "Metasoft_results <- Metasoft_results%>%filter(MARKERNAME!=\"RSID\")\n",
    "EUR_RESULTS <- merge(META_TWO,Metasoft_results,by=\"MARKERNAME\")\n",
    "EUR_RESULTS <- EUR_RESULTS%>%mutate(TOTAL_N=ceiling(ADIPO_N)+ceiling(METSIM_N))%>%mutate(MAF_AVG=(ADIPO_EAF*2*ADIPO_N+METSIM_EAF*2*METSIM_N)/(2*TOTAL_N))%>%\n",
    "filter(ADIPO_EAF>0.005)%>%filter(METSIM_EAF>0.005)%>%select(-NA1,-N,-NA2)"
   ]
  },
  {
   "cell_type": "code",
   "execution_count": 28,
   "id": "a981dd01",
   "metadata": {},
   "outputs": [],
   "source": [
    "casual <- read.table(\"../../ANALYSIS/CAVIAR/caviar//eur/eur_casual.txt\",fill=TRUE,row.names=NULL,header=FALSE)\n",
    "colnames(casual) <- \"MARKERNAME\"\n",
    "lead <- (read.table(\"../../ANALYSIS/2way_lead.txt\",fill=TRUE,header=TRUE))$MARKERNAME"
   ]
  },
  {
   "cell_type": "code",
   "execution_count": 31,
   "id": "8365004a",
   "metadata": {},
   "outputs": [
    {
     "data": {
      "text/html": [
       "<table class=\"dataframe\">\n",
       "<caption>A data.frame: 7 × 11</caption>\n",
       "<thead>\n",
       "\t<tr><th scope=col>MARKERNAME</th><th scope=col>CHROMOSOME.x</th><th scope=col>POSITION.x</th><th scope=col>METSIM_EA</th><th scope=col>METSIM_NEA</th><th scope=col>BETA_FE</th><th scope=col>STD_FE</th><th scope=col>PVALUE_FE</th><th scope=col>ADIPO_EAF</th><th scope=col>METSIM_EAF</th><th scope=col>TOTAL_N</th></tr>\n",
       "\t<tr><th scope=col>&lt;chr&gt;</th><th scope=col>&lt;int&gt;</th><th scope=col>&lt;int&gt;</th><th scope=col>&lt;chr&gt;</th><th scope=col>&lt;chr&gt;</th><th scope=col>&lt;dbl&gt;</th><th scope=col>&lt;dbl&gt;</th><th scope=col>&lt;dbl&gt;</th><th scope=col>&lt;dbl&gt;</th><th scope=col>&lt;dbl&gt;</th><th scope=col>&lt;dbl&gt;</th></tr>\n",
       "</thead>\n",
       "<tbody>\n",
       "\t<tr><td>rs12051272</td><td>16</td><td> 82663288</td><td>T</td><td>G</td><td>-0.3310240</td><td>0.01453430</td><td>8.03985e-115</td><td>0.009091</td><td>0.10675</td><td>24829</td></tr>\n",
       "\t<tr><td>rs16861209</td><td> 3</td><td>186563114</td><td>A</td><td>C</td><td> 0.2036330</td><td>0.00976217</td><td> 1.25123e-96</td><td>0.010420</td><td>0.02872</td><td>38435</td></tr>\n",
       "\t<tr><td>rs17366568</td><td> 3</td><td>186570453</td><td>A</td><td>G</td><td>-0.1678120</td><td>0.00806777</td><td> 4.30148e-96</td><td>0.091670</td><td>0.13734</td><td>34101</td></tr>\n",
       "\t<tr><td>rs2710322 </td><td> 3</td><td> 52817593</td><td>C</td><td>T</td><td> 0.0293419</td><td>0.00653818</td><td> 7.19707e-06</td><td>0.108300</td><td>0.09467</td><td>38580</td></tr>\n",
       "\t<tr><td>rs2925979 </td><td>16</td><td> 81534790</td><td>C</td><td>T</td><td> 0.0472088</td><td>0.00467578</td><td> 5.72732e-24</td><td>0.283300</td><td>0.31253</td><td>38583</td></tr>\n",
       "\t<tr><td>rs6802671 </td><td> 3</td><td> 52579288</td><td>T</td><td>A</td><td>-0.0245921</td><td>0.00728366</td><td> 7.34568e-04</td><td>0.110200</td><td>0.09378</td><td>35826</td></tr>\n",
       "\t<tr><td>rs731839  </td><td>19</td><td> 33899065</td><td>A</td><td>G</td><td> 0.0397506</td><td>0.00462749</td><td> 8.68895e-18</td><td>0.327600</td><td>0.33900</td><td>38402</td></tr>\n",
       "</tbody>\n",
       "</table>\n"
      ],
      "text/latex": [
       "A data.frame: 7 × 11\n",
       "\\begin{tabular}{lllllllllll}\n",
       " MARKERNAME & CHROMOSOME.x & POSITION.x & METSIM\\_EA & METSIM\\_NEA & BETA\\_FE & STD\\_FE & PVALUE\\_FE & ADIPO\\_EAF & METSIM\\_EAF & TOTAL\\_N\\\\\n",
       " <chr> & <int> & <int> & <chr> & <chr> & <dbl> & <dbl> & <dbl> & <dbl> & <dbl> & <dbl>\\\\\n",
       "\\hline\n",
       "\t rs12051272 & 16 &  82663288 & T & G & -0.3310240 & 0.01453430 & 8.03985e-115 & 0.009091 & 0.10675 & 24829\\\\\n",
       "\t rs16861209 &  3 & 186563114 & A & C &  0.2036330 & 0.00976217 &  1.25123e-96 & 0.010420 & 0.02872 & 38435\\\\\n",
       "\t rs17366568 &  3 & 186570453 & A & G & -0.1678120 & 0.00806777 &  4.30148e-96 & 0.091670 & 0.13734 & 34101\\\\\n",
       "\t rs2710322  &  3 &  52817593 & C & T &  0.0293419 & 0.00653818 &  7.19707e-06 & 0.108300 & 0.09467 & 38580\\\\\n",
       "\t rs2925979  & 16 &  81534790 & C & T &  0.0472088 & 0.00467578 &  5.72732e-24 & 0.283300 & 0.31253 & 38583\\\\\n",
       "\t rs6802671  &  3 &  52579288 & T & A & -0.0245921 & 0.00728366 &  7.34568e-04 & 0.110200 & 0.09378 & 35826\\\\\n",
       "\t rs731839   & 19 &  33899065 & A & G &  0.0397506 & 0.00462749 &  8.68895e-18 & 0.327600 & 0.33900 & 38402\\\\\n",
       "\\end{tabular}\n"
      ],
      "text/markdown": [
       "\n",
       "A data.frame: 7 × 11\n",
       "\n",
       "| MARKERNAME &lt;chr&gt; | CHROMOSOME.x &lt;int&gt; | POSITION.x &lt;int&gt; | METSIM_EA &lt;chr&gt; | METSIM_NEA &lt;chr&gt; | BETA_FE &lt;dbl&gt; | STD_FE &lt;dbl&gt; | PVALUE_FE &lt;dbl&gt; | ADIPO_EAF &lt;dbl&gt; | METSIM_EAF &lt;dbl&gt; | TOTAL_N &lt;dbl&gt; |\n",
       "|---|---|---|---|---|---|---|---|---|---|---|\n",
       "| rs12051272 | 16 |  82663288 | T | G | -0.3310240 | 0.01453430 | 8.03985e-115 | 0.009091 | 0.10675 | 24829 |\n",
       "| rs16861209 |  3 | 186563114 | A | C |  0.2036330 | 0.00976217 |  1.25123e-96 | 0.010420 | 0.02872 | 38435 |\n",
       "| rs17366568 |  3 | 186570453 | A | G | -0.1678120 | 0.00806777 |  4.30148e-96 | 0.091670 | 0.13734 | 34101 |\n",
       "| rs2710322  |  3 |  52817593 | C | T |  0.0293419 | 0.00653818 |  7.19707e-06 | 0.108300 | 0.09467 | 38580 |\n",
       "| rs2925979  | 16 |  81534790 | C | T |  0.0472088 | 0.00467578 |  5.72732e-24 | 0.283300 | 0.31253 | 38583 |\n",
       "| rs6802671  |  3 |  52579288 | T | A | -0.0245921 | 0.00728366 |  7.34568e-04 | 0.110200 | 0.09378 | 35826 |\n",
       "| rs731839   | 19 |  33899065 | A | G |  0.0397506 | 0.00462749 |  8.68895e-18 | 0.327600 | 0.33900 | 38402 |\n",
       "\n"
      ],
      "text/plain": [
       "  MARKERNAME CHROMOSOME.x POSITION.x METSIM_EA METSIM_NEA BETA_FE    STD_FE    \n",
       "1 rs12051272 16            82663288  T         G          -0.3310240 0.01453430\n",
       "2 rs16861209  3           186563114  A         C           0.2036330 0.00976217\n",
       "3 rs17366568  3           186570453  A         G          -0.1678120 0.00806777\n",
       "4 rs2710322   3            52817593  C         T           0.0293419 0.00653818\n",
       "5 rs2925979  16            81534790  C         T           0.0472088 0.00467578\n",
       "6 rs6802671   3            52579288  T         A          -0.0245921 0.00728366\n",
       "7 rs731839   19            33899065  A         G           0.0397506 0.00462749\n",
       "  PVALUE_FE    ADIPO_EAF METSIM_EAF TOTAL_N\n",
       "1 8.03985e-115 0.009091  0.10675    24829  \n",
       "2  1.25123e-96 0.010420  0.02872    38435  \n",
       "3  4.30148e-96 0.091670  0.13734    34101  \n",
       "4  7.19707e-06 0.108300  0.09467    38580  \n",
       "5  5.72732e-24 0.283300  0.31253    38583  \n",
       "6  7.34568e-04 0.110200  0.09378    35826  \n",
       "7  8.68895e-18 0.327600  0.33900    38402  "
      ]
     },
     "metadata": {},
     "output_type": "display_data"
    }
   ],
   "source": [
    "merge(EUR_RESULTS,casual)%>%select(MARKERNAME,CHROMOSOME.x,POSITION.x,METSIM_EA,METSIM_NEA,BETA_FE,STD_FE,PVALUE_FE,ADIPO_EAF,METSIM_EAF,TOTAL_N)%>%distinct()"
   ]
  },
  {
   "cell_type": "code",
   "execution_count": 32,
   "id": "fe54c3b7",
   "metadata": {},
   "outputs": [
    {
     "data": {
      "text/html": [
       "<table class=\"dataframe\">\n",
       "<caption>A data.frame: 7 × 11</caption>\n",
       "<thead>\n",
       "\t<tr><th scope=col>MARKERNAME</th><th scope=col>CHROMOSOME.x</th><th scope=col>POSITION.x</th><th scope=col>METSIM_EA</th><th scope=col>METSIM_NEA</th><th scope=col>BETA_FE</th><th scope=col>STD_FE</th><th scope=col>PVALUE_FE</th><th scope=col>ADIPO_EAF</th><th scope=col>METSIM_EAF</th><th scope=col>TOTAL_N</th></tr>\n",
       "\t<tr><th scope=col>&lt;chr&gt;</th><th scope=col>&lt;int&gt;</th><th scope=col>&lt;int&gt;</th><th scope=col>&lt;chr&gt;</th><th scope=col>&lt;chr&gt;</th><th scope=col>&lt;dbl&gt;</th><th scope=col>&lt;dbl&gt;</th><th scope=col>&lt;dbl&gt;</th><th scope=col>&lt;dbl&gt;</th><th scope=col>&lt;dbl&gt;</th><th scope=col>&lt;dbl&gt;</th></tr>\n",
       "</thead>\n",
       "<tbody>\n",
       "\t<tr><td>rs12051272</td><td>16</td><td> 82663288</td><td>T</td><td>G</td><td>-0.3310240</td><td>0.01453430</td><td>8.03985e-115</td><td>0.009091</td><td>0.10675</td><td>24829</td></tr>\n",
       "\t<tr><td>rs12051272</td><td>16</td><td> 82663288</td><td>T</td><td>G</td><td>-0.3310240</td><td>0.01453430</td><td>8.03985e-115</td><td>0.009091</td><td>0.10675</td><td>24829</td></tr>\n",
       "\t<tr><td>rs16861209</td><td> 3</td><td>186563114</td><td>A</td><td>C</td><td> 0.2036330</td><td>0.00976217</td><td> 1.25123e-96</td><td>0.010420</td><td>0.02872</td><td>38435</td></tr>\n",
       "\t<tr><td>rs17366568</td><td> 3</td><td>186570453</td><td>A</td><td>G</td><td>-0.1678120</td><td>0.00806777</td><td> 4.30148e-96</td><td>0.091670</td><td>0.13734</td><td>34101</td></tr>\n",
       "\t<tr><td>rs2925979 </td><td>16</td><td> 81534790</td><td>C</td><td>T</td><td> 0.0472088</td><td>0.00467578</td><td> 5.72732e-24</td><td>0.283300</td><td>0.31253</td><td>38583</td></tr>\n",
       "\t<tr><td>rs2925979 </td><td>16</td><td> 81534790</td><td>C</td><td>T</td><td> 0.0472088</td><td>0.00467578</td><td> 5.72732e-24</td><td>0.283300</td><td>0.31253</td><td>38583</td></tr>\n",
       "\t<tr><td>rs731839  </td><td>19</td><td> 33899065</td><td>A</td><td>G</td><td> 0.0397506</td><td>0.00462749</td><td> 8.68895e-18</td><td>0.327600</td><td>0.33900</td><td>38402</td></tr>\n",
       "</tbody>\n",
       "</table>\n"
      ],
      "text/latex": [
       "A data.frame: 7 × 11\n",
       "\\begin{tabular}{lllllllllll}\n",
       " MARKERNAME & CHROMOSOME.x & POSITION.x & METSIM\\_EA & METSIM\\_NEA & BETA\\_FE & STD\\_FE & PVALUE\\_FE & ADIPO\\_EAF & METSIM\\_EAF & TOTAL\\_N\\\\\n",
       " <chr> & <int> & <int> & <chr> & <chr> & <dbl> & <dbl> & <dbl> & <dbl> & <dbl> & <dbl>\\\\\n",
       "\\hline\n",
       "\t rs12051272 & 16 &  82663288 & T & G & -0.3310240 & 0.01453430 & 8.03985e-115 & 0.009091 & 0.10675 & 24829\\\\\n",
       "\t rs12051272 & 16 &  82663288 & T & G & -0.3310240 & 0.01453430 & 8.03985e-115 & 0.009091 & 0.10675 & 24829\\\\\n",
       "\t rs16861209 &  3 & 186563114 & A & C &  0.2036330 & 0.00976217 &  1.25123e-96 & 0.010420 & 0.02872 & 38435\\\\\n",
       "\t rs17366568 &  3 & 186570453 & A & G & -0.1678120 & 0.00806777 &  4.30148e-96 & 0.091670 & 0.13734 & 34101\\\\\n",
       "\t rs2925979  & 16 &  81534790 & C & T &  0.0472088 & 0.00467578 &  5.72732e-24 & 0.283300 & 0.31253 & 38583\\\\\n",
       "\t rs2925979  & 16 &  81534790 & C & T &  0.0472088 & 0.00467578 &  5.72732e-24 & 0.283300 & 0.31253 & 38583\\\\\n",
       "\t rs731839   & 19 &  33899065 & A & G &  0.0397506 & 0.00462749 &  8.68895e-18 & 0.327600 & 0.33900 & 38402\\\\\n",
       "\\end{tabular}\n"
      ],
      "text/markdown": [
       "\n",
       "A data.frame: 7 × 11\n",
       "\n",
       "| MARKERNAME &lt;chr&gt; | CHROMOSOME.x &lt;int&gt; | POSITION.x &lt;int&gt; | METSIM_EA &lt;chr&gt; | METSIM_NEA &lt;chr&gt; | BETA_FE &lt;dbl&gt; | STD_FE &lt;dbl&gt; | PVALUE_FE &lt;dbl&gt; | ADIPO_EAF &lt;dbl&gt; | METSIM_EAF &lt;dbl&gt; | TOTAL_N &lt;dbl&gt; |\n",
       "|---|---|---|---|---|---|---|---|---|---|---|\n",
       "| rs12051272 | 16 |  82663288 | T | G | -0.3310240 | 0.01453430 | 8.03985e-115 | 0.009091 | 0.10675 | 24829 |\n",
       "| rs12051272 | 16 |  82663288 | T | G | -0.3310240 | 0.01453430 | 8.03985e-115 | 0.009091 | 0.10675 | 24829 |\n",
       "| rs16861209 |  3 | 186563114 | A | C |  0.2036330 | 0.00976217 |  1.25123e-96 | 0.010420 | 0.02872 | 38435 |\n",
       "| rs17366568 |  3 | 186570453 | A | G | -0.1678120 | 0.00806777 |  4.30148e-96 | 0.091670 | 0.13734 | 34101 |\n",
       "| rs2925979  | 16 |  81534790 | C | T |  0.0472088 | 0.00467578 |  5.72732e-24 | 0.283300 | 0.31253 | 38583 |\n",
       "| rs2925979  | 16 |  81534790 | C | T |  0.0472088 | 0.00467578 |  5.72732e-24 | 0.283300 | 0.31253 | 38583 |\n",
       "| rs731839   | 19 |  33899065 | A | G |  0.0397506 | 0.00462749 |  8.68895e-18 | 0.327600 | 0.33900 | 38402 |\n",
       "\n"
      ],
      "text/plain": [
       "  MARKERNAME CHROMOSOME.x POSITION.x METSIM_EA METSIM_NEA BETA_FE    STD_FE    \n",
       "1 rs12051272 16            82663288  T         G          -0.3310240 0.01453430\n",
       "2 rs12051272 16            82663288  T         G          -0.3310240 0.01453430\n",
       "3 rs16861209  3           186563114  A         C           0.2036330 0.00976217\n",
       "4 rs17366568  3           186570453  A         G          -0.1678120 0.00806777\n",
       "5 rs2925979  16            81534790  C         T           0.0472088 0.00467578\n",
       "6 rs2925979  16            81534790  C         T           0.0472088 0.00467578\n",
       "7 rs731839   19            33899065  A         G           0.0397506 0.00462749\n",
       "  PVALUE_FE    ADIPO_EAF METSIM_EAF TOTAL_N\n",
       "1 8.03985e-115 0.009091  0.10675    24829  \n",
       "2 8.03985e-115 0.009091  0.10675    24829  \n",
       "3  1.25123e-96 0.010420  0.02872    38435  \n",
       "4  4.30148e-96 0.091670  0.13734    34101  \n",
       "5  5.72732e-24 0.283300  0.31253    38583  \n",
       "6  5.72732e-24 0.283300  0.31253    38583  \n",
       "7  8.68895e-18 0.327600  0.33900    38402  "
      ]
     },
     "metadata": {},
     "output_type": "display_data"
    }
   ],
   "source": [
    "merge(EUR_RESULTS,casual)%>%select(MARKERNAME,CHROMOSOME.x,POSITION.x,METSIM_EA,METSIM_NEA,BETA_FE,STD_FE,PVALUE_FE,ADIPO_EAF,METSIM_EAF,TOTAL_N)%>%filter(MARKERNAME %in% lead)"
   ]
  },
  {
   "cell_type": "code",
   "execution_count": null,
   "id": "43e46890",
   "metadata": {},
   "outputs": [],
   "source": []
  }
 ],
 "metadata": {
  "kernelspec": {
   "display_name": "R",
   "language": "R",
   "name": "ir"
  },
  "language_info": {
   "codemirror_mode": "r",
   "file_extension": ".r",
   "mimetype": "text/x-r-source",
   "name": "R",
   "pygments_lexer": "r",
   "version": "4.1.2"
  }
 },
 "nbformat": 4,
 "nbformat_minor": 5
}
