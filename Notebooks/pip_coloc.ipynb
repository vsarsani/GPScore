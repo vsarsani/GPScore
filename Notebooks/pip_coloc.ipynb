{
 "cells": [
  {
   "cell_type": "code",
   "execution_count": 1,
   "id": "fa04fa67",
   "metadata": {},
   "outputs": [],
   "source": [
    "suppressMessages(suppressWarnings(library(tidyverse)))"
   ]
  },
  {
   "cell_type": "code",
   "execution_count": 2,
   "id": "5dc10f54",
   "metadata": {},
   "outputs": [],
   "source": [
    "###eQTL"
   ]
  },
  {
   "cell_type": "code",
   "execution_count": 3,
   "id": "e33b32db",
   "metadata": {},
   "outputs": [],
   "source": [
    "df_z <- list.files(\"../../ANALYSIS/SUSIE/\",pattern='*.txt',full.names = TRUE)"
   ]
  },
  {
   "cell_type": "code",
   "execution_count": null,
   "id": "09c0c92b",
   "metadata": {},
   "outputs": [],
   "source": [
    "##"
   ]
  },
  {
   "cell_type": "code",
   "execution_count": 4,
   "id": "b56eec77",
   "metadata": {},
   "outputs": [],
   "source": [
    "#\n",
    "\n",
    "#eqtl_results <- data.frame()\n",
    "\n",
    "#for (i in 1:length(df_z))\n",
    "#{\n",
    "  #  name <-  tail(str_split(df_z,\"/|.txt\")[[i]],n=2)[1]\n",
    "#df  <- read.table(df_z[i],header=TRUE,fill = TRUE)%>%select(chromosome,position,molecular_trait_id,pip)%>%\n",
    "   # mutate(start=position,stop=position)%>%select(chromosome,start,stop,molecular_trait_id,pip)%>%mutate(Tissue=name)\n",
    "    \n",
    "#write.table(df,paste0(\"../../ANALYSIS/SUSIE/\",name,\".bed\",sep=\"\"),sep = \" \",row.names=FALSE,col.names = FALSE,quote=FALSE)\n",
    "#}"
   ]
  },
  {
   "cell_type": "code",
   "execution_count": null,
   "id": "3647e852",
   "metadata": {},
   "outputs": [],
   "source": [
    "##"
   ]
  }
 ],
 "metadata": {
  "kernelspec": {
   "display_name": "R",
   "language": "R",
   "name": "ir"
  },
  "language_info": {
   "codemirror_mode": "r",
   "file_extension": ".r",
   "mimetype": "text/x-r-source",
   "name": "R",
   "pygments_lexer": "r",
   "version": "4.1.2"
  }
 },
 "nbformat": 4,
 "nbformat_minor": 5
}
