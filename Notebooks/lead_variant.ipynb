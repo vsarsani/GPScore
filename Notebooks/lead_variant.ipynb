{
 "cells": [
  {
   "cell_type": "code",
   "execution_count": 1,
   "id": "d57d9da8",
   "metadata": {},
   "outputs": [],
   "source": [
    "suppressMessages(suppressWarnings(library(tidyverse)))"
   ]
  },
  {
   "cell_type": "code",
   "execution_count": 2,
   "id": "ba66af41",
   "metadata": {},
   "outputs": [],
   "source": [
    "## Read the Genome wide significant trans ancestry"
   ]
  },
  {
   "cell_type": "code",
   "execution_count": 3,
   "id": "999ea139",
   "metadata": {},
   "outputs": [],
   "source": [
    "trans_gs <- read.table(\"../../ANALYSIS/META/TRANSANCESTRY_GS.TAB\",header=T,fill=TRUE,row.names=NULL)"
   ]
  },
  {
   "cell_type": "code",
   "execution_count": 13,
   "id": "cf5e6572",
   "metadata": {},
   "outputs": [],
   "source": [
    "lead <- c('rs333947','rs596359','rs10787516','rs11023332','rs2657888','rs601339','rs222852','rs2061155','rs1515108',\n",
    "'rs1108842','rs17366568','rs13131633','rs6450176','rs998584','rs2980879','rs10886863','rs11045172','rs10778506','rs7978610','rs2925979','rs12051272','rs731839')"
   ]
  },
  {
   "cell_type": "code",
   "execution_count": 12,
   "id": "9fdc7cef",
   "metadata": {},
   "outputs": [
    {
     "data": {
      "text/html": [
       "<table class=\"dataframe\">\n",
       "<caption>A data.frame: 6 × 43</caption>\n",
       "<thead>\n",
       "\t<tr><th></th><th scope=col>MARKERNAME</th><th scope=col>CHROMOSOME</th><th scope=col>POSITION</th><th scope=col>PVALUE_FE</th><th scope=col>ADIPO_EA</th><th scope=col>ADIPO_NEA</th><th scope=col>ADIPO_EAF</th><th scope=col>ADIPO_N</th><th scope=col>ADIPO_BETA</th><th scope=col>ADIPO_SE</th><th scope=col>...</th><th scope=col>PVALUE_BE</th><th scope=col>I_SQUARE</th><th scope=col>Q</th><th scope=col>PVALUE_Q</th><th scope=col>TAU_SQUARE</th><th scope=col>PVALUE_ADIPOGEN</th><th scope=col>PVALUE_AGEN</th><th scope=col>PVALUE_METSIM</th><th scope=col>TOTAL_N</th><th scope=col>MAF_AVG</th></tr>\n",
       "\t<tr><th></th><th scope=col>&lt;chr&gt;</th><th scope=col>&lt;int&gt;</th><th scope=col>&lt;int&gt;</th><th scope=col>&lt;dbl&gt;</th><th scope=col>&lt;chr&gt;</th><th scope=col>&lt;chr&gt;</th><th scope=col>&lt;dbl&gt;</th><th scope=col>&lt;int&gt;</th><th scope=col>&lt;dbl&gt;</th><th scope=col>&lt;dbl&gt;</th><th scope=col>...</th><th scope=col>&lt;lgl&gt;</th><th scope=col>&lt;dbl&gt;</th><th scope=col>&lt;dbl&gt;</th><th scope=col>&lt;dbl&gt;</th><th scope=col>&lt;dbl&gt;</th><th scope=col>&lt;dbl&gt;</th><th scope=col>&lt;dbl&gt;</th><th scope=col>&lt;dbl&gt;</th><th scope=col>&lt;int&gt;</th><th scope=col>&lt;dbl&gt;</th></tr>\n",
       "</thead>\n",
       "<tbody>\n",
       "\t<tr><th scope=row>1</th><td>rs333947  </td><td>1</td><td>110470764</td><td>1.22e-08</td><td>A</td><td>G</td><td>0.1500</td><td>29278</td><td>-0.027511</td><td>0.006127</td><td>...</td><td>NA</td><td>42.4997</td><td>3.47825</td><td>0.1756740</td><td>0.000137796</td><td>7.12e-06</td><td>0.0309608</td><td>0.000853940</td><td>46340</td><td>0.1779571</td></tr>\n",
       "\t<tr><th scope=row>2</th><td>rs11118308</td><td>1</td><td>219633869</td><td>2.13e-08</td><td>G</td><td>A</td><td>0.4569</td><td>27597</td><td>-0.020661</td><td>0.004703</td><td>...</td><td>NA</td><td>73.4647</td><td>7.53713</td><td>0.0230852</td><td>0.000388145</td><td>1.12e-05</td><td>0.1878140</td><td>0.000023600</td><td>44660</td><td>0.4985694</td></tr>\n",
       "\t<tr><th scope=row>3</th><td>rs12025220</td><td>1</td><td>219634380</td><td>3.11e-08</td><td>A</td><td>G</td><td>0.3917</td><td>27582</td><td>-0.021215</td><td>0.004776</td><td>...</td><td>NA</td><td>64.3262</td><td>5.60636</td><td>0.0606170</td><td>0.000242266</td><td>8.91e-06</td><td>0.1824220</td><td>0.000123725</td><td>44638</td><td>0.3932259</td></tr>\n",
       "\t<tr><th scope=row>4</th><td>rs6541229 </td><td>1</td><td>219646807</td><td>1.46e-08</td><td>C</td><td>G</td><td>0.5000</td><td>29299</td><td>-0.019702</td><td>0.004343</td><td>...</td><td>NA</td><td>74.1069</td><td>7.72406</td><td>0.0210253</td><td>0.000391758</td><td>5.72e-06</td><td>0.1912980</td><td>0.000028100</td><td>46361</td><td>0.4670778</td></tr>\n",
       "\t<tr><th scope=row>5</th><td>rs1340097 </td><td>1</td><td>219650561</td><td>2.66e-08</td><td>T</td><td>C</td><td>0.4576</td><td>27706</td><td>-0.020019</td><td>0.004577</td><td>...</td><td>NA</td><td>74.6178</td><td>7.87953</td><td>0.0194528</td><td>0.000413651</td><td>1.22e-05</td><td>0.1973440</td><td>0.000021700</td><td>44769</td><td>0.4339848</td></tr>\n",
       "\t<tr><th scope=row>6</th><td>rs2605109 </td><td>1</td><td>219653354</td><td>5.00e-08</td><td>G</td><td>C</td><td>0.3136</td><td>29301</td><td>-0.020663</td><td>0.004710</td><td>...</td><td>NA</td><td>78.0523</td><td>9.11258</td><td>0.0105009</td><td>0.000597660</td><td>1.15e-05</td><td>0.4708770</td><td>0.000012600</td><td>46364</td><td>0.2972537</td></tr>\n",
       "</tbody>\n",
       "</table>\n"
      ],
      "text/latex": [
       "A data.frame: 6 × 43\n",
       "\\begin{tabular}{r|lllllllllllllllllllll}\n",
       "  & MARKERNAME & CHROMOSOME & POSITION & PVALUE\\_FE & ADIPO\\_EA & ADIPO\\_NEA & ADIPO\\_EAF & ADIPO\\_N & ADIPO\\_BETA & ADIPO\\_SE & ... & PVALUE\\_BE & I\\_SQUARE & Q & PVALUE\\_Q & TAU\\_SQUARE & PVALUE\\_ADIPOGEN & PVALUE\\_AGEN & PVALUE\\_METSIM & TOTAL\\_N & MAF\\_AVG\\\\\n",
       "  & <chr> & <int> & <int> & <dbl> & <chr> & <chr> & <dbl> & <int> & <dbl> & <dbl> & ... & <lgl> & <dbl> & <dbl> & <dbl> & <dbl> & <dbl> & <dbl> & <dbl> & <int> & <dbl>\\\\\n",
       "\\hline\n",
       "\t1 & rs333947   & 1 & 110470764 & 1.22e-08 & A & G & 0.1500 & 29278 & -0.027511 & 0.006127 & ... & NA & 42.4997 & 3.47825 & 0.1756740 & 0.000137796 & 7.12e-06 & 0.0309608 & 0.000853940 & 46340 & 0.1779571\\\\\n",
       "\t2 & rs11118308 & 1 & 219633869 & 2.13e-08 & G & A & 0.4569 & 27597 & -0.020661 & 0.004703 & ... & NA & 73.4647 & 7.53713 & 0.0230852 & 0.000388145 & 1.12e-05 & 0.1878140 & 0.000023600 & 44660 & 0.4985694\\\\\n",
       "\t3 & rs12025220 & 1 & 219634380 & 3.11e-08 & A & G & 0.3917 & 27582 & -0.021215 & 0.004776 & ... & NA & 64.3262 & 5.60636 & 0.0606170 & 0.000242266 & 8.91e-06 & 0.1824220 & 0.000123725 & 44638 & 0.3932259\\\\\n",
       "\t4 & rs6541229  & 1 & 219646807 & 1.46e-08 & C & G & 0.5000 & 29299 & -0.019702 & 0.004343 & ... & NA & 74.1069 & 7.72406 & 0.0210253 & 0.000391758 & 5.72e-06 & 0.1912980 & 0.000028100 & 46361 & 0.4670778\\\\\n",
       "\t5 & rs1340097  & 1 & 219650561 & 2.66e-08 & T & C & 0.4576 & 27706 & -0.020019 & 0.004577 & ... & NA & 74.6178 & 7.87953 & 0.0194528 & 0.000413651 & 1.22e-05 & 0.1973440 & 0.000021700 & 44769 & 0.4339848\\\\\n",
       "\t6 & rs2605109  & 1 & 219653354 & 5.00e-08 & G & C & 0.3136 & 29301 & -0.020663 & 0.004710 & ... & NA & 78.0523 & 9.11258 & 0.0105009 & 0.000597660 & 1.15e-05 & 0.4708770 & 0.000012600 & 46364 & 0.2972537\\\\\n",
       "\\end{tabular}\n"
      ],
      "text/markdown": [
       "\n",
       "A data.frame: 6 × 43\n",
       "\n",
       "| <!--/--> | MARKERNAME &lt;chr&gt; | CHROMOSOME &lt;int&gt; | POSITION &lt;int&gt; | PVALUE_FE &lt;dbl&gt; | ADIPO_EA &lt;chr&gt; | ADIPO_NEA &lt;chr&gt; | ADIPO_EAF &lt;dbl&gt; | ADIPO_N &lt;int&gt; | ADIPO_BETA &lt;dbl&gt; | ADIPO_SE &lt;dbl&gt; | ... ... | PVALUE_BE &lt;lgl&gt; | I_SQUARE &lt;dbl&gt; | Q &lt;dbl&gt; | PVALUE_Q &lt;dbl&gt; | TAU_SQUARE &lt;dbl&gt; | PVALUE_ADIPOGEN &lt;dbl&gt; | PVALUE_AGEN &lt;dbl&gt; | PVALUE_METSIM &lt;dbl&gt; | TOTAL_N &lt;int&gt; | MAF_AVG &lt;dbl&gt; |\n",
       "|---|---|---|---|---|---|---|---|---|---|---|---|---|---|---|---|---|---|---|---|---|---|\n",
       "| 1 | rs333947   | 1 | 110470764 | 1.22e-08 | A | G | 0.1500 | 29278 | -0.027511 | 0.006127 | ... | NA | 42.4997 | 3.47825 | 0.1756740 | 0.000137796 | 7.12e-06 | 0.0309608 | 0.000853940 | 46340 | 0.1779571 |\n",
       "| 2 | rs11118308 | 1 | 219633869 | 2.13e-08 | G | A | 0.4569 | 27597 | -0.020661 | 0.004703 | ... | NA | 73.4647 | 7.53713 | 0.0230852 | 0.000388145 | 1.12e-05 | 0.1878140 | 0.000023600 | 44660 | 0.4985694 |\n",
       "| 3 | rs12025220 | 1 | 219634380 | 3.11e-08 | A | G | 0.3917 | 27582 | -0.021215 | 0.004776 | ... | NA | 64.3262 | 5.60636 | 0.0606170 | 0.000242266 | 8.91e-06 | 0.1824220 | 0.000123725 | 44638 | 0.3932259 |\n",
       "| 4 | rs6541229  | 1 | 219646807 | 1.46e-08 | C | G | 0.5000 | 29299 | -0.019702 | 0.004343 | ... | NA | 74.1069 | 7.72406 | 0.0210253 | 0.000391758 | 5.72e-06 | 0.1912980 | 0.000028100 | 46361 | 0.4670778 |\n",
       "| 5 | rs1340097  | 1 | 219650561 | 2.66e-08 | T | C | 0.4576 | 27706 | -0.020019 | 0.004577 | ... | NA | 74.6178 | 7.87953 | 0.0194528 | 0.000413651 | 1.22e-05 | 0.1973440 | 0.000021700 | 44769 | 0.4339848 |\n",
       "| 6 | rs2605109  | 1 | 219653354 | 5.00e-08 | G | C | 0.3136 | 29301 | -0.020663 | 0.004710 | ... | NA | 78.0523 | 9.11258 | 0.0105009 | 0.000597660 | 1.15e-05 | 0.4708770 | 0.000012600 | 46364 | 0.2972537 |\n",
       "\n"
      ],
      "text/plain": [
       "  MARKERNAME CHROMOSOME POSITION  PVALUE_FE ADIPO_EA ADIPO_NEA ADIPO_EAF\n",
       "1 rs333947   1          110470764 1.22e-08  A        G         0.1500   \n",
       "2 rs11118308 1          219633869 2.13e-08  G        A         0.4569   \n",
       "3 rs12025220 1          219634380 3.11e-08  A        G         0.3917   \n",
       "4 rs6541229  1          219646807 1.46e-08  C        G         0.5000   \n",
       "5 rs1340097  1          219650561 2.66e-08  T        C         0.4576   \n",
       "6 rs2605109  1          219653354 5.00e-08  G        C         0.3136   \n",
       "  ADIPO_N ADIPO_BETA ADIPO_SE ... PVALUE_BE I_SQUARE Q       PVALUE_Q \n",
       "1 29278   -0.027511  0.006127 ... NA        42.4997  3.47825 0.1756740\n",
       "2 27597   -0.020661  0.004703 ... NA        73.4647  7.53713 0.0230852\n",
       "3 27582   -0.021215  0.004776 ... NA        64.3262  5.60636 0.0606170\n",
       "4 29299   -0.019702  0.004343 ... NA        74.1069  7.72406 0.0210253\n",
       "5 27706   -0.020019  0.004577 ... NA        74.6178  7.87953 0.0194528\n",
       "6 29301   -0.020663  0.004710 ... NA        78.0523  9.11258 0.0105009\n",
       "  TAU_SQUARE  PVALUE_ADIPOGEN PVALUE_AGEN PVALUE_METSIM TOTAL_N MAF_AVG  \n",
       "1 0.000137796 7.12e-06        0.0309608   0.000853940   46340   0.1779571\n",
       "2 0.000388145 1.12e-05        0.1878140   0.000023600   44660   0.4985694\n",
       "3 0.000242266 8.91e-06        0.1824220   0.000123725   44638   0.3932259\n",
       "4 0.000391758 5.72e-06        0.1912980   0.000028100   46361   0.4670778\n",
       "5 0.000413651 1.22e-05        0.1973440   0.000021700   44769   0.4339848\n",
       "6 0.000597660 1.15e-05        0.4708770   0.000012600   46364   0.2972537"
      ]
     },
     "metadata": {},
     "output_type": "display_data"
    }
   ],
   "source": [
    "head(trans_gs)"
   ]
  },
  {
   "cell_type": "code",
   "execution_count": 14,
   "id": "001ff492",
   "metadata": {},
   "outputs": [],
   "source": [
    "df1<- trans_gs%>%filter(MARKERNAME %in% lead)%>%select(ADIPO_BETA,AGEN_BETA,METSIM_BETA)"
   ]
  },
  {
   "cell_type": "code",
   "execution_count": 15,
   "id": "2b206763",
   "metadata": {},
   "outputs": [
    {
     "data": {
      "text/plain": [
       "\n",
       "TRUE \n",
       "  22 "
      ]
     },
     "metadata": {},
     "output_type": "display_data"
    }
   ],
   "source": [
    "table(abs(rowSums(sign(df1))) == 3)"
   ]
  },
  {
   "cell_type": "code",
   "execution_count": 4,
   "id": "c8c496cc",
   "metadata": {},
   "outputs": [],
   "source": [
    "## Identify the Lead Variant"
   ]
  },
  {
   "cell_type": "code",
   "execution_count": 5,
   "id": "b3fddbf4",
   "metadata": {},
   "outputs": [],
   "source": [
    "chr_list <- unique(trans_gs$CHROMOSOME)"
   ]
  },
  {
   "cell_type": "code",
   "execution_count": 6,
   "id": "e2fd0c2c",
   "metadata": {},
   "outputs": [],
   "source": [
    "lead_variants <- data.frame()\n",
    "for (g in 1:length(chr_list)){\n",
    "    \n",
    "pvalue_list <- (trans_gs%>%filter(CHROMOSOME==chr_list[g])%>%mutate(start=POSITION-500000,stop=POSITION+500000)%>%arrange(start)%>% group_by(g = cumsum(cummax(lag(stop, default = first(stop))) < start)) %>% \n",
    " summarise(start = first(start), stop = max(stop),pvalue=min(PVALUE_FE)))$pvalue\n",
    " df <- trans_gs %>%filter(CHROMOSOME==chr_list[g])%>%filter(PVALUE_FE %in% pvalue_list)\n",
    "   lead_variants  <- rbind(lead_variants,df)\n",
    "}"
   ]
  },
  {
   "cell_type": "code",
   "execution_count": 7,
   "id": "eadd6cbc",
   "metadata": {},
   "outputs": [],
   "source": [
    "write.table(lead_variants,\"../../ANALYSIS/TRANSANCESTRY_LEAD.TAB\",row.names=FALSE,quote=FALSE,sep=\"\\t\")"
   ]
  },
  {
   "cell_type": "code",
   "execution_count": 8,
   "id": "1c4f6ca1",
   "metadata": {},
   "outputs": [],
   "source": [
    "## Read the European significant"
   ]
  },
  {
   "cell_type": "code",
   "execution_count": 24,
   "id": "fbd089a2",
   "metadata": {},
   "outputs": [],
   "source": [
    "eur_gs <- read.table(\"../../ANALYSIS/META/EUR_RESULTS_GS.TAB\",header=T,fill=TRUE,row.names=NULL)"
   ]
  },
  {
   "cell_type": "code",
   "execution_count": 25,
   "id": "88185dff",
   "metadata": {},
   "outputs": [],
   "source": [
    "lead <- c('rs7617025','rs10787516','rs11023332','rs2657888','rs601339','rs17805277','rs2061155','rs2943657','rs1108842',\n",
    "          'rs16861209','rs13131633','rs6450176','rs998584','rs2980879','rs11045172','rs7978610','rs2925979','rs12051272','rs731839')"
   ]
  },
  {
   "cell_type": "code",
   "execution_count": 26,
   "id": "99c80832",
   "metadata": {},
   "outputs": [],
   "source": [
    "#eur_gs%>%filter(PVALUE_FE<5E-08)"
   ]
  },
  {
   "cell_type": "code",
   "execution_count": 32,
   "id": "3eb6ff0f",
   "metadata": {},
   "outputs": [],
   "source": [
    "df1<- eur_gs%>%filter(MARKERNAME %in% lead)%>%select(ADIPO_BETA,METSIM_BETA)"
   ]
  },
  {
   "cell_type": "code",
   "execution_count": 33,
   "id": "5cf3d9cb",
   "metadata": {},
   "outputs": [
    {
     "data": {
      "text/plain": [
       "\n",
       "TRUE \n",
       "  19 "
      ]
     },
     "metadata": {},
     "output_type": "display_data"
    }
   ],
   "source": [
    "table(abs(rowSums(sign(df1))) == 2)"
   ]
  },
  {
   "cell_type": "code",
   "execution_count": 10,
   "id": "cb9a7b5c",
   "metadata": {},
   "outputs": [],
   "source": [
    "## Identify the Lead Variant"
   ]
  },
  {
   "cell_type": "code",
   "execution_count": 11,
   "id": "5e17ae48",
   "metadata": {},
   "outputs": [],
   "source": [
    "chr_list <- unique(eur_gs$CHROMOSOME)"
   ]
  },
  {
   "cell_type": "code",
   "execution_count": 12,
   "id": "7870fd46",
   "metadata": {},
   "outputs": [],
   "source": [
    "lead_variants <- data.frame()\n",
    "for (g in 1:length(chr_list)){\n",
    "    \n",
    "pvalue_list <- (eur_gs%>%filter(CHROMOSOME==chr_list[g])%>%mutate(start=POSITION-500000,stop=POSITION+500000)%>%arrange(start)%>% group_by(g = cumsum(cummax(lag(stop, default = first(stop))) < start)) %>% \n",
    " summarise(start = first(start), stop = max(stop),pvalue=min(PVALUE_FE)))$pvalue\n",
    " df <- eur_gs %>%filter(CHROMOSOME==chr_list[g])%>%filter(PVALUE_FE %in% pvalue_list)\n",
    "   lead_variants  <- rbind(lead_variants,df)\n",
    "}"
   ]
  },
  {
   "cell_type": "code",
   "execution_count": 13,
   "id": "23711c35",
   "metadata": {},
   "outputs": [],
   "source": [
    "write.table(lead_variants,\"../../ANALYSIS/EUROPEAN_LEAD.TAB\",row.names=FALSE,quote=FALSE,sep=\"\\t\")"
   ]
  },
  {
   "cell_type": "code",
   "execution_count": null,
   "id": "bfde82c7",
   "metadata": {},
   "outputs": [],
   "source": []
  },
  {
   "cell_type": "code",
   "execution_count": null,
   "id": "612713d0",
   "metadata": {},
   "outputs": [],
   "source": [
    "### METSIM Lead variant"
   ]
  },
  {
   "cell_type": "code",
   "execution_count": 60,
   "id": "340edcf9",
   "metadata": {},
   "outputs": [],
   "source": [
    "metsim_gs <- read.table(gzfile(\"../../GenePrioritization/data//AGEN_adiponectin_hapmap.txt.gz\"),header=TRUE,fill=TRUE,row.names=NULL)"
   ]
  },
  {
   "cell_type": "code",
   "execution_count": 61,
   "id": "c4ae4a75",
   "metadata": {},
   "outputs": [
    {
     "data": {
      "text/html": [
       "<table class=\"dataframe\">\n",
       "<caption>A data.frame: 6 × 10</caption>\n",
       "<thead>\n",
       "\t<tr><th></th><th scope=col>CHR</th><th scope=col>POS</th><th scope=col>MARKERNAME</th><th scope=col>N</th><th scope=col>EFF_ALLELE</th><th scope=col>NONEFF_ALLELE</th><th scope=col>EFF_ALLELE_FREQ</th><th scope=col>BETA</th><th scope=col>SEBETA</th><th scope=col>P</th></tr>\n",
       "\t<tr><th></th><th scope=col>&lt;int&gt;</th><th scope=col>&lt;int&gt;</th><th scope=col>&lt;chr&gt;</th><th scope=col>&lt;dbl&gt;</th><th scope=col>&lt;chr&gt;</th><th scope=col>&lt;chr&gt;</th><th scope=col>&lt;dbl&gt;</th><th scope=col>&lt;dbl&gt;</th><th scope=col>&lt;dbl&gt;</th><th scope=col>&lt;dbl&gt;</th></tr>\n",
       "</thead>\n",
       "<tbody>\n",
       "\t<tr><th scope=row>1</th><td>16</td><td>82663288</td><td>rs12051272</td><td>7825.54</td><td>T</td><td>G</td><td>0.2875</td><td>-0.4015</td><td>0.0187</td><td>1.82e-102</td></tr>\n",
       "\t<tr><th scope=row>2</th><td>16</td><td>82663101</td><td>rs12051213</td><td>7823.16</td><td>T</td><td>C</td><td>0.3801</td><td>-0.3551</td><td>0.0166</td><td>7.30e-102</td></tr>\n",
       "\t<tr><th scope=row>3</th><td>16</td><td>82650384</td><td>rs4783241 </td><td>7826.85</td><td>C</td><td>G</td><td>0.3538</td><td>-0.3266</td><td>0.0154</td><td>3.02e-100</td></tr>\n",
       "\t<tr><th scope=row>4</th><td>16</td><td>82650717</td><td>rs3865188 </td><td>7826.82</td><td>A</td><td>T</td><td>0.6460</td><td> 0.3262</td><td>0.0154</td><td>5.26e-100</td></tr>\n",
       "\t<tr><th scope=row>5</th><td>16</td><td>82643758</td><td>rs12445207</td><td>7825.28</td><td>C</td><td>G</td><td>0.6489</td><td> 0.3283</td><td>0.0157</td><td> 1.73e-97</td></tr>\n",
       "\t<tr><th scope=row>6</th><td>16</td><td>82643862</td><td>rs16957852</td><td>7809.85</td><td>A</td><td>C</td><td>0.6390</td><td> 0.3277</td><td>0.0159</td><td> 9.60e-95</td></tr>\n",
       "</tbody>\n",
       "</table>\n"
      ],
      "text/latex": [
       "A data.frame: 6 × 10\n",
       "\\begin{tabular}{r|llllllllll}\n",
       "  & CHR & POS & MARKERNAME & N & EFF\\_ALLELE & NONEFF\\_ALLELE & EFF\\_ALLELE\\_FREQ & BETA & SEBETA & P\\\\\n",
       "  & <int> & <int> & <chr> & <dbl> & <chr> & <chr> & <dbl> & <dbl> & <dbl> & <dbl>\\\\\n",
       "\\hline\n",
       "\t1 & 16 & 82663288 & rs12051272 & 7825.54 & T & G & 0.2875 & -0.4015 & 0.0187 & 1.82e-102\\\\\n",
       "\t2 & 16 & 82663101 & rs12051213 & 7823.16 & T & C & 0.3801 & -0.3551 & 0.0166 & 7.30e-102\\\\\n",
       "\t3 & 16 & 82650384 & rs4783241  & 7826.85 & C & G & 0.3538 & -0.3266 & 0.0154 & 3.02e-100\\\\\n",
       "\t4 & 16 & 82650717 & rs3865188  & 7826.82 & A & T & 0.6460 &  0.3262 & 0.0154 & 5.26e-100\\\\\n",
       "\t5 & 16 & 82643758 & rs12445207 & 7825.28 & C & G & 0.6489 &  0.3283 & 0.0157 &  1.73e-97\\\\\n",
       "\t6 & 16 & 82643862 & rs16957852 & 7809.85 & A & C & 0.6390 &  0.3277 & 0.0159 &  9.60e-95\\\\\n",
       "\\end{tabular}\n"
      ],
      "text/markdown": [
       "\n",
       "A data.frame: 6 × 10\n",
       "\n",
       "| <!--/--> | CHR &lt;int&gt; | POS &lt;int&gt; | MARKERNAME &lt;chr&gt; | N &lt;dbl&gt; | EFF_ALLELE &lt;chr&gt; | NONEFF_ALLELE &lt;chr&gt; | EFF_ALLELE_FREQ &lt;dbl&gt; | BETA &lt;dbl&gt; | SEBETA &lt;dbl&gt; | P &lt;dbl&gt; |\n",
       "|---|---|---|---|---|---|---|---|---|---|---|\n",
       "| 1 | 16 | 82663288 | rs12051272 | 7825.54 | T | G | 0.2875 | -0.4015 | 0.0187 | 1.82e-102 |\n",
       "| 2 | 16 | 82663101 | rs12051213 | 7823.16 | T | C | 0.3801 | -0.3551 | 0.0166 | 7.30e-102 |\n",
       "| 3 | 16 | 82650384 | rs4783241  | 7826.85 | C | G | 0.3538 | -0.3266 | 0.0154 | 3.02e-100 |\n",
       "| 4 | 16 | 82650717 | rs3865188  | 7826.82 | A | T | 0.6460 |  0.3262 | 0.0154 | 5.26e-100 |\n",
       "| 5 | 16 | 82643758 | rs12445207 | 7825.28 | C | G | 0.6489 |  0.3283 | 0.0157 |  1.73e-97 |\n",
       "| 6 | 16 | 82643862 | rs16957852 | 7809.85 | A | C | 0.6390 |  0.3277 | 0.0159 |  9.60e-95 |\n",
       "\n"
      ],
      "text/plain": [
       "  CHR POS      MARKERNAME N       EFF_ALLELE NONEFF_ALLELE EFF_ALLELE_FREQ\n",
       "1 16  82663288 rs12051272 7825.54 T          G             0.2875         \n",
       "2 16  82663101 rs12051213 7823.16 T          C             0.3801         \n",
       "3 16  82650384 rs4783241  7826.85 C          G             0.3538         \n",
       "4 16  82650717 rs3865188  7826.82 A          T             0.6460         \n",
       "5 16  82643758 rs12445207 7825.28 C          G             0.6489         \n",
       "6 16  82643862 rs16957852 7809.85 A          C             0.6390         \n",
       "  BETA    SEBETA P        \n",
       "1 -0.4015 0.0187 1.82e-102\n",
       "2 -0.3551 0.0166 7.30e-102\n",
       "3 -0.3266 0.0154 3.02e-100\n",
       "4  0.3262 0.0154 5.26e-100\n",
       "5  0.3283 0.0157  1.73e-97\n",
       "6  0.3277 0.0159  9.60e-95"
      ]
     },
     "metadata": {},
     "output_type": "display_data"
    }
   ],
   "source": [
    "head(metsim_gs)"
   ]
  },
  {
   "cell_type": "code",
   "execution_count": 40,
   "id": "761b5e24",
   "metadata": {},
   "outputs": [],
   "source": [
    "metsim_gs <- read.table(\"../../Summary_Statistic/Formatted/METSIM_hg19_METAL_POS.TAB\",header=F,fill=TRUE,row.names=NULL)"
   ]
  },
  {
   "cell_type": "code",
   "execution_count": 41,
   "id": "03c368f2",
   "metadata": {},
   "outputs": [],
   "source": [
    "colnames(metsim_gs) <- c(\"CHROMOSOME\",\"POSITION\",\"MARKERNAME\",\"METSIM_NEA\",\"METSIM_EA\",\"METSIM_N\",\"PVALUE_FE\",\"METSIM_BETA\",\"METSIM_SE\")"
   ]
  },
  {
   "cell_type": "code",
   "execution_count": 42,
   "id": "dde86da6",
   "metadata": {},
   "outputs": [],
   "source": [
    "metsim_gs <- metsim_gs%>%filter(PVALUE_FE<5E-08)"
   ]
  },
  {
   "cell_type": "code",
   "execution_count": 43,
   "id": "d17c53d8",
   "metadata": {},
   "outputs": [
    {
     "data": {
      "text/html": [
       "<table class=\"dataframe\">\n",
       "<caption>A data.frame: 2 × 9</caption>\n",
       "<thead>\n",
       "\t<tr><th></th><th scope=col>CHROMOSOME</th><th scope=col>POSITION</th><th scope=col>MARKERNAME</th><th scope=col>METSIM_NEA</th><th scope=col>METSIM_EA</th><th scope=col>METSIM_N</th><th scope=col>PVALUE_FE</th><th scope=col>METSIM_BETA</th><th scope=col>METSIM_SE</th></tr>\n",
       "\t<tr><th></th><th scope=col>&lt;chr&gt;</th><th scope=col>&lt;int&gt;</th><th scope=col>&lt;chr&gt;</th><th scope=col>&lt;chr&gt;</th><th scope=col>&lt;chr&gt;</th><th scope=col>&lt;int&gt;</th><th scope=col>&lt;dbl&gt;</th><th scope=col>&lt;dbl&gt;</th><th scope=col>&lt;dbl&gt;</th></tr>\n",
       "</thead>\n",
       "<tbody>\n",
       "\t<tr><th scope=row>1</th><td>2</td><td>227020653</td><td>rs7578326 </td><td>A</td><td>G_exm-rs7578326</td><td>9236</td><td>4.402e-09</td><td>0.09236</td><td>0.01572</td></tr>\n",
       "\t<tr><th scope=row>2</th><td>2</td><td>227020853</td><td>rs13388242</td><td>G</td><td>A              </td><td>9236</td><td>5.734e-09</td><td>0.09160</td><td>0.01571</td></tr>\n",
       "</tbody>\n",
       "</table>\n"
      ],
      "text/latex": [
       "A data.frame: 2 × 9\n",
       "\\begin{tabular}{r|lllllllll}\n",
       "  & CHROMOSOME & POSITION & MARKERNAME & METSIM\\_NEA & METSIM\\_EA & METSIM\\_N & PVALUE\\_FE & METSIM\\_BETA & METSIM\\_SE\\\\\n",
       "  & <chr> & <int> & <chr> & <chr> & <chr> & <int> & <dbl> & <dbl> & <dbl>\\\\\n",
       "\\hline\n",
       "\t1 & 2 & 227020653 & rs7578326  & A & G\\_exm-rs7578326 & 9236 & 4.402e-09 & 0.09236 & 0.01572\\\\\n",
       "\t2 & 2 & 227020853 & rs13388242 & G & A               & 9236 & 5.734e-09 & 0.09160 & 0.01571\\\\\n",
       "\\end{tabular}\n"
      ],
      "text/markdown": [
       "\n",
       "A data.frame: 2 × 9\n",
       "\n",
       "| <!--/--> | CHROMOSOME &lt;chr&gt; | POSITION &lt;int&gt; | MARKERNAME &lt;chr&gt; | METSIM_NEA &lt;chr&gt; | METSIM_EA &lt;chr&gt; | METSIM_N &lt;int&gt; | PVALUE_FE &lt;dbl&gt; | METSIM_BETA &lt;dbl&gt; | METSIM_SE &lt;dbl&gt; |\n",
       "|---|---|---|---|---|---|---|---|---|---|\n",
       "| 1 | 2 | 227020653 | rs7578326  | A | G_exm-rs7578326 | 9236 | 4.402e-09 | 0.09236 | 0.01572 |\n",
       "| 2 | 2 | 227020853 | rs13388242 | G | A               | 9236 | 5.734e-09 | 0.09160 | 0.01571 |\n",
       "\n"
      ],
      "text/plain": [
       "  CHROMOSOME POSITION  MARKERNAME METSIM_NEA METSIM_EA       METSIM_N PVALUE_FE\n",
       "1 2          227020653 rs7578326  A          G_exm-rs7578326 9236     4.402e-09\n",
       "2 2          227020853 rs13388242 G          A               9236     5.734e-09\n",
       "  METSIM_BETA METSIM_SE\n",
       "1 0.09236     0.01572  \n",
       "2 0.09160     0.01571  "
      ]
     },
     "metadata": {},
     "output_type": "display_data"
    }
   ],
   "source": [
    "head(metsim_gs,2)"
   ]
  },
  {
   "cell_type": "code",
   "execution_count": 44,
   "id": "b1773c1f",
   "metadata": {},
   "outputs": [
    {
     "data": {
      "text/html": [
       "678"
      ],
      "text/latex": [
       "678"
      ],
      "text/markdown": [
       "678"
      ],
      "text/plain": [
       "[1] 678"
      ]
     },
     "metadata": {},
     "output_type": "display_data"
    }
   ],
   "source": [
    "nrow(metsim_gs)"
   ]
  },
  {
   "cell_type": "code",
   "execution_count": 55,
   "id": "31ddebf5",
   "metadata": {},
   "outputs": [],
   "source": [
    "chr_list <- unique(metsim_gs$CHROMOSOME)[-8]"
   ]
  },
  {
   "cell_type": "code",
   "execution_count": 56,
   "id": "b88cae5b",
   "metadata": {},
   "outputs": [
    {
     "data": {
      "text/html": [
       "<style>\n",
       ".list-inline {list-style: none; margin:0; padding: 0}\n",
       ".list-inline>li {display: inline-block}\n",
       ".list-inline>li:not(:last-child)::after {content: \"\\00b7\"; padding: 0 .5ex}\n",
       "</style>\n",
       "<ol class=list-inline><li>'2'</li><li>'3'</li><li>'4'</li><li>'5'</li><li>'11'</li><li>'14'</li><li>'16'</li></ol>\n"
      ],
      "text/latex": [
       "\\begin{enumerate*}\n",
       "\\item '2'\n",
       "\\item '3'\n",
       "\\item '4'\n",
       "\\item '5'\n",
       "\\item '11'\n",
       "\\item '14'\n",
       "\\item '16'\n",
       "\\end{enumerate*}\n"
      ],
      "text/markdown": [
       "1. '2'\n",
       "2. '3'\n",
       "3. '4'\n",
       "4. '5'\n",
       "5. '11'\n",
       "6. '14'\n",
       "7. '16'\n",
       "\n",
       "\n"
      ],
      "text/plain": [
       "[1] \"2\"  \"3\"  \"4\"  \"5\"  \"11\" \"14\" \"16\""
      ]
     },
     "metadata": {},
     "output_type": "display_data"
    }
   ],
   "source": [
    "chr_list"
   ]
  },
  {
   "cell_type": "code",
   "execution_count": 57,
   "id": "88611772",
   "metadata": {},
   "outputs": [],
   "source": [
    "lead_variants <- data.frame()\n",
    "for (g in 1:length(chr_list)){\n",
    "    \n",
    "pvalue_list <- (metsim_gs%>%filter(CHROMOSOME==chr_list[g])%>%mutate(start=POSITION-500000,stop=POSITION+500000)%>%arrange(start)%>% group_by(g = cumsum(cummax(lag(stop, default = first(stop))) < start)) %>% \n",
    " summarise(start = first(start), stop = max(stop),pvalue=min(PVALUE_FE)))$pvalue\n",
    " df <- metsim_gs %>%filter(CHROMOSOME==chr_list[g])%>%filter(PVALUE_FE %in% pvalue_list)\n",
    "   lead_variants  <- rbind(lead_variants,df)\n",
    "}"
   ]
  },
  {
   "cell_type": "code",
   "execution_count": 58,
   "id": "7d5b4ab4",
   "metadata": {},
   "outputs": [
    {
     "data": {
      "text/html": [
       "<table class=\"dataframe\">\n",
       "<caption>A data.frame: 9 × 9</caption>\n",
       "<thead>\n",
       "\t<tr><th scope=col>CHROMOSOME</th><th scope=col>POSITION</th><th scope=col>MARKERNAME</th><th scope=col>METSIM_NEA</th><th scope=col>METSIM_EA</th><th scope=col>METSIM_N</th><th scope=col>PVALUE_FE</th><th scope=col>METSIM_BETA</th><th scope=col>METSIM_SE</th></tr>\n",
       "\t<tr><th scope=col>&lt;chr&gt;</th><th scope=col>&lt;int&gt;</th><th scope=col>&lt;chr&gt;</th><th scope=col>&lt;chr&gt;</th><th scope=col>&lt;chr&gt;</th><th scope=col>&lt;int&gt;</th><th scope=col>&lt;dbl&gt;</th><th scope=col>&lt;dbl&gt;</th><th scope=col>&lt;dbl&gt;</th></tr>\n",
       "</thead>\n",
       "<tbody>\n",
       "\t<tr><td>2 </td><td>227029688</td><td>rs371249845</td><td>CATAG</td><td>C               </td><td>9236</td><td>2.956e-09</td><td> 0.09436</td><td>0.01589</td></tr>\n",
       "\t<tr><td>3 </td><td> 52637486</td><td>rs2276824  </td><td>C    </td><td>G_rs2276824     </td><td>9236</td><td>3.480e-08</td><td> 0.08547</td><td>0.01548</td></tr>\n",
       "\t<tr><td>3 </td><td> 89985846</td><td>rs139269730</td><td>C    </td><td>T               </td><td>9236</td><td>4.084e-08</td><td>-0.24330</td><td>0.04431</td></tr>\n",
       "\t<tr><td>3 </td><td>186552469</td><td>rs199938283</td><td>CAAAT</td><td>C               </td><td>9236</td><td>8.139e-55</td><td>-0.65270</td><td>0.04158</td></tr>\n",
       "\t<tr><td>4 </td><td>186542575</td><td>rs760281182</td><td>G    </td><td>T               </td><td>9236</td><td>3.188e-44</td><td>-0.69240</td><td>0.04937</td></tr>\n",
       "\t<tr><td>5 </td><td> 82570713</td><td>rs771462854</td><td>T    </td><td>A               </td><td>9236</td><td>2.232e-19</td><td>-0.59430</td><td>0.06588</td></tr>\n",
       "\t<tr><td>11</td><td> 82856013</td><td>rs574703763</td><td>A    </td><td>G_SNP16-81413514</td><td>9236</td><td>3.574e-08</td><td> 0.11640</td><td>0.02110</td></tr>\n",
       "\t<tr><td>14</td><td> 83063646</td><td>rs768968814</td><td>A    </td><td>T               </td><td>9236</td><td>2.102e-14</td><td>-0.48700</td><td>0.06361</td></tr>\n",
       "\t<tr><td>16</td><td> 82663288</td><td>rs12051272 </td><td>G    </td><td>T               </td><td>9236</td><td>1.764e-68</td><td>-0.42970</td><td>0.02437</td></tr>\n",
       "</tbody>\n",
       "</table>\n"
      ],
      "text/latex": [
       "A data.frame: 9 × 9\n",
       "\\begin{tabular}{lllllllll}\n",
       " CHROMOSOME & POSITION & MARKERNAME & METSIM\\_NEA & METSIM\\_EA & METSIM\\_N & PVALUE\\_FE & METSIM\\_BETA & METSIM\\_SE\\\\\n",
       " <chr> & <int> & <chr> & <chr> & <chr> & <int> & <dbl> & <dbl> & <dbl>\\\\\n",
       "\\hline\n",
       "\t 2  & 227029688 & rs371249845 & CATAG & C                & 9236 & 2.956e-09 &  0.09436 & 0.01589\\\\\n",
       "\t 3  &  52637486 & rs2276824   & C     & G\\_rs2276824      & 9236 & 3.480e-08 &  0.08547 & 0.01548\\\\\n",
       "\t 3  &  89985846 & rs139269730 & C     & T                & 9236 & 4.084e-08 & -0.24330 & 0.04431\\\\\n",
       "\t 3  & 186552469 & rs199938283 & CAAAT & C                & 9236 & 8.139e-55 & -0.65270 & 0.04158\\\\\n",
       "\t 4  & 186542575 & rs760281182 & G     & T                & 9236 & 3.188e-44 & -0.69240 & 0.04937\\\\\n",
       "\t 5  &  82570713 & rs771462854 & T     & A                & 9236 & 2.232e-19 & -0.59430 & 0.06588\\\\\n",
       "\t 11 &  82856013 & rs574703763 & A     & G\\_SNP16-81413514 & 9236 & 3.574e-08 &  0.11640 & 0.02110\\\\\n",
       "\t 14 &  83063646 & rs768968814 & A     & T                & 9236 & 2.102e-14 & -0.48700 & 0.06361\\\\\n",
       "\t 16 &  82663288 & rs12051272  & G     & T                & 9236 & 1.764e-68 & -0.42970 & 0.02437\\\\\n",
       "\\end{tabular}\n"
      ],
      "text/markdown": [
       "\n",
       "A data.frame: 9 × 9\n",
       "\n",
       "| CHROMOSOME &lt;chr&gt; | POSITION &lt;int&gt; | MARKERNAME &lt;chr&gt; | METSIM_NEA &lt;chr&gt; | METSIM_EA &lt;chr&gt; | METSIM_N &lt;int&gt; | PVALUE_FE &lt;dbl&gt; | METSIM_BETA &lt;dbl&gt; | METSIM_SE &lt;dbl&gt; |\n",
       "|---|---|---|---|---|---|---|---|---|\n",
       "| 2  | 227029688 | rs371249845 | CATAG | C                | 9236 | 2.956e-09 |  0.09436 | 0.01589 |\n",
       "| 3  |  52637486 | rs2276824   | C     | G_rs2276824      | 9236 | 3.480e-08 |  0.08547 | 0.01548 |\n",
       "| 3  |  89985846 | rs139269730 | C     | T                | 9236 | 4.084e-08 | -0.24330 | 0.04431 |\n",
       "| 3  | 186552469 | rs199938283 | CAAAT | C                | 9236 | 8.139e-55 | -0.65270 | 0.04158 |\n",
       "| 4  | 186542575 | rs760281182 | G     | T                | 9236 | 3.188e-44 | -0.69240 | 0.04937 |\n",
       "| 5  |  82570713 | rs771462854 | T     | A                | 9236 | 2.232e-19 | -0.59430 | 0.06588 |\n",
       "| 11 |  82856013 | rs574703763 | A     | G_SNP16-81413514 | 9236 | 3.574e-08 |  0.11640 | 0.02110 |\n",
       "| 14 |  83063646 | rs768968814 | A     | T                | 9236 | 2.102e-14 | -0.48700 | 0.06361 |\n",
       "| 16 |  82663288 | rs12051272  | G     | T                | 9236 | 1.764e-68 | -0.42970 | 0.02437 |\n",
       "\n"
      ],
      "text/plain": [
       "  CHROMOSOME POSITION  MARKERNAME  METSIM_NEA METSIM_EA        METSIM_N\n",
       "1 2          227029688 rs371249845 CATAG      C                9236    \n",
       "2 3           52637486 rs2276824   C          G_rs2276824      9236    \n",
       "3 3           89985846 rs139269730 C          T                9236    \n",
       "4 3          186552469 rs199938283 CAAAT      C                9236    \n",
       "5 4          186542575 rs760281182 G          T                9236    \n",
       "6 5           82570713 rs771462854 T          A                9236    \n",
       "7 11          82856013 rs574703763 A          G_SNP16-81413514 9236    \n",
       "8 14          83063646 rs768968814 A          T                9236    \n",
       "9 16          82663288 rs12051272  G          T                9236    \n",
       "  PVALUE_FE METSIM_BETA METSIM_SE\n",
       "1 2.956e-09  0.09436    0.01589  \n",
       "2 3.480e-08  0.08547    0.01548  \n",
       "3 4.084e-08 -0.24330    0.04431  \n",
       "4 8.139e-55 -0.65270    0.04158  \n",
       "5 3.188e-44 -0.69240    0.04937  \n",
       "6 2.232e-19 -0.59430    0.06588  \n",
       "7 3.574e-08  0.11640    0.02110  \n",
       "8 2.102e-14 -0.48700    0.06361  \n",
       "9 1.764e-68 -0.42970    0.02437  "
      ]
     },
     "metadata": {},
     "output_type": "display_data"
    }
   ],
   "source": [
    "lead_variants"
   ]
  },
  {
   "cell_type": "code",
   "execution_count": 59,
   "id": "e1999919",
   "metadata": {},
   "outputs": [],
   "source": [
    "write.table(lead_variants,\"../../ANALYSIS/METSIM_LEAD.TAB\",row.names=FALSE,quote=FALSE,sep=\"\\t\")"
   ]
  },
  {
   "cell_type": "code",
   "execution_count": null,
   "id": "1e766d8e",
   "metadata": {},
   "outputs": [],
   "source": []
  }
 ],
 "metadata": {
  "kernelspec": {
   "display_name": "R",
   "language": "R",
   "name": "ir"
  },
  "language_info": {
   "codemirror_mode": "r",
   "file_extension": ".r",
   "mimetype": "text/x-r-source",
   "name": "R",
   "pygments_lexer": "r",
   "version": "4.2.0"
  }
 },
 "nbformat": 4,
 "nbformat_minor": 5
}
