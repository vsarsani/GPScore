{
 "cells": [
  {
   "cell_type": "code",
   "execution_count": 26,
   "id": "df0e630c",
   "metadata": {},
   "outputs": [],
   "source": [
    "suppressMessages(suppressWarnings(library(tidyverse)))"
   ]
  },
  {
   "cell_type": "code",
   "execution_count": 27,
   "id": "722edb89",
   "metadata": {},
   "outputs": [],
   "source": [
    "### Read the Master file and lead variants"
   ]
  },
  {
   "cell_type": "code",
   "execution_count": 28,
   "id": "b464e2ed",
   "metadata": {},
   "outputs": [],
   "source": [
    "Two <- read.table(gzfile(\"../data/EUR_GWAS.TAB.gz\"),header=T,fill=TRUE,row.names=NULL)%>%rename(CHROMOSOME=CHROMOSOME.x,POSITION=POSITION.x)"
   ]
  },
  {
   "cell_type": "code",
   "execution_count": null,
   "id": "2ec2bfa1",
   "metadata": {},
   "outputs": [],
   "source": []
  },
  {
   "cell_type": "code",
   "execution_count": 29,
   "id": "9179db1a",
   "metadata": {},
   "outputs": [
    {
     "data": {
      "text/html": [
       "<style>\n",
       ".list-inline {list-style: none; margin:0; padding: 0}\n",
       ".list-inline>li {display: inline-block}\n",
       ".list-inline>li:not(:last-child)::after {content: \"\\00b7\"; padding: 0 .5ex}\n",
       "</style>\n",
       "<ol class=list-inline><li>'MARKERNAME'</li><li>'CHROMOSOME'</li><li>'POSITION'</li><li>'ADIPO_EA'</li><li>'ADIPO_NEA'</li><li>'ADIPO_EAF'</li><li>'ADIPO_N'</li><li>'ADIPO_BETA'</li><li>'ADIPO_SE'</li><li>'ADIPO_PVALUE'</li><li>'METSIM_EA'</li><li>'METSIM_NEA'</li><li>'METSIM_EAF'</li><li>'METSIM_N'</li><li>'METSIM_BETA'</li><li>'METSIM_SE'</li><li>'METSIM_PVALUE'</li></ol>\n"
      ],
      "text/latex": [
       "\\begin{enumerate*}\n",
       "\\item 'MARKERNAME'\n",
       "\\item 'CHROMOSOME'\n",
       "\\item 'POSITION'\n",
       "\\item 'ADIPO\\_EA'\n",
       "\\item 'ADIPO\\_NEA'\n",
       "\\item 'ADIPO\\_EAF'\n",
       "\\item 'ADIPO\\_N'\n",
       "\\item 'ADIPO\\_BETA'\n",
       "\\item 'ADIPO\\_SE'\n",
       "\\item 'ADIPO\\_PVALUE'\n",
       "\\item 'METSIM\\_EA'\n",
       "\\item 'METSIM\\_NEA'\n",
       "\\item 'METSIM\\_EAF'\n",
       "\\item 'METSIM\\_N'\n",
       "\\item 'METSIM\\_BETA'\n",
       "\\item 'METSIM\\_SE'\n",
       "\\item 'METSIM\\_PVALUE'\n",
       "\\end{enumerate*}\n"
      ],
      "text/markdown": [
       "1. 'MARKERNAME'\n",
       "2. 'CHROMOSOME'\n",
       "3. 'POSITION'\n",
       "4. 'ADIPO_EA'\n",
       "5. 'ADIPO_NEA'\n",
       "6. 'ADIPO_EAF'\n",
       "7. 'ADIPO_N'\n",
       "8. 'ADIPO_BETA'\n",
       "9. 'ADIPO_SE'\n",
       "10. 'ADIPO_PVALUE'\n",
       "11. 'METSIM_EA'\n",
       "12. 'METSIM_NEA'\n",
       "13. 'METSIM_EAF'\n",
       "14. 'METSIM_N'\n",
       "15. 'METSIM_BETA'\n",
       "16. 'METSIM_SE'\n",
       "17. 'METSIM_PVALUE'\n",
       "\n",
       "\n"
      ],
      "text/plain": [
       " [1] \"MARKERNAME\"    \"CHROMOSOME\"    \"POSITION\"      \"ADIPO_EA\"     \n",
       " [5] \"ADIPO_NEA\"     \"ADIPO_EAF\"     \"ADIPO_N\"       \"ADIPO_BETA\"   \n",
       " [9] \"ADIPO_SE\"      \"ADIPO_PVALUE\"  \"METSIM_EA\"     \"METSIM_NEA\"   \n",
       "[13] \"METSIM_EAF\"    \"METSIM_N\"      \"METSIM_BETA\"   \"METSIM_SE\"    \n",
       "[17] \"METSIM_PVALUE\""
      ]
     },
     "metadata": {},
     "output_type": "display_data"
    },
    {
     "data": {
      "text/html": [
       "2506594"
      ],
      "text/latex": [
       "2506594"
      ],
      "text/markdown": [
       "2506594"
      ],
      "text/plain": [
       "[1] 2506594"
      ]
     },
     "metadata": {},
     "output_type": "display_data"
    }
   ],
   "source": [
    "colnames(Two)\n",
    "nrow(Two)"
   ]
  },
  {
   "cell_type": "code",
   "execution_count": null,
   "id": "6bac00b0",
   "metadata": {},
   "outputs": [],
   "source": []
  },
  {
   "cell_type": "code",
   "execution_count": 30,
   "id": "b7d658bd",
   "metadata": {},
   "outputs": [],
   "source": [
    "## ALLELE FLIPPING"
   ]
  },
  {
   "cell_type": "code",
   "execution_count": 31,
   "id": "e5671bb2",
   "metadata": {},
   "outputs": [],
   "source": [
    "# Seperate out concordant alleles"
   ]
  },
  {
   "cell_type": "code",
   "execution_count": 32,
   "id": "1d7fc608",
   "metadata": {},
   "outputs": [],
   "source": [
    "concordant <- Two%>%filter(ADIPO_EA==METSIM_EA & METSIM_NEA==ADIPO_NEA)"
   ]
  },
  {
   "cell_type": "code",
   "execution_count": 33,
   "id": "a597d88d",
   "metadata": {},
   "outputs": [],
   "source": [
    "# Flip adipogen alleles and beta if discordant with metsim"
   ]
  },
  {
   "cell_type": "code",
   "execution_count": 34,
   "id": "21d15174",
   "metadata": {},
   "outputs": [],
   "source": [
    " flipped_adipo <- Two%>%filter(!(ADIPO_EA==METSIM_EA & METSIM_NEA==ADIPO_NEA))%>%filter(METSIM_EA!=ADIPO_EA)%>%mutate(ADIPO_EA_FLIP=ADIPO_NEA,ADIPO_NEA_FLIP=ADIPO_EA,ADIPO_BETA=-ADIPO_BETA)%>%\n",
    "select(-ADIPO_EA,-ADIPO_NEA)%>%rename(ADIPO_EA=ADIPO_EA_FLIP,ADIPO_NEA=ADIPO_NEA_FLIP)"
   ]
  },
  {
   "cell_type": "code",
   "execution_count": 35,
   "id": "85a0800f",
   "metadata": {},
   "outputs": [],
   "source": [
    "##concatenate all the RSIDS"
   ]
  },
  {
   "cell_type": "code",
   "execution_count": 36,
   "id": "a5b9f1ff",
   "metadata": {},
   "outputs": [],
   "source": [
    "META_TWO <- rbind(concordant,flipped_adipo)"
   ]
  },
  {
   "cell_type": "code",
   "execution_count": 37,
   "id": "6293994c",
   "metadata": {},
   "outputs": [],
   "source": [
    "META_TWO <- META_TWO%>%filter(ADIPO_EA==METSIM_EA  & ADIPO_NEA==METSIM_NEA)"
   ]
  },
  {
   "cell_type": "code",
   "execution_count": 38,
   "id": "2d1b5fd7",
   "metadata": {},
   "outputs": [],
   "source": [
    "##Write INFO FIELD"
   ]
  },
  {
   "cell_type": "code",
   "execution_count": 39,
   "id": "6e64db8a",
   "metadata": {},
   "outputs": [],
   "source": [
    "write.table(META_TWO,\"../data/EUROPEAN_GWAS_ALLELECORRECTED.TAB\",row.names=FALSE,quote=FALSE)"
   ]
  },
  {
   "cell_type": "code",
   "execution_count": null,
   "id": "1da2db96",
   "metadata": {},
   "outputs": [],
   "source": []
  },
  {
   "cell_type": "code",
   "execution_count": 40,
   "id": "b7d2562f",
   "metadata": {},
   "outputs": [],
   "source": [
    "## Raw input for METAL AND MR-MEGA"
   ]
  },
  {
   "cell_type": "code",
   "execution_count": 41,
   "id": "d163eaa5",
   "metadata": {},
   "outputs": [],
   "source": [
    " Adipo_mrmega <- META_TWO%>%mutate(STRAND=\"+\")%>%select(MARKERNAME,STRAND,CHROMOSOME,POSITION,ADIPO_EA,ADIPO_NEA,ADIPO_EAF,ADIPO_N,ADIPO_BETA,ADIPO_SE,ADIPO_PVALUE)%>%\n",
    "rename(EA=ADIPO_EA,NEA=ADIPO_NEA,EAF=ADIPO_EAF,N=ADIPO_N,BETA=ADIPO_BETA,SE=ADIPO_SE,PVALUE=ADIPO_PVALUE)\n",
    "write.table(Adipo_mrmega,\"../data/EUROPEAN_ADIPOGEN_MRMEGA_RAW.TAB\",row.names=FALSE,quote=FALSE)"
   ]
  },
  {
   "cell_type": "code",
   "execution_count": 42,
   "id": "d10c40df",
   "metadata": {},
   "outputs": [],
   "source": [
    " metsim_mrmega <- META_TWO%>%mutate(STRAND=\"+\")%>%select(MARKERNAME,STRAND,CHROMOSOME,POSITION,METSIM_EA,METSIM_NEA,METSIM_EAF,METSIM_N,METSIM_BETA,METSIM_SE,METSIM_PVALUE)%>%\n",
    "rename(EA=METSIM_EA,NEA=METSIM_NEA,EAF=METSIM_EAF,N=METSIM_N,BETA=METSIM_BETA,SE=METSIM_SE,PVALUE=METSIM_PVALUE)\n",
    "write.table(metsim_mrmega,\"../data/EUROPEAN_METSIM_MRMEGA_RAW.TAB\",row.names=FALSE,quote=FALSE)"
   ]
  },
  {
   "cell_type": "code",
   "execution_count": 43,
   "id": "512c6008",
   "metadata": {},
   "outputs": [],
   "source": [
    "## Raw input for METASOFT"
   ]
  },
  {
   "cell_type": "code",
   "execution_count": 44,
   "id": "efcf3483",
   "metadata": {},
   "outputs": [],
   "source": [
    "META_SOFT <- META_TWO%>%select(MARKERNAME,ADIPO_BETA,ADIPO_SE,METSIM_BETA,METSIM_SE)\n",
    "write.table(META_SOFT,\"../data/EUROPEAN_METASOFT_RAW.TAB\",row.names=FALSE,col.names=FALSE,quote=FALSE)"
   ]
  },
  {
   "cell_type": "code",
   "execution_count": null,
   "id": "2af5f670",
   "metadata": {},
   "outputs": [],
   "source": []
  },
  {
   "cell_type": "code",
   "execution_count": null,
   "id": "caa73916",
   "metadata": {},
   "outputs": [],
   "source": []
  }
 ],
 "metadata": {
  "kernelspec": {
   "display_name": "R",
   "language": "R",
   "name": "ir"
  },
  "language_info": {
   "codemirror_mode": "r",
   "file_extension": ".r",
   "mimetype": "text/x-r-source",
   "name": "R",
   "pygments_lexer": "r",
   "version": "4.2.0"
  }
 },
 "nbformat": 4,
 "nbformat_minor": 5
}
