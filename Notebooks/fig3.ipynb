{
 "cells": [
  {
   "cell_type": "code",
   "execution_count": 58,
   "id": "c4d0cb51",
   "metadata": {},
   "outputs": [],
   "source": [
    "suppressMessages(suppressWarnings(library(tidyverse)))"
   ]
  },
  {
   "cell_type": "code",
   "execution_count": 80,
   "id": "ac74b962",
   "metadata": {},
   "outputs": [],
   "source": [
    "casual_db <- read.table(\"../../ANALYSIS/PAPER/Figures/Main/causal_db_annotation.txt\",header=T)"
   ]
  },
  {
   "cell_type": "code",
   "execution_count": 81,
   "id": "428713fd",
   "metadata": {},
   "outputs": [
    {
     "data": {
      "text/html": [
       "21"
      ],
      "text/latex": [
       "21"
      ],
      "text/markdown": [
       "21"
      ],
      "text/plain": [
       "[1] 21"
      ]
     },
     "metadata": {},
     "output_type": "display_data"
    }
   ],
   "source": [
    "length(unique(casual_db$CAUSALSNP))"
   ]
  },
  {
   "cell_type": "code",
   "execution_count": 82,
   "id": "00b2774b",
   "metadata": {},
   "outputs": [],
   "source": [
    "plot_df <- casual_db%>%group_by(TRAIT)%>% mutate(count = n())%>%filter(count>=6)%>%mutate(logp=-log10(PVALUE))%>%select(CAUSALSNP,TRAIT,logp)%>%group_by(CAUSALSNP,TRAIT) %>%\n",
    "        top_n(1, abs(logp))"
   ]
  },
  {
   "cell_type": "code",
   "execution_count": 100,
   "id": "2edd7749",
   "metadata": {},
   "outputs": [],
   "source": [
    "options(repr.plot.width=15, repr.plot.height=15)\n",
    "p <- ggplot(plot_df, aes(x = CAUSALSNP, y = TRAIT, fill = logp)) +\n",
    "  geom_tile() +\n",
    "  scale_fill_gradientn(colors = hcl.colors(20, \"RdYlGn\")) + scale_y_discrete(labels=function(x) gsub(\"_\", \" \", x, fixed=TRUE))+\n",
    "  coord_fixed()+ theme(axis.text.x = element_text(angle = 90, vjust = 0.5, hjust=1))+\n",
    "  theme(panel.grid.major = element_blank(), panel.grid.minor = element_blank(),\n",
    "panel.background = element_blank(), axis.line = element_line(colour = \"black\"))+guides(fill = guide_colourbar(barwidth = 0.5,\n",
    "                                barheight = 20))+xlab(\"Causal SNP (AVG PIP > 0.9)\")+ ylab(\"CAUSALdb TRAIT\")"
   ]
  },
  {
   "cell_type": "code",
   "execution_count": 101,
   "id": "18735867",
   "metadata": {},
   "outputs": [],
   "source": [
    "\n",
    "ggsave(filename = \"../../ANALYSIS/PAPER/Figures/Fig3b.jpeg\", device = \"jpeg\",  plot = p, width = 15, height =10 , dpi = 600, units = \"in\")"
   ]
  },
  {
   "cell_type": "code",
   "execution_count": null,
   "id": "18485818",
   "metadata": {},
   "outputs": [],
   "source": []
  }
 ],
 "metadata": {
  "kernelspec": {
   "display_name": "R",
   "language": "R",
   "name": "ir"
  },
  "language_info": {
   "codemirror_mode": "r",
   "file_extension": ".r",
   "mimetype": "text/x-r-source",
   "name": "R",
   "pygments_lexer": "r",
   "version": "4.2.0"
  }
 },
 "nbformat": 4,
 "nbformat_minor": 5
}
