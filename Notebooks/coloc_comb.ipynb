{
 "cells": [
  {
   "cell_type": "code",
   "execution_count": null,
   "id": "c9bfd86d",
   "metadata": {},
   "outputs": [],
   "source": [
    "library(susieR)\n",
    "set.seed(1)\n",
    "suppressMessages(library(tidyverse))"
   ]
  },
  {
   "cell_type": "code",
   "execution_count": null,
   "id": "55b9bd18",
   "metadata": {},
   "outputs": [],
   "source": [
    "Metasoft_results <-  read.table(\"../../ANALYSIS/META/METASOFT/SECOND_PASS/TRANSANCESTRY_METASOFT_SECONDPASS_RESULTS.TAB\",fill=TRUE,row.names=NULL,header=FALSE)\n",
    "META_THREE <- read.table(gzfile(\"../data/TRANSANCESTRY_GWAS_ALLELECORRECTED.TAB\"),header=T,fill=TRUE,row.names=NULL)\n",
    "colnames(Metasoft_results) <- c(\"MARKERNAME\",\"N\",\"PVALUE_FE\",\"BETA_FE\",\"STD_FE\",\"PVALUE_RE\",\"BETA_RE\",\"STD_RE\",\"PVALUE_RE2\",\"STAT1_RE2\",\"STAT2_RE2\",\"PVALUE_BE\",\"I_SQUARE\",\"Q\",\"PVALUE_Q\",\"TAU_SQUARE\",\n",
    "                                \"PVALUE_ADIPOGEN\",\"PVALUE_AGEN\",\"PVALUE_METSIM\",\"NA1\",\"NA2\",\"NA3\")\n",
    "Metasoft_results <- Metasoft_results%>%filter(MARKERNAME!=\"RSID\")\n",
    "TRANSANCESTRY_RESULTS <- merge(META_THREE,Metasoft_results,by=\"MARKERNAME\")\n",
    "TRANSANCESTRY_RESULTS <- TRANSANCESTRY_RESULTS%>%mutate(TOTAL_N=ceiling(ADIPO_N)+ceiling(AGEN_N)+ceiling(METSIM_N))%>%mutate(MAF_AVG=(ADIPO_EAF*2*ADIPO_N+AGEN_EAF*2*AGEN_N+METSIM_EAF*2*METSIM_N)/(2*TOTAL_N))%>%\n",
    "filter(ADIPO_EAF>0.005)%>%filter(AGEN_EAF>0.005)%>%filter(METSIM_EAF>0.005)%>%select(-NA1,-N,-NA2,-NA3)%>%filter(PVALUE_FE<0.05)"
   ]
  },
  {
   "cell_type": "code",
   "execution_count": 38,
   "id": "a70bcc0f",
   "metadata": {},
   "outputs": [],
   "source": [
    "finemap <- read.table(\"../../ANALYSIS//FINEMAP/TRANS_FINEMAP_PIP_POS.tab\",fill=TRUE,row.names=NULL,header=FALSE)\n",
    "colnames(finemap) <- c(\"CHR\",\"POS\",\"MARKERNAME\",\"FINEMAP_PIP\")\n",
    "EMS <- read.table(\"../../ANALYSIS/EMS_OVERLAP/EMS_ALL_TISSUES.tab\",fill=TRUE,row.names=NULL,header=FALSE)\n",
    "colnames(EMS) <- c(\"CHR\",\"POS\",\"GENE\",\"EMS\",\"EMS_N\",\"TISSUE\")"
   ]
  },
  {
   "cell_type": "code",
   "execution_count": 44,
   "id": "02d91c3d",
   "metadata": {},
   "outputs": [],
   "source": [
    "df <- merge(finemap,EMS,by=c(\"CHR\",\"POS\"))%>%filter(FINEMAP_PIP>0.1)\n",
    "final_df <- merge(df,TRANSANCESTRY_RESULTS,by=\"MARKERNAME\")%>%select('MARKERNAME','CHR','POS','FINEMAP_PIP','GENE','EMS','EMS_N','TISSUE','ADIPO_EA','ADIPO_NEA','ADIPO_EAF','AGEN_EAF',\n",
    "                                                                    'METSIM_EAF','PVALUE_FE','BETA_FE','STD_FE','TOTAL_N')"
   ]
  },
  {
   "cell_type": "code",
   "execution_count": 45,
   "id": "5c6181d4",
   "metadata": {},
   "outputs": [],
   "source": [
    "write.table(arrange(final_df,CHR,POS,TISSUE),\"../../ANALYSIS/EMS_OVERLAP//Trans_ancestry_EMS_annot.tab\",row.names=FALSE,quote=FALSE,sep=\"\\t\")"
   ]
  },
  {
   "cell_type": "code",
   "execution_count": null,
   "id": "05bfa09a",
   "metadata": {},
   "outputs": [],
   "source": []
  },
  {
   "cell_type": "code",
   "execution_count": 16,
   "id": "2ef62721",
   "metadata": {},
   "outputs": [],
   "source": [
    "### EUR"
   ]
  },
  {
   "cell_type": "code",
   "execution_count": 47,
   "id": "79b86b42",
   "metadata": {},
   "outputs": [],
   "source": [
    "Metasoft_results <-  read.table(\"../../ANALYSIS/META/METASOFT/SECOND_PASS/EUROPEAN_METASOFT_SECONDPASS_RESULTS.TAB\",fill=TRUE,row.names=NULL,header=FALSE)\n",
    "META_TWO <- read.table(gzfile(\"../data/EUROPEAN_GWAS_ALLELECORRECTED.TAB\"),header=T,fill=TRUE,row.names=NULL)\n",
    "colnames(Metasoft_results) <- c(\"MARKERNAME\",\"N\",\"PVALUE_FE\",\"BETA_FE\",\"STD_FE\",\"PVALUE_RE\",\"BETA_RE\",\"STD_RE\",\"PVALUE_RE2\",\"STAT1_RE2\",\"STAT2_RE2\",\"PVALUE_BE\",\"I_SQUARE\",\"Q\",\"PVALUE_Q\",\"TAU_SQUARE\",\n",
    "                                \"PVALUE_ADIPOGEN\",\"PVALUE_METSIM\",\"NA1\",\"NA2\")\n",
    "Metasoft_results <- Metasoft_results%>%filter(MARKERNAME!=\"RSID\")\n",
    "EUR_RESULTS <- merge(META_TWO,Metasoft_results,by=\"MARKERNAME\")\n",
    "EUR_RESULTS <- EUR_RESULTS%>%mutate(TOTAL_N=ceiling(ADIPO_N)+ceiling(METSIM_N))%>%mutate(MAF_AVG=(ADIPO_EAF*2*ADIPO_N+METSIM_EAF*2*METSIM_N)/(2*TOTAL_N))%>%\n",
    "filter(ADIPO_EAF>0.005)%>%filter(METSIM_EAF>0.005)%>%select(-NA1,-N,-NA2)"
   ]
  },
  {
   "cell_type": "code",
   "execution_count": 48,
   "id": "0f7c3051",
   "metadata": {},
   "outputs": [],
   "source": [
    "finemap <- read.table(\"../../ANALYSIS//FINEMAP/EUR_FINEMAP_PIP_POS.tab\",fill=TRUE,row.names=NULL,header=FALSE)\n",
    "colnames(finemap) <- c(\"CHR\",\"POS\",\"MARKERNAME\",\"FINEMAP_PIP\")\n",
    "EMS <- read.table(\"../../ANALYSIS/EMS_OVERLAP/EMS_ALL_TISSUES.tab\",fill=TRUE,row.names=NULL,header=FALSE)\n",
    "colnames(EMS) <- c(\"CHR\",\"POS\",\"GENE\",\"EMS\",\"EMS_N\",\"TISSUE\")"
   ]
  },
  {
   "cell_type": "code",
   "execution_count": 49,
   "id": "ba5e64a1",
   "metadata": {},
   "outputs": [],
   "source": [
    "df <- merge(finemap,EMS,by=c(\"CHR\",\"POS\"))%>%filter(FINEMAP_PIP>0.1)\n",
    "final_df <- merge(df,EUR_RESULTS,by=\"MARKERNAME\")%>%select('MARKERNAME','CHR','POS','FINEMAP_PIP','GENE','EMS','EMS_N','TISSUE','ADIPO_EA','ADIPO_NEA','ADIPO_EAF',\n",
    "                                                                    'METSIM_EAF','PVALUE_FE','BETA_FE','STD_FE','TOTAL_N')"
   ]
  },
  {
   "cell_type": "code",
   "execution_count": 50,
   "id": "9fa4efe0",
   "metadata": {},
   "outputs": [],
   "source": [
    "write.table(arrange(final_df,CHR,POS,TISSUE),\"../../ANALYSIS/EMS_OVERLAP//Eur_ancestry_EMS_annot.tab\",row.names=FALSE,quote=FALSE,sep=\"\\t\")"
   ]
  },
  {
   "cell_type": "code",
   "execution_count": null,
   "id": "406db287",
   "metadata": {},
   "outputs": [],
   "source": []
  },
  {
   "cell_type": "code",
   "execution_count": 51,
   "id": "677480c8",
   "metadata": {},
   "outputs": [
    {
     "data": {
      "text/html": [
       "<table class=\"dataframe\">\n",
       "<caption>A data.frame: 1 × 35</caption>\n",
       "<thead>\n",
       "\t<tr><th scope=col>MARKERNAME</th><th scope=col>CHROMOSOME</th><th scope=col>POSITION</th><th scope=col>ADIPO_EA</th><th scope=col>ADIPO_NEA</th><th scope=col>ADIPO_EAF</th><th scope=col>ADIPO_N</th><th scope=col>ADIPO_BETA</th><th scope=col>ADIPO_SE</th><th scope=col>ADIPO_PVALUE</th><th scope=col>...</th><th scope=col>STAT2_RE2</th><th scope=col>PVALUE_BE</th><th scope=col>I_SQUARE</th><th scope=col>Q</th><th scope=col>PVALUE_Q</th><th scope=col>TAU_SQUARE</th><th scope=col>PVALUE_ADIPOGEN</th><th scope=col>PVALUE_METSIM</th><th scope=col>TOTAL_N</th><th scope=col>MAF_AVG</th></tr>\n",
       "\t<tr><th scope=col>&lt;chr&gt;</th><th scope=col>&lt;int&gt;</th><th scope=col>&lt;int&gt;</th><th scope=col>&lt;chr&gt;</th><th scope=col>&lt;chr&gt;</th><th scope=col>&lt;dbl&gt;</th><th scope=col>&lt;int&gt;</th><th scope=col>&lt;dbl&gt;</th><th scope=col>&lt;dbl&gt;</th><th scope=col>&lt;dbl&gt;</th><th scope=col>...</th><th scope=col>&lt;dbl&gt;</th><th scope=col>&lt;lgl&gt;</th><th scope=col>&lt;dbl&gt;</th><th scope=col>&lt;dbl&gt;</th><th scope=col>&lt;dbl&gt;</th><th scope=col>&lt;dbl&gt;</th><th scope=col>&lt;dbl&gt;</th><th scope=col>&lt;dbl&gt;</th><th scope=col>&lt;dbl&gt;</th><th scope=col>&lt;dbl&gt;</th></tr>\n",
       "</thead>\n",
       "<tbody>\n",
       "\t<tr><td>rs11023332</td><td>11</td><td>14784110</td><td>C</td><td>G</td><td>0.4333</td><td>29304</td><td>-0.021722</td><td>0.004365</td><td>1.42e-06</td><td>...</td><td>2.22045e-16</td><td>NA</td><td>37.8282</td><td>1.60845</td><td>0.204711</td><td>7.86974e-05</td><td>6.47766e-07</td><td>0.00650985</td><td>38540</td><td>0.4349799</td></tr>\n",
       "</tbody>\n",
       "</table>\n"
      ],
      "text/latex": [
       "A data.frame: 1 × 35\n",
       "\\begin{tabular}{lllllllllllllllllllll}\n",
       " MARKERNAME & CHROMOSOME & POSITION & ADIPO\\_EA & ADIPO\\_NEA & ADIPO\\_EAF & ADIPO\\_N & ADIPO\\_BETA & ADIPO\\_SE & ADIPO\\_PVALUE & ... & STAT2\\_RE2 & PVALUE\\_BE & I\\_SQUARE & Q & PVALUE\\_Q & TAU\\_SQUARE & PVALUE\\_ADIPOGEN & PVALUE\\_METSIM & TOTAL\\_N & MAF\\_AVG\\\\\n",
       " <chr> & <int> & <int> & <chr> & <chr> & <dbl> & <int> & <dbl> & <dbl> & <dbl> & ... & <dbl> & <lgl> & <dbl> & <dbl> & <dbl> & <dbl> & <dbl> & <dbl> & <dbl> & <dbl>\\\\\n",
       "\\hline\n",
       "\t rs11023332 & 11 & 14784110 & C & G & 0.4333 & 29304 & -0.021722 & 0.004365 & 1.42e-06 & ... & 2.22045e-16 & NA & 37.8282 & 1.60845 & 0.204711 & 7.86974e-05 & 6.47766e-07 & 0.00650985 & 38540 & 0.4349799\\\\\n",
       "\\end{tabular}\n"
      ],
      "text/markdown": [
       "\n",
       "A data.frame: 1 × 35\n",
       "\n",
       "| MARKERNAME &lt;chr&gt; | CHROMOSOME &lt;int&gt; | POSITION &lt;int&gt; | ADIPO_EA &lt;chr&gt; | ADIPO_NEA &lt;chr&gt; | ADIPO_EAF &lt;dbl&gt; | ADIPO_N &lt;int&gt; | ADIPO_BETA &lt;dbl&gt; | ADIPO_SE &lt;dbl&gt; | ADIPO_PVALUE &lt;dbl&gt; | ... ... | STAT2_RE2 &lt;dbl&gt; | PVALUE_BE &lt;lgl&gt; | I_SQUARE &lt;dbl&gt; | Q &lt;dbl&gt; | PVALUE_Q &lt;dbl&gt; | TAU_SQUARE &lt;dbl&gt; | PVALUE_ADIPOGEN &lt;dbl&gt; | PVALUE_METSIM &lt;dbl&gt; | TOTAL_N &lt;dbl&gt; | MAF_AVG &lt;dbl&gt; |\n",
       "|---|---|---|---|---|---|---|---|---|---|---|---|---|---|---|---|---|---|---|---|---|\n",
       "| rs11023332 | 11 | 14784110 | C | G | 0.4333 | 29304 | -0.021722 | 0.004365 | 1.42e-06 | ... | 2.22045e-16 | NA | 37.8282 | 1.60845 | 0.204711 | 7.86974e-05 | 6.47766e-07 | 0.00650985 | 38540 | 0.4349799 |\n",
       "\n"
      ],
      "text/plain": [
       "  MARKERNAME CHROMOSOME POSITION ADIPO_EA ADIPO_NEA ADIPO_EAF ADIPO_N\n",
       "1 rs11023332 11         14784110 C        G         0.4333    29304  \n",
       "  ADIPO_BETA ADIPO_SE ADIPO_PVALUE ... STAT2_RE2   PVALUE_BE I_SQUARE Q      \n",
       "1 -0.021722  0.004365 1.42e-06     ... 2.22045e-16 NA        37.8282  1.60845\n",
       "  PVALUE_Q TAU_SQUARE  PVALUE_ADIPOGEN PVALUE_METSIM TOTAL_N MAF_AVG  \n",
       "1 0.204711 7.86974e-05 6.47766e-07     0.00650985    38540   0.4349799"
      ]
     },
     "metadata": {},
     "output_type": "display_data"
    }
   ],
   "source": [
    "EUR_RESULTS%>%filter(MARKERNAME==\"rs11023332\")"
   ]
  },
  {
   "cell_type": "code",
   "execution_count": null,
   "id": "1504f329",
   "metadata": {},
   "outputs": [],
   "source": []
  }
 ],
 "metadata": {
  "kernelspec": {
   "display_name": "R",
   "language": "R",
   "name": "ir"
  },
  "language_info": {
   "codemirror_mode": "r",
   "file_extension": ".r",
   "mimetype": "text/x-r-source",
   "name": "R",
   "pygments_lexer": "r",
   "version": "4.2.0"
  }
 },
 "nbformat": 4,
 "nbformat_minor": 5
}
