{
 "cells": [
  {
   "cell_type": "code",
   "execution_count": 1,
   "id": "9c6b22fe-9588-4617-a2d0-ddd06b380d57",
   "metadata": {},
   "outputs": [
    {
     "ename": "NameError",
     "evalue": "name 'library' is not defined",
     "output_type": "error",
     "traceback": [
      "\u001b[1;31m---------------------------------------------------------------------------\u001b[0m",
      "\u001b[1;31mNameError\u001b[0m                                 Traceback (most recent call last)",
      "Input \u001b[1;32mIn [1]\u001b[0m, in \u001b[0;36m<cell line: 1>\u001b[1;34m()\u001b[0m\n\u001b[1;32m----> 1\u001b[0m \u001b[43mlibrary\u001b[49m(devtools)\n\u001b[0;32m      2\u001b[0m install_github(\u001b[38;5;124m\"\u001b[39m\u001b[38;5;124mdjmcrouch/priorsplitteR\u001b[39m\u001b[38;5;124m\"\u001b[39m)\n\u001b[0;32m      4\u001b[0m \u001b[38;5;66;03m#Run (in R):\u001b[39;00m\n\u001b[0;32m      5\u001b[0m \u001b[38;5;66;03m#Beta and s should be vectors of the same length. Seed is a scalar.\u001b[39;00m\n",
      "\u001b[1;31mNameError\u001b[0m: name 'library' is not defined"
     ]
    }
   ],
   "source": [
    "library(devtools)\n",
    "install_github(\"djmcrouch/priorsplitteR\")\n",
    "\n",
    "#Run (in R):\n",
    "#Beta and s should be vectors of the same length. Seed is a scalar.\n",
    "BFDR.priorsplitteR(beta=beta,s=s,seed=seed,outFileStem=\"outFileStem\")"
   ]
  },
  {
   "cell_type": "code",
   "execution_count": 2,
   "id": "b51cd946-35cf-4d8e-91e2-158ac0a39463",
   "metadata": {},
   "outputs": [
    {
     "name": "stdout",
     "output_type": "stream",
     "text": [
      "3.9.12 (main, Apr  4 2022, 05:22:27) [MSC v.1916 64 bit (AMD64)]\n"
     ]
    }
   ],
   "source": [
    "import sys\n",
    "print (sys.version)"
   ]
  },
  {
   "cell_type": "code",
   "execution_count": null,
   "id": "5e13b1c1-0c8b-4ccc-a57d-79f7af4e8f17",
   "metadata": {},
   "outputs": [],
   "source": []
  }
 ],
 "metadata": {
  "kernelspec": {
   "display_name": "Python 3 (ipykernel)",
   "language": "python",
   "name": "python3"
  },
  "language_info": {
   "codemirror_mode": {
    "name": "ipython",
    "version": 3
   },
   "file_extension": ".py",
   "mimetype": "text/x-python",
   "name": "python",
   "nbconvert_exporter": "python",
   "pygments_lexer": "ipython3",
   "version": "3.9.12"
  }
 },
 "nbformat": 4,
 "nbformat_minor": 5
}
