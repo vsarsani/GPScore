{
 "cells": [
  {
   "cell_type": "code",
   "execution_count": 1,
   "id": "1b6318c5",
   "metadata": {},
   "outputs": [],
   "source": [
    "suppressMessages(suppressWarnings(library(tidyverse)))"
   ]
  },
  {
   "cell_type": "code",
   "execution_count": 2,
   "id": "ffc9ce8a",
   "metadata": {},
   "outputs": [],
   "source": [
    "### Load hg19 gene,TSS information"
   ]
  },
  {
   "cell_type": "code",
   "execution_count": 13,
   "id": "ae8f4ee3",
   "metadata": {},
   "outputs": [],
   "source": [
    "gene_annotation<- read.table(\"../../ANALYSIS/gene_annot_jun10.txt\",header=T)"
   ]
  },
  {
   "cell_type": "code",
   "execution_count": 14,
   "id": "374feced",
   "metadata": {},
   "outputs": [
    {
     "data": {
      "text/html": [
       "<table class=\"dataframe\">\n",
       "<caption>A data.frame: 6 × 6</caption>\n",
       "<thead>\n",
       "\t<tr><th></th><th scope=col>ENSGID</th><th scope=col>NAME</th><th scope=col>CHR</th><th scope=col>START</th><th scope=col>END</th><th scope=col>TSS</th></tr>\n",
       "\t<tr><th></th><th scope=col>&lt;chr&gt;</th><th scope=col>&lt;chr&gt;</th><th scope=col>&lt;int&gt;</th><th scope=col>&lt;int&gt;</th><th scope=col>&lt;int&gt;</th><th scope=col>&lt;int&gt;</th></tr>\n",
       "</thead>\n",
       "<tbody>\n",
       "\t<tr><th scope=row>1</th><td>ENSG00000186092</td><td>OR4F5 </td><td>1</td><td> 69091</td><td> 70008</td><td> 69091</td></tr>\n",
       "\t<tr><th scope=row>2</th><td>ENSG00000235249</td><td>OR4F29</td><td>1</td><td>367640</td><td>368634</td><td>367640</td></tr>\n",
       "\t<tr><th scope=row>3</th><td>ENSG00000185097</td><td>OR4F16</td><td>1</td><td>621059</td><td>622053</td><td>622053</td></tr>\n",
       "\t<tr><th scope=row>4</th><td>ENSG00000187634</td><td>SAMD11</td><td>1</td><td>860260</td><td>879955</td><td>860260</td></tr>\n",
       "\t<tr><th scope=row>5</th><td>ENSG00000188976</td><td>NOC2L </td><td>1</td><td>879584</td><td>894689</td><td>894689</td></tr>\n",
       "\t<tr><th scope=row>6</th><td>ENSG00000187961</td><td>KLHL17</td><td>1</td><td>895967</td><td>901095</td><td>895967</td></tr>\n",
       "</tbody>\n",
       "</table>\n"
      ],
      "text/latex": [
       "A data.frame: 6 × 6\n",
       "\\begin{tabular}{r|llllll}\n",
       "  & ENSGID & NAME & CHR & START & END & TSS\\\\\n",
       "  & <chr> & <chr> & <int> & <int> & <int> & <int>\\\\\n",
       "\\hline\n",
       "\t1 & ENSG00000186092 & OR4F5  & 1 &  69091 &  70008 &  69091\\\\\n",
       "\t2 & ENSG00000235249 & OR4F29 & 1 & 367640 & 368634 & 367640\\\\\n",
       "\t3 & ENSG00000185097 & OR4F16 & 1 & 621059 & 622053 & 622053\\\\\n",
       "\t4 & ENSG00000187634 & SAMD11 & 1 & 860260 & 879955 & 860260\\\\\n",
       "\t5 & ENSG00000188976 & NOC2L  & 1 & 879584 & 894689 & 894689\\\\\n",
       "\t6 & ENSG00000187961 & KLHL17 & 1 & 895967 & 901095 & 895967\\\\\n",
       "\\end{tabular}\n"
      ],
      "text/markdown": [
       "\n",
       "A data.frame: 6 × 6\n",
       "\n",
       "| <!--/--> | ENSGID &lt;chr&gt; | NAME &lt;chr&gt; | CHR &lt;int&gt; | START &lt;int&gt; | END &lt;int&gt; | TSS &lt;int&gt; |\n",
       "|---|---|---|---|---|---|---|\n",
       "| 1 | ENSG00000186092 | OR4F5  | 1 |  69091 |  70008 |  69091 |\n",
       "| 2 | ENSG00000235249 | OR4F29 | 1 | 367640 | 368634 | 367640 |\n",
       "| 3 | ENSG00000185097 | OR4F16 | 1 | 621059 | 622053 | 622053 |\n",
       "| 4 | ENSG00000187634 | SAMD11 | 1 | 860260 | 879955 | 860260 |\n",
       "| 5 | ENSG00000188976 | NOC2L  | 1 | 879584 | 894689 | 894689 |\n",
       "| 6 | ENSG00000187961 | KLHL17 | 1 | 895967 | 901095 | 895967 |\n",
       "\n"
      ],
      "text/plain": [
       "  ENSGID          NAME   CHR START  END    TSS   \n",
       "1 ENSG00000186092 OR4F5  1    69091  70008  69091\n",
       "2 ENSG00000235249 OR4F29 1   367640 368634 367640\n",
       "3 ENSG00000185097 OR4F16 1   621059 622053 622053\n",
       "4 ENSG00000187634 SAMD11 1   860260 879955 860260\n",
       "5 ENSG00000188976 NOC2L  1   879584 894689 894689\n",
       "6 ENSG00000187961 KLHL17 1   895967 901095 895967"
      ]
     },
     "metadata": {},
     "output_type": "display_data"
    }
   ],
   "source": [
    "head(gene_annotation)"
   ]
  },
  {
   "cell_type": "code",
   "execution_count": 15,
   "id": "3932a829",
   "metadata": {},
   "outputs": [],
   "source": [
    "## Trans"
   ]
  },
  {
   "cell_type": "code",
   "execution_count": 16,
   "id": "e12b3017",
   "metadata": {},
   "outputs": [],
   "source": [
    "eur_lead <- read.table(\"../../ANALYSIS/EUROPEAN_LEAD.TAB\",header=T)"
   ]
  },
  {
   "cell_type": "code",
   "execution_count": 17,
   "id": "0745cd7f",
   "metadata": {},
   "outputs": [],
   "source": [
    "#gene to variant mapping"
   ]
  },
  {
   "cell_type": "code",
   "execution_count": 18,
   "id": "16eac77e",
   "metadata": {},
   "outputs": [],
   "source": [
    "gene_variant <- data.frame()\n",
    "\n",
    "for (i in 1:nrow(eur_lead) ){\n",
    "   \n",
    "line_q <- eur_lead[i,]\n",
    "marker_q <- as.character(line_q[1])\n",
    "chr_q <- as.integer(line_q[2])\n",
    "start_q<- as.integer(line_q[5])\n",
    "end_q <- as.integer(line_q[6])\n",
    "lead_q <- as.integer(line_q[4])\n",
    "position_q <- as.integer(line_q[3])\n",
    "tmp_df <- gene_annotation%>%filter(CHR==chr_q & START >= start_q & END <= end_q)%>%mutate(INDEX=marker_q,WINDOW=lead_q,POSITION=position_q,TSS_DISTANCE=abs(TSS-POSITION))\n",
    "gene_variant <- rbind(gene_variant,tmp_df)\n",
    "}"
   ]
  },
  {
   "cell_type": "code",
   "execution_count": 19,
   "id": "dc9fa37a",
   "metadata": {},
   "outputs": [],
   "source": [
    "###MAGMA"
   ]
  },
  {
   "cell_type": "code",
   "execution_count": 20,
   "id": "eb753c2c",
   "metadata": {},
   "outputs": [],
   "source": [
    "trans_magma <- read.table(\"../../ANALYSIS/POPS/EUR_MAGMA.genes.out\",header=T)%>%rename(ENSGID=GENE)\n",
    "gene_variant_1 <- merge(gene_variant,trans_magma,by=\"ENSGID\")%>%dplyr::select(ENSGID,NAME,CHR.x,START.x,END,TSS,INDEX,WINDOW,POSITION,TSS_DISTANCE,P)%>%rename(CHR=CHR.x,START=START.x,MAGMA_P=P)"
   ]
  },
  {
   "cell_type": "code",
   "execution_count": 21,
   "id": "7b7540dc",
   "metadata": {},
   "outputs": [
    {
     "data": {
      "text/html": [
       "<table class=\"dataframe\">\n",
       "<caption>A data.frame: 6 × 11</caption>\n",
       "<thead>\n",
       "\t<tr><th></th><th scope=col>ENSGID</th><th scope=col>NAME</th><th scope=col>CHR</th><th scope=col>START</th><th scope=col>END</th><th scope=col>TSS</th><th scope=col>INDEX</th><th scope=col>WINDOW</th><th scope=col>POSITION</th><th scope=col>TSS_DISTANCE</th><th scope=col>MAGMA_P</th></tr>\n",
       "\t<tr><th></th><th scope=col>&lt;chr&gt;</th><th scope=col>&lt;chr&gt;</th><th scope=col>&lt;int&gt;</th><th scope=col>&lt;int&gt;</th><th scope=col>&lt;int&gt;</th><th scope=col>&lt;int&gt;</th><th scope=col>&lt;chr&gt;</th><th scope=col>&lt;int&gt;</th><th scope=col>&lt;int&gt;</th><th scope=col>&lt;int&gt;</th><th scope=col>&lt;dbl&gt;</th></tr>\n",
       "</thead>\n",
       "<tbody>\n",
       "\t<tr><th scope=row>1</th><td>ENSG00000004700</td><td>RECQL </td><td>12</td><td>21621845</td><td>21654603</td><td>21654603</td><td>rs11045172</td><td>12</td><td>20470221</td><td>1184382</td><td>1.1917e-02</td></tr>\n",
       "\t<tr><th scope=row>2</th><td>ENSG00000004975</td><td>DVL2  </td><td>17</td><td> 7128660</td><td> 7137864</td><td> 7137864</td><td>rs17805277</td><td>18</td><td> 7201753</td><td>  63889</td><td>1.4694e-09</td></tr>\n",
       "\t<tr><th scope=row>3</th><td>ENSG00000006047</td><td>YBX2  </td><td>17</td><td> 7191571</td><td> 7197934</td><td> 7197934</td><td>rs17805277</td><td>18</td><td> 7201753</td><td>   3819</td><td>1.8854e-09</td></tr>\n",
       "\t<tr><th scope=row>4</th><td>ENSG00000010318</td><td>PHF7  </td><td> 3</td><td>52444673</td><td>52457657</td><td>52444673</td><td>rs1108842 </td><td> 3</td><td>52720080</td><td> 275407</td><td>2.0366e-11</td></tr>\n",
       "\t<tr><th scope=row>5</th><td>ENSG00000010319</td><td>SEMA3G</td><td> 3</td><td>52467069</td><td>52479101</td><td>52479101</td><td>rs1108842 </td><td> 3</td><td>52720080</td><td> 240979</td><td>1.6927e-11</td></tr>\n",
       "\t<tr><th scope=row>6</th><td>ENSG00000010322</td><td>NISCH </td><td> 3</td><td>52489134</td><td>52527087</td><td>52489134</td><td>rs1108842 </td><td> 3</td><td>52720080</td><td> 230946</td><td>1.2830e-11</td></tr>\n",
       "</tbody>\n",
       "</table>\n"
      ],
      "text/latex": [
       "A data.frame: 6 × 11\n",
       "\\begin{tabular}{r|lllllllllll}\n",
       "  & ENSGID & NAME & CHR & START & END & TSS & INDEX & WINDOW & POSITION & TSS\\_DISTANCE & MAGMA\\_P\\\\\n",
       "  & <chr> & <chr> & <int> & <int> & <int> & <int> & <chr> & <int> & <int> & <int> & <dbl>\\\\\n",
       "\\hline\n",
       "\t1 & ENSG00000004700 & RECQL  & 12 & 21621845 & 21654603 & 21654603 & rs11045172 & 12 & 20470221 & 1184382 & 1.1917e-02\\\\\n",
       "\t2 & ENSG00000004975 & DVL2   & 17 &  7128660 &  7137864 &  7137864 & rs17805277 & 18 &  7201753 &   63889 & 1.4694e-09\\\\\n",
       "\t3 & ENSG00000006047 & YBX2   & 17 &  7191571 &  7197934 &  7197934 & rs17805277 & 18 &  7201753 &    3819 & 1.8854e-09\\\\\n",
       "\t4 & ENSG00000010318 & PHF7   &  3 & 52444673 & 52457657 & 52444673 & rs1108842  &  3 & 52720080 &  275407 & 2.0366e-11\\\\\n",
       "\t5 & ENSG00000010319 & SEMA3G &  3 & 52467069 & 52479101 & 52479101 & rs1108842  &  3 & 52720080 &  240979 & 1.6927e-11\\\\\n",
       "\t6 & ENSG00000010322 & NISCH  &  3 & 52489134 & 52527087 & 52489134 & rs1108842  &  3 & 52720080 &  230946 & 1.2830e-11\\\\\n",
       "\\end{tabular}\n"
      ],
      "text/markdown": [
       "\n",
       "A data.frame: 6 × 11\n",
       "\n",
       "| <!--/--> | ENSGID &lt;chr&gt; | NAME &lt;chr&gt; | CHR &lt;int&gt; | START &lt;int&gt; | END &lt;int&gt; | TSS &lt;int&gt; | INDEX &lt;chr&gt; | WINDOW &lt;int&gt; | POSITION &lt;int&gt; | TSS_DISTANCE &lt;int&gt; | MAGMA_P &lt;dbl&gt; |\n",
       "|---|---|---|---|---|---|---|---|---|---|---|---|\n",
       "| 1 | ENSG00000004700 | RECQL  | 12 | 21621845 | 21654603 | 21654603 | rs11045172 | 12 | 20470221 | 1184382 | 1.1917e-02 |\n",
       "| 2 | ENSG00000004975 | DVL2   | 17 |  7128660 |  7137864 |  7137864 | rs17805277 | 18 |  7201753 |   63889 | 1.4694e-09 |\n",
       "| 3 | ENSG00000006047 | YBX2   | 17 |  7191571 |  7197934 |  7197934 | rs17805277 | 18 |  7201753 |    3819 | 1.8854e-09 |\n",
       "| 4 | ENSG00000010318 | PHF7   |  3 | 52444673 | 52457657 | 52444673 | rs1108842  |  3 | 52720080 |  275407 | 2.0366e-11 |\n",
       "| 5 | ENSG00000010319 | SEMA3G |  3 | 52467069 | 52479101 | 52479101 | rs1108842  |  3 | 52720080 |  240979 | 1.6927e-11 |\n",
       "| 6 | ENSG00000010322 | NISCH  |  3 | 52489134 | 52527087 | 52489134 | rs1108842  |  3 | 52720080 |  230946 | 1.2830e-11 |\n",
       "\n"
      ],
      "text/plain": [
       "  ENSGID          NAME   CHR START    END      TSS      INDEX      WINDOW\n",
       "1 ENSG00000004700 RECQL  12  21621845 21654603 21654603 rs11045172 12    \n",
       "2 ENSG00000004975 DVL2   17   7128660  7137864  7137864 rs17805277 18    \n",
       "3 ENSG00000006047 YBX2   17   7191571  7197934  7197934 rs17805277 18    \n",
       "4 ENSG00000010318 PHF7    3  52444673 52457657 52444673 rs1108842   3    \n",
       "5 ENSG00000010319 SEMA3G  3  52467069 52479101 52479101 rs1108842   3    \n",
       "6 ENSG00000010322 NISCH   3  52489134 52527087 52489134 rs1108842   3    \n",
       "  POSITION TSS_DISTANCE MAGMA_P   \n",
       "1 20470221 1184382      1.1917e-02\n",
       "2  7201753   63889      1.4694e-09\n",
       "3  7201753    3819      1.8854e-09\n",
       "4 52720080  275407      2.0366e-11\n",
       "5 52720080  240979      1.6927e-11\n",
       "6 52720080  230946      1.2830e-11"
      ]
     },
     "metadata": {},
     "output_type": "display_data"
    }
   ],
   "source": [
    "head(gene_variant_1)"
   ]
  },
  {
   "cell_type": "code",
   "execution_count": 22,
   "id": "b0c003eb-e4c8-4168-8fc5-950005867062",
   "metadata": {},
   "outputs": [
    {
     "data": {
      "text/html": [
       "<table class=\"dataframe\">\n",
       "<caption>A data.frame: 14 × 11</caption>\n",
       "<thead>\n",
       "\t<tr><th scope=col>ENSGID</th><th scope=col>NAME</th><th scope=col>CHR</th><th scope=col>START</th><th scope=col>END</th><th scope=col>TSS</th><th scope=col>INDEX</th><th scope=col>WINDOW</th><th scope=col>POSITION</th><th scope=col>TSS_DISTANCE</th><th scope=col>MAGMA_P</th></tr>\n",
       "\t<tr><th scope=col>&lt;chr&gt;</th><th scope=col>&lt;chr&gt;</th><th scope=col>&lt;int&gt;</th><th scope=col>&lt;int&gt;</th><th scope=col>&lt;int&gt;</th><th scope=col>&lt;int&gt;</th><th scope=col>&lt;chr&gt;</th><th scope=col>&lt;int&gt;</th><th scope=col>&lt;int&gt;</th><th scope=col>&lt;int&gt;</th><th scope=col>&lt;dbl&gt;</th></tr>\n",
       "</thead>\n",
       "<tbody>\n",
       "\t<tr><td>ENSG00000067533</td><td>RRP15   </td><td>1</td><td>218458629</td><td>218511325</td><td>218458629</td><td>rs2061155</td><td>1</td><td>219665008</td><td>1206379</td><td>3.4123e-04</td></tr>\n",
       "\t<tr><td>ENSG00000067704</td><td>IARS2   </td><td>1</td><td>220267444</td><td>220321380</td><td>220267444</td><td>rs2061155</td><td>1</td><td>219665008</td><td> 602436</td><td>6.2294e-05</td></tr>\n",
       "\t<tr><td>ENSG00000092969</td><td>TGFB2   </td><td>1</td><td>218519577</td><td>218617961</td><td>218519577</td><td>rs2061155</td><td>1</td><td>219665008</td><td>1145431</td><td>9.9161e-06</td></tr>\n",
       "\t<tr><td>ENSG00000116141</td><td>MARK1   </td><td>1</td><td>220701568</td><td>220837803</td><td>220701568</td><td>rs2061155</td><td>1</td><td>219665008</td><td>1036560</td><td>5.0570e-04</td></tr>\n",
       "\t<tr><td>ENSG00000117791</td><td>MARC2   </td><td>1</td><td>220921567</td><td>220958150</td><td>220921567</td><td>rs2061155</td><td>1</td><td>219665008</td><td>1256559</td><td>5.0570e-04</td></tr>\n",
       "\t<tr><td>ENSG00000118873</td><td>RAB3GAP2</td><td>1</td><td>220321635</td><td>220445796</td><td>220445796</td><td>rs2061155</td><td>1</td><td>219665008</td><td> 780788</td><td>6.7536e-03</td></tr>\n",
       "\t<tr><td>ENSG00000136628</td><td>EPRS    </td><td>1</td><td>220141943</td><td>220220000</td><td>220220000</td><td>rs2061155</td><td>1</td><td>219665008</td><td> 554992</td><td>2.9347e-10</td></tr>\n",
       "\t<tr><td>ENSG00000136630</td><td>HLX     </td><td>1</td><td>221051699</td><td>221058401</td><td>221051699</td><td>rs2061155</td><td>1</td><td>219665008</td><td>1386691</td><td>2.3861e-03</td></tr>\n",
       "\t<tr><td>ENSG00000143353</td><td>LYPLAL1 </td><td>1</td><td>219347186</td><td>219386207</td><td>219347186</td><td>rs2061155</td><td>1</td><td>219665008</td><td> 317822</td><td>1.1898e-10</td></tr>\n",
       "\t<tr><td>ENSG00000162813</td><td>BPNT1   </td><td>1</td><td>220230824</td><td>220263804</td><td>220263804</td><td>rs2061155</td><td>1</td><td>219665008</td><td> 598796</td><td>4.0189e-06</td></tr>\n",
       "\t<tr><td>ENSG00000162817</td><td>C1orf115</td><td>1</td><td>220863187</td><td>220872499</td><td>220863187</td><td>rs2061155</td><td>1</td><td>219665008</td><td>1198179</td><td>5.0570e-04</td></tr>\n",
       "\t<tr><td>ENSG00000186205</td><td>MARC1   </td><td>1</td><td>220960101</td><td>220987735</td><td>220960101</td><td>rs2061155</td><td>1</td><td>219665008</td><td>1295093</td><td>5.0570e-04</td></tr>\n",
       "\t<tr><td>ENSG00000196660</td><td>SLC30A10</td><td>1</td><td>219858769</td><td>220131989</td><td>220131989</td><td>rs2061155</td><td>1</td><td>219665008</td><td> 466981</td><td>2.2405e-10</td></tr>\n",
       "\t<tr><td>ENSG00000228208</td><td>C1orf143</td><td>1</td><td>218683438</td><td>218699320</td><td>218683438</td><td>rs2061155</td><td>1</td><td>219665008</td><td> 981570</td><td>1.9844e-04</td></tr>\n",
       "</tbody>\n",
       "</table>\n"
      ],
      "text/latex": [
       "A data.frame: 14 × 11\n",
       "\\begin{tabular}{lllllllllll}\n",
       " ENSGID & NAME & CHR & START & END & TSS & INDEX & WINDOW & POSITION & TSS\\_DISTANCE & MAGMA\\_P\\\\\n",
       " <chr> & <chr> & <int> & <int> & <int> & <int> & <chr> & <int> & <int> & <int> & <dbl>\\\\\n",
       "\\hline\n",
       "\t ENSG00000067533 & RRP15    & 1 & 218458629 & 218511325 & 218458629 & rs2061155 & 1 & 219665008 & 1206379 & 3.4123e-04\\\\\n",
       "\t ENSG00000067704 & IARS2    & 1 & 220267444 & 220321380 & 220267444 & rs2061155 & 1 & 219665008 &  602436 & 6.2294e-05\\\\\n",
       "\t ENSG00000092969 & TGFB2    & 1 & 218519577 & 218617961 & 218519577 & rs2061155 & 1 & 219665008 & 1145431 & 9.9161e-06\\\\\n",
       "\t ENSG00000116141 & MARK1    & 1 & 220701568 & 220837803 & 220701568 & rs2061155 & 1 & 219665008 & 1036560 & 5.0570e-04\\\\\n",
       "\t ENSG00000117791 & MARC2    & 1 & 220921567 & 220958150 & 220921567 & rs2061155 & 1 & 219665008 & 1256559 & 5.0570e-04\\\\\n",
       "\t ENSG00000118873 & RAB3GAP2 & 1 & 220321635 & 220445796 & 220445796 & rs2061155 & 1 & 219665008 &  780788 & 6.7536e-03\\\\\n",
       "\t ENSG00000136628 & EPRS     & 1 & 220141943 & 220220000 & 220220000 & rs2061155 & 1 & 219665008 &  554992 & 2.9347e-10\\\\\n",
       "\t ENSG00000136630 & HLX      & 1 & 221051699 & 221058401 & 221051699 & rs2061155 & 1 & 219665008 & 1386691 & 2.3861e-03\\\\\n",
       "\t ENSG00000143353 & LYPLAL1  & 1 & 219347186 & 219386207 & 219347186 & rs2061155 & 1 & 219665008 &  317822 & 1.1898e-10\\\\\n",
       "\t ENSG00000162813 & BPNT1    & 1 & 220230824 & 220263804 & 220263804 & rs2061155 & 1 & 219665008 &  598796 & 4.0189e-06\\\\\n",
       "\t ENSG00000162817 & C1orf115 & 1 & 220863187 & 220872499 & 220863187 & rs2061155 & 1 & 219665008 & 1198179 & 5.0570e-04\\\\\n",
       "\t ENSG00000186205 & MARC1    & 1 & 220960101 & 220987735 & 220960101 & rs2061155 & 1 & 219665008 & 1295093 & 5.0570e-04\\\\\n",
       "\t ENSG00000196660 & SLC30A10 & 1 & 219858769 & 220131989 & 220131989 & rs2061155 & 1 & 219665008 &  466981 & 2.2405e-10\\\\\n",
       "\t ENSG00000228208 & C1orf143 & 1 & 218683438 & 218699320 & 218683438 & rs2061155 & 1 & 219665008 &  981570 & 1.9844e-04\\\\\n",
       "\\end{tabular}\n"
      ],
      "text/markdown": [
       "\n",
       "A data.frame: 14 × 11\n",
       "\n",
       "| ENSGID &lt;chr&gt; | NAME &lt;chr&gt; | CHR &lt;int&gt; | START &lt;int&gt; | END &lt;int&gt; | TSS &lt;int&gt; | INDEX &lt;chr&gt; | WINDOW &lt;int&gt; | POSITION &lt;int&gt; | TSS_DISTANCE &lt;int&gt; | MAGMA_P &lt;dbl&gt; |\n",
       "|---|---|---|---|---|---|---|---|---|---|---|\n",
       "| ENSG00000067533 | RRP15    | 1 | 218458629 | 218511325 | 218458629 | rs2061155 | 1 | 219665008 | 1206379 | 3.4123e-04 |\n",
       "| ENSG00000067704 | IARS2    | 1 | 220267444 | 220321380 | 220267444 | rs2061155 | 1 | 219665008 |  602436 | 6.2294e-05 |\n",
       "| ENSG00000092969 | TGFB2    | 1 | 218519577 | 218617961 | 218519577 | rs2061155 | 1 | 219665008 | 1145431 | 9.9161e-06 |\n",
       "| ENSG00000116141 | MARK1    | 1 | 220701568 | 220837803 | 220701568 | rs2061155 | 1 | 219665008 | 1036560 | 5.0570e-04 |\n",
       "| ENSG00000117791 | MARC2    | 1 | 220921567 | 220958150 | 220921567 | rs2061155 | 1 | 219665008 | 1256559 | 5.0570e-04 |\n",
       "| ENSG00000118873 | RAB3GAP2 | 1 | 220321635 | 220445796 | 220445796 | rs2061155 | 1 | 219665008 |  780788 | 6.7536e-03 |\n",
       "| ENSG00000136628 | EPRS     | 1 | 220141943 | 220220000 | 220220000 | rs2061155 | 1 | 219665008 |  554992 | 2.9347e-10 |\n",
       "| ENSG00000136630 | HLX      | 1 | 221051699 | 221058401 | 221051699 | rs2061155 | 1 | 219665008 | 1386691 | 2.3861e-03 |\n",
       "| ENSG00000143353 | LYPLAL1  | 1 | 219347186 | 219386207 | 219347186 | rs2061155 | 1 | 219665008 |  317822 | 1.1898e-10 |\n",
       "| ENSG00000162813 | BPNT1    | 1 | 220230824 | 220263804 | 220263804 | rs2061155 | 1 | 219665008 |  598796 | 4.0189e-06 |\n",
       "| ENSG00000162817 | C1orf115 | 1 | 220863187 | 220872499 | 220863187 | rs2061155 | 1 | 219665008 | 1198179 | 5.0570e-04 |\n",
       "| ENSG00000186205 | MARC1    | 1 | 220960101 | 220987735 | 220960101 | rs2061155 | 1 | 219665008 | 1295093 | 5.0570e-04 |\n",
       "| ENSG00000196660 | SLC30A10 | 1 | 219858769 | 220131989 | 220131989 | rs2061155 | 1 | 219665008 |  466981 | 2.2405e-10 |\n",
       "| ENSG00000228208 | C1orf143 | 1 | 218683438 | 218699320 | 218683438 | rs2061155 | 1 | 219665008 |  981570 | 1.9844e-04 |\n",
       "\n"
      ],
      "text/plain": [
       "   ENSGID          NAME     CHR START     END       TSS       INDEX     WINDOW\n",
       "1  ENSG00000067533 RRP15    1   218458629 218511325 218458629 rs2061155 1     \n",
       "2  ENSG00000067704 IARS2    1   220267444 220321380 220267444 rs2061155 1     \n",
       "3  ENSG00000092969 TGFB2    1   218519577 218617961 218519577 rs2061155 1     \n",
       "4  ENSG00000116141 MARK1    1   220701568 220837803 220701568 rs2061155 1     \n",
       "5  ENSG00000117791 MARC2    1   220921567 220958150 220921567 rs2061155 1     \n",
       "6  ENSG00000118873 RAB3GAP2 1   220321635 220445796 220445796 rs2061155 1     \n",
       "7  ENSG00000136628 EPRS     1   220141943 220220000 220220000 rs2061155 1     \n",
       "8  ENSG00000136630 HLX      1   221051699 221058401 221051699 rs2061155 1     \n",
       "9  ENSG00000143353 LYPLAL1  1   219347186 219386207 219347186 rs2061155 1     \n",
       "10 ENSG00000162813 BPNT1    1   220230824 220263804 220263804 rs2061155 1     \n",
       "11 ENSG00000162817 C1orf115 1   220863187 220872499 220863187 rs2061155 1     \n",
       "12 ENSG00000186205 MARC1    1   220960101 220987735 220960101 rs2061155 1     \n",
       "13 ENSG00000196660 SLC30A10 1   219858769 220131989 220131989 rs2061155 1     \n",
       "14 ENSG00000228208 C1orf143 1   218683438 218699320 218683438 rs2061155 1     \n",
       "   POSITION  TSS_DISTANCE MAGMA_P   \n",
       "1  219665008 1206379      3.4123e-04\n",
       "2  219665008  602436      6.2294e-05\n",
       "3  219665008 1145431      9.9161e-06\n",
       "4  219665008 1036560      5.0570e-04\n",
       "5  219665008 1256559      5.0570e-04\n",
       "6  219665008  780788      6.7536e-03\n",
       "7  219665008  554992      2.9347e-10\n",
       "8  219665008 1386691      2.3861e-03\n",
       "9  219665008  317822      1.1898e-10\n",
       "10 219665008  598796      4.0189e-06\n",
       "11 219665008 1198179      5.0570e-04\n",
       "12 219665008 1295093      5.0570e-04\n",
       "13 219665008  466981      2.2405e-10\n",
       "14 219665008  981570      1.9844e-04"
      ]
     },
     "metadata": {},
     "output_type": "display_data"
    }
   ],
   "source": [
    "gene_variant_1%>%filter(CHR==1)"
   ]
  },
  {
   "cell_type": "code",
   "execution_count": 23,
   "id": "9d622479",
   "metadata": {},
   "outputs": [],
   "source": [
    "## Colocalization"
   ]
  },
  {
   "cell_type": "code",
   "execution_count": 24,
   "id": "878aa489",
   "metadata": {},
   "outputs": [],
   "source": [
    "trans_coloc <- read.table(\"../../ANALYSIS/COLOC_SUSIE/EUR_ANCESTRY_COLOC_H4.TAB\",header=T)%>%rename(ENSGID=Probe)%>%dplyr::select(ENSGID,Tissue,H4_abf)"
   ]
  },
  {
   "cell_type": "code",
   "execution_count": 25,
   "id": "3703f7b1",
   "metadata": {},
   "outputs": [],
   "source": [
    "#trans_coloc_2 <- read.table(\"../../ANALYSIS/GTEX/EUR_EQTL_OVERLAPS.txt\",header=T)\n",
    "#trans_coloc_2 <- merge(gene_variant_1,trans_coloc_2,by=\"NAME\")%>%dplyr::select(ENSGID,Tissue,H4_abf)"
   ]
  },
  {
   "cell_type": "code",
   "execution_count": 26,
   "id": "523c5cde",
   "metadata": {},
   "outputs": [],
   "source": [
    "#trans_coloc <- rbind(trans_coloc_1,trans_coloc_2)"
   ]
  },
  {
   "cell_type": "code",
   "execution_count": 27,
   "id": "ed87b0df",
   "metadata": {},
   "outputs": [],
   "source": [
    "gene_variant_2<- data.frame()\n",
    "for (i in 1:nrow(gene_variant_1) ){\n",
    "line_q <- gene_variant_1[i,]\n",
    "ensg_q <- as.character(line_q[1])\n",
    "genep<- nrow(trans_coloc%>%filter(ENSGID==ensg_q))\n",
    "if (genep>0){\n",
    "c_df <- trans_coloc%>%filter(ENSGID==ensg_q)%>%dplyr::select(Tissue,H4_abf)%>%mutate(weight = case_when(grepl(\"Artery|Adipose|Heart\", Tissue) ~ \"1\",TRUE ~ '0.8'))\n",
    "pip_coloc <- max(c_df$H4_abf)\n",
    "coloc_weight <- max(as.double((c_df%>%filter(H4_abf==pip_coloc))$weight))\n",
    "}else {\n",
    "pip_coloc <- 0\n",
    "coloc_weight <- 0\n",
    "}\n",
    "tmp_df <- gene_variant_1[i,]%>%mutate(coloc_pip=pip_coloc,coloc_WT=coloc_weight)\n",
    "gene_variant_2 <- rbind(gene_variant_2,tmp_df)\n",
    "}\n"
   ]
  },
  {
   "cell_type": "code",
   "execution_count": 28,
   "id": "8d34f4e2",
   "metadata": {},
   "outputs": [
    {
     "data": {
      "text/html": [
       "<table class=\"dataframe\">\n",
       "<caption>A data.frame: 6 × 13</caption>\n",
       "<thead>\n",
       "\t<tr><th></th><th scope=col>ENSGID</th><th scope=col>NAME</th><th scope=col>CHR</th><th scope=col>START</th><th scope=col>END</th><th scope=col>TSS</th><th scope=col>INDEX</th><th scope=col>WINDOW</th><th scope=col>POSITION</th><th scope=col>TSS_DISTANCE</th><th scope=col>MAGMA_P</th><th scope=col>coloc_pip</th><th scope=col>coloc_WT</th></tr>\n",
       "\t<tr><th></th><th scope=col>&lt;chr&gt;</th><th scope=col>&lt;chr&gt;</th><th scope=col>&lt;int&gt;</th><th scope=col>&lt;int&gt;</th><th scope=col>&lt;int&gt;</th><th scope=col>&lt;int&gt;</th><th scope=col>&lt;chr&gt;</th><th scope=col>&lt;int&gt;</th><th scope=col>&lt;int&gt;</th><th scope=col>&lt;int&gt;</th><th scope=col>&lt;dbl&gt;</th><th scope=col>&lt;dbl&gt;</th><th scope=col>&lt;dbl&gt;</th></tr>\n",
       "</thead>\n",
       "<tbody>\n",
       "\t<tr><th scope=row>1</th><td>ENSG00000004700</td><td>RECQL </td><td>12</td><td>21621845</td><td>21654603</td><td>21654603</td><td>rs11045172</td><td>12</td><td>20470221</td><td>1184382</td><td>1.1917e-02</td><td>0.000000</td><td>0.0</td></tr>\n",
       "\t<tr><th scope=row>2</th><td>ENSG00000004975</td><td>DVL2  </td><td>17</td><td> 7128660</td><td> 7137864</td><td> 7137864</td><td>rs17805277</td><td>18</td><td> 7201753</td><td>  63889</td><td>1.4694e-09</td><td>0.000000</td><td>0.0</td></tr>\n",
       "\t<tr><th scope=row>3</th><td>ENSG00000006047</td><td>YBX2  </td><td>17</td><td> 7191571</td><td> 7197934</td><td> 7197934</td><td>rs17805277</td><td>18</td><td> 7201753</td><td>   3819</td><td>1.8854e-09</td><td>0.516068</td><td>0.8</td></tr>\n",
       "\t<tr><th scope=row>4</th><td>ENSG00000010318</td><td>PHF7  </td><td> 3</td><td>52444673</td><td>52457657</td><td>52444673</td><td>rs1108842 </td><td> 3</td><td>52720080</td><td> 275407</td><td>2.0366e-11</td><td>0.000000</td><td>0.0</td></tr>\n",
       "\t<tr><th scope=row>5</th><td>ENSG00000010319</td><td>SEMA3G</td><td> 3</td><td>52467069</td><td>52479101</td><td>52479101</td><td>rs1108842 </td><td> 3</td><td>52720080</td><td> 240979</td><td>1.6927e-11</td><td>0.000000</td><td>0.0</td></tr>\n",
       "\t<tr><th scope=row>6</th><td>ENSG00000010322</td><td>NISCH </td><td> 3</td><td>52489134</td><td>52527087</td><td>52489134</td><td>rs1108842 </td><td> 3</td><td>52720080</td><td> 230946</td><td>1.2830e-11</td><td>0.000000</td><td>1.0</td></tr>\n",
       "</tbody>\n",
       "</table>\n"
      ],
      "text/latex": [
       "A data.frame: 6 × 13\n",
       "\\begin{tabular}{r|lllllllllllll}\n",
       "  & ENSGID & NAME & CHR & START & END & TSS & INDEX & WINDOW & POSITION & TSS\\_DISTANCE & MAGMA\\_P & coloc\\_pip & coloc\\_WT\\\\\n",
       "  & <chr> & <chr> & <int> & <int> & <int> & <int> & <chr> & <int> & <int> & <int> & <dbl> & <dbl> & <dbl>\\\\\n",
       "\\hline\n",
       "\t1 & ENSG00000004700 & RECQL  & 12 & 21621845 & 21654603 & 21654603 & rs11045172 & 12 & 20470221 & 1184382 & 1.1917e-02 & 0.000000 & 0.0\\\\\n",
       "\t2 & ENSG00000004975 & DVL2   & 17 &  7128660 &  7137864 &  7137864 & rs17805277 & 18 &  7201753 &   63889 & 1.4694e-09 & 0.000000 & 0.0\\\\\n",
       "\t3 & ENSG00000006047 & YBX2   & 17 &  7191571 &  7197934 &  7197934 & rs17805277 & 18 &  7201753 &    3819 & 1.8854e-09 & 0.516068 & 0.8\\\\\n",
       "\t4 & ENSG00000010318 & PHF7   &  3 & 52444673 & 52457657 & 52444673 & rs1108842  &  3 & 52720080 &  275407 & 2.0366e-11 & 0.000000 & 0.0\\\\\n",
       "\t5 & ENSG00000010319 & SEMA3G &  3 & 52467069 & 52479101 & 52479101 & rs1108842  &  3 & 52720080 &  240979 & 1.6927e-11 & 0.000000 & 0.0\\\\\n",
       "\t6 & ENSG00000010322 & NISCH  &  3 & 52489134 & 52527087 & 52489134 & rs1108842  &  3 & 52720080 &  230946 & 1.2830e-11 & 0.000000 & 1.0\\\\\n",
       "\\end{tabular}\n"
      ],
      "text/markdown": [
       "\n",
       "A data.frame: 6 × 13\n",
       "\n",
       "| <!--/--> | ENSGID &lt;chr&gt; | NAME &lt;chr&gt; | CHR &lt;int&gt; | START &lt;int&gt; | END &lt;int&gt; | TSS &lt;int&gt; | INDEX &lt;chr&gt; | WINDOW &lt;int&gt; | POSITION &lt;int&gt; | TSS_DISTANCE &lt;int&gt; | MAGMA_P &lt;dbl&gt; | coloc_pip &lt;dbl&gt; | coloc_WT &lt;dbl&gt; |\n",
       "|---|---|---|---|---|---|---|---|---|---|---|---|---|---|\n",
       "| 1 | ENSG00000004700 | RECQL  | 12 | 21621845 | 21654603 | 21654603 | rs11045172 | 12 | 20470221 | 1184382 | 1.1917e-02 | 0.000000 | 0.0 |\n",
       "| 2 | ENSG00000004975 | DVL2   | 17 |  7128660 |  7137864 |  7137864 | rs17805277 | 18 |  7201753 |   63889 | 1.4694e-09 | 0.000000 | 0.0 |\n",
       "| 3 | ENSG00000006047 | YBX2   | 17 |  7191571 |  7197934 |  7197934 | rs17805277 | 18 |  7201753 |    3819 | 1.8854e-09 | 0.516068 | 0.8 |\n",
       "| 4 | ENSG00000010318 | PHF7   |  3 | 52444673 | 52457657 | 52444673 | rs1108842  |  3 | 52720080 |  275407 | 2.0366e-11 | 0.000000 | 0.0 |\n",
       "| 5 | ENSG00000010319 | SEMA3G |  3 | 52467069 | 52479101 | 52479101 | rs1108842  |  3 | 52720080 |  240979 | 1.6927e-11 | 0.000000 | 0.0 |\n",
       "| 6 | ENSG00000010322 | NISCH  |  3 | 52489134 | 52527087 | 52489134 | rs1108842  |  3 | 52720080 |  230946 | 1.2830e-11 | 0.000000 | 1.0 |\n",
       "\n"
      ],
      "text/plain": [
       "  ENSGID          NAME   CHR START    END      TSS      INDEX      WINDOW\n",
       "1 ENSG00000004700 RECQL  12  21621845 21654603 21654603 rs11045172 12    \n",
       "2 ENSG00000004975 DVL2   17   7128660  7137864  7137864 rs17805277 18    \n",
       "3 ENSG00000006047 YBX2   17   7191571  7197934  7197934 rs17805277 18    \n",
       "4 ENSG00000010318 PHF7    3  52444673 52457657 52444673 rs1108842   3    \n",
       "5 ENSG00000010319 SEMA3G  3  52467069 52479101 52479101 rs1108842   3    \n",
       "6 ENSG00000010322 NISCH   3  52489134 52527087 52489134 rs1108842   3    \n",
       "  POSITION TSS_DISTANCE MAGMA_P    coloc_pip coloc_WT\n",
       "1 20470221 1184382      1.1917e-02 0.000000  0.0     \n",
       "2  7201753   63889      1.4694e-09 0.000000  0.0     \n",
       "3  7201753    3819      1.8854e-09 0.516068  0.8     \n",
       "4 52720080  275407      2.0366e-11 0.000000  0.0     \n",
       "5 52720080  240979      1.6927e-11 0.000000  0.0     \n",
       "6 52720080  230946      1.2830e-11 0.000000  1.0     "
      ]
     },
     "metadata": {},
     "output_type": "display_data"
    }
   ],
   "source": [
    "head(gene_variant_2)"
   ]
  },
  {
   "cell_type": "code",
   "execution_count": 29,
   "id": "007c1f53",
   "metadata": {},
   "outputs": [],
   "source": [
    "##SMR"
   ]
  },
  {
   "cell_type": "code",
   "execution_count": 30,
   "id": "92f0e194",
   "metadata": {},
   "outputs": [],
   "source": [
    "trans_smr <- read.table(\"../../ANALYSIS/SMR/Eur_ancestry_SMR.tab\",header=T)%>%rename(ENSGID=probeID)"
   ]
  },
  {
   "cell_type": "code",
   "execution_count": 31,
   "id": "4f330794",
   "metadata": {},
   "outputs": [],
   "source": [
    "gene_variant_3 <- data.frame()\n",
    "for (i in 1:nrow(gene_variant_2) ){\n",
    "line_q <- gene_variant_2[i,]\n",
    "ensg_q <- as.character(line_q[1])\n",
    "genep<- nrow(trans_smr%>%filter(ENSGID==ensg_q))\n",
    "if (genep>0){\n",
    "smr_df <- trans_smr%>%filter(ENSGID==ensg_q)%>%dplyr::select(filename,p_SMR)%>%mutate(weight_smr = case_when(grepl(\"Artery|Adipose|Heart\", filename) ~ \"1\",TRUE ~ '0.8'))\n",
    "p_smr <- min(smr_df$p_SMR)\n",
    "smr_weight <- max(as.double((smr_df%>%filter(p_SMR==p_smr))$weight_smr))\n",
    "}else {\n",
    "p_smr <- NA\n",
    "smr_weight <-0 \n",
    "}\n",
    "tmp_df <- gene_variant_2[i,]%>%mutate(p_SMR=p_smr,SMR_WT=smr_weight)\n",
    "gene_variant_3 <- rbind(gene_variant_3,tmp_df)\n",
    "}\n"
   ]
  },
  {
   "cell_type": "code",
   "execution_count": 32,
   "id": "2af9dd9e",
   "metadata": {},
   "outputs": [
    {
     "data": {
      "text/html": [
       "<table class=\"dataframe\">\n",
       "<caption>A data.frame: 6 × 15</caption>\n",
       "<thead>\n",
       "\t<tr><th></th><th scope=col>ENSGID</th><th scope=col>NAME</th><th scope=col>CHR</th><th scope=col>START</th><th scope=col>END</th><th scope=col>TSS</th><th scope=col>INDEX</th><th scope=col>WINDOW</th><th scope=col>POSITION</th><th scope=col>TSS_DISTANCE</th><th scope=col>MAGMA_P</th><th scope=col>coloc_pip</th><th scope=col>coloc_WT</th><th scope=col>p_SMR</th><th scope=col>SMR_WT</th></tr>\n",
       "\t<tr><th></th><th scope=col>&lt;chr&gt;</th><th scope=col>&lt;chr&gt;</th><th scope=col>&lt;int&gt;</th><th scope=col>&lt;int&gt;</th><th scope=col>&lt;int&gt;</th><th scope=col>&lt;int&gt;</th><th scope=col>&lt;chr&gt;</th><th scope=col>&lt;int&gt;</th><th scope=col>&lt;int&gt;</th><th scope=col>&lt;int&gt;</th><th scope=col>&lt;dbl&gt;</th><th scope=col>&lt;dbl&gt;</th><th scope=col>&lt;dbl&gt;</th><th scope=col>&lt;dbl&gt;</th><th scope=col>&lt;dbl&gt;</th></tr>\n",
       "</thead>\n",
       "<tbody>\n",
       "\t<tr><th scope=row>1</th><td>ENSG00000004700</td><td>RECQL </td><td>12</td><td>21621845</td><td>21654603</td><td>21654603</td><td>rs11045172</td><td>12</td><td>20470221</td><td>1184382</td><td>1.1917e-02</td><td>0.000000</td><td>0.0</td><td>         NA</td><td>0.0</td></tr>\n",
       "\t<tr><th scope=row>2</th><td>ENSG00000004975</td><td>DVL2  </td><td>17</td><td> 7128660</td><td> 7137864</td><td> 7137864</td><td>rs17805277</td><td>18</td><td> 7201753</td><td>  63889</td><td>1.4694e-09</td><td>0.000000</td><td>0.0</td><td>         NA</td><td>0.0</td></tr>\n",
       "\t<tr><th scope=row>3</th><td>ENSG00000006047</td><td>YBX2  </td><td>17</td><td> 7191571</td><td> 7197934</td><td> 7197934</td><td>rs17805277</td><td>18</td><td> 7201753</td><td>   3819</td><td>1.8854e-09</td><td>0.516068</td><td>0.8</td><td>0.000010196</td><td>0.8</td></tr>\n",
       "\t<tr><th scope=row>4</th><td>ENSG00000010318</td><td>PHF7  </td><td> 3</td><td>52444673</td><td>52457657</td><td>52444673</td><td>rs1108842 </td><td> 3</td><td>52720080</td><td> 275407</td><td>2.0366e-11</td><td>0.000000</td><td>0.0</td><td>         NA</td><td>0.0</td></tr>\n",
       "\t<tr><th scope=row>5</th><td>ENSG00000010319</td><td>SEMA3G</td><td> 3</td><td>52467069</td><td>52479101</td><td>52479101</td><td>rs1108842 </td><td> 3</td><td>52720080</td><td> 240979</td><td>1.6927e-11</td><td>0.000000</td><td>0.0</td><td>         NA</td><td>0.0</td></tr>\n",
       "\t<tr><th scope=row>6</th><td>ENSG00000010322</td><td>NISCH </td><td> 3</td><td>52489134</td><td>52527087</td><td>52489134</td><td>rs1108842 </td><td> 3</td><td>52720080</td><td> 230946</td><td>1.2830e-11</td><td>0.000000</td><td>1.0</td><td>0.038885720</td><td>1.0</td></tr>\n",
       "</tbody>\n",
       "</table>\n"
      ],
      "text/latex": [
       "A data.frame: 6 × 15\n",
       "\\begin{tabular}{r|lllllllllllllll}\n",
       "  & ENSGID & NAME & CHR & START & END & TSS & INDEX & WINDOW & POSITION & TSS\\_DISTANCE & MAGMA\\_P & coloc\\_pip & coloc\\_WT & p\\_SMR & SMR\\_WT\\\\\n",
       "  & <chr> & <chr> & <int> & <int> & <int> & <int> & <chr> & <int> & <int> & <int> & <dbl> & <dbl> & <dbl> & <dbl> & <dbl>\\\\\n",
       "\\hline\n",
       "\t1 & ENSG00000004700 & RECQL  & 12 & 21621845 & 21654603 & 21654603 & rs11045172 & 12 & 20470221 & 1184382 & 1.1917e-02 & 0.000000 & 0.0 &          NA & 0.0\\\\\n",
       "\t2 & ENSG00000004975 & DVL2   & 17 &  7128660 &  7137864 &  7137864 & rs17805277 & 18 &  7201753 &   63889 & 1.4694e-09 & 0.000000 & 0.0 &          NA & 0.0\\\\\n",
       "\t3 & ENSG00000006047 & YBX2   & 17 &  7191571 &  7197934 &  7197934 & rs17805277 & 18 &  7201753 &    3819 & 1.8854e-09 & 0.516068 & 0.8 & 0.000010196 & 0.8\\\\\n",
       "\t4 & ENSG00000010318 & PHF7   &  3 & 52444673 & 52457657 & 52444673 & rs1108842  &  3 & 52720080 &  275407 & 2.0366e-11 & 0.000000 & 0.0 &          NA & 0.0\\\\\n",
       "\t5 & ENSG00000010319 & SEMA3G &  3 & 52467069 & 52479101 & 52479101 & rs1108842  &  3 & 52720080 &  240979 & 1.6927e-11 & 0.000000 & 0.0 &          NA & 0.0\\\\\n",
       "\t6 & ENSG00000010322 & NISCH  &  3 & 52489134 & 52527087 & 52489134 & rs1108842  &  3 & 52720080 &  230946 & 1.2830e-11 & 0.000000 & 1.0 & 0.038885720 & 1.0\\\\\n",
       "\\end{tabular}\n"
      ],
      "text/markdown": [
       "\n",
       "A data.frame: 6 × 15\n",
       "\n",
       "| <!--/--> | ENSGID &lt;chr&gt; | NAME &lt;chr&gt; | CHR &lt;int&gt; | START &lt;int&gt; | END &lt;int&gt; | TSS &lt;int&gt; | INDEX &lt;chr&gt; | WINDOW &lt;int&gt; | POSITION &lt;int&gt; | TSS_DISTANCE &lt;int&gt; | MAGMA_P &lt;dbl&gt; | coloc_pip &lt;dbl&gt; | coloc_WT &lt;dbl&gt; | p_SMR &lt;dbl&gt; | SMR_WT &lt;dbl&gt; |\n",
       "|---|---|---|---|---|---|---|---|---|---|---|---|---|---|---|---|\n",
       "| 1 | ENSG00000004700 | RECQL  | 12 | 21621845 | 21654603 | 21654603 | rs11045172 | 12 | 20470221 | 1184382 | 1.1917e-02 | 0.000000 | 0.0 |          NA | 0.0 |\n",
       "| 2 | ENSG00000004975 | DVL2   | 17 |  7128660 |  7137864 |  7137864 | rs17805277 | 18 |  7201753 |   63889 | 1.4694e-09 | 0.000000 | 0.0 |          NA | 0.0 |\n",
       "| 3 | ENSG00000006047 | YBX2   | 17 |  7191571 |  7197934 |  7197934 | rs17805277 | 18 |  7201753 |    3819 | 1.8854e-09 | 0.516068 | 0.8 | 0.000010196 | 0.8 |\n",
       "| 4 | ENSG00000010318 | PHF7   |  3 | 52444673 | 52457657 | 52444673 | rs1108842  |  3 | 52720080 |  275407 | 2.0366e-11 | 0.000000 | 0.0 |          NA | 0.0 |\n",
       "| 5 | ENSG00000010319 | SEMA3G |  3 | 52467069 | 52479101 | 52479101 | rs1108842  |  3 | 52720080 |  240979 | 1.6927e-11 | 0.000000 | 0.0 |          NA | 0.0 |\n",
       "| 6 | ENSG00000010322 | NISCH  |  3 | 52489134 | 52527087 | 52489134 | rs1108842  |  3 | 52720080 |  230946 | 1.2830e-11 | 0.000000 | 1.0 | 0.038885720 | 1.0 |\n",
       "\n"
      ],
      "text/plain": [
       "  ENSGID          NAME   CHR START    END      TSS      INDEX      WINDOW\n",
       "1 ENSG00000004700 RECQL  12  21621845 21654603 21654603 rs11045172 12    \n",
       "2 ENSG00000004975 DVL2   17   7128660  7137864  7137864 rs17805277 18    \n",
       "3 ENSG00000006047 YBX2   17   7191571  7197934  7197934 rs17805277 18    \n",
       "4 ENSG00000010318 PHF7    3  52444673 52457657 52444673 rs1108842   3    \n",
       "5 ENSG00000010319 SEMA3G  3  52467069 52479101 52479101 rs1108842   3    \n",
       "6 ENSG00000010322 NISCH   3  52489134 52527087 52489134 rs1108842   3    \n",
       "  POSITION TSS_DISTANCE MAGMA_P    coloc_pip coloc_WT p_SMR       SMR_WT\n",
       "1 20470221 1184382      1.1917e-02 0.000000  0.0               NA 0.0   \n",
       "2  7201753   63889      1.4694e-09 0.000000  0.0               NA 0.0   \n",
       "3  7201753    3819      1.8854e-09 0.516068  0.8      0.000010196 0.8   \n",
       "4 52720080  275407      2.0366e-11 0.000000  0.0               NA 0.0   \n",
       "5 52720080  240979      1.6927e-11 0.000000  0.0               NA 0.0   \n",
       "6 52720080  230946      1.2830e-11 0.000000  1.0      0.038885720 1.0   "
      ]
     },
     "metadata": {},
     "output_type": "display_data"
    }
   ],
   "source": [
    "head(gene_variant_3)"
   ]
  },
  {
   "cell_type": "code",
   "execution_count": 33,
   "id": "fe692e70",
   "metadata": {},
   "outputs": [],
   "source": [
    "## eQTL overlaps"
   ]
  },
  {
   "cell_type": "code",
   "execution_count": 34,
   "id": "e08dd1a6",
   "metadata": {},
   "outputs": [],
   "source": [
    "trans_eqtl <- read.table(\"../../ANALYSIS/GTEX/EUR_EQTL_OVERLAPS.txt\",fill=TRUE,row.names=NULL,header=TRUE)"
   ]
  },
  {
   "cell_type": "code",
   "execution_count": 35,
   "id": "86ad1813",
   "metadata": {},
   "outputs": [
    {
     "data": {
      "text/html": [
       "<table class=\"dataframe\">\n",
       "<caption>A data.frame: 6 × 3</caption>\n",
       "<thead>\n",
       "\t<tr><th></th><th scope=col>Tissue</th><th scope=col>Transcript</th><th scope=col>P_EQTL</th></tr>\n",
       "\t<tr><th></th><th scope=col>&lt;chr&gt;</th><th scope=col>&lt;chr&gt;</th><th scope=col>&lt;dbl&gt;</th></tr>\n",
       "</thead>\n",
       "<tbody>\n",
       "\t<tr><th scope=row>1</th><td>Kidney_Cortex       </td><td>RP11-392O17.1</td><td>9.5e-08</td></tr>\n",
       "\t<tr><th scope=row>2</th><td>Adipose_Subcutaneous</td><td>RP11-392O17.1</td><td>7.6e-06</td></tr>\n",
       "\t<tr><th scope=row>3</th><td>Adipose_Visceral    </td><td>IRS1         </td><td>1.2e-09</td></tr>\n",
       "\t<tr><th scope=row>4</th><td>Adipose_Subcutaneous</td><td>RP11-395N3.1 </td><td>4.4e-05</td></tr>\n",
       "\t<tr><th scope=row>5</th><td>Adipose_Subcutaneous</td><td>IRS1         </td><td>3.1e-12</td></tr>\n",
       "\t<tr><th scope=row>6</th><td>Adipose_Visceral    </td><td>RP11-395N3.2 </td><td>4.2e-06</td></tr>\n",
       "</tbody>\n",
       "</table>\n"
      ],
      "text/latex": [
       "A data.frame: 6 × 3\n",
       "\\begin{tabular}{r|lll}\n",
       "  & Tissue & Transcript & P\\_EQTL\\\\\n",
       "  & <chr> & <chr> & <dbl>\\\\\n",
       "\\hline\n",
       "\t1 & Kidney\\_Cortex        & RP11-392O17.1 & 9.5e-08\\\\\n",
       "\t2 & Adipose\\_Subcutaneous & RP11-392O17.1 & 7.6e-06\\\\\n",
       "\t3 & Adipose\\_Visceral     & IRS1          & 1.2e-09\\\\\n",
       "\t4 & Adipose\\_Subcutaneous & RP11-395N3.1  & 4.4e-05\\\\\n",
       "\t5 & Adipose\\_Subcutaneous & IRS1          & 3.1e-12\\\\\n",
       "\t6 & Adipose\\_Visceral     & RP11-395N3.2  & 4.2e-06\\\\\n",
       "\\end{tabular}\n"
      ],
      "text/markdown": [
       "\n",
       "A data.frame: 6 × 3\n",
       "\n",
       "| <!--/--> | Tissue &lt;chr&gt; | Transcript &lt;chr&gt; | P_EQTL &lt;dbl&gt; |\n",
       "|---|---|---|---|\n",
       "| 1 | Kidney_Cortex        | RP11-392O17.1 | 9.5e-08 |\n",
       "| 2 | Adipose_Subcutaneous | RP11-392O17.1 | 7.6e-06 |\n",
       "| 3 | Adipose_Visceral     | IRS1          | 1.2e-09 |\n",
       "| 4 | Adipose_Subcutaneous | RP11-395N3.1  | 4.4e-05 |\n",
       "| 5 | Adipose_Subcutaneous | IRS1          | 3.1e-12 |\n",
       "| 6 | Adipose_Visceral     | RP11-395N3.2  | 4.2e-06 |\n",
       "\n"
      ],
      "text/plain": [
       "  Tissue               Transcript    P_EQTL \n",
       "1 Kidney_Cortex        RP11-392O17.1 9.5e-08\n",
       "2 Adipose_Subcutaneous RP11-392O17.1 7.6e-06\n",
       "3 Adipose_Visceral     IRS1          1.2e-09\n",
       "4 Adipose_Subcutaneous RP11-395N3.1  4.4e-05\n",
       "5 Adipose_Subcutaneous IRS1          3.1e-12\n",
       "6 Adipose_Visceral     RP11-395N3.2  4.2e-06"
      ]
     },
     "metadata": {},
     "output_type": "display_data"
    }
   ],
   "source": [
    "head(trans_eqtl)"
   ]
  },
  {
   "cell_type": "code",
   "execution_count": 36,
   "id": "0fe987b1",
   "metadata": {},
   "outputs": [],
   "source": [
    "gene_variant_4 <- data.frame()\n",
    "for (i in 1:nrow(gene_variant_3) ){\n",
    "line_q <- gene_variant_3[i,]\n",
    "ensg_q <- as.character(line_q[2])\n",
    "genep<- nrow(trans_eqtl%>%filter(Transcript==ensg_q))\n",
    "if (genep>0){\n",
    "smr_df <- trans_eqtl%>%filter(Transcript==ensg_q)%>%dplyr::select(Tissue,P_EQTL)%>%mutate(weight_lookup = case_when(grepl(\"Artery|Adipose|Heart\", Tissue) ~ \"1\",TRUE ~ '0.8'))\n",
    "p_smr <- min(smr_df$P_EQTL)\n",
    "smr_weight <- max(as.double((smr_df%>%filter(P_EQTL==p_smr))$weight_lookup))\n",
    "}else {\n",
    "p_smr <- NA\n",
    "smr_weight <-0 \n",
    "}\n",
    "tmp_df <- gene_variant_3[i,]%>%mutate(P_EQTL=p_smr,EQTL_WT=smr_weight)\n",
    "gene_variant_4 <- rbind(gene_variant_4,tmp_df)\n",
    "}\n"
   ]
  },
  {
   "cell_type": "code",
   "execution_count": 37,
   "id": "924095c9",
   "metadata": {},
   "outputs": [
    {
     "data": {
      "text/html": [
       "<table class=\"dataframe\">\n",
       "<caption>A data.frame: 1 × 17</caption>\n",
       "<thead>\n",
       "\t<tr><th></th><th scope=col>ENSGID</th><th scope=col>NAME</th><th scope=col>CHR</th><th scope=col>START</th><th scope=col>END</th><th scope=col>TSS</th><th scope=col>INDEX</th><th scope=col>WINDOW</th><th scope=col>POSITION</th><th scope=col>TSS_DISTANCE</th><th scope=col>MAGMA_P</th><th scope=col>coloc_pip</th><th scope=col>coloc_WT</th><th scope=col>p_SMR</th><th scope=col>SMR_WT</th><th scope=col>P_EQTL</th><th scope=col>EQTL_WT</th></tr>\n",
       "\t<tr><th></th><th scope=col>&lt;chr&gt;</th><th scope=col>&lt;chr&gt;</th><th scope=col>&lt;int&gt;</th><th scope=col>&lt;int&gt;</th><th scope=col>&lt;int&gt;</th><th scope=col>&lt;int&gt;</th><th scope=col>&lt;chr&gt;</th><th scope=col>&lt;int&gt;</th><th scope=col>&lt;int&gt;</th><th scope=col>&lt;int&gt;</th><th scope=col>&lt;dbl&gt;</th><th scope=col>&lt;dbl&gt;</th><th scope=col>&lt;dbl&gt;</th><th scope=col>&lt;dbl&gt;</th><th scope=col>&lt;dbl&gt;</th><th scope=col>&lt;dbl&gt;</th><th scope=col>&lt;dbl&gt;</th></tr>\n",
       "</thead>\n",
       "<tbody>\n",
       "\t<tr><th scope=row>1</th><td>ENSG00000004700</td><td>RECQL</td><td>12</td><td>21621845</td><td>21654603</td><td>21654603</td><td>rs11045172</td><td>12</td><td>20470221</td><td>1184382</td><td>0.011917</td><td>0</td><td>0</td><td>NA</td><td>0</td><td>NA</td><td>0</td></tr>\n",
       "</tbody>\n",
       "</table>\n"
      ],
      "text/latex": [
       "A data.frame: 1 × 17\n",
       "\\begin{tabular}{r|lllllllllllllllll}\n",
       "  & ENSGID & NAME & CHR & START & END & TSS & INDEX & WINDOW & POSITION & TSS\\_DISTANCE & MAGMA\\_P & coloc\\_pip & coloc\\_WT & p\\_SMR & SMR\\_WT & P\\_EQTL & EQTL\\_WT\\\\\n",
       "  & <chr> & <chr> & <int> & <int> & <int> & <int> & <chr> & <int> & <int> & <int> & <dbl> & <dbl> & <dbl> & <dbl> & <dbl> & <dbl> & <dbl>\\\\\n",
       "\\hline\n",
       "\t1 & ENSG00000004700 & RECQL & 12 & 21621845 & 21654603 & 21654603 & rs11045172 & 12 & 20470221 & 1184382 & 0.011917 & 0 & 0 & NA & 0 & NA & 0\\\\\n",
       "\\end{tabular}\n"
      ],
      "text/markdown": [
       "\n",
       "A data.frame: 1 × 17\n",
       "\n",
       "| <!--/--> | ENSGID &lt;chr&gt; | NAME &lt;chr&gt; | CHR &lt;int&gt; | START &lt;int&gt; | END &lt;int&gt; | TSS &lt;int&gt; | INDEX &lt;chr&gt; | WINDOW &lt;int&gt; | POSITION &lt;int&gt; | TSS_DISTANCE &lt;int&gt; | MAGMA_P &lt;dbl&gt; | coloc_pip &lt;dbl&gt; | coloc_WT &lt;dbl&gt; | p_SMR &lt;dbl&gt; | SMR_WT &lt;dbl&gt; | P_EQTL &lt;dbl&gt; | EQTL_WT &lt;dbl&gt; |\n",
       "|---|---|---|---|---|---|---|---|---|---|---|---|---|---|---|---|---|---|\n",
       "| 1 | ENSG00000004700 | RECQL | 12 | 21621845 | 21654603 | 21654603 | rs11045172 | 12 | 20470221 | 1184382 | 0.011917 | 0 | 0 | NA | 0 | NA | 0 |\n",
       "\n"
      ],
      "text/plain": [
       "  ENSGID          NAME  CHR START    END      TSS      INDEX      WINDOW\n",
       "1 ENSG00000004700 RECQL 12  21621845 21654603 21654603 rs11045172 12    \n",
       "  POSITION TSS_DISTANCE MAGMA_P  coloc_pip coloc_WT p_SMR SMR_WT P_EQTL EQTL_WT\n",
       "1 20470221 1184382      0.011917 0         0        NA    0      NA     0      "
      ]
     },
     "metadata": {},
     "output_type": "display_data"
    }
   ],
   "source": [
    "head(gene_variant_4,1)"
   ]
  },
  {
   "cell_type": "code",
   "execution_count": 38,
   "id": "fbfad940",
   "metadata": {},
   "outputs": [],
   "source": [
    "### LDSC(Expression modifier Score)"
   ]
  },
  {
   "cell_type": "code",
   "execution_count": 39,
   "id": "6f1118f1",
   "metadata": {},
   "outputs": [],
   "source": [
    "trans_ldsc <- read.table(\"../../ANALYSIS/GTEX/EUR_LDSC_RESULTS.TAB\",fill=TRUE,row.names=NULL,header=TRUE)"
   ]
  },
  {
   "cell_type": "code",
   "execution_count": 40,
   "id": "51cda7c9",
   "metadata": {},
   "outputs": [
    {
     "data": {
      "text/html": [
       "<table class=\"dataframe\">\n",
       "<caption>A data.frame: 2 × 5</caption>\n",
       "<thead>\n",
       "\t<tr><th></th><th scope=col>GENE</th><th scope=col>Enrichment_p</th><th scope=col>Coefficient_z_score</th><th scope=col>Tissue</th><th scope=col>TSS</th></tr>\n",
       "\t<tr><th></th><th scope=col>&lt;chr&gt;</th><th scope=col>&lt;dbl&gt;</th><th scope=col>&lt;dbl&gt;</th><th scope=col>&lt;chr&gt;</th><th scope=col>&lt;int&gt;</th></tr>\n",
       "</thead>\n",
       "<tbody>\n",
       "\t<tr><th scope=row>1</th><td>BPNT1</td><td>0.1445229</td><td>1.464883</td><td>Kidney_Cortex</td><td>220263804</td></tr>\n",
       "\t<tr><th scope=row>2</th><td>BPNT1</td><td>0.1445229</td><td>1.464883</td><td>Adrenal_Gland</td><td>220263804</td></tr>\n",
       "</tbody>\n",
       "</table>\n"
      ],
      "text/latex": [
       "A data.frame: 2 × 5\n",
       "\\begin{tabular}{r|lllll}\n",
       "  & GENE & Enrichment\\_p & Coefficient\\_z\\_score & Tissue & TSS\\\\\n",
       "  & <chr> & <dbl> & <dbl> & <chr> & <int>\\\\\n",
       "\\hline\n",
       "\t1 & BPNT1 & 0.1445229 & 1.464883 & Kidney\\_Cortex & 220263804\\\\\n",
       "\t2 & BPNT1 & 0.1445229 & 1.464883 & Adrenal\\_Gland & 220263804\\\\\n",
       "\\end{tabular}\n"
      ],
      "text/markdown": [
       "\n",
       "A data.frame: 2 × 5\n",
       "\n",
       "| <!--/--> | GENE &lt;chr&gt; | Enrichment_p &lt;dbl&gt; | Coefficient_z_score &lt;dbl&gt; | Tissue &lt;chr&gt; | TSS &lt;int&gt; |\n",
       "|---|---|---|---|---|---|\n",
       "| 1 | BPNT1 | 0.1445229 | 1.464883 | Kidney_Cortex | 220263804 |\n",
       "| 2 | BPNT1 | 0.1445229 | 1.464883 | Adrenal_Gland | 220263804 |\n",
       "\n"
      ],
      "text/plain": [
       "  GENE  Enrichment_p Coefficient_z_score Tissue        TSS      \n",
       "1 BPNT1 0.1445229    1.464883            Kidney_Cortex 220263804\n",
       "2 BPNT1 0.1445229    1.464883            Adrenal_Gland 220263804"
      ]
     },
     "metadata": {},
     "output_type": "display_data"
    }
   ],
   "source": [
    "head(trans_ldsc,2)"
   ]
  },
  {
   "cell_type": "code",
   "execution_count": 41,
   "id": "dca0e941",
   "metadata": {},
   "outputs": [],
   "source": [
    "gene_variant_5 <- data.frame()\n",
    "for (i in 1:nrow(gene_variant_4) ){\n",
    "line_q <- gene_variant_4[i,]\n",
    "ensg_q <- as.character(line_q[2])\n",
    "genep<- nrow(trans_ldsc%>%filter(GENE==ensg_q))\n",
    "if (genep>0){\n",
    "ldsc_df <- trans_ldsc%>%filter(GENE==ensg_q)%>%dplyr::select(Tissue,Enrichment_p)%>%mutate(weight_ldsc = case_when(grepl(\"Artery|Adipose|Heart\", Tissue) ~ \"1\",TRUE ~ '0.8'))\n",
    "p_ldsc <- min(ldsc_df$Enrichment_p)\n",
    "smr_weight <- max(as.double((ldsc_df%>%filter(Enrichment_p==p_ldsc))$weight_ldsc))\n",
    "}else {\n",
    "p_ldsc <- NA\n",
    "smr_weight <-0 \n",
    "}\n",
    "tmp_df <- gene_variant_4[i,]%>%mutate(LDSC_P=p_ldsc,LDSC_WT=smr_weight)\n",
    "gene_variant_5 <- rbind(gene_variant_5,tmp_df)\n",
    "}\n"
   ]
  },
  {
   "cell_type": "code",
   "execution_count": 42,
   "id": "78294b14",
   "metadata": {},
   "outputs": [
    {
     "data": {
      "text/html": [
       "<table class=\"dataframe\">\n",
       "<caption>A data.frame: 6 × 19</caption>\n",
       "<thead>\n",
       "\t<tr><th></th><th scope=col>ENSGID</th><th scope=col>NAME</th><th scope=col>CHR</th><th scope=col>START</th><th scope=col>END</th><th scope=col>TSS</th><th scope=col>INDEX</th><th scope=col>WINDOW</th><th scope=col>POSITION</th><th scope=col>TSS_DISTANCE</th><th scope=col>MAGMA_P</th><th scope=col>coloc_pip</th><th scope=col>coloc_WT</th><th scope=col>p_SMR</th><th scope=col>SMR_WT</th><th scope=col>P_EQTL</th><th scope=col>EQTL_WT</th><th scope=col>LDSC_P</th><th scope=col>LDSC_WT</th></tr>\n",
       "\t<tr><th></th><th scope=col>&lt;chr&gt;</th><th scope=col>&lt;chr&gt;</th><th scope=col>&lt;int&gt;</th><th scope=col>&lt;int&gt;</th><th scope=col>&lt;int&gt;</th><th scope=col>&lt;int&gt;</th><th scope=col>&lt;chr&gt;</th><th scope=col>&lt;int&gt;</th><th scope=col>&lt;int&gt;</th><th scope=col>&lt;int&gt;</th><th scope=col>&lt;dbl&gt;</th><th scope=col>&lt;dbl&gt;</th><th scope=col>&lt;dbl&gt;</th><th scope=col>&lt;dbl&gt;</th><th scope=col>&lt;dbl&gt;</th><th scope=col>&lt;dbl&gt;</th><th scope=col>&lt;dbl&gt;</th><th scope=col>&lt;dbl&gt;</th><th scope=col>&lt;dbl&gt;</th></tr>\n",
       "</thead>\n",
       "<tbody>\n",
       "\t<tr><th scope=row>1</th><td>ENSG00000004700</td><td>RECQL </td><td>12</td><td>21621845</td><td>21654603</td><td>21654603</td><td>rs11045172</td><td>12</td><td>20470221</td><td>1184382</td><td>1.1917e-02</td><td>0.000000</td><td>0.0</td><td>         NA</td><td>0.0</td><td>NA</td><td>0</td><td>0.626449957</td><td>1</td></tr>\n",
       "\t<tr><th scope=row>2</th><td>ENSG00000004975</td><td>DVL2  </td><td>17</td><td> 7128660</td><td> 7137864</td><td> 7137864</td><td>rs17805277</td><td>18</td><td> 7201753</td><td>  63889</td><td>1.4694e-09</td><td>0.000000</td><td>0.0</td><td>         NA</td><td>0.0</td><td>NA</td><td>0</td><td>0.000110552</td><td>1</td></tr>\n",
       "\t<tr><th scope=row>3</th><td>ENSG00000006047</td><td>YBX2  </td><td>17</td><td> 7191571</td><td> 7197934</td><td> 7197934</td><td>rs17805277</td><td>18</td><td> 7201753</td><td>   3819</td><td>1.8854e-09</td><td>0.516068</td><td>0.8</td><td>0.000010196</td><td>0.8</td><td>NA</td><td>0</td><td>         NA</td><td>0</td></tr>\n",
       "\t<tr><th scope=row>4</th><td>ENSG00000010318</td><td>PHF7  </td><td> 3</td><td>52444673</td><td>52457657</td><td>52444673</td><td>rs1108842 </td><td> 3</td><td>52720080</td><td> 275407</td><td>2.0366e-11</td><td>0.000000</td><td>0.0</td><td>         NA</td><td>0.0</td><td>NA</td><td>0</td><td>         NA</td><td>0</td></tr>\n",
       "\t<tr><th scope=row>5</th><td>ENSG00000010319</td><td>SEMA3G</td><td> 3</td><td>52467069</td><td>52479101</td><td>52479101</td><td>rs1108842 </td><td> 3</td><td>52720080</td><td> 240979</td><td>1.6927e-11</td><td>0.000000</td><td>0.0</td><td>         NA</td><td>0.0</td><td>NA</td><td>0</td><td>0.002939900</td><td>1</td></tr>\n",
       "\t<tr><th scope=row>6</th><td>ENSG00000010322</td><td>NISCH </td><td> 3</td><td>52489134</td><td>52527087</td><td>52489134</td><td>rs1108842 </td><td> 3</td><td>52720080</td><td> 230946</td><td>1.2830e-11</td><td>0.000000</td><td>1.0</td><td>0.038885720</td><td>1.0</td><td>NA</td><td>0</td><td>0.000039100</td><td>1</td></tr>\n",
       "</tbody>\n",
       "</table>\n"
      ],
      "text/latex": [
       "A data.frame: 6 × 19\n",
       "\\begin{tabular}{r|lllllllllllllllllll}\n",
       "  & ENSGID & NAME & CHR & START & END & TSS & INDEX & WINDOW & POSITION & TSS\\_DISTANCE & MAGMA\\_P & coloc\\_pip & coloc\\_WT & p\\_SMR & SMR\\_WT & P\\_EQTL & EQTL\\_WT & LDSC\\_P & LDSC\\_WT\\\\\n",
       "  & <chr> & <chr> & <int> & <int> & <int> & <int> & <chr> & <int> & <int> & <int> & <dbl> & <dbl> & <dbl> & <dbl> & <dbl> & <dbl> & <dbl> & <dbl> & <dbl>\\\\\n",
       "\\hline\n",
       "\t1 & ENSG00000004700 & RECQL  & 12 & 21621845 & 21654603 & 21654603 & rs11045172 & 12 & 20470221 & 1184382 & 1.1917e-02 & 0.000000 & 0.0 &          NA & 0.0 & NA & 0 & 0.626449957 & 1\\\\\n",
       "\t2 & ENSG00000004975 & DVL2   & 17 &  7128660 &  7137864 &  7137864 & rs17805277 & 18 &  7201753 &   63889 & 1.4694e-09 & 0.000000 & 0.0 &          NA & 0.0 & NA & 0 & 0.000110552 & 1\\\\\n",
       "\t3 & ENSG00000006047 & YBX2   & 17 &  7191571 &  7197934 &  7197934 & rs17805277 & 18 &  7201753 &    3819 & 1.8854e-09 & 0.516068 & 0.8 & 0.000010196 & 0.8 & NA & 0 &          NA & 0\\\\\n",
       "\t4 & ENSG00000010318 & PHF7   &  3 & 52444673 & 52457657 & 52444673 & rs1108842  &  3 & 52720080 &  275407 & 2.0366e-11 & 0.000000 & 0.0 &          NA & 0.0 & NA & 0 &          NA & 0\\\\\n",
       "\t5 & ENSG00000010319 & SEMA3G &  3 & 52467069 & 52479101 & 52479101 & rs1108842  &  3 & 52720080 &  240979 & 1.6927e-11 & 0.000000 & 0.0 &          NA & 0.0 & NA & 0 & 0.002939900 & 1\\\\\n",
       "\t6 & ENSG00000010322 & NISCH  &  3 & 52489134 & 52527087 & 52489134 & rs1108842  &  3 & 52720080 &  230946 & 1.2830e-11 & 0.000000 & 1.0 & 0.038885720 & 1.0 & NA & 0 & 0.000039100 & 1\\\\\n",
       "\\end{tabular}\n"
      ],
      "text/markdown": [
       "\n",
       "A data.frame: 6 × 19\n",
       "\n",
       "| <!--/--> | ENSGID &lt;chr&gt; | NAME &lt;chr&gt; | CHR &lt;int&gt; | START &lt;int&gt; | END &lt;int&gt; | TSS &lt;int&gt; | INDEX &lt;chr&gt; | WINDOW &lt;int&gt; | POSITION &lt;int&gt; | TSS_DISTANCE &lt;int&gt; | MAGMA_P &lt;dbl&gt; | coloc_pip &lt;dbl&gt; | coloc_WT &lt;dbl&gt; | p_SMR &lt;dbl&gt; | SMR_WT &lt;dbl&gt; | P_EQTL &lt;dbl&gt; | EQTL_WT &lt;dbl&gt; | LDSC_P &lt;dbl&gt; | LDSC_WT &lt;dbl&gt; |\n",
       "|---|---|---|---|---|---|---|---|---|---|---|---|---|---|---|---|---|---|---|---|\n",
       "| 1 | ENSG00000004700 | RECQL  | 12 | 21621845 | 21654603 | 21654603 | rs11045172 | 12 | 20470221 | 1184382 | 1.1917e-02 | 0.000000 | 0.0 |          NA | 0.0 | NA | 0 | 0.626449957 | 1 |\n",
       "| 2 | ENSG00000004975 | DVL2   | 17 |  7128660 |  7137864 |  7137864 | rs17805277 | 18 |  7201753 |   63889 | 1.4694e-09 | 0.000000 | 0.0 |          NA | 0.0 | NA | 0 | 0.000110552 | 1 |\n",
       "| 3 | ENSG00000006047 | YBX2   | 17 |  7191571 |  7197934 |  7197934 | rs17805277 | 18 |  7201753 |    3819 | 1.8854e-09 | 0.516068 | 0.8 | 0.000010196 | 0.8 | NA | 0 |          NA | 0 |\n",
       "| 4 | ENSG00000010318 | PHF7   |  3 | 52444673 | 52457657 | 52444673 | rs1108842  |  3 | 52720080 |  275407 | 2.0366e-11 | 0.000000 | 0.0 |          NA | 0.0 | NA | 0 |          NA | 0 |\n",
       "| 5 | ENSG00000010319 | SEMA3G |  3 | 52467069 | 52479101 | 52479101 | rs1108842  |  3 | 52720080 |  240979 | 1.6927e-11 | 0.000000 | 0.0 |          NA | 0.0 | NA | 0 | 0.002939900 | 1 |\n",
       "| 6 | ENSG00000010322 | NISCH  |  3 | 52489134 | 52527087 | 52489134 | rs1108842  |  3 | 52720080 |  230946 | 1.2830e-11 | 0.000000 | 1.0 | 0.038885720 | 1.0 | NA | 0 | 0.000039100 | 1 |\n",
       "\n"
      ],
      "text/plain": [
       "  ENSGID          NAME   CHR START    END      TSS      INDEX      WINDOW\n",
       "1 ENSG00000004700 RECQL  12  21621845 21654603 21654603 rs11045172 12    \n",
       "2 ENSG00000004975 DVL2   17   7128660  7137864  7137864 rs17805277 18    \n",
       "3 ENSG00000006047 YBX2   17   7191571  7197934  7197934 rs17805277 18    \n",
       "4 ENSG00000010318 PHF7    3  52444673 52457657 52444673 rs1108842   3    \n",
       "5 ENSG00000010319 SEMA3G  3  52467069 52479101 52479101 rs1108842   3    \n",
       "6 ENSG00000010322 NISCH   3  52489134 52527087 52489134 rs1108842   3    \n",
       "  POSITION TSS_DISTANCE MAGMA_P    coloc_pip coloc_WT p_SMR       SMR_WT P_EQTL\n",
       "1 20470221 1184382      1.1917e-02 0.000000  0.0               NA 0.0    NA    \n",
       "2  7201753   63889      1.4694e-09 0.000000  0.0               NA 0.0    NA    \n",
       "3  7201753    3819      1.8854e-09 0.516068  0.8      0.000010196 0.8    NA    \n",
       "4 52720080  275407      2.0366e-11 0.000000  0.0               NA 0.0    NA    \n",
       "5 52720080  240979      1.6927e-11 0.000000  0.0               NA 0.0    NA    \n",
       "6 52720080  230946      1.2830e-11 0.000000  1.0      0.038885720 1.0    NA    \n",
       "  EQTL_WT LDSC_P      LDSC_WT\n",
       "1 0       0.626449957 1      \n",
       "2 0       0.000110552 1      \n",
       "3 0                NA 0      \n",
       "4 0                NA 0      \n",
       "5 0       0.002939900 1      \n",
       "6 0       0.000039100 1      "
      ]
     },
     "metadata": {},
     "output_type": "display_data"
    }
   ],
   "source": [
    "head(gene_variant_5)"
   ]
  },
  {
   "cell_type": "code",
   "execution_count": 43,
   "id": "1a93fafd",
   "metadata": {},
   "outputs": [],
   "source": [
    "##EMS overlaps"
   ]
  },
  {
   "cell_type": "code",
   "execution_count": 44,
   "id": "71406246",
   "metadata": {},
   "outputs": [],
   "source": [
    "trans_ems <- read.table(\"../../ANALYSIS/EMS_OVERLAP/EUR_OVERLAP_EMS.TAB\",fill=TRUE,row.names=NULL,header=TRUE)"
   ]
  },
  {
   "cell_type": "code",
   "execution_count": 45,
   "id": "13635633",
   "metadata": {},
   "outputs": [
    {
     "data": {
      "text/html": [
       "<table class=\"dataframe\">\n",
       "<caption>A data.frame: 2 × 6</caption>\n",
       "<thead>\n",
       "\t<tr><th></th><th scope=col>CHROMOSOME</th><th scope=col>POSITION</th><th scope=col>GENE</th><th scope=col>EMS_N</th><th scope=col>Tissue</th><th scope=col>scaled_EMS</th></tr>\n",
       "\t<tr><th></th><th scope=col>&lt;int&gt;</th><th scope=col>&lt;int&gt;</th><th scope=col>&lt;chr&gt;</th><th scope=col>&lt;dbl&gt;</th><th scope=col>&lt;chr&gt;</th><th scope=col>&lt;dbl&gt;</th></tr>\n",
       "</thead>\n",
       "<tbody>\n",
       "\t<tr><th scope=row>1</th><td>1</td><td>10003457</td><td>ENSG00000228150</td><td>3966000</td><td>Thyroid      </td><td>0.39856274</td></tr>\n",
       "\t<tr><th scope=row>2</th><td>1</td><td>10003457</td><td>ENSG00000162441</td><td> 754000</td><td>Kidney_Cortex</td><td>0.07573245</td></tr>\n",
       "</tbody>\n",
       "</table>\n"
      ],
      "text/latex": [
       "A data.frame: 2 × 6\n",
       "\\begin{tabular}{r|llllll}\n",
       "  & CHROMOSOME & POSITION & GENE & EMS\\_N & Tissue & scaled\\_EMS\\\\\n",
       "  & <int> & <int> & <chr> & <dbl> & <chr> & <dbl>\\\\\n",
       "\\hline\n",
       "\t1 & 1 & 10003457 & ENSG00000228150 & 3966000 & Thyroid       & 0.39856274\\\\\n",
       "\t2 & 1 & 10003457 & ENSG00000162441 &  754000 & Kidney\\_Cortex & 0.07573245\\\\\n",
       "\\end{tabular}\n"
      ],
      "text/markdown": [
       "\n",
       "A data.frame: 2 × 6\n",
       "\n",
       "| <!--/--> | CHROMOSOME &lt;int&gt; | POSITION &lt;int&gt; | GENE &lt;chr&gt; | EMS_N &lt;dbl&gt; | Tissue &lt;chr&gt; | scaled_EMS &lt;dbl&gt; |\n",
       "|---|---|---|---|---|---|---|\n",
       "| 1 | 1 | 10003457 | ENSG00000228150 | 3966000 | Thyroid       | 0.39856274 |\n",
       "| 2 | 1 | 10003457 | ENSG00000162441 |  754000 | Kidney_Cortex | 0.07573245 |\n",
       "\n"
      ],
      "text/plain": [
       "  CHROMOSOME POSITION GENE            EMS_N   Tissue        scaled_EMS\n",
       "1 1          10003457 ENSG00000228150 3966000 Thyroid       0.39856274\n",
       "2 1          10003457 ENSG00000162441  754000 Kidney_Cortex 0.07573245"
      ]
     },
     "metadata": {},
     "output_type": "display_data"
    }
   ],
   "source": [
    "head(trans_ems,2)"
   ]
  },
  {
   "cell_type": "code",
   "execution_count": 46,
   "id": "ab5f391c",
   "metadata": {},
   "outputs": [],
   "source": [
    "gene_variant_6 <- data.frame()\n",
    "for (i in 1:nrow(gene_variant_5) ){\n",
    "line_q <- gene_variant_5[i,]\n",
    "ensg_q <- as.character(line_q[1])\n",
    "genep<- nrow(trans_ems%>%filter(GENE==ensg_q))\n",
    "if (genep>0){\n",
    "ems_df <- trans_ems%>%filter(GENE==ensg_q)%>%dplyr::select(Tissue,scaled_EMS)%>%mutate(weight_ems = case_when(grepl(\"Artery|Adipose|Heart\", Tissue) ~ \"1\",TRUE ~ '0.8'))\n",
    "s_ems <- max(ems_df$scaled_EMS)\n",
    "ems_weight <- max(as.double((ems_df%>%filter(scaled_EMS==s_ems))$weight_ems))\n",
    "}else {\n",
    "s_ems <- 0\n",
    "ems_weight <-0 \n",
    "}\n",
    "tmp_df <- gene_variant_5[i,]%>%mutate(EMS_SCORE=s_ems,EMS_WT=ems_weight)\n",
    "gene_variant_6 <- rbind(gene_variant_6,tmp_df)\n",
    "}"
   ]
  },
  {
   "cell_type": "code",
   "execution_count": 47,
   "id": "2f9f1d99",
   "metadata": {},
   "outputs": [
    {
     "data": {
      "text/html": [
       "<table class=\"dataframe\">\n",
       "<caption>A data.frame: 2 × 21</caption>\n",
       "<thead>\n",
       "\t<tr><th></th><th scope=col>ENSGID</th><th scope=col>NAME</th><th scope=col>CHR</th><th scope=col>START</th><th scope=col>END</th><th scope=col>TSS</th><th scope=col>INDEX</th><th scope=col>WINDOW</th><th scope=col>POSITION</th><th scope=col>TSS_DISTANCE</th><th scope=col>⋯</th><th scope=col>coloc_pip</th><th scope=col>coloc_WT</th><th scope=col>p_SMR</th><th scope=col>SMR_WT</th><th scope=col>P_EQTL</th><th scope=col>EQTL_WT</th><th scope=col>LDSC_P</th><th scope=col>LDSC_WT</th><th scope=col>EMS_SCORE</th><th scope=col>EMS_WT</th></tr>\n",
       "\t<tr><th></th><th scope=col>&lt;chr&gt;</th><th scope=col>&lt;chr&gt;</th><th scope=col>&lt;int&gt;</th><th scope=col>&lt;int&gt;</th><th scope=col>&lt;int&gt;</th><th scope=col>&lt;int&gt;</th><th scope=col>&lt;chr&gt;</th><th scope=col>&lt;int&gt;</th><th scope=col>&lt;int&gt;</th><th scope=col>&lt;int&gt;</th><th scope=col>⋯</th><th scope=col>&lt;dbl&gt;</th><th scope=col>&lt;dbl&gt;</th><th scope=col>&lt;dbl&gt;</th><th scope=col>&lt;dbl&gt;</th><th scope=col>&lt;dbl&gt;</th><th scope=col>&lt;dbl&gt;</th><th scope=col>&lt;dbl&gt;</th><th scope=col>&lt;dbl&gt;</th><th scope=col>&lt;dbl&gt;</th><th scope=col>&lt;dbl&gt;</th></tr>\n",
       "</thead>\n",
       "<tbody>\n",
       "\t<tr><th scope=row>1</th><td>ENSG00000004700</td><td>RECQL</td><td>12</td><td>21621845</td><td>21654603</td><td>21654603</td><td>rs11045172</td><td>12</td><td>20470221</td><td>1184382</td><td>⋯</td><td>0</td><td>0</td><td>NA</td><td>0</td><td>NA</td><td>0</td><td>0.626449957</td><td>1</td><td>0.0000000</td><td>0</td></tr>\n",
       "\t<tr><th scope=row>2</th><td>ENSG00000004975</td><td>DVL2 </td><td>17</td><td> 7128660</td><td> 7137864</td><td> 7137864</td><td>rs17805277</td><td>18</td><td> 7201753</td><td>  63889</td><td>⋯</td><td>0</td><td>0</td><td>NA</td><td>0</td><td>NA</td><td>0</td><td>0.000110552</td><td>1</td><td>0.7718478</td><td>1</td></tr>\n",
       "</tbody>\n",
       "</table>\n"
      ],
      "text/latex": [
       "A data.frame: 2 × 21\n",
       "\\begin{tabular}{r|lllllllllllllllllllll}\n",
       "  & ENSGID & NAME & CHR & START & END & TSS & INDEX & WINDOW & POSITION & TSS\\_DISTANCE & ⋯ & coloc\\_pip & coloc\\_WT & p\\_SMR & SMR\\_WT & P\\_EQTL & EQTL\\_WT & LDSC\\_P & LDSC\\_WT & EMS\\_SCORE & EMS\\_WT\\\\\n",
       "  & <chr> & <chr> & <int> & <int> & <int> & <int> & <chr> & <int> & <int> & <int> & ⋯ & <dbl> & <dbl> & <dbl> & <dbl> & <dbl> & <dbl> & <dbl> & <dbl> & <dbl> & <dbl>\\\\\n",
       "\\hline\n",
       "\t1 & ENSG00000004700 & RECQL & 12 & 21621845 & 21654603 & 21654603 & rs11045172 & 12 & 20470221 & 1184382 & ⋯ & 0 & 0 & NA & 0 & NA & 0 & 0.626449957 & 1 & 0.0000000 & 0\\\\\n",
       "\t2 & ENSG00000004975 & DVL2  & 17 &  7128660 &  7137864 &  7137864 & rs17805277 & 18 &  7201753 &   63889 & ⋯ & 0 & 0 & NA & 0 & NA & 0 & 0.000110552 & 1 & 0.7718478 & 1\\\\\n",
       "\\end{tabular}\n"
      ],
      "text/markdown": [
       "\n",
       "A data.frame: 2 × 21\n",
       "\n",
       "| <!--/--> | ENSGID &lt;chr&gt; | NAME &lt;chr&gt; | CHR &lt;int&gt; | START &lt;int&gt; | END &lt;int&gt; | TSS &lt;int&gt; | INDEX &lt;chr&gt; | WINDOW &lt;int&gt; | POSITION &lt;int&gt; | TSS_DISTANCE &lt;int&gt; | ⋯ ⋯ | coloc_pip &lt;dbl&gt; | coloc_WT &lt;dbl&gt; | p_SMR &lt;dbl&gt; | SMR_WT &lt;dbl&gt; | P_EQTL &lt;dbl&gt; | EQTL_WT &lt;dbl&gt; | LDSC_P &lt;dbl&gt; | LDSC_WT &lt;dbl&gt; | EMS_SCORE &lt;dbl&gt; | EMS_WT &lt;dbl&gt; |\n",
       "|---|---|---|---|---|---|---|---|---|---|---|---|---|---|---|---|---|---|---|---|---|---|\n",
       "| 1 | ENSG00000004700 | RECQL | 12 | 21621845 | 21654603 | 21654603 | rs11045172 | 12 | 20470221 | 1184382 | ⋯ | 0 | 0 | NA | 0 | NA | 0 | 0.626449957 | 1 | 0.0000000 | 0 |\n",
       "| 2 | ENSG00000004975 | DVL2  | 17 |  7128660 |  7137864 |  7137864 | rs17805277 | 18 |  7201753 |   63889 | ⋯ | 0 | 0 | NA | 0 | NA | 0 | 0.000110552 | 1 | 0.7718478 | 1 |\n",
       "\n"
      ],
      "text/plain": [
       "  ENSGID          NAME  CHR START    END      TSS      INDEX      WINDOW\n",
       "1 ENSG00000004700 RECQL 12  21621845 21654603 21654603 rs11045172 12    \n",
       "2 ENSG00000004975 DVL2  17   7128660  7137864  7137864 rs17805277 18    \n",
       "  POSITION TSS_DISTANCE ⋯ coloc_pip coloc_WT p_SMR SMR_WT P_EQTL EQTL_WT\n",
       "1 20470221 1184382      ⋯ 0         0        NA    0      NA     0      \n",
       "2  7201753   63889      ⋯ 0         0        NA    0      NA     0      \n",
       "  LDSC_P      LDSC_WT EMS_SCORE EMS_WT\n",
       "1 0.626449957 1       0.0000000 0     \n",
       "2 0.000110552 1       0.7718478 1     "
      ]
     },
     "metadata": {},
     "output_type": "display_data"
    }
   ],
   "source": [
    "head(gene_variant_6,2)"
   ]
  },
  {
   "cell_type": "code",
   "execution_count": 48,
   "id": "54b7606b",
   "metadata": {},
   "outputs": [],
   "source": [
    "### POPS\n",
    "stand01 <- function(x){(x-min(x,na.rm = TRUE))/(max(x,na.rm = TRUE)-min(x,na.rm = TRUE))}"
   ]
  },
  {
   "cell_type": "code",
   "execution_count": 49,
   "id": "f589bd58",
   "metadata": {},
   "outputs": [],
   "source": [
    "pops_ems <- read.table(\"../../ANALYSIS/POPS/EUR_POPS.txt\",fill=TRUE,row.names=NULL,header=TRUE)%>%mutate(POPS=stand01(PoPS_score))"
   ]
  },
  {
   "cell_type": "code",
   "execution_count": 50,
   "id": "c9fcde9a",
   "metadata": {},
   "outputs": [
    {
     "data": {
      "text/html": [
       "<table class=\"dataframe\">\n",
       "<caption>A data.frame: 2 × 4</caption>\n",
       "<thead>\n",
       "\t<tr><th></th><th scope=col>ENSG</th><th scope=col>GENE</th><th scope=col>PoPS_score</th><th scope=col>POPS</th></tr>\n",
       "\t<tr><th></th><th scope=col>&lt;chr&gt;</th><th scope=col>&lt;chr&gt;</th><th scope=col>&lt;dbl&gt;</th><th scope=col>&lt;dbl&gt;</th></tr>\n",
       "</thead>\n",
       "<tbody>\n",
       "\t<tr><th scope=row>1</th><td>ENSG00000067533</td><td>RRP15</td><td> 0.1188680</td><td>0.6147423</td></tr>\n",
       "\t<tr><th scope=row>2</th><td>ENSG00000067704</td><td>IARS2</td><td>-0.4129018</td><td>0.4612016</td></tr>\n",
       "</tbody>\n",
       "</table>\n"
      ],
      "text/latex": [
       "A data.frame: 2 × 4\n",
       "\\begin{tabular}{r|llll}\n",
       "  & ENSG & GENE & PoPS\\_score & POPS\\\\\n",
       "  & <chr> & <chr> & <dbl> & <dbl>\\\\\n",
       "\\hline\n",
       "\t1 & ENSG00000067533 & RRP15 &  0.1188680 & 0.6147423\\\\\n",
       "\t2 & ENSG00000067704 & IARS2 & -0.4129018 & 0.4612016\\\\\n",
       "\\end{tabular}\n"
      ],
      "text/markdown": [
       "\n",
       "A data.frame: 2 × 4\n",
       "\n",
       "| <!--/--> | ENSG &lt;chr&gt; | GENE &lt;chr&gt; | PoPS_score &lt;dbl&gt; | POPS &lt;dbl&gt; |\n",
       "|---|---|---|---|---|\n",
       "| 1 | ENSG00000067533 | RRP15 |  0.1188680 | 0.6147423 |\n",
       "| 2 | ENSG00000067704 | IARS2 | -0.4129018 | 0.4612016 |\n",
       "\n"
      ],
      "text/plain": [
       "  ENSG            GENE  PoPS_score POPS     \n",
       "1 ENSG00000067533 RRP15  0.1188680 0.6147423\n",
       "2 ENSG00000067704 IARS2 -0.4129018 0.4612016"
      ]
     },
     "metadata": {},
     "output_type": "display_data"
    }
   ],
   "source": [
    "head(pops_ems,2)"
   ]
  },
  {
   "cell_type": "code",
   "execution_count": 51,
   "id": "d8cf2aeb",
   "metadata": {},
   "outputs": [],
   "source": [
    "gene_variant_7 <- data.frame()\n",
    "for (i in 1:nrow(gene_variant_6) ){\n",
    "line_q <- gene_variant_6[i,]\n",
    "ensg_q <- as.character(line_q[1])\n",
    "genep<- nrow(pops_ems%>%filter(ENSG==ensg_q))\n",
    "if (genep>0){\n",
    "pops_df <- pops_ems%>%filter(ENSG==ensg_q)%>%dplyr::select(POPS)\n",
    "pops_score <- as.double(pops_df)\n",
    "}else {\n",
    "pops_score <- 0 \n",
    "}\n",
    "tmp_df <- gene_variant_6[i,]%>%mutate(POPS_SCORE=pops_score)\n",
    "gene_variant_7 <- rbind(gene_variant_7,tmp_df)\n",
    "}"
   ]
  },
  {
   "cell_type": "code",
   "execution_count": 52,
   "id": "c9fb8b03",
   "metadata": {},
   "outputs": [
    {
     "data": {
      "text/html": [
       "<table class=\"dataframe\">\n",
       "<caption>A data.frame: 2 × 22</caption>\n",
       "<thead>\n",
       "\t<tr><th></th><th scope=col>ENSGID</th><th scope=col>NAME</th><th scope=col>CHR</th><th scope=col>START</th><th scope=col>END</th><th scope=col>TSS</th><th scope=col>INDEX</th><th scope=col>WINDOW</th><th scope=col>POSITION</th><th scope=col>TSS_DISTANCE</th><th scope=col>⋯</th><th scope=col>coloc_WT</th><th scope=col>p_SMR</th><th scope=col>SMR_WT</th><th scope=col>P_EQTL</th><th scope=col>EQTL_WT</th><th scope=col>LDSC_P</th><th scope=col>LDSC_WT</th><th scope=col>EMS_SCORE</th><th scope=col>EMS_WT</th><th scope=col>POPS_SCORE</th></tr>\n",
       "\t<tr><th></th><th scope=col>&lt;chr&gt;</th><th scope=col>&lt;chr&gt;</th><th scope=col>&lt;int&gt;</th><th scope=col>&lt;int&gt;</th><th scope=col>&lt;int&gt;</th><th scope=col>&lt;int&gt;</th><th scope=col>&lt;chr&gt;</th><th scope=col>&lt;int&gt;</th><th scope=col>&lt;int&gt;</th><th scope=col>&lt;int&gt;</th><th scope=col>⋯</th><th scope=col>&lt;dbl&gt;</th><th scope=col>&lt;dbl&gt;</th><th scope=col>&lt;dbl&gt;</th><th scope=col>&lt;dbl&gt;</th><th scope=col>&lt;dbl&gt;</th><th scope=col>&lt;dbl&gt;</th><th scope=col>&lt;dbl&gt;</th><th scope=col>&lt;dbl&gt;</th><th scope=col>&lt;dbl&gt;</th><th scope=col>&lt;dbl&gt;</th></tr>\n",
       "</thead>\n",
       "<tbody>\n",
       "\t<tr><th scope=row>1</th><td>ENSG00000004700</td><td>RECQL</td><td>12</td><td>21621845</td><td>21654603</td><td>21654603</td><td>rs11045172</td><td>12</td><td>20470221</td><td>1184382</td><td>⋯</td><td>0</td><td>NA</td><td>0</td><td>NA</td><td>0</td><td>0.626449957</td><td>1</td><td>0.0000000</td><td>0</td><td>0.5608250</td></tr>\n",
       "\t<tr><th scope=row>2</th><td>ENSG00000004975</td><td>DVL2 </td><td>17</td><td> 7128660</td><td> 7137864</td><td> 7137864</td><td>rs17805277</td><td>18</td><td> 7201753</td><td>  63889</td><td>⋯</td><td>0</td><td>NA</td><td>0</td><td>NA</td><td>0</td><td>0.000110552</td><td>1</td><td>0.7718478</td><td>1</td><td>0.5804209</td></tr>\n",
       "</tbody>\n",
       "</table>\n"
      ],
      "text/latex": [
       "A data.frame: 2 × 22\n",
       "\\begin{tabular}{r|lllllllllllllllllllll}\n",
       "  & ENSGID & NAME & CHR & START & END & TSS & INDEX & WINDOW & POSITION & TSS\\_DISTANCE & ⋯ & coloc\\_WT & p\\_SMR & SMR\\_WT & P\\_EQTL & EQTL\\_WT & LDSC\\_P & LDSC\\_WT & EMS\\_SCORE & EMS\\_WT & POPS\\_SCORE\\\\\n",
       "  & <chr> & <chr> & <int> & <int> & <int> & <int> & <chr> & <int> & <int> & <int> & ⋯ & <dbl> & <dbl> & <dbl> & <dbl> & <dbl> & <dbl> & <dbl> & <dbl> & <dbl> & <dbl>\\\\\n",
       "\\hline\n",
       "\t1 & ENSG00000004700 & RECQL & 12 & 21621845 & 21654603 & 21654603 & rs11045172 & 12 & 20470221 & 1184382 & ⋯ & 0 & NA & 0 & NA & 0 & 0.626449957 & 1 & 0.0000000 & 0 & 0.5608250\\\\\n",
       "\t2 & ENSG00000004975 & DVL2  & 17 &  7128660 &  7137864 &  7137864 & rs17805277 & 18 &  7201753 &   63889 & ⋯ & 0 & NA & 0 & NA & 0 & 0.000110552 & 1 & 0.7718478 & 1 & 0.5804209\\\\\n",
       "\\end{tabular}\n"
      ],
      "text/markdown": [
       "\n",
       "A data.frame: 2 × 22\n",
       "\n",
       "| <!--/--> | ENSGID &lt;chr&gt; | NAME &lt;chr&gt; | CHR &lt;int&gt; | START &lt;int&gt; | END &lt;int&gt; | TSS &lt;int&gt; | INDEX &lt;chr&gt; | WINDOW &lt;int&gt; | POSITION &lt;int&gt; | TSS_DISTANCE &lt;int&gt; | ⋯ ⋯ | coloc_WT &lt;dbl&gt; | p_SMR &lt;dbl&gt; | SMR_WT &lt;dbl&gt; | P_EQTL &lt;dbl&gt; | EQTL_WT &lt;dbl&gt; | LDSC_P &lt;dbl&gt; | LDSC_WT &lt;dbl&gt; | EMS_SCORE &lt;dbl&gt; | EMS_WT &lt;dbl&gt; | POPS_SCORE &lt;dbl&gt; |\n",
       "|---|---|---|---|---|---|---|---|---|---|---|---|---|---|---|---|---|---|---|---|---|---|\n",
       "| 1 | ENSG00000004700 | RECQL | 12 | 21621845 | 21654603 | 21654603 | rs11045172 | 12 | 20470221 | 1184382 | ⋯ | 0 | NA | 0 | NA | 0 | 0.626449957 | 1 | 0.0000000 | 0 | 0.5608250 |\n",
       "| 2 | ENSG00000004975 | DVL2  | 17 |  7128660 |  7137864 |  7137864 | rs17805277 | 18 |  7201753 |   63889 | ⋯ | 0 | NA | 0 | NA | 0 | 0.000110552 | 1 | 0.7718478 | 1 | 0.5804209 |\n",
       "\n"
      ],
      "text/plain": [
       "  ENSGID          NAME  CHR START    END      TSS      INDEX      WINDOW\n",
       "1 ENSG00000004700 RECQL 12  21621845 21654603 21654603 rs11045172 12    \n",
       "2 ENSG00000004975 DVL2  17   7128660  7137864  7137864 rs17805277 18    \n",
       "  POSITION TSS_DISTANCE ⋯ coloc_WT p_SMR SMR_WT P_EQTL EQTL_WT LDSC_P     \n",
       "1 20470221 1184382      ⋯ 0        NA    0      NA     0       0.626449957\n",
       "2  7201753   63889      ⋯ 0        NA    0      NA     0       0.000110552\n",
       "  LDSC_WT EMS_SCORE EMS_WT POPS_SCORE\n",
       "1 1       0.0000000 0      0.5608250 \n",
       "2 1       0.7718478 1      0.5804209 "
      ]
     },
     "metadata": {},
     "output_type": "display_data"
    }
   ],
   "source": [
    "head(gene_variant_7,2)"
   ]
  },
  {
   "cell_type": "code",
   "execution_count": 53,
   "id": "af529f70",
   "metadata": {},
   "outputs": [],
   "source": [
    "## DOWNSTREAMER"
   ]
  },
  {
   "cell_type": "code",
   "execution_count": 54,
   "id": "50296c83",
   "metadata": {},
   "outputs": [],
   "source": [
    "down_df <- read.table(\"../../ANALYSIS/DOWNSTREAMER//EUR_Downstreamer.txt\",fill=TRUE,row.names=NULL,header=TRUE)%>%mutate(DOWNSTREAMER_P=pnorm(q=ZSCORE, lower.tail=TRUE))"
   ]
  },
  {
   "cell_type": "code",
   "execution_count": 55,
   "id": "a33a6a72",
   "metadata": {},
   "outputs": [
    {
     "data": {
      "text/html": [
       "<table class=\"dataframe\">\n",
       "<caption>A data.frame: 2 × 4</caption>\n",
       "<thead>\n",
       "\t<tr><th></th><th scope=col>ENSG</th><th scope=col>NAME</th><th scope=col>ZSCORE</th><th scope=col>DOWNSTREAMER_P</th></tr>\n",
       "\t<tr><th></th><th scope=col>&lt;chr&gt;</th><th scope=col>&lt;chr&gt;</th><th scope=col>&lt;dbl&gt;</th><th scope=col>&lt;dbl&gt;</th></tr>\n",
       "</thead>\n",
       "<tbody>\n",
       "\t<tr><th scope=row>1</th><td>ENSG00000135698</td><td>MPHOSPH6</td><td>-0.8395639</td><td>0.200576463</td></tr>\n",
       "\t<tr><th scope=row>2</th><td>ENSG00000140945</td><td>CDH13   </td><td>-2.4315461</td><td>0.007517267</td></tr>\n",
       "</tbody>\n",
       "</table>\n"
      ],
      "text/latex": [
       "A data.frame: 2 × 4\n",
       "\\begin{tabular}{r|llll}\n",
       "  & ENSG & NAME & ZSCORE & DOWNSTREAMER\\_P\\\\\n",
       "  & <chr> & <chr> & <dbl> & <dbl>\\\\\n",
       "\\hline\n",
       "\t1 & ENSG00000135698 & MPHOSPH6 & -0.8395639 & 0.200576463\\\\\n",
       "\t2 & ENSG00000140945 & CDH13    & -2.4315461 & 0.007517267\\\\\n",
       "\\end{tabular}\n"
      ],
      "text/markdown": [
       "\n",
       "A data.frame: 2 × 4\n",
       "\n",
       "| <!--/--> | ENSG &lt;chr&gt; | NAME &lt;chr&gt; | ZSCORE &lt;dbl&gt; | DOWNSTREAMER_P &lt;dbl&gt; |\n",
       "|---|---|---|---|---|\n",
       "| 1 | ENSG00000135698 | MPHOSPH6 | -0.8395639 | 0.200576463 |\n",
       "| 2 | ENSG00000140945 | CDH13    | -2.4315461 | 0.007517267 |\n",
       "\n"
      ],
      "text/plain": [
       "  ENSG            NAME     ZSCORE     DOWNSTREAMER_P\n",
       "1 ENSG00000135698 MPHOSPH6 -0.8395639 0.200576463   \n",
       "2 ENSG00000140945 CDH13    -2.4315461 0.007517267   "
      ]
     },
     "metadata": {},
     "output_type": "display_data"
    }
   ],
   "source": [
    "head(down_df,2)"
   ]
  },
  {
   "cell_type": "code",
   "execution_count": 56,
   "id": "076de2f1",
   "metadata": {},
   "outputs": [],
   "source": [
    "gene_variant_8 <- data.frame()\n",
    "for (i in 1:nrow(gene_variant_7) ){\n",
    "line_q <- gene_variant_7[i,]\n",
    "ensg_q <- as.character(line_q[1])\n",
    "genep<- nrow(down_df%>%filter(ENSG==ensg_q))\n",
    "if (genep>0){\n",
    "downs_df <- down_df%>%filter(ENSG==ensg_q)%>%dplyr::select(DOWNSTREAMER_P)\n",
    "p_down <- min(downs_df$DOWNSTREAMER_P)\n",
    "}else {\n",
    "p_down <- NA\n",
    "}\n",
    "tmp_df <- gene_variant_7[i,]%>%mutate(DOWN_P=p_down)\n",
    "gene_variant_8 <- rbind(gene_variant_8,tmp_df)\n",
    "}"
   ]
  },
  {
   "cell_type": "code",
   "execution_count": 57,
   "id": "635aa94c",
   "metadata": {},
   "outputs": [
    {
     "data": {
      "text/html": [
       "<table class=\"dataframe\">\n",
       "<caption>A data.frame: 1 × 23</caption>\n",
       "<thead>\n",
       "\t<tr><th scope=col>ENSGID</th><th scope=col>NAME</th><th scope=col>CHR</th><th scope=col>START</th><th scope=col>END</th><th scope=col>TSS</th><th scope=col>INDEX</th><th scope=col>WINDOW</th><th scope=col>POSITION</th><th scope=col>TSS_DISTANCE</th><th scope=col>⋯</th><th scope=col>p_SMR</th><th scope=col>SMR_WT</th><th scope=col>P_EQTL</th><th scope=col>EQTL_WT</th><th scope=col>LDSC_P</th><th scope=col>LDSC_WT</th><th scope=col>EMS_SCORE</th><th scope=col>EMS_WT</th><th scope=col>POPS_SCORE</th><th scope=col>DOWN_P</th></tr>\n",
       "\t<tr><th scope=col>&lt;chr&gt;</th><th scope=col>&lt;chr&gt;</th><th scope=col>&lt;int&gt;</th><th scope=col>&lt;int&gt;</th><th scope=col>&lt;int&gt;</th><th scope=col>&lt;int&gt;</th><th scope=col>&lt;chr&gt;</th><th scope=col>&lt;int&gt;</th><th scope=col>&lt;int&gt;</th><th scope=col>&lt;int&gt;</th><th scope=col>⋯</th><th scope=col>&lt;dbl&gt;</th><th scope=col>&lt;dbl&gt;</th><th scope=col>&lt;dbl&gt;</th><th scope=col>&lt;dbl&gt;</th><th scope=col>&lt;dbl&gt;</th><th scope=col>&lt;dbl&gt;</th><th scope=col>&lt;dbl&gt;</th><th scope=col>&lt;dbl&gt;</th><th scope=col>&lt;dbl&gt;</th><th scope=col>&lt;dbl&gt;</th></tr>\n",
       "</thead>\n",
       "<tbody>\n",
       "\t<tr><td>ENSG00000181092</td><td>ADIPOQ</td><td>3</td><td>186560463</td><td>186576252</td><td>186560463</td><td>rs16861209</td><td>5</td><td>186563114</td><td>2651</td><td>⋯</td><td>NA</td><td>0</td><td>NA</td><td>0</td><td>0.0883593</td><td>1</td><td>0.02929795</td><td>0.8</td><td>0.7104921</td><td>0.3467609</td></tr>\n",
       "</tbody>\n",
       "</table>\n"
      ],
      "text/latex": [
       "A data.frame: 1 × 23\n",
       "\\begin{tabular}{lllllllllllllllllllll}\n",
       " ENSGID & NAME & CHR & START & END & TSS & INDEX & WINDOW & POSITION & TSS\\_DISTANCE & ⋯ & p\\_SMR & SMR\\_WT & P\\_EQTL & EQTL\\_WT & LDSC\\_P & LDSC\\_WT & EMS\\_SCORE & EMS\\_WT & POPS\\_SCORE & DOWN\\_P\\\\\n",
       " <chr> & <chr> & <int> & <int> & <int> & <int> & <chr> & <int> & <int> & <int> & ⋯ & <dbl> & <dbl> & <dbl> & <dbl> & <dbl> & <dbl> & <dbl> & <dbl> & <dbl> & <dbl>\\\\\n",
       "\\hline\n",
       "\t ENSG00000181092 & ADIPOQ & 3 & 186560463 & 186576252 & 186560463 & rs16861209 & 5 & 186563114 & 2651 & ⋯ & NA & 0 & NA & 0 & 0.0883593 & 1 & 0.02929795 & 0.8 & 0.7104921 & 0.3467609\\\\\n",
       "\\end{tabular}\n"
      ],
      "text/markdown": [
       "\n",
       "A data.frame: 1 × 23\n",
       "\n",
       "| ENSGID &lt;chr&gt; | NAME &lt;chr&gt; | CHR &lt;int&gt; | START &lt;int&gt; | END &lt;int&gt; | TSS &lt;int&gt; | INDEX &lt;chr&gt; | WINDOW &lt;int&gt; | POSITION &lt;int&gt; | TSS_DISTANCE &lt;int&gt; | ⋯ ⋯ | p_SMR &lt;dbl&gt; | SMR_WT &lt;dbl&gt; | P_EQTL &lt;dbl&gt; | EQTL_WT &lt;dbl&gt; | LDSC_P &lt;dbl&gt; | LDSC_WT &lt;dbl&gt; | EMS_SCORE &lt;dbl&gt; | EMS_WT &lt;dbl&gt; | POPS_SCORE &lt;dbl&gt; | DOWN_P &lt;dbl&gt; |\n",
       "|---|---|---|---|---|---|---|---|---|---|---|---|---|---|---|---|---|---|---|---|---|\n",
       "| ENSG00000181092 | ADIPOQ | 3 | 186560463 | 186576252 | 186560463 | rs16861209 | 5 | 186563114 | 2651 | ⋯ | NA | 0 | NA | 0 | 0.0883593 | 1 | 0.02929795 | 0.8 | 0.7104921 | 0.3467609 |\n",
       "\n"
      ],
      "text/plain": [
       "  ENSGID          NAME   CHR START     END       TSS       INDEX      WINDOW\n",
       "1 ENSG00000181092 ADIPOQ 3   186560463 186576252 186560463 rs16861209 5     \n",
       "  POSITION  TSS_DISTANCE ⋯ p_SMR SMR_WT P_EQTL EQTL_WT LDSC_P    LDSC_WT\n",
       "1 186563114 2651         ⋯ NA    0      NA     0       0.0883593 1      \n",
       "  EMS_SCORE  EMS_WT POPS_SCORE DOWN_P   \n",
       "1 0.02929795 0.8    0.7104921  0.3467609"
      ]
     },
     "metadata": {},
     "output_type": "display_data"
    }
   ],
   "source": [
    "gene_variant_8%>%filter(NAME==\"ADIPOQ\")"
   ]
  },
  {
   "cell_type": "code",
   "execution_count": 58,
   "id": "02575dfb",
   "metadata": {},
   "outputs": [],
   "source": [
    "## Epi MAp"
   ]
  },
  {
   "cell_type": "code",
   "execution_count": 59,
   "id": "c72bb48e",
   "metadata": {},
   "outputs": [],
   "source": [
    "epi_map <- read.table(\"../../ANALYSIS/EPIMAP//EPIMAP.tab\",fill=TRUE,row.names=NULL,header=TRUE)"
   ]
  },
  {
   "cell_type": "code",
   "execution_count": 60,
   "id": "928f3f69",
   "metadata": {},
   "outputs": [
    {
     "data": {
      "text/html": [
       "<table class=\"dataframe\">\n",
       "<caption>A data.frame: 2 × 3</caption>\n",
       "<thead>\n",
       "\t<tr><th></th><th scope=col>gene</th><th scope=col>score</th><th scope=col>group</th></tr>\n",
       "\t<tr><th></th><th scope=col>&lt;chr&gt;</th><th scope=col>&lt;chr&gt;</th><th scope=col>&lt;chr&gt;</th></tr>\n",
       "</thead>\n",
       "<tbody>\n",
       "\t<tr><th scope=row>1</th><td>ENSG00000008128</td><td>0.0882523589664035</td><td>Adipose</td></tr>\n",
       "\t<tr><th scope=row>2</th><td>ENSG00000078808</td><td>0.0823467903667026</td><td>Adipose</td></tr>\n",
       "</tbody>\n",
       "</table>\n"
      ],
      "text/latex": [
       "A data.frame: 2 × 3\n",
       "\\begin{tabular}{r|lll}\n",
       "  & gene & score & group\\\\\n",
       "  & <chr> & <chr> & <chr>\\\\\n",
       "\\hline\n",
       "\t1 & ENSG00000008128 & 0.0882523589664035 & Adipose\\\\\n",
       "\t2 & ENSG00000078808 & 0.0823467903667026 & Adipose\\\\\n",
       "\\end{tabular}\n"
      ],
      "text/markdown": [
       "\n",
       "A data.frame: 2 × 3\n",
       "\n",
       "| <!--/--> | gene &lt;chr&gt; | score &lt;chr&gt; | group &lt;chr&gt; |\n",
       "|---|---|---|---|\n",
       "| 1 | ENSG00000008128 | 0.0882523589664035 | Adipose |\n",
       "| 2 | ENSG00000078808 | 0.0823467903667026 | Adipose |\n",
       "\n"
      ],
      "text/plain": [
       "  gene            score              group  \n",
       "1 ENSG00000008128 0.0882523589664035 Adipose\n",
       "2 ENSG00000078808 0.0823467903667026 Adipose"
      ]
     },
     "metadata": {},
     "output_type": "display_data"
    }
   ],
   "source": [
    "head(epi_map,2)"
   ]
  },
  {
   "cell_type": "code",
   "execution_count": null,
   "id": "16b29b64-b585-4ded-947b-052bc8fc78da",
   "metadata": {},
   "outputs": [],
   "source": []
  },
  {
   "cell_type": "code",
   "execution_count": 61,
   "id": "6bc593e2",
   "metadata": {},
   "outputs": [],
   "source": [
    "gene_variant_9 <- data.frame()\n",
    "for (i in 1:nrow(gene_variant_8) ){\n",
    "line_q <- gene_variant_8[i,]\n",
    "ensg_q <- as.character(line_q[1])\n",
    "genep<- nrow(epi_map%>%filter(gene==ensg_q))\n",
    "if (genep>0){\n",
    "epi_df <- epi_map%>%filter(gene==ensg_q)%>%dplyr::select(score)\n",
    "epi_score <- max(epi_df$score)\n",
    "}else {\n",
    "epi_score <- 0\n",
    "}\n",
    "tmp_df <- gene_variant_8[i,]%>%mutate(EPIMAP_SCORE=epi_score)\n",
    "gene_variant_9 <- rbind(gene_variant_9,tmp_df)\n",
    "}"
   ]
  },
  {
   "cell_type": "code",
   "execution_count": 62,
   "id": "f10a980b",
   "metadata": {},
   "outputs": [],
   "source": [
    "## Genehancer"
   ]
  },
  {
   "cell_type": "code",
   "execution_count": 63,
   "id": "0e73b5c5",
   "metadata": {},
   "outputs": [
    {
     "name": "stderr",
     "output_type": "stream",
     "text": [
      "Warning message in mask$eval_all_mutate(quo):\n",
      "\"NAs introduced by coercion\"\n"
     ]
    }
   ],
   "source": [
    "gh <- read.table(\"../../ANALYSIS/GeneHancer/GENEHANCER.TAB\",fill=TRUE,row.names=NULL,header=TRUE)%>%mutate(CHROM=as.integer(om))%>%rename(START=name,END=start,SCORE=end)%>%\n",
    "dplyr::select(-om)%>%mutate(SCORE=stand01(SCORE))"
   ]
  },
  {
   "cell_type": "code",
   "execution_count": 64,
   "id": "6b9f294b",
   "metadata": {},
   "outputs": [
    {
     "data": {
      "text/html": [
       "<table class=\"dataframe\">\n",
       "<caption>A data.frame: 2 × 4</caption>\n",
       "<thead>\n",
       "\t<tr><th></th><th scope=col>START</th><th scope=col>END</th><th scope=col>SCORE</th><th scope=col>CHROM</th></tr>\n",
       "\t<tr><th></th><th scope=col>&lt;int&gt;</th><th scope=col>&lt;int&gt;</th><th scope=col>&lt;dbl&gt;</th><th scope=col>&lt;int&gt;</th></tr>\n",
       "</thead>\n",
       "<tbody>\n",
       "\t<tr><th scope=row>1</th><td>133518045</td><td>133518161</td><td>0.00617284</td><td> 6</td></tr>\n",
       "\t<tr><th scope=row>2</th><td> 51630569</td><td> 51633727</td><td>0.24691358</td><td>13</td></tr>\n",
       "</tbody>\n",
       "</table>\n"
      ],
      "text/latex": [
       "A data.frame: 2 × 4\n",
       "\\begin{tabular}{r|llll}\n",
       "  & START & END & SCORE & CHROM\\\\\n",
       "  & <int> & <int> & <dbl> & <int>\\\\\n",
       "\\hline\n",
       "\t1 & 133518045 & 133518161 & 0.00617284 &  6\\\\\n",
       "\t2 &  51630569 &  51633727 & 0.24691358 & 13\\\\\n",
       "\\end{tabular}\n"
      ],
      "text/markdown": [
       "\n",
       "A data.frame: 2 × 4\n",
       "\n",
       "| <!--/--> | START &lt;int&gt; | END &lt;int&gt; | SCORE &lt;dbl&gt; | CHROM &lt;int&gt; |\n",
       "|---|---|---|---|---|\n",
       "| 1 | 133518045 | 133518161 | 0.00617284 |  6 |\n",
       "| 2 |  51630569 |  51633727 | 0.24691358 | 13 |\n",
       "\n"
      ],
      "text/plain": [
       "  START     END       SCORE      CHROM\n",
       "1 133518045 133518161 0.00617284  6   \n",
       "2  51630569  51633727 0.24691358 13   "
      ]
     },
     "metadata": {},
     "output_type": "display_data"
    }
   ],
   "source": [
    "head(gh,2)"
   ]
  },
  {
   "cell_type": "code",
   "execution_count": 65,
   "id": "dc1d9965",
   "metadata": {},
   "outputs": [],
   "source": [
    "gene_variant_10 <- data.frame()\n",
    "for (i in 1:nrow(gene_variant_9) ){\n",
    "line_q <- gene_variant_9[i,]\n",
    "chr_q <- as.integer(line_q[3])\n",
    "start_q<- as.integer(line_q[4])\n",
    "end_q <- as.integer(line_q[5])\n",
    "genep<- nrow(gh%>%filter(CHROM==chr_q & START >= start_q & END <= end_q))\n",
    "if (genep>0){\n",
    "gh_df <- gh%>%filter(CHROM==chr_q & START >= start_q & END <= end_q)%>%dplyr::select(SCORE)\n",
    "gh_score <- max(gh_df$SCORE)\n",
    "}else {\n",
    "gh_score <- 0\n",
    "}\n",
    "tmp_df <- gene_variant_9[i,]%>%mutate(GH_SCORE=gh_score)\n",
    "gene_variant_10 <- rbind(gene_variant_10,tmp_df)\n",
    "}"
   ]
  },
  {
   "cell_type": "code",
   "execution_count": 66,
   "id": "ad2b7e0f-5e69-4b73-8540-d79f3b0e113b",
   "metadata": {},
   "outputs": [],
   "source": [
    "write.table(gene_variant_10,\"../../ANALYSIS/GeneHancer/EUR_GENEHANCER.TAB\",quote=FALSE,sep=\"\\t\")"
   ]
  },
  {
   "cell_type": "code",
   "execution_count": 67,
   "id": "74e56929",
   "metadata": {},
   "outputs": [
    {
     "data": {
      "text/html": [
       "<table class=\"dataframe\">\n",
       "<caption>A data.frame: 1 × 25</caption>\n",
       "<thead>\n",
       "\t<tr><th scope=col>ENSGID</th><th scope=col>NAME</th><th scope=col>CHR</th><th scope=col>START</th><th scope=col>END</th><th scope=col>TSS</th><th scope=col>INDEX</th><th scope=col>WINDOW</th><th scope=col>POSITION</th><th scope=col>TSS_DISTANCE</th><th scope=col>⋯</th><th scope=col>P_EQTL</th><th scope=col>EQTL_WT</th><th scope=col>LDSC_P</th><th scope=col>LDSC_WT</th><th scope=col>EMS_SCORE</th><th scope=col>EMS_WT</th><th scope=col>POPS_SCORE</th><th scope=col>DOWN_P</th><th scope=col>EPIMAP_SCORE</th><th scope=col>GH_SCORE</th></tr>\n",
       "\t<tr><th scope=col>&lt;chr&gt;</th><th scope=col>&lt;chr&gt;</th><th scope=col>&lt;int&gt;</th><th scope=col>&lt;int&gt;</th><th scope=col>&lt;int&gt;</th><th scope=col>&lt;int&gt;</th><th scope=col>&lt;chr&gt;</th><th scope=col>&lt;int&gt;</th><th scope=col>&lt;int&gt;</th><th scope=col>&lt;int&gt;</th><th scope=col>⋯</th><th scope=col>&lt;dbl&gt;</th><th scope=col>&lt;dbl&gt;</th><th scope=col>&lt;dbl&gt;</th><th scope=col>&lt;dbl&gt;</th><th scope=col>&lt;dbl&gt;</th><th scope=col>&lt;dbl&gt;</th><th scope=col>&lt;dbl&gt;</th><th scope=col>&lt;dbl&gt;</th><th scope=col>&lt;chr&gt;</th><th scope=col>&lt;dbl&gt;</th></tr>\n",
       "</thead>\n",
       "<tbody>\n",
       "\t<tr><td>ENSG00000181092</td><td>ADIPOQ</td><td>3</td><td>186560463</td><td>186576252</td><td>186560463</td><td>rs16861209</td><td>5</td><td>186563114</td><td>2651</td><td>⋯</td><td>NA</td><td>0</td><td>0.0883593</td><td>1</td><td>0.02929795</td><td>0.8</td><td>0.7104921</td><td>0.3467609</td><td>0.416221218865092</td><td>0.5740741</td></tr>\n",
       "</tbody>\n",
       "</table>\n"
      ],
      "text/latex": [
       "A data.frame: 1 × 25\n",
       "\\begin{tabular}{lllllllllllllllllllll}\n",
       " ENSGID & NAME & CHR & START & END & TSS & INDEX & WINDOW & POSITION & TSS\\_DISTANCE & ⋯ & P\\_EQTL & EQTL\\_WT & LDSC\\_P & LDSC\\_WT & EMS\\_SCORE & EMS\\_WT & POPS\\_SCORE & DOWN\\_P & EPIMAP\\_SCORE & GH\\_SCORE\\\\\n",
       " <chr> & <chr> & <int> & <int> & <int> & <int> & <chr> & <int> & <int> & <int> & ⋯ & <dbl> & <dbl> & <dbl> & <dbl> & <dbl> & <dbl> & <dbl> & <dbl> & <chr> & <dbl>\\\\\n",
       "\\hline\n",
       "\t ENSG00000181092 & ADIPOQ & 3 & 186560463 & 186576252 & 186560463 & rs16861209 & 5 & 186563114 & 2651 & ⋯ & NA & 0 & 0.0883593 & 1 & 0.02929795 & 0.8 & 0.7104921 & 0.3467609 & 0.416221218865092 & 0.5740741\\\\\n",
       "\\end{tabular}\n"
      ],
      "text/markdown": [
       "\n",
       "A data.frame: 1 × 25\n",
       "\n",
       "| ENSGID &lt;chr&gt; | NAME &lt;chr&gt; | CHR &lt;int&gt; | START &lt;int&gt; | END &lt;int&gt; | TSS &lt;int&gt; | INDEX &lt;chr&gt; | WINDOW &lt;int&gt; | POSITION &lt;int&gt; | TSS_DISTANCE &lt;int&gt; | ⋯ ⋯ | P_EQTL &lt;dbl&gt; | EQTL_WT &lt;dbl&gt; | LDSC_P &lt;dbl&gt; | LDSC_WT &lt;dbl&gt; | EMS_SCORE &lt;dbl&gt; | EMS_WT &lt;dbl&gt; | POPS_SCORE &lt;dbl&gt; | DOWN_P &lt;dbl&gt; | EPIMAP_SCORE &lt;chr&gt; | GH_SCORE &lt;dbl&gt; |\n",
       "|---|---|---|---|---|---|---|---|---|---|---|---|---|---|---|---|---|---|---|---|---|\n",
       "| ENSG00000181092 | ADIPOQ | 3 | 186560463 | 186576252 | 186560463 | rs16861209 | 5 | 186563114 | 2651 | ⋯ | NA | 0 | 0.0883593 | 1 | 0.02929795 | 0.8 | 0.7104921 | 0.3467609 | 0.416221218865092 | 0.5740741 |\n",
       "\n"
      ],
      "text/plain": [
       "  ENSGID          NAME   CHR START     END       TSS       INDEX      WINDOW\n",
       "1 ENSG00000181092 ADIPOQ 3   186560463 186576252 186560463 rs16861209 5     \n",
       "  POSITION  TSS_DISTANCE ⋯ P_EQTL EQTL_WT LDSC_P    LDSC_WT EMS_SCORE  EMS_WT\n",
       "1 186563114 2651         ⋯ NA     0       0.0883593 1       0.02929795 0.8   \n",
       "  POPS_SCORE DOWN_P    EPIMAP_SCORE      GH_SCORE \n",
       "1 0.7104921  0.3467609 0.416221218865092 0.5740741"
      ]
     },
     "metadata": {},
     "output_type": "display_data"
    }
   ],
   "source": [
    "gene_variant_10%>%filter(NAME==\"ADIPOQ\")"
   ]
  },
  {
   "cell_type": "code",
   "execution_count": 68,
   "id": "43dd3c0a",
   "metadata": {},
   "outputs": [],
   "source": [
    "## CS2GO SCORE"
   ]
  },
  {
   "cell_type": "code",
   "execution_count": 69,
   "id": "a3d3afe8",
   "metadata": {},
   "outputs": [],
   "source": [
    "cs2g <- read.table(\"../../ANALYSIS/cS2G/EUR_CS2G.TAB\",fill=TRUE,row.names=NULL,header=TRUE)"
   ]
  },
  {
   "cell_type": "code",
   "execution_count": 70,
   "id": "b6226c3d",
   "metadata": {},
   "outputs": [
    {
     "data": {
      "text/html": [
       "<table class=\"dataframe\">\n",
       "<caption>A data.frame: 2 × 5</caption>\n",
       "<thead>\n",
       "\t<tr><th></th><th scope=col>CHROMOSOME</th><th scope=col>POSITION</th><th scope=col>GENENAME</th><th scope=col>SCORE</th><th scope=col>INFO</th></tr>\n",
       "\t<tr><th></th><th scope=col>&lt;int&gt;</th><th scope=col>&lt;int&gt;</th><th scope=col>&lt;chr&gt;</th><th scope=col>&lt;dbl&gt;</th><th scope=col>&lt;chr&gt;</th></tr>\n",
       "</thead>\n",
       "<tbody>\n",
       "\t<tr><th scope=row>1</th><td> 4</td><td>83899764</td><td>THAP9-AS1</td><td>1.0</td><td>|GTeX_Finemapped=1|PCHiC_Javierre=0.333</td></tr>\n",
       "\t<tr><th scope=row>2</th><td>18</td><td>46361441</td><td>SMAD7    </td><td>0.5</td><td>|PCHiC_Javierre=1|PCHiC_Jung=1|Cicero=1</td></tr>\n",
       "</tbody>\n",
       "</table>\n"
      ],
      "text/latex": [
       "A data.frame: 2 × 5\n",
       "\\begin{tabular}{r|lllll}\n",
       "  & CHROMOSOME & POSITION & GENENAME & SCORE & INFO\\\\\n",
       "  & <int> & <int> & <chr> & <dbl> & <chr>\\\\\n",
       "\\hline\n",
       "\t1 &  4 & 83899764 & THAP9-AS1 & 1.0 & \\textbar{}GTeX\\_Finemapped=1\\textbar{}PCHiC\\_Javierre=0.333\\\\\n",
       "\t2 & 18 & 46361441 & SMAD7     & 0.5 & \\textbar{}PCHiC\\_Javierre=1\\textbar{}PCHiC\\_Jung=1\\textbar{}Cicero=1\\\\\n",
       "\\end{tabular}\n"
      ],
      "text/markdown": [
       "\n",
       "A data.frame: 2 × 5\n",
       "\n",
       "| <!--/--> | CHROMOSOME &lt;int&gt; | POSITION &lt;int&gt; | GENENAME &lt;chr&gt; | SCORE &lt;dbl&gt; | INFO &lt;chr&gt; |\n",
       "|---|---|---|---|---|---|\n",
       "| 1 |  4 | 83899764 | THAP9-AS1 | 1.0 | |GTeX_Finemapped=1|PCHiC_Javierre=0.333 |\n",
       "| 2 | 18 | 46361441 | SMAD7     | 0.5 | |PCHiC_Javierre=1|PCHiC_Jung=1|Cicero=1 |\n",
       "\n"
      ],
      "text/plain": [
       "  CHROMOSOME POSITION GENENAME  SCORE INFO                                   \n",
       "1  4         83899764 THAP9-AS1 1.0   |GTeX_Finemapped=1|PCHiC_Javierre=0.333\n",
       "2 18         46361441 SMAD7     0.5   |PCHiC_Javierre=1|PCHiC_Jung=1|Cicero=1"
      ]
     },
     "metadata": {},
     "output_type": "display_data"
    }
   ],
   "source": [
    "head(cs2g,2)"
   ]
  },
  {
   "cell_type": "code",
   "execution_count": 71,
   "id": "06c84c66",
   "metadata": {},
   "outputs": [],
   "source": [
    "gene_variant_11 <- data.frame()\n",
    "for (i in 1:nrow(gene_variant_10) ){\n",
    "line_q <- gene_variant_10[i,]\n",
    "ensg_q <- as.character(line_q[2])\n",
    "genep<- nrow(cs2g%>%filter(GENENAME==ensg_q))\n",
    "if (genep>0){\n",
    "cs2g_df <- cs2g%>%filter(GENENAME==ensg_q)%>%dplyr::select(SCORE)\n",
    "score <- mean(cs2g_df$SCORE)\n",
    "}else {\n",
    "score <- NA\n",
    "}\n",
    "tmp_df <- gene_variant_10[i,]%>%mutate(CS2G_SCORE=score)\n",
    "gene_variant_11 <- rbind(gene_variant_11,tmp_df)\n",
    "}"
   ]
  },
  {
   "cell_type": "code",
   "execution_count": 72,
   "id": "b8a98b44",
   "metadata": {},
   "outputs": [
    {
     "data": {
      "text/html": [
       "<table class=\"dataframe\">\n",
       "<caption>A data.frame: 1 × 26</caption>\n",
       "<thead>\n",
       "\t<tr><th scope=col>ENSGID</th><th scope=col>NAME</th><th scope=col>CHR</th><th scope=col>START</th><th scope=col>END</th><th scope=col>TSS</th><th scope=col>INDEX</th><th scope=col>WINDOW</th><th scope=col>POSITION</th><th scope=col>TSS_DISTANCE</th><th scope=col>⋯</th><th scope=col>EQTL_WT</th><th scope=col>LDSC_P</th><th scope=col>LDSC_WT</th><th scope=col>EMS_SCORE</th><th scope=col>EMS_WT</th><th scope=col>POPS_SCORE</th><th scope=col>DOWN_P</th><th scope=col>EPIMAP_SCORE</th><th scope=col>GH_SCORE</th><th scope=col>CS2G_SCORE</th></tr>\n",
       "\t<tr><th scope=col>&lt;chr&gt;</th><th scope=col>&lt;chr&gt;</th><th scope=col>&lt;int&gt;</th><th scope=col>&lt;int&gt;</th><th scope=col>&lt;int&gt;</th><th scope=col>&lt;int&gt;</th><th scope=col>&lt;chr&gt;</th><th scope=col>&lt;int&gt;</th><th scope=col>&lt;int&gt;</th><th scope=col>&lt;int&gt;</th><th scope=col>⋯</th><th scope=col>&lt;dbl&gt;</th><th scope=col>&lt;dbl&gt;</th><th scope=col>&lt;dbl&gt;</th><th scope=col>&lt;dbl&gt;</th><th scope=col>&lt;dbl&gt;</th><th scope=col>&lt;dbl&gt;</th><th scope=col>&lt;dbl&gt;</th><th scope=col>&lt;chr&gt;</th><th scope=col>&lt;dbl&gt;</th><th scope=col>&lt;dbl&gt;</th></tr>\n",
       "</thead>\n",
       "<tbody>\n",
       "\t<tr><td>ENSG00000140945</td><td>CDH13</td><td>16</td><td>82660408</td><td>83830204</td><td>82660408</td><td>rs12051272</td><td>17</td><td>82663288</td><td>2880</td><td>⋯</td><td>1</td><td>0.155644</td><td>1</td><td>0.4593698</td><td>1</td><td>0.6555731</td><td>0.007517267</td><td>0.965118097095955</td><td>0.558642</td><td>0.9895455</td></tr>\n",
       "</tbody>\n",
       "</table>\n"
      ],
      "text/latex": [
       "A data.frame: 1 × 26\n",
       "\\begin{tabular}{lllllllllllllllllllll}\n",
       " ENSGID & NAME & CHR & START & END & TSS & INDEX & WINDOW & POSITION & TSS\\_DISTANCE & ⋯ & EQTL\\_WT & LDSC\\_P & LDSC\\_WT & EMS\\_SCORE & EMS\\_WT & POPS\\_SCORE & DOWN\\_P & EPIMAP\\_SCORE & GH\\_SCORE & CS2G\\_SCORE\\\\\n",
       " <chr> & <chr> & <int> & <int> & <int> & <int> & <chr> & <int> & <int> & <int> & ⋯ & <dbl> & <dbl> & <dbl> & <dbl> & <dbl> & <dbl> & <dbl> & <chr> & <dbl> & <dbl>\\\\\n",
       "\\hline\n",
       "\t ENSG00000140945 & CDH13 & 16 & 82660408 & 83830204 & 82660408 & rs12051272 & 17 & 82663288 & 2880 & ⋯ & 1 & 0.155644 & 1 & 0.4593698 & 1 & 0.6555731 & 0.007517267 & 0.965118097095955 & 0.558642 & 0.9895455\\\\\n",
       "\\end{tabular}\n"
      ],
      "text/markdown": [
       "\n",
       "A data.frame: 1 × 26\n",
       "\n",
       "| ENSGID &lt;chr&gt; | NAME &lt;chr&gt; | CHR &lt;int&gt; | START &lt;int&gt; | END &lt;int&gt; | TSS &lt;int&gt; | INDEX &lt;chr&gt; | WINDOW &lt;int&gt; | POSITION &lt;int&gt; | TSS_DISTANCE &lt;int&gt; | ⋯ ⋯ | EQTL_WT &lt;dbl&gt; | LDSC_P &lt;dbl&gt; | LDSC_WT &lt;dbl&gt; | EMS_SCORE &lt;dbl&gt; | EMS_WT &lt;dbl&gt; | POPS_SCORE &lt;dbl&gt; | DOWN_P &lt;dbl&gt; | EPIMAP_SCORE &lt;chr&gt; | GH_SCORE &lt;dbl&gt; | CS2G_SCORE &lt;dbl&gt; |\n",
       "|---|---|---|---|---|---|---|---|---|---|---|---|---|---|---|---|---|---|---|---|---|\n",
       "| ENSG00000140945 | CDH13 | 16 | 82660408 | 83830204 | 82660408 | rs12051272 | 17 | 82663288 | 2880 | ⋯ | 1 | 0.155644 | 1 | 0.4593698 | 1 | 0.6555731 | 0.007517267 | 0.965118097095955 | 0.558642 | 0.9895455 |\n",
       "\n"
      ],
      "text/plain": [
       "  ENSGID          NAME  CHR START    END      TSS      INDEX      WINDOW\n",
       "1 ENSG00000140945 CDH13 16  82660408 83830204 82660408 rs12051272 17    \n",
       "  POSITION TSS_DISTANCE ⋯ EQTL_WT LDSC_P   LDSC_WT EMS_SCORE EMS_WT POPS_SCORE\n",
       "1 82663288 2880         ⋯ 1       0.155644 1       0.4593698 1      0.6555731 \n",
       "  DOWN_P      EPIMAP_SCORE      GH_SCORE CS2G_SCORE\n",
       "1 0.007517267 0.965118097095955 0.558642 0.9895455 "
      ]
     },
     "metadata": {},
     "output_type": "display_data"
    }
   ],
   "source": [
    "gene_variant_11%>%filter(NAME==\"CDH13\")"
   ]
  },
  {
   "cell_type": "code",
   "execution_count": 73,
   "id": "131ae361",
   "metadata": {},
   "outputs": [
    {
     "name": "stderr",
     "output_type": "stream",
     "text": [
      "Warning message:\n",
      "\"package 'metap' was built under R version 4.2.1\"\n"
     ]
    }
   ],
   "source": [
    "library('metap')"
   ]
  },
  {
   "cell_type": "code",
   "execution_count": 74,
   "id": "fdc02414",
   "metadata": {},
   "outputs": [],
   "source": [
    "gene_priority <- data.frame()\n",
    "for (i in 1:nrow(gene_variant_11) ){\n",
    "line_q <- gene_variant_11[i,] \n",
    "p_g_raw <- na.omit(c(line_q$MAGMA_P,line_q$p_SMR,line_q$P_EQTL,line_q$LDSC_P,line_q$DOWN_P))\n",
    "if (length(p_g_raw)<2){\n",
    "p_g <- p_g_raw\n",
    "} else {\n",
    "p_g <- -log10(as.double(allmetap(p_g_raw,method=\"sumz\")$p))}\n",
    "S_G <- sum(as.double(na.omit(c(line_q$coloc_pip,line_q$EMS_SCORE,line_q$POPS_SCORE,line_q$EPIMAP_SCORE,line_q$GH_SCORE,line_q$CS2G_SCORE))))\n",
    "C_S <- sum(as.double(na.omit(c(line_q$coloc_WT,line_q$SMR_WT,line_q$EQTL_WT,line_q$LDSC_WT,line_q$EMS_WT)))+\n",
    "           length(as.double(na.omit(line_q$MAGMA_P,line_q$POPS_SCORE,line_q$DOWN_P,line_q$EPIMAP_SCORE,line_q$GH_SCORE,line_q$CS2G_SCORE))))/11\n",
    "GP_SCORE <- ((as.double(p_g)+as.double(S_G))*as.double(C_S))/log2(line_q$TSS_DISTANCE)\n",
    "tmp_df <- gene_variant_11[i,]%>%mutate(GP_SCORE=as.double(GP_SCORE),P_G=p_g,SG=S_G,CS=C_S)\n",
    "gene_priority  <- rbind(gene_priority,tmp_df)\n",
    "}"
   ]
  },
  {
   "cell_type": "code",
   "execution_count": 75,
   "id": "b2805456",
   "metadata": {},
   "outputs": [
    {
     "name": "stderr",
     "output_type": "stream",
     "text": [
      "\u001b[1m\u001b[22mAdding missing grouping variables: `WINDOW`\n"
     ]
    }
   ],
   "source": [
    "gene_priority <- arrange(gene_priority%>%group_by(WINDOW)%>% mutate(mx = max(GP_SCORE)) %>% arrange(desc(mx), desc(GP_SCORE)) %>% dplyr::select(-mx),CHR,POSITION)%>%\n",
    "dplyr::select(NAME,CHR,POSITION,INDEX,GP_SCORE,TSS_DISTANCE,P_G,SG,CS,MAGMA_P,p_SMR,P_EQTL,LDSC_P,DOWN_P,coloc_pip,EMS_SCORE,POPS_SCORE,GH_SCORE,CS2G_SCORE,coloc_WT,SMR_WT,EQTL_WT,LDSC_WT,EMS_WT)"
   ]
  },
  {
   "cell_type": "code",
   "execution_count": 76,
   "id": "ad9fb3ef-a143-4923-8d07-41c633818a11",
   "metadata": {},
   "outputs": [],
   "source": [
    "write.table(gene_priority,\"../../ANALYSIS/GENE_PRIORITY/RUR_GENE_PRIORITY.TAB\",row.names=FALSE,quote=FALSE,sep=\"\\t\")"
   ]
  },
  {
   "cell_type": "code",
   "execution_count": 72,
   "id": "0017a5a7-14f6-401d-972a-370d8b9e256f",
   "metadata": {},
   "outputs": [],
   "source": [
    "##REGRESSION"
   ]
  },
  {
   "cell_type": "code",
   "execution_count": 73,
   "id": "1d7e63e1-f61c-4c8b-a9b7-f0c9de714a0c",
   "metadata": {},
   "outputs": [],
   "source": [
    "suppressWarnings(suppressMessages(library('relaimpo')))"
   ]
  },
  {
   "cell_type": "code",
   "execution_count": 74,
   "id": "92a35fd5-7681-4735-ba47-f728b71b9806",
   "metadata": {},
   "outputs": [
    {
     "data": {
      "text/html": [
       "<pre class=language-r><code>function (x, na.rm = FALSE) \n",
       "sqrt(var(if (is.vector(x) || is.factor(x)) x else as.double(x), \n",
       "<span style=white-space:pre-wrap>    na.rm = na.rm))</span></code></pre>"
      ],
      "text/latex": [
       "\\begin{minted}{r}\n",
       "function (x, na.rm = FALSE) \n",
       "sqrt(var(if (is.vector(x) \\textbar{}\\textbar{} is.factor(x)) x else as.double(x), \n",
       "    na.rm = na.rm))\n",
       "\\end{minted}"
      ],
      "text/markdown": [
       "```r\n",
       "function (x, na.rm = FALSE) \n",
       "sqrt(var(if (is.vector(x) || is.factor(x)) x else as.double(x), \n",
       "    na.rm = na.rm))\n",
       "```"
      ],
      "text/plain": [
       "function (x, na.rm = FALSE) \n",
       "sqrt(var(if (is.vector(x) || is.factor(x)) x else as.double(x), \n",
       "    na.rm = na.rm))\n",
       "<bytecode: 0x0000026a7caa9858>\n",
       "<environment: namespace:stats>"
      ]
     },
     "metadata": {},
     "output_type": "display_data"
    }
   ],
   "source": [
    "sd"
   ]
  },
  {
   "cell_type": "code",
   "execution_count": 75,
   "id": "f0094e5a-8c5c-4e60-aee3-07238fa4bee7",
   "metadata": {},
   "outputs": [],
   "source": [
    "normalit<-function(m){\n",
    "   (m - mean(m))/(sd(m))\n",
    " }"
   ]
  },
  {
   "cell_type": "code",
   "execution_count": 76,
   "id": "18a843f4-d69c-4d6f-bb1c-8963c59cc846",
   "metadata": {},
   "outputs": [],
   "source": [
    "df <- gene_priority%>%filter(WINDOW==2)%>%mutate(TSS_norm=normalit(log2(TSS_DISTANCE)),PG=normalit(P_G),CSN=normalit(CS),SGN=normalit(SG*2))"
   ]
  },
  {
   "cell_type": "code",
   "execution_count": 77,
   "id": "01560d78-d440-4fd5-9501-f07d6f26eb04",
   "metadata": {},
   "outputs": [
    {
     "data": {
      "text/plain": [
       "   Min. 1st Qu.  Median    Mean 3rd Qu.    Max. \n",
       "-1.7260 -0.4323 -0.1721  0.0000  0.2758  2.0149 "
      ]
     },
     "metadata": {},
     "output_type": "display_data"
    }
   ],
   "source": [
    "summary(df$SGN)"
   ]
  },
  {
   "cell_type": "code",
   "execution_count": 78,
   "id": "a84a2de7-38f2-43b6-a11a-5e0d92fb9b67",
   "metadata": {},
   "outputs": [
    {
     "ename": "ERROR",
     "evalue": "Error in parse(text = x, srcfile = src): <text>:1:12: unexpected ')'\n1: summary(df$)\n               ^\n",
     "output_type": "error",
     "traceback": [
      "Error in parse(text = x, srcfile = src): <text>:1:12: unexpected ')'\n1: summary(df$)\n               ^\nTraceback:\n"
     ]
    }
   ],
   "source": [
    "summary(df$)"
   ]
  },
  {
   "cell_type": "code",
   "execution_count": null,
   "id": "4eca56ec-3f7f-46bf-9a8d-81b8b7311dcd",
   "metadata": {},
   "outputs": [],
   "source": [
    "colnames(df)"
   ]
  },
  {
   "cell_type": "code",
   "execution_count": null,
   "id": "da40f92e-607c-416e-9157-d9736d9050a7",
   "metadata": {},
   "outputs": [],
   "source": [
    "model <- lm(SG ~ coloc_pip + EMS_SCORE + POPS_SCORE+GH_SCORE+CS2G_SCORE ,data=df)"
   ]
  },
  {
   "cell_type": "code",
   "execution_count": null,
   "id": "66123438-757f-483b-9580-75cabf26b8fd",
   "metadata": {},
   "outputs": [],
   "source": [
    "summary(model)"
   ]
  },
  {
   "cell_type": "code",
   "execution_count": null,
   "id": "5c46103c-9a0f-4031-b37d-5281e929ee81",
   "metadata": {},
   "outputs": [],
   "source": [
    "calc.relimp(model,rela=TRUE)$lmg"
   ]
  },
  {
   "cell_type": "code",
   "execution_count": null,
   "id": "c255a9cf-d569-4e51-92e4-58d05be1bd1a",
   "metadata": {},
   "outputs": [],
   "source": [
    "booteval.relimp(bootrun, bty = \"perc\", level = 0.95,\n",
    "sort = FALSE, norank = FALSE, nodiff = FALSE,\n",
    "typesel = c(\"lmg\", \"pmvd\", \"last\", \"first\", \"betasq\", \"pratt\", \"genizi\", \"car\"))"
   ]
  },
  {
   "cell_type": "code",
   "execution_count": null,
   "id": "ae992d4b-3e8e-428b-a6c7-be9ea00a621a",
   "metadata": {},
   "outputs": [],
   "source": [
    "library(AdaSampling)\n",
    "data(brca)"
   ]
  },
  {
   "cell_type": "code",
   "execution_count": null,
   "id": "e580b36d-0447-4abd-8e50-168bd6b38891",
   "metadata": {},
   "outputs": [],
   "source": [
    "brca.mat <- apply(X = brca[,-10], MARGIN = 2, FUN = as.numeric)\n",
    "brca.cls <- sapply(X = brca$cla, FUN = function(x) {ifelse(x == \"malignant\", 1, 0)})\n",
    "rownames(brca.mat) <- paste(\"p\", 1:nrow(brca.mat), sep=\"_\")"
   ]
  },
  {
   "cell_type": "code",
   "execution_count": null,
   "id": "ce05d97a-8f8e-4556-841d-d96f13e9e0fc",
   "metadata": {},
   "outputs": [],
   "source": [
    "table(brca.cls)\n",
    "brca.cls"
   ]
  },
  {
   "cell_type": "code",
   "execution_count": 83,
   "id": "c806f79f-0241-47bf-a62f-7855d8b9e27f",
   "metadata": {},
   "outputs": [],
   "source": [
    "set.seed(1)\n",
    "pos <- which(brca.cls == 1)\n",
    "neg <- which(brca.cls == 0)\n",
    "brca.cls.noisy <- brca.cls\n",
    "brca.cls.noisy[sample(pos, floor(length(pos) * 0.4))] <- 0\n",
    "brca.cls.noisy[sample(neg, floor(length(neg) * 0.3))] <- 1"
   ]
  },
  {
   "cell_type": "code",
   "execution_count": 84,
   "id": "114af93c-b3eb-4b7c-8ef4-03da96f56772",
   "metadata": {},
   "outputs": [
    {
     "data": {
      "text/plain": [
       "brca.cls.noisy\n",
       "  0   1 \n",
       "406 277 "
      ]
     },
     "metadata": {},
     "output_type": "display_data"
    },
    {
     "data": {
      "text/html": [
       "<style>\n",
       ".list-inline {list-style: none; margin:0; padding: 0}\n",
       ".list-inline>li {display: inline-block}\n",
       ".list-inline>li:not(:last-child)::after {content: \"\\00b7\"; padding: 0 .5ex}\n",
       "</style>\n",
       "<ol class=list-inline><li>1</li><li>1</li><li>1</li><li>1</li><li>1</li><li>1</li><li>0</li><li>1</li><li>1</li><li>1</li><li>1</li><li>1</li><li>0</li><li>0</li><li>1</li><li>1</li><li>1</li><li>1</li><li>1</li><li>0</li><li>0</li><li>0</li><li>0</li><li>0</li><li>0</li><li>1</li><li>1</li><li>1</li><li>0</li><li>1</li><li>0</li><li>1</li><li>0</li><li>0</li><li>1</li><li>1</li><li>0</li><li>1</li><li>0</li><li>0</li><li>1</li><li>0</li><li>0</li><li>0</li><li>0</li><li>1</li><li>1</li><li>0</li><li>1</li><li>1</li><li>0</li><li>1</li><li>1</li><li>1</li><li>1</li><li>1</li><li>1</li><li>1</li><li>1</li><li>1</li><li>1</li><li>1</li><li>1</li><li>1</li><li>1</li><li>1</li><li>1</li><li>0</li><li>1</li><li>0</li><li>1</li><li>1</li><li>0</li><li>0</li><li>0</li><li>1</li><li>1</li><li>1</li><li>0</li><li>1</li><li>1</li><li>1</li><li>0</li><li>0</li><li>0</li><li>1</li><li>0</li><li>1</li><li>0</li><li>0</li><li>1</li><li>1</li><li>1</li><li>1</li><li>1</li><li>1</li><li>1</li><li>1</li><li>1</li><li>1</li><li>1</li><li>0</li><li>0</li><li>0</li><li>0</li><li>0</li><li>1</li><li>0</li><li>1</li><li>0</li><li>0</li><li>1</li><li>1</li><li>1</li><li>0</li><li>1</li><li>1</li><li>0</li><li>0</li><li>1</li><li>0</li><li>0</li><li>1</li><li>1</li><li>1</li><li>0</li><li>1</li><li>1</li><li>0</li><li>0</li><li>1</li><li>1</li><li>1</li><li>0</li><li>1</li><li>1</li><li>1</li><li>1</li><li>1</li><li>1</li><li>0</li><li>1</li><li>1</li><li>1</li><li>0</li><li>0</li><li>1</li><li>0</li><li>0</li><li>0</li><li>1</li><li>1</li><li>1</li><li>1</li><li>1</li><li>0</li><li>0</li><li>1</li><li>1</li><li>0</li><li>1</li><li>0</li><li>0</li><li>1</li><li>0</li><li>0</li><li>0</li><li>1</li><li>1</li><li>1</li><li>0</li><li>0</li><li>1</li><li>0</li><li>0</li><li>1</li><li>1</li><li>1</li><li>0</li><li>1</li><li>1</li><li>0</li><li>1</li><li>1</li><li>1</li><li>0</li><li>0</li><li>1</li><li>1</li><li>1</li><li>1</li><li>0</li><li>1</li><li>0</li><li>0</li><li>0</li><li>1</li><li>1</li><li>0</li><li>1</li><li>⋯</li><li>0</li><li>1</li><li>1</li><li>0</li><li>1</li><li>0</li><li>0</li><li>0</li><li>0</li><li>1</li><li>0</li><li>0</li><li>0</li><li>0</li><li>0</li><li>0</li><li>0</li><li>0</li><li>0</li><li>0</li><li>1</li><li>0</li><li>0</li><li>0</li><li>0</li><li>0</li><li>1</li><li>0</li><li>1</li><li>0</li><li>0</li><li>0</li><li>0</li><li>0</li><li>0</li><li>0</li><li>0</li><li>1</li><li>0</li><li>1</li><li>1</li><li>1</li><li>0</li><li>0</li><li>0</li><li>1</li><li>0</li><li>0</li><li>1</li><li>1</li><li>1</li><li>1</li><li>1</li><li>0</li><li>1</li><li>1</li><li>0</li><li>0</li><li>0</li><li>1</li><li>1</li><li>1</li><li>1</li><li>0</li><li>1</li><li>0</li><li>0</li><li>0</li><li>0</li><li>0</li><li>0</li><li>1</li><li>0</li><li>0</li><li>0</li><li>0</li><li>0</li><li>0</li><li>0</li><li>0</li><li>0</li><li>1</li><li>1</li><li>1</li><li>0</li><li>0</li><li>0</li><li>0</li><li>1</li><li>0</li><li>0</li><li>0</li><li>0</li><li>0</li><li>1</li><li>1</li><li>0</li><li>0</li><li>1</li><li>0</li><li>0</li><li>1</li><li>0</li><li>0</li><li>1</li><li>0</li><li>0</li><li>0</li><li>0</li><li>0</li><li>1</li><li>1</li><li>0</li><li>0</li><li>1</li><li>0</li><li>1</li><li>0</li><li>0</li><li>1</li><li>0</li><li>0</li><li>0</li><li>0</li><li>1</li><li>1</li><li>0</li><li>0</li><li>0</li><li>0</li><li>0</li><li>0</li><li>1</li><li>0</li><li>0</li><li>1</li><li>0</li><li>1</li><li>0</li><li>0</li><li>0</li><li>0</li><li>0</li><li>0</li><li>0</li><li>0</li><li>0</li><li>0</li><li>1</li><li>1</li><li>0</li><li>0</li><li>0</li><li>0</li><li>0</li><li>1</li><li>0</li><li>1</li><li>0</li><li>0</li><li>0</li><li>1</li><li>0</li><li>1</li><li>0</li><li>1</li><li>0</li><li>0</li><li>0</li><li>1</li><li>0</li><li>0</li><li>0</li><li>0</li><li>0</li><li>0</li><li>0</li><li>0</li><li>0</li><li>0</li><li>0</li><li>0</li><li>0</li><li>0</li><li>0</li><li>0</li><li>0</li><li>0</li><li>0</li><li>0</li><li>1</li><li>1</li><li>0</li><li>0</li><li>1</li><li>1</li><li>0</li><li>0</li><li>1</li><li>0</li></ol>\n"
      ],
      "text/latex": [
       "\\begin{enumerate*}\n",
       "\\item 1\n",
       "\\item 1\n",
       "\\item 1\n",
       "\\item 1\n",
       "\\item 1\n",
       "\\item 1\n",
       "\\item 0\n",
       "\\item 1\n",
       "\\item 1\n",
       "\\item 1\n",
       "\\item 1\n",
       "\\item 1\n",
       "\\item 0\n",
       "\\item 0\n",
       "\\item 1\n",
       "\\item 1\n",
       "\\item 1\n",
       "\\item 1\n",
       "\\item 1\n",
       "\\item 0\n",
       "\\item 0\n",
       "\\item 0\n",
       "\\item 0\n",
       "\\item 0\n",
       "\\item 0\n",
       "\\item 1\n",
       "\\item 1\n",
       "\\item 1\n",
       "\\item 0\n",
       "\\item 1\n",
       "\\item 0\n",
       "\\item 1\n",
       "\\item 0\n",
       "\\item 0\n",
       "\\item 1\n",
       "\\item 1\n",
       "\\item 0\n",
       "\\item 1\n",
       "\\item 0\n",
       "\\item 0\n",
       "\\item 1\n",
       "\\item 0\n",
       "\\item 0\n",
       "\\item 0\n",
       "\\item 0\n",
       "\\item 1\n",
       "\\item 1\n",
       "\\item 0\n",
       "\\item 1\n",
       "\\item 1\n",
       "\\item 0\n",
       "\\item 1\n",
       "\\item 1\n",
       "\\item 1\n",
       "\\item 1\n",
       "\\item 1\n",
       "\\item 1\n",
       "\\item 1\n",
       "\\item 1\n",
       "\\item 1\n",
       "\\item 1\n",
       "\\item 1\n",
       "\\item 1\n",
       "\\item 1\n",
       "\\item 1\n",
       "\\item 1\n",
       "\\item 1\n",
       "\\item 0\n",
       "\\item 1\n",
       "\\item 0\n",
       "\\item 1\n",
       "\\item 1\n",
       "\\item 0\n",
       "\\item 0\n",
       "\\item 0\n",
       "\\item 1\n",
       "\\item 1\n",
       "\\item 1\n",
       "\\item 0\n",
       "\\item 1\n",
       "\\item 1\n",
       "\\item 1\n",
       "\\item 0\n",
       "\\item 0\n",
       "\\item 0\n",
       "\\item 1\n",
       "\\item 0\n",
       "\\item 1\n",
       "\\item 0\n",
       "\\item 0\n",
       "\\item 1\n",
       "\\item 1\n",
       "\\item 1\n",
       "\\item 1\n",
       "\\item 1\n",
       "\\item 1\n",
       "\\item 1\n",
       "\\item 1\n",
       "\\item 1\n",
       "\\item 1\n",
       "\\item 1\n",
       "\\item 0\n",
       "\\item 0\n",
       "\\item 0\n",
       "\\item 0\n",
       "\\item 0\n",
       "\\item 1\n",
       "\\item 0\n",
       "\\item 1\n",
       "\\item 0\n",
       "\\item 0\n",
       "\\item 1\n",
       "\\item 1\n",
       "\\item 1\n",
       "\\item 0\n",
       "\\item 1\n",
       "\\item 1\n",
       "\\item 0\n",
       "\\item 0\n",
       "\\item 1\n",
       "\\item 0\n",
       "\\item 0\n",
       "\\item 1\n",
       "\\item 1\n",
       "\\item 1\n",
       "\\item 0\n",
       "\\item 1\n",
       "\\item 1\n",
       "\\item 0\n",
       "\\item 0\n",
       "\\item 1\n",
       "\\item 1\n",
       "\\item 1\n",
       "\\item 0\n",
       "\\item 1\n",
       "\\item 1\n",
       "\\item 1\n",
       "\\item 1\n",
       "\\item 1\n",
       "\\item 1\n",
       "\\item 0\n",
       "\\item 1\n",
       "\\item 1\n",
       "\\item 1\n",
       "\\item 0\n",
       "\\item 0\n",
       "\\item 1\n",
       "\\item 0\n",
       "\\item 0\n",
       "\\item 0\n",
       "\\item 1\n",
       "\\item 1\n",
       "\\item 1\n",
       "\\item 1\n",
       "\\item 1\n",
       "\\item 0\n",
       "\\item 0\n",
       "\\item 1\n",
       "\\item 1\n",
       "\\item 0\n",
       "\\item 1\n",
       "\\item 0\n",
       "\\item 0\n",
       "\\item 1\n",
       "\\item 0\n",
       "\\item 0\n",
       "\\item 0\n",
       "\\item 1\n",
       "\\item 1\n",
       "\\item 1\n",
       "\\item 0\n",
       "\\item 0\n",
       "\\item 1\n",
       "\\item 0\n",
       "\\item 0\n",
       "\\item 1\n",
       "\\item 1\n",
       "\\item 1\n",
       "\\item 0\n",
       "\\item 1\n",
       "\\item 1\n",
       "\\item 0\n",
       "\\item 1\n",
       "\\item 1\n",
       "\\item 1\n",
       "\\item 0\n",
       "\\item 0\n",
       "\\item 1\n",
       "\\item 1\n",
       "\\item 1\n",
       "\\item 1\n",
       "\\item 0\n",
       "\\item 1\n",
       "\\item 0\n",
       "\\item 0\n",
       "\\item 0\n",
       "\\item 1\n",
       "\\item 1\n",
       "\\item 0\n",
       "\\item 1\n",
       "\\item ⋯\n",
       "\\item 0\n",
       "\\item 1\n",
       "\\item 1\n",
       "\\item 0\n",
       "\\item 1\n",
       "\\item 0\n",
       "\\item 0\n",
       "\\item 0\n",
       "\\item 0\n",
       "\\item 1\n",
       "\\item 0\n",
       "\\item 0\n",
       "\\item 0\n",
       "\\item 0\n",
       "\\item 0\n",
       "\\item 0\n",
       "\\item 0\n",
       "\\item 0\n",
       "\\item 0\n",
       "\\item 0\n",
       "\\item 1\n",
       "\\item 0\n",
       "\\item 0\n",
       "\\item 0\n",
       "\\item 0\n",
       "\\item 0\n",
       "\\item 1\n",
       "\\item 0\n",
       "\\item 1\n",
       "\\item 0\n",
       "\\item 0\n",
       "\\item 0\n",
       "\\item 0\n",
       "\\item 0\n",
       "\\item 0\n",
       "\\item 0\n",
       "\\item 0\n",
       "\\item 1\n",
       "\\item 0\n",
       "\\item 1\n",
       "\\item 1\n",
       "\\item 1\n",
       "\\item 0\n",
       "\\item 0\n",
       "\\item 0\n",
       "\\item 1\n",
       "\\item 0\n",
       "\\item 0\n",
       "\\item 1\n",
       "\\item 1\n",
       "\\item 1\n",
       "\\item 1\n",
       "\\item 1\n",
       "\\item 0\n",
       "\\item 1\n",
       "\\item 1\n",
       "\\item 0\n",
       "\\item 0\n",
       "\\item 0\n",
       "\\item 1\n",
       "\\item 1\n",
       "\\item 1\n",
       "\\item 1\n",
       "\\item 0\n",
       "\\item 1\n",
       "\\item 0\n",
       "\\item 0\n",
       "\\item 0\n",
       "\\item 0\n",
       "\\item 0\n",
       "\\item 0\n",
       "\\item 1\n",
       "\\item 0\n",
       "\\item 0\n",
       "\\item 0\n",
       "\\item 0\n",
       "\\item 0\n",
       "\\item 0\n",
       "\\item 0\n",
       "\\item 0\n",
       "\\item 0\n",
       "\\item 1\n",
       "\\item 1\n",
       "\\item 1\n",
       "\\item 0\n",
       "\\item 0\n",
       "\\item 0\n",
       "\\item 0\n",
       "\\item 1\n",
       "\\item 0\n",
       "\\item 0\n",
       "\\item 0\n",
       "\\item 0\n",
       "\\item 0\n",
       "\\item 1\n",
       "\\item 1\n",
       "\\item 0\n",
       "\\item 0\n",
       "\\item 1\n",
       "\\item 0\n",
       "\\item 0\n",
       "\\item 1\n",
       "\\item 0\n",
       "\\item 0\n",
       "\\item 1\n",
       "\\item 0\n",
       "\\item 0\n",
       "\\item 0\n",
       "\\item 0\n",
       "\\item 0\n",
       "\\item 1\n",
       "\\item 1\n",
       "\\item 0\n",
       "\\item 0\n",
       "\\item 1\n",
       "\\item 0\n",
       "\\item 1\n",
       "\\item 0\n",
       "\\item 0\n",
       "\\item 1\n",
       "\\item 0\n",
       "\\item 0\n",
       "\\item 0\n",
       "\\item 0\n",
       "\\item 1\n",
       "\\item 1\n",
       "\\item 0\n",
       "\\item 0\n",
       "\\item 0\n",
       "\\item 0\n",
       "\\item 0\n",
       "\\item 0\n",
       "\\item 1\n",
       "\\item 0\n",
       "\\item 0\n",
       "\\item 1\n",
       "\\item 0\n",
       "\\item 1\n",
       "\\item 0\n",
       "\\item 0\n",
       "\\item 0\n",
       "\\item 0\n",
       "\\item 0\n",
       "\\item 0\n",
       "\\item 0\n",
       "\\item 0\n",
       "\\item 0\n",
       "\\item 0\n",
       "\\item 1\n",
       "\\item 1\n",
       "\\item 0\n",
       "\\item 0\n",
       "\\item 0\n",
       "\\item 0\n",
       "\\item 0\n",
       "\\item 1\n",
       "\\item 0\n",
       "\\item 1\n",
       "\\item 0\n",
       "\\item 0\n",
       "\\item 0\n",
       "\\item 1\n",
       "\\item 0\n",
       "\\item 1\n",
       "\\item 0\n",
       "\\item 1\n",
       "\\item 0\n",
       "\\item 0\n",
       "\\item 0\n",
       "\\item 1\n",
       "\\item 0\n",
       "\\item 0\n",
       "\\item 0\n",
       "\\item 0\n",
       "\\item 0\n",
       "\\item 0\n",
       "\\item 0\n",
       "\\item 0\n",
       "\\item 0\n",
       "\\item 0\n",
       "\\item 0\n",
       "\\item 0\n",
       "\\item 0\n",
       "\\item 0\n",
       "\\item 0\n",
       "\\item 0\n",
       "\\item 0\n",
       "\\item 0\n",
       "\\item 0\n",
       "\\item 0\n",
       "\\item 1\n",
       "\\item 1\n",
       "\\item 0\n",
       "\\item 0\n",
       "\\item 1\n",
       "\\item 1\n",
       "\\item 0\n",
       "\\item 0\n",
       "\\item 1\n",
       "\\item 0\n",
       "\\end{enumerate*}\n"
      ],
      "text/markdown": [
       "1. 1\n",
       "2. 1\n",
       "3. 1\n",
       "4. 1\n",
       "5. 1\n",
       "6. 1\n",
       "7. 0\n",
       "8. 1\n",
       "9. 1\n",
       "10. 1\n",
       "11. 1\n",
       "12. 1\n",
       "13. 0\n",
       "14. 0\n",
       "15. 1\n",
       "16. 1\n",
       "17. 1\n",
       "18. 1\n",
       "19. 1\n",
       "20. 0\n",
       "21. 0\n",
       "22. 0\n",
       "23. 0\n",
       "24. 0\n",
       "25. 0\n",
       "26. 1\n",
       "27. 1\n",
       "28. 1\n",
       "29. 0\n",
       "30. 1\n",
       "31. 0\n",
       "32. 1\n",
       "33. 0\n",
       "34. 0\n",
       "35. 1\n",
       "36. 1\n",
       "37. 0\n",
       "38. 1\n",
       "39. 0\n",
       "40. 0\n",
       "41. 1\n",
       "42. 0\n",
       "43. 0\n",
       "44. 0\n",
       "45. 0\n",
       "46. 1\n",
       "47. 1\n",
       "48. 0\n",
       "49. 1\n",
       "50. 1\n",
       "51. 0\n",
       "52. 1\n",
       "53. 1\n",
       "54. 1\n",
       "55. 1\n",
       "56. 1\n",
       "57. 1\n",
       "58. 1\n",
       "59. 1\n",
       "60. 1\n",
       "61. 1\n",
       "62. 1\n",
       "63. 1\n",
       "64. 1\n",
       "65. 1\n",
       "66. 1\n",
       "67. 1\n",
       "68. 0\n",
       "69. 1\n",
       "70. 0\n",
       "71. 1\n",
       "72. 1\n",
       "73. 0\n",
       "74. 0\n",
       "75. 0\n",
       "76. 1\n",
       "77. 1\n",
       "78. 1\n",
       "79. 0\n",
       "80. 1\n",
       "81. 1\n",
       "82. 1\n",
       "83. 0\n",
       "84. 0\n",
       "85. 0\n",
       "86. 1\n",
       "87. 0\n",
       "88. 1\n",
       "89. 0\n",
       "90. 0\n",
       "91. 1\n",
       "92. 1\n",
       "93. 1\n",
       "94. 1\n",
       "95. 1\n",
       "96. 1\n",
       "97. 1\n",
       "98. 1\n",
       "99. 1\n",
       "100. 1\n",
       "101. 1\n",
       "102. 0\n",
       "103. 0\n",
       "104. 0\n",
       "105. 0\n",
       "106. 0\n",
       "107. 1\n",
       "108. 0\n",
       "109. 1\n",
       "110. 0\n",
       "111. 0\n",
       "112. 1\n",
       "113. 1\n",
       "114. 1\n",
       "115. 0\n",
       "116. 1\n",
       "117. 1\n",
       "118. 0\n",
       "119. 0\n",
       "120. 1\n",
       "121. 0\n",
       "122. 0\n",
       "123. 1\n",
       "124. 1\n",
       "125. 1\n",
       "126. 0\n",
       "127. 1\n",
       "128. 1\n",
       "129. 0\n",
       "130. 0\n",
       "131. 1\n",
       "132. 1\n",
       "133. 1\n",
       "134. 0\n",
       "135. 1\n",
       "136. 1\n",
       "137. 1\n",
       "138. 1\n",
       "139. 1\n",
       "140. 1\n",
       "141. 0\n",
       "142. 1\n",
       "143. 1\n",
       "144. 1\n",
       "145. 0\n",
       "146. 0\n",
       "147. 1\n",
       "148. 0\n",
       "149. 0\n",
       "150. 0\n",
       "151. 1\n",
       "152. 1\n",
       "153. 1\n",
       "154. 1\n",
       "155. 1\n",
       "156. 0\n",
       "157. 0\n",
       "158. 1\n",
       "159. 1\n",
       "160. 0\n",
       "161. 1\n",
       "162. 0\n",
       "163. 0\n",
       "164. 1\n",
       "165. 0\n",
       "166. 0\n",
       "167. 0\n",
       "168. 1\n",
       "169. 1\n",
       "170. 1\n",
       "171. 0\n",
       "172. 0\n",
       "173. 1\n",
       "174. 0\n",
       "175. 0\n",
       "176. 1\n",
       "177. 1\n",
       "178. 1\n",
       "179. 0\n",
       "180. 1\n",
       "181. 1\n",
       "182. 0\n",
       "183. 1\n",
       "184. 1\n",
       "185. 1\n",
       "186. 0\n",
       "187. 0\n",
       "188. 1\n",
       "189. 1\n",
       "190. 1\n",
       "191. 1\n",
       "192. 0\n",
       "193. 1\n",
       "194. 0\n",
       "195. 0\n",
       "196. 0\n",
       "197. 1\n",
       "198. 1\n",
       "199. 0\n",
       "200. 1\n",
       "201. ⋯\n",
       "202. 0\n",
       "203. 1\n",
       "204. 1\n",
       "205. 0\n",
       "206. 1\n",
       "207. 0\n",
       "208. 0\n",
       "209. 0\n",
       "210. 0\n",
       "211. 1\n",
       "212. 0\n",
       "213. 0\n",
       "214. 0\n",
       "215. 0\n",
       "216. 0\n",
       "217. 0\n",
       "218. 0\n",
       "219. 0\n",
       "220. 0\n",
       "221. 0\n",
       "222. 1\n",
       "223. 0\n",
       "224. 0\n",
       "225. 0\n",
       "226. 0\n",
       "227. 0\n",
       "228. 1\n",
       "229. 0\n",
       "230. 1\n",
       "231. 0\n",
       "232. 0\n",
       "233. 0\n",
       "234. 0\n",
       "235. 0\n",
       "236. 0\n",
       "237. 0\n",
       "238. 0\n",
       "239. 1\n",
       "240. 0\n",
       "241. 1\n",
       "242. 1\n",
       "243. 1\n",
       "244. 0\n",
       "245. 0\n",
       "246. 0\n",
       "247. 1\n",
       "248. 0\n",
       "249. 0\n",
       "250. 1\n",
       "251. 1\n",
       "252. 1\n",
       "253. 1\n",
       "254. 1\n",
       "255. 0\n",
       "256. 1\n",
       "257. 1\n",
       "258. 0\n",
       "259. 0\n",
       "260. 0\n",
       "261. 1\n",
       "262. 1\n",
       "263. 1\n",
       "264. 1\n",
       "265. 0\n",
       "266. 1\n",
       "267. 0\n",
       "268. 0\n",
       "269. 0\n",
       "270. 0\n",
       "271. 0\n",
       "272. 0\n",
       "273. 1\n",
       "274. 0\n",
       "275. 0\n",
       "276. 0\n",
       "277. 0\n",
       "278. 0\n",
       "279. 0\n",
       "280. 0\n",
       "281. 0\n",
       "282. 0\n",
       "283. 1\n",
       "284. 1\n",
       "285. 1\n",
       "286. 0\n",
       "287. 0\n",
       "288. 0\n",
       "289. 0\n",
       "290. 1\n",
       "291. 0\n",
       "292. 0\n",
       "293. 0\n",
       "294. 0\n",
       "295. 0\n",
       "296. 1\n",
       "297. 1\n",
       "298. 0\n",
       "299. 0\n",
       "300. 1\n",
       "301. 0\n",
       "302. 0\n",
       "303. 1\n",
       "304. 0\n",
       "305. 0\n",
       "306. 1\n",
       "307. 0\n",
       "308. 0\n",
       "309. 0\n",
       "310. 0\n",
       "311. 0\n",
       "312. 1\n",
       "313. 1\n",
       "314. 0\n",
       "315. 0\n",
       "316. 1\n",
       "317. 0\n",
       "318. 1\n",
       "319. 0\n",
       "320. 0\n",
       "321. 1\n",
       "322. 0\n",
       "323. 0\n",
       "324. 0\n",
       "325. 0\n",
       "326. 1\n",
       "327. 1\n",
       "328. 0\n",
       "329. 0\n",
       "330. 0\n",
       "331. 0\n",
       "332. 0\n",
       "333. 0\n",
       "334. 1\n",
       "335. 0\n",
       "336. 0\n",
       "337. 1\n",
       "338. 0\n",
       "339. 1\n",
       "340. 0\n",
       "341. 0\n",
       "342. 0\n",
       "343. 0\n",
       "344. 0\n",
       "345. 0\n",
       "346. 0\n",
       "347. 0\n",
       "348. 0\n",
       "349. 0\n",
       "350. 1\n",
       "351. 1\n",
       "352. 0\n",
       "353. 0\n",
       "354. 0\n",
       "355. 0\n",
       "356. 0\n",
       "357. 1\n",
       "358. 0\n",
       "359. 1\n",
       "360. 0\n",
       "361. 0\n",
       "362. 0\n",
       "363. 1\n",
       "364. 0\n",
       "365. 1\n",
       "366. 0\n",
       "367. 1\n",
       "368. 0\n",
       "369. 0\n",
       "370. 0\n",
       "371. 1\n",
       "372. 0\n",
       "373. 0\n",
       "374. 0\n",
       "375. 0\n",
       "376. 0\n",
       "377. 0\n",
       "378. 0\n",
       "379. 0\n",
       "380. 0\n",
       "381. 0\n",
       "382. 0\n",
       "383. 0\n",
       "384. 0\n",
       "385. 0\n",
       "386. 0\n",
       "387. 0\n",
       "388. 0\n",
       "389. 0\n",
       "390. 0\n",
       "391. 0\n",
       "392. 1\n",
       "393. 1\n",
       "394. 0\n",
       "395. 0\n",
       "396. 1\n",
       "397. 1\n",
       "398. 0\n",
       "399. 0\n",
       "400. 1\n",
       "401. 0\n",
       "\n",
       "\n"
      ],
      "text/plain": [
       "  [1] 1 1 1 1 1 1 0 1 1 1 1 1 0 0 1 1 1 1 1 0 0 0 0 0 0 1 1 1 0 1 0 1 0 0 1 1 0\n",
       " [38] 1 0 0 1 0 0 0 0 1 1 0 1 1 0 1 1 1 1 1 1 1 1 1 1 1 1 1 1 1 1 0 1 0 1 1 0 0\n",
       " [75] 0 1 1 1 0 1 1 1 0 0 0 1 0 1 0 0 1 1 1 1 1 1 1 1 1 1 1 0 0 0 0 0 1 0 1 0 0\n",
       "[112] 1 1 1 0 1 1 0 0 1 0 0 1 1 1 0 1 1 0 0 1 1 1 0 1 1 1 1 1 1 0 1 1 1 0 0 1 0\n",
       "[149] 0 0 1 1 1 1 1 0 0 1 1 0 1 0 0 1 0 0 0 1 1 1 0 0 1 0 0 1 1 1 0 1 1 0 1 1 1\n",
       "[186] 0 0 1 1 1 1 0 1 0 0 0 1 1 0 1 1 1 0 1 0 1 0 0 0 0 0 1 0 1 0 0 0 1 1 1 1 0\n",
       "[223] 1 0 0 0 1 1 1 1 1 0 0 1 1 1 1 1 1 1 0 0 0 0 0 0 0 0 0 0 0 0 1 1 1 0 0 1 1\n",
       "[260] 0 0 0 1 0 0 1 0 1 0 1 0 0 0 0 1 0 0 0 1 1 0 1 0 0 0 0 1 1 1 1 0 1 0 0 0 0\n",
       "[297] 0 0 0 1 1 0 1 1 0 0 0 0 0 0 1 1 0 1 0 1 1 0 0 0 0 0 0 0 1 0 0 0 0 0 1 0 0\n",
       "[334] 0 0 0 1 0 0 0 1 1 0 1 0 1 0 0 1 1 0 1 0 0 1 1 0 0 0 1 1 0 1 0 1 1 0 1 1 0\n",
       "[371] 1 1 0 1 0 0 1 0 1 0 0 1 0 0 0 0 0 0 0 0 1 0 0 0 0 0 0 0 1 0 0 1 0 0 0 0 1\n",
       "[408] 0 1 0 0 0 1 0 0 0 0 0 0 1 0 0 0 0 0 0 0 0 0 0 0 0 1 0 0 0 0 0 0 0 0 0 1 0\n",
       "[445] 0 1 0 0 0 0 1 0 1 0 0 0 1 1 0 1 0 0 1 1 0 0 0 1 0 0 0 1 1 0 0 1 0 1 0 0 1\n",
       "[482] 0 0 0 1 1 0 1 0 0 0 0 1 0 0 0 0 0 0 0 0 0 0 1 0 0 0 0 0 1 0 1 0 0 0 0 0 0\n",
       "[519] 0 0 1 0 1 1 1 0 0 0 1 0 0 1 1 1 1 1 0 1 1 0 0 0 1 1 1 1 0 1 0 0 0 0 0 0 1\n",
       "[556] 0 0 0 0 0 0 0 0 0 1 1 1 0 0 0 0 1 0 0 0 0 0 1 1 0 0 1 0 0 1 0 0 1 0 0 0 0\n",
       "[593] 0 1 1 0 0 1 0 1 0 0 1 0 0 0 0 1 1 0 0 0 0 0 0 1 0 0 1 0 1 0 0 0 0 0 0 0 0\n",
       "[630] 0 0 1 1 0 0 0 0 0 1 0 1 0 0 0 1 0 1 0 1 0 0 0 1 0 0 0 0 0 0 0 0 0 0 0 0 0\n",
       "[667] 0 0 0 0 0 0 0 1 1 0 0 1 1 0 0 1 0"
      ]
     },
     "metadata": {},
     "output_type": "display_data"
    }
   ],
   "source": [
    "table(brca.cls.noisy)\n",
    "brca.cls.noisy"
   ]
  },
  {
   "cell_type": "code",
   "execution_count": 89,
   "id": "144b337a-2d47-452d-b574-9ffda70b7265",
   "metadata": {},
   "outputs": [
    {
     "data": {
      "text/html": [
       "<table class=\"dataframe\">\n",
       "<caption>A matrix: 6 × 2 of type dbl</caption>\n",
       "<thead>\n",
       "\t<tr><th></th><th scope=col>P</th><th scope=col>N</th></tr>\n",
       "</thead>\n",
       "<tbody>\n",
       "\t<tr><th scope=row>p_1</th><td>1.0000000</td><td>0.0000000</td></tr>\n",
       "\t<tr><th scope=row>p_2</th><td>0.6666667</td><td>0.3333333</td></tr>\n",
       "\t<tr><th scope=row>p_3</th><td>1.0000000</td><td>0.0000000</td></tr>\n",
       "\t<tr><th scope=row>p_4</th><td>0.6000000</td><td>0.4000000</td></tr>\n",
       "\t<tr><th scope=row>p_5</th><td>0.8000000</td><td>0.2000000</td></tr>\n",
       "\t<tr><th scope=row>p_6</th><td>1.0000000</td><td>0.0000000</td></tr>\n",
       "</tbody>\n",
       "</table>\n"
      ],
      "text/latex": [
       "A matrix: 6 × 2 of type dbl\n",
       "\\begin{tabular}{r|ll}\n",
       "  & P & N\\\\\n",
       "\\hline\n",
       "\tp\\_1 & 1.0000000 & 0.0000000\\\\\n",
       "\tp\\_2 & 0.6666667 & 0.3333333\\\\\n",
       "\tp\\_3 & 1.0000000 & 0.0000000\\\\\n",
       "\tp\\_4 & 0.6000000 & 0.4000000\\\\\n",
       "\tp\\_5 & 0.8000000 & 0.2000000\\\\\n",
       "\tp\\_6 & 1.0000000 & 0.0000000\\\\\n",
       "\\end{tabular}\n"
      ],
      "text/markdown": [
       "\n",
       "A matrix: 6 × 2 of type dbl\n",
       "\n",
       "| <!--/--> | P | N |\n",
       "|---|---|---|\n",
       "| p_1 | 1.0000000 | 0.0000000 |\n",
       "| p_2 | 0.6666667 | 0.3333333 |\n",
       "| p_3 | 1.0000000 | 0.0000000 |\n",
       "| p_4 | 0.6000000 | 0.4000000 |\n",
       "| p_5 | 0.8000000 | 0.2000000 |\n",
       "| p_6 | 1.0000000 | 0.0000000 |\n",
       "\n"
      ],
      "text/plain": [
       "    P         N        \n",
       "p_1 1.0000000 0.0000000\n",
       "p_2 0.6666667 0.3333333\n",
       "p_3 1.0000000 0.0000000\n",
       "p_4 0.6000000 0.4000000\n",
       "p_5 0.8000000 0.2000000\n",
       "p_6 1.0000000 0.0000000"
      ]
     },
     "metadata": {},
     "output_type": "display_data"
    }
   ],
   "source": [
    "Ps <- rownames(brca.mat)[which(brca.cls.noisy == 1)]\n",
    "Ns <- rownames(brca.mat)[which(brca.cls.noisy == 0)]\n",
    "\n",
    "brca.preds <- adaSample(Ps, Ns, train.mat=brca.mat, test.mat=brca.mat,\n",
    "                  classifier = \"knn\", C= 1, sampleFactor = 1)\n",
    "head(brca.preds)\n"
   ]
  },
  {
   "cell_type": "code",
   "execution_count": 176,
   "id": "7df1830f",
   "metadata": {},
   "outputs": [],
   "source": [
    "write.table(gene_priority,\"../../ANALYSIS/GENE_PRIORITY/EUR_GENE_PRIORITY_NM.TAB\",row.names=FALSE,quote=FALSE,sep=\"\\t\")"
   ]
  },
  {
   "cell_type": "code",
   "execution_count": 139,
   "id": "5827a62f",
   "metadata": {},
   "outputs": [],
   "source": [
    "top3_genes <- gene_priority%>%group_by(WINDOW) %>% slice_max(order_by = GP_SCORE, n = 3)"
   ]
  },
  {
   "cell_type": "code",
   "execution_count": 140,
   "id": "05ee50f2",
   "metadata": {},
   "outputs": [],
   "source": [
    "write.table(top3_genes,\"../../ANALYSIS/GENE_PRIORITY/EUR_GENE_PRIORITY_TOP3_NM.TAB\",row.names=FALSE,quote=FALSE,sep=\"\\t\")"
   ]
  },
  {
   "cell_type": "code",
   "execution_count": null,
   "id": "30c9a3ef",
   "metadata": {},
   "outputs": [],
   "source": []
  }
 ],
 "metadata": {
  "kernelspec": {
   "display_name": "R",
   "language": "R",
   "name": "ir"
  },
  "language_info": {
   "codemirror_mode": "r",
   "file_extension": ".r",
   "mimetype": "text/x-r-source",
   "name": "R",
   "pygments_lexer": "r",
   "version": "4.2.0"
  }
 },
 "nbformat": 4,
 "nbformat_minor": 5
}
