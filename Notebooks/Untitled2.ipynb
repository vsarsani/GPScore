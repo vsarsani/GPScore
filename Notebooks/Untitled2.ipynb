{
 "cells": [
  {
   "cell_type": "code",
   "execution_count": 2,
   "id": "4744f98f-414a-4d60-b7bc-ac148965b4f7",
   "metadata": {},
   "outputs": [
    {
     "ename": "ERROR",
     "evalue": "Error in install_github(\"djmcrouch/priorsplitteR\"): could not find function \"install_github\"\n",
     "output_type": "error",
     "traceback": [
      "Error in install_github(\"djmcrouch/priorsplitteR\"): could not find function \"install_github\"\nTraceback:\n"
     ]
    }
   ],
   "source": [
    "install_github(\"djmcrouch/priorsplitteR\")\n",
    "\n",
    "#Run (in R):\n",
    "#Beta and s should be vectors of the same length. Seed is a scalar.\n",
    "BFDR.priorsplitteR(beta=beta,s=s,seed=seed,outFileStem=\"outFileStem\")"
   ]
  },
  {
   "cell_type": "code",
   "execution_count": null,
   "id": "39b49f88-aa78-44a9-b866-24811c2b6077",
   "metadata": {},
   "outputs": [],
   "source": []
  }
 ],
 "metadata": {
  "kernelspec": {
   "display_name": "R",
   "language": "R",
   "name": "ir"
  },
  "language_info": {
   "codemirror_mode": "r",
   "file_extension": ".r",
   "mimetype": "text/x-r-source",
   "name": "R",
   "pygments_lexer": "r",
   "version": "4.2.0"
  }
 },
 "nbformat": 4,
 "nbformat_minor": 5
}
