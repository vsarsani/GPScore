{
 "cells": [
  {
   "cell_type": "code",
   "execution_count": 1,
   "id": "a95136aa",
   "metadata": {},
   "outputs": [],
   "source": [
    "suppressMessages(suppressWarnings(library(tidyverse)))"
   ]
  },
  {
   "cell_type": "code",
   "execution_count": 2,
   "id": "cc42e7ab",
   "metadata": {},
   "outputs": [],
   "source": [
    "META_TWO <- read.table(\"../data/EUROPEAN_GWAS_ALLELECORRECTED.TAB\",header=T,fill=TRUE,row.names=NULL)"
   ]
  },
  {
   "cell_type": "code",
   "execution_count": 3,
   "id": "d39fe63a",
   "metadata": {},
   "outputs": [
    {
     "data": {
      "text/html": [
       "<table class=\"dataframe\">\n",
       "<caption>A data.frame: 6 × 17</caption>\n",
       "<thead>\n",
       "\t<tr><th></th><th scope=col>MARKERNAME</th><th scope=col>CHROMOSOME</th><th scope=col>POSITION</th><th scope=col>ADIPO_EA</th><th scope=col>ADIPO_NEA</th><th scope=col>ADIPO_EAF</th><th scope=col>ADIPO_N</th><th scope=col>ADIPO_BETA</th><th scope=col>ADIPO_SE</th><th scope=col>ADIPO_PVALUE</th><th scope=col>METSIM_EA</th><th scope=col>METSIM_NEA</th><th scope=col>METSIM_EAF</th><th scope=col>METSIM_N</th><th scope=col>METSIM_BETA</th><th scope=col>METSIM_SE</th><th scope=col>METSIM_PVALUE</th></tr>\n",
       "\t<tr><th></th><th scope=col>&lt;chr&gt;</th><th scope=col>&lt;int&gt;</th><th scope=col>&lt;int&gt;</th><th scope=col>&lt;chr&gt;</th><th scope=col>&lt;chr&gt;</th><th scope=col>&lt;dbl&gt;</th><th scope=col>&lt;int&gt;</th><th scope=col>&lt;dbl&gt;</th><th scope=col>&lt;dbl&gt;</th><th scope=col>&lt;dbl&gt;</th><th scope=col>&lt;chr&gt;</th><th scope=col>&lt;chr&gt;</th><th scope=col>&lt;dbl&gt;</th><th scope=col>&lt;int&gt;</th><th scope=col>&lt;dbl&gt;</th><th scope=col>&lt;dbl&gt;</th><th scope=col>&lt;dbl&gt;</th></tr>\n",
       "</thead>\n",
       "<tbody>\n",
       "\t<tr><th scope=row>1</th><td>rs10      </td><td>7</td><td> 92383888</td><td>C</td><td>A</td><td>0.03333</td><td>21257</td><td>-0.004702</td><td>0.015279</td><td>0.7653763</td><td>C</td><td>A</td><td>0.07344</td><td>9236</td><td>-0.062990</td><td>0.02893</td><td>0.02947</td></tr>\n",
       "\t<tr><th scope=row>2</th><td>rs10000012</td><td>4</td><td>  1357325</td><td>G</td><td>C</td><td>0.19170</td><td>29331</td><td>-0.008930</td><td>0.006456</td><td>0.1798523</td><td>G</td><td>C</td><td>0.12227</td><td>9236</td><td>-0.004815</td><td>0.02297</td><td>0.83400</td></tr>\n",
       "\t<tr><th scope=row>3</th><td>rs10000017</td><td>4</td><td> 84778125</td><td>T</td><td>C</td><td>0.22320</td><td>29230</td><td>-0.003433</td><td>0.005454</td><td>0.5416628</td><td>T</td><td>C</td><td>0.23253</td><td>9236</td><td> 0.045910</td><td>0.01781</td><td>0.00995</td></tr>\n",
       "\t<tr><th scope=row>4</th><td>rs1000002 </td><td>3</td><td>183635768</td><td>T</td><td>C</td><td>0.47500</td><td>29335</td><td>-0.002754</td><td>0.004301</td><td>0.5347318</td><td>T</td><td>C</td><td>0.39411</td><td>9236</td><td> 0.006938</td><td>0.01552</td><td>0.65490</td></tr>\n",
       "\t<tr><th scope=row>5</th><td>rs10000023</td><td>4</td><td> 95733906</td><td>T</td><td>G</td><td>0.40830</td><td>29339</td><td> 0.000369</td><td>0.004491</td><td>0.9365264</td><td>T</td><td>G</td><td>0.38454</td><td>9236</td><td>-0.020860</td><td>0.01533</td><td>0.17360</td></tr>\n",
       "\t<tr><th scope=row>6</th><td>rs1000003 </td><td>3</td><td> 98342907</td><td>G</td><td>A</td><td>0.12500</td><td>29271</td><td> 0.004954</td><td>0.005908</td><td>0.4162287</td><td>G</td><td>A</td><td>0.23338</td><td>9236</td><td>-0.002088</td><td>0.01797</td><td>0.90750</td></tr>\n",
       "</tbody>\n",
       "</table>\n"
      ],
      "text/latex": [
       "A data.frame: 6 × 17\n",
       "\\begin{tabular}{r|lllllllllllllllll}\n",
       "  & MARKERNAME & CHROMOSOME & POSITION & ADIPO\\_EA & ADIPO\\_NEA & ADIPO\\_EAF & ADIPO\\_N & ADIPO\\_BETA & ADIPO\\_SE & ADIPO\\_PVALUE & METSIM\\_EA & METSIM\\_NEA & METSIM\\_EAF & METSIM\\_N & METSIM\\_BETA & METSIM\\_SE & METSIM\\_PVALUE\\\\\n",
       "  & <chr> & <int> & <int> & <chr> & <chr> & <dbl> & <int> & <dbl> & <dbl> & <dbl> & <chr> & <chr> & <dbl> & <int> & <dbl> & <dbl> & <dbl>\\\\\n",
       "\\hline\n",
       "\t1 & rs10       & 7 &  92383888 & C & A & 0.03333 & 21257 & -0.004702 & 0.015279 & 0.7653763 & C & A & 0.07344 & 9236 & -0.062990 & 0.02893 & 0.02947\\\\\n",
       "\t2 & rs10000012 & 4 &   1357325 & G & C & 0.19170 & 29331 & -0.008930 & 0.006456 & 0.1798523 & G & C & 0.12227 & 9236 & -0.004815 & 0.02297 & 0.83400\\\\\n",
       "\t3 & rs10000017 & 4 &  84778125 & T & C & 0.22320 & 29230 & -0.003433 & 0.005454 & 0.5416628 & T & C & 0.23253 & 9236 &  0.045910 & 0.01781 & 0.00995\\\\\n",
       "\t4 & rs1000002  & 3 & 183635768 & T & C & 0.47500 & 29335 & -0.002754 & 0.004301 & 0.5347318 & T & C & 0.39411 & 9236 &  0.006938 & 0.01552 & 0.65490\\\\\n",
       "\t5 & rs10000023 & 4 &  95733906 & T & G & 0.40830 & 29339 &  0.000369 & 0.004491 & 0.9365264 & T & G & 0.38454 & 9236 & -0.020860 & 0.01533 & 0.17360\\\\\n",
       "\t6 & rs1000003  & 3 &  98342907 & G & A & 0.12500 & 29271 &  0.004954 & 0.005908 & 0.4162287 & G & A & 0.23338 & 9236 & -0.002088 & 0.01797 & 0.90750\\\\\n",
       "\\end{tabular}\n"
      ],
      "text/markdown": [
       "\n",
       "A data.frame: 6 × 17\n",
       "\n",
       "| <!--/--> | MARKERNAME &lt;chr&gt; | CHROMOSOME &lt;int&gt; | POSITION &lt;int&gt; | ADIPO_EA &lt;chr&gt; | ADIPO_NEA &lt;chr&gt; | ADIPO_EAF &lt;dbl&gt; | ADIPO_N &lt;int&gt; | ADIPO_BETA &lt;dbl&gt; | ADIPO_SE &lt;dbl&gt; | ADIPO_PVALUE &lt;dbl&gt; | METSIM_EA &lt;chr&gt; | METSIM_NEA &lt;chr&gt; | METSIM_EAF &lt;dbl&gt; | METSIM_N &lt;int&gt; | METSIM_BETA &lt;dbl&gt; | METSIM_SE &lt;dbl&gt; | METSIM_PVALUE &lt;dbl&gt; |\n",
       "|---|---|---|---|---|---|---|---|---|---|---|---|---|---|---|---|---|---|\n",
       "| 1 | rs10       | 7 |  92383888 | C | A | 0.03333 | 21257 | -0.004702 | 0.015279 | 0.7653763 | C | A | 0.07344 | 9236 | -0.062990 | 0.02893 | 0.02947 |\n",
       "| 2 | rs10000012 | 4 |   1357325 | G | C | 0.19170 | 29331 | -0.008930 | 0.006456 | 0.1798523 | G | C | 0.12227 | 9236 | -0.004815 | 0.02297 | 0.83400 |\n",
       "| 3 | rs10000017 | 4 |  84778125 | T | C | 0.22320 | 29230 | -0.003433 | 0.005454 | 0.5416628 | T | C | 0.23253 | 9236 |  0.045910 | 0.01781 | 0.00995 |\n",
       "| 4 | rs1000002  | 3 | 183635768 | T | C | 0.47500 | 29335 | -0.002754 | 0.004301 | 0.5347318 | T | C | 0.39411 | 9236 |  0.006938 | 0.01552 | 0.65490 |\n",
       "| 5 | rs10000023 | 4 |  95733906 | T | G | 0.40830 | 29339 |  0.000369 | 0.004491 | 0.9365264 | T | G | 0.38454 | 9236 | -0.020860 | 0.01533 | 0.17360 |\n",
       "| 6 | rs1000003  | 3 |  98342907 | G | A | 0.12500 | 29271 |  0.004954 | 0.005908 | 0.4162287 | G | A | 0.23338 | 9236 | -0.002088 | 0.01797 | 0.90750 |\n",
       "\n"
      ],
      "text/plain": [
       "  MARKERNAME CHROMOSOME POSITION  ADIPO_EA ADIPO_NEA ADIPO_EAF ADIPO_N\n",
       "1 rs10       7           92383888 C        A         0.03333   21257  \n",
       "2 rs10000012 4            1357325 G        C         0.19170   29331  \n",
       "3 rs10000017 4           84778125 T        C         0.22320   29230  \n",
       "4 rs1000002  3          183635768 T        C         0.47500   29335  \n",
       "5 rs10000023 4           95733906 T        G         0.40830   29339  \n",
       "6 rs1000003  3           98342907 G        A         0.12500   29271  \n",
       "  ADIPO_BETA ADIPO_SE ADIPO_PVALUE METSIM_EA METSIM_NEA METSIM_EAF METSIM_N\n",
       "1 -0.004702  0.015279 0.7653763    C         A          0.07344    9236    \n",
       "2 -0.008930  0.006456 0.1798523    G         C          0.12227    9236    \n",
       "3 -0.003433  0.005454 0.5416628    T         C          0.23253    9236    \n",
       "4 -0.002754  0.004301 0.5347318    T         C          0.39411    9236    \n",
       "5  0.000369  0.004491 0.9365264    T         G          0.38454    9236    \n",
       "6  0.004954  0.005908 0.4162287    G         A          0.23338    9236    \n",
       "  METSIM_BETA METSIM_SE METSIM_PVALUE\n",
       "1 -0.062990   0.02893   0.02947      \n",
       "2 -0.004815   0.02297   0.83400      \n",
       "3  0.045910   0.01781   0.00995      \n",
       "4  0.006938   0.01552   0.65490      \n",
       "5 -0.020860   0.01533   0.17360      \n",
       "6 -0.002088   0.01797   0.90750      "
      ]
     },
     "metadata": {},
     "output_type": "display_data"
    }
   ],
   "source": [
    "head(META_TWO)"
   ]
  },
  {
   "cell_type": "code",
   "execution_count": 4,
   "id": "f97c434c",
   "metadata": {},
   "outputs": [],
   "source": [
    "# First Pass RSID"
   ]
  },
  {
   "cell_type": "code",
   "execution_count": 5,
   "id": "20d20db1",
   "metadata": {},
   "outputs": [],
   "source": [
    "RSID_TWO <- read.table(\"../../ANALYSIS/META/METASOFT/SECOND_PASS/EUROPEAN_RSIDS_FIRSTPASS.TAB\",fill=TRUE,row.names=NULL)\n",
    "colnames(RSID_TWO) <- \"MARKERNAME\""
   ]
  },
  {
   "cell_type": "code",
   "execution_count": 6,
   "id": "63f88068",
   "metadata": {},
   "outputs": [],
   "source": [
    "## Prepare Input"
   ]
  },
  {
   "cell_type": "code",
   "execution_count": 8,
   "id": "9dc67622",
   "metadata": {},
   "outputs": [],
   "source": [
    "EUR_SECONDPASS <- merge(META_TWO,RSID_TWO,by=\"MARKERNAME\")%>%select(MARKERNAME,ADIPO_BETA,ADIPO_SE,METSIM_BETA,METSIM_SE)"
   ]
  },
  {
   "cell_type": "code",
   "execution_count": 9,
   "id": "39d317aa",
   "metadata": {},
   "outputs": [],
   "source": [
    "write.table(EUR_SECONDPASS,\"../data/EUROPEAN_METASOFT_SECONDPASS.TAB\",row.names=FALSE,col.names=FALSE,quote=FALSE)\n",
    "write.table(EUR_SECONDPASS,\"../../ANALYSIS/META/METASOFT/SECOND_PASS/EUROPEAN_METASOFT_SECONDPASS.TAB\",row.names=FALSE,col.names=FALSE,quote=FALSE)"
   ]
  },
  {
   "cell_type": "code",
   "execution_count": null,
   "id": "f2c03179",
   "metadata": {},
   "outputs": [],
   "source": []
  },
  {
   "cell_type": "code",
   "execution_count": null,
   "id": "6e23a275",
   "metadata": {},
   "outputs": [],
   "source": [
    "#### Prepare Final Results "
   ]
  },
  {
   "cell_type": "code",
   "execution_count": 10,
   "id": "54703a35",
   "metadata": {},
   "outputs": [],
   "source": [
    "Metasoft_results <-  read.table(\"../../ANALYSIS/META/METASOFT/SECOND_PASS/EUROPEAN_METASOFT_SECONDPASS_RESULTS.TAB\",fill=TRUE,row.names=NULL,header=FALSE)"
   ]
  },
  {
   "cell_type": "code",
   "execution_count": 11,
   "id": "e71fc00c",
   "metadata": {},
   "outputs": [],
   "source": [
    "colnames(Metasoft_results) <- c(\"MARKERNAME\",\"N\",\"PVALUE_FE\",\"BETA_FE\",\"STD_FE\",\"PVALUE_RE\",\"BETA_RE\",\"STD_RE\",\"PVALUE_RE2\",\"STAT1_RE2\",\"STAT2_RE2\",\"PVALUE_BE\",\"I_SQUARE\",\"Q\",\"PVALUE_Q\",\"TAU_SQUARE\",\n",
    "                                \"PVALUE_ADIPOGEN\",\"PVALUE_METSIM\",\"NA1\",\"NA2\")\n",
    "Metasoft_results <- Metasoft_results%>%filter(MARKERNAME!=\"RSID\")"
   ]
  },
  {
   "cell_type": "code",
   "execution_count": 12,
   "id": "ede92c2c",
   "metadata": {},
   "outputs": [
    {
     "data": {
      "text/html": [
       "176885"
      ],
      "text/latex": [
       "176885"
      ],
      "text/markdown": [
       "176885"
      ],
      "text/plain": [
       "[1] 176885"
      ]
     },
     "metadata": {},
     "output_type": "display_data"
    }
   ],
   "source": [
    "nrow(Metasoft_results)"
   ]
  },
  {
   "cell_type": "code",
   "execution_count": 27,
   "id": "d0bb3a79",
   "metadata": {},
   "outputs": [],
   "source": [
    "EUR_RESULTS <- merge(META_TWO,Metasoft_results,by=\"MARKERNAME\")"
   ]
  },
  {
   "cell_type": "code",
   "execution_count": 28,
   "id": "36bca044",
   "metadata": {},
   "outputs": [],
   "source": [
    "EUR_RESULTS <- EUR_RESULTS%>%mutate(TOTAL_N=ceiling(ADIPO_N)+ceiling(METSIM_N))%>%mutate(MAF_AVG=(ADIPO_EAF*2*ADIPO_N+METSIM_EAF*2*METSIM_N)/(2*TOTAL_N))%>%\n",
    "filter(ADIPO_EAF>0.005)%>%filter(METSIM_EAF>0.005)%>%select(-NA1,-N,-NA2)%>%filter(PVALUE_FE < 5E-08)"
   ]
  },
  {
   "cell_type": "code",
   "execution_count": 29,
   "id": "23550044",
   "metadata": {},
   "outputs": [],
   "source": [
    "write.table(EUR_RESULTS,\"../../ANALYSIS/META/EUR_RESULTS_GS.TAB\",row.names=FALSE,quote=FALSE,sep=\"\\t\")"
   ]
  },
  {
   "cell_type": "code",
   "execution_count": 17,
   "id": "9ef0ab50",
   "metadata": {},
   "outputs": [],
   "source": [
    "### GCTA input"
   ]
  },
  {
   "cell_type": "code",
   "execution_count": 19,
   "id": "30736e89",
   "metadata": {},
   "outputs": [
    {
     "data": {
      "text/html": [
       "<style>\n",
       ".list-inline {list-style: none; margin:0; padding: 0}\n",
       ".list-inline>li {display: inline-block}\n",
       ".list-inline>li:not(:last-child)::after {content: \"\\00b7\"; padding: 0 .5ex}\n",
       "</style>\n",
       "<ol class=list-inline><li>'MARKERNAME'</li><li>'CHROMOSOME'</li><li>'POSITION'</li><li>'ADIPO_EA'</li><li>'ADIPO_NEA'</li><li>'ADIPO_EAF'</li><li>'ADIPO_N'</li><li>'ADIPO_BETA'</li><li>'ADIPO_SE'</li><li>'ADIPO_PVALUE'</li><li>'METSIM_EA'</li><li>'METSIM_NEA'</li><li>'METSIM_EAF'</li><li>'METSIM_N'</li><li>'METSIM_BETA'</li><li>'METSIM_SE'</li><li>'METSIM_PVALUE'</li><li>'PVALUE_FE'</li><li>'BETA_FE'</li><li>'STD_FE'</li><li>'PVALUE_RE'</li><li>'BETA_RE'</li><li>'STD_RE'</li><li>'PVALUE_RE2'</li><li>'STAT1_RE2'</li><li>'STAT2_RE2'</li><li>'PVALUE_BE'</li><li>'I_SQUARE'</li><li>'Q'</li><li>'PVALUE_Q'</li><li>'TAU_SQUARE'</li><li>'PVALUE_ADIPOGEN'</li><li>'PVALUE_METSIM'</li><li>'TOTAL_N'</li><li>'MAF_AVG'</li></ol>\n"
      ],
      "text/latex": [
       "\\begin{enumerate*}\n",
       "\\item 'MARKERNAME'\n",
       "\\item 'CHROMOSOME'\n",
       "\\item 'POSITION'\n",
       "\\item 'ADIPO\\_EA'\n",
       "\\item 'ADIPO\\_NEA'\n",
       "\\item 'ADIPO\\_EAF'\n",
       "\\item 'ADIPO\\_N'\n",
       "\\item 'ADIPO\\_BETA'\n",
       "\\item 'ADIPO\\_SE'\n",
       "\\item 'ADIPO\\_PVALUE'\n",
       "\\item 'METSIM\\_EA'\n",
       "\\item 'METSIM\\_NEA'\n",
       "\\item 'METSIM\\_EAF'\n",
       "\\item 'METSIM\\_N'\n",
       "\\item 'METSIM\\_BETA'\n",
       "\\item 'METSIM\\_SE'\n",
       "\\item 'METSIM\\_PVALUE'\n",
       "\\item 'PVALUE\\_FE'\n",
       "\\item 'BETA\\_FE'\n",
       "\\item 'STD\\_FE'\n",
       "\\item 'PVALUE\\_RE'\n",
       "\\item 'BETA\\_RE'\n",
       "\\item 'STD\\_RE'\n",
       "\\item 'PVALUE\\_RE2'\n",
       "\\item 'STAT1\\_RE2'\n",
       "\\item 'STAT2\\_RE2'\n",
       "\\item 'PVALUE\\_BE'\n",
       "\\item 'I\\_SQUARE'\n",
       "\\item 'Q'\n",
       "\\item 'PVALUE\\_Q'\n",
       "\\item 'TAU\\_SQUARE'\n",
       "\\item 'PVALUE\\_ADIPOGEN'\n",
       "\\item 'PVALUE\\_METSIM'\n",
       "\\item 'TOTAL\\_N'\n",
       "\\item 'MAF\\_AVG'\n",
       "\\end{enumerate*}\n"
      ],
      "text/markdown": [
       "1. 'MARKERNAME'\n",
       "2. 'CHROMOSOME'\n",
       "3. 'POSITION'\n",
       "4. 'ADIPO_EA'\n",
       "5. 'ADIPO_NEA'\n",
       "6. 'ADIPO_EAF'\n",
       "7. 'ADIPO_N'\n",
       "8. 'ADIPO_BETA'\n",
       "9. 'ADIPO_SE'\n",
       "10. 'ADIPO_PVALUE'\n",
       "11. 'METSIM_EA'\n",
       "12. 'METSIM_NEA'\n",
       "13. 'METSIM_EAF'\n",
       "14. 'METSIM_N'\n",
       "15. 'METSIM_BETA'\n",
       "16. 'METSIM_SE'\n",
       "17. 'METSIM_PVALUE'\n",
       "18. 'PVALUE_FE'\n",
       "19. 'BETA_FE'\n",
       "20. 'STD_FE'\n",
       "21. 'PVALUE_RE'\n",
       "22. 'BETA_RE'\n",
       "23. 'STD_RE'\n",
       "24. 'PVALUE_RE2'\n",
       "25. 'STAT1_RE2'\n",
       "26. 'STAT2_RE2'\n",
       "27. 'PVALUE_BE'\n",
       "28. 'I_SQUARE'\n",
       "29. 'Q'\n",
       "30. 'PVALUE_Q'\n",
       "31. 'TAU_SQUARE'\n",
       "32. 'PVALUE_ADIPOGEN'\n",
       "33. 'PVALUE_METSIM'\n",
       "34. 'TOTAL_N'\n",
       "35. 'MAF_AVG'\n",
       "\n",
       "\n"
      ],
      "text/plain": [
       " [1] \"MARKERNAME\"      \"CHROMOSOME\"      \"POSITION\"        \"ADIPO_EA\"       \n",
       " [5] \"ADIPO_NEA\"       \"ADIPO_EAF\"       \"ADIPO_N\"         \"ADIPO_BETA\"     \n",
       " [9] \"ADIPO_SE\"        \"ADIPO_PVALUE\"    \"METSIM_EA\"       \"METSIM_NEA\"     \n",
       "[13] \"METSIM_EAF\"      \"METSIM_N\"        \"METSIM_BETA\"     \"METSIM_SE\"      \n",
       "[17] \"METSIM_PVALUE\"   \"PVALUE_FE\"       \"BETA_FE\"         \"STD_FE\"         \n",
       "[21] \"PVALUE_RE\"       \"BETA_RE\"         \"STD_RE\"          \"PVALUE_RE2\"     \n",
       "[25] \"STAT1_RE2\"       \"STAT2_RE2\"       \"PVALUE_BE\"       \"I_SQUARE\"       \n",
       "[29] \"Q\"               \"PVALUE_Q\"        \"TAU_SQUARE\"      \"PVALUE_ADIPOGEN\"\n",
       "[33] \"PVALUE_METSIM\"   \"TOTAL_N\"         \"MAF_AVG\"        "
      ]
     },
     "metadata": {},
     "output_type": "display_data"
    }
   ],
   "source": [
    "colnames(EUR_RESULTS)"
   ]
  },
  {
   "cell_type": "code",
   "execution_count": 22,
   "id": "54691855",
   "metadata": {},
   "outputs": [],
   "source": [
    "GCTA_INPUT <- EUR_RESULTS %>%select(MARKERNAME,METSIM_EA,METSIM_NEA,MAF_AVG,BETA_FE,STD_FE,PVALUE_FE,TOTAL_N)%>%rename(SNP=MARKERNAME,A1=METSIM_EA,A2=METSIM_NEA,freq=MAF_AVG,b=BETA_FE,se=STD_FE,p=PVALUE_FE,n=TOTAL_N)"
   ]
  },
  {
   "cell_type": "code",
   "execution_count": null,
   "id": "9a25ac03",
   "metadata": {},
   "outputs": [],
   "source": [
    "write.table(GCTA_INPUT,\"../../ANALYSIS/COJO/GCTA_EUR_INPUT.TAB\",row.names=FALSE,quote=FALSE,sep=\"\\t\")"
   ]
  }
 ],
 "metadata": {
  "kernelspec": {
   "display_name": "R",
   "language": "R",
   "name": "ir"
  },
  "language_info": {
   "codemirror_mode": "r",
   "file_extension": ".r",
   "mimetype": "text/x-r-source",
   "name": "R",
   "pygments_lexer": "r",
   "version": "4.1.2"
  }
 },
 "nbformat": 4,
 "nbformat_minor": 5
}
