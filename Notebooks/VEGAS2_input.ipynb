{
 "cells": [
  {
   "cell_type": "code",
   "execution_count": 3,
   "id": "07a6f6c8",
   "metadata": {},
   "outputs": [],
   "source": [
    "suppressMessages(suppressWarnings(library(tidyverse)))"
   ]
  },
  {
   "cell_type": "code",
   "execution_count": null,
   "id": "0db730a1",
   "metadata": {},
   "outputs": [],
   "source": [
    "## TRANS"
   ]
  },
  {
   "cell_type": "code",
   "execution_count": 2,
   "id": "766395f5",
   "metadata": {},
   "outputs": [],
   "source": [
    "Metasoft_results <-  read.table(\"../../ANALYSIS/META/METASOFT/SECOND_PASS/TRANSANCESTRY_METASOFT_SECONDPASS_RESULTS.TAB\",fill=TRUE,row.names=NULL,header=FALSE)\n",
    "META_THREE <- read.table(gzfile(\"../data/TRANSANCESTRY_GWAS.TAB.gz\"),header=T,fill=TRUE,row.names=NULL)\n",
    "colnames(Metasoft_results) <- c(\"MARKERNAME\",\"N\",\"PVALUE_FE\",\"BETA_FE\",\"STD_FE\",\"PVALUE_RE\",\"BETA_RE\",\"STD_RE\",\"PVALUE_RE2\",\"STAT1_RE2\",\"STAT2_RE2\",\"PVALUE_BE\",\"I_SQUARE\",\"Q\",\"PVALUE_Q\",\"TAU_SQUARE\",\n",
    "                                \"PVALUE_ADIPOGEN\",\"PVALUE_AGEN\",\"PVALUE_METSIM\",\"NA1\",\"NA2\",\"NA3\")\n",
    "Metasoft_results <- Metasoft_results%>%filter(MARKERNAME!=\"RSID\")\n",
    "TRANSANCESTRY_RESULTS <- merge(META_THREE,Metasoft_results,by=\"MARKERNAME\")\n",
    "TRANSANCESTRY_RESULTS <- TRANSANCESTRY_RESULTS%>%mutate(TOTAL_N=ceiling(ADIPO_N)+ceiling(AGEN_N)+ceiling(METSIM_N))%>%mutate(MAF_AVG=(ADIPO_EAF*2*ADIPO_N+AGEN_EAF*2*AGEN_N+METSIM_EAF*2*METSIM_N)/(2*TOTAL_N))%>%\n",
    "filter(ADIPO_EAF>0.005)%>%filter(AGEN_EAF>0.005)%>%filter(METSIM_EAF>0.005)%>%select(-NA1,-N,-NA2,-NA3)"
   ]
  },
  {
   "cell_type": "code",
   "execution_count": 5,
   "id": "a88fecab",
   "metadata": {},
   "outputs": [],
   "source": [
    "lead <- read.table(\"../../ANALYSIS/lead_transancestry_3mb_merged.txt\",fill=TRUE,header=TRUE)\n",
    "output_df <- merge(TRANSANCESTRY_RESULTS,lead)%>%select(MARKERNAME,CHROMOSOME,POSITION,PVALUE_FE,MAF_AVG)%>%\n",
    "rename(rsid=MARKERNAME,chromosome=CHROMOSOME,position=POSITION,pvalue=PVALUE_FE,maf=MAF_AVG)%>%mutate(maf = case_when(maf>0.50~ 0.4999,\n",
    "                            TRUE ~ maf))%>%distinct(rsid,.keep_all = TRUE)"
   ]
  },
  {
   "cell_type": "code",
   "execution_count": 6,
   "id": "c4eff270",
   "metadata": {},
   "outputs": [
    {
     "data": {
      "text/html": [
       "<table class=\"dataframe\">\n",
       "<caption>A data.frame: 6 × 5</caption>\n",
       "<thead>\n",
       "\t<tr><th></th><th scope=col>rsid</th><th scope=col>chromosome</th><th scope=col>position</th><th scope=col>pvalue</th><th scope=col>maf</th></tr>\n",
       "\t<tr><th></th><th scope=col>&lt;chr&gt;</th><th scope=col>&lt;int&gt;</th><th scope=col>&lt;int&gt;</th><th scope=col>&lt;dbl&gt;</th><th scope=col>&lt;dbl&gt;</th></tr>\n",
       "</thead>\n",
       "<tbody>\n",
       "\t<tr><th scope=row>1</th><td>rs10000081</td><td>4</td><td> 17348363</td><td>0.04007360</td><td>0.33229026</td></tr>\n",
       "\t<tr><th scope=row>2</th><td>rs10000092</td><td>4</td><td> 21895517</td><td>0.00723546</td><td>0.38806186</td></tr>\n",
       "\t<tr><th scope=row>3</th><td>rs1000025 </td><td>6</td><td>134085319</td><td>0.02211700</td><td>0.28441548</td></tr>\n",
       "\t<tr><th scope=row>4</th><td>rs10000252</td><td>4</td><td>  3216484</td><td>0.03099270</td><td>0.02623173</td></tr>\n",
       "\t<tr><th scope=row>5</th><td>rs10000268</td><td>4</td><td> 63606939</td><td>0.06823810</td><td>0.16447520</td></tr>\n",
       "\t<tr><th scope=row>6</th><td>rs10000289</td><td>4</td><td> 96437606</td><td>0.02300860</td><td>0.03235335</td></tr>\n",
       "</tbody>\n",
       "</table>\n"
      ],
      "text/latex": [
       "A data.frame: 6 × 5\n",
       "\\begin{tabular}{r|lllll}\n",
       "  & rsid & chromosome & position & pvalue & maf\\\\\n",
       "  & <chr> & <int> & <int> & <dbl> & <dbl>\\\\\n",
       "\\hline\n",
       "\t1 & rs10000081 & 4 &  17348363 & 0.04007360 & 0.33229026\\\\\n",
       "\t2 & rs10000092 & 4 &  21895517 & 0.00723546 & 0.38806186\\\\\n",
       "\t3 & rs1000025  & 6 & 134085319 & 0.02211700 & 0.28441548\\\\\n",
       "\t4 & rs10000252 & 4 &   3216484 & 0.03099270 & 0.02623173\\\\\n",
       "\t5 & rs10000268 & 4 &  63606939 & 0.06823810 & 0.16447520\\\\\n",
       "\t6 & rs10000289 & 4 &  96437606 & 0.02300860 & 0.03235335\\\\\n",
       "\\end{tabular}\n"
      ],
      "text/markdown": [
       "\n",
       "A data.frame: 6 × 5\n",
       "\n",
       "| <!--/--> | rsid &lt;chr&gt; | chromosome &lt;int&gt; | position &lt;int&gt; | pvalue &lt;dbl&gt; | maf &lt;dbl&gt; |\n",
       "|---|---|---|---|---|---|\n",
       "| 1 | rs10000081 | 4 |  17348363 | 0.04007360 | 0.33229026 |\n",
       "| 2 | rs10000092 | 4 |  21895517 | 0.00723546 | 0.38806186 |\n",
       "| 3 | rs1000025  | 6 | 134085319 | 0.02211700 | 0.28441548 |\n",
       "| 4 | rs10000252 | 4 |   3216484 | 0.03099270 | 0.02623173 |\n",
       "| 5 | rs10000268 | 4 |  63606939 | 0.06823810 | 0.16447520 |\n",
       "| 6 | rs10000289 | 4 |  96437606 | 0.02300860 | 0.03235335 |\n",
       "\n"
      ],
      "text/plain": [
       "  rsid       chromosome position  pvalue     maf       \n",
       "1 rs10000081 4           17348363 0.04007360 0.33229026\n",
       "2 rs10000092 4           21895517 0.00723546 0.38806186\n",
       "3 rs1000025  6          134085319 0.02211700 0.28441548\n",
       "4 rs10000252 4            3216484 0.03099270 0.02623173\n",
       "5 rs10000268 4           63606939 0.06823810 0.16447520\n",
       "6 rs10000289 4           96437606 0.02300860 0.03235335"
      ]
     },
     "metadata": {},
     "output_type": "display_data"
    }
   ],
   "source": [
    "head(output_df)"
   ]
  },
  {
   "cell_type": "code",
   "execution_count": 7,
   "id": "2ce80a13",
   "metadata": {},
   "outputs": [],
   "source": [
    "lead_variants <- data.frame()\n",
    "\n",
    "for (i in 1:nrow(lead) ){\n",
    "   \n",
    "line_q <- lead[i,]\n",
    "chr_q <- as.integer(line_q[1])\n",
    "start_q<- as.integer(line_q[2])\n",
    "end_q <- as.integer(line_q[3])\n",
    "\n",
    "tmp_df <- output_df%>%filter(chromosome==chr_q & position >= start_q & position <= end_q)%>% distinct()%>%select(rsid,pvalue)\n",
    "lead_variants  <- rbind(lead_variants,tmp_df)\n",
    "}"
   ]
  },
  {
   "cell_type": "code",
   "execution_count": 8,
   "id": "03156376",
   "metadata": {},
   "outputs": [],
   "source": [
    "write.table(lead_variants,\"../../ANALYSIS/FUMA/VEGAS2_TRANS_INPUT.TAB\",row.names=FALSE,col.names=FALSE,quote=FALSE,sep=\"\\t\")"
   ]
  },
  {
   "cell_type": "code",
   "execution_count": null,
   "id": "88dff3d2",
   "metadata": {},
   "outputs": [],
   "source": [
    "## EUROPEAN\n"
   ]
  },
  {
   "cell_type": "code",
   "execution_count": 9,
   "id": "7fc30a18",
   "metadata": {},
   "outputs": [],
   "source": [
    "Metasoft_results <-  read.table(\"../../ANALYSIS/META/METASOFT/SECOND_PASS/EUROPEAN_METASOFT_SECONDPASS_RESULTS.TAB\",fill=TRUE,row.names=NULL,header=FALSE)\n",
    "META_TWO <- read.table(gzfile(\"../data/EUR_GWAS.TAB.gz\"),header=T,fill=TRUE,row.names=NULL)\n",
    "colnames(Metasoft_results) <- c(\"MARKERNAME\",\"N\",\"PVALUE_FE\",\"BETA_FE\",\"STD_FE\",\"PVALUE_RE\",\"BETA_RE\",\"STD_RE\",\"PVALUE_RE2\",\"STAT1_RE2\",\"STAT2_RE2\",\"PVALUE_BE\",\"I_SQUARE\",\"Q\",\"PVALUE_Q\",\"TAU_SQUARE\",\n",
    "                                \"PVALUE_ADIPOGEN\",\"PVALUE_METSIM\",\"NA1\",\"NA2\")\n",
    "Metasoft_results <- Metasoft_results%>%filter(MARKERNAME!=\"RSID\")\n",
    "EUR_RESULTS <- merge(META_TWO,Metasoft_results,by=\"MARKERNAME\")\n",
    "EUR_RESULTS <- EUR_RESULTS%>%mutate(TOTAL_N=ceiling(ADIPO_N)+ceiling(METSIM_N))%>%mutate(MAF_AVG=(ADIPO_EAF*2*ADIPO_N+METSIM_EAF*2*METSIM_N)/(2*TOTAL_N))%>%\n",
    "filter(ADIPO_EAF>0.005)%>%filter(METSIM_EAF>0.005)%>%select(-NA1,-N,-NA2)"
   ]
  },
  {
   "cell_type": "code",
   "execution_count": 10,
   "id": "8639841d",
   "metadata": {},
   "outputs": [],
   "source": [
    "lead <- read.table(\"../../ANALYSIS/lead_european_3mb_merged.txt\",fill=TRUE,header=TRUE)\n",
    " output_df <- merge(EUR_RESULTS,lead)%>%select(MARKERNAME,CHROMOSOME.x,POSITION.x,PVALUE_FE,MAF_AVG)%>%\n",
    "rename(rsid=MARKERNAME,chromosome=CHROMOSOME.x,position=POSITION.x,pvalue=PVALUE_FE,maf=MAF_AVG)%>%mutate(maf = case_when(maf>0.50~ 0.4999,\n",
    "                            TRUE ~ maf))%>%distinct(rsid,.keep_all = TRUE)"
   ]
  },
  {
   "cell_type": "code",
   "execution_count": 11,
   "id": "5fdbf166",
   "metadata": {},
   "outputs": [],
   "source": [
    "lead_variants <- data.frame()\n",
    "\n",
    "for (i in 1:nrow(lead) ){\n",
    "   \n",
    "line_q <- lead[i,]\n",
    "chr_q <- as.integer(line_q[1])\n",
    "start_q<- as.integer(line_q[2])\n",
    "end_q <- as.integer(line_q[3])\n",
    "\n",
    "tmp_df <- output_df%>%filter(chromosome==chr_q & position >= start_q & position <= end_q)%>% distinct()%>%select(rsid,pvalue)\n",
    "lead_variants  <- rbind(lead_variants,tmp_df)\n",
    "}"
   ]
  },
  {
   "cell_type": "code",
   "execution_count": 12,
   "id": "bfc7917a",
   "metadata": {},
   "outputs": [],
   "source": [
    "write.table(lead_variants,\"../../ANALYSIS/FUMA/VEGAS2_EUR_INPUT.TAB\",row.names=FALSE,col.names=FALSE,quote=FALSE,sep=\"\\t\")"
   ]
  },
  {
   "cell_type": "code",
   "execution_count": null,
   "id": "6c0ef96e",
   "metadata": {},
   "outputs": [],
   "source": [
    "## METSIM"
   ]
  },
  {
   "cell_type": "code",
   "execution_count": 1,
   "id": "f5170164",
   "metadata": {},
   "outputs": [],
   "source": [
    "METSIM_RESULTS <- read.table(\"../../Summary_Statistic//Formatted//METSIM_hg19_METAL_POS.TAB\",header=F,fill=TRUE,row.names=NULL)\n",
    "colnames(METSIM_RESULTS) <- c(\"CHROMOSOME\",\"POSITION\",\"MARKERNAME\",\"METSIM_NEA\",\"METSIM_EA\",\"METSIM_N\",\"PVALUE_FE\",\"METSIM_BETA\",\"METSIM_SE\")"
   ]
  },
  {
   "cell_type": "code",
   "execution_count": 7,
   "id": "e0d6fd9d",
   "metadata": {},
   "outputs": [],
   "source": [
    "lead <- read.table(\"../../ANALYSIS/lead_metsim_3mb_merged.txt\",fill=TRUE,header=TRUE)\n",
    "output_df <- merge(METSIM_RESULTS,lead)%>%mutate(MAF=0.49)%>%select(MARKERNAME,CHROMOSOME,POSITION,PVALUE_FE)%>%\n",
    "rename(rsid=MARKERNAME,chromosome=CHROMOSOME,position=POSITION,pvalue=PVALUE_FE)%>%distinct(rsid,.keep_all = TRUE)"
   ]
  },
  {
   "cell_type": "code",
   "execution_count": 8,
   "id": "1bcdf2c4",
   "metadata": {},
   "outputs": [],
   "source": [
    "lead_variants <- data.frame()\n",
    "\n",
    "for (i in 1:nrow(lead) ){\n",
    "   \n",
    "line_q <- lead[i,]\n",
    "chr_q <- as.integer(line_q[1])\n",
    "start_q<- as.integer(line_q[2])\n",
    "end_q <- as.integer(line_q[3])\n",
    "\n",
    "tmp_df <- output_df%>%filter(chromosome==chr_q & position >= start_q & position <= end_q)%>% distinct()%>%select(rsid,pvalue)\n",
    "lead_variants  <- rbind(lead_variants,tmp_df)\n",
    "}"
   ]
  },
  {
   "cell_type": "code",
   "execution_count": 12,
   "id": "3b9ad706",
   "metadata": {},
   "outputs": [],
   "source": [
    "lead_variants <- na.omit(lead_variants)"
   ]
  },
  {
   "cell_type": "code",
   "execution_count": 13,
   "id": "e80ddf06",
   "metadata": {},
   "outputs": [],
   "source": [
    "write.table(lead_variants,\"../../ANALYSIS/FUMA_VEGAS2/METSIM_VEGAS_INPUT.TAB\",row.names=FALSE,col.names=FALSE,quote=FALSE,sep=\"\\t\")"
   ]
  },
  {
   "cell_type": "code",
   "execution_count": null,
   "id": "d89886d8",
   "metadata": {},
   "outputs": [],
   "source": []
  }
 ],
 "metadata": {
  "kernelspec": {
   "display_name": "R",
   "language": "R",
   "name": "ir"
  },
  "language_info": {
   "codemirror_mode": "r",
   "file_extension": ".r",
   "mimetype": "text/x-r-source",
   "name": "R",
   "pygments_lexer": "r",
   "version": "4.1.2"
  }
 },
 "nbformat": 4,
 "nbformat_minor": 5
}
