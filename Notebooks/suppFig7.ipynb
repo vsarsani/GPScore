{
 "cells": [
  {
   "cell_type": "code",
   "execution_count": 1,
   "id": "6c4f5b8b-cd68-434a-99c2-f056ed425b01",
   "metadata": {},
   "outputs": [
    {
     "name": "stderr",
     "output_type": "stream",
     "text": [
      "Installing package into 'C:/Users/svish/AppData/Local/R/win-library/4.2'\n",
      "(as 'lib' is unspecified)\n",
      "\n",
      "Warning message:\n",
      "\"package 'disgenet2r' is not available for this version of R\n",
      "\n",
      "A version of this package for your version of R might be available elsewhere,\n",
      "see the ideas at\n",
      "https://cran.r-project.org/doc/manuals/r-patched/R-admin.html#Installing-packages\"\n"
     ]
    }
   ],
   "source": [
    "suppressWarnings(suppressMessages(library(tidyverse)))\n",
    "suppressWarnings(suppressMessages(library(disgenet2r)))"
   ]
  },
  {
   "cell_type": "code",
   "execution_count": 2,
   "id": "29aebcda-0f30-4eae-a6c9-f0354e63f44b",
   "metadata": {},
   "outputs": [
    {
     "ename": "ERROR",
     "evalue": "Error in install_bitbucket(\"ibi_group/disgenet2r\"): could not find function \"install_bitbucket\"\n",
     "output_type": "error",
     "traceback": [
      "Error in install_bitbucket(\"ibi_group/disgenet2r\"): could not find function \"install_bitbucket\"\nTraceback:\n"
     ]
    }
   ],
   "source": [
    "genes <- c(\"CYP2R1\",\"CSF1\",\"LYPLAL1\",\"IRS1\",\"PBRM1\",\"GNL3\",\"ADIPOQ\",\"RFC4\",\"NAP1L5\",\"FAM13A\",\"FST\",\"VEGFA\",\"RGS17\",\"TRIB1\",\"ADRB1\",\"PDE3A\",\"RBMS2\",\n",
    "           \"FGFR2\",\"RIC8B\",\"CCDC92\",\"DNAH10OS\",\"ZNF664\",\"CMIP\",\"CDH13\",\"CTDNEP1\",\"ELP5\",\"PEPD\",\"CEBPG\",\"WDR11)"
   ]
  },
  {
   "cell_type": "code",
   "execution_count": null,
   "id": "80127a17-cb2e-48ba-a19c-9f1ce9d25ea0",
   "metadata": {},
   "outputs": [],
   "source": []
  }
 ],
 "metadata": {
  "kernelspec": {
   "display_name": "R",
   "language": "R",
   "name": "ir"
  },
  "language_info": {
   "codemirror_mode": "r",
   "file_extension": ".r",
   "mimetype": "text/x-r-source",
   "name": "R",
   "pygments_lexer": "r",
   "version": "4.2.0"
  }
 },
 "nbformat": 4,
 "nbformat_minor": 5
}
