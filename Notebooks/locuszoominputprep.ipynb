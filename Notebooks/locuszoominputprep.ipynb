{
 "cells": [
  {
   "cell_type": "code",
   "execution_count": 1,
   "id": "2cc735f7",
   "metadata": {},
   "outputs": [],
   "source": [
    "suppressMessages(suppressWarnings(library(tidyverse)))"
   ]
  },
  {
   "cell_type": "code",
   "execution_count": null,
   "id": "27bd6779",
   "metadata": {},
   "outputs": [],
   "source": [
    "##TRANS"
   ]
  },
  {
   "cell_type": "code",
   "execution_count": 28,
   "id": "14d8c5e2",
   "metadata": {},
   "outputs": [],
   "source": [
    "Metasoft_results_2 <-  read.table(\"../../ANALYSIS/META/METASOFT/FIRST_PASS/TRANSANCESTRY_METASOFT_RESULTS_FIRSTPASS.TAB\",fill=TRUE,row.names=NULL,header=FALSE)%>%\n",
    "mutate(STEP='FIRST')\n",
    "colnames(Metasoft_results_2) <- c(\"MARKERNAME\",\"N\",\"PVALUE_FE\",\"BETA_FE\",\"STD_FE\",\"PVALUE_RE\",\"BETA_RE\",\"STD_RE\",\"PVALUE_RE2\",\"STAT1_RE2\",\"STAT2_RE2\",\"PVALUE_BE\",\"I_SQUARE\",\"Q\",\"PVALUE_Q\",\"TAU_SQUARE\",\n",
    "                                \"PVALUE_ADIPOGEN\",\"PVALUE_AGEN\",\"PVALUE_METSIM\",\"NA1\",\"NA2\",\"NA3\",\"STEP\")\n",
    "Metasoft_results_1 <-  read.table(\"../../ANALYSIS/META/METASOFT/SECOND_PASS/TRANSANCESTRY_METASOFT_SECONDPASS_RESULTS.TAB\",fill=TRUE,row.names=NULL,header=FALSE)%>%\n",
    "mutate(STEP='SECOND')\n",
    "colnames(Metasoft_results_1) <- c(\"MARKERNAME\",\"N\",\"PVALUE_FE\",\"BETA_FE\",\"STD_FE\",\"PVALUE_RE\",\"BETA_RE\",\"STD_RE\",\"PVALUE_RE2\",\"STAT1_RE2\",\"STAT2_RE2\",\"PVALUE_BE\",\"I_SQUARE\",\"Q\",\"PVALUE_Q\",\"TAU_SQUARE\",\n",
    "                                \"PVALUE_ADIPOGEN\",\"PVALUE_AGEN\",\"PVALUE_METSIM\",\"NA1\",\"NA2\",\"NA3\",\"STEP\")\n",
    "Metasoft_results <-rbind(Metasoft_results_1,Metasoft_results_2)%>%arrange(MARKERNAME, STEP) %>%\n",
    "distinct(MARKERNAME, .keep_all = TRUE)%>%filter(MARKERNAME!=\"RSID\")"
   ]
  },
  {
   "cell_type": "code",
   "execution_count": 29,
   "id": "0d453ab0",
   "metadata": {},
   "outputs": [
    {
     "data": {
      "text/html": [
       "2191365"
      ],
      "text/latex": [
       "2191365"
      ],
      "text/markdown": [
       "2191365"
      ],
      "text/plain": [
       "[1] 2191365"
      ]
     },
     "metadata": {},
     "output_type": "display_data"
    }
   ],
   "source": [
    "nrow(Metasoft_results)"
   ]
  },
  {
   "cell_type": "code",
   "execution_count": 30,
   "id": "7efc8444",
   "metadata": {},
   "outputs": [],
   "source": [
    "META_THREE <- read.table(gzfile(\"../data/TRANSANCESTRY_GWAS.TAB.gz\"),header=T,fill=TRUE,row.names=NULL)\n",
    "TRANSANCESTRY_RESULTS <- merge(META_THREE,Metasoft_results,by=\"MARKERNAME\")\n",
    "TRANSANCESTRY_RESULTS <- TRANSANCESTRY_RESULTS%>%mutate(TOTAL_N=ceiling(ADIPO_N)+ceiling(AGEN_N)+ceiling(METSIM_N))%>%mutate(MAF_AVG=(ADIPO_EAF*2*ADIPO_N+AGEN_EAF*2*AGEN_N+METSIM_EAF*2*METSIM_N)/(2*TOTAL_N))%>%\n",
    "filter(ADIPO_EAF>0.005)%>%filter(AGEN_EAF>0.005)%>%filter(METSIM_EAF>0.005)%>%select(-NA1,-N,-NA2,-NA3)"
   ]
  },
  {
   "cell_type": "code",
   "execution_count": 31,
   "id": "f8c53038",
   "metadata": {},
   "outputs": [],
   "source": [
    "lead <- read.table(\"../../ANALYSIS/lead_transancestry_3mb_merged.txt\",fill=TRUE,header=TRUE)\n",
    "output_df <- merge(TRANSANCESTRY_RESULTS,lead)%>%\n",
    "select(MARKERNAME,PVALUE_FE,CHROMOSOME,POSITION)%>%rename(MarkerName=MARKERNAME,Pvalue=PVALUE_FE,chromosome=CHROMOSOME,position=POSITION)%>%distinct()"
   ]
  },
  {
   "cell_type": "code",
   "execution_count": 32,
   "id": "69e6cb53",
   "metadata": {},
   "outputs": [
    {
     "data": {
      "text/html": [
       "<table class=\"dataframe\">\n",
       "<caption>A data.frame: 6 × 4</caption>\n",
       "<thead>\n",
       "\t<tr><th></th><th scope=col>MarkerName</th><th scope=col>Pvalue</th><th scope=col>chromosome</th><th scope=col>position</th></tr>\n",
       "\t<tr><th></th><th scope=col>&lt;chr&gt;</th><th scope=col>&lt;dbl&gt;</th><th scope=col>&lt;int&gt;</th><th scope=col>&lt;int&gt;</th></tr>\n",
       "</thead>\n",
       "<tbody>\n",
       "\t<tr><th scope=row>1</th><td>rs1000000 </td><td>0.651423</td><td>12</td><td>126890980</td></tr>\n",
       "\t<tr><th scope=row>2</th><td>rs10000010</td><td>0.553936</td><td> 4</td><td> 21618674</td></tr>\n",
       "\t<tr><th scope=row>3</th><td>rs10000012</td><td>0.214890</td><td> 4</td><td>  1357325</td></tr>\n",
       "\t<tr><th scope=row>4</th><td>rs10000013</td><td>0.593548</td><td> 4</td><td> 37225069</td></tr>\n",
       "\t<tr><th scope=row>5</th><td>rs10000017</td><td>0.993433</td><td> 4</td><td> 84778125</td></tr>\n",
       "\t<tr><th scope=row>6</th><td>rs1000002 </td><td>0.902768</td><td> 3</td><td>183635768</td></tr>\n",
       "</tbody>\n",
       "</table>\n"
      ],
      "text/latex": [
       "A data.frame: 6 × 4\n",
       "\\begin{tabular}{r|llll}\n",
       "  & MarkerName & Pvalue & chromosome & position\\\\\n",
       "  & <chr> & <dbl> & <int> & <int>\\\\\n",
       "\\hline\n",
       "\t1 & rs1000000  & 0.651423 & 12 & 126890980\\\\\n",
       "\t2 & rs10000010 & 0.553936 &  4 &  21618674\\\\\n",
       "\t3 & rs10000012 & 0.214890 &  4 &   1357325\\\\\n",
       "\t4 & rs10000013 & 0.593548 &  4 &  37225069\\\\\n",
       "\t5 & rs10000017 & 0.993433 &  4 &  84778125\\\\\n",
       "\t6 & rs1000002  & 0.902768 &  3 & 183635768\\\\\n",
       "\\end{tabular}\n"
      ],
      "text/markdown": [
       "\n",
       "A data.frame: 6 × 4\n",
       "\n",
       "| <!--/--> | MarkerName &lt;chr&gt; | Pvalue &lt;dbl&gt; | chromosome &lt;int&gt; | position &lt;int&gt; |\n",
       "|---|---|---|---|---|\n",
       "| 1 | rs1000000  | 0.651423 | 12 | 126890980 |\n",
       "| 2 | rs10000010 | 0.553936 |  4 |  21618674 |\n",
       "| 3 | rs10000012 | 0.214890 |  4 |   1357325 |\n",
       "| 4 | rs10000013 | 0.593548 |  4 |  37225069 |\n",
       "| 5 | rs10000017 | 0.993433 |  4 |  84778125 |\n",
       "| 6 | rs1000002  | 0.902768 |  3 | 183635768 |\n",
       "\n"
      ],
      "text/plain": [
       "  MarkerName Pvalue   chromosome position \n",
       "1 rs1000000  0.651423 12         126890980\n",
       "2 rs10000010 0.553936  4          21618674\n",
       "3 rs10000012 0.214890  4           1357325\n",
       "4 rs10000013 0.593548  4          37225069\n",
       "5 rs10000017 0.993433  4          84778125\n",
       "6 rs1000002  0.902768  3         183635768"
      ]
     },
     "metadata": {},
     "output_type": "display_data"
    }
   ],
   "source": [
    "head(output_df)"
   ]
  },
  {
   "cell_type": "code",
   "execution_count": 33,
   "id": "108040ca",
   "metadata": {},
   "outputs": [
    {
     "data": {
      "text/html": [
       "<table class=\"dataframe\">\n",
       "<caption>A data.frame: 1 × 4</caption>\n",
       "<thead>\n",
       "\t<tr><th scope=col>MarkerName</th><th scope=col>Pvalue</th><th scope=col>chromosome</th><th scope=col>position</th></tr>\n",
       "\t<tr><th scope=col>&lt;chr&gt;</th><th scope=col>&lt;dbl&gt;</th><th scope=col>&lt;int&gt;</th><th scope=col>&lt;int&gt;</th></tr>\n",
       "</thead>\n",
       "<tbody>\n",
       "\t<tr><td>rs12051272</td><td>3.89427e-213</td><td>16</td><td>82663288</td></tr>\n",
       "</tbody>\n",
       "</table>\n"
      ],
      "text/latex": [
       "A data.frame: 1 × 4\n",
       "\\begin{tabular}{llll}\n",
       " MarkerName & Pvalue & chromosome & position\\\\\n",
       " <chr> & <dbl> & <int> & <int>\\\\\n",
       "\\hline\n",
       "\t rs12051272 & 3.89427e-213 & 16 & 82663288\\\\\n",
       "\\end{tabular}\n"
      ],
      "text/markdown": [
       "\n",
       "A data.frame: 1 × 4\n",
       "\n",
       "| MarkerName &lt;chr&gt; | Pvalue &lt;dbl&gt; | chromosome &lt;int&gt; | position &lt;int&gt; |\n",
       "|---|---|---|---|\n",
       "| rs12051272 | 3.89427e-213 | 16 | 82663288 |\n",
       "\n"
      ],
      "text/plain": [
       "  MarkerName Pvalue       chromosome position\n",
       "1 rs12051272 3.89427e-213 16         82663288"
      ]
     },
     "metadata": {},
     "output_type": "display_data"
    }
   ],
   "source": [
    "output_df%>%filter(MarkerName==\"rs12051272\")"
   ]
  },
  {
   "cell_type": "code",
   "execution_count": 34,
   "id": "d24a767a",
   "metadata": {},
   "outputs": [],
   "source": [
    "for (i in 1:nrow(lead) ){\n",
    "   \n",
    "line_q <- lead[i,]\n",
    "chr_q <- as.integer(line_q[1])\n",
    "start_q<- as.integer(line_q[2])\n",
    "end_q <- as.integer(line_q[3])\n",
    "file_name <- paste0(chr_q,\"_\",start_q,\"_\",end_q,\"_results_3mb.txt\")\n",
    "tmp_df <- output_df%>%filter(chromosome==chr_q & position >= start_q & position <= end_q)%>% distinct(MarkerName,.keep_all = TRUE)%>%select(MarkerName,Pvalue)\n",
    "write.table(tmp_df,paste0(\"../../ANALYSIS/Locuszoom//trans/\",file_name),sep = \"\\t\",row.names=FALSE,quote=FALSE)\n",
    "}"
   ]
  },
  {
   "cell_type": "code",
   "execution_count": 2,
   "id": "a8bba02d",
   "metadata": {},
   "outputs": [],
   "source": [
    "##EUR"
   ]
  },
  {
   "cell_type": "code",
   "execution_count": 3,
   "id": "d57e0cc6",
   "metadata": {},
   "outputs": [],
   "source": [
    "Metasoft_results_2 <-  read.table(\"../../ANALYSIS/META/METASOFT/FIRST_PASS/EUROPEAN_METASOFT_RESULTS_FIRSTPASS.TAB\",fill=TRUE,row.names=NULL,header=FALSE)%>%\n",
    "mutate(STEP='FIRST')\n",
    "colnames(Metasoft_results_2) <- c(\"MARKERNAME\",\"N\",\"PVALUE_FE\",\"BETA_FE\",\"STD_FE\",\"PVALUE_RE\",\"BETA_RE\",\"STD_RE\",\"PVALUE_RE2\",\"STAT1_RE2\",\"STAT2_RE2\",\"PVALUE_BE\",\"I_SQUARE\",\"Q\",\"PVALUE_Q\",\"TAU_SQUARE\",\n",
    "                                \"PVALUE_ADIPOGEN\",\"PVALUE_METSIM\",\"NA1\",\"NA2\",\"STEP\")\n",
    "Metasoft_results_1 <-  read.table(\"../../ANALYSIS/META/METASOFT/SECOND_PASS/EUROPEAN_METASOFT_SECONDPASS_RESULTS.TAB\",fill=TRUE,row.names=NULL,header=FALSE)%>%\n",
    "mutate(STEP='SECOND')\n",
    "colnames(Metasoft_results_1) <- c(\"MARKERNAME\",\"N\",\"PVALUE_FE\",\"BETA_FE\",\"STD_FE\",\"PVALUE_RE\",\"BETA_RE\",\"STD_RE\",\"PVALUE_RE2\",\"STAT1_RE2\",\"STAT2_RE2\",\"PVALUE_BE\",\"I_SQUARE\",\"Q\",\"PVALUE_Q\",\"TAU_SQUARE\",\n",
    "                                \"PVALUE_ADIPOGEN\",\"PVALUE_METSIM\",\"NA1\",\"NA2\",\"STEP\")\n",
    "Metasoft_results <-rbind(Metasoft_results_1,Metasoft_results_2)%>%arrange(MARKERNAME, STEP) %>% distinct(MARKERNAME, .keep_all = TRUE)%>%filter(MARKERNAME!=\"RSID\")"
   ]
  },
  {
   "cell_type": "code",
   "execution_count": 4,
   "id": "bf47590c",
   "metadata": {},
   "outputs": [],
   "source": [
    "META_TWO <- read.table(gzfile(\"../data/EUR_GWAS.TAB.gz\"),header=T,fill=TRUE,row.names=NULL)\n",
    "EUR_RESULTS <- merge(META_TWO,Metasoft_results,by=\"MARKERNAME\")\n",
    "EUR_RESULTS <- EUR_RESULTS%>%mutate(TOTAL_N=ceiling(ADIPO_N)+ceiling(METSIM_N))%>%mutate(MAF_AVG=(ADIPO_EAF*2*ADIPO_N+METSIM_EAF*2*METSIM_N)/(2*TOTAL_N))%>%\n",
    "filter(ADIPO_EAF>0.005)%>%filter(METSIM_EAF>0.005)%>%select(-NA1,-N,-NA2)"
   ]
  },
  {
   "cell_type": "code",
   "execution_count": 5,
   "id": "876dc03a",
   "metadata": {},
   "outputs": [],
   "source": [
    "lead <- read.table(\"../../ANALYSIS/lead_european_3mb_merged.txt\",fill=TRUE,header=TRUE)\n",
    " output_df <- merge(EUR_RESULTS,lead)%>%\n",
    "select(MARKERNAME,PVALUE_FE,CHROMOSOME.x,POSITION.x)%>%rename(MarkerName=MARKERNAME,Pvalue=PVALUE_FE,chromosome=CHROMOSOME.x,position=POSITION.x)%>%distinct()"
   ]
  },
  {
   "cell_type": "code",
   "execution_count": 6,
   "id": "5338df1b",
   "metadata": {},
   "outputs": [
    {
     "data": {
      "text/html": [
       "<table class=\"dataframe\">\n",
       "<caption>A data.frame: 6 × 4</caption>\n",
       "<thead>\n",
       "\t<tr><th></th><th scope=col>MarkerName</th><th scope=col>Pvalue</th><th scope=col>chromosome</th><th scope=col>position</th></tr>\n",
       "\t<tr><th></th><th scope=col>&lt;chr&gt;</th><th scope=col>&lt;dbl&gt;</th><th scope=col>&lt;int&gt;</th><th scope=col>&lt;int&gt;</th></tr>\n",
       "</thead>\n",
       "<tbody>\n",
       "\t<tr><th scope=row>1</th><td>rs10      </td><td>0.197416</td><td> 7</td><td> 92383888</td></tr>\n",
       "\t<tr><th scope=row>2</th><td>rs1000000 </td><td>0.599152</td><td>12</td><td>126890980</td></tr>\n",
       "\t<tr><th scope=row>3</th><td>rs10000010</td><td>0.640295</td><td> 4</td><td> 21618674</td></tr>\n",
       "\t<tr><th scope=row>4</th><td>rs10000012</td><td>0.165036</td><td> 4</td><td>  1357325</td></tr>\n",
       "\t<tr><th scope=row>5</th><td>rs10000013</td><td>0.565310</td><td> 4</td><td> 37225069</td></tr>\n",
       "\t<tr><th scope=row>6</th><td>rs10000017</td><td>0.878447</td><td> 4</td><td> 84778125</td></tr>\n",
       "</tbody>\n",
       "</table>\n"
      ],
      "text/latex": [
       "A data.frame: 6 × 4\n",
       "\\begin{tabular}{r|llll}\n",
       "  & MarkerName & Pvalue & chromosome & position\\\\\n",
       "  & <chr> & <dbl> & <int> & <int>\\\\\n",
       "\\hline\n",
       "\t1 & rs10       & 0.197416 &  7 &  92383888\\\\\n",
       "\t2 & rs1000000  & 0.599152 & 12 & 126890980\\\\\n",
       "\t3 & rs10000010 & 0.640295 &  4 &  21618674\\\\\n",
       "\t4 & rs10000012 & 0.165036 &  4 &   1357325\\\\\n",
       "\t5 & rs10000013 & 0.565310 &  4 &  37225069\\\\\n",
       "\t6 & rs10000017 & 0.878447 &  4 &  84778125\\\\\n",
       "\\end{tabular}\n"
      ],
      "text/markdown": [
       "\n",
       "A data.frame: 6 × 4\n",
       "\n",
       "| <!--/--> | MarkerName &lt;chr&gt; | Pvalue &lt;dbl&gt; | chromosome &lt;int&gt; | position &lt;int&gt; |\n",
       "|---|---|---|---|---|\n",
       "| 1 | rs10       | 0.197416 |  7 |  92383888 |\n",
       "| 2 | rs1000000  | 0.599152 | 12 | 126890980 |\n",
       "| 3 | rs10000010 | 0.640295 |  4 |  21618674 |\n",
       "| 4 | rs10000012 | 0.165036 |  4 |   1357325 |\n",
       "| 5 | rs10000013 | 0.565310 |  4 |  37225069 |\n",
       "| 6 | rs10000017 | 0.878447 |  4 |  84778125 |\n",
       "\n"
      ],
      "text/plain": [
       "  MarkerName Pvalue   chromosome position \n",
       "1 rs10       0.197416  7          92383888\n",
       "2 rs1000000  0.599152 12         126890980\n",
       "3 rs10000010 0.640295  4          21618674\n",
       "4 rs10000012 0.165036  4           1357325\n",
       "5 rs10000013 0.565310  4          37225069\n",
       "6 rs10000017 0.878447  4          84778125"
      ]
     },
     "metadata": {},
     "output_type": "display_data"
    }
   ],
   "source": [
    "head(output_df)"
   ]
  },
  {
   "cell_type": "code",
   "execution_count": 7,
   "id": "08d4bdc4",
   "metadata": {},
   "outputs": [
    {
     "data": {
      "text/html": [
       "<table class=\"dataframe\">\n",
       "<caption>A data.frame: 1 × 4</caption>\n",
       "<thead>\n",
       "\t<tr><th scope=col>MarkerName</th><th scope=col>Pvalue</th><th scope=col>chromosome</th><th scope=col>position</th></tr>\n",
       "\t<tr><th scope=col>&lt;chr&gt;</th><th scope=col>&lt;dbl&gt;</th><th scope=col>&lt;int&gt;</th><th scope=col>&lt;int&gt;</th></tr>\n",
       "</thead>\n",
       "<tbody>\n",
       "\t<tr><td>rs12051272</td><td>8.03985e-115</td><td>16</td><td>82663288</td></tr>\n",
       "</tbody>\n",
       "</table>\n"
      ],
      "text/latex": [
       "A data.frame: 1 × 4\n",
       "\\begin{tabular}{llll}\n",
       " MarkerName & Pvalue & chromosome & position\\\\\n",
       " <chr> & <dbl> & <int> & <int>\\\\\n",
       "\\hline\n",
       "\t rs12051272 & 8.03985e-115 & 16 & 82663288\\\\\n",
       "\\end{tabular}\n"
      ],
      "text/markdown": [
       "\n",
       "A data.frame: 1 × 4\n",
       "\n",
       "| MarkerName &lt;chr&gt; | Pvalue &lt;dbl&gt; | chromosome &lt;int&gt; | position &lt;int&gt; |\n",
       "|---|---|---|---|\n",
       "| rs12051272 | 8.03985e-115 | 16 | 82663288 |\n",
       "\n"
      ],
      "text/plain": [
       "  MarkerName Pvalue       chromosome position\n",
       "1 rs12051272 8.03985e-115 16         82663288"
      ]
     },
     "metadata": {},
     "output_type": "display_data"
    }
   ],
   "source": [
    "output_df%>%filter(MarkerName==\"rs12051272\")"
   ]
  },
  {
   "cell_type": "code",
   "execution_count": 8,
   "id": "0e68549a",
   "metadata": {},
   "outputs": [
    {
     "data": {
      "text/html": [
       "2440357"
      ],
      "text/latex": [
       "2440357"
      ],
      "text/markdown": [
       "2440357"
      ],
      "text/plain": [
       "[1] 2440357"
      ]
     },
     "metadata": {},
     "output_type": "display_data"
    }
   ],
   "source": [
    "nrow(output_df)"
   ]
  },
  {
   "cell_type": "code",
   "execution_count": 9,
   "id": "1cbc4c4c",
   "metadata": {},
   "outputs": [],
   "source": [
    "for (i in 1:nrow(lead) ){\n",
    "   \n",
    "line_q <- lead[i,]\n",
    "chr_q <- as.integer(line_q[1])\n",
    "start_q<- as.integer(line_q[2])\n",
    "end_q <- as.integer(line_q[3])\n",
    "file_name <- paste0(chr_q,\"_\",start_q,\"_\",end_q,\"_results_3mb.txt\")\n",
    "tmp_df <- output_df%>%filter(chromosome==chr_q & position >= start_q & position <= end_q)%>% distinct(MarkerName,.keep_all = TRUE)%>%select(MarkerName,Pvalue)\n",
    "write.table(tmp_df,paste0(\"../../ANALYSIS/Locuszoom//eur/\",file_name),sep = \"\\t\",row.names=FALSE,quote=FALSE)\n",
    "}"
   ]
  },
  {
   "cell_type": "code",
   "execution_count": null,
   "id": "2cf18377",
   "metadata": {},
   "outputs": [],
   "source": [
    "# METSIM"
   ]
  },
  {
   "cell_type": "code",
   "execution_count": null,
   "id": "3b7033b1-d25f-4af3-b1c4-b4eee5e76e40",
   "metadata": {},
   "outputs": [],
   "source": [
    " read.table(\"../../ANALYSIS/"
   ]
  },
  {
   "cell_type": "code",
   "execution_count": null,
   "id": "b2050c8c-ccc8-4fa8-9169-6b6af7832994",
   "metadata": {},
   "outputs": [],
   "source": []
  },
  {
   "cell_type": "code",
   "execution_count": null,
   "id": "1b1e1781-634a-43cf-b2ac-43c6cbc3d319",
   "metadata": {},
   "outputs": [],
   "source": []
  }
 ],
 "metadata": {
  "kernelspec": {
   "display_name": "R",
   "language": "R",
   "name": "ir"
  },
  "language_info": {
   "codemirror_mode": "r",
   "file_extension": ".r",
   "mimetype": "text/x-r-source",
   "name": "R",
   "pygments_lexer": "r",
   "version": "4.2.0"
  }
 },
 "nbformat": 4,
 "nbformat_minor": 5
}
