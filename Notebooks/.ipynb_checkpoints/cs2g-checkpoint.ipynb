{
 "cells": [
  {
   "cell_type": "code",
   "execution_count": 1,
   "id": "e3cee765",
   "metadata": {},
   "outputs": [],
   "source": [
    "suppressMessages(suppressWarnings(library(tidyverse)))"
   ]
  },
  {
   "cell_type": "code",
   "execution_count": 2,
   "id": "6e1f366b",
   "metadata": {},
   "outputs": [],
   "source": [
    "cs2go <- read.table(\"../../ANALYSIS/cS2G/ALL_CS2G.TAB\",header=FALSE)\n",
    "colnames(cs2go) <- c(\"MARKERNAME\",\"GENENAME\",\"SCORE\",\"INFO\")"
   ]
  },
  {
   "cell_type": "code",
   "execution_count": 3,
   "id": "2a0cb06c",
   "metadata": {},
   "outputs": [],
   "source": [
    "### TRANS"
   ]
  },
  {
   "cell_type": "code",
   "execution_count": 4,
   "id": "8b5592c5",
   "metadata": {},
   "outputs": [],
   "source": [
    "Metasoft_results <-  read.table(\"../../ANALYSIS/META/METASOFT/SECOND_PASS/TRANSANCESTRY_METASOFT_SECONDPASS_RESULTS.TAB\",fill=TRUE,row.names=NULL,header=FALSE)\n",
    "META_THREE <- read.table(\"../data/TRANSANCESTRY_GWAS_ALLELECORRECTED.TAB\",header=T,fill=TRUE,row.names=NULL)\n",
    "colnames(Metasoft_results) <- c(\"MARKERNAME\",\"N\",\"PVALUE_FE\",\"BETA_FE\",\"STD_FE\",\"PVALUE_RE\",\"BETA_RE\",\"STD_RE\",\"PVALUE_RE2\",\"STAT1_RE2\",\"STAT2_RE2\",\"PVALUE_BE\",\"I_SQUARE\",\"Q\",\"PVALUE_Q\",\"TAU_SQUARE\",\n",
    "                                \"PVALUE_ADIPOGEN\",\"PVALUE_AGEN\",\"PVALUE_METSIM\",\"NA1\",\"NA2\",\"NA3\")\n",
    "Metasoft_results <- Metasoft_results%>%filter(MARKERNAME!=\"RSID\")\n",
    "TRANSANCESTRY_RESULTS <- merge(META_THREE,Metasoft_results,by=\"MARKERNAME\")\n",
    "TRANSANCESTRY_RESULTS <- TRANSANCESTRY_RESULTS%>%mutate(TOTAL_N=ceiling(ADIPO_N)+ceiling(AGEN_N)+ceiling(METSIM_N))%>%mutate(MAF_AVG=(ADIPO_EAF*2*ADIPO_N+AGEN_EAF*2*AGEN_N+METSIM_EAF*2*METSIM_N)/(2*TOTAL_N))%>%\n",
    "filter(ADIPO_EAF>0.005)%>%filter(AGEN_EAF>0.005)%>%filter(METSIM_EAF>0.005)%>%select(-NA1,-N,-NA2,-NA3)"
   ]
  },
  {
   "cell_type": "code",
   "execution_count": 5,
   "id": "ba47ec7f",
   "metadata": {},
   "outputs": [
    {
     "data": {
      "text/html": [
       "<table class=\"dataframe\">\n",
       "<caption>A data.frame: 1 × 43</caption>\n",
       "<thead>\n",
       "\t<tr><th></th><th scope=col>MARKERNAME</th><th scope=col>CHROMOSOME</th><th scope=col>POSITION</th><th scope=col>ADIPO_EA</th><th scope=col>ADIPO_NEA</th><th scope=col>ADIPO_EAF</th><th scope=col>ADIPO_N</th><th scope=col>ADIPO_BETA</th><th scope=col>ADIPO_SE</th><th scope=col>ADIPO_PVALUE</th><th scope=col>...</th><th scope=col>PVALUE_BE</th><th scope=col>I_SQUARE</th><th scope=col>Q</th><th scope=col>PVALUE_Q</th><th scope=col>TAU_SQUARE</th><th scope=col>PVALUE_ADIPOGEN</th><th scope=col>PVALUE_AGEN</th><th scope=col>PVALUE_METSIM</th><th scope=col>TOTAL_N</th><th scope=col>MAF_AVG</th></tr>\n",
       "\t<tr><th></th><th scope=col>&lt;chr&gt;</th><th scope=col>&lt;int&gt;</th><th scope=col>&lt;int&gt;</th><th scope=col>&lt;chr&gt;</th><th scope=col>&lt;chr&gt;</th><th scope=col>&lt;dbl&gt;</th><th scope=col>&lt;int&gt;</th><th scope=col>&lt;dbl&gt;</th><th scope=col>&lt;dbl&gt;</th><th scope=col>&lt;dbl&gt;</th><th scope=col>...</th><th scope=col>&lt;lgl&gt;</th><th scope=col>&lt;dbl&gt;</th><th scope=col>&lt;dbl&gt;</th><th scope=col>&lt;dbl&gt;</th><th scope=col>&lt;dbl&gt;</th><th scope=col>&lt;dbl&gt;</th><th scope=col>&lt;dbl&gt;</th><th scope=col>&lt;dbl&gt;</th><th scope=col>&lt;dbl&gt;</th><th scope=col>&lt;dbl&gt;</th></tr>\n",
       "</thead>\n",
       "<tbody>\n",
       "\t<tr><th scope=row>1</th><td>rs10000081</td><td>4</td><td>17348363</td><td>T</td><td>C</td><td>0.2458</td><td>29318</td><td>-0.011588</td><td>0.005128</td><td>0.0284451</td><td>...</td><td>NA</td><td>0</td><td>0.893958</td><td>0.639557</td><td>0</td><td>0.0238367</td><td>0.989502</td><td>0.96363</td><td>46381</td><td>0.3322903</td></tr>\n",
       "</tbody>\n",
       "</table>\n"
      ],
      "text/latex": [
       "A data.frame: 1 × 43\n",
       "\\begin{tabular}{r|lllllllllllllllllllll}\n",
       "  & MARKERNAME & CHROMOSOME & POSITION & ADIPO\\_EA & ADIPO\\_NEA & ADIPO\\_EAF & ADIPO\\_N & ADIPO\\_BETA & ADIPO\\_SE & ADIPO\\_PVALUE & ... & PVALUE\\_BE & I\\_SQUARE & Q & PVALUE\\_Q & TAU\\_SQUARE & PVALUE\\_ADIPOGEN & PVALUE\\_AGEN & PVALUE\\_METSIM & TOTAL\\_N & MAF\\_AVG\\\\\n",
       "  & <chr> & <int> & <int> & <chr> & <chr> & <dbl> & <int> & <dbl> & <dbl> & <dbl> & ... & <lgl> & <dbl> & <dbl> & <dbl> & <dbl> & <dbl> & <dbl> & <dbl> & <dbl> & <dbl>\\\\\n",
       "\\hline\n",
       "\t1 & rs10000081 & 4 & 17348363 & T & C & 0.2458 & 29318 & -0.011588 & 0.005128 & 0.0284451 & ... & NA & 0 & 0.893958 & 0.639557 & 0 & 0.0238367 & 0.989502 & 0.96363 & 46381 & 0.3322903\\\\\n",
       "\\end{tabular}\n"
      ],
      "text/markdown": [
       "\n",
       "A data.frame: 1 × 43\n",
       "\n",
       "| <!--/--> | MARKERNAME &lt;chr&gt; | CHROMOSOME &lt;int&gt; | POSITION &lt;int&gt; | ADIPO_EA &lt;chr&gt; | ADIPO_NEA &lt;chr&gt; | ADIPO_EAF &lt;dbl&gt; | ADIPO_N &lt;int&gt; | ADIPO_BETA &lt;dbl&gt; | ADIPO_SE &lt;dbl&gt; | ADIPO_PVALUE &lt;dbl&gt; | ... ... | PVALUE_BE &lt;lgl&gt; | I_SQUARE &lt;dbl&gt; | Q &lt;dbl&gt; | PVALUE_Q &lt;dbl&gt; | TAU_SQUARE &lt;dbl&gt; | PVALUE_ADIPOGEN &lt;dbl&gt; | PVALUE_AGEN &lt;dbl&gt; | PVALUE_METSIM &lt;dbl&gt; | TOTAL_N &lt;dbl&gt; | MAF_AVG &lt;dbl&gt; |\n",
       "|---|---|---|---|---|---|---|---|---|---|---|---|---|---|---|---|---|---|---|---|---|---|\n",
       "| 1 | rs10000081 | 4 | 17348363 | T | C | 0.2458 | 29318 | -0.011588 | 0.005128 | 0.0284451 | ... | NA | 0 | 0.893958 | 0.639557 | 0 | 0.0238367 | 0.989502 | 0.96363 | 46381 | 0.3322903 |\n",
       "\n"
      ],
      "text/plain": [
       "  MARKERNAME CHROMOSOME POSITION ADIPO_EA ADIPO_NEA ADIPO_EAF ADIPO_N\n",
       "1 rs10000081 4          17348363 T        C         0.2458    29318  \n",
       "  ADIPO_BETA ADIPO_SE ADIPO_PVALUE ... PVALUE_BE I_SQUARE Q        PVALUE_Q\n",
       "1 -0.011588  0.005128 0.0284451    ... NA        0        0.893958 0.639557\n",
       "  TAU_SQUARE PVALUE_ADIPOGEN PVALUE_AGEN PVALUE_METSIM TOTAL_N MAF_AVG  \n",
       "1 0          0.0238367       0.989502    0.96363       46381   0.3322903"
      ]
     },
     "metadata": {},
     "output_type": "display_data"
    }
   ],
   "source": [
    "head(TRANSANCESTRY_RESULTS,1)"
   ]
  },
  {
   "cell_type": "code",
   "execution_count": null,
   "id": "7a3cd9d5",
   "metadata": {},
   "outputs": [],
   "source": [
    "## OVERLAP"
   ]
  },
  {
   "cell_type": "code",
   "execution_count": 7,
   "id": "f4a2b6d0",
   "metadata": {},
   "outputs": [],
   "source": [
    "trans_cs2go <- merge(cs2go,TRANSANCESTRY_RESULTS,by=\"MARKERNAME\")%>%filter(PVALUE_FE < 0.05)%>%select(CHROMOSOME,POSITION,GENENAME,SCORE,INFO)"
   ]
  },
  {
   "cell_type": "code",
   "execution_count": 9,
   "id": "07f2baaf",
   "metadata": {},
   "outputs": [],
   "source": [
    "write.table(trans_cs2go,\"../../ANALYSIS/cS2G/TRANS_CS2G.TAB\",row.names=FALSE,quote=FALSE,sep=\"\\t\")"
   ]
  },
  {
   "cell_type": "code",
   "execution_count": 10,
   "id": "1d9f4212",
   "metadata": {},
   "outputs": [],
   "source": [
    "## EUR"
   ]
  },
  {
   "cell_type": "code",
   "execution_count": 11,
   "id": "c32eb020",
   "metadata": {},
   "outputs": [],
   "source": [
    "Metasoft_results <-  read.table(\"../../ANALYSIS/META/METASOFT/SECOND_PASS/EUROPEAN_METASOFT_SECONDPASS_RESULTS.TAB\",fill=TRUE,row.names=NULL,header=FALSE)\n",
    "META_TWO <- read.table(gzfile(\"../data/EUROPEAN_GWAS_ALLELECORRECTED.TAB\"),header=T,fill=TRUE,row.names=NULL)\n",
    "colnames(Metasoft_results) <- c(\"MARKERNAME\",\"N\",\"PVALUE_FE\",\"BETA_FE\",\"STD_FE\",\"PVALUE_RE\",\"BETA_RE\",\"STD_RE\",\"PVALUE_RE2\",\"STAT1_RE2\",\"STAT2_RE2\",\"PVALUE_BE\",\"I_SQUARE\",\"Q\",\"PVALUE_Q\",\"TAU_SQUARE\",\n",
    "                                \"PVALUE_ADIPOGEN\",\"PVALUE_METSIM\",\"NA1\",\"NA2\")\n",
    "Metasoft_results <- Metasoft_results%>%filter(MARKERNAME!=\"RSID\")\n",
    "EUR_RESULTS <- merge(META_TWO,Metasoft_results,by=\"MARKERNAME\")\n",
    "EUR_RESULTS <- EUR_RESULTS%>%mutate(TOTAL_N=ceiling(ADIPO_N)+ceiling(METSIM_N))%>%mutate(MAF_AVG=(ADIPO_EAF*2*ADIPO_N+METSIM_EAF*2*METSIM_N)/(2*TOTAL_N))%>%\n",
    "filter(ADIPO_EAF>0.005)%>%filter(METSIM_EAF>0.005)%>%select(-NA1,-N,-NA2)"
   ]
  },
  {
   "cell_type": "code",
   "execution_count": null,
   "id": "5c486d2e",
   "metadata": {},
   "outputs": [],
   "source": [
    "#OVERLAP"
   ]
  },
  {
   "cell_type": "code",
   "execution_count": 12,
   "id": "dc7ff78b",
   "metadata": {},
   "outputs": [],
   "source": [
    "eur_cs2go <- merge(cs2go,EUR_RESULTS,by=\"MARKERNAME\")%>%filter(PVALUE_FE < 0.05)%>%select(CHROMOSOME,POSITION,GENENAME,SCORE,INFO)"
   ]
  },
  {
   "cell_type": "code",
   "execution_count": 13,
   "id": "0496bd07",
   "metadata": {},
   "outputs": [],
   "source": [
    "write.table(eur_cs2go,\"../../ANALYSIS/cS2G/EUR_CS2G.TAB\",row.names=FALSE,quote=FALSE,sep=\"\\t\")"
   ]
  },
  {
   "cell_type": "code",
   "execution_count": null,
   "id": "c8e70ec4",
   "metadata": {},
   "outputs": [],
   "source": []
  }
 ],
 "metadata": {
  "kernelspec": {
   "display_name": "R",
   "language": "R",
   "name": "ir"
  },
  "language_info": {
   "codemirror_mode": "r",
   "file_extension": ".r",
   "mimetype": "text/x-r-source",
   "name": "R",
   "pygments_lexer": "r",
   "version": "4.1.2"
  }
 },
 "nbformat": 4,
 "nbformat_minor": 5
}
