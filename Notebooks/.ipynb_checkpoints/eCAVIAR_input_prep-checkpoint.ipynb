{
 "cells": [
  {
   "cell_type": "code",
   "execution_count": 139,
   "id": "10451429",
   "metadata": {},
   "outputs": [],
   "source": [
    "suppressMessages(suppressWarnings(library(tidyverse)))"
   ]
  },
  {
   "cell_type": "code",
   "execution_count": 140,
   "id": "0740c5b0",
   "metadata": {},
   "outputs": [],
   "source": [
    "## Trans-ancestry "
   ]
  },
  {
   "cell_type": "code",
   "execution_count": 141,
   "id": "208c4876",
   "metadata": {},
   "outputs": [],
   "source": [
    "Metasoft_results <-  read.table(\"../../ANALYSIS/META/METASOFT/SECOND_PASS/TRANSANCESTRY_METASOFT_SECONDPASS_RESULTS.TAB\",fill=TRUE,row.names=NULL,header=FALSE)\n",
    "META_THREE <- read.table(gzfile(\"../data/TRANSANCESTRY_GWAS.TAB.gz\"),header=T,fill=TRUE,row.names=NULL)\n",
    "colnames(Metasoft_results) <- c(\"MARKERNAME\",\"N\",\"PVALUE_FE\",\"BETA_FE\",\"STD_FE\",\"PVALUE_RE\",\"BETA_RE\",\"STD_RE\",\"PVALUE_RE2\",\"STAT1_RE2\",\"STAT2_RE2\",\"PVALUE_BE\",\"I_SQUARE\",\"Q\",\"PVALUE_Q\",\"TAU_SQUARE\",\n",
    "                                \"PVALUE_ADIPOGEN\",\"PVALUE_AGEN\",\"PVALUE_METSIM\",\"NA1\",\"NA2\",\"NA3\")\n",
    "Metasoft_results <- Metasoft_results%>%filter(MARKERNAME!=\"RSID\")\n",
    "TRANSANCESTRY_RESULTS <- merge(META_THREE,Metasoft_results,by=\"MARKERNAME\")\n",
    "TRANSANCESTRY_RESULTS <- TRANSANCESTRY_RESULTS%>%mutate(TOTAL_N=ceiling(ADIPO_N)+ceiling(AGEN_N)+ceiling(METSIM_N))%>%mutate(MAF_AVG=(ADIPO_EAF*2*ADIPO_N+AGEN_EAF*2*AGEN_N+METSIM_EAF*2*METSIM_N)/(2*TOTAL_N))%>%\n",
    "filter(ADIPO_EAF>0.005)%>%filter(AGEN_EAF>0.005)%>%filter(METSIM_EAF>0.005)%>%select(-NA1,-N,-NA2,-NA3)"
   ]
  },
  {
   "cell_type": "code",
   "execution_count": 142,
   "id": "6cdca15d",
   "metadata": {},
   "outputs": [],
   "source": [
    "lead <- read.table(\"../../ANALYSIS/lead_transancestry_3mb.txt\",fill=TRUE,header=TRUE)\n",
    "output_df <- merge(TRANSANCESTRY_RESULTS,lead)%>%select(MARKERNAME,CHROMOSOME,POSITION,METSIM_EA,METSIM_NEA,MAF_AVG,BETA_FE,STD_FE)%>%\n",
    "rename(rsid=MARKERNAME,chromosome=CHROMOSOME,position=POSITION,allele1=METSIM_EA,allele2=METSIM_NEA,maf=MAF_AVG,beta=BETA_FE,se=STD_FE)"
   ]
  },
  {
   "cell_type": "code",
   "execution_count": 143,
   "id": "8b273dc2",
   "metadata": {},
   "outputs": [
    {
     "data": {
      "text/html": [
       "<table class=\"dataframe\">\n",
       "<caption>A data.frame: 6 × 8</caption>\n",
       "<thead>\n",
       "\t<tr><th></th><th scope=col>rsid</th><th scope=col>chromosome</th><th scope=col>position</th><th scope=col>allele1</th><th scope=col>allele2</th><th scope=col>maf</th><th scope=col>beta</th><th scope=col>se</th></tr>\n",
       "\t<tr><th></th><th scope=col>&lt;chr&gt;</th><th scope=col>&lt;int&gt;</th><th scope=col>&lt;int&gt;</th><th scope=col>&lt;chr&gt;</th><th scope=col>&lt;chr&gt;</th><th scope=col>&lt;dbl&gt;</th><th scope=col>&lt;dbl&gt;</th><th scope=col>&lt;dbl&gt;</th></tr>\n",
       "</thead>\n",
       "<tbody>\n",
       "\t<tr><th scope=row>1</th><td>rs10000081</td><td>4</td><td> 17348363</td><td>T</td><td>C</td><td>0.33229026</td><td>-0.0095197</td><td>0.00463699</td></tr>\n",
       "\t<tr><th scope=row>2</th><td>rs10000092</td><td>4</td><td> 21895517</td><td>C</td><td>T</td><td>0.38806186</td><td> 0.0121143</td><td>0.00451048</td></tr>\n",
       "\t<tr><th scope=row>3</th><td>rs1000025 </td><td>6</td><td>134085319</td><td>T</td><td>C</td><td>0.28441548</td><td>-0.0111126</td><td>0.00485617</td></tr>\n",
       "\t<tr><th scope=row>4</th><td>rs10000252</td><td>4</td><td>  3216484</td><td>T</td><td>C</td><td>0.02623173</td><td> 0.0314747</td><td>0.01459080</td></tr>\n",
       "\t<tr><th scope=row>5</th><td>rs10000268</td><td>4</td><td> 63606939</td><td>T</td><td>A</td><td>0.16447520</td><td>-0.0106829</td><td>0.00585867</td></tr>\n",
       "\t<tr><th scope=row>6</th><td>rs10000289</td><td>4</td><td> 96437606</td><td>A</td><td>T</td><td>0.03235335</td><td> 0.0396380</td><td>0.01743640</td></tr>\n",
       "</tbody>\n",
       "</table>\n"
      ],
      "text/latex": [
       "A data.frame: 6 × 8\n",
       "\\begin{tabular}{r|llllllll}\n",
       "  & rsid & chromosome & position & allele1 & allele2 & maf & beta & se\\\\\n",
       "  & <chr> & <int> & <int> & <chr> & <chr> & <dbl> & <dbl> & <dbl>\\\\\n",
       "\\hline\n",
       "\t1 & rs10000081 & 4 &  17348363 & T & C & 0.33229026 & -0.0095197 & 0.00463699\\\\\n",
       "\t2 & rs10000092 & 4 &  21895517 & C & T & 0.38806186 &  0.0121143 & 0.00451048\\\\\n",
       "\t3 & rs1000025  & 6 & 134085319 & T & C & 0.28441548 & -0.0111126 & 0.00485617\\\\\n",
       "\t4 & rs10000252 & 4 &   3216484 & T & C & 0.02623173 &  0.0314747 & 0.01459080\\\\\n",
       "\t5 & rs10000268 & 4 &  63606939 & T & A & 0.16447520 & -0.0106829 & 0.00585867\\\\\n",
       "\t6 & rs10000289 & 4 &  96437606 & A & T & 0.03235335 &  0.0396380 & 0.01743640\\\\\n",
       "\\end{tabular}\n"
      ],
      "text/markdown": [
       "\n",
       "A data.frame: 6 × 8\n",
       "\n",
       "| <!--/--> | rsid &lt;chr&gt; | chromosome &lt;int&gt; | position &lt;int&gt; | allele1 &lt;chr&gt; | allele2 &lt;chr&gt; | maf &lt;dbl&gt; | beta &lt;dbl&gt; | se &lt;dbl&gt; |\n",
       "|---|---|---|---|---|---|---|---|---|\n",
       "| 1 | rs10000081 | 4 |  17348363 | T | C | 0.33229026 | -0.0095197 | 0.00463699 |\n",
       "| 2 | rs10000092 | 4 |  21895517 | C | T | 0.38806186 |  0.0121143 | 0.00451048 |\n",
       "| 3 | rs1000025  | 6 | 134085319 | T | C | 0.28441548 | -0.0111126 | 0.00485617 |\n",
       "| 4 | rs10000252 | 4 |   3216484 | T | C | 0.02623173 |  0.0314747 | 0.01459080 |\n",
       "| 5 | rs10000268 | 4 |  63606939 | T | A | 0.16447520 | -0.0106829 | 0.00585867 |\n",
       "| 6 | rs10000289 | 4 |  96437606 | A | T | 0.03235335 |  0.0396380 | 0.01743640 |\n",
       "\n"
      ],
      "text/plain": [
       "  rsid       chromosome position  allele1 allele2 maf        beta      \n",
       "1 rs10000081 4           17348363 T       C       0.33229026 -0.0095197\n",
       "2 rs10000092 4           21895517 C       T       0.38806186  0.0121143\n",
       "3 rs1000025  6          134085319 T       C       0.28441548 -0.0111126\n",
       "4 rs10000252 4            3216484 T       C       0.02623173  0.0314747\n",
       "5 rs10000268 4           63606939 T       A       0.16447520 -0.0106829\n",
       "6 rs10000289 4           96437606 A       T       0.03235335  0.0396380\n",
       "  se        \n",
       "1 0.00463699\n",
       "2 0.00451048\n",
       "3 0.00485617\n",
       "4 0.01459080\n",
       "5 0.00585867\n",
       "6 0.01743640"
      ]
     },
     "metadata": {},
     "output_type": "display_data"
    }
   ],
   "source": [
    "head(output_df)"
   ]
  },
  {
   "cell_type": "code",
   "execution_count": 144,
   "id": "64575db2",
   "metadata": {},
   "outputs": [],
   "source": [
    "for (i in 1:nrow(lead) ){\n",
    "   \n",
    "line_q <- lead[i,]\n",
    "chr_q <- as.integer(line_q[1])\n",
    "start_q<- as.integer(line_q[2])\n",
    "end_q <- as.integer(line_q[3])\n",
    "file_name <- paste0(chr_q,\"_\",start_q,\"_\",end_q,\".z\")\n",
    "caviar_name <- paste0(chr_q,\"_\",start_q,\"_\",end_q,\"_caviar.z\")\n",
    "tmp_df <- output_df%>%filter(chromosome==chr_q & position >= start_q & position <= end_q)%>% distinct()\n",
    "caviar_df <- tmp_df%>%mutate(z=pchisq((beta/se)^2, df=1, lower=F))%>% distinct()\n",
    "write.table(tmp_df,paste0(\"../../ANALYSIS/CAVIAR/trans/meta_z/\",file_name),sep = \" \",row.names=FALSE,quote=FALSE)\n",
    "write.table(caviar_df,paste0(\"../../ANALYSIS/CAVIAR/trans/\",caviar_name),sep = \" \",row.names=FALSE,col.names = FALSE,quote=FALSE)\n",
    "}"
   ]
  },
  {
   "cell_type": "code",
   "execution_count": 145,
   "id": "3cab6f36",
   "metadata": {},
   "outputs": [],
   "source": [
    "#GTEX "
   ]
  },
  {
   "cell_type": "code",
   "execution_count": 146,
   "id": "948f23d3",
   "metadata": {},
   "outputs": [],
   "source": [
    "df_z <- list.files(\"../../ANALYSIS/CAVIAR/GTEx_Analysis_v8_eQTL/\",pattern='*._Z',full.names = TRUE)"
   ]
  },
  {
   "cell_type": "code",
   "execution_count": 147,
   "id": "c5d87af8",
   "metadata": {},
   "outputs": [],
   "source": [
    "suppressMessages(suppressWarnings(for (i in 1:length(df_z))\n",
    "{\n",
    "    tryCatch({\n",
    "name <- tail(str_split(df_z,\"/|.z\")[[i]],n=2)[2]\n",
    "expr_name <- paste0(name,\"_Zscore.txt\")\n",
    "z_name <- paste0(name,\".z\")\n",
    "expr_file  <- read.table(df_z[i],header=FALSE,fill = TRUE)\n",
    "colnames(expr_file) <- c(\"MARKERNAME\",\"eQTL_ZSCORE\")\n",
    "expr_file_z <- merge(Metasoft_results,expr_file,by=\"MARKERNAME\")%>%select(MARKERNAME,eQTL_ZSCORE)%>% distinct()\n",
    "eqtl_z <- merge(TRANSANCESTRY_RESULTS,expr_file,by=\"MARKERNAME\")%>%select(MARKERNAME,CHROMOSOME,POSITION,METSIM_EA,METSIM_NEA,MAF_AVG,BETA_FE,STD_FE)%>%\n",
    "rename(rsid=MARKERNAME,chromosome=CHROMOSOME,position=POSITION,allele1=METSIM_EA,allele2=METSIM_NEA,maf=MAF_AVG,beta=BETA_FE,se=STD_FE)%>% distinct()\n",
    "write.table(expr_file_z,paste0(\"../../ANALYSIS/CAVIAR/trans/eQTL/\",expr_name),sep = \" \",row.names=FALSE,quote=FALSE,col.names = FALSE)\n",
    "write.table(eqtl_z,paste0(\"../../ANALYSIS/CAVIAR/trans/expression_z/\",z_name),sep = \" \",row.names=FALSE,quote=FALSE)       \n",
    "   }, error=function(e){})\n",
    "}))"
   ]
  },
  {
   "cell_type": "code",
   "execution_count": null,
   "id": "911a9596",
   "metadata": {},
   "outputs": [],
   "source": []
  },
  {
   "cell_type": "code",
   "execution_count": null,
   "id": "26d2b166",
   "metadata": {},
   "outputs": [],
   "source": [
    "###"
   ]
  },
  {
   "cell_type": "code",
   "execution_count": null,
   "id": "3c041a6b",
   "metadata": {},
   "outputs": [],
   "source": []
  },
  {
   "cell_type": "code",
   "execution_count": 148,
   "id": "9396b9a3",
   "metadata": {},
   "outputs": [],
   "source": [
    "### European "
   ]
  },
  {
   "cell_type": "code",
   "execution_count": 149,
   "id": "036a9852",
   "metadata": {},
   "outputs": [],
   "source": [
    "Metasoft_results <-  read.table(\"../../ANALYSIS/META/METASOFT/SECOND_PASS/EUROPEAN_METASOFT_SECONDPASS_RESULTS.TAB\",fill=TRUE,row.names=NULL,header=FALSE)\n",
    "META_TWO <- read.table(gzfile(\"../data/EUR_GWAS.TAB.gz\"),header=T,fill=TRUE,row.names=NULL)\n",
    "colnames(Metasoft_results) <- c(\"MARKERNAME\",\"N\",\"PVALUE_FE\",\"BETA_FE\",\"STD_FE\",\"PVALUE_RE\",\"BETA_RE\",\"STD_RE\",\"PVALUE_RE2\",\"STAT1_RE2\",\"STAT2_RE2\",\"PVALUE_BE\",\"I_SQUARE\",\"Q\",\"PVALUE_Q\",\"TAU_SQUARE\",\n",
    "                                \"PVALUE_ADIPOGEN\",\"PVALUE_METSIM\",\"NA1\",\"NA2\")\n",
    "Metasoft_results <- Metasoft_results%>%filter(MARKERNAME!=\"RSID\")\n",
    "EUR_RESULTS <- merge(META_TWO,Metasoft_results,by=\"MARKERNAME\")\n",
    "EUR_RESULTS <- EUR_RESULTS%>%mutate(TOTAL_N=ceiling(ADIPO_N)+ceiling(METSIM_N))%>%mutate(MAF_AVG=(ADIPO_EAF*2*ADIPO_N+METSIM_EAF*2*METSIM_N)/(2*TOTAL_N))%>%\n",
    "filter(ADIPO_EAF>0.005)%>%filter(METSIM_EAF>0.005)%>%select(-NA1,-N,-NA2)"
   ]
  },
  {
   "cell_type": "code",
   "execution_count": 152,
   "id": "93d51a49",
   "metadata": {},
   "outputs": [],
   "source": [
    "lead <- read.table(\"../../ANALYSIS/lead_european_3mb.txt\",fill=TRUE,header=TRUE)\n",
    " output_df <- merge(EUR_RESULTS,lead)%>%select(MARKERNAME,CHROMOSOME.x,POSITION.x,METSIM_EA,METSIM_NEA,MAF_AVG,BETA_FE,STD_FE)%>%\n",
    "rename(rsid=MARKERNAME,chromosome=CHROMOSOME.x,position=POSITION.x,allele1=METSIM_EA,allele2=METSIM_NEA,maf=MAF_AVG,beta=BETA_FE,se=STD_FE)"
   ]
  },
  {
   "cell_type": "code",
   "execution_count": 153,
   "id": "06428bc4",
   "metadata": {},
   "outputs": [
    {
     "data": {
      "text/html": [
       "<table class=\"dataframe\">\n",
       "<caption>A data.frame: 6 × 8</caption>\n",
       "<thead>\n",
       "\t<tr><th></th><th scope=col>rsid</th><th scope=col>chromosome</th><th scope=col>position</th><th scope=col>allele1</th><th scope=col>allele2</th><th scope=col>maf</th><th scope=col>beta</th><th scope=col>se</th></tr>\n",
       "\t<tr><th></th><th scope=col>&lt;chr&gt;</th><th scope=col>&lt;int&gt;</th><th scope=col>&lt;int&gt;</th><th scope=col>&lt;chr&gt;</th><th scope=col>&lt;chr&gt;</th><th scope=col>&lt;dbl&gt;</th><th scope=col>&lt;dbl&gt;</th><th scope=col>&lt;dbl&gt;</th></tr>\n",
       "</thead>\n",
       "<tbody>\n",
       "\t<tr><th scope=row>1</th><td>rs10000081</td><td>4</td><td> 17348363</td><td>T</td><td>C</td><td>0.27695719</td><td>-0.0105171</td><td>0.00486910</td></tr>\n",
       "\t<tr><th scope=row>2</th><td>rs10000092</td><td>4</td><td> 21895517</td><td>C</td><td>T</td><td>0.33079187</td><td>-0.0116018</td><td>0.00464468</td></tr>\n",
       "\t<tr><th scope=row>3</th><td>rs1000012 </td><td>9</td><td>135703041</td><td>C</td><td>A</td><td>0.24825206</td><td> 0.0101299</td><td>0.00513429</td></tr>\n",
       "\t<tr><th scope=row>4</th><td>rs10000180</td><td>4</td><td> 83899764</td><td>A</td><td>G</td><td>0.28289825</td><td>-0.0101409</td><td>0.00486157</td></tr>\n",
       "\t<tr><th scope=row>5</th><td>rs1000025 </td><td>6</td><td>134085319</td><td>T</td><td>C</td><td>0.30296044</td><td>-0.0119621</td><td>0.00503065</td></tr>\n",
       "\t<tr><th scope=row>6</th><td>rs10000252</td><td>4</td><td>  3216484</td><td>T</td><td>C</td><td>0.02621844</td><td> 0.0315125</td><td>0.01477620</td></tr>\n",
       "</tbody>\n",
       "</table>\n"
      ],
      "text/latex": [
       "A data.frame: 6 × 8\n",
       "\\begin{tabular}{r|llllllll}\n",
       "  & rsid & chromosome & position & allele1 & allele2 & maf & beta & se\\\\\n",
       "  & <chr> & <int> & <int> & <chr> & <chr> & <dbl> & <dbl> & <dbl>\\\\\n",
       "\\hline\n",
       "\t1 & rs10000081 & 4 &  17348363 & T & C & 0.27695719 & -0.0105171 & 0.00486910\\\\\n",
       "\t2 & rs10000092 & 4 &  21895517 & C & T & 0.33079187 & -0.0116018 & 0.00464468\\\\\n",
       "\t3 & rs1000012  & 9 & 135703041 & C & A & 0.24825206 &  0.0101299 & 0.00513429\\\\\n",
       "\t4 & rs10000180 & 4 &  83899764 & A & G & 0.28289825 & -0.0101409 & 0.00486157\\\\\n",
       "\t5 & rs1000025  & 6 & 134085319 & T & C & 0.30296044 & -0.0119621 & 0.00503065\\\\\n",
       "\t6 & rs10000252 & 4 &   3216484 & T & C & 0.02621844 &  0.0315125 & 0.01477620\\\\\n",
       "\\end{tabular}\n"
      ],
      "text/markdown": [
       "\n",
       "A data.frame: 6 × 8\n",
       "\n",
       "| <!--/--> | rsid &lt;chr&gt; | chromosome &lt;int&gt; | position &lt;int&gt; | allele1 &lt;chr&gt; | allele2 &lt;chr&gt; | maf &lt;dbl&gt; | beta &lt;dbl&gt; | se &lt;dbl&gt; |\n",
       "|---|---|---|---|---|---|---|---|---|\n",
       "| 1 | rs10000081 | 4 |  17348363 | T | C | 0.27695719 | -0.0105171 | 0.00486910 |\n",
       "| 2 | rs10000092 | 4 |  21895517 | C | T | 0.33079187 | -0.0116018 | 0.00464468 |\n",
       "| 3 | rs1000012  | 9 | 135703041 | C | A | 0.24825206 |  0.0101299 | 0.00513429 |\n",
       "| 4 | rs10000180 | 4 |  83899764 | A | G | 0.28289825 | -0.0101409 | 0.00486157 |\n",
       "| 5 | rs1000025  | 6 | 134085319 | T | C | 0.30296044 | -0.0119621 | 0.00503065 |\n",
       "| 6 | rs10000252 | 4 |   3216484 | T | C | 0.02621844 |  0.0315125 | 0.01477620 |\n",
       "\n"
      ],
      "text/plain": [
       "  rsid       chromosome position  allele1 allele2 maf        beta      \n",
       "1 rs10000081 4           17348363 T       C       0.27695719 -0.0105171\n",
       "2 rs10000092 4           21895517 C       T       0.33079187 -0.0116018\n",
       "3 rs1000012  9          135703041 C       A       0.24825206  0.0101299\n",
       "4 rs10000180 4           83899764 A       G       0.28289825 -0.0101409\n",
       "5 rs1000025  6          134085319 T       C       0.30296044 -0.0119621\n",
       "6 rs10000252 4            3216484 T       C       0.02621844  0.0315125\n",
       "  se        \n",
       "1 0.00486910\n",
       "2 0.00464468\n",
       "3 0.00513429\n",
       "4 0.00486157\n",
       "5 0.00503065\n",
       "6 0.01477620"
      ]
     },
     "metadata": {},
     "output_type": "display_data"
    }
   ],
   "source": [
    "head(output_df)"
   ]
  },
  {
   "cell_type": "code",
   "execution_count": 154,
   "id": "2142b8a1",
   "metadata": {},
   "outputs": [],
   "source": [
    "for (i in 1:nrow(lead) ){\n",
    "   \n",
    "line_q <- lead[i,]\n",
    "chr_q <- as.integer(line_q[1])\n",
    "start_q<- as.integer(line_q[2])\n",
    "end_q <- as.integer(line_q[3])\n",
    "file_name <- paste0(chr_q,\"_\",start_q,\"_\",end_q,\".z\")\n",
    "caviar_name <- paste0(chr_q,\"_\",start_q,\"_\",end_q,\"_caviar.z\")\n",
    "tmp_df <- output_df%>%filter(chromosome==chr_q & position >= start_q & position <= end_q)%>% distinct()\n",
    "caviar_df <- tmp_df%>%mutate(z=pchisq((beta/se)^2, df=1, lower=F))%>% distinct()\n",
    "write.table(tmp_df,paste0(\"../../ANALYSIS/CAVIAR/eur/meta_z/\",file_name),sep = \" \",row.names=FALSE,quote=FALSE)\n",
    "write.table(caviar_df,paste0(\"../../ANALYSIS/CAVIAR/eur/\",caviar_name),sep = \" \",row.names=FALSE,col.names=FALSE,quote=FALSE)\n",
    "}"
   ]
  },
  {
   "cell_type": "code",
   "execution_count": 155,
   "id": "c6487366",
   "metadata": {},
   "outputs": [],
   "source": [
    "##GTEX"
   ]
  },
  {
   "cell_type": "code",
   "execution_count": 156,
   "id": "240fd2e2",
   "metadata": {},
   "outputs": [],
   "source": [
    "suppressMessages(suppressWarnings(for (i in 1:length(df_z))\n",
    "{\n",
    "    tryCatch({\n",
    "name <- tail(str_split(df_z,\"/|.z\")[[i]],n=2)[2]\n",
    "expr_name <- paste0(name,\"_Zscore.txt\")\n",
    "z_name <- paste0(name,\".z\")\n",
    "expr_file  <- read.table(df_z[i],header=FALSE,fill = TRUE)\n",
    "colnames(expr_file) <- c(\"MARKERNAME\",\"eQTL_ZSCORE\")\n",
    "expr_file_z <- merge(Metasoft_results,expr_file,by=\"MARKERNAME\")%>%select(MARKERNAME,eQTL_ZSCORE)%>% distinct()\n",
    "eqtl_z <- merge(EUR_RESULTS,expr_file,by=\"MARKERNAME\")%>%select(MARKERNAME,CHROMOSOME,POSITION,METSIM_EA,METSIM_NEA,MAF_AVG,BETA_FE,STD_FE)%>%\n",
    "rename(rsid=MARKERNAME,chromosome=CHROMOSOME,position=POSITION,allele1=METSIM_EA,allele2=METSIM_NEA,maf=MAF_AVG,beta=BETA_FE,se=STD_FE)%>% distinct()\n",
    "write.table(expr_file_z,paste0(\"../../ANALYSIS/CAVIAR/eur/eQTL/\",expr_name),sep = \" \",row.names=FALSE,quote=FALSE,col.names = FALSE)\n",
    "write.table(eqtl_z,paste0(\"../../ANALYSIS/CAVIAR/eur/expression_z//\",z_name),sep = \" \",row.names=FALSE,quote=FALSE)       \n",
    "   }, error=function(e){})\n",
    "}))"
   ]
  },
  {
   "cell_type": "code",
   "execution_count": null,
   "id": "4d4b00c7",
   "metadata": {},
   "outputs": [],
   "source": []
  },
  {
   "cell_type": "code",
   "execution_count": null,
   "id": "02ca70b9",
   "metadata": {},
   "outputs": [],
   "source": [
    "### "
   ]
  }
 ],
 "metadata": {
  "kernelspec": {
   "display_name": "R",
   "language": "R",
   "name": "ir"
  },
  "language_info": {
   "codemirror_mode": "r",
   "file_extension": ".r",
   "mimetype": "text/x-r-source",
   "name": "R",
   "pygments_lexer": "r",
   "version": "4.1.2"
  }
 },
 "nbformat": 4,
 "nbformat_minor": 5
}
