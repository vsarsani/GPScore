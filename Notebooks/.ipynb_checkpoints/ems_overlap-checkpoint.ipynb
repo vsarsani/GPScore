{
 "cells": [
  {
   "cell_type": "code",
   "execution_count": 1,
   "id": "c5d96758",
   "metadata": {},
   "outputs": [],
   "source": [
    "suppressMessages(suppressWarnings(library(tidyverse)))"
   ]
  },
  {
   "cell_type": "code",
   "execution_count": 14,
   "id": "1f6f584d",
   "metadata": {},
   "outputs": [
    {
     "name": "stderr",
     "output_type": "stream",
     "text": [
      "Warning message in mask$eval_all_mutate(quo):\n",
      "\"NAs introduced by coercion\"\n"
     ]
    }
   ],
   "source": [
    "ems <- read.table(\"../../ANALYSIS/EMS_OVERLAP/EMS_ALL_hg19c.bed\",header=FALSE,fill=TRUE,row.names=NULL)\n",
    "colnames(ems) <- c(\"CHROMOSOME\",\"POSITION\",\"POSITION1\",\"NEA\",\"EA\",\"GENE\",\"EMS_N\",\"Tissue\")\n",
    "ems <- ems%>%select(-POSITION1)%>%mutate(CHROMOSOME=as.integer(CHROMOSOME))%>%mutate(GENE=gsub(\"*\\\\.[0-9]\", \"\", GENE))"
   ]
  },
  {
   "cell_type": "code",
   "execution_count": 15,
   "id": "b48d206e",
   "metadata": {},
   "outputs": [
    {
     "data": {
      "text/html": [
       "<table class=\"dataframe\">\n",
       "<caption>A data.frame: 1 × 7</caption>\n",
       "<thead>\n",
       "\t<tr><th></th><th scope=col>CHROMOSOME</th><th scope=col>POSITION</th><th scope=col>NEA</th><th scope=col>EA</th><th scope=col>GENE</th><th scope=col>EMS_N</th><th scope=col>Tissue</th></tr>\n",
       "\t<tr><th></th><th scope=col>&lt;int&gt;</th><th scope=col>&lt;int&gt;</th><th scope=col>&lt;chr&gt;</th><th scope=col>&lt;chr&gt;</th><th scope=col>&lt;chr&gt;</th><th scope=col>&lt;dbl&gt;</th><th scope=col>&lt;chr&gt;</th></tr>\n",
       "</thead>\n",
       "<tbody>\n",
       "\t<tr><th scope=row>1</th><td>10</td><td>101766261</td><td>T</td><td>C</td><td>ENSG000001075546</td><td>489.23</td><td>Adipose_Subcutaneous</td></tr>\n",
       "</tbody>\n",
       "</table>\n"
      ],
      "text/latex": [
       "A data.frame: 1 × 7\n",
       "\\begin{tabular}{r|lllllll}\n",
       "  & CHROMOSOME & POSITION & NEA & EA & GENE & EMS\\_N & Tissue\\\\\n",
       "  & <int> & <int> & <chr> & <chr> & <chr> & <dbl> & <chr>\\\\\n",
       "\\hline\n",
       "\t1 & 10 & 101766261 & T & C & ENSG000001075546 & 489.23 & Adipose\\_Subcutaneous\\\\\n",
       "\\end{tabular}\n"
      ],
      "text/markdown": [
       "\n",
       "A data.frame: 1 × 7\n",
       "\n",
       "| <!--/--> | CHROMOSOME &lt;int&gt; | POSITION &lt;int&gt; | NEA &lt;chr&gt; | EA &lt;chr&gt; | GENE &lt;chr&gt; | EMS_N &lt;dbl&gt; | Tissue &lt;chr&gt; |\n",
       "|---|---|---|---|---|---|---|---|\n",
       "| 1 | 10 | 101766261 | T | C | ENSG000001075546 | 489.23 | Adipose_Subcutaneous |\n",
       "\n"
      ],
      "text/plain": [
       "  CHROMOSOME POSITION  NEA EA GENE             EMS_N  Tissue              \n",
       "1 10         101766261 T   C  ENSG000001075546 489.23 Adipose_Subcutaneous"
      ]
     },
     "metadata": {},
     "output_type": "display_data"
    }
   ],
   "source": [
    "head(ems,1)"
   ]
  },
  {
   "cell_type": "code",
   "execution_count": null,
   "id": "fcdb2dc3",
   "metadata": {},
   "outputs": [],
   "source": [
    "#METSIM"
   ]
  },
  {
   "cell_type": "code",
   "execution_count": 16,
   "id": "96aff1d0",
   "metadata": {},
   "outputs": [],
   "source": [
    "METSIM_RESULTS <- read.table(\"../../Summary_Statistic//Formatted//METSIM_hg19_METAL_POS.TAB\",header=F,fill=TRUE,row.names=NULL)\n",
    "colnames(METSIM_RESULTS) <- c(\"CHROMOSOME\",\"POSITION\",\"MARKERNAME\",\"METSIM_NEA\",\"METSIM_EA\",\"METSIM_N\",\"PVALUE_FE\",\"METSIM_BETA\",\"METSIM_SE\")"
   ]
  },
  {
   "cell_type": "code",
   "execution_count": 17,
   "id": "59fd7775",
   "metadata": {},
   "outputs": [],
   "source": [
    "lead <- read.table(\"../../ANALYSIS/lead_metsim_3mb_merged.txt\",fill=TRUE,header=TRUE)\n",
    "output_df <- merge(METSIM_RESULTS,lead)%>%mutate(MAF=0.49)%>%select(MARKERNAME,CHROMOSOME,POSITION,PVALUE_FE,METSIM_NEA,METSIM_EA)"
   ]
  },
  {
   "cell_type": "code",
   "execution_count": null,
   "id": "089f84ec",
   "metadata": {},
   "outputs": [],
   "source": [
    "#overlap"
   ]
  },
  {
   "cell_type": "code",
   "execution_count": 18,
   "id": "f41f9a03",
   "metadata": {},
   "outputs": [],
   "source": [
    "metsim_ems <- merge(ems,output_df,by=c(\"CHROMOSOME\",\"POSITION\"))%>%filter(METSIM_NEA==NEA & METSIM_EA==EA & PVALUE_FE < 0.05)%>%select(CHROMOSOME,POSITION,GENE,EMS_N,Tissue)"
   ]
  },
  {
   "cell_type": "code",
   "execution_count": 19,
   "id": "de5b9c81",
   "metadata": {},
   "outputs": [],
   "source": [
    "stand01 <- function(x){(x-min(x))/(max(x)-min(x))}"
   ]
  },
  {
   "cell_type": "code",
   "execution_count": 20,
   "id": "0c92f38f",
   "metadata": {},
   "outputs": [],
   "source": [
    "write.table(metsim_ems%>%mutate(scaled_EMS=stand01(EMS_N)),\"../../ANALYSIS/EMS_OVERLAP/METSIM_OVERLAP_EMS.TAB\",row.names=FALSE,quote=FALSE,sep=\"\\t\")"
   ]
  },
  {
   "cell_type": "code",
   "execution_count": null,
   "id": "c8c778f0",
   "metadata": {},
   "outputs": [],
   "source": []
  },
  {
   "cell_type": "code",
   "execution_count": null,
   "id": "a598a921",
   "metadata": {},
   "outputs": [],
   "source": []
  },
  {
   "cell_type": "code",
   "execution_count": null,
   "id": "b9b2a04f",
   "metadata": {},
   "outputs": [],
   "source": [
    "### TRANS"
   ]
  },
  {
   "cell_type": "code",
   "execution_count": 2,
   "id": "4c79c6b4",
   "metadata": {},
   "outputs": [],
   "source": [
    "Metasoft_results <-  read.table(\"../../ANALYSIS/META/METASOFT/SECOND_PASS/TRANSANCESTRY_METASOFT_SECONDPASS_RESULTS.TAB\",fill=TRUE,row.names=NULL,header=FALSE)\n",
    "META_THREE <- read.table(\"../data/TRANSANCESTRY_GWAS_ALLELECORRECTED.TAB\",header=T,fill=TRUE,row.names=NULL)\n",
    "colnames(Metasoft_results) <- c(\"MARKERNAME\",\"N\",\"PVALUE_FE\",\"BETA_FE\",\"STD_FE\",\"PVALUE_RE\",\"BETA_RE\",\"STD_RE\",\"PVALUE_RE2\",\"STAT1_RE2\",\"STAT2_RE2\",\"PVALUE_BE\",\"I_SQUARE\",\"Q\",\"PVALUE_Q\",\"TAU_SQUARE\",\n",
    "                                \"PVALUE_ADIPOGEN\",\"PVALUE_AGEN\",\"PVALUE_METSIM\",\"NA1\",\"NA2\",\"NA3\")\n",
    "Metasoft_results <- Metasoft_results%>%filter(MARKERNAME!=\"RSID\")\n",
    "TRANSANCESTRY_RESULTS <- merge(META_THREE,Metasoft_results,by=\"MARKERNAME\")\n",
    "TRANSANCESTRY_RESULTS <- TRANSANCESTRY_RESULTS%>%mutate(TOTAL_N=ceiling(ADIPO_N)+ceiling(AGEN_N)+ceiling(METSIM_N))%>%mutate(MAF_AVG=(ADIPO_EAF*2*ADIPO_N+AGEN_EAF*2*AGEN_N+METSIM_EAF*2*METSIM_N)/(2*TOTAL_N))%>%\n",
    "filter(ADIPO_EAF>0.005)%>%filter(AGEN_EAF>0.005)%>%filter(METSIM_EAF>0.005)%>%select(-NA1,-N,-NA2,-NA3)"
   ]
  },
  {
   "cell_type": "code",
   "execution_count": 3,
   "id": "6968e231",
   "metadata": {},
   "outputs": [
    {
     "data": {
      "text/html": [
       "<table class=\"dataframe\">\n",
       "<caption>A data.frame: 1 × 43</caption>\n",
       "<thead>\n",
       "\t<tr><th></th><th scope=col>MARKERNAME</th><th scope=col>CHROMOSOME</th><th scope=col>POSITION</th><th scope=col>ADIPO_EA</th><th scope=col>ADIPO_NEA</th><th scope=col>ADIPO_EAF</th><th scope=col>ADIPO_N</th><th scope=col>ADIPO_BETA</th><th scope=col>ADIPO_SE</th><th scope=col>ADIPO_PVALUE</th><th scope=col>...</th><th scope=col>PVALUE_BE</th><th scope=col>I_SQUARE</th><th scope=col>Q</th><th scope=col>PVALUE_Q</th><th scope=col>TAU_SQUARE</th><th scope=col>PVALUE_ADIPOGEN</th><th scope=col>PVALUE_AGEN</th><th scope=col>PVALUE_METSIM</th><th scope=col>TOTAL_N</th><th scope=col>MAF_AVG</th></tr>\n",
       "\t<tr><th></th><th scope=col>&lt;chr&gt;</th><th scope=col>&lt;int&gt;</th><th scope=col>&lt;int&gt;</th><th scope=col>&lt;chr&gt;</th><th scope=col>&lt;chr&gt;</th><th scope=col>&lt;dbl&gt;</th><th scope=col>&lt;int&gt;</th><th scope=col>&lt;dbl&gt;</th><th scope=col>&lt;dbl&gt;</th><th scope=col>&lt;dbl&gt;</th><th scope=col>...</th><th scope=col>&lt;lgl&gt;</th><th scope=col>&lt;dbl&gt;</th><th scope=col>&lt;dbl&gt;</th><th scope=col>&lt;dbl&gt;</th><th scope=col>&lt;dbl&gt;</th><th scope=col>&lt;dbl&gt;</th><th scope=col>&lt;dbl&gt;</th><th scope=col>&lt;dbl&gt;</th><th scope=col>&lt;dbl&gt;</th><th scope=col>&lt;dbl&gt;</th></tr>\n",
       "</thead>\n",
       "<tbody>\n",
       "\t<tr><th scope=row>1</th><td>rs10000081</td><td>4</td><td>17348363</td><td>T</td><td>C</td><td>0.2458</td><td>29318</td><td>-0.011588</td><td>0.005128</td><td>0.0284451</td><td>...</td><td>NA</td><td>0</td><td>0.893958</td><td>0.639557</td><td>0</td><td>0.0238367</td><td>0.989502</td><td>0.96363</td><td>46381</td><td>0.3322903</td></tr>\n",
       "</tbody>\n",
       "</table>\n"
      ],
      "text/latex": [
       "A data.frame: 1 × 43\n",
       "\\begin{tabular}{r|lllllllllllllllllllll}\n",
       "  & MARKERNAME & CHROMOSOME & POSITION & ADIPO\\_EA & ADIPO\\_NEA & ADIPO\\_EAF & ADIPO\\_N & ADIPO\\_BETA & ADIPO\\_SE & ADIPO\\_PVALUE & ... & PVALUE\\_BE & I\\_SQUARE & Q & PVALUE\\_Q & TAU\\_SQUARE & PVALUE\\_ADIPOGEN & PVALUE\\_AGEN & PVALUE\\_METSIM & TOTAL\\_N & MAF\\_AVG\\\\\n",
       "  & <chr> & <int> & <int> & <chr> & <chr> & <dbl> & <int> & <dbl> & <dbl> & <dbl> & ... & <lgl> & <dbl> & <dbl> & <dbl> & <dbl> & <dbl> & <dbl> & <dbl> & <dbl> & <dbl>\\\\\n",
       "\\hline\n",
       "\t1 & rs10000081 & 4 & 17348363 & T & C & 0.2458 & 29318 & -0.011588 & 0.005128 & 0.0284451 & ... & NA & 0 & 0.893958 & 0.639557 & 0 & 0.0238367 & 0.989502 & 0.96363 & 46381 & 0.3322903\\\\\n",
       "\\end{tabular}\n"
      ],
      "text/markdown": [
       "\n",
       "A data.frame: 1 × 43\n",
       "\n",
       "| <!--/--> | MARKERNAME &lt;chr&gt; | CHROMOSOME &lt;int&gt; | POSITION &lt;int&gt; | ADIPO_EA &lt;chr&gt; | ADIPO_NEA &lt;chr&gt; | ADIPO_EAF &lt;dbl&gt; | ADIPO_N &lt;int&gt; | ADIPO_BETA &lt;dbl&gt; | ADIPO_SE &lt;dbl&gt; | ADIPO_PVALUE &lt;dbl&gt; | ... ... | PVALUE_BE &lt;lgl&gt; | I_SQUARE &lt;dbl&gt; | Q &lt;dbl&gt; | PVALUE_Q &lt;dbl&gt; | TAU_SQUARE &lt;dbl&gt; | PVALUE_ADIPOGEN &lt;dbl&gt; | PVALUE_AGEN &lt;dbl&gt; | PVALUE_METSIM &lt;dbl&gt; | TOTAL_N &lt;dbl&gt; | MAF_AVG &lt;dbl&gt; |\n",
       "|---|---|---|---|---|---|---|---|---|---|---|---|---|---|---|---|---|---|---|---|---|---|\n",
       "| 1 | rs10000081 | 4 | 17348363 | T | C | 0.2458 | 29318 | -0.011588 | 0.005128 | 0.0284451 | ... | NA | 0 | 0.893958 | 0.639557 | 0 | 0.0238367 | 0.989502 | 0.96363 | 46381 | 0.3322903 |\n",
       "\n"
      ],
      "text/plain": [
       "  MARKERNAME CHROMOSOME POSITION ADIPO_EA ADIPO_NEA ADIPO_EAF ADIPO_N\n",
       "1 rs10000081 4          17348363 T        C         0.2458    29318  \n",
       "  ADIPO_BETA ADIPO_SE ADIPO_PVALUE ... PVALUE_BE I_SQUARE Q        PVALUE_Q\n",
       "1 -0.011588  0.005128 0.0284451    ... NA        0        0.893958 0.639557\n",
       "  TAU_SQUARE PVALUE_ADIPOGEN PVALUE_AGEN PVALUE_METSIM TOTAL_N MAF_AVG  \n",
       "1 0          0.0238367       0.989502    0.96363       46381   0.3322903"
      ]
     },
     "metadata": {},
     "output_type": "display_data"
    }
   ],
   "source": [
    "head(TRANSANCESTRY_RESULTS,1)"
   ]
  },
  {
   "cell_type": "code",
   "execution_count": null,
   "id": "1045d48b",
   "metadata": {},
   "outputs": [],
   "source": [
    "###eQTL OVERLAPS"
   ]
  },
  {
   "cell_type": "code",
   "execution_count": 4,
   "id": "abadd553",
   "metadata": {},
   "outputs": [],
   "source": [
    "trans_eqtl <- read.table(\"../../ANALYSIS/GTEX/METSIM_EQTL_OVERLAPS_RSID.txt\",fill=TRUE,row.names=NULL,header=FALSE)\n",
    "colnames(trans_eqtl) <- c(\"Tissue\",\"Transcript\",\"P_EQTL\",\"MARKERNAME\")"
   ]
  },
  {
   "cell_type": "code",
   "execution_count": 24,
   "id": "36c8bfc7",
   "metadata": {},
   "outputs": [],
   "source": [
    "eqtl_overlaps <- merge(TRANSANCESTRY_RESULTS,trans_eqtl,by=\"MARKERNAME\")%>%filter(PVALUE_FE<1E-04)%>%select(Tissue,Transcript,P_EQTL,MARKERNAME)"
   ]
  },
  {
   "cell_type": "code",
   "execution_count": 26,
   "id": "f0097de5",
   "metadata": {},
   "outputs": [],
   "source": [
    "write.table(eqtl_overlaps,\"../../ANALYSIS/GTEX/TRANS_EQTL_OVERLAPS_METSIM.txt\",quote=FALSE,sep='\\t')"
   ]
  },
  {
   "cell_type": "code",
   "execution_count": null,
   "id": "3f79eeda",
   "metadata": {},
   "outputs": [],
   "source": []
  },
  {
   "cell_type": "code",
   "execution_count": null,
   "id": "401fd7cf",
   "metadata": {},
   "outputs": [],
   "source": []
  },
  {
   "cell_type": "code",
   "execution_count": null,
   "id": "68040cca",
   "metadata": {},
   "outputs": [],
   "source": [
    "## OVERLAP"
   ]
  },
  {
   "cell_type": "code",
   "execution_count": 41,
   "id": "eb5e7da8",
   "metadata": {},
   "outputs": [],
   "source": [
    "trans_ems <- merge(ems,TRANSANCESTRY_RESULTS,by=c(\"CHROMOSOME\",\"POSITION\"))%>%filter(ADIPO_NEA==NEA & ADIPO_EA==EA & PVALUE_FE < 0.05)%>%select(CHROMOSOME,POSITION,GENE,EMS_N,Tissue)"
   ]
  },
  {
   "cell_type": "code",
   "execution_count": 54,
   "id": "e285c22b",
   "metadata": {},
   "outputs": [],
   "source": [
    "stand01 <- function(x){(x-min(x))/(max(x)-min(x))}"
   ]
  },
  {
   "cell_type": "code",
   "execution_count": 58,
   "id": "e4d9f0d5",
   "metadata": {},
   "outputs": [],
   "source": [
    "write.table(trans_ems%>%mutate(scaled_EMS=stand01(EMS_N)),\"../../ANALYSIS/EMS_OVERLAP/TRANS_OVERLAP_EMS.TAB\",row.names=FALSE,quote=FALSE,sep=\"\\t\")"
   ]
  },
  {
   "cell_type": "code",
   "execution_count": 59,
   "id": "2e1b085c",
   "metadata": {},
   "outputs": [],
   "source": [
    "##EUR"
   ]
  },
  {
   "cell_type": "code",
   "execution_count": 27,
   "id": "2b50e807",
   "metadata": {},
   "outputs": [],
   "source": [
    "Metasoft_results <-  read.table(\"../../ANALYSIS/META/METASOFT/SECOND_PASS/EUROPEAN_METASOFT_SECONDPASS_RESULTS.TAB\",fill=TRUE,row.names=NULL,header=FALSE)\n",
    "META_TWO <- read.table(gzfile(\"../data/EUROPEAN_GWAS_ALLELECORRECTED.TAB\"),header=T,fill=TRUE,row.names=NULL)\n",
    "colnames(Metasoft_results) <- c(\"MARKERNAME\",\"N\",\"PVALUE_FE\",\"BETA_FE\",\"STD_FE\",\"PVALUE_RE\",\"BETA_RE\",\"STD_RE\",\"PVALUE_RE2\",\"STAT1_RE2\",\"STAT2_RE2\",\"PVALUE_BE\",\"I_SQUARE\",\"Q\",\"PVALUE_Q\",\"TAU_SQUARE\",\n",
    "                                \"PVALUE_ADIPOGEN\",\"PVALUE_METSIM\",\"NA1\",\"NA2\")\n",
    "Metasoft_results <- Metasoft_results%>%filter(MARKERNAME!=\"RSID\")\n",
    "EUR_RESULTS <- merge(META_TWO,Metasoft_results,by=\"MARKERNAME\")\n",
    "EUR_RESULTS <- EUR_RESULTS%>%mutate(TOTAL_N=ceiling(ADIPO_N)+ceiling(METSIM_N))%>%mutate(MAF_AVG=(ADIPO_EAF*2*ADIPO_N+METSIM_EAF*2*METSIM_N)/(2*TOTAL_N))%>%\n",
    "filter(ADIPO_EAF>0.005)%>%filter(METSIM_EAF>0.005)%>%select(-NA1,-N,-NA2)"
   ]
  },
  {
   "cell_type": "code",
   "execution_count": 28,
   "id": "4b6456b4",
   "metadata": {},
   "outputs": [],
   "source": [
    "eqtl_overlaps <- merge(EUR_RESULTS,trans_eqtl,by=\"MARKERNAME\")%>%filter(PVALUE_FE<1E-04)%>%select(Tissue,Transcript,P_EQTL,MARKERNAME)"
   ]
  },
  {
   "cell_type": "code",
   "execution_count": 29,
   "id": "f3a92465",
   "metadata": {},
   "outputs": [],
   "source": [
    "write.table(eqtl_overlaps,\"../../ANALYSIS/GTEX/EUR_EQTL_OVERLAPS_METSIM.txt\",quote=FALSE,sep='\\t')"
   ]
  },
  {
   "cell_type": "code",
   "execution_count": null,
   "id": "932c55aa",
   "metadata": {},
   "outputs": [],
   "source": []
  },
  {
   "cell_type": "code",
   "execution_count": 61,
   "id": "9bbaa78c",
   "metadata": {},
   "outputs": [],
   "source": [
    "## OVERLAP"
   ]
  },
  {
   "cell_type": "code",
   "execution_count": 62,
   "id": "462d424b",
   "metadata": {},
   "outputs": [],
   "source": [
    "eur_ems <- merge(ems,EUR_RESULTS,by=c(\"CHROMOSOME\",\"POSITION\"))%>%filter(ADIPO_NEA==NEA & ADIPO_EA==EA & PVALUE_FE < 0.05)%>%select(CHROMOSOME,POSITION,GENE,EMS_N,Tissue)"
   ]
  },
  {
   "cell_type": "code",
   "execution_count": 63,
   "id": "6911a45e",
   "metadata": {},
   "outputs": [],
   "source": [
    "write.table(eur_ems%>%mutate(scaled_EMS=stand01(EMS_N)),\"../../ANALYSIS/EMS_OVERLAP/EUR_OVERLAP_EMS.TAB\",row.names=FALSE,quote=FALSE,sep=\"\\t\")"
   ]
  },
  {
   "cell_type": "code",
   "execution_count": 64,
   "id": "09a9f58a",
   "metadata": {},
   "outputs": [
    {
     "data": {
      "text/html": [
       "<table class=\"dataframe\">\n",
       "<caption>A data.frame: 6 × 5</caption>\n",
       "<thead>\n",
       "\t<tr><th></th><th scope=col>CHROMOSOME</th><th scope=col>POSITION</th><th scope=col>GENE</th><th scope=col>EMS_N</th><th scope=col>Tissue</th></tr>\n",
       "\t<tr><th></th><th scope=col>&lt;int&gt;</th><th scope=col>&lt;int&gt;</th><th scope=col>&lt;chr&gt;</th><th scope=col>&lt;dbl&gt;</th><th scope=col>&lt;chr&gt;</th></tr>\n",
       "</thead>\n",
       "<tbody>\n",
       "\t<tr><th scope=row>1</th><td>1</td><td>10003457</td><td>ENSG00000228150</td><td>3966000</td><td>Thyroid             </td></tr>\n",
       "\t<tr><th scope=row>2</th><td>1</td><td>10003457</td><td>ENSG00000162441</td><td> 754000</td><td>Kidney_Cortex       </td></tr>\n",
       "\t<tr><th scope=row>3</th><td>1</td><td>10003457</td><td>ENSG00000173614</td><td> 754000</td><td>Kidney_Cortex       </td></tr>\n",
       "\t<tr><th scope=row>4</th><td>1</td><td>10003457</td><td>ENSG00000228150</td><td> 909800</td><td>Heart_Left_Ventricle</td></tr>\n",
       "\t<tr><th scope=row>5</th><td>1</td><td>10003457</td><td>ENSG00000202415</td><td> 793000</td><td>Muscle_Skeletal     </td></tr>\n",
       "\t<tr><th scope=row>6</th><td>1</td><td>10003457</td><td>ENSG00000202415</td><td>1303000</td><td>Heart_Left_Ventricle</td></tr>\n",
       "</tbody>\n",
       "</table>\n"
      ],
      "text/latex": [
       "A data.frame: 6 × 5\n",
       "\\begin{tabular}{r|lllll}\n",
       "  & CHROMOSOME & POSITION & GENE & EMS\\_N & Tissue\\\\\n",
       "  & <int> & <int> & <chr> & <dbl> & <chr>\\\\\n",
       "\\hline\n",
       "\t1 & 1 & 10003457 & ENSG00000228150 & 3966000 & Thyroid             \\\\\n",
       "\t2 & 1 & 10003457 & ENSG00000162441 &  754000 & Kidney\\_Cortex       \\\\\n",
       "\t3 & 1 & 10003457 & ENSG00000173614 &  754000 & Kidney\\_Cortex       \\\\\n",
       "\t4 & 1 & 10003457 & ENSG00000228150 &  909800 & Heart\\_Left\\_Ventricle\\\\\n",
       "\t5 & 1 & 10003457 & ENSG00000202415 &  793000 & Muscle\\_Skeletal     \\\\\n",
       "\t6 & 1 & 10003457 & ENSG00000202415 & 1303000 & Heart\\_Left\\_Ventricle\\\\\n",
       "\\end{tabular}\n"
      ],
      "text/markdown": [
       "\n",
       "A data.frame: 6 × 5\n",
       "\n",
       "| <!--/--> | CHROMOSOME &lt;int&gt; | POSITION &lt;int&gt; | GENE &lt;chr&gt; | EMS_N &lt;dbl&gt; | Tissue &lt;chr&gt; |\n",
       "|---|---|---|---|---|---|\n",
       "| 1 | 1 | 10003457 | ENSG00000228150 | 3966000 | Thyroid              |\n",
       "| 2 | 1 | 10003457 | ENSG00000162441 |  754000 | Kidney_Cortex        |\n",
       "| 3 | 1 | 10003457 | ENSG00000173614 |  754000 | Kidney_Cortex        |\n",
       "| 4 | 1 | 10003457 | ENSG00000228150 |  909800 | Heart_Left_Ventricle |\n",
       "| 5 | 1 | 10003457 | ENSG00000202415 |  793000 | Muscle_Skeletal      |\n",
       "| 6 | 1 | 10003457 | ENSG00000202415 | 1303000 | Heart_Left_Ventricle |\n",
       "\n"
      ],
      "text/plain": [
       "  CHROMOSOME POSITION GENE            EMS_N   Tissue              \n",
       "1 1          10003457 ENSG00000228150 3966000 Thyroid             \n",
       "2 1          10003457 ENSG00000162441  754000 Kidney_Cortex       \n",
       "3 1          10003457 ENSG00000173614  754000 Kidney_Cortex       \n",
       "4 1          10003457 ENSG00000228150  909800 Heart_Left_Ventricle\n",
       "5 1          10003457 ENSG00000202415  793000 Muscle_Skeletal     \n",
       "6 1          10003457 ENSG00000202415 1303000 Heart_Left_Ventricle"
      ]
     },
     "metadata": {},
     "output_type": "display_data"
    }
   ],
   "source": [
    "head(eur_ems)"
   ]
  },
  {
   "cell_type": "code",
   "execution_count": 72,
   "id": "7cc0d588",
   "metadata": {},
   "outputs": [
    {
     "data": {
      "text/html": [
       "<table class=\"dataframe\">\n",
       "<caption>A data.frame: 2 × 5</caption>\n",
       "<thead>\n",
       "\t<tr><th scope=col>CHROMOSOME</th><th scope=col>POSITION</th><th scope=col>GENE</th><th scope=col>EMS_N</th><th scope=col>Tissue</th></tr>\n",
       "\t<tr><th scope=col>&lt;int&gt;</th><th scope=col>&lt;int&gt;</th><th scope=col>&lt;chr&gt;</th><th scope=col>&lt;dbl&gt;</th><th scope=col>&lt;chr&gt;</th></tr>\n",
       "</thead>\n",
       "<tbody>\n",
       "\t<tr><td>3</td><td>186522737</td><td>ENSG00000181092</td><td>292000</td><td>Liver</td></tr>\n",
       "\t<tr><td>3</td><td>186524726</td><td>ENSG00000181092</td><td>165500</td><td>Liver</td></tr>\n",
       "</tbody>\n",
       "</table>\n"
      ],
      "text/latex": [
       "A data.frame: 2 × 5\n",
       "\\begin{tabular}{lllll}\n",
       " CHROMOSOME & POSITION & GENE & EMS\\_N & Tissue\\\\\n",
       " <int> & <int> & <chr> & <dbl> & <chr>\\\\\n",
       "\\hline\n",
       "\t 3 & 186522737 & ENSG00000181092 & 292000 & Liver\\\\\n",
       "\t 3 & 186524726 & ENSG00000181092 & 165500 & Liver\\\\\n",
       "\\end{tabular}\n"
      ],
      "text/markdown": [
       "\n",
       "A data.frame: 2 × 5\n",
       "\n",
       "| CHROMOSOME &lt;int&gt; | POSITION &lt;int&gt; | GENE &lt;chr&gt; | EMS_N &lt;dbl&gt; | Tissue &lt;chr&gt; |\n",
       "|---|---|---|---|---|\n",
       "| 3 | 186522737 | ENSG00000181092 | 292000 | Liver |\n",
       "| 3 | 186524726 | ENSG00000181092 | 165500 | Liver |\n",
       "\n"
      ],
      "text/plain": [
       "  CHROMOSOME POSITION  GENE            EMS_N  Tissue\n",
       "1 3          186522737 ENSG00000181092 292000 Liver \n",
       "2 3          186524726 ENSG00000181092 165500 Liver "
      ]
     },
     "metadata": {},
     "output_type": "display_data"
    }
   ],
   "source": [
    "trans_ems%>%filter(GENE==\"ENSG00000181092\")"
   ]
  },
  {
   "cell_type": "code",
   "execution_count": 73,
   "id": "221ad458",
   "metadata": {},
   "outputs": [
    {
     "data": {
      "text/html": [
       "<table class=\"dataframe\">\n",
       "<caption>A data.frame: 1 × 43</caption>\n",
       "<thead>\n",
       "\t<tr><th scope=col>MARKERNAME</th><th scope=col>CHROMOSOME</th><th scope=col>POSITION</th><th scope=col>ADIPO_EA</th><th scope=col>ADIPO_NEA</th><th scope=col>ADIPO_EAF</th><th scope=col>ADIPO_N</th><th scope=col>ADIPO_BETA</th><th scope=col>ADIPO_SE</th><th scope=col>ADIPO_PVALUE</th><th scope=col>...</th><th scope=col>PVALUE_BE</th><th scope=col>I_SQUARE</th><th scope=col>Q</th><th scope=col>PVALUE_Q</th><th scope=col>TAU_SQUARE</th><th scope=col>PVALUE_ADIPOGEN</th><th scope=col>PVALUE_AGEN</th><th scope=col>PVALUE_METSIM</th><th scope=col>TOTAL_N</th><th scope=col>MAF_AVG</th></tr>\n",
       "\t<tr><th scope=col>&lt;chr&gt;</th><th scope=col>&lt;int&gt;</th><th scope=col>&lt;int&gt;</th><th scope=col>&lt;chr&gt;</th><th scope=col>&lt;chr&gt;</th><th scope=col>&lt;dbl&gt;</th><th scope=col>&lt;int&gt;</th><th scope=col>&lt;dbl&gt;</th><th scope=col>&lt;dbl&gt;</th><th scope=col>&lt;dbl&gt;</th><th scope=col>...</th><th scope=col>&lt;lgl&gt;</th><th scope=col>&lt;dbl&gt;</th><th scope=col>&lt;dbl&gt;</th><th scope=col>&lt;dbl&gt;</th><th scope=col>&lt;dbl&gt;</th><th scope=col>&lt;dbl&gt;</th><th scope=col>&lt;dbl&gt;</th><th scope=col>&lt;dbl&gt;</th><th scope=col>&lt;dbl&gt;</th><th scope=col>&lt;dbl&gt;</th></tr>\n",
       "</thead>\n",
       "<tbody>\n",
       "\t<tr><td>rs3917086</td><td>3</td><td>186524726</td><td>A</td><td>C</td><td>0.01667</td><td>17839</td><td>-0.023938</td><td>0.019856</td><td>0.2423801</td><td>...</td><td>NA</td><td>76.2307</td><td>8.41422</td><td>0.0148893</td><td>0.00318344</td><td>0.227979</td><td>0.000830289</td><td>0.932424</td><td>32215</td><td>0.03215832</td></tr>\n",
       "</tbody>\n",
       "</table>\n"
      ],
      "text/latex": [
       "A data.frame: 1 × 43\n",
       "\\begin{tabular}{lllllllllllllllllllll}\n",
       " MARKERNAME & CHROMOSOME & POSITION & ADIPO\\_EA & ADIPO\\_NEA & ADIPO\\_EAF & ADIPO\\_N & ADIPO\\_BETA & ADIPO\\_SE & ADIPO\\_PVALUE & ... & PVALUE\\_BE & I\\_SQUARE & Q & PVALUE\\_Q & TAU\\_SQUARE & PVALUE\\_ADIPOGEN & PVALUE\\_AGEN & PVALUE\\_METSIM & TOTAL\\_N & MAF\\_AVG\\\\\n",
       " <chr> & <int> & <int> & <chr> & <chr> & <dbl> & <int> & <dbl> & <dbl> & <dbl> & ... & <lgl> & <dbl> & <dbl> & <dbl> & <dbl> & <dbl> & <dbl> & <dbl> & <dbl> & <dbl>\\\\\n",
       "\\hline\n",
       "\t rs3917086 & 3 & 186524726 & A & C & 0.01667 & 17839 & -0.023938 & 0.019856 & 0.2423801 & ... & NA & 76.2307 & 8.41422 & 0.0148893 & 0.00318344 & 0.227979 & 0.000830289 & 0.932424 & 32215 & 0.03215832\\\\\n",
       "\\end{tabular}\n"
      ],
      "text/markdown": [
       "\n",
       "A data.frame: 1 × 43\n",
       "\n",
       "| MARKERNAME &lt;chr&gt; | CHROMOSOME &lt;int&gt; | POSITION &lt;int&gt; | ADIPO_EA &lt;chr&gt; | ADIPO_NEA &lt;chr&gt; | ADIPO_EAF &lt;dbl&gt; | ADIPO_N &lt;int&gt; | ADIPO_BETA &lt;dbl&gt; | ADIPO_SE &lt;dbl&gt; | ADIPO_PVALUE &lt;dbl&gt; | ... ... | PVALUE_BE &lt;lgl&gt; | I_SQUARE &lt;dbl&gt; | Q &lt;dbl&gt; | PVALUE_Q &lt;dbl&gt; | TAU_SQUARE &lt;dbl&gt; | PVALUE_ADIPOGEN &lt;dbl&gt; | PVALUE_AGEN &lt;dbl&gt; | PVALUE_METSIM &lt;dbl&gt; | TOTAL_N &lt;dbl&gt; | MAF_AVG &lt;dbl&gt; |\n",
       "|---|---|---|---|---|---|---|---|---|---|---|---|---|---|---|---|---|---|---|---|---|\n",
       "| rs3917086 | 3 | 186524726 | A | C | 0.01667 | 17839 | -0.023938 | 0.019856 | 0.2423801 | ... | NA | 76.2307 | 8.41422 | 0.0148893 | 0.00318344 | 0.227979 | 0.000830289 | 0.932424 | 32215 | 0.03215832 |\n",
       "\n"
      ],
      "text/plain": [
       "  MARKERNAME CHROMOSOME POSITION  ADIPO_EA ADIPO_NEA ADIPO_EAF ADIPO_N\n",
       "1 rs3917086  3          186524726 A        C         0.01667   17839  \n",
       "  ADIPO_BETA ADIPO_SE ADIPO_PVALUE ... PVALUE_BE I_SQUARE Q       PVALUE_Q \n",
       "1 -0.023938  0.019856 0.2423801    ... NA        76.2307  8.41422 0.0148893\n",
       "  TAU_SQUARE PVALUE_ADIPOGEN PVALUE_AGEN PVALUE_METSIM TOTAL_N MAF_AVG   \n",
       "1 0.00318344 0.227979        0.000830289 0.932424      32215   0.03215832"
      ]
     },
     "metadata": {},
     "output_type": "display_data"
    }
   ],
   "source": [
    "TRANSANCESTRY_RESULTS%>%filter(CHROMOSOME==3 & POSITION==186524726)"
   ]
  },
  {
   "cell_type": "code",
   "execution_count": null,
   "id": "d97e2acb",
   "metadata": {},
   "outputs": [],
   "source": []
  }
 ],
 "metadata": {
  "kernelspec": {
   "display_name": "R",
   "language": "R",
   "name": "ir"
  },
  "language_info": {
   "codemirror_mode": "r",
   "file_extension": ".r",
   "mimetype": "text/x-r-source",
   "name": "R",
   "pygments_lexer": "r",
   "version": "4.1.2"
  }
 },
 "nbformat": 4,
 "nbformat_minor": 5
}
