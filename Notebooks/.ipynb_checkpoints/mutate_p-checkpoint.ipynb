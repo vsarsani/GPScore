{
 "cells": [
  {
   "cell_type": "code",
   "execution_count": 75,
   "id": "c1133f07",
   "metadata": {},
   "outputs": [],
   "source": [
    "\n",
    "set.seed(1)\n",
    "suppressMessages(library(tidyverse))\n"
   ]
  },
  {
   "cell_type": "code",
   "execution_count": 76,
   "id": "860c9338",
   "metadata": {},
   "outputs": [],
   "source": [
    "rsid_b38 <-  read.table(\"../../ANALYSIS/eQTL/GTEx_Analysis_v8_eQTL/RSID_POS38.txt\",header=T,sep=\"\\t\")\n",
    "colnames(rsid_b38) <- c(\"SNP\",\"b38\")"
   ]
  },
  {
   "cell_type": "code",
   "execution_count": 77,
   "id": "8d1c8737",
   "metadata": {},
   "outputs": [],
   "source": [
    "df_z <- list.files(\"../../ANALYSIS/FINEMAP/trans//\",pattern='',full.names = TRUE)\n",
    "df_z <- df_z[ !grepl(\"bcor\", df_z) ]"
   ]
  },
  {
   "cell_type": "code",
   "execution_count": 78,
   "id": "01bc5c82",
   "metadata": {},
   "outputs": [],
   "source": [
    "for (i in seq_along(df_z))\n",
    "{\n",
    "name <- paste0(tail(str_split(df_z,\"/|.z\")[[i]],n=2)[1],\".tab\")\n",
    " stats <- read.table(df_z[i],header=T,sep=\" \")%>%mutate(P=pchisq((beta/se)^2, df=1, lower=F))%>%rename(SNP=rsid,A1=allele1,A2=allele2,FRQ=maf,BETA=beta,SE=se)\n",
    " merged_rs <- merge(stats,rsid_b38,by=\"SNP\")%>%rename(INFO=SNP)%>%select(b38,A1,A2,FRQ,INFO,BETA,SE,P)%>%rename(SNP=b38)\n",
    "write.table(merged_rs,paste0(\"../../ANALYSIS/SPREDIXSCAN/trans/\",name),sep = \" \",row.names=FALSE,quote=FALSE)\n",
    "    \n",
    "}"
   ]
  },
  {
   "cell_type": "code",
   "execution_count": 79,
   "id": "794aeac5",
   "metadata": {},
   "outputs": [],
   "source": [
    "df_z <- list.files(\"../../ANALYSIS/FINEMAP/eur/\",pattern='',full.names = TRUE)\n",
    "df_z <- df_z[ !grepl(\"bcor\", df_z) ]"
   ]
  },
  {
   "cell_type": "code",
   "execution_count": 80,
   "id": "8c973181",
   "metadata": {},
   "outputs": [
    {
     "data": {
      "text/html": [
       "<style>\n",
       ".list-inline {list-style: none; margin:0; padding: 0}\n",
       ".list-inline>li {display: inline-block}\n",
       ".list-inline>li:not(:last-child)::after {content: \"\\00b7\"; padding: 0 .5ex}\n",
       "</style>\n",
       "<ol class=list-inline><li>'../../ANALYSIS/FINEMAP/eur/1_218165008_221165008.z'</li><li>'../../ANALYSIS/FINEMAP/eur/11_13284110_16284110.z'</li><li>'../../ANALYSIS/FINEMAP/eur/12_121674743_125968572.z'</li><li>'../../ANALYSIS/FINEMAP/eur/12_18970221_21970221.z'</li><li>'../../ANALYSIS/FINEMAP/eur/12_55438383_58438383.z'</li><li>'../../ANALYSIS/FINEMAP/eur/16_80034790_84163288.z'</li><li>'../../ANALYSIS/FINEMAP/eur/17_5701753_8701753.z'</li><li>'../../ANALYSIS/FINEMAP/eur/19_32399065_35399065.z'</li><li>'../../ANALYSIS/FINEMAP/eur/2_225623439_228623439.z'</li><li>'../../ANALYSIS/FINEMAP/eur/3_148555958_151555958.z'</li><li>'../../ANALYSIS/FINEMAP/eur/3_185063114_188063114.z'</li><li>'../../ANALYSIS/FINEMAP/eur/3_51220080_54220080.z'</li><li>'../../ANALYSIS/FINEMAP/eur/4_88239479_91239479.z'</li><li>'../../ANALYSIS/FINEMAP/eur/5_51798025_54798025.z'</li><li>'../../ANALYSIS/FINEMAP/eur/6_42257896_45257896.z'</li><li>'../../ANALYSIS/FINEMAP/eur/8_124981475_127981475.z'</li></ol>\n"
      ],
      "text/latex": [
       "\\begin{enumerate*}\n",
       "\\item '../../ANALYSIS/FINEMAP/eur/1\\_218165008\\_221165008.z'\n",
       "\\item '../../ANALYSIS/FINEMAP/eur/11\\_13284110\\_16284110.z'\n",
       "\\item '../../ANALYSIS/FINEMAP/eur/12\\_121674743\\_125968572.z'\n",
       "\\item '../../ANALYSIS/FINEMAP/eur/12\\_18970221\\_21970221.z'\n",
       "\\item '../../ANALYSIS/FINEMAP/eur/12\\_55438383\\_58438383.z'\n",
       "\\item '../../ANALYSIS/FINEMAP/eur/16\\_80034790\\_84163288.z'\n",
       "\\item '../../ANALYSIS/FINEMAP/eur/17\\_5701753\\_8701753.z'\n",
       "\\item '../../ANALYSIS/FINEMAP/eur/19\\_32399065\\_35399065.z'\n",
       "\\item '../../ANALYSIS/FINEMAP/eur/2\\_225623439\\_228623439.z'\n",
       "\\item '../../ANALYSIS/FINEMAP/eur/3\\_148555958\\_151555958.z'\n",
       "\\item '../../ANALYSIS/FINEMAP/eur/3\\_185063114\\_188063114.z'\n",
       "\\item '../../ANALYSIS/FINEMAP/eur/3\\_51220080\\_54220080.z'\n",
       "\\item '../../ANALYSIS/FINEMAP/eur/4\\_88239479\\_91239479.z'\n",
       "\\item '../../ANALYSIS/FINEMAP/eur/5\\_51798025\\_54798025.z'\n",
       "\\item '../../ANALYSIS/FINEMAP/eur/6\\_42257896\\_45257896.z'\n",
       "\\item '../../ANALYSIS/FINEMAP/eur/8\\_124981475\\_127981475.z'\n",
       "\\end{enumerate*}\n"
      ],
      "text/markdown": [
       "1. '../../ANALYSIS/FINEMAP/eur/1_218165008_221165008.z'\n",
       "2. '../../ANALYSIS/FINEMAP/eur/11_13284110_16284110.z'\n",
       "3. '../../ANALYSIS/FINEMAP/eur/12_121674743_125968572.z'\n",
       "4. '../../ANALYSIS/FINEMAP/eur/12_18970221_21970221.z'\n",
       "5. '../../ANALYSIS/FINEMAP/eur/12_55438383_58438383.z'\n",
       "6. '../../ANALYSIS/FINEMAP/eur/16_80034790_84163288.z'\n",
       "7. '../../ANALYSIS/FINEMAP/eur/17_5701753_8701753.z'\n",
       "8. '../../ANALYSIS/FINEMAP/eur/19_32399065_35399065.z'\n",
       "9. '../../ANALYSIS/FINEMAP/eur/2_225623439_228623439.z'\n",
       "10. '../../ANALYSIS/FINEMAP/eur/3_148555958_151555958.z'\n",
       "11. '../../ANALYSIS/FINEMAP/eur/3_185063114_188063114.z'\n",
       "12. '../../ANALYSIS/FINEMAP/eur/3_51220080_54220080.z'\n",
       "13. '../../ANALYSIS/FINEMAP/eur/4_88239479_91239479.z'\n",
       "14. '../../ANALYSIS/FINEMAP/eur/5_51798025_54798025.z'\n",
       "15. '../../ANALYSIS/FINEMAP/eur/6_42257896_45257896.z'\n",
       "16. '../../ANALYSIS/FINEMAP/eur/8_124981475_127981475.z'\n",
       "\n",
       "\n"
      ],
      "text/plain": [
       " [1] \"../../ANALYSIS/FINEMAP/eur/1_218165008_221165008.z\" \n",
       " [2] \"../../ANALYSIS/FINEMAP/eur/11_13284110_16284110.z\"  \n",
       " [3] \"../../ANALYSIS/FINEMAP/eur/12_121674743_125968572.z\"\n",
       " [4] \"../../ANALYSIS/FINEMAP/eur/12_18970221_21970221.z\"  \n",
       " [5] \"../../ANALYSIS/FINEMAP/eur/12_55438383_58438383.z\"  \n",
       " [6] \"../../ANALYSIS/FINEMAP/eur/16_80034790_84163288.z\"  \n",
       " [7] \"../../ANALYSIS/FINEMAP/eur/17_5701753_8701753.z\"    \n",
       " [8] \"../../ANALYSIS/FINEMAP/eur/19_32399065_35399065.z\"  \n",
       " [9] \"../../ANALYSIS/FINEMAP/eur/2_225623439_228623439.z\" \n",
       "[10] \"../../ANALYSIS/FINEMAP/eur/3_148555958_151555958.z\" \n",
       "[11] \"../../ANALYSIS/FINEMAP/eur/3_185063114_188063114.z\" \n",
       "[12] \"../../ANALYSIS/FINEMAP/eur/3_51220080_54220080.z\"   \n",
       "[13] \"../../ANALYSIS/FINEMAP/eur/4_88239479_91239479.z\"   \n",
       "[14] \"../../ANALYSIS/FINEMAP/eur/5_51798025_54798025.z\"   \n",
       "[15] \"../../ANALYSIS/FINEMAP/eur/6_42257896_45257896.z\"   \n",
       "[16] \"../../ANALYSIS/FINEMAP/eur/8_124981475_127981475.z\" "
      ]
     },
     "metadata": {},
     "output_type": "display_data"
    }
   ],
   "source": [
    "df_z"
   ]
  },
  {
   "cell_type": "code",
   "execution_count": 81,
   "id": "183a87d8",
   "metadata": {},
   "outputs": [],
   "source": [
    "for (i in seq_along(df_z))\n",
    "{\n",
    "name <- paste0(tail(str_split(df_z,\"/|.z\")[[i]],n=2)[1],\".tab\")\n",
    " stats <- read.table(df_z[i],header=T,sep=\" \")%>%mutate(P=pchisq((beta/se)^2, df=1, lower=F))%>%rename(SNP=rsid,A1=allele1,A2=allele2,FRQ=maf,BETA=beta,SE=se)\n",
    " merged_rs <- merge(stats,rsid_b38,by=\"SNP\")%>%rename(INFO=SNP)%>%select(b38,A1,A2,FRQ,INFO,BETA,SE,P)%>%rename(SNP=b38)\n",
    "write.table(merged_rs,paste0(\"../../ANALYSIS/SPREDIXSCAN/eur/\",name),sep = \" \",row.names=FALSE,quote=FALSE)\n",
    "    \n",
    "}"
   ]
  },
  {
   "cell_type": "code",
   "execution_count": null,
   "id": "cc36099b",
   "metadata": {},
   "outputs": [],
   "source": []
  },
  {
   "cell_type": "code",
   "execution_count": null,
   "id": "ba2778e3",
   "metadata": {},
   "outputs": [],
   "source": []
  }
 ],
 "metadata": {
  "kernelspec": {
   "display_name": "R",
   "language": "R",
   "name": "ir"
  },
  "language_info": {
   "codemirror_mode": "r",
   "file_extension": ".r",
   "mimetype": "text/x-r-source",
   "name": "R",
   "pygments_lexer": "r",
   "version": "4.1.2"
  }
 },
 "nbformat": 4,
 "nbformat_minor": 5
}
