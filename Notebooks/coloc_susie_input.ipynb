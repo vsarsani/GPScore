{
 "cells": [
  {
   "cell_type": "code",
   "execution_count": 1,
   "id": "99f64b50",
   "metadata": {},
   "outputs": [
    {
     "name": "stderr",
     "output_type": "stream",
     "text": [
      "This is coloc version 5.1.1\n",
      "\n",
      "Warning message:\n",
      "\"package 'Rfast' was built under R version 4.1.3\"\n",
      "Warning message:\n",
      "\"package 'Rcpp' was built under R version 4.1.3\"\n",
      "Warning message:\n",
      "\"package 'RcppZiggurat' was built under R version 4.1.3\"\n"
     ]
    }
   ],
   "source": [
    "library(\"coloc\")\n",
    "suppressMessages(suppressWarnings(library(tidyverse)))\n",
    "library(locuscomparer)\n",
    "library(susieR)\n",
    "set.seed(1)\n",
    "suppressMessages(library('Rfast'))"
   ]
  },
  {
   "cell_type": "code",
   "execution_count": 3,
   "id": "7e9e0e20",
   "metadata": {},
   "outputs": [],
   "source": [
    "### Input prep"
   ]
  },
  {
   "cell_type": "code",
   "execution_count": 2,
   "id": "34fee682",
   "metadata": {},
   "outputs": [],
   "source": [
    "Metasoft_results <-  read.table(\"../../ANALYSIS/META/METASOFT/SECOND_PASS/TRANSANCESTRY_METASOFT_SECONDPASS_RESULTS.TAB\",fill=TRUE,row.names=NULL,header=FALSE)\n",
    "META_THREE <- read.table(gzfile(\"../data/TRANSANCESTRY_GWAS.TAB.gz\"),header=T,fill=TRUE,row.names=NULL)\n",
    "colnames(Metasoft_results) <- c(\"MARKERNAME\",\"N\",\"PVALUE_FE\",\"BETA_FE\",\"STD_FE\",\"PVALUE_RE\",\"BETA_RE\",\"STD_RE\",\"PVALUE_RE2\",\"STAT1_RE2\",\"STAT2_RE2\",\"PVALUE_BE\",\"I_SQUARE\",\"Q\",\"PVALUE_Q\",\"TAU_SQUARE\",\n",
    "                                \"PVALUE_ADIPOGEN\",\"PVALUE_AGEN\",\"PVALUE_METSIM\",\"NA1\",\"NA2\",\"NA3\")\n",
    "Metasoft_results <- Metasoft_results%>%filter(MARKERNAME!=\"RSID\")\n",
    "TRANSANCESTRY_RESULTS <- merge(META_THREE,Metasoft_results,by=\"MARKERNAME\")\n",
    "TRANSANCESTRY_RESULTS <- TRANSANCESTRY_RESULTS%>%mutate(TOTAL_N=ceiling(ADIPO_N)+ceiling(AGEN_N)+ceiling(METSIM_N))%>%mutate(MAF_AVG=(ADIPO_EAF*2*ADIPO_N+AGEN_EAF*2*AGEN_N+METSIM_EAF*2*METSIM_N)/(2*TOTAL_N))%>%\n",
    "filter(ADIPO_EAF>0.005)%>%filter(AGEN_EAF>0.005)%>%filter(METSIM_EAF>0.005)%>%select(-NA1,-N,-NA2,-NA3)\n",
    "lead <- read.table(\"../../ANALYSIS/lead_transancestry_3mb_merged.txt\",fill=TRUE,header=TRUE)\n",
    "output_df <- merge(TRANSANCESTRY_RESULTS,lead)%>%select(MARKERNAME,CHROMOSOME,POSITION,METSIM_EA,METSIM_NEA,MAF_AVG,BETA_FE,STD_FE)%>%\n",
    "rename(rsid=MARKERNAME,chromosome=CHROMOSOME,position=POSITION,allele1=METSIM_EA,allele2=METSIM_NEA,maf=MAF_AVG,beta=BETA_FE,se=STD_FE)%>%mutate(maf = case_when(maf>0.50~ 0.4999,\n",
    "                            TRUE ~ maf))%>%distinct(rsid,.keep_all = TRUE)"
   ]
  },
  {
   "cell_type": "code",
   "execution_count": 3,
   "id": "d75a3463",
   "metadata": {},
   "outputs": [],
   "source": [
    "## eQTL files"
   ]
  },
  {
   "cell_type": "code",
   "execution_count": 4,
   "id": "d0e444fc",
   "metadata": {},
   "outputs": [],
   "source": [
    "df_z <- list.files(\"../../ANALYSIS/COLOC_SUSIE/trans/\",pattern='.txt',full.names = TRUE)"
   ]
  },
  {
   "cell_type": "code",
   "execution_count": 20,
   "id": "da5fe2e5",
   "metadata": {},
   "outputs": [],
   "source": [
    "for (i in seq_along(df_z))\n",
    "{\n",
    "file_name <- paste0(tail(str_split(df_z,\"/|.txt\")[[i]],n=3)[1],\".z\")\n",
    "stats <- read.table(df_z[i],header=T,sep=\"\\t\")%>%rename(rsid=SNP)\n",
    "merged_gwas <- merge(output_df,stats,by=\"rsid\")%>%filter(allele1==A1 && allele2==A2)%>%select(rsid,chromosome,position,allele1,allele2,maf,beta,se) %>% mutate(P=pchisq((beta/se)^2, df=1, lower=F)) %>% \n",
    "    distinct %>% group_by(rsid) %>% slice_min(P, n = 1)%>%select(-P)\n",
    "merged_eqtl <- merge(output_df,stats,by=\"rsid\")%>%filter(allele1==A1 && allele2==A2)%>%select(rsid,chromosome,position,allele1,allele2,maf,b,SE)%>%rename(beta=b,se=SE)%>%\n",
    "    mutate(P=pchisq((beta/se)^2, df=1, lower=F)) %>% distinct %>% group_by(rsid) %>% slice_min(P, n = 1)%>%select(-P)\n",
    "write.table(merged_gwas,paste0(\"../../ANALYSIS/COLOC_SUSIE/harmonized_trans/gwas/\",file_name),sep = \" \",row.names=FALSE,quote=FALSE)\n",
    "write.table(merged_eqtl,paste0(\"../../ANALYSIS/COLOC_SUSIE/harmonized_trans/eqtl/\",file_name),sep = \" \",row.names=FALSE,quote=FALSE)\n",
    "}"
   ]
  },
  {
   "cell_type": "code",
   "execution_count": 21,
   "id": "c87e0a34",
   "metadata": {},
   "outputs": [],
   "source": [
    "## EUR"
   ]
  },
  {
   "cell_type": "code",
   "execution_count": 29,
   "id": "9c8bea4d",
   "metadata": {},
   "outputs": [],
   "source": [
    "Metasoft_results <-  read.table(\"../../ANALYSIS/META/METASOFT/SECOND_PASS/EUROPEAN_METASOFT_SECONDPASS_RESULTS.TAB\",fill=TRUE,row.names=NULL,header=FALSE)\n",
    "META_TWO <- read.table(gzfile(\"../data/EUR_GWAS.TAB.gz\"),header=T,fill=TRUE,row.names=NULL)\n",
    "colnames(Metasoft_results) <- c(\"MARKERNAME\",\"N\",\"PVALUE_FE\",\"BETA_FE\",\"STD_FE\",\"PVALUE_RE\",\"BETA_RE\",\"STD_RE\",\"PVALUE_RE2\",\"STAT1_RE2\",\"STAT2_RE2\",\"PVALUE_BE\",\"I_SQUARE\",\"Q\",\"PVALUE_Q\",\"TAU_SQUARE\",\n",
    "                                \"PVALUE_ADIPOGEN\",\"PVALUE_METSIM\",\"NA1\",\"NA2\")\n",
    "Metasoft_results <- Metasoft_results%>%filter(MARKERNAME!=\"RSID\")\n",
    "EUR_RESULTS <- merge(META_TWO,Metasoft_results,by=\"MARKERNAME\")\n",
    "EUR_RESULTS <- EUR_RESULTS%>%mutate(TOTAL_N=ceiling(ADIPO_N)+ceiling(METSIM_N))%>%mutate(MAF_AVG=(ADIPO_EAF*2*ADIPO_N+METSIM_EAF*2*METSIM_N)/(2*TOTAL_N))%>%\n",
    "filter(ADIPO_EAF>0.005)%>%filter(METSIM_EAF>0.005)%>%select(-NA1,-N,-NA2)\n",
    "lead <- read.table(\"../../ANALYSIS/lead_european_3mb_merged.txt\",fill=TRUE,header=TRUE)\n",
    " output_df <- merge(EUR_RESULTS,lead)%>%select(MARKERNAME,CHROMOSOME.x,POSITION.x,METSIM_EA,METSIM_NEA,MAF_AVG,BETA_FE,STD_FE)%>%\n",
    "rename(rsid=MARKERNAME,chromosome=CHROMOSOME.x,position=POSITION.x,allele1=METSIM_EA,allele2=METSIM_NEA,maf=MAF_AVG,beta=BETA_FE,se=STD_FE)%>%mutate(maf = case_when(maf>0.50~ 0.4999,\n",
    "                            TRUE ~ maf))%>%distinct(rsid,.keep_all = TRUE)"
   ]
  },
  {
   "cell_type": "code",
   "execution_count": 30,
   "id": "2ae4e3e6",
   "metadata": {},
   "outputs": [],
   "source": [
    "## eQTL files"
   ]
  },
  {
   "cell_type": "code",
   "execution_count": 31,
   "id": "c36338f6",
   "metadata": {},
   "outputs": [],
   "source": [
    "df_z <- list.files(\"../../ANALYSIS/COLOC_SUSIE/eur/\",pattern='.txt',full.names = TRUE)"
   ]
  },
  {
   "cell_type": "code",
   "execution_count": 32,
   "id": "62cc4235",
   "metadata": {},
   "outputs": [],
   "source": [
    "for (i in seq_along(df_z))\n",
    "{\n",
    "file_name <- paste0(tail(str_split(df_z,\"/|.txt\")[[i]],n=3)[1],\".z\")\n",
    "stats <- read.table(df_z[i],header=T,sep=\"\\t\")%>%rename(rsid=SNP)\n",
    "merged_gwas <- merge(output_df,stats,by=\"rsid\")%>%filter(allele1==A1 && allele2==A2)%>%select(rsid,chromosome,position,allele1,allele2,maf,beta,se) %>% mutate(P=pchisq((beta/se)^2, df=1, lower=F)) %>% \n",
    "    distinct %>% group_by(rsid) %>% slice_min(P, n = 1)%>%select(-P)\n",
    "merged_eqtl <- merge(output_df,stats,by=\"rsid\")%>%filter(allele1==A1 && allele2==A2)%>%select(rsid,chromosome,position,allele1,allele2,maf,b,SE)%>%rename(beta=b,se=SE)%>%\n",
    "    mutate(P=pchisq((beta/se)^2, df=1, lower=F)) %>% distinct %>% group_by(rsid) %>% slice_min(P, n = 1)%>%select(-P)\n",
    "write.table(merged_gwas,paste0(\"../../ANALYSIS/COLOC_SUSIE/harmonized_eur/gwas/\",file_name),sep = \" \",row.names=FALSE,quote=FALSE)\n",
    "write.table(merged_eqtl,paste0(\"../../ANALYSIS/COLOC_SUSIE/harmonized_eur/eqtl/\",file_name),sep = \" \",row.names=FALSE,quote=FALSE)\n",
    "}"
   ]
  },
  {
   "cell_type": "code",
   "execution_count": null,
   "id": "8dfca6e5",
   "metadata": {},
   "outputs": [],
   "source": []
  },
  {
   "cell_type": "code",
   "execution_count": null,
   "id": "fba7fded",
   "metadata": {},
   "outputs": [],
   "source": [
    "###METSIM"
   ]
  },
  {
   "cell_type": "code",
   "execution_count": 1,
   "id": "fa5396b9",
   "metadata": {},
   "outputs": [],
   "source": [
    "METSIM_RESULTS <- read.table(\"../../Summary_Statistic//Formatted//METSIM_hg19_METAL_POS.TAB\",header=F,fill=TRUE,row.names=NULL)\n",
    "colnames(METSIM_RESULTS) <- c(\"CHROMOSOME\",\"POSITION\",\"MARKERNAME\",\"METSIM_NEA\",\"METSIM_EA\",\"METSIM_N\",\"PVALUE_FE\",\"METSIM_BETA\",\"METSIM_SE\")"
   ]
  },
  {
   "cell_type": "code",
   "execution_count": 13,
   "id": "a9aa2ef6",
   "metadata": {},
   "outputs": [],
   "source": [
    "lead <- read.table(\"../../ANALYSIS/lead_metsim_3mb_merged.txt\",fill=TRUE,header=TRUE)\n",
    "output_df <- merge(METSIM_RESULTS,lead)%>%mutate(MAF=0.49)%>%select(MARKERNAME,CHROMOSOME,POSITION,METSIM_EA,METSIM_NEA,METSIM_BETA,METSIM_SE,MAF)%>%\n",
    "rename(rsid=MARKERNAME,chromosome=CHROMOSOME,position=POSITION,allele1=METSIM_EA,allele2=METSIM_NEA,maf=MAF,beta=METSIM_BETA,se=METSIM_SE)%>%distinct(rsid,.keep_all = TRUE)"
   ]
  },
  {
   "cell_type": "code",
   "execution_count": 14,
   "id": "c78d5808",
   "metadata": {},
   "outputs": [],
   "source": [
    "df_z <- list.files(\"../../ANALYSIS/COLOC_SUSIE/metsim/\",pattern='.txt',full.names = TRUE)"
   ]
  },
  {
   "cell_type": "code",
   "execution_count": 19,
   "id": "0a5f1123",
   "metadata": {},
   "outputs": [],
   "source": [
    "library(stringr)"
   ]
  },
  {
   "cell_type": "code",
   "execution_count": 27,
   "id": "6894ae59",
   "metadata": {},
   "outputs": [],
   "source": [
    "for (i in seq_along(df_z))\n",
    "{\n",
    "file_name <- paste0(tail(str_split(df_z,\"/|.txt\")[[i]],n=3)[1],\".z\")\n",
    "stats <- read.table(df_z[i],header=T,sep=\"\\t\")%>%rename(rsid=SNP)\n",
    "merged_gwas <- merge(output_df,stats,by=\"rsid\")%>%mutate(allele1=gsub(\"\\\\_.*\", \"\", allele1))%>%mutate(allele2=gsub(\"\\\\_.*\", \"\", allele2))%>%filter(allele1==A1 && allele2==A2)%>%select(rsid,chromosome,position,allele1,allele2,maf,beta,se) %>% mutate(P=pchisq((beta/se)^2, df=1, lower=F)) %>% \n",
    "    distinct %>% group_by(rsid) %>% slice_min(P, n = 1)%>%select(-P)\n",
    "merged_eqtl <- merge(output_df,stats,by=\"rsid\")%>%mutate(allele1=gsub(\"\\\\_.*\", \"\", allele1))%>%mutate(allele2=gsub(\"\\\\_.*\", \"\", allele2))%>%filter(allele1==A1 && allele2==A2)%>%select(rsid,chromosome,position,allele1,allele2,maf,b,SE)%>%rename(beta=b,se=SE)%>%\n",
    "    mutate(P=pchisq((beta/se)^2, df=1, lower=F)) %>% distinct %>% group_by(rsid) %>% slice_min(P, n = 1)%>%select(-P)\n",
    "write.table(merged_gwas,paste0(\"../../ANALYSIS/COLOC_SUSIE/harmonized_metsim/gwas/\",file_name),sep = \" \",row.names=FALSE,quote=FALSE)\n",
    "write.table(merged_eqtl,paste0(\"../../ANALYSIS/COLOC_SUSIE/harmonized_metsim/eqtl/\",file_name),sep = \" \",row.names=FALSE,quote=FALSE)\n",
    "    }"
   ]
  },
  {
   "cell_type": "code",
   "execution_count": null,
   "id": "b5452e32",
   "metadata": {},
   "outputs": [],
   "source": []
  },
  {
   "cell_type": "code",
   "execution_count": null,
   "id": "9950c934",
   "metadata": {},
   "outputs": [],
   "source": []
  },
  {
   "cell_type": "code",
   "execution_count": null,
   "id": "b77906da",
   "metadata": {},
   "outputs": [],
   "source": []
  }
 ],
 "metadata": {
  "kernelspec": {
   "display_name": "R",
   "language": "R",
   "name": "ir"
  },
  "language_info": {
   "codemirror_mode": "r",
   "file_extension": ".r",
   "mimetype": "text/x-r-source",
   "name": "R",
   "pygments_lexer": "r",
   "version": "4.1.2"
  }
 },
 "nbformat": 4,
 "nbformat_minor": 5
}
