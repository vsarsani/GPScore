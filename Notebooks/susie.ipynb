{
 "cells": [
  {
   "cell_type": "code",
   "execution_count": 1,
   "id": "4881dd94",
   "metadata": {},
   "outputs": [
    {
     "name": "stderr",
     "output_type": "stream",
     "text": [
      "Warning message:\n",
      "\"package 'tidyverse' was built under R version 4.1.3\"\n",
      "Warning message:\n",
      "\"package 'ggplot2' was built under R version 4.1.3\"\n",
      "Warning message:\n",
      "\"package 'tibble' was built under R version 4.1.3\"\n",
      "Warning message:\n",
      "\"package 'dplyr' was built under R version 4.1.3\"\n",
      "Warning message:\n",
      "\"package 'Rfast' was built under R version 4.1.3\"\n",
      "Warning message:\n",
      "\"package 'Rcpp' was built under R version 4.1.3\"\n",
      "Warning message:\n",
      "\"package 'RcppZiggurat' was built under R version 4.1.3\"\n"
     ]
    }
   ],
   "source": [
    "library(susieR)\n",
    "set.seed(1)\n",
    "suppressMessages(library(tidyverse))\n",
    "suppressMessages(library('Rfast'))"
   ]
  },
  {
   "cell_type": "code",
   "execution_count": 2,
   "id": "bc4ef42b",
   "metadata": {},
   "outputs": [],
   "source": [
    "## Trans "
   ]
  },
  {
   "cell_type": "code",
   "execution_count": 3,
   "id": "4d7ee9ff",
   "metadata": {},
   "outputs": [],
   "source": [
    "df_z <- list.files(\"../../ANALYSIS/FINEMAP/trans//\",pattern='',full.names = TRUE)\n",
    "df_z <- df_z[ !grepl(\"bcor\", df_z) ]"
   ]
  },
  {
   "cell_type": "code",
   "execution_count": 4,
   "id": "7c501ddf",
   "metadata": {},
   "outputs": [
    {
     "name": "stderr",
     "output_type": "stream",
     "text": [
      "\u001b[1m\u001b[4m\u001b[31mWARNING:\u001b[39m\u001b[24m\u001b[22m Providing the sample size (n), or even a rough estimate of n, is highly recommended. Without n, the implicit assumption is n is large (Inf) and the effect sizes are small (close to zero).\n",
      "\n"
     ]
    }
   ],
   "source": [
    "i=1\n",
    "sumstats <- read.table(df_z[i],header=T,sep=\" \")\n",
    "z=sumstats$beta/sumstats$se\n",
    "R <- as.matrix(read.table(paste0(df_z[i],\".bgen.bcor.ld\"),header=FALSE))\n",
    "fitted_rss <- susie_rss(z,R,estimate_prior_variance = FALSE,max_iter = 5000,L=10)"
   ]
  },
  {
   "cell_type": "code",
   "execution_count": 9,
   "id": "294b3a56",
   "metadata": {},
   "outputs": [
    {
     "data": {
      "text/html": [
       "<dl>\n",
       "\t<dt>$L1</dt>\n",
       "\t\t<dd>80</dd>\n",
       "\t<dt>$L2</dt>\n",
       "\t\t<dd>127</dd>\n",
       "</dl>\n"
      ],
      "text/latex": [
       "\\begin{description}\n",
       "\\item[\\$L1] 80\n",
       "\\item[\\$L2] 127\n",
       "\\end{description}\n"
      ],
      "text/markdown": [
       "$L1\n",
       ":   80\n",
       "$L2\n",
       ":   127\n",
       "\n",
       "\n"
      ],
      "text/plain": [
       "$L1\n",
       "[1] 80\n",
       "\n",
       "$L2\n",
       "[1] 127\n"
      ]
     },
     "metadata": {},
     "output_type": "display_data"
    }
   ],
   "source": [
    "fitted_rss$sets$cs"
   ]
  },
  {
   "cell_type": "code",
   "execution_count": 70,
   "id": "84127fc0",
   "metadata": {},
   "outputs": [],
   "source": [
    "pip_df <- data.frame()\n",
    "for (i in seq_along(df_z))\n",
    "{\n",
    "sumstats <- read.table(df_z[i],header=T,sep=\" \")\n",
    "z=sumstats$beta/sumstats$se\n",
    "R <- as.matrix(read.table(paste0(df_z[i],\".bgen.bcor.ld\"),header=FALSE))\n",
    "fitted_rss <- susie_rss(z,R,estimate_prior_variance = FALSE,max_iter = 5000,L=10)\n",
    "df <- data.frame(MARKERNAME=sumstats$rsid,SUSIE_PIP=fitted_rss$pip)\n",
    "pip_df   <- rbind(pip_df ,df)\n",
    "    }"
   ]
  },
  {
   "cell_type": "code",
   "execution_count": 72,
   "id": "a082c041",
   "metadata": {},
   "outputs": [
    {
     "data": {
      "text/html": [
       "8292"
      ],
      "text/latex": [
       "8292"
      ],
      "text/markdown": [
       "8292"
      ],
      "text/plain": [
       "[1] 8292"
      ]
     },
     "metadata": {},
     "output_type": "display_data"
    }
   ],
   "source": [
    "nrow(pip_df)"
   ]
  },
  {
   "cell_type": "code",
   "execution_count": 75,
   "id": "2b577e00",
   "metadata": {},
   "outputs": [],
   "source": [
    "write.table(pip_df,\"../../ANALYSIS/SUSIE/trans_susie_pip.tab\",sep = \"\\t\",row.names=FALSE,quote=FALSE)"
   ]
  },
  {
   "cell_type": "code",
   "execution_count": null,
   "id": "1d270b0f",
   "metadata": {},
   "outputs": [],
   "source": []
  },
  {
   "cell_type": "code",
   "execution_count": 1,
   "id": "f7a74f35",
   "metadata": {},
   "outputs": [],
   "source": [
    "## Eur"
   ]
  },
  {
   "cell_type": "code",
   "execution_count": 9,
   "id": "d01197d2",
   "metadata": {},
   "outputs": [],
   "source": [
    "df_z <- list.files(\"../../ANALYSIS/FINEMAP/eur/\",pattern='',full.names = TRUE)\n",
    "df_z <- df_z[ !grepl(\"bcor\", df_z) ]\n",
    "df_z <- df_z[ !grepl(\"master\", df_z) ]\n",
    "df_z <- df_z[ !grepl(\"METSIM\", df_z) ]"
   ]
  },
  {
   "cell_type": "code",
   "execution_count": 10,
   "id": "24a3d521",
   "metadata": {},
   "outputs": [
    {
     "data": {
      "text/html": [
       "<style>\n",
       ".list-inline {list-style: none; margin:0; padding: 0}\n",
       ".list-inline>li {display: inline-block}\n",
       ".list-inline>li:not(:last-child)::after {content: \"\\00b7\"; padding: 0 .5ex}\n",
       "</style>\n",
       "<ol class=list-inline><li>'../../ANALYSIS/FINEMAP/eur/1_218165008_221165008.z'</li><li>'../../ANALYSIS/FINEMAP/eur/10_114313924_117313924.z'</li><li>'../../ANALYSIS/FINEMAP/eur/11_13284110_16284110.z'</li><li>'../../ANALYSIS/FINEMAP/eur/12_121674743_125968572.z'</li><li>'../../ANALYSIS/FINEMAP/eur/12_18970221_21970221.z'</li><li>'../../ANALYSIS/FINEMAP/eur/12_55438383_58438383.z'</li><li>'../../ANALYSIS/FINEMAP/eur/16_80034790_84163288.z'</li><li>'../../ANALYSIS/FINEMAP/eur/17_5701753_8701753.z'</li><li>'../../ANALYSIS/FINEMAP/eur/19_32399065_35399065.z'</li><li>'../../ANALYSIS/FINEMAP/eur/2_225623439_228623439.z'</li><li>'../../ANALYSIS/FINEMAP/eur/3_148555958_151555958.z'</li><li>'../../ANALYSIS/FINEMAP/eur/3_185063114_188063114.z'</li><li>'../../ANALYSIS/FINEMAP/eur/3_51220080_54220080.z'</li><li>'../../ANALYSIS/FINEMAP/eur/4_88239479_91239479.z'</li><li>'../../ANALYSIS/FINEMAP/eur/5_51798025_54798025.z'</li><li>'../../ANALYSIS/FINEMAP/eur/6_42257896_45257896.z'</li><li>'../../ANALYSIS/FINEMAP/eur/8_124981475_127981475.z'</li></ol>\n"
      ],
      "text/latex": [
       "\\begin{enumerate*}\n",
       "\\item '../../ANALYSIS/FINEMAP/eur/1\\_218165008\\_221165008.z'\n",
       "\\item '../../ANALYSIS/FINEMAP/eur/10\\_114313924\\_117313924.z'\n",
       "\\item '../../ANALYSIS/FINEMAP/eur/11\\_13284110\\_16284110.z'\n",
       "\\item '../../ANALYSIS/FINEMAP/eur/12\\_121674743\\_125968572.z'\n",
       "\\item '../../ANALYSIS/FINEMAP/eur/12\\_18970221\\_21970221.z'\n",
       "\\item '../../ANALYSIS/FINEMAP/eur/12\\_55438383\\_58438383.z'\n",
       "\\item '../../ANALYSIS/FINEMAP/eur/16\\_80034790\\_84163288.z'\n",
       "\\item '../../ANALYSIS/FINEMAP/eur/17\\_5701753\\_8701753.z'\n",
       "\\item '../../ANALYSIS/FINEMAP/eur/19\\_32399065\\_35399065.z'\n",
       "\\item '../../ANALYSIS/FINEMAP/eur/2\\_225623439\\_228623439.z'\n",
       "\\item '../../ANALYSIS/FINEMAP/eur/3\\_148555958\\_151555958.z'\n",
       "\\item '../../ANALYSIS/FINEMAP/eur/3\\_185063114\\_188063114.z'\n",
       "\\item '../../ANALYSIS/FINEMAP/eur/3\\_51220080\\_54220080.z'\n",
       "\\item '../../ANALYSIS/FINEMAP/eur/4\\_88239479\\_91239479.z'\n",
       "\\item '../../ANALYSIS/FINEMAP/eur/5\\_51798025\\_54798025.z'\n",
       "\\item '../../ANALYSIS/FINEMAP/eur/6\\_42257896\\_45257896.z'\n",
       "\\item '../../ANALYSIS/FINEMAP/eur/8\\_124981475\\_127981475.z'\n",
       "\\end{enumerate*}\n"
      ],
      "text/markdown": [
       "1. '../../ANALYSIS/FINEMAP/eur/1_218165008_221165008.z'\n",
       "2. '../../ANALYSIS/FINEMAP/eur/10_114313924_117313924.z'\n",
       "3. '../../ANALYSIS/FINEMAP/eur/11_13284110_16284110.z'\n",
       "4. '../../ANALYSIS/FINEMAP/eur/12_121674743_125968572.z'\n",
       "5. '../../ANALYSIS/FINEMAP/eur/12_18970221_21970221.z'\n",
       "6. '../../ANALYSIS/FINEMAP/eur/12_55438383_58438383.z'\n",
       "7. '../../ANALYSIS/FINEMAP/eur/16_80034790_84163288.z'\n",
       "8. '../../ANALYSIS/FINEMAP/eur/17_5701753_8701753.z'\n",
       "9. '../../ANALYSIS/FINEMAP/eur/19_32399065_35399065.z'\n",
       "10. '../../ANALYSIS/FINEMAP/eur/2_225623439_228623439.z'\n",
       "11. '../../ANALYSIS/FINEMAP/eur/3_148555958_151555958.z'\n",
       "12. '../../ANALYSIS/FINEMAP/eur/3_185063114_188063114.z'\n",
       "13. '../../ANALYSIS/FINEMAP/eur/3_51220080_54220080.z'\n",
       "14. '../../ANALYSIS/FINEMAP/eur/4_88239479_91239479.z'\n",
       "15. '../../ANALYSIS/FINEMAP/eur/5_51798025_54798025.z'\n",
       "16. '../../ANALYSIS/FINEMAP/eur/6_42257896_45257896.z'\n",
       "17. '../../ANALYSIS/FINEMAP/eur/8_124981475_127981475.z'\n",
       "\n",
       "\n"
      ],
      "text/plain": [
       " [1] \"../../ANALYSIS/FINEMAP/eur/1_218165008_221165008.z\" \n",
       " [2] \"../../ANALYSIS/FINEMAP/eur/10_114313924_117313924.z\"\n",
       " [3] \"../../ANALYSIS/FINEMAP/eur/11_13284110_16284110.z\"  \n",
       " [4] \"../../ANALYSIS/FINEMAP/eur/12_121674743_125968572.z\"\n",
       " [5] \"../../ANALYSIS/FINEMAP/eur/12_18970221_21970221.z\"  \n",
       " [6] \"../../ANALYSIS/FINEMAP/eur/12_55438383_58438383.z\"  \n",
       " [7] \"../../ANALYSIS/FINEMAP/eur/16_80034790_84163288.z\"  \n",
       " [8] \"../../ANALYSIS/FINEMAP/eur/17_5701753_8701753.z\"    \n",
       " [9] \"../../ANALYSIS/FINEMAP/eur/19_32399065_35399065.z\"  \n",
       "[10] \"../../ANALYSIS/FINEMAP/eur/2_225623439_228623439.z\" \n",
       "[11] \"../../ANALYSIS/FINEMAP/eur/3_148555958_151555958.z\" \n",
       "[12] \"../../ANALYSIS/FINEMAP/eur/3_185063114_188063114.z\" \n",
       "[13] \"../../ANALYSIS/FINEMAP/eur/3_51220080_54220080.z\"   \n",
       "[14] \"../../ANALYSIS/FINEMAP/eur/4_88239479_91239479.z\"   \n",
       "[15] \"../../ANALYSIS/FINEMAP/eur/5_51798025_54798025.z\"   \n",
       "[16] \"../../ANALYSIS/FINEMAP/eur/6_42257896_45257896.z\"   \n",
       "[17] \"../../ANALYSIS/FINEMAP/eur/8_124981475_127981475.z\" "
      ]
     },
     "metadata": {},
     "output_type": "display_data"
    }
   ],
   "source": [
    "df_z"
   ]
  },
  {
   "cell_type": "code",
   "execution_count": 11,
   "id": "9e9c969a",
   "metadata": {},
   "outputs": [],
   "source": [
    "pip_df <- data.frame()\n",
    "for (i in seq_along(df_z))\n",
    "{\n",
    "sumstats <- read.table(df_z[i],header=T,sep=\" \")\n",
    "z=sumstats$beta/sumstats$se\n",
    "R <- as.matrix(read.table(paste0(df_z[i],\".bgen.bcor.ld\"),header=FALSE))\n",
    "fitted_rss <- susie_rss(z,R,estimate_prior_variance = FALSE,max_iter = 5000,L=10)\n",
    "df <- data.frame(MARKERNAME=sumstats$rsid,SUSIE_PIP=fitted_rss$pip)\n",
    "pip_df   <- rbind(pip_df ,df)\n",
    "    }"
   ]
  },
  {
   "cell_type": "code",
   "execution_count": 12,
   "id": "e709ce14",
   "metadata": {},
   "outputs": [
    {
     "data": {
      "text/html": [
       "7718"
      ],
      "text/latex": [
       "7718"
      ],
      "text/markdown": [
       "7718"
      ],
      "text/plain": [
       "[1] 7718"
      ]
     },
     "metadata": {},
     "output_type": "display_data"
    }
   ],
   "source": [
    "nrow(pip_df)"
   ]
  },
  {
   "cell_type": "code",
   "execution_count": 13,
   "id": "cf4e4b4a",
   "metadata": {},
   "outputs": [],
   "source": [
    "write.table(pip_df,\"../../ANALYSIS/SUSIE/eur_susie_pip.tab\",sep = \"\\t\",row.names=FALSE,quote=FALSE)"
   ]
  },
  {
   "cell_type": "code",
   "execution_count": null,
   "id": "a9e865f1",
   "metadata": {},
   "outputs": [],
   "source": []
  }
 ],
 "metadata": {
  "kernelspec": {
   "display_name": "R",
   "language": "R",
   "name": "ir"
  },
  "language_info": {
   "codemirror_mode": "r",
   "file_extension": ".r",
   "mimetype": "text/x-r-source",
   "name": "R",
   "pygments_lexer": "r",
   "version": "4.1.2"
  }
 },
 "nbformat": 4,
 "nbformat_minor": 5
}
