{
 "cells": [
  {
   "cell_type": "code",
   "execution_count": 1,
   "id": "1594c1bf",
   "metadata": {},
   "outputs": [],
   "source": [
    "suppressMessages(suppressWarnings(library(tidyverse)))"
   ]
  },
  {
   "cell_type": "code",
   "execution_count": 51,
   "id": "6f3b44eb",
   "metadata": {},
   "outputs": [],
   "source": [
    "trans_ancestry <-  read.table(\"../../ANALYSIS/FUMA_VEGAS2/trans_pathway.out\",fill=TRUE,header=TRUE)"
   ]
  },
  {
   "cell_type": "code",
   "execution_count": 52,
   "id": "cbe041d1",
   "metadata": {},
   "outputs": [
    {
     "data": {
      "text/html": [
       "<table class=\"dataframe\">\n",
       "<caption>A data.frame: 6 × 7</caption>\n",
       "<thead>\n",
       "\t<tr><th></th><th scope=col>Pathway</th><th scope=col>nGenesMapped</th><th scope=col>nGenesUsed</th><th scope=col>nSamples</th><th scope=col>ObservedP</th><th scope=col>empiricalP</th><th scope=col>Genes</th></tr>\n",
       "\t<tr><th></th><th scope=col>&lt;chr&gt;</th><th scope=col>&lt;int&gt;</th><th scope=col>&lt;int&gt;</th><th scope=col>&lt;int&gt;</th><th scope=col>&lt;dbl&gt;</th><th scope=col>&lt;dbl&gt;</th><th scope=col>&lt;chr&gt;</th></tr>\n",
       "</thead>\n",
       "<tbody>\n",
       "\t<tr><th scope=row>1</th><td>100064_ko04722_Neurotrophin_signaling_pathway </td><td> 9</td><td> 9</td><td>1000</td><td>1.700667e-50</td><td>0.1098901</td><td>SORT1_RAP1A_IRS1_PRKCD_NFKBIE_PRDM4_PLCG2_TP53_PIK3R5                                                              </td></tr>\n",
       "\t<tr><th scope=row>2</th><td>101143_hsa04722_Neurotrophin_signaling_pathway</td><td> 9</td><td> 9</td><td>1000</td><td>1.700667e-50</td><td>0.1078921</td><td>SORT1_RAP1A_IRS1_PRKCD_NFKBIE_PRDM4_PLCG2_TP53_PIK3R5                                                              </td></tr>\n",
       "\t<tr><th scope=row>3</th><td>1017634_hsa04024_cAMP_signaling_pathway       </td><td>15</td><td>12</td><td>1000</td><td>6.697692e-50</td><td>0.5294705</td><td>GNAI3_RAP1A_CACNA1D_ADRB1_PDE3B_PDE3A_GLI1_ORAI1_HCAR1_ATP1B2_PIK3R5_FXYD1                                         </td></tr>\n",
       "\t<tr><th scope=row>4</th><td>1019520_ko04024_cAMP_signaling_pathway        </td><td>15</td><td>12</td><td>1000</td><td>6.697692e-50</td><td>0.5064935</td><td>GNAI3_RAP1A_CACNA1D_ADRB1_PDE3B_PDE3A_GLI1_ORAI1_HCAR1_ATP1B2_PIK3R5_FXYD1                                         </td></tr>\n",
       "\t<tr><th scope=row>5</th><td>102181_ko04144_Endocytosis                    </td><td>14</td><td>11</td><td>1000</td><td>3.132879e-49</td><td>0.3876124</td><td>TGFB2_KIAA0196_ADRB1_GRK5_FGFR2_CAPZA3_RNF41_AGAP2_KIAA1033_VPS37B_ACAP1                                           </td></tr>\n",
       "\t<tr><th scope=row>6</th><td>1022085_GO:0044848_biological_phase           </td><td>26</td><td>19</td><td>1000</td><td>6.495182e-82</td><td>0.4115884</td><td>PSMA5_TGFB2_CUL3_RFC4_FBXO5_MCMBP_PSMA1_CDK2_PRIM1_CDK4_ANAPC5_KNTC1_CDK2AP1_UBC_CENPN_MPHOSPH6_MIS12_CTDNEP1_NDEL1</td></tr>\n",
       "</tbody>\n",
       "</table>\n"
      ],
      "text/latex": [
       "A data.frame: 6 × 7\n",
       "\\begin{tabular}{r|lllllll}\n",
       "  & Pathway & nGenesMapped & nGenesUsed & nSamples & ObservedP & empiricalP & Genes\\\\\n",
       "  & <chr> & <int> & <int> & <int> & <dbl> & <dbl> & <chr>\\\\\n",
       "\\hline\n",
       "\t1 & 100064\\_ko04722\\_Neurotrophin\\_signaling\\_pathway  &  9 &  9 & 1000 & 1.700667e-50 & 0.1098901 & SORT1\\_RAP1A\\_IRS1\\_PRKCD\\_NFKBIE\\_PRDM4\\_PLCG2\\_TP53\\_PIK3R5                                                              \\\\\n",
       "\t2 & 101143\\_hsa04722\\_Neurotrophin\\_signaling\\_pathway &  9 &  9 & 1000 & 1.700667e-50 & 0.1078921 & SORT1\\_RAP1A\\_IRS1\\_PRKCD\\_NFKBIE\\_PRDM4\\_PLCG2\\_TP53\\_PIK3R5                                                              \\\\\n",
       "\t3 & 1017634\\_hsa04024\\_cAMP\\_signaling\\_pathway        & 15 & 12 & 1000 & 6.697692e-50 & 0.5294705 & GNAI3\\_RAP1A\\_CACNA1D\\_ADRB1\\_PDE3B\\_PDE3A\\_GLI1\\_ORAI1\\_HCAR1\\_ATP1B2\\_PIK3R5\\_FXYD1                                         \\\\\n",
       "\t4 & 1019520\\_ko04024\\_cAMP\\_signaling\\_pathway         & 15 & 12 & 1000 & 6.697692e-50 & 0.5064935 & GNAI3\\_RAP1A\\_CACNA1D\\_ADRB1\\_PDE3B\\_PDE3A\\_GLI1\\_ORAI1\\_HCAR1\\_ATP1B2\\_PIK3R5\\_FXYD1                                         \\\\\n",
       "\t5 & 102181\\_ko04144\\_Endocytosis                     & 14 & 11 & 1000 & 3.132879e-49 & 0.3876124 & TGFB2\\_KIAA0196\\_ADRB1\\_GRK5\\_FGFR2\\_CAPZA3\\_RNF41\\_AGAP2\\_KIAA1033\\_VPS37B\\_ACAP1                                           \\\\\n",
       "\t6 & 1022085\\_GO:0044848\\_biological\\_phase            & 26 & 19 & 1000 & 6.495182e-82 & 0.4115884 & PSMA5\\_TGFB2\\_CUL3\\_RFC4\\_FBXO5\\_MCMBP\\_PSMA1\\_CDK2\\_PRIM1\\_CDK4\\_ANAPC5\\_KNTC1\\_CDK2AP1\\_UBC\\_CENPN\\_MPHOSPH6\\_MIS12\\_CTDNEP1\\_NDEL1\\\\\n",
       "\\end{tabular}\n"
      ],
      "text/markdown": [
       "\n",
       "A data.frame: 6 × 7\n",
       "\n",
       "| <!--/--> | Pathway &lt;chr&gt; | nGenesMapped &lt;int&gt; | nGenesUsed &lt;int&gt; | nSamples &lt;int&gt; | ObservedP &lt;dbl&gt; | empiricalP &lt;dbl&gt; | Genes &lt;chr&gt; |\n",
       "|---|---|---|---|---|---|---|---|\n",
       "| 1 | 100064_ko04722_Neurotrophin_signaling_pathway  |  9 |  9 | 1000 | 1.700667e-50 | 0.1098901 | SORT1_RAP1A_IRS1_PRKCD_NFKBIE_PRDM4_PLCG2_TP53_PIK3R5                                                               |\n",
       "| 2 | 101143_hsa04722_Neurotrophin_signaling_pathway |  9 |  9 | 1000 | 1.700667e-50 | 0.1078921 | SORT1_RAP1A_IRS1_PRKCD_NFKBIE_PRDM4_PLCG2_TP53_PIK3R5                                                               |\n",
       "| 3 | 1017634_hsa04024_cAMP_signaling_pathway        | 15 | 12 | 1000 | 6.697692e-50 | 0.5294705 | GNAI3_RAP1A_CACNA1D_ADRB1_PDE3B_PDE3A_GLI1_ORAI1_HCAR1_ATP1B2_PIK3R5_FXYD1                                          |\n",
       "| 4 | 1019520_ko04024_cAMP_signaling_pathway         | 15 | 12 | 1000 | 6.697692e-50 | 0.5064935 | GNAI3_RAP1A_CACNA1D_ADRB1_PDE3B_PDE3A_GLI1_ORAI1_HCAR1_ATP1B2_PIK3R5_FXYD1                                          |\n",
       "| 5 | 102181_ko04144_Endocytosis                     | 14 | 11 | 1000 | 3.132879e-49 | 0.3876124 | TGFB2_KIAA0196_ADRB1_GRK5_FGFR2_CAPZA3_RNF41_AGAP2_KIAA1033_VPS37B_ACAP1                                            |\n",
       "| 6 | 1022085_GO:0044848_biological_phase            | 26 | 19 | 1000 | 6.495182e-82 | 0.4115884 | PSMA5_TGFB2_CUL3_RFC4_FBXO5_MCMBP_PSMA1_CDK2_PRIM1_CDK4_ANAPC5_KNTC1_CDK2AP1_UBC_CENPN_MPHOSPH6_MIS12_CTDNEP1_NDEL1 |\n",
       "\n"
      ],
      "text/plain": [
       "  Pathway                                        nGenesMapped nGenesUsed\n",
       "1 100064_ko04722_Neurotrophin_signaling_pathway   9            9        \n",
       "2 101143_hsa04722_Neurotrophin_signaling_pathway  9            9        \n",
       "3 1017634_hsa04024_cAMP_signaling_pathway        15           12        \n",
       "4 1019520_ko04024_cAMP_signaling_pathway         15           12        \n",
       "5 102181_ko04144_Endocytosis                     14           11        \n",
       "6 1022085_GO:0044848_biological_phase            26           19        \n",
       "  nSamples ObservedP    empiricalP\n",
       "1 1000     1.700667e-50 0.1098901 \n",
       "2 1000     1.700667e-50 0.1078921 \n",
       "3 1000     6.697692e-50 0.5294705 \n",
       "4 1000     6.697692e-50 0.5064935 \n",
       "5 1000     3.132879e-49 0.3876124 \n",
       "6 1000     6.495182e-82 0.4115884 \n",
       "  Genes                                                                                                              \n",
       "1 SORT1_RAP1A_IRS1_PRKCD_NFKBIE_PRDM4_PLCG2_TP53_PIK3R5                                                              \n",
       "2 SORT1_RAP1A_IRS1_PRKCD_NFKBIE_PRDM4_PLCG2_TP53_PIK3R5                                                              \n",
       "3 GNAI3_RAP1A_CACNA1D_ADRB1_PDE3B_PDE3A_GLI1_ORAI1_HCAR1_ATP1B2_PIK3R5_FXYD1                                         \n",
       "4 GNAI3_RAP1A_CACNA1D_ADRB1_PDE3B_PDE3A_GLI1_ORAI1_HCAR1_ATP1B2_PIK3R5_FXYD1                                         \n",
       "5 TGFB2_KIAA0196_ADRB1_GRK5_FGFR2_CAPZA3_RNF41_AGAP2_KIAA1033_VPS37B_ACAP1                                           \n",
       "6 PSMA5_TGFB2_CUL3_RFC4_FBXO5_MCMBP_PSMA1_CDK2_PRIM1_CDK4_ANAPC5_KNTC1_CDK2AP1_UBC_CENPN_MPHOSPH6_MIS12_CTDNEP1_NDEL1"
      ]
     },
     "metadata": {},
     "output_type": "display_data"
    }
   ],
   "source": [
    "head(trans_ancestry)"
   ]
  },
  {
   "cell_type": "code",
   "execution_count": null,
   "id": "e8f73c6a",
   "metadata": {},
   "outputs": [],
   "source": []
  },
  {
   "cell_type": "code",
   "execution_count": 53,
   "id": "f62364ba",
   "metadata": {},
   "outputs": [],
   "source": [
    "ensg_gene <- read.table(\"../../ANALYSIS/FUMA_VEGAS2/gene_annot_jun10.txt\",fill=TRUE,header=TRUE)%>%rename(GENE=ENSGID,GENE_NAME=NAME)\n",
    "lead <- read.table(\"../../ANALYSIS/TRANSANCESTRY_LEAD.TAB\",fill=TRUE,header=TRUE)%>%select(MARKERNAME,CHROMOSOME,POSITION)%>%mutate(START=POSITION-1500000,END=POSITION+1500000)%>%\n",
    "rename(RSID=MARKERNAME)%>%select(CHROMOSOME,START,END,RSID)"
   ]
  },
  {
   "cell_type": "code",
   "execution_count": 54,
   "id": "7f114791",
   "metadata": {},
   "outputs": [],
   "source": [
    "pathway_db <- separate_rows(trans_ancestry,Genes, convert = TRUE)"
   ]
  },
  {
   "cell_type": "code",
   "execution_count": 66,
   "id": "49d88dbb",
   "metadata": {},
   "outputs": [],
   "source": [
    "\n",
    "all_variants <- data.frame()\n",
    "for (i in 1:nrow(lead) ){\n",
    "   \n",
    "line_q <- lead[i,]\n",
    "chr_q <- as.integer(line_q[1])\n",
    "start_q<- as.integer(line_q[2])\n",
    "end_q <- as.integer(line_q[3])\n",
    "rsid <- line_q[4]\n",
    "con_df <- ensg_gene%>%filter(CHR==chr_q & START >= start_q  & END <= end_q)\n",
    "genes <-  con_df$GENE_NAME\n",
    "df_1 <- pathway_db %>%mutate(LEAD=rsid)%>%filter(empiricalP < 0.05)%>%filter(grepl(paste(genes, collapse=\"|\"), Genes))%>%select(Genes,Pathway,empiricalP,LEAD)\n",
    "df <- df_1%>%filter(Genes %in% genes)%>%group_by(Pathway) %>% summarise_all(~ list(unique(.))) %>% arrange(empiricalP)\n",
    "all_variants  <- rbind(all_variants,df)\n",
    "}"
   ]
  },
  {
   "cell_type": "code",
   "execution_count": 67,
   "id": "25823d23",
   "metadata": {},
   "outputs": [
    {
     "data": {
      "text/html": [
       "<table class=\"dataframe\">\n",
       "<caption>A tibble: 3 × 7</caption>\n",
       "<thead>\n",
       "\t<tr><th scope=col>Pathway</th><th scope=col>nGenesMapped</th><th scope=col>nGenesUsed</th><th scope=col>nSamples</th><th scope=col>ObservedP</th><th scope=col>empiricalP</th><th scope=col>Genes</th></tr>\n",
       "\t<tr><th scope=col>&lt;chr&gt;</th><th scope=col>&lt;int&gt;</th><th scope=col>&lt;int&gt;</th><th scope=col>&lt;int&gt;</th><th scope=col>&lt;dbl&gt;</th><th scope=col>&lt;dbl&gt;</th><th scope=col>&lt;chr&gt;</th></tr>\n",
       "</thead>\n",
       "<tbody>\n",
       "\t<tr><td>490839_GO:0005813_centrosome                        </td><td>24</td><td>15</td><td>1000</td><td>7.477241e-86</td><td>0.03796204</td><td>CCDC92</td></tr>\n",
       "\t<tr><td>490840_GO:0005814_centriole                         </td><td> 7</td><td> 6</td><td>1000</td><td>1.162662e-44</td><td>0.02197802</td><td>CCDC92</td></tr>\n",
       "\t<tr><td>507398_GO:0044450_microtubule_organizing_center_part</td><td> 8</td><td> 7</td><td>1000</td><td>1.270400e-47</td><td>0.03496503</td><td>CCDC92</td></tr>\n",
       "</tbody>\n",
       "</table>\n"
      ],
      "text/latex": [
       "A tibble: 3 × 7\n",
       "\\begin{tabular}{lllllll}\n",
       " Pathway & nGenesMapped & nGenesUsed & nSamples & ObservedP & empiricalP & Genes\\\\\n",
       " <chr> & <int> & <int> & <int> & <dbl> & <dbl> & <chr>\\\\\n",
       "\\hline\n",
       "\t 490839\\_GO:0005813\\_centrosome                         & 24 & 15 & 1000 & 7.477241e-86 & 0.03796204 & CCDC92\\\\\n",
       "\t 490840\\_GO:0005814\\_centriole                          &  7 &  6 & 1000 & 1.162662e-44 & 0.02197802 & CCDC92\\\\\n",
       "\t 507398\\_GO:0044450\\_microtubule\\_organizing\\_center\\_part &  8 &  7 & 1000 & 1.270400e-47 & 0.03496503 & CCDC92\\\\\n",
       "\\end{tabular}\n"
      ],
      "text/markdown": [
       "\n",
       "A tibble: 3 × 7\n",
       "\n",
       "| Pathway &lt;chr&gt; | nGenesMapped &lt;int&gt; | nGenesUsed &lt;int&gt; | nSamples &lt;int&gt; | ObservedP &lt;dbl&gt; | empiricalP &lt;dbl&gt; | Genes &lt;chr&gt; |\n",
       "|---|---|---|---|---|---|---|\n",
       "| 490839_GO:0005813_centrosome                         | 24 | 15 | 1000 | 7.477241e-86 | 0.03796204 | CCDC92 |\n",
       "| 490840_GO:0005814_centriole                          |  7 |  6 | 1000 | 1.162662e-44 | 0.02197802 | CCDC92 |\n",
       "| 507398_GO:0044450_microtubule_organizing_center_part |  8 |  7 | 1000 | 1.270400e-47 | 0.03496503 | CCDC92 |\n",
       "\n"
      ],
      "text/plain": [
       "  Pathway                                              nGenesMapped nGenesUsed\n",
       "1 490839_GO:0005813_centrosome                         24           15        \n",
       "2 490840_GO:0005814_centriole                           7            6        \n",
       "3 507398_GO:0044450_microtubule_organizing_center_part  8            7        \n",
       "  nSamples ObservedP    empiricalP Genes \n",
       "1 1000     7.477241e-86 0.03796204 CCDC92\n",
       "2 1000     1.162662e-44 0.02197802 CCDC92\n",
       "3 1000     1.270400e-47 0.03496503 CCDC92"
      ]
     },
     "metadata": {},
     "output_type": "display_data"
    }
   ],
   "source": [
    "pathway_db%>%filter(Genes==\"CCDC92\")%>%filter(empiricalP<0.05)"
   ]
  },
  {
   "cell_type": "code",
   "execution_count": 57,
   "id": "a78afdf5",
   "metadata": {},
   "outputs": [],
   "source": [
    "all_variants <- apply(all_variants,2,as.character)"
   ]
  },
  {
   "cell_type": "code",
   "execution_count": 58,
   "id": "5256ab65",
   "metadata": {},
   "outputs": [],
   "source": [
    "write.table(all_variants,\"../../ANALYSIS/FUMA_VEGAS2/Trans_ancestry.tab\",sep = \"\\t\",row.names=FALSE,quote=FALSE)"
   ]
  },
  {
   "cell_type": "code",
   "execution_count": 88,
   "id": "8eb455cf",
   "metadata": {},
   "outputs": [],
   "source": [
    "## EUR"
   ]
  },
  {
   "cell_type": "code",
   "execution_count": 68,
   "id": "b393cbe9",
   "metadata": {},
   "outputs": [],
   "source": [
    "trans_ancestry <-  read.table(\"../../ANALYSIS/FUMA_VEGAS2/eur_pathway.out\",fill=TRUE,header=TRUE)"
   ]
  },
  {
   "cell_type": "code",
   "execution_count": 69,
   "id": "bd163ea7",
   "metadata": {},
   "outputs": [],
   "source": [
    "ensg_gene <- read.table(\"../../ANALYSIS/FUMA_VEGAS2/gene_annot_jun10.txt\",fill=TRUE,header=TRUE)%>%rename(GENE=ENSGID,GENE_NAME=NAME)\n",
    "lead <- read.table(\"../../ANALYSIS/EUROPEAN_LEAD.TAB\",fill=TRUE,header=TRUE)%>%select(MARKERNAME,CHROMOSOME,POSITION)%>%mutate(START=POSITION-1500000,END=POSITION+1500000)%>%\n",
    "rename(RSID=MARKERNAME)%>%select(CHROMOSOME,START,END,RSID)"
   ]
  },
  {
   "cell_type": "code",
   "execution_count": 70,
   "id": "4dcfd2ca",
   "metadata": {},
   "outputs": [],
   "source": [
    "pathway_db <- separate_rows(trans_ancestry,Genes, convert = TRUE)"
   ]
  },
  {
   "cell_type": "code",
   "execution_count": 71,
   "id": "09087959",
   "metadata": {},
   "outputs": [],
   "source": [
    "all_variants <- data.frame()\n",
    "for (i in 1:nrow(lead) ){\n",
    "   \n",
    "line_q <- lead[i,]\n",
    "chr_q <- as.integer(line_q[1])\n",
    "start_q<- as.integer(line_q[2])\n",
    "end_q <- as.integer(line_q[3])\n",
    "rsid <- line_q[4]\n",
    "con_df <- ensg_gene%>%filter(CHR==chr_q & START >= start_q  & END <= end_q)\n",
    "genes <-  con_df$GENE_NAME\n",
    "df_1 <- pathway_db %>%mutate(LEAD=rsid)%>%filter(empiricalP < 0.05)%>%filter(grepl(paste(genes, collapse=\"|\"), Genes))%>%select(Genes,Pathway,empiricalP,LEAD)\n",
    "df <- df_1%>%filter(Genes %in% genes)%>%group_by(Pathway) %>% summarise_all(~ list(unique(.))) %>% arrange(empiricalP)\n",
    "all_variants  <- rbind(all_variants,df)\n",
    "}"
   ]
  },
  {
   "cell_type": "code",
   "execution_count": 72,
   "id": "a64cf55b",
   "metadata": {},
   "outputs": [],
   "source": [
    "all_variants <- apply(all_variants,2,as.character)"
   ]
  },
  {
   "cell_type": "code",
   "execution_count": 73,
   "id": "f405568d",
   "metadata": {},
   "outputs": [],
   "source": [
    "write.table(all_variants,\"../../ANALYSIS/FUMA_VEGAS2/Eur_ancestry.tab\",sep = \"\\t\",row.names=FALSE,quote=FALSE)"
   ]
  },
  {
   "cell_type": "code",
   "execution_count": null,
   "id": "0665c637",
   "metadata": {},
   "outputs": [],
   "source": []
  }
 ],
 "metadata": {
  "kernelspec": {
   "display_name": "R",
   "language": "R",
   "name": "ir"
  },
  "language_info": {
   "codemirror_mode": "r",
   "file_extension": ".r",
   "mimetype": "text/x-r-source",
   "name": "R",
   "pygments_lexer": "r",
   "version": "4.1.2"
  }
 },
 "nbformat": 4,
 "nbformat_minor": 5
}
