{
 "cells": [
  {
   "cell_type": "code",
   "execution_count": 4,
   "id": "37f86146",
   "metadata": {},
   "outputs": [],
   "source": [
    "suppressMessages(suppressWarnings(library(tidyverse)))\n",
    "suppressMessages(suppressWarnings(library(reshape2)))"
   ]
  },
  {
   "cell_type": "code",
   "execution_count": 5,
   "id": "25642a95",
   "metadata": {},
   "outputs": [],
   "source": [
    "#MEDIAN TPM File"
   ]
  },
  {
   "cell_type": "code",
   "execution_count": 6,
   "id": "9dfe26b1",
   "metadata": {},
   "outputs": [],
   "source": [
    " mat <- read.table(\"../../ANALYSIS/GTEX//GTEx_Analysis_2017-06-05_v8_RNASeQCv1.1.9_gene_median_tpm.gct\",fill=TRUE,header=TRUE,sep=\"\\t\")\n"
   ]
  },
  {
   "cell_type": "code",
   "execution_count": 7,
   "id": "8cd95a0a",
   "metadata": {},
   "outputs": [],
   "source": [
    "colnames(mat) <- c('Name','Description','Adipose_Subcutaneous','Adipose_Visceral_Omentum','Adrenal_Gland','Artery_Aorta','Artery_Coronary','Artery_Tibial','Bladder','Brain_Amygdala',\n",
    "                   'Brain_Anterior.cingulate.cortex..BA24.','Brain...Caudate..basal.ganglia.','Brain...Cerebellar.Hemisphere','Brain...Cerebellum','Brain...Cortex',\n",
    "                   'Brain...Frontal.Cortex..BA9.','Brain...Hippocampus','Brain...Hypothalamus','Brain...Nucleus.accumbens..basal.ganglia.','Brain...Putamen..basal.ganglia.',\n",
    "                   'Brain...Spinal.cord..cervical.c.1.','Brain...Substantia.nigra','Breast...Mammary.Tissue','Cells...Cultured.fibroblasts','Cells...EBV.transformed.lymphocytes',\n",
    "                   'Cervix...Ectocervix','Cervix...Endocervix','Colon...Sigmoid','Colon...Transverse','Esophagus...Gastroesophageal.Junction','Esophagus...Mucosa','Esophagus...Muscularis',\n",
    "                   'Fallopian.Tube','Heart_Atrial_Appendage','Heart_Left.Ventricle','Kidney_Cortex','Kidney...Medulla','Liver','Lung','Minor.Salivary.Gland','Muscle_Skeletal',\n",
    "                   'Nerve_Tibial','Ovary','Pancreas','Pituitary','Prostate','Skin...Not.Sun.Exposed..Suprapubic.','Skin...Sun.Exposed..Lower.leg.','Small.Intestine...Terminal.Ileum',\n",
    "                   'Spleen','Stomach','Testis','Thyroid','Uterus','Vagina','Whole_Blood')"
   ]
  },
  {
   "cell_type": "code",
   "execution_count": 8,
   "id": "835aa9f4",
   "metadata": {},
   "outputs": [],
   "source": [
    "mat_df <- mat%>%select(Name,Description,Adipose_Subcutaneous,Adipose_Visceral_Omentum,Adrenal_Gland,Artery_Aorta,Artery_Coronary,Artery_Tibial,\n",
    "                      Heart_Atrial_Appendage,Heart_Left.Ventricle,Kidney_Cortex,Liver,Muscle_Skeletal,Thyroid,Whole_Blood)%>%melt(., id.vars = c('Name','Description'))%>%rename(Tissue=variable,expr=value)"
   ]
  },
  {
   "cell_type": "code",
   "execution_count": 9,
   "id": "11b84663",
   "metadata": {},
   "outputs": [
    {
     "data": {
      "text/html": [
       "730600"
      ],
      "text/latex": [
       "730600"
      ],
      "text/markdown": [
       "730600"
      ],
      "text/plain": [
       "[1] 730600"
      ]
     },
     "metadata": {},
     "output_type": "display_data"
    }
   ],
   "source": [
    "nrow(mat_df)"
   ]
  },
  {
   "cell_type": "code",
   "execution_count": 7,
   "id": "bf68327c",
   "metadata": {},
   "outputs": [],
   "source": [
    "df <- mat_df  %>% \n",
    "  group_by(Tissue) %>% \n",
    "  arrange(Tissue, desc(expr)) %>% \n",
    "  filter(expr > quantile(expr, .90))%>%rename(GENE=Name,GENE_NAME=Description)"
   ]
  },
  {
   "cell_type": "code",
   "execution_count": 8,
   "id": "a01a0721",
   "metadata": {},
   "outputs": [],
   "source": [
    "ensg_gene <- read.table(\"../../ANALYSIS/FUMA_VEGAS2/gene_annot_jun10.txt\",fill=TRUE,header=TRUE)%>%rename(GENE=ENSGID,GENE_NAME=NAME)\n",
    "final_df <- merge(df,ensg_gene,by=\"GENE_NAME\")%>%select(GENE_NAME,GENE.y,Tissue,expr,CHR,START,END,TSS)%>%rename(ENSG=GENE.y)"
   ]
  },
  {
   "cell_type": "code",
   "execution_count": 9,
   "id": "d90b02cf",
   "metadata": {},
   "outputs": [
    {
     "data": {
      "text/html": [
       "<table class=\"dataframe\">\n",
       "<caption>A data.frame: 6 × 8</caption>\n",
       "<thead>\n",
       "\t<tr><th></th><th scope=col>GENE_NAME</th><th scope=col>ENSG</th><th scope=col>Tissue</th><th scope=col>expr</th><th scope=col>CHR</th><th scope=col>START</th><th scope=col>END</th><th scope=col>TSS</th></tr>\n",
       "\t<tr><th></th><th scope=col>&lt;chr&gt;</th><th scope=col>&lt;chr&gt;</th><th scope=col>&lt;fct&gt;</th><th scope=col>&lt;dbl&gt;</th><th scope=col>&lt;int&gt;</th><th scope=col>&lt;int&gt;</th><th scope=col>&lt;int&gt;</th><th scope=col>&lt;int&gt;</th></tr>\n",
       "</thead>\n",
       "<tbody>\n",
       "\t<tr><th scope=row>1</th><td>A1BG</td><td>ENSG00000121410</td><td>Liver                   </td><td> 395.9050</td><td>19</td><td>58856544</td><td>58864865</td><td>58864865</td></tr>\n",
       "\t<tr><th scope=row>2</th><td>A1CF</td><td>ENSG00000148584</td><td>Liver                   </td><td>  36.4873</td><td>10</td><td>52559169</td><td>52645435</td><td>52645435</td></tr>\n",
       "\t<tr><th scope=row>3</th><td>A2M </td><td>ENSG00000175899</td><td>Adrenal_Gland           </td><td> 157.0530</td><td>12</td><td> 9220260</td><td> 9268825</td><td> 9268825</td></tr>\n",
       "\t<tr><th scope=row>4</th><td>A2M </td><td>ENSG00000175899</td><td>Muscle_Skeletal         </td><td>  63.9648</td><td>12</td><td> 9220260</td><td> 9268825</td><td> 9268825</td></tr>\n",
       "\t<tr><th scope=row>5</th><td>A2M </td><td>ENSG00000175899</td><td>Artery_Aorta            </td><td>1643.7600</td><td>12</td><td> 9220260</td><td> 9268825</td><td> 9268825</td></tr>\n",
       "\t<tr><th scope=row>6</th><td>A2M </td><td>ENSG00000175899</td><td>Adipose_Visceral_Omentum</td><td> 683.1650</td><td>12</td><td> 9220260</td><td> 9268825</td><td> 9268825</td></tr>\n",
       "</tbody>\n",
       "</table>\n"
      ],
      "text/latex": [
       "A data.frame: 6 × 8\n",
       "\\begin{tabular}{r|llllllll}\n",
       "  & GENE\\_NAME & ENSG & Tissue & expr & CHR & START & END & TSS\\\\\n",
       "  & <chr> & <chr> & <fct> & <dbl> & <int> & <int> & <int> & <int>\\\\\n",
       "\\hline\n",
       "\t1 & A1BG & ENSG00000121410 & Liver                    &  395.9050 & 19 & 58856544 & 58864865 & 58864865\\\\\n",
       "\t2 & A1CF & ENSG00000148584 & Liver                    &   36.4873 & 10 & 52559169 & 52645435 & 52645435\\\\\n",
       "\t3 & A2M  & ENSG00000175899 & Adrenal\\_Gland            &  157.0530 & 12 &  9220260 &  9268825 &  9268825\\\\\n",
       "\t4 & A2M  & ENSG00000175899 & Muscle\\_Skeletal          &   63.9648 & 12 &  9220260 &  9268825 &  9268825\\\\\n",
       "\t5 & A2M  & ENSG00000175899 & Artery\\_Aorta             & 1643.7600 & 12 &  9220260 &  9268825 &  9268825\\\\\n",
       "\t6 & A2M  & ENSG00000175899 & Adipose\\_Visceral\\_Omentum &  683.1650 & 12 &  9220260 &  9268825 &  9268825\\\\\n",
       "\\end{tabular}\n"
      ],
      "text/markdown": [
       "\n",
       "A data.frame: 6 × 8\n",
       "\n",
       "| <!--/--> | GENE_NAME &lt;chr&gt; | ENSG &lt;chr&gt; | Tissue &lt;fct&gt; | expr &lt;dbl&gt; | CHR &lt;int&gt; | START &lt;int&gt; | END &lt;int&gt; | TSS &lt;int&gt; |\n",
       "|---|---|---|---|---|---|---|---|---|\n",
       "| 1 | A1BG | ENSG00000121410 | Liver                    |  395.9050 | 19 | 58856544 | 58864865 | 58864865 |\n",
       "| 2 | A1CF | ENSG00000148584 | Liver                    |   36.4873 | 10 | 52559169 | 52645435 | 52645435 |\n",
       "| 3 | A2M  | ENSG00000175899 | Adrenal_Gland            |  157.0530 | 12 |  9220260 |  9268825 |  9268825 |\n",
       "| 4 | A2M  | ENSG00000175899 | Muscle_Skeletal          |   63.9648 | 12 |  9220260 |  9268825 |  9268825 |\n",
       "| 5 | A2M  | ENSG00000175899 | Artery_Aorta             | 1643.7600 | 12 |  9220260 |  9268825 |  9268825 |\n",
       "| 6 | A2M  | ENSG00000175899 | Adipose_Visceral_Omentum |  683.1650 | 12 |  9220260 |  9268825 |  9268825 |\n",
       "\n"
      ],
      "text/plain": [
       "  GENE_NAME ENSG            Tissue                   expr      CHR START   \n",
       "1 A1BG      ENSG00000121410 Liver                     395.9050 19  58856544\n",
       "2 A1CF      ENSG00000148584 Liver                      36.4873 10  52559169\n",
       "3 A2M       ENSG00000175899 Adrenal_Gland             157.0530 12   9220260\n",
       "4 A2M       ENSG00000175899 Muscle_Skeletal            63.9648 12   9220260\n",
       "5 A2M       ENSG00000175899 Artery_Aorta             1643.7600 12   9220260\n",
       "6 A2M       ENSG00000175899 Adipose_Visceral_Omentum  683.1650 12   9220260\n",
       "  END      TSS     \n",
       "1 58864865 58864865\n",
       "2 52645435 52645435\n",
       "3  9268825  9268825\n",
       "4  9268825  9268825\n",
       "5  9268825  9268825\n",
       "6  9268825  9268825"
      ]
     },
     "metadata": {},
     "output_type": "display_data"
    }
   ],
   "source": [
    "head(final_df)"
   ]
  },
  {
   "cell_type": "code",
   "execution_count": 10,
   "id": "6a107740",
   "metadata": {},
   "outputs": [
    {
     "data": {
      "text/html": [
       "<table class=\"dataframe\">\n",
       "<caption>A data.frame: 2 × 8</caption>\n",
       "<thead>\n",
       "\t<tr><th scope=col>GENE_NAME</th><th scope=col>ENSG</th><th scope=col>Tissue</th><th scope=col>expr</th><th scope=col>CHR</th><th scope=col>START</th><th scope=col>END</th><th scope=col>TSS</th></tr>\n",
       "\t<tr><th scope=col>&lt;chr&gt;</th><th scope=col>&lt;chr&gt;</th><th scope=col>&lt;fct&gt;</th><th scope=col>&lt;dbl&gt;</th><th scope=col>&lt;int&gt;</th><th scope=col>&lt;int&gt;</th><th scope=col>&lt;int&gt;</th><th scope=col>&lt;int&gt;</th></tr>\n",
       "</thead>\n",
       "<tbody>\n",
       "\t<tr><td>ADIPOQ</td><td>ENSG00000181092</td><td>Adipose_Visceral_Omentum</td><td>502.093</td><td>3</td><td>186560463</td><td>186576252</td><td>186560463</td></tr>\n",
       "\t<tr><td>ADIPOQ</td><td>ENSG00000181092</td><td>Adipose_Subcutaneous    </td><td>564.667</td><td>3</td><td>186560463</td><td>186576252</td><td>186560463</td></tr>\n",
       "</tbody>\n",
       "</table>\n"
      ],
      "text/latex": [
       "A data.frame: 2 × 8\n",
       "\\begin{tabular}{llllllll}\n",
       " GENE\\_NAME & ENSG & Tissue & expr & CHR & START & END & TSS\\\\\n",
       " <chr> & <chr> & <fct> & <dbl> & <int> & <int> & <int> & <int>\\\\\n",
       "\\hline\n",
       "\t ADIPOQ & ENSG00000181092 & Adipose\\_Visceral\\_Omentum & 502.093 & 3 & 186560463 & 186576252 & 186560463\\\\\n",
       "\t ADIPOQ & ENSG00000181092 & Adipose\\_Subcutaneous     & 564.667 & 3 & 186560463 & 186576252 & 186560463\\\\\n",
       "\\end{tabular}\n"
      ],
      "text/markdown": [
       "\n",
       "A data.frame: 2 × 8\n",
       "\n",
       "| GENE_NAME &lt;chr&gt; | ENSG &lt;chr&gt; | Tissue &lt;fct&gt; | expr &lt;dbl&gt; | CHR &lt;int&gt; | START &lt;int&gt; | END &lt;int&gt; | TSS &lt;int&gt; |\n",
       "|---|---|---|---|---|---|---|---|\n",
       "| ADIPOQ | ENSG00000181092 | Adipose_Visceral_Omentum | 502.093 | 3 | 186560463 | 186576252 | 186560463 |\n",
       "| ADIPOQ | ENSG00000181092 | Adipose_Subcutaneous     | 564.667 | 3 | 186560463 | 186576252 | 186560463 |\n",
       "\n"
      ],
      "text/plain": [
       "  GENE_NAME ENSG            Tissue                   expr    CHR START    \n",
       "1 ADIPOQ    ENSG00000181092 Adipose_Visceral_Omentum 502.093 3   186560463\n",
       "2 ADIPOQ    ENSG00000181092 Adipose_Subcutaneous     564.667 3   186560463\n",
       "  END       TSS      \n",
       "1 186576252 186560463\n",
       "2 186576252 186560463"
      ]
     },
     "metadata": {},
     "output_type": "display_data"
    }
   ],
   "source": [
    "final_df%>%filter(GENE_NAME==\"ADIPOQ\")"
   ]
  },
  {
   "cell_type": "code",
   "execution_count": 11,
   "id": "f384854e",
   "metadata": {},
   "outputs": [
    {
     "data": {
      "text/html": [
       "<style>\n",
       ".list-inline {list-style: none; margin:0; padding: 0}\n",
       ".list-inline>li {display: inline-block}\n",
       ".list-inline>li:not(:last-child)::after {content: \"\\00b7\"; padding: 0 .5ex}\n",
       "</style>\n",
       "<ol class=list-inline><li>19</li><li>10</li><li>12</li><li>22</li><li>3</li><li>4</li><li>9</li><li>15</li><li>11</li><li>2</li><li>20</li><li>16</li><li>17</li><li>7</li><li>1</li><li>14</li><li>6</li><li>21</li><li>18</li><li>5</li><li>8</li><li>13</li></ol>\n"
      ],
      "text/latex": [
       "\\begin{enumerate*}\n",
       "\\item 19\n",
       "\\item 10\n",
       "\\item 12\n",
       "\\item 22\n",
       "\\item 3\n",
       "\\item 4\n",
       "\\item 9\n",
       "\\item 15\n",
       "\\item 11\n",
       "\\item 2\n",
       "\\item 20\n",
       "\\item 16\n",
       "\\item 17\n",
       "\\item 7\n",
       "\\item 1\n",
       "\\item 14\n",
       "\\item 6\n",
       "\\item 21\n",
       "\\item 18\n",
       "\\item 5\n",
       "\\item 8\n",
       "\\item 13\n",
       "\\end{enumerate*}\n"
      ],
      "text/markdown": [
       "1. 19\n",
       "2. 10\n",
       "3. 12\n",
       "4. 22\n",
       "5. 3\n",
       "6. 4\n",
       "7. 9\n",
       "8. 15\n",
       "9. 11\n",
       "10. 2\n",
       "11. 20\n",
       "12. 16\n",
       "13. 17\n",
       "14. 7\n",
       "15. 1\n",
       "16. 14\n",
       "17. 6\n",
       "18. 21\n",
       "19. 18\n",
       "20. 5\n",
       "21. 8\n",
       "22. 13\n",
       "\n",
       "\n"
      ],
      "text/plain": [
       " [1] 19 10 12 22  3  4  9 15 11  2 20 16 17  7  1 14  6 21 18  5  8 13"
      ]
     },
     "metadata": {},
     "output_type": "display_data"
    }
   ],
   "source": [
    "unique(final_df$CHR)"
   ]
  },
  {
   "cell_type": "code",
   "execution_count": null,
   "id": "727431e2",
   "metadata": {},
   "outputs": [],
   "source": [
    "#METSIM"
   ]
  },
  {
   "cell_type": "code",
   "execution_count": 13,
   "id": "ea70e789",
   "metadata": {},
   "outputs": [],
   "source": [
    "lead <- read.table(\"../../ANALYSIS/lead_metsim_3mb_merged.txt\",fill=TRUE,header=TRUE)\n",
    "tissues <- unique(final_df$Tissue)"
   ]
  },
  {
   "cell_type": "code",
   "execution_count": 14,
   "id": "2635b751",
   "metadata": {},
   "outputs": [
    {
     "data": {
      "text/html": [
       "<style>\n",
       ".list-inline {list-style: none; margin:0; padding: 0}\n",
       ".list-inline>li {display: inline-block}\n",
       ".list-inline>li:not(:last-child)::after {content: \"\\00b7\"; padding: 0 .5ex}\n",
       "</style>\n",
       "<ol class=list-inline><li>2</li><li>3</li><li>4</li><li>5</li><li>11</li><li>14</li><li>16</li></ol>\n"
      ],
      "text/latex": [
       "\\begin{enumerate*}\n",
       "\\item 2\n",
       "\\item 3\n",
       "\\item 4\n",
       "\\item 5\n",
       "\\item 11\n",
       "\\item 14\n",
       "\\item 16\n",
       "\\end{enumerate*}\n"
      ],
      "text/markdown": [
       "1. 2\n",
       "2. 3\n",
       "3. 4\n",
       "4. 5\n",
       "5. 11\n",
       "6. 14\n",
       "7. 16\n",
       "\n",
       "\n"
      ],
      "text/plain": [
       "[1]  2  3  4  5 11 14 16"
      ]
     },
     "metadata": {},
     "output_type": "display_data"
    }
   ],
   "source": [
    "unique(lead$CHR)"
   ]
  },
  {
   "cell_type": "code",
   "execution_count": 15,
   "id": "d8b3050c",
   "metadata": {},
   "outputs": [],
   "source": [
    "tissue_df <- data.frame()\n",
    "for (i in seq_along(tissues))\n",
    "{\n",
    "df <- data.frame()\n",
    "tissue <- tissues[i]\n",
    "for (i in 1:nrow(lead) ){\n",
    "   \n",
    "line_q <- lead[i,]\n",
    "chr_q <- as.integer(line_q[1])\n",
    "start_q<- as.integer(line_q[2])\n",
    "end_q <- as.integer(line_q[3])\n",
    "con_df <- final_df%>%filter(Tissue==tissue)%>%filter(CHR==chr_q & START >= start_q & END <= end_q)%>%mutate(Tissue=tissue)\n",
    "df   <- rbind(df ,con_df)   \n",
    "}\n",
    "tmp_df <- df%>%select(Tissue,CHR,GENE_NAME,TSS)%>%distinct()\n",
    "tissue_df <-   rbind(tissue_df ,tmp_df) \n",
    "    }"
   ]
  },
  {
   "cell_type": "code",
   "execution_count": 30,
   "id": "64216d34",
   "metadata": {},
   "outputs": [],
   "source": [
    "a <- unique((tissue_df%>%unite(\"CH_G\", CHR:GENE_NAME))$CH_G)\n",
    "write.table(a,\"../../ANALYSIS/GTEX/METSIM//1.txt\",quote=FALSE)"
   ]
  },
  {
   "cell_type": "code",
   "execution_count": 16,
   "id": "0199050b",
   "metadata": {},
   "outputs": [],
   "source": [
    " trans_file <- tissue_df%>%unite(\"CH_G\", CHR:GENE_NAME)"
   ]
  },
  {
   "cell_type": "code",
   "execution_count": 18,
   "id": "6660387f",
   "metadata": {},
   "outputs": [],
   "source": [
    "ldsc_trans <- read.table(\"../../ANALYSIS/GTEX/METSIM_LDSC.tab\",fill=TRUE,header=FALSE)\n",
    "colnames(ldsc_trans) <- c(\"CH_G\",\"Enrichment_p\",\"Coefficient_z_score\")"
   ]
  },
  {
   "cell_type": "code",
   "execution_count": 28,
   "id": "6202ca1a",
   "metadata": {},
   "outputs": [],
   "source": [
    "finalfile <- merge(ldsc_trans,trans_file,by=\"CH_G\")%>%separate(CH_G,c(NA,\"GENE\"))\n",
    "write.table(finalfile,\"../../ANALYSIS/GTEX/METSIM_LDSC_RESULTS.TAB\",sep = \"\\t\",row.names=FALSE,quote=FALSE,col.names=TRUE)"
   ]
  },
  {
   "cell_type": "code",
   "execution_count": 11,
   "id": "b85aa149",
   "metadata": {},
   "outputs": [],
   "source": [
    "### Trans variants"
   ]
  },
  {
   "cell_type": "code",
   "execution_count": 12,
   "id": "a0f46e7d",
   "metadata": {},
   "outputs": [],
   "source": [
    "lead <- read.table(\"../../ANALYSIS/lead_transancestry_3mb_merged.txt\",fill=TRUE,header=TRUE)\n",
    "tissues <- unique(final_df$Tissue)"
   ]
  },
  {
   "cell_type": "code",
   "execution_count": 13,
   "id": "ed7c902a",
   "metadata": {},
   "outputs": [
    {
     "data": {
      "text/html": [
       "<style>\n",
       ".list-inline {list-style: none; margin:0; padding: 0}\n",
       ".list-inline>li {display: inline-block}\n",
       ".list-inline>li:not(:last-child)::after {content: \"\\00b7\"; padding: 0 .5ex}\n",
       "</style>\n",
       "<ol class=list-inline><li>1</li><li>2</li><li>3</li><li>4</li><li>5</li><li>6</li><li>8</li><li>10</li><li>11</li><li>12</li><li>16</li><li>17</li><li>19</li></ol>\n"
      ],
      "text/latex": [
       "\\begin{enumerate*}\n",
       "\\item 1\n",
       "\\item 2\n",
       "\\item 3\n",
       "\\item 4\n",
       "\\item 5\n",
       "\\item 6\n",
       "\\item 8\n",
       "\\item 10\n",
       "\\item 11\n",
       "\\item 12\n",
       "\\item 16\n",
       "\\item 17\n",
       "\\item 19\n",
       "\\end{enumerate*}\n"
      ],
      "text/markdown": [
       "1. 1\n",
       "2. 2\n",
       "3. 3\n",
       "4. 4\n",
       "5. 5\n",
       "6. 6\n",
       "7. 8\n",
       "8. 10\n",
       "9. 11\n",
       "10. 12\n",
       "11. 16\n",
       "12. 17\n",
       "13. 19\n",
       "\n",
       "\n"
      ],
      "text/plain": [
       " [1]  1  2  3  4  5  6  8 10 11 12 16 17 19"
      ]
     },
     "metadata": {},
     "output_type": "display_data"
    }
   ],
   "source": [
    "unique(lead$CHR)"
   ]
  },
  {
   "cell_type": "code",
   "execution_count": 15,
   "id": "cbc05a90",
   "metadata": {},
   "outputs": [],
   "source": [
    "tissue_df <- data.frame()\n",
    "for (i in seq_along(tissues))\n",
    "{\n",
    "df <- data.frame()\n",
    "tissue <- tissues[i]\n",
    "for (i in 1:nrow(lead) ){\n",
    "   \n",
    "line_q <- lead[i,]\n",
    "chr_q <- as.integer(line_q[1])\n",
    "start_q<- as.integer(line_q[2])\n",
    "end_q <- as.integer(line_q[3])\n",
    "con_df <- final_df%>%filter(Tissue==tissue)%>%filter(CHR==chr_q & START >= start_q & END <= end_q)%>%mutate(Tissue=tissue)\n",
    "df   <- rbind(df ,con_df)   \n",
    "}\n",
    "tmp_df <- df%>%select(Tissue,CHR,GENE_NAME,TSS)%>%distinct()\n",
    "tissue_df <-   rbind(tissue_df ,tmp_df) \n",
    "    }"
   ]
  },
  {
   "cell_type": "code",
   "execution_count": 16,
   "id": "908746a9",
   "metadata": {},
   "outputs": [],
   "source": [
    " trans_file <- tissue_df%>%unite(\"CH_G\", CHR:GENE_NAME)"
   ]
  },
  {
   "cell_type": "code",
   "execution_count": 17,
   "id": "b82f75b5",
   "metadata": {},
   "outputs": [],
   "source": [
    "ldsc_trans <- read.table(\"../../ANALYSIS/GTEX/LDSC_TRANS.tab\",fill=TRUE,header=FALSE)\n",
    "colnames(ldsc_trans) <- c(\"CH_G\",\"Enrichment_p\",\"Coefficient_z_score\")"
   ]
  },
  {
   "cell_type": "code",
   "execution_count": 22,
   "id": "7e473d29",
   "metadata": {},
   "outputs": [
    {
     "data": {
      "text/html": [
       "<table class=\"dataframe\">\n",
       "<caption>A data.frame: 6 × 5</caption>\n",
       "<thead>\n",
       "\t<tr><th></th><th scope=col>CH_G</th><th scope=col>Enrichment_p</th><th scope=col>Coefficient_z_score</th><th scope=col>Tissue</th><th scope=col>TSS</th></tr>\n",
       "\t<tr><th></th><th scope=col>&lt;chr&gt;</th><th scope=col>&lt;dbl&gt;</th><th scope=col>&lt;dbl&gt;</th><th scope=col>&lt;fct&gt;</th><th scope=col>&lt;int&gt;</th></tr>\n",
       "</thead>\n",
       "<tbody>\n",
       "\t<tr><th scope=row>1</th><td>1_AHCYL1</td><td>0.449643</td><td>0.7574982</td><td>Whole_Blood           </td><td>110527308</td></tr>\n",
       "\t<tr><th scope=row>2</th><td>1_AHCYL1</td><td>0.449643</td><td>0.7574982</td><td>Kidney_Cortex         </td><td>110527308</td></tr>\n",
       "\t<tr><th scope=row>3</th><td>1_AHCYL1</td><td>0.449643</td><td>0.7574982</td><td>Adrenal_Gland         </td><td>110527308</td></tr>\n",
       "\t<tr><th scope=row>4</th><td>1_AHCYL1</td><td>0.449643</td><td>0.7574982</td><td>Liver                 </td><td>110527308</td></tr>\n",
       "\t<tr><th scope=row>5</th><td>1_AHCYL1</td><td>0.449643</td><td>0.7574982</td><td>Artery_Coronary       </td><td>110527308</td></tr>\n",
       "\t<tr><th scope=row>6</th><td>1_AHCYL1</td><td>0.449643</td><td>0.7574982</td><td>Heart_Atrial_Appendage</td><td>110527308</td></tr>\n",
       "</tbody>\n",
       "</table>\n"
      ],
      "text/latex": [
       "A data.frame: 6 × 5\n",
       "\\begin{tabular}{r|lllll}\n",
       "  & CH\\_G & Enrichment\\_p & Coefficient\\_z\\_score & Tissue & TSS\\\\\n",
       "  & <chr> & <dbl> & <dbl> & <fct> & <int>\\\\\n",
       "\\hline\n",
       "\t1 & 1\\_AHCYL1 & 0.449643 & 0.7574982 & Whole\\_Blood            & 110527308\\\\\n",
       "\t2 & 1\\_AHCYL1 & 0.449643 & 0.7574982 & Kidney\\_Cortex          & 110527308\\\\\n",
       "\t3 & 1\\_AHCYL1 & 0.449643 & 0.7574982 & Adrenal\\_Gland          & 110527308\\\\\n",
       "\t4 & 1\\_AHCYL1 & 0.449643 & 0.7574982 & Liver                  & 110527308\\\\\n",
       "\t5 & 1\\_AHCYL1 & 0.449643 & 0.7574982 & Artery\\_Coronary        & 110527308\\\\\n",
       "\t6 & 1\\_AHCYL1 & 0.449643 & 0.7574982 & Heart\\_Atrial\\_Appendage & 110527308\\\\\n",
       "\\end{tabular}\n"
      ],
      "text/markdown": [
       "\n",
       "A data.frame: 6 × 5\n",
       "\n",
       "| <!--/--> | CH_G &lt;chr&gt; | Enrichment_p &lt;dbl&gt; | Coefficient_z_score &lt;dbl&gt; | Tissue &lt;fct&gt; | TSS &lt;int&gt; |\n",
       "|---|---|---|---|---|---|\n",
       "| 1 | 1_AHCYL1 | 0.449643 | 0.7574982 | Whole_Blood            | 110527308 |\n",
       "| 2 | 1_AHCYL1 | 0.449643 | 0.7574982 | Kidney_Cortex          | 110527308 |\n",
       "| 3 | 1_AHCYL1 | 0.449643 | 0.7574982 | Adrenal_Gland          | 110527308 |\n",
       "| 4 | 1_AHCYL1 | 0.449643 | 0.7574982 | Liver                  | 110527308 |\n",
       "| 5 | 1_AHCYL1 | 0.449643 | 0.7574982 | Artery_Coronary        | 110527308 |\n",
       "| 6 | 1_AHCYL1 | 0.449643 | 0.7574982 | Heart_Atrial_Appendage | 110527308 |\n",
       "\n"
      ],
      "text/plain": [
       "  CH_G     Enrichment_p Coefficient_z_score Tissue                 TSS      \n",
       "1 1_AHCYL1 0.449643     0.7574982           Whole_Blood            110527308\n",
       "2 1_AHCYL1 0.449643     0.7574982           Kidney_Cortex          110527308\n",
       "3 1_AHCYL1 0.449643     0.7574982           Adrenal_Gland          110527308\n",
       "4 1_AHCYL1 0.449643     0.7574982           Liver                  110527308\n",
       "5 1_AHCYL1 0.449643     0.7574982           Artery_Coronary        110527308\n",
       "6 1_AHCYL1 0.449643     0.7574982           Heart_Atrial_Appendage 110527308"
      ]
     },
     "metadata": {},
     "output_type": "display_data"
    }
   ],
   "source": [
    "head(finalfile)"
   ]
  },
  {
   "cell_type": "code",
   "execution_count": 24,
   "id": "061fdd97",
   "metadata": {},
   "outputs": [],
   "source": [
    "finalfile <- merge(ldsc_trans,trans_file,by=\"CH_G\")\n",
    "write.table(finalfile,\"../../ANALYSIS/GTEX/TRANS_LDSC_RESULTS.TAB\",sep = \"\\t\",row.names=FALSE,quote=FALSE,col.names=TRUE)"
   ]
  },
  {
   "cell_type": "code",
   "execution_count": 18,
   "id": "d622897b",
   "metadata": {},
   "outputs": [],
   "source": [
    "lead_snp <- read.table(\"../../ANALYSIS/TRANSANCESTRY_LEAD.TAB\",fill=TRUE,header=TRUE)%>%select(CHROMOSOME,POSITION)"
   ]
  },
  {
   "cell_type": "code",
   "execution_count": 36,
   "id": "744a8364",
   "metadata": {},
   "outputs": [],
   "source": [
    "df <- data.frame()\n",
    "for (i in 1:nrow(lead_snp) ){\n",
    "line_q <- lead[i,]\n",
    "chr_q <- as.integer(line_q[1])\n",
    "start_q<- as.integer(line_q[2])\n",
    "end_q <- as.integer(line_q[3])\n",
    "con_df <- tissue_df%>%filter(CHR==chr_q & abs(TSS-start_q) < 500000)\n",
    "df   <- rbind(df ,con_df)\n",
    "}"
   ]
  },
  {
   "cell_type": "code",
   "execution_count": 30,
   "id": "8fc2e7cb",
   "metadata": {},
   "outputs": [
    {
     "data": {
      "text/html": [
       "<table class=\"dataframe\">\n",
       "<caption>A data.frame: 6 × 43</caption>\n",
       "<thead>\n",
       "\t<tr><th></th><th scope=col>MARKERNAME</th><th scope=col>CHROMOSOME</th><th scope=col>POSITION</th><th scope=col>PVALUE_FE</th><th scope=col>ADIPO_EA</th><th scope=col>ADIPO_NEA</th><th scope=col>ADIPO_EAF</th><th scope=col>ADIPO_N</th><th scope=col>ADIPO_BETA</th><th scope=col>ADIPO_SE</th><th scope=col>...</th><th scope=col>PVALUE_BE</th><th scope=col>I_SQUARE</th><th scope=col>Q</th><th scope=col>PVALUE_Q</th><th scope=col>TAU_SQUARE</th><th scope=col>PVALUE_ADIPOGEN</th><th scope=col>PVALUE_AGEN</th><th scope=col>PVALUE_METSIM</th><th scope=col>TOTAL_N</th><th scope=col>MAF_AVG</th></tr>\n",
       "\t<tr><th></th><th scope=col>&lt;chr&gt;</th><th scope=col>&lt;int&gt;</th><th scope=col>&lt;int&gt;</th><th scope=col>&lt;dbl&gt;</th><th scope=col>&lt;chr&gt;</th><th scope=col>&lt;chr&gt;</th><th scope=col>&lt;dbl&gt;</th><th scope=col>&lt;int&gt;</th><th scope=col>&lt;dbl&gt;</th><th scope=col>&lt;dbl&gt;</th><th scope=col>...</th><th scope=col>&lt;lgl&gt;</th><th scope=col>&lt;dbl&gt;</th><th scope=col>&lt;dbl&gt;</th><th scope=col>&lt;dbl&gt;</th><th scope=col>&lt;dbl&gt;</th><th scope=col>&lt;dbl&gt;</th><th scope=col>&lt;dbl&gt;</th><th scope=col>&lt;dbl&gt;</th><th scope=col>&lt;int&gt;</th><th scope=col>&lt;dbl&gt;</th></tr>\n",
       "</thead>\n",
       "<tbody>\n",
       "\t<tr><th scope=row>1</th><td>rs333947  </td><td>1</td><td>110470764</td><td>1.22e-08</td><td>A</td><td>G</td><td>0.15000</td><td>29278</td><td>-0.027511</td><td>0.006127</td><td>...</td><td>NA</td><td>42.4997</td><td> 3.47825</td><td>0.17567400</td><td>0.000137796</td><td>7.12e-06</td><td>0.030960800</td><td>8.53940e-04</td><td>46340</td><td>0.17795706</td></tr>\n",
       "\t<tr><th scope=row>2</th><td>rs2061155 </td><td>1</td><td>219665008</td><td>5.34e-09</td><td>T</td><td>C</td><td>0.40000</td><td>29343</td><td>-0.021407</td><td>0.004436</td><td>...</td><td>NA</td><td>70.5095</td><td> 6.78185</td><td>0.03367760</td><td>0.000320891</td><td>1.39e-06</td><td>0.264044000</td><td>5.38000e-05</td><td>46406</td><td>0.38924444</td></tr>\n",
       "\t<tr><th scope=row>3</th><td>rs4846302 </td><td>1</td><td>219730586</td><td>1.22e-08</td><td>C</td><td>G</td><td>0.30000</td><td>29329</td><td> 0.023221</td><td>0.004714</td><td>...</td><td>NA</td><td>11.7892</td><td> 2.26730</td><td>0.32185700</td><td>0.000020800</td><td>8.39e-07</td><td>0.204439000</td><td>2.93076e-03</td><td>46392</td><td>0.29580448</td></tr>\n",
       "\t<tr><th scope=row>4</th><td>rs1515108 </td><td>2</td><td>227123086</td><td>2.30e-11</td><td>T</td><td>C</td><td>0.38330</td><td>29307</td><td>-0.022317</td><td>0.004498</td><td>...</td><td>NA</td><td>89.5623</td><td>19.16130</td><td>0.00006910</td><td>0.001659990</td><td>6.99e-07</td><td>0.015856000</td><td>7.40000e-09</td><td>46370</td><td>0.47467269</td></tr>\n",
       "\t<tr><th scope=row>5</th><td>rs1108842 </td><td>3</td><td> 52720080</td><td>7.04e-16</td><td>C</td><td>A</td><td>0.45830</td><td>29338</td><td> 0.029927</td><td>0.004382</td><td>...</td><td>NA</td><td>78.5503</td><td> 9.32415</td><td>0.00944685</td><td>0.000467016</td><td>8.52e-12</td><td>0.112959000</td><td>4.93000e-07</td><td>46400</td><td>0.47987450</td></tr>\n",
       "\t<tr><th scope=row>6</th><td>rs17366568</td><td>3</td><td>186570453</td><td>7.85e-99</td><td>A</td><td>G</td><td>0.09167</td><td>24865</td><td>-0.154104</td><td>0.008685</td><td>...</td><td>NA</td><td>89.4243</td><td>18.91130</td><td>0.00007820</td><td>0.004113410</td><td>1.93e-70</td><td>0.000262156</td><td>2.01000e-31</td><td>38849</td><td>0.09459874</td></tr>\n",
       "</tbody>\n",
       "</table>\n"
      ],
      "text/latex": [
       "A data.frame: 6 × 43\n",
       "\\begin{tabular}{r|lllllllllllllllllllll}\n",
       "  & MARKERNAME & CHROMOSOME & POSITION & PVALUE\\_FE & ADIPO\\_EA & ADIPO\\_NEA & ADIPO\\_EAF & ADIPO\\_N & ADIPO\\_BETA & ADIPO\\_SE & ... & PVALUE\\_BE & I\\_SQUARE & Q & PVALUE\\_Q & TAU\\_SQUARE & PVALUE\\_ADIPOGEN & PVALUE\\_AGEN & PVALUE\\_METSIM & TOTAL\\_N & MAF\\_AVG\\\\\n",
       "  & <chr> & <int> & <int> & <dbl> & <chr> & <chr> & <dbl> & <int> & <dbl> & <dbl> & ... & <lgl> & <dbl> & <dbl> & <dbl> & <dbl> & <dbl> & <dbl> & <dbl> & <int> & <dbl>\\\\\n",
       "\\hline\n",
       "\t1 & rs333947   & 1 & 110470764 & 1.22e-08 & A & G & 0.15000 & 29278 & -0.027511 & 0.006127 & ... & NA & 42.4997 &  3.47825 & 0.17567400 & 0.000137796 & 7.12e-06 & 0.030960800 & 8.53940e-04 & 46340 & 0.17795706\\\\\n",
       "\t2 & rs2061155  & 1 & 219665008 & 5.34e-09 & T & C & 0.40000 & 29343 & -0.021407 & 0.004436 & ... & NA & 70.5095 &  6.78185 & 0.03367760 & 0.000320891 & 1.39e-06 & 0.264044000 & 5.38000e-05 & 46406 & 0.38924444\\\\\n",
       "\t3 & rs4846302  & 1 & 219730586 & 1.22e-08 & C & G & 0.30000 & 29329 &  0.023221 & 0.004714 & ... & NA & 11.7892 &  2.26730 & 0.32185700 & 0.000020800 & 8.39e-07 & 0.204439000 & 2.93076e-03 & 46392 & 0.29580448\\\\\n",
       "\t4 & rs1515108  & 2 & 227123086 & 2.30e-11 & T & C & 0.38330 & 29307 & -0.022317 & 0.004498 & ... & NA & 89.5623 & 19.16130 & 0.00006910 & 0.001659990 & 6.99e-07 & 0.015856000 & 7.40000e-09 & 46370 & 0.47467269\\\\\n",
       "\t5 & rs1108842  & 3 &  52720080 & 7.04e-16 & C & A & 0.45830 & 29338 &  0.029927 & 0.004382 & ... & NA & 78.5503 &  9.32415 & 0.00944685 & 0.000467016 & 8.52e-12 & 0.112959000 & 4.93000e-07 & 46400 & 0.47987450\\\\\n",
       "\t6 & rs17366568 & 3 & 186570453 & 7.85e-99 & A & G & 0.09167 & 24865 & -0.154104 & 0.008685 & ... & NA & 89.4243 & 18.91130 & 0.00007820 & 0.004113410 & 1.93e-70 & 0.000262156 & 2.01000e-31 & 38849 & 0.09459874\\\\\n",
       "\\end{tabular}\n"
      ],
      "text/markdown": [
       "\n",
       "A data.frame: 6 × 43\n",
       "\n",
       "| <!--/--> | MARKERNAME &lt;chr&gt; | CHROMOSOME &lt;int&gt; | POSITION &lt;int&gt; | PVALUE_FE &lt;dbl&gt; | ADIPO_EA &lt;chr&gt; | ADIPO_NEA &lt;chr&gt; | ADIPO_EAF &lt;dbl&gt; | ADIPO_N &lt;int&gt; | ADIPO_BETA &lt;dbl&gt; | ADIPO_SE &lt;dbl&gt; | ... ... | PVALUE_BE &lt;lgl&gt; | I_SQUARE &lt;dbl&gt; | Q &lt;dbl&gt; | PVALUE_Q &lt;dbl&gt; | TAU_SQUARE &lt;dbl&gt; | PVALUE_ADIPOGEN &lt;dbl&gt; | PVALUE_AGEN &lt;dbl&gt; | PVALUE_METSIM &lt;dbl&gt; | TOTAL_N &lt;int&gt; | MAF_AVG &lt;dbl&gt; |\n",
       "|---|---|---|---|---|---|---|---|---|---|---|---|---|---|---|---|---|---|---|---|---|---|\n",
       "| 1 | rs333947   | 1 | 110470764 | 1.22e-08 | A | G | 0.15000 | 29278 | -0.027511 | 0.006127 | ... | NA | 42.4997 |  3.47825 | 0.17567400 | 0.000137796 | 7.12e-06 | 0.030960800 | 8.53940e-04 | 46340 | 0.17795706 |\n",
       "| 2 | rs2061155  | 1 | 219665008 | 5.34e-09 | T | C | 0.40000 | 29343 | -0.021407 | 0.004436 | ... | NA | 70.5095 |  6.78185 | 0.03367760 | 0.000320891 | 1.39e-06 | 0.264044000 | 5.38000e-05 | 46406 | 0.38924444 |\n",
       "| 3 | rs4846302  | 1 | 219730586 | 1.22e-08 | C | G | 0.30000 | 29329 |  0.023221 | 0.004714 | ... | NA | 11.7892 |  2.26730 | 0.32185700 | 0.000020800 | 8.39e-07 | 0.204439000 | 2.93076e-03 | 46392 | 0.29580448 |\n",
       "| 4 | rs1515108  | 2 | 227123086 | 2.30e-11 | T | C | 0.38330 | 29307 | -0.022317 | 0.004498 | ... | NA | 89.5623 | 19.16130 | 0.00006910 | 0.001659990 | 6.99e-07 | 0.015856000 | 7.40000e-09 | 46370 | 0.47467269 |\n",
       "| 5 | rs1108842  | 3 |  52720080 | 7.04e-16 | C | A | 0.45830 | 29338 |  0.029927 | 0.004382 | ... | NA | 78.5503 |  9.32415 | 0.00944685 | 0.000467016 | 8.52e-12 | 0.112959000 | 4.93000e-07 | 46400 | 0.47987450 |\n",
       "| 6 | rs17366568 | 3 | 186570453 | 7.85e-99 | A | G | 0.09167 | 24865 | -0.154104 | 0.008685 | ... | NA | 89.4243 | 18.91130 | 0.00007820 | 0.004113410 | 1.93e-70 | 0.000262156 | 2.01000e-31 | 38849 | 0.09459874 |\n",
       "\n"
      ],
      "text/plain": [
       "  MARKERNAME CHROMOSOME POSITION  PVALUE_FE ADIPO_EA ADIPO_NEA ADIPO_EAF\n",
       "1 rs333947   1          110470764 1.22e-08  A        G         0.15000  \n",
       "2 rs2061155  1          219665008 5.34e-09  T        C         0.40000  \n",
       "3 rs4846302  1          219730586 1.22e-08  C        G         0.30000  \n",
       "4 rs1515108  2          227123086 2.30e-11  T        C         0.38330  \n",
       "5 rs1108842  3           52720080 7.04e-16  C        A         0.45830  \n",
       "6 rs17366568 3          186570453 7.85e-99  A        G         0.09167  \n",
       "  ADIPO_N ADIPO_BETA ADIPO_SE ... PVALUE_BE I_SQUARE Q        PVALUE_Q  \n",
       "1 29278   -0.027511  0.006127 ... NA        42.4997   3.47825 0.17567400\n",
       "2 29343   -0.021407  0.004436 ... NA        70.5095   6.78185 0.03367760\n",
       "3 29329    0.023221  0.004714 ... NA        11.7892   2.26730 0.32185700\n",
       "4 29307   -0.022317  0.004498 ... NA        89.5623  19.16130 0.00006910\n",
       "5 29338    0.029927  0.004382 ... NA        78.5503   9.32415 0.00944685\n",
       "6 24865   -0.154104  0.008685 ... NA        89.4243  18.91130 0.00007820\n",
       "  TAU_SQUARE  PVALUE_ADIPOGEN PVALUE_AGEN PVALUE_METSIM TOTAL_N MAF_AVG   \n",
       "1 0.000137796 7.12e-06        0.030960800 8.53940e-04   46340   0.17795706\n",
       "2 0.000320891 1.39e-06        0.264044000 5.38000e-05   46406   0.38924444\n",
       "3 0.000020800 8.39e-07        0.204439000 2.93076e-03   46392   0.29580448\n",
       "4 0.001659990 6.99e-07        0.015856000 7.40000e-09   46370   0.47467269\n",
       "5 0.000467016 8.52e-12        0.112959000 4.93000e-07   46400   0.47987450\n",
       "6 0.004113410 1.93e-70        0.000262156 2.01000e-31   38849   0.09459874"
      ]
     },
     "metadata": {},
     "output_type": "display_data"
    }
   ],
   "source": [
    "head(lead_snp)"
   ]
  },
  {
   "cell_type": "code",
   "execution_count": 158,
   "id": "a5f7e938",
   "metadata": {},
   "outputs": [],
   "source": [
    "test <- merge(ldsc_trans,trans_file,by=\"CH_G\")%>% mutate(p=pnorm(q=Coefficient_z_score, lower.tail=FALSE))%>% group_by(CH_G)  %>% mutate(pval.adj = p.adjust (p, method='BH'))\n",
    "write.table(test,\"../../ANALYSIS/GTEX/TRANS_LDSC_RESULTS.TAB\",sep = \"\\t\",row.names=FALSE,quote=FALSE,col.names=TRUE)"
   ]
  },
  {
   "cell_type": "code",
   "execution_count": 26,
   "id": "a18a7dd5",
   "metadata": {},
   "outputs": [],
   "source": [
    "write.table(tissue_df%>%distinct(GENE_NAME,CHR),\"../../ANALYSIS/GTEX/TRANS/MASTER_SPLIT.TAB\",sep = \"\\t\",row.names=FALSE,quote=FALSE,col.names=FALSE)"
   ]
  },
  {
   "cell_type": "code",
   "execution_count": 62,
   "id": "45c2c7a2",
   "metadata": {},
   "outputs": [],
   "source": [
    "tissue_df <- data.frame()\n",
    "for (i in seq_along(tissues))\n",
    "{\n",
    "df <- data.frame()\n",
    "tissue <- tissues[i]\n",
    "for (i in 1:nrow(lead) ){\n",
    "   \n",
    "line_q <- lead[i,]\n",
    "chr_q <- as.integer(line_q[1])\n",
    "start_q<- as.integer(line_q[2])\n",
    "end_q <- as.integer(line_q[3])\n",
    "con_df <- final_df%>%filter(Tissue==tissue)%>%filter(CHR==chr_q & START >= start_q & END <= end_q)%>%mutate(Tissue=tissue)\n",
    "df   <- rbind(df ,con_df)   \n",
    "}\n",
    "tmp_df <- df%>%select(GENE_NAME)%>%distinct()\n",
    "file_name <- paste0(\"Trans_\",tissue,\".tab\")\n",
    "write.table(tmp_df,paste0(\"../../ANALYSIS/GTEX//TRANS/\",file_name),sep = \"\\t\",row.names=FALSE,quote=FALSE,col.names=FALSE)\n",
    "    }"
   ]
  },
  {
   "cell_type": "code",
   "execution_count": null,
   "id": "3044c593",
   "metadata": {},
   "outputs": [],
   "source": []
  },
  {
   "cell_type": "code",
   "execution_count": null,
   "id": "de1449b4",
   "metadata": {},
   "outputs": [],
   "source": [
    "## Eur Variants "
   ]
  },
  {
   "cell_type": "code",
   "execution_count": 27,
   "id": "b3a447a4",
   "metadata": {},
   "outputs": [],
   "source": [
    "lead <- read.table(\"../../ANALYSIS/lead_european_3mb_merged.txt\",fill=TRUE,header=TRUE)"
   ]
  },
  {
   "cell_type": "code",
   "execution_count": 28,
   "id": "05eba6bf",
   "metadata": {},
   "outputs": [],
   "source": [
    "tissue_df <- data.frame()\n",
    "for (i in seq_along(tissues))\n",
    "{\n",
    "df <- data.frame()\n",
    "tissue <- tissues[i]\n",
    "for (i in 1:nrow(lead) ){\n",
    "   \n",
    "line_q <- lead[i,]\n",
    "chr_q <- as.integer(line_q[1])\n",
    "start_q<- as.integer(line_q[2])\n",
    "end_q <- as.integer(line_q[3])\n",
    "con_df <- final_df%>%filter(Tissue==tissue)%>%filter(CHR==chr_q & START >= start_q & END <= end_q)%>%mutate(Tissue=tissue)\n",
    "df   <- rbind(df ,con_df)   \n",
    "}\n",
    "tmp_df <- df%>%select(Tissue,CHR,GENE_NAME,TSS)%>%distinct()\n",
    "tissue_df <-   rbind(tissue_df ,tmp_df) \n",
    "    }"
   ]
  },
  {
   "cell_type": "code",
   "execution_count": 29,
   "id": "6bd062f2",
   "metadata": {},
   "outputs": [],
   "source": [
    "trans_file <- tissue_df%>%unite(\"CH_G\", CHR:GENE_NAME)\n",
    "ldsc_trans <- read.table(\"../../ANALYSIS/GTEX/LDSC_EUR.tab\",fill=TRUE,header=FALSE)\n",
    "colnames(ldsc_trans) <- c(\"CH_G\",\"Enrichment_p\",\"Coefficient_z_score\")\n",
    "finalfile <- merge(ldsc_trans,trans_file,by=\"CH_G\")\n",
    "write.table(finalfile,\"../../ANALYSIS/GTEX/EUR_LDSC_RESULTS.TAB\",sep = \"\\t\",row.names=FALSE,quote=FALSE,col.names=TRUE)"
   ]
  },
  {
   "cell_type": "code",
   "execution_count": null,
   "id": "f072c258",
   "metadata": {},
   "outputs": [],
   "source": [
    "test <- merge(ldsc_trans,trans_file,by=\"CH_G\")%>% mutate(p=pnorm(q=Coefficient_z_score, lower.tail=FALSE))%>% group_by(CH_G)  %>% mutate(pval.adj = p.adjust (p, method='BH'))\n",
    "write.table(test,\"../../ANALYSIS/GTEX/EUR_LDSC_RESULTS.TAB\",sep = \"\\t\",row.names=FALSE,quote=FALSE,col.names=TRUE)"
   ]
  },
  {
   "cell_type": "code",
   "execution_count": 30,
   "id": "7bbe299c",
   "metadata": {},
   "outputs": [],
   "source": [
    "write.table(tissue_df%>%distinct(GENE_NAME,CHR),\"../../ANALYSIS/GTEX//EUR/MASTER_SPLIT.TAB\",sep = \"\\t\",row.names=FALSE,quote=FALSE,col.names=FALSE)"
   ]
  },
  {
   "cell_type": "code",
   "execution_count": 64,
   "id": "3e3e3e4d",
   "metadata": {},
   "outputs": [],
   "source": [
    "tissue_df <- data.frame()\n",
    "for (i in seq_along(tissues))\n",
    "{\n",
    "df <- data.frame()\n",
    "tissue <- tissues[i]\n",
    "for (i in 1:nrow(lead) ){\n",
    "   \n",
    "line_q <- lead[i,]\n",
    "chr_q <- as.integer(line_q[1])\n",
    "start_q<- as.integer(line_q[2])\n",
    "end_q <- as.integer(line_q[3])\n",
    "con_df <- final_df%>%filter(Tissue==tissue)%>%filter(CHR==chr_q & START >= start_q & END <= end_q)%>%mutate(Tissue=tissue)\n",
    "df   <- rbind(df ,con_df)   \n",
    "}\n",
    "tmp_df <- df%>%select(GENE_NAME)%>%distinct()\n",
    "file_name <- paste0(\"Trans_\",tissue,\".tab\")\n",
    "write.table(tmp_df,paste0(\"../../ANALYSIS/GTEX//EUR//\",file_name),sep = \"\\t\",row.names=FALSE,quote=FALSE,col.names=FALSE)\n",
    "    }"
   ]
  },
  {
   "cell_type": "code",
   "execution_count": null,
   "id": "df5cd2d0",
   "metadata": {},
   "outputs": [],
   "source": []
  }
 ],
 "metadata": {
  "kernelspec": {
   "display_name": "R",
   "language": "R",
   "name": "ir"
  },
  "language_info": {
   "codemirror_mode": "r",
   "file_extension": ".r",
   "mimetype": "text/x-r-source",
   "name": "R",
   "pygments_lexer": "r",
   "version": "4.1.2"
  }
 },
 "nbformat": 4,
 "nbformat_minor": 5
}
