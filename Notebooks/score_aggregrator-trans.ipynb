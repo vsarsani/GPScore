{
 "cells": [
  {
   "cell_type": "code",
   "execution_count": 45,
   "id": "bacbb8b2",
   "metadata": {},
   "outputs": [
    {
     "ename": "ERROR",
     "evalue": "Error in library(\"qvalue\"): there is no package called 'qvalue'\n",
     "output_type": "error",
     "traceback": [
      "Error in library(\"qvalue\"): there is no package called 'qvalue'\nTraceback:\n",
      "1. library(\"qvalue\")"
     ]
    }
   ],
   "source": [
    "suppressMessages(suppressWarnings(library(tidyverse)))\n",
    "library('metap')\n",
    "library(\"qvalue\")"
   ]
  },
  {
   "cell_type": "code",
   "execution_count": 46,
   "id": "971fec9e",
   "metadata": {},
   "outputs": [],
   "source": [
    "max_min <- function(x,type){\n",
    "if (type==\"max\"){\n",
    "return (max(as.double(x),na.rm = TRUE))   \n",
    "}\n",
    "else if (type==\"min\") {\n",
    "return (min(as.double(x),na.rm = TRUE))    \n",
    "}  \n",
    "}"
   ]
  },
  {
   "cell_type": "code",
   "execution_count": 47,
   "id": "0ecdc609",
   "metadata": {},
   "outputs": [],
   "source": [
    "top_quartile <- function(x,type){\n",
    "if (type==\"max\"){\n",
    "return (summary(as.double(x))[5])    \n",
    "}\n",
    "else if (type==\"min\") {\n",
    "return (summary(as.double(x))[2])    \n",
    "}  \n",
    "}"
   ]
  },
  {
   "cell_type": "code",
   "execution_count": 48,
   "id": "eb29cd2f",
   "metadata": {},
   "outputs": [],
   "source": [
    "avg_p <- function(x,type){\n",
    "if (type==\"max\"){\n",
    "return (mean(as.double(x),na.rm =TRUE))   \n",
    "}\n",
    "else if (type==\"min\") {\n",
    "return (allmetap(na.omit(x),method=\"sumlog\")$p)   \n",
    "}  \n",
    "}"
   ]
  },
  {
   "cell_type": "code",
   "execution_count": 49,
   "id": "7f3c0e1b",
   "metadata": {},
   "outputs": [],
   "source": [
    "### Load hg19 gene,TSS information"
   ]
  },
  {
   "cell_type": "code",
   "execution_count": 50,
   "id": "8b2ee1ce",
   "metadata": {},
   "outputs": [],
   "source": [
    "gene_annotation<- read.table(\"../../ANALYSIS/gene_annot_jun10.txt\",header=T)"
   ]
  },
  {
   "cell_type": "code",
   "execution_count": 51,
   "id": "bb227f95",
   "metadata": {},
   "outputs": [
    {
     "data": {
      "text/html": [
       "<table class=\"dataframe\">\n",
       "<caption>A data.frame: 6 × 6</caption>\n",
       "<thead>\n",
       "\t<tr><th></th><th scope=col>ENSGID</th><th scope=col>NAME</th><th scope=col>CHR</th><th scope=col>START</th><th scope=col>END</th><th scope=col>TSS</th></tr>\n",
       "\t<tr><th></th><th scope=col>&lt;chr&gt;</th><th scope=col>&lt;chr&gt;</th><th scope=col>&lt;int&gt;</th><th scope=col>&lt;int&gt;</th><th scope=col>&lt;int&gt;</th><th scope=col>&lt;int&gt;</th></tr>\n",
       "</thead>\n",
       "<tbody>\n",
       "\t<tr><th scope=row>1</th><td>ENSG00000186092</td><td>OR4F5 </td><td>1</td><td> 69091</td><td> 70008</td><td> 69091</td></tr>\n",
       "\t<tr><th scope=row>2</th><td>ENSG00000235249</td><td>OR4F29</td><td>1</td><td>367640</td><td>368634</td><td>367640</td></tr>\n",
       "\t<tr><th scope=row>3</th><td>ENSG00000185097</td><td>OR4F16</td><td>1</td><td>621059</td><td>622053</td><td>622053</td></tr>\n",
       "\t<tr><th scope=row>4</th><td>ENSG00000187634</td><td>SAMD11</td><td>1</td><td>860260</td><td>879955</td><td>860260</td></tr>\n",
       "\t<tr><th scope=row>5</th><td>ENSG00000188976</td><td>NOC2L </td><td>1</td><td>879584</td><td>894689</td><td>894689</td></tr>\n",
       "\t<tr><th scope=row>6</th><td>ENSG00000187961</td><td>KLHL17</td><td>1</td><td>895967</td><td>901095</td><td>895967</td></tr>\n",
       "</tbody>\n",
       "</table>\n"
      ],
      "text/latex": [
       "A data.frame: 6 × 6\n",
       "\\begin{tabular}{r|llllll}\n",
       "  & ENSGID & NAME & CHR & START & END & TSS\\\\\n",
       "  & <chr> & <chr> & <int> & <int> & <int> & <int>\\\\\n",
       "\\hline\n",
       "\t1 & ENSG00000186092 & OR4F5  & 1 &  69091 &  70008 &  69091\\\\\n",
       "\t2 & ENSG00000235249 & OR4F29 & 1 & 367640 & 368634 & 367640\\\\\n",
       "\t3 & ENSG00000185097 & OR4F16 & 1 & 621059 & 622053 & 622053\\\\\n",
       "\t4 & ENSG00000187634 & SAMD11 & 1 & 860260 & 879955 & 860260\\\\\n",
       "\t5 & ENSG00000188976 & NOC2L  & 1 & 879584 & 894689 & 894689\\\\\n",
       "\t6 & ENSG00000187961 & KLHL17 & 1 & 895967 & 901095 & 895967\\\\\n",
       "\\end{tabular}\n"
      ],
      "text/markdown": [
       "\n",
       "A data.frame: 6 × 6\n",
       "\n",
       "| <!--/--> | ENSGID &lt;chr&gt; | NAME &lt;chr&gt; | CHR &lt;int&gt; | START &lt;int&gt; | END &lt;int&gt; | TSS &lt;int&gt; |\n",
       "|---|---|---|---|---|---|---|\n",
       "| 1 | ENSG00000186092 | OR4F5  | 1 |  69091 |  70008 |  69091 |\n",
       "| 2 | ENSG00000235249 | OR4F29 | 1 | 367640 | 368634 | 367640 |\n",
       "| 3 | ENSG00000185097 | OR4F16 | 1 | 621059 | 622053 | 622053 |\n",
       "| 4 | ENSG00000187634 | SAMD11 | 1 | 860260 | 879955 | 860260 |\n",
       "| 5 | ENSG00000188976 | NOC2L  | 1 | 879584 | 894689 | 894689 |\n",
       "| 6 | ENSG00000187961 | KLHL17 | 1 | 895967 | 901095 | 895967 |\n",
       "\n"
      ],
      "text/plain": [
       "  ENSGID          NAME   CHR START  END    TSS   \n",
       "1 ENSG00000186092 OR4F5  1    69091  70008  69091\n",
       "2 ENSG00000235249 OR4F29 1   367640 368634 367640\n",
       "3 ENSG00000185097 OR4F16 1   621059 622053 622053\n",
       "4 ENSG00000187634 SAMD11 1   860260 879955 860260\n",
       "5 ENSG00000188976 NOC2L  1   879584 894689 894689\n",
       "6 ENSG00000187961 KLHL17 1   895967 901095 895967"
      ]
     },
     "metadata": {},
     "output_type": "display_data"
    }
   ],
   "source": [
    "head(gene_annotation)"
   ]
  },
  {
   "cell_type": "code",
   "execution_count": 52,
   "id": "553444fb",
   "metadata": {},
   "outputs": [],
   "source": [
    "## Trans"
   ]
  },
  {
   "cell_type": "code",
   "execution_count": 53,
   "id": "e354bb0e",
   "metadata": {},
   "outputs": [],
   "source": [
    "trans_lead <- read.table(\"../../ANALYSIS/TRANSANCESTRY_LEAD.TAB\",header=T)"
   ]
  },
  {
   "cell_type": "code",
   "execution_count": 54,
   "id": "09e19a1f",
   "metadata": {},
   "outputs": [],
   "source": [
    "#gene to variant mapping"
   ]
  },
  {
   "cell_type": "code",
   "execution_count": 55,
   "id": "4e4ef23c",
   "metadata": {},
   "outputs": [],
   "source": [
    "gene_variant <- data.frame()\n",
    "\n",
    "for (i in 1:nrow(trans_lead) ){\n",
    "   \n",
    "line_q <- trans_lead[i,]\n",
    "marker_q <- as.character(line_q[1])\n",
    "chr_q <- as.integer(line_q[2])\n",
    "start_q<- as.integer(line_q[6])\n",
    "end_q <- as.integer(line_q[7])\n",
    "lead_q <- as.integer(line_q[5])\n",
    "position_q <- as.integer(line_q[3])\n",
    "tmp_df <- gene_annotation%>%filter(CHR==chr_q & START >= start_q & END <= end_q)%>%mutate(INDEX=marker_q,WINDOW=lead_q,POSITION=position_q,TSS_DISTANCE=abs(TSS-POSITION))\n",
    "gene_variant <- rbind(gene_variant,tmp_df)\n",
    "}"
   ]
  },
  {
   "cell_type": "code",
   "execution_count": 56,
   "id": "5677e842",
   "metadata": {},
   "outputs": [],
   "source": [
    "###MAGMA"
   ]
  },
  {
   "cell_type": "code",
   "execution_count": 57,
   "id": "cb3b64c8",
   "metadata": {},
   "outputs": [],
   "source": [
    "trans_magma <- read.table(\"../../ANALYSIS/POPS/TRANS_MAGMA.genes.out\",header=T)%>%rename(ENSGID=GENE)\n",
    "gene_variant_1 <- merge(gene_variant,trans_magma,by=\"ENSGID\")%>%select(ENSGID,NAME,CHR.x,START.x,END,TSS,INDEX,WINDOW,POSITION,TSS_DISTANCE,P)%>%rename(CHR=CHR.x,START=START.x,MAGMA_P=P)"
   ]
  },
  {
   "cell_type": "code",
   "execution_count": 58,
   "id": "a3f15419",
   "metadata": {},
   "outputs": [
    {
     "data": {
      "text/html": [
       "<table class=\"dataframe\">\n",
       "<caption>A data.frame: 6 × 11</caption>\n",
       "<thead>\n",
       "\t<tr><th></th><th scope=col>ENSGID</th><th scope=col>NAME</th><th scope=col>CHR</th><th scope=col>START</th><th scope=col>END</th><th scope=col>TSS</th><th scope=col>INDEX</th><th scope=col>WINDOW</th><th scope=col>POSITION</th><th scope=col>TSS_DISTANCE</th><th scope=col>MAGMA_P</th></tr>\n",
       "\t<tr><th></th><th scope=col>&lt;chr&gt;</th><th scope=col>&lt;chr&gt;</th><th scope=col>&lt;int&gt;</th><th scope=col>&lt;int&gt;</th><th scope=col>&lt;int&gt;</th><th scope=col>&lt;int&gt;</th><th scope=col>&lt;chr&gt;</th><th scope=col>&lt;int&gt;</th><th scope=col>&lt;int&gt;</th><th scope=col>&lt;int&gt;</th><th scope=col>&lt;dbl&gt;</th></tr>\n",
       "</thead>\n",
       "<tbody>\n",
       "\t<tr><th scope=row>1</th><td>ENSG00000004700</td><td>RECQL </td><td>12</td><td> 21621845</td><td> 21654603</td><td> 21654603</td><td>rs11045172</td><td>14</td><td> 20470221</td><td>1184382</td><td>6.5270e-03</td></tr>\n",
       "\t<tr><th scope=row>2</th><td>ENSG00000004975</td><td>DVL2  </td><td>17</td><td>  7128660</td><td>  7137864</td><td>  7137864</td><td>rs222852  </td><td>21</td><td>  7140606</td><td>   2742</td><td>1.0485e-09</td></tr>\n",
       "\t<tr><th scope=row>3</th><td>ENSG00000006047</td><td>YBX2  </td><td>17</td><td>  7191571</td><td>  7197934</td><td>  7197934</td><td>rs222852  </td><td>21</td><td>  7140606</td><td>  57328</td><td>1.3405e-09</td></tr>\n",
       "\t<tr><th scope=row>4</th><td>ENSG00000008405</td><td>CRY1  </td><td>12</td><td>107385142</td><td>107487607</td><td>107487607</td><td>rs10778506</td><td>16</td><td>107143260</td><td> 344347</td><td>1.3150e-07</td></tr>\n",
       "\t<tr><th scope=row>5</th><td>ENSG00000010318</td><td>PHF7  </td><td> 3</td><td> 52444673</td><td> 52457657</td><td> 52444673</td><td>rs1108842 </td><td> 4</td><td> 52720080</td><td> 275407</td><td>2.0069e-11</td></tr>\n",
       "\t<tr><th scope=row>6</th><td>ENSG00000010319</td><td>SEMA3G</td><td> 3</td><td> 52467069</td><td> 52479101</td><td> 52479101</td><td>rs1108842 </td><td> 4</td><td> 52720080</td><td> 240979</td><td>1.6328e-11</td></tr>\n",
       "</tbody>\n",
       "</table>\n"
      ],
      "text/latex": [
       "A data.frame: 6 × 11\n",
       "\\begin{tabular}{r|lllllllllll}\n",
       "  & ENSGID & NAME & CHR & START & END & TSS & INDEX & WINDOW & POSITION & TSS\\_DISTANCE & MAGMA\\_P\\\\\n",
       "  & <chr> & <chr> & <int> & <int> & <int> & <int> & <chr> & <int> & <int> & <int> & <dbl>\\\\\n",
       "\\hline\n",
       "\t1 & ENSG00000004700 & RECQL  & 12 &  21621845 &  21654603 &  21654603 & rs11045172 & 14 &  20470221 & 1184382 & 6.5270e-03\\\\\n",
       "\t2 & ENSG00000004975 & DVL2   & 17 &   7128660 &   7137864 &   7137864 & rs222852   & 21 &   7140606 &    2742 & 1.0485e-09\\\\\n",
       "\t3 & ENSG00000006047 & YBX2   & 17 &   7191571 &   7197934 &   7197934 & rs222852   & 21 &   7140606 &   57328 & 1.3405e-09\\\\\n",
       "\t4 & ENSG00000008405 & CRY1   & 12 & 107385142 & 107487607 & 107487607 & rs10778506 & 16 & 107143260 &  344347 & 1.3150e-07\\\\\n",
       "\t5 & ENSG00000010318 & PHF7   &  3 &  52444673 &  52457657 &  52444673 & rs1108842  &  4 &  52720080 &  275407 & 2.0069e-11\\\\\n",
       "\t6 & ENSG00000010319 & SEMA3G &  3 &  52467069 &  52479101 &  52479101 & rs1108842  &  4 &  52720080 &  240979 & 1.6328e-11\\\\\n",
       "\\end{tabular}\n"
      ],
      "text/markdown": [
       "\n",
       "A data.frame: 6 × 11\n",
       "\n",
       "| <!--/--> | ENSGID &lt;chr&gt; | NAME &lt;chr&gt; | CHR &lt;int&gt; | START &lt;int&gt; | END &lt;int&gt; | TSS &lt;int&gt; | INDEX &lt;chr&gt; | WINDOW &lt;int&gt; | POSITION &lt;int&gt; | TSS_DISTANCE &lt;int&gt; | MAGMA_P &lt;dbl&gt; |\n",
       "|---|---|---|---|---|---|---|---|---|---|---|---|\n",
       "| 1 | ENSG00000004700 | RECQL  | 12 |  21621845 |  21654603 |  21654603 | rs11045172 | 14 |  20470221 | 1184382 | 6.5270e-03 |\n",
       "| 2 | ENSG00000004975 | DVL2   | 17 |   7128660 |   7137864 |   7137864 | rs222852   | 21 |   7140606 |    2742 | 1.0485e-09 |\n",
       "| 3 | ENSG00000006047 | YBX2   | 17 |   7191571 |   7197934 |   7197934 | rs222852   | 21 |   7140606 |   57328 | 1.3405e-09 |\n",
       "| 4 | ENSG00000008405 | CRY1   | 12 | 107385142 | 107487607 | 107487607 | rs10778506 | 16 | 107143260 |  344347 | 1.3150e-07 |\n",
       "| 5 | ENSG00000010318 | PHF7   |  3 |  52444673 |  52457657 |  52444673 | rs1108842  |  4 |  52720080 |  275407 | 2.0069e-11 |\n",
       "| 6 | ENSG00000010319 | SEMA3G |  3 |  52467069 |  52479101 |  52479101 | rs1108842  |  4 |  52720080 |  240979 | 1.6328e-11 |\n",
       "\n"
      ],
      "text/plain": [
       "  ENSGID          NAME   CHR START     END       TSS       INDEX      WINDOW\n",
       "1 ENSG00000004700 RECQL  12   21621845  21654603  21654603 rs11045172 14    \n",
       "2 ENSG00000004975 DVL2   17    7128660   7137864   7137864 rs222852   21    \n",
       "3 ENSG00000006047 YBX2   17    7191571   7197934   7197934 rs222852   21    \n",
       "4 ENSG00000008405 CRY1   12  107385142 107487607 107487607 rs10778506 16    \n",
       "5 ENSG00000010318 PHF7    3   52444673  52457657  52444673 rs1108842   4    \n",
       "6 ENSG00000010319 SEMA3G  3   52467069  52479101  52479101 rs1108842   4    \n",
       "  POSITION  TSS_DISTANCE MAGMA_P   \n",
       "1  20470221 1184382      6.5270e-03\n",
       "2   7140606    2742      1.0485e-09\n",
       "3   7140606   57328      1.3405e-09\n",
       "4 107143260  344347      1.3150e-07\n",
       "5  52720080  275407      2.0069e-11\n",
       "6  52720080  240979      1.6328e-11"
      ]
     },
     "metadata": {},
     "output_type": "display_data"
    }
   ],
   "source": [
    "head(gene_variant_1)"
   ]
  },
  {
   "cell_type": "code",
   "execution_count": 59,
   "id": "c971eb75",
   "metadata": {},
   "outputs": [],
   "source": [
    "## Colocalization"
   ]
  },
  {
   "cell_type": "code",
   "execution_count": 60,
   "id": "8e5c8484",
   "metadata": {},
   "outputs": [],
   "source": [
    "trans_coloc <- read.table(\"../../ANALYSIS/COLOC_SUSIE/TRANS_ANCESTRY_COLOC_H4.TAB\",header=T)%>%rename(ENSGID=Probe)%>%select(ENSGID,Tissue,H4_abf)"
   ]
  },
  {
   "cell_type": "code",
   "execution_count": 61,
   "id": "22add4f9",
   "metadata": {},
   "outputs": [],
   "source": [
    "#trans_coloc_2 <- read.table(\"../../ANALYSIS/GTEX/TRANS_EQTL_OVERLAPS.txt\",header=T)\n",
    "#trans_coloc_2 <- merge(gene_variant_1,trans_coloc_2,by=\"NAME\")%>%select(ENSGID,Tissue,H4_abf)\n",
    "#trans_coloc <- rbind(trans_coloc_1,trans_coloc_2)"
   ]
  },
  {
   "cell_type": "code",
   "execution_count": 62,
   "id": "4841d33f",
   "metadata": {},
   "outputs": [],
   "source": [
    "##max-min"
   ]
  },
  {
   "cell_type": "code",
   "execution_count": 63,
   "id": "d1942428",
   "metadata": {},
   "outputs": [],
   "source": [
    "gene_variant_2<- data.frame()\n",
    "for (i in 1:nrow(gene_variant_1) ){\n",
    "line_q <- gene_variant_1[i,]\n",
    "ensg_q <- as.character(line_q[1])\n",
    "genep<- nrow(trans_coloc%>%filter(ENSGID==ensg_q))\n",
    "if (genep>0){\n",
    "c_df <- trans_coloc%>%filter(ENSGID==ensg_q)%>%select(Tissue,H4_abf)%>%mutate(weight = case_when(grepl(\"Artery|Adipose|Heart\", Tissue) ~ \"1\",TRUE ~ '0.8'))\n",
    "pip_coloc <- max(c_df$H4_abf)\n",
    "coloc_weight <- max(as.double((c_df%>%filter(H4_abf==pip_coloc))$weight))\n",
    "}else {\n",
    "pip_coloc <- 0\n",
    "coloc_weight <- 0\n",
    "}\n",
    "tmp_df <- gene_variant_1[i,]%>%mutate(coloc_pip=pip_coloc,coloc_WT=coloc_weight)\n",
    "gene_variant_2 <- rbind(gene_variant_2,tmp_df)\n",
    "}"
   ]
  },
  {
   "cell_type": "code",
   "execution_count": null,
   "id": "98d32801",
   "metadata": {},
   "outputs": [],
   "source": []
  },
  {
   "cell_type": "code",
   "execution_count": 64,
   "id": "1af17864",
   "metadata": {},
   "outputs": [
    {
     "data": {
      "text/html": [
       "<table class=\"dataframe\">\n",
       "<caption>A data.frame: 6 × 13</caption>\n",
       "<thead>\n",
       "\t<tr><th></th><th scope=col>ENSGID</th><th scope=col>NAME</th><th scope=col>CHR</th><th scope=col>START</th><th scope=col>END</th><th scope=col>TSS</th><th scope=col>INDEX</th><th scope=col>WINDOW</th><th scope=col>POSITION</th><th scope=col>TSS_DISTANCE</th><th scope=col>MAGMA_P</th><th scope=col>coloc_pip</th><th scope=col>coloc_WT</th></tr>\n",
       "\t<tr><th></th><th scope=col>&lt;chr&gt;</th><th scope=col>&lt;chr&gt;</th><th scope=col>&lt;int&gt;</th><th scope=col>&lt;int&gt;</th><th scope=col>&lt;int&gt;</th><th scope=col>&lt;int&gt;</th><th scope=col>&lt;chr&gt;</th><th scope=col>&lt;int&gt;</th><th scope=col>&lt;int&gt;</th><th scope=col>&lt;int&gt;</th><th scope=col>&lt;dbl&gt;</th><th scope=col>&lt;dbl&gt;</th><th scope=col>&lt;dbl&gt;</th></tr>\n",
       "</thead>\n",
       "<tbody>\n",
       "\t<tr><th scope=row>1</th><td>ENSG00000004700</td><td>RECQL </td><td>12</td><td> 21621845</td><td> 21654603</td><td> 21654603</td><td>rs11045172</td><td>14</td><td> 20470221</td><td>1184382</td><td>6.5270e-03</td><td>0.0000000</td><td>0.0</td></tr>\n",
       "\t<tr><th scope=row>2</th><td>ENSG00000004975</td><td>DVL2  </td><td>17</td><td>  7128660</td><td>  7137864</td><td>  7137864</td><td>rs222852  </td><td>21</td><td>  7140606</td><td>   2742</td><td>1.0485e-09</td><td>0.0000000</td><td>0.0</td></tr>\n",
       "\t<tr><th scope=row>3</th><td>ENSG00000006047</td><td>YBX2  </td><td>17</td><td>  7191571</td><td>  7197934</td><td>  7197934</td><td>rs222852  </td><td>21</td><td>  7140606</td><td>  57328</td><td>1.3405e-09</td><td>0.5262069</td><td>0.8</td></tr>\n",
       "\t<tr><th scope=row>4</th><td>ENSG00000008405</td><td>CRY1  </td><td>12</td><td>107385142</td><td>107487607</td><td>107487607</td><td>rs10778506</td><td>16</td><td>107143260</td><td> 344347</td><td>1.3150e-07</td><td>0.0000000</td><td>0.0</td></tr>\n",
       "\t<tr><th scope=row>5</th><td>ENSG00000010318</td><td>PHF7  </td><td> 3</td><td> 52444673</td><td> 52457657</td><td> 52444673</td><td>rs1108842 </td><td> 4</td><td> 52720080</td><td> 275407</td><td>2.0069e-11</td><td>0.0000000</td><td>0.0</td></tr>\n",
       "\t<tr><th scope=row>6</th><td>ENSG00000010319</td><td>SEMA3G</td><td> 3</td><td> 52467069</td><td> 52479101</td><td> 52479101</td><td>rs1108842 </td><td> 4</td><td> 52720080</td><td> 240979</td><td>1.6328e-11</td><td>0.0000000</td><td>0.0</td></tr>\n",
       "</tbody>\n",
       "</table>\n"
      ],
      "text/latex": [
       "A data.frame: 6 × 13\n",
       "\\begin{tabular}{r|lllllllllllll}\n",
       "  & ENSGID & NAME & CHR & START & END & TSS & INDEX & WINDOW & POSITION & TSS\\_DISTANCE & MAGMA\\_P & coloc\\_pip & coloc\\_WT\\\\\n",
       "  & <chr> & <chr> & <int> & <int> & <int> & <int> & <chr> & <int> & <int> & <int> & <dbl> & <dbl> & <dbl>\\\\\n",
       "\\hline\n",
       "\t1 & ENSG00000004700 & RECQL  & 12 &  21621845 &  21654603 &  21654603 & rs11045172 & 14 &  20470221 & 1184382 & 6.5270e-03 & 0.0000000 & 0.0\\\\\n",
       "\t2 & ENSG00000004975 & DVL2   & 17 &   7128660 &   7137864 &   7137864 & rs222852   & 21 &   7140606 &    2742 & 1.0485e-09 & 0.0000000 & 0.0\\\\\n",
       "\t3 & ENSG00000006047 & YBX2   & 17 &   7191571 &   7197934 &   7197934 & rs222852   & 21 &   7140606 &   57328 & 1.3405e-09 & 0.5262069 & 0.8\\\\\n",
       "\t4 & ENSG00000008405 & CRY1   & 12 & 107385142 & 107487607 & 107487607 & rs10778506 & 16 & 107143260 &  344347 & 1.3150e-07 & 0.0000000 & 0.0\\\\\n",
       "\t5 & ENSG00000010318 & PHF7   &  3 &  52444673 &  52457657 &  52444673 & rs1108842  &  4 &  52720080 &  275407 & 2.0069e-11 & 0.0000000 & 0.0\\\\\n",
       "\t6 & ENSG00000010319 & SEMA3G &  3 &  52467069 &  52479101 &  52479101 & rs1108842  &  4 &  52720080 &  240979 & 1.6328e-11 & 0.0000000 & 0.0\\\\\n",
       "\\end{tabular}\n"
      ],
      "text/markdown": [
       "\n",
       "A data.frame: 6 × 13\n",
       "\n",
       "| <!--/--> | ENSGID &lt;chr&gt; | NAME &lt;chr&gt; | CHR &lt;int&gt; | START &lt;int&gt; | END &lt;int&gt; | TSS &lt;int&gt; | INDEX &lt;chr&gt; | WINDOW &lt;int&gt; | POSITION &lt;int&gt; | TSS_DISTANCE &lt;int&gt; | MAGMA_P &lt;dbl&gt; | coloc_pip &lt;dbl&gt; | coloc_WT &lt;dbl&gt; |\n",
       "|---|---|---|---|---|---|---|---|---|---|---|---|---|---|\n",
       "| 1 | ENSG00000004700 | RECQL  | 12 |  21621845 |  21654603 |  21654603 | rs11045172 | 14 |  20470221 | 1184382 | 6.5270e-03 | 0.0000000 | 0.0 |\n",
       "| 2 | ENSG00000004975 | DVL2   | 17 |   7128660 |   7137864 |   7137864 | rs222852   | 21 |   7140606 |    2742 | 1.0485e-09 | 0.0000000 | 0.0 |\n",
       "| 3 | ENSG00000006047 | YBX2   | 17 |   7191571 |   7197934 |   7197934 | rs222852   | 21 |   7140606 |   57328 | 1.3405e-09 | 0.5262069 | 0.8 |\n",
       "| 4 | ENSG00000008405 | CRY1   | 12 | 107385142 | 107487607 | 107487607 | rs10778506 | 16 | 107143260 |  344347 | 1.3150e-07 | 0.0000000 | 0.0 |\n",
       "| 5 | ENSG00000010318 | PHF7   |  3 |  52444673 |  52457657 |  52444673 | rs1108842  |  4 |  52720080 |  275407 | 2.0069e-11 | 0.0000000 | 0.0 |\n",
       "| 6 | ENSG00000010319 | SEMA3G |  3 |  52467069 |  52479101 |  52479101 | rs1108842  |  4 |  52720080 |  240979 | 1.6328e-11 | 0.0000000 | 0.0 |\n",
       "\n"
      ],
      "text/plain": [
       "  ENSGID          NAME   CHR START     END       TSS       INDEX      WINDOW\n",
       "1 ENSG00000004700 RECQL  12   21621845  21654603  21654603 rs11045172 14    \n",
       "2 ENSG00000004975 DVL2   17    7128660   7137864   7137864 rs222852   21    \n",
       "3 ENSG00000006047 YBX2   17    7191571   7197934   7197934 rs222852   21    \n",
       "4 ENSG00000008405 CRY1   12  107385142 107487607 107487607 rs10778506 16    \n",
       "5 ENSG00000010318 PHF7    3   52444673  52457657  52444673 rs1108842   4    \n",
       "6 ENSG00000010319 SEMA3G  3   52467069  52479101  52479101 rs1108842   4    \n",
       "  POSITION  TSS_DISTANCE MAGMA_P    coloc_pip coloc_WT\n",
       "1  20470221 1184382      6.5270e-03 0.0000000 0.0     \n",
       "2   7140606    2742      1.0485e-09 0.0000000 0.0     \n",
       "3   7140606   57328      1.3405e-09 0.5262069 0.8     \n",
       "4 107143260  344347      1.3150e-07 0.0000000 0.0     \n",
       "5  52720080  275407      2.0069e-11 0.0000000 0.0     \n",
       "6  52720080  240979      1.6328e-11 0.0000000 0.0     "
      ]
     },
     "metadata": {},
     "output_type": "display_data"
    }
   ],
   "source": [
    "head(gene_variant_2)"
   ]
  },
  {
   "cell_type": "code",
   "execution_count": 65,
   "id": "89d3c9ce",
   "metadata": {},
   "outputs": [],
   "source": [
    "##SMR"
   ]
  },
  {
   "cell_type": "code",
   "execution_count": 66,
   "id": "cfb5a75e",
   "metadata": {},
   "outputs": [],
   "source": [
    "trans_smr <- read.table(\"../../ANALYSIS/SMR//Trans_ancestry_SMR.tab\",header=T)%>%rename(ENSGID=probeID)"
   ]
  },
  {
   "cell_type": "code",
   "execution_count": 67,
   "id": "1e543e60",
   "metadata": {},
   "outputs": [],
   "source": [
    "gene_variant_3 <- data.frame()\n",
    "for (i in 1:nrow(gene_variant_2) ){\n",
    "line_q <- gene_variant_2[i,]\n",
    "ensg_q <- as.character(line_q[1])\n",
    "genep<- nrow(trans_smr%>%filter(ENSGID==ensg_q))\n",
    "if (genep>0){\n",
    "smr_df <- trans_smr%>%filter(ENSGID==ensg_q)%>%select(filename,p_SMR)%>%mutate(weight_smr = case_when(grepl(\"Artery|Adipose|Heart\", filename) ~ \"1\",TRUE ~ '0.8'))\n",
    "p_smr <- min(smr_df$p_SMR)\n",
    "smr_weight <- max(as.double((smr_df%>%filter(p_SMR==p_smr))$weight_smr))\n",
    "}else {\n",
    "p_smr <- NA\n",
    "smr_weight <-0 \n",
    "}\n",
    "tmp_df <- gene_variant_2[i,]%>%mutate(p_SMR=p_smr,SMR_WT=smr_weight)\n",
    "gene_variant_3 <- rbind(gene_variant_3,tmp_df)\n",
    "}\n"
   ]
  },
  {
   "cell_type": "code",
   "execution_count": 68,
   "id": "29c8addd",
   "metadata": {},
   "outputs": [
    {
     "data": {
      "text/html": [
       "<table class=\"dataframe\">\n",
       "<caption>A data.frame: 6 × 15</caption>\n",
       "<thead>\n",
       "\t<tr><th></th><th scope=col>ENSGID</th><th scope=col>NAME</th><th scope=col>CHR</th><th scope=col>START</th><th scope=col>END</th><th scope=col>TSS</th><th scope=col>INDEX</th><th scope=col>WINDOW</th><th scope=col>POSITION</th><th scope=col>TSS_DISTANCE</th><th scope=col>MAGMA_P</th><th scope=col>coloc_pip</th><th scope=col>coloc_WT</th><th scope=col>p_SMR</th><th scope=col>SMR_WT</th></tr>\n",
       "\t<tr><th></th><th scope=col>&lt;chr&gt;</th><th scope=col>&lt;chr&gt;</th><th scope=col>&lt;int&gt;</th><th scope=col>&lt;int&gt;</th><th scope=col>&lt;int&gt;</th><th scope=col>&lt;int&gt;</th><th scope=col>&lt;chr&gt;</th><th scope=col>&lt;int&gt;</th><th scope=col>&lt;int&gt;</th><th scope=col>&lt;int&gt;</th><th scope=col>&lt;dbl&gt;</th><th scope=col>&lt;dbl&gt;</th><th scope=col>&lt;dbl&gt;</th><th scope=col>&lt;dbl&gt;</th><th scope=col>&lt;dbl&gt;</th></tr>\n",
       "</thead>\n",
       "<tbody>\n",
       "\t<tr><th scope=row>1</th><td>ENSG00000004700</td><td>RECQL </td><td>12</td><td> 21621845</td><td> 21654603</td><td> 21654603</td><td>rs11045172</td><td>14</td><td> 20470221</td><td>1184382</td><td>6.5270e-03</td><td>0.0000000</td><td>0.0</td><td>          NA</td><td>0.0</td></tr>\n",
       "\t<tr><th scope=row>2</th><td>ENSG00000004975</td><td>DVL2  </td><td>17</td><td>  7128660</td><td>  7137864</td><td>  7137864</td><td>rs222852  </td><td>21</td><td>  7140606</td><td>   2742</td><td>1.0485e-09</td><td>0.0000000</td><td>0.0</td><td>          NA</td><td>0.0</td></tr>\n",
       "\t<tr><th scope=row>3</th><td>ENSG00000006047</td><td>YBX2  </td><td>17</td><td>  7191571</td><td>  7197934</td><td>  7197934</td><td>rs222852  </td><td>21</td><td>  7140606</td><td>  57328</td><td>1.3405e-09</td><td>0.5262069</td><td>0.8</td><td>7.094827e-06</td><td>0.8</td></tr>\n",
       "\t<tr><th scope=row>4</th><td>ENSG00000008405</td><td>CRY1  </td><td>12</td><td>107385142</td><td>107487607</td><td>107487607</td><td>rs10778506</td><td>16</td><td>107143260</td><td> 344347</td><td>1.3150e-07</td><td>0.0000000</td><td>0.0</td><td>          NA</td><td>0.0</td></tr>\n",
       "\t<tr><th scope=row>5</th><td>ENSG00000010318</td><td>PHF7  </td><td> 3</td><td> 52444673</td><td> 52457657</td><td> 52444673</td><td>rs1108842 </td><td> 4</td><td> 52720080</td><td> 275407</td><td>2.0069e-11</td><td>0.0000000</td><td>0.0</td><td>          NA</td><td>0.0</td></tr>\n",
       "\t<tr><th scope=row>6</th><td>ENSG00000010319</td><td>SEMA3G</td><td> 3</td><td> 52467069</td><td> 52479101</td><td> 52479101</td><td>rs1108842 </td><td> 4</td><td> 52720080</td><td> 240979</td><td>1.6328e-11</td><td>0.0000000</td><td>0.0</td><td>          NA</td><td>0.0</td></tr>\n",
       "</tbody>\n",
       "</table>\n"
      ],
      "text/latex": [
       "A data.frame: 6 × 15\n",
       "\\begin{tabular}{r|lllllllllllllll}\n",
       "  & ENSGID & NAME & CHR & START & END & TSS & INDEX & WINDOW & POSITION & TSS\\_DISTANCE & MAGMA\\_P & coloc\\_pip & coloc\\_WT & p\\_SMR & SMR\\_WT\\\\\n",
       "  & <chr> & <chr> & <int> & <int> & <int> & <int> & <chr> & <int> & <int> & <int> & <dbl> & <dbl> & <dbl> & <dbl> & <dbl>\\\\\n",
       "\\hline\n",
       "\t1 & ENSG00000004700 & RECQL  & 12 &  21621845 &  21654603 &  21654603 & rs11045172 & 14 &  20470221 & 1184382 & 6.5270e-03 & 0.0000000 & 0.0 &           NA & 0.0\\\\\n",
       "\t2 & ENSG00000004975 & DVL2   & 17 &   7128660 &   7137864 &   7137864 & rs222852   & 21 &   7140606 &    2742 & 1.0485e-09 & 0.0000000 & 0.0 &           NA & 0.0\\\\\n",
       "\t3 & ENSG00000006047 & YBX2   & 17 &   7191571 &   7197934 &   7197934 & rs222852   & 21 &   7140606 &   57328 & 1.3405e-09 & 0.5262069 & 0.8 & 7.094827e-06 & 0.8\\\\\n",
       "\t4 & ENSG00000008405 & CRY1   & 12 & 107385142 & 107487607 & 107487607 & rs10778506 & 16 & 107143260 &  344347 & 1.3150e-07 & 0.0000000 & 0.0 &           NA & 0.0\\\\\n",
       "\t5 & ENSG00000010318 & PHF7   &  3 &  52444673 &  52457657 &  52444673 & rs1108842  &  4 &  52720080 &  275407 & 2.0069e-11 & 0.0000000 & 0.0 &           NA & 0.0\\\\\n",
       "\t6 & ENSG00000010319 & SEMA3G &  3 &  52467069 &  52479101 &  52479101 & rs1108842  &  4 &  52720080 &  240979 & 1.6328e-11 & 0.0000000 & 0.0 &           NA & 0.0\\\\\n",
       "\\end{tabular}\n"
      ],
      "text/markdown": [
       "\n",
       "A data.frame: 6 × 15\n",
       "\n",
       "| <!--/--> | ENSGID &lt;chr&gt; | NAME &lt;chr&gt; | CHR &lt;int&gt; | START &lt;int&gt; | END &lt;int&gt; | TSS &lt;int&gt; | INDEX &lt;chr&gt; | WINDOW &lt;int&gt; | POSITION &lt;int&gt; | TSS_DISTANCE &lt;int&gt; | MAGMA_P &lt;dbl&gt; | coloc_pip &lt;dbl&gt; | coloc_WT &lt;dbl&gt; | p_SMR &lt;dbl&gt; | SMR_WT &lt;dbl&gt; |\n",
       "|---|---|---|---|---|---|---|---|---|---|---|---|---|---|---|---|\n",
       "| 1 | ENSG00000004700 | RECQL  | 12 |  21621845 |  21654603 |  21654603 | rs11045172 | 14 |  20470221 | 1184382 | 6.5270e-03 | 0.0000000 | 0.0 |           NA | 0.0 |\n",
       "| 2 | ENSG00000004975 | DVL2   | 17 |   7128660 |   7137864 |   7137864 | rs222852   | 21 |   7140606 |    2742 | 1.0485e-09 | 0.0000000 | 0.0 |           NA | 0.0 |\n",
       "| 3 | ENSG00000006047 | YBX2   | 17 |   7191571 |   7197934 |   7197934 | rs222852   | 21 |   7140606 |   57328 | 1.3405e-09 | 0.5262069 | 0.8 | 7.094827e-06 | 0.8 |\n",
       "| 4 | ENSG00000008405 | CRY1   | 12 | 107385142 | 107487607 | 107487607 | rs10778506 | 16 | 107143260 |  344347 | 1.3150e-07 | 0.0000000 | 0.0 |           NA | 0.0 |\n",
       "| 5 | ENSG00000010318 | PHF7   |  3 |  52444673 |  52457657 |  52444673 | rs1108842  |  4 |  52720080 |  275407 | 2.0069e-11 | 0.0000000 | 0.0 |           NA | 0.0 |\n",
       "| 6 | ENSG00000010319 | SEMA3G |  3 |  52467069 |  52479101 |  52479101 | rs1108842  |  4 |  52720080 |  240979 | 1.6328e-11 | 0.0000000 | 0.0 |           NA | 0.0 |\n",
       "\n"
      ],
      "text/plain": [
       "  ENSGID          NAME   CHR START     END       TSS       INDEX      WINDOW\n",
       "1 ENSG00000004700 RECQL  12   21621845  21654603  21654603 rs11045172 14    \n",
       "2 ENSG00000004975 DVL2   17    7128660   7137864   7137864 rs222852   21    \n",
       "3 ENSG00000006047 YBX2   17    7191571   7197934   7197934 rs222852   21    \n",
       "4 ENSG00000008405 CRY1   12  107385142 107487607 107487607 rs10778506 16    \n",
       "5 ENSG00000010318 PHF7    3   52444673  52457657  52444673 rs1108842   4    \n",
       "6 ENSG00000010319 SEMA3G  3   52467069  52479101  52479101 rs1108842   4    \n",
       "  POSITION  TSS_DISTANCE MAGMA_P    coloc_pip coloc_WT p_SMR        SMR_WT\n",
       "1  20470221 1184382      6.5270e-03 0.0000000 0.0                NA 0.0   \n",
       "2   7140606    2742      1.0485e-09 0.0000000 0.0                NA 0.0   \n",
       "3   7140606   57328      1.3405e-09 0.5262069 0.8      7.094827e-06 0.8   \n",
       "4 107143260  344347      1.3150e-07 0.0000000 0.0                NA 0.0   \n",
       "5  52720080  275407      2.0069e-11 0.0000000 0.0                NA 0.0   \n",
       "6  52720080  240979      1.6328e-11 0.0000000 0.0                NA 0.0   "
      ]
     },
     "metadata": {},
     "output_type": "display_data"
    }
   ],
   "source": [
    "head(gene_variant_3)"
   ]
  },
  {
   "cell_type": "code",
   "execution_count": 69,
   "id": "f0ca8c8c",
   "metadata": {},
   "outputs": [],
   "source": [
    "## eQTL overlaps"
   ]
  },
  {
   "cell_type": "code",
   "execution_count": 70,
   "id": "cc98d93c",
   "metadata": {},
   "outputs": [],
   "source": [
    "trans_eqtl <- read.table(\"../../ANALYSIS/GTEX/TRANS_EQTL_OVERLAPS.txt\",fill=TRUE,row.names=NULL,header=TRUE)"
   ]
  },
  {
   "cell_type": "code",
   "execution_count": null,
   "id": "16e938be",
   "metadata": {},
   "outputs": [],
   "source": []
  },
  {
   "cell_type": "code",
   "execution_count": 71,
   "id": "fc1090b9",
   "metadata": {},
   "outputs": [],
   "source": [
    "gene_variant_4 <- data.frame()\n",
    "for (i in 1:nrow(gene_variant_3) ){\n",
    "line_q <- gene_variant_3[i,]\n",
    "ensg_q <- as.character(line_q[2])\n",
    "genep<- nrow(trans_eqtl%>%filter(Transcript==ensg_q))\n",
    "if (genep>0){\n",
    "smr_df <- trans_eqtl%>%filter(Transcript==ensg_q)%>%select(Tissue,P_EQTL)%>%mutate(weight_lookup = case_when(grepl(\"Artery|Adipose|Heart\", Tissue) ~ \"1\",TRUE ~ '0.8'))\n",
    "p_smr <- min(smr_df$P_EQTL)\n",
    "smr_weight <- max(as.double((smr_df%>%filter(P_EQTL==p_smr))$weight_lookup))\n",
    "}else {\n",
    "p_smr <- NA\n",
    "smr_weight <-0 \n",
    "}\n",
    "tmp_df <- gene_variant_3[i,]%>%mutate(P_EQTL=p_smr,EQTL_WT=smr_weight)\n",
    "gene_variant_4 <- rbind(gene_variant_4,tmp_df)\n",
    "}\n"
   ]
  },
  {
   "cell_type": "code",
   "execution_count": 72,
   "id": "bc208113",
   "metadata": {},
   "outputs": [
    {
     "data": {
      "text/html": [
       "<table class=\"dataframe\">\n",
       "<caption>A data.frame: 1 × 17</caption>\n",
       "<thead>\n",
       "\t<tr><th></th><th scope=col>ENSGID</th><th scope=col>NAME</th><th scope=col>CHR</th><th scope=col>START</th><th scope=col>END</th><th scope=col>TSS</th><th scope=col>INDEX</th><th scope=col>WINDOW</th><th scope=col>POSITION</th><th scope=col>TSS_DISTANCE</th><th scope=col>MAGMA_P</th><th scope=col>coloc_pip</th><th scope=col>coloc_WT</th><th scope=col>p_SMR</th><th scope=col>SMR_WT</th><th scope=col>P_EQTL</th><th scope=col>EQTL_WT</th></tr>\n",
       "\t<tr><th></th><th scope=col>&lt;chr&gt;</th><th scope=col>&lt;chr&gt;</th><th scope=col>&lt;int&gt;</th><th scope=col>&lt;int&gt;</th><th scope=col>&lt;int&gt;</th><th scope=col>&lt;int&gt;</th><th scope=col>&lt;chr&gt;</th><th scope=col>&lt;int&gt;</th><th scope=col>&lt;int&gt;</th><th scope=col>&lt;int&gt;</th><th scope=col>&lt;dbl&gt;</th><th scope=col>&lt;dbl&gt;</th><th scope=col>&lt;dbl&gt;</th><th scope=col>&lt;dbl&gt;</th><th scope=col>&lt;dbl&gt;</th><th scope=col>&lt;dbl&gt;</th><th scope=col>&lt;dbl&gt;</th></tr>\n",
       "</thead>\n",
       "<tbody>\n",
       "\t<tr><th scope=row>1</th><td>ENSG00000004700</td><td>RECQL</td><td>12</td><td>21621845</td><td>21654603</td><td>21654603</td><td>rs11045172</td><td>14</td><td>20470221</td><td>1184382</td><td>0.006527</td><td>0</td><td>0</td><td>NA</td><td>0</td><td>NA</td><td>0</td></tr>\n",
       "</tbody>\n",
       "</table>\n"
      ],
      "text/latex": [
       "A data.frame: 1 × 17\n",
       "\\begin{tabular}{r|lllllllllllllllll}\n",
       "  & ENSGID & NAME & CHR & START & END & TSS & INDEX & WINDOW & POSITION & TSS\\_DISTANCE & MAGMA\\_P & coloc\\_pip & coloc\\_WT & p\\_SMR & SMR\\_WT & P\\_EQTL & EQTL\\_WT\\\\\n",
       "  & <chr> & <chr> & <int> & <int> & <int> & <int> & <chr> & <int> & <int> & <int> & <dbl> & <dbl> & <dbl> & <dbl> & <dbl> & <dbl> & <dbl>\\\\\n",
       "\\hline\n",
       "\t1 & ENSG00000004700 & RECQL & 12 & 21621845 & 21654603 & 21654603 & rs11045172 & 14 & 20470221 & 1184382 & 0.006527 & 0 & 0 & NA & 0 & NA & 0\\\\\n",
       "\\end{tabular}\n"
      ],
      "text/markdown": [
       "\n",
       "A data.frame: 1 × 17\n",
       "\n",
       "| <!--/--> | ENSGID &lt;chr&gt; | NAME &lt;chr&gt; | CHR &lt;int&gt; | START &lt;int&gt; | END &lt;int&gt; | TSS &lt;int&gt; | INDEX &lt;chr&gt; | WINDOW &lt;int&gt; | POSITION &lt;int&gt; | TSS_DISTANCE &lt;int&gt; | MAGMA_P &lt;dbl&gt; | coloc_pip &lt;dbl&gt; | coloc_WT &lt;dbl&gt; | p_SMR &lt;dbl&gt; | SMR_WT &lt;dbl&gt; | P_EQTL &lt;dbl&gt; | EQTL_WT &lt;dbl&gt; |\n",
       "|---|---|---|---|---|---|---|---|---|---|---|---|---|---|---|---|---|---|\n",
       "| 1 | ENSG00000004700 | RECQL | 12 | 21621845 | 21654603 | 21654603 | rs11045172 | 14 | 20470221 | 1184382 | 0.006527 | 0 | 0 | NA | 0 | NA | 0 |\n",
       "\n"
      ],
      "text/plain": [
       "  ENSGID          NAME  CHR START    END      TSS      INDEX      WINDOW\n",
       "1 ENSG00000004700 RECQL 12  21621845 21654603 21654603 rs11045172 14    \n",
       "  POSITION TSS_DISTANCE MAGMA_P  coloc_pip coloc_WT p_SMR SMR_WT P_EQTL EQTL_WT\n",
       "1 20470221 1184382      0.006527 0         0        NA    0      NA     0      "
      ]
     },
     "metadata": {},
     "output_type": "display_data"
    }
   ],
   "source": [
    "head(gene_variant_4,1)"
   ]
  },
  {
   "cell_type": "code",
   "execution_count": 73,
   "id": "f8dc68b2",
   "metadata": {},
   "outputs": [
    {
     "data": {
      "text/html": [
       "<table class=\"dataframe\">\n",
       "<caption>A data.frame: 1 × 17</caption>\n",
       "<thead>\n",
       "\t<tr><th scope=col>ENSGID</th><th scope=col>NAME</th><th scope=col>CHR</th><th scope=col>START</th><th scope=col>END</th><th scope=col>TSS</th><th scope=col>INDEX</th><th scope=col>WINDOW</th><th scope=col>POSITION</th><th scope=col>TSS_DISTANCE</th><th scope=col>MAGMA_P</th><th scope=col>coloc_pip</th><th scope=col>coloc_WT</th><th scope=col>p_SMR</th><th scope=col>SMR_WT</th><th scope=col>P_EQTL</th><th scope=col>EQTL_WT</th></tr>\n",
       "\t<tr><th scope=col>&lt;chr&gt;</th><th scope=col>&lt;chr&gt;</th><th scope=col>&lt;int&gt;</th><th scope=col>&lt;int&gt;</th><th scope=col>&lt;int&gt;</th><th scope=col>&lt;int&gt;</th><th scope=col>&lt;chr&gt;</th><th scope=col>&lt;int&gt;</th><th scope=col>&lt;int&gt;</th><th scope=col>&lt;int&gt;</th><th scope=col>&lt;dbl&gt;</th><th scope=col>&lt;dbl&gt;</th><th scope=col>&lt;dbl&gt;</th><th scope=col>&lt;dbl&gt;</th><th scope=col>&lt;dbl&gt;</th><th scope=col>&lt;dbl&gt;</th><th scope=col>&lt;dbl&gt;</th></tr>\n",
       "</thead>\n",
       "<tbody>\n",
       "\t<tr><td>ENSG00000181092</td><td>ADIPOQ</td><td>3</td><td>186560463</td><td>186576252</td><td>186560463</td><td>rs17366568</td><td>5</td><td>186570453</td><td>9990</td><td>1.4544e-14</td><td>0</td><td>1</td><td>NA</td><td>0</td><td>1.1e-14</td><td>1</td></tr>\n",
       "</tbody>\n",
       "</table>\n"
      ],
      "text/latex": [
       "A data.frame: 1 × 17\n",
       "\\begin{tabular}{lllllllllllllllll}\n",
       " ENSGID & NAME & CHR & START & END & TSS & INDEX & WINDOW & POSITION & TSS\\_DISTANCE & MAGMA\\_P & coloc\\_pip & coloc\\_WT & p\\_SMR & SMR\\_WT & P\\_EQTL & EQTL\\_WT\\\\\n",
       " <chr> & <chr> & <int> & <int> & <int> & <int> & <chr> & <int> & <int> & <int> & <dbl> & <dbl> & <dbl> & <dbl> & <dbl> & <dbl> & <dbl>\\\\\n",
       "\\hline\n",
       "\t ENSG00000181092 & ADIPOQ & 3 & 186560463 & 186576252 & 186560463 & rs17366568 & 5 & 186570453 & 9990 & 1.4544e-14 & 0 & 1 & NA & 0 & 1.1e-14 & 1\\\\\n",
       "\\end{tabular}\n"
      ],
      "text/markdown": [
       "\n",
       "A data.frame: 1 × 17\n",
       "\n",
       "| ENSGID &lt;chr&gt; | NAME &lt;chr&gt; | CHR &lt;int&gt; | START &lt;int&gt; | END &lt;int&gt; | TSS &lt;int&gt; | INDEX &lt;chr&gt; | WINDOW &lt;int&gt; | POSITION &lt;int&gt; | TSS_DISTANCE &lt;int&gt; | MAGMA_P &lt;dbl&gt; | coloc_pip &lt;dbl&gt; | coloc_WT &lt;dbl&gt; | p_SMR &lt;dbl&gt; | SMR_WT &lt;dbl&gt; | P_EQTL &lt;dbl&gt; | EQTL_WT &lt;dbl&gt; |\n",
       "|---|---|---|---|---|---|---|---|---|---|---|---|---|---|---|---|---|\n",
       "| ENSG00000181092 | ADIPOQ | 3 | 186560463 | 186576252 | 186560463 | rs17366568 | 5 | 186570453 | 9990 | 1.4544e-14 | 0 | 1 | NA | 0 | 1.1e-14 | 1 |\n",
       "\n"
      ],
      "text/plain": [
       "  ENSGID          NAME   CHR START     END       TSS       INDEX      WINDOW\n",
       "1 ENSG00000181092 ADIPOQ 3   186560463 186576252 186560463 rs17366568 5     \n",
       "  POSITION  TSS_DISTANCE MAGMA_P    coloc_pip coloc_WT p_SMR SMR_WT P_EQTL \n",
       "1 186570453 9990         1.4544e-14 0         1        NA    0      1.1e-14\n",
       "  EQTL_WT\n",
       "1 1      "
      ]
     },
     "metadata": {},
     "output_type": "display_data"
    }
   ],
   "source": [
    "gene_variant_4%>%filter(NAME==\"ADIPOQ\")"
   ]
  },
  {
   "cell_type": "code",
   "execution_count": 74,
   "id": "bc91aba2",
   "metadata": {},
   "outputs": [],
   "source": [
    "### LDSC(Expression modifier Score)"
   ]
  },
  {
   "cell_type": "code",
   "execution_count": 75,
   "id": "8c184980",
   "metadata": {},
   "outputs": [],
   "source": [
    "trans_ldsc <- read.table(\"../../ANALYSIS/GTEX/TRANS_LDSC_RESULTS.TAB\",fill=TRUE,row.names=NULL,header=TRUE)"
   ]
  },
  {
   "cell_type": "code",
   "execution_count": 76,
   "id": "468e5e14",
   "metadata": {},
   "outputs": [
    {
     "data": {
      "text/html": [
       "<table class=\"dataframe\">\n",
       "<caption>A data.frame: 2 × 5</caption>\n",
       "<thead>\n",
       "\t<tr><th></th><th scope=col>GENE</th><th scope=col>Enrichment_p</th><th scope=col>Coefficient_z_score</th><th scope=col>Tissue</th><th scope=col>TSS</th></tr>\n",
       "\t<tr><th></th><th scope=col>&lt;chr&gt;</th><th scope=col>&lt;dbl&gt;</th><th scope=col>&lt;dbl&gt;</th><th scope=col>&lt;chr&gt;</th><th scope=col>&lt;int&gt;</th></tr>\n",
       "</thead>\n",
       "<tbody>\n",
       "\t<tr><th scope=row>1</th><td>AHCYL1</td><td>0.449643</td><td>0.7574982</td><td>Whole_Blood  </td><td>110527308</td></tr>\n",
       "\t<tr><th scope=row>2</th><td>AHCYL1</td><td>0.449643</td><td>0.7574982</td><td>Kidney_Cortex</td><td>110527308</td></tr>\n",
       "</tbody>\n",
       "</table>\n"
      ],
      "text/latex": [
       "A data.frame: 2 × 5\n",
       "\\begin{tabular}{r|lllll}\n",
       "  & GENE & Enrichment\\_p & Coefficient\\_z\\_score & Tissue & TSS\\\\\n",
       "  & <chr> & <dbl> & <dbl> & <chr> & <int>\\\\\n",
       "\\hline\n",
       "\t1 & AHCYL1 & 0.449643 & 0.7574982 & Whole\\_Blood   & 110527308\\\\\n",
       "\t2 & AHCYL1 & 0.449643 & 0.7574982 & Kidney\\_Cortex & 110527308\\\\\n",
       "\\end{tabular}\n"
      ],
      "text/markdown": [
       "\n",
       "A data.frame: 2 × 5\n",
       "\n",
       "| <!--/--> | GENE &lt;chr&gt; | Enrichment_p &lt;dbl&gt; | Coefficient_z_score &lt;dbl&gt; | Tissue &lt;chr&gt; | TSS &lt;int&gt; |\n",
       "|---|---|---|---|---|---|\n",
       "| 1 | AHCYL1 | 0.449643 | 0.7574982 | Whole_Blood   | 110527308 |\n",
       "| 2 | AHCYL1 | 0.449643 | 0.7574982 | Kidney_Cortex | 110527308 |\n",
       "\n"
      ],
      "text/plain": [
       "  GENE   Enrichment_p Coefficient_z_score Tissue        TSS      \n",
       "1 AHCYL1 0.449643     0.7574982           Whole_Blood   110527308\n",
       "2 AHCYL1 0.449643     0.7574982           Kidney_Cortex 110527308"
      ]
     },
     "metadata": {},
     "output_type": "display_data"
    }
   ],
   "source": [
    "head(trans_ldsc,2)"
   ]
  },
  {
   "cell_type": "code",
   "execution_count": 77,
   "id": "9ffe8415",
   "metadata": {},
   "outputs": [],
   "source": [
    "gene_variant_5 <- data.frame()\n",
    "for (i in 1:nrow(gene_variant_4) ){\n",
    "line_q <- gene_variant_4[i,]\n",
    "ensg_q <- as.character(line_q[2])\n",
    "genep<- nrow(trans_ldsc%>%filter(GENE==ensg_q))\n",
    "if (genep>0){\n",
    "ldsc_df <- trans_ldsc%>%filter(GENE==ensg_q)%>%select(Tissue,Enrichment_p)%>%mutate(weight_ldsc = case_when(grepl(\"Artery|Adipose|Heart\", Tissue) ~ \"1\",TRUE ~ '0.8'))\n",
    "p_ldsc <- min(ldsc_df$Enrichment_p)\n",
    "smr_weight <- max(as.double((ldsc_df%>%filter(Enrichment_p==p_ldsc))$weight_ldsc))\n",
    "}else {\n",
    "p_ldsc <- NA\n",
    "smr_weight <-0 \n",
    "}\n",
    "tmp_df <- gene_variant_4[i,]%>%mutate(LDSC_P=p_ldsc,LDSC_WT=smr_weight)\n",
    "gene_variant_5 <- rbind(gene_variant_5,tmp_df)\n",
    "}\n"
   ]
  },
  {
   "cell_type": "code",
   "execution_count": 78,
   "id": "ddf0ee86",
   "metadata": {},
   "outputs": [
    {
     "data": {
      "text/html": [
       "<table class=\"dataframe\">\n",
       "<caption>A data.frame: 6 × 19</caption>\n",
       "<thead>\n",
       "\t<tr><th></th><th scope=col>ENSGID</th><th scope=col>NAME</th><th scope=col>CHR</th><th scope=col>START</th><th scope=col>END</th><th scope=col>TSS</th><th scope=col>INDEX</th><th scope=col>WINDOW</th><th scope=col>POSITION</th><th scope=col>TSS_DISTANCE</th><th scope=col>MAGMA_P</th><th scope=col>coloc_pip</th><th scope=col>coloc_WT</th><th scope=col>p_SMR</th><th scope=col>SMR_WT</th><th scope=col>P_EQTL</th><th scope=col>EQTL_WT</th><th scope=col>LDSC_P</th><th scope=col>LDSC_WT</th></tr>\n",
       "\t<tr><th></th><th scope=col>&lt;chr&gt;</th><th scope=col>&lt;chr&gt;</th><th scope=col>&lt;int&gt;</th><th scope=col>&lt;int&gt;</th><th scope=col>&lt;int&gt;</th><th scope=col>&lt;int&gt;</th><th scope=col>&lt;chr&gt;</th><th scope=col>&lt;int&gt;</th><th scope=col>&lt;int&gt;</th><th scope=col>&lt;int&gt;</th><th scope=col>&lt;dbl&gt;</th><th scope=col>&lt;dbl&gt;</th><th scope=col>&lt;dbl&gt;</th><th scope=col>&lt;dbl&gt;</th><th scope=col>&lt;dbl&gt;</th><th scope=col>&lt;dbl&gt;</th><th scope=col>&lt;dbl&gt;</th><th scope=col>&lt;dbl&gt;</th><th scope=col>&lt;dbl&gt;</th></tr>\n",
       "</thead>\n",
       "<tbody>\n",
       "\t<tr><th scope=row>1</th><td>ENSG00000004700</td><td>RECQL </td><td>12</td><td> 21621845</td><td> 21654603</td><td> 21654603</td><td>rs11045172</td><td>14</td><td> 20470221</td><td>1184382</td><td>6.5270e-03</td><td>0.0000000</td><td>0.0</td><td>          NA</td><td>0.0</td><td>NA</td><td>0</td><td>0.626449957</td><td>1</td></tr>\n",
       "\t<tr><th scope=row>2</th><td>ENSG00000004975</td><td>DVL2  </td><td>17</td><td>  7128660</td><td>  7137864</td><td>  7137864</td><td>rs222852  </td><td>21</td><td>  7140606</td><td>   2742</td><td>1.0485e-09</td><td>0.0000000</td><td>0.0</td><td>          NA</td><td>0.0</td><td>NA</td><td>0</td><td>0.000110552</td><td>1</td></tr>\n",
       "\t<tr><th scope=row>3</th><td>ENSG00000006047</td><td>YBX2  </td><td>17</td><td>  7191571</td><td>  7197934</td><td>  7197934</td><td>rs222852  </td><td>21</td><td>  7140606</td><td>  57328</td><td>1.3405e-09</td><td>0.5262069</td><td>0.8</td><td>7.094827e-06</td><td>0.8</td><td>NA</td><td>0</td><td>         NA</td><td>0</td></tr>\n",
       "\t<tr><th scope=row>4</th><td>ENSG00000008405</td><td>CRY1  </td><td>12</td><td>107385142</td><td>107487607</td><td>107487607</td><td>rs10778506</td><td>16</td><td>107143260</td><td> 344347</td><td>1.3150e-07</td><td>0.0000000</td><td>0.0</td><td>          NA</td><td>0.0</td><td>NA</td><td>0</td><td>0.084596732</td><td>1</td></tr>\n",
       "\t<tr><th scope=row>5</th><td>ENSG00000010318</td><td>PHF7  </td><td> 3</td><td> 52444673</td><td> 52457657</td><td> 52444673</td><td>rs1108842 </td><td> 4</td><td> 52720080</td><td> 275407</td><td>2.0069e-11</td><td>0.0000000</td><td>0.0</td><td>          NA</td><td>0.0</td><td>NA</td><td>0</td><td>         NA</td><td>0</td></tr>\n",
       "\t<tr><th scope=row>6</th><td>ENSG00000010319</td><td>SEMA3G</td><td> 3</td><td> 52467069</td><td> 52479101</td><td> 52479101</td><td>rs1108842 </td><td> 4</td><td> 52720080</td><td> 240979</td><td>1.6328e-11</td><td>0.0000000</td><td>0.0</td><td>          NA</td><td>0.0</td><td>NA</td><td>0</td><td>0.002939900</td><td>1</td></tr>\n",
       "</tbody>\n",
       "</table>\n"
      ],
      "text/latex": [
       "A data.frame: 6 × 19\n",
       "\\begin{tabular}{r|lllllllllllllllllll}\n",
       "  & ENSGID & NAME & CHR & START & END & TSS & INDEX & WINDOW & POSITION & TSS\\_DISTANCE & MAGMA\\_P & coloc\\_pip & coloc\\_WT & p\\_SMR & SMR\\_WT & P\\_EQTL & EQTL\\_WT & LDSC\\_P & LDSC\\_WT\\\\\n",
       "  & <chr> & <chr> & <int> & <int> & <int> & <int> & <chr> & <int> & <int> & <int> & <dbl> & <dbl> & <dbl> & <dbl> & <dbl> & <dbl> & <dbl> & <dbl> & <dbl>\\\\\n",
       "\\hline\n",
       "\t1 & ENSG00000004700 & RECQL  & 12 &  21621845 &  21654603 &  21654603 & rs11045172 & 14 &  20470221 & 1184382 & 6.5270e-03 & 0.0000000 & 0.0 &           NA & 0.0 & NA & 0 & 0.626449957 & 1\\\\\n",
       "\t2 & ENSG00000004975 & DVL2   & 17 &   7128660 &   7137864 &   7137864 & rs222852   & 21 &   7140606 &    2742 & 1.0485e-09 & 0.0000000 & 0.0 &           NA & 0.0 & NA & 0 & 0.000110552 & 1\\\\\n",
       "\t3 & ENSG00000006047 & YBX2   & 17 &   7191571 &   7197934 &   7197934 & rs222852   & 21 &   7140606 &   57328 & 1.3405e-09 & 0.5262069 & 0.8 & 7.094827e-06 & 0.8 & NA & 0 &          NA & 0\\\\\n",
       "\t4 & ENSG00000008405 & CRY1   & 12 & 107385142 & 107487607 & 107487607 & rs10778506 & 16 & 107143260 &  344347 & 1.3150e-07 & 0.0000000 & 0.0 &           NA & 0.0 & NA & 0 & 0.084596732 & 1\\\\\n",
       "\t5 & ENSG00000010318 & PHF7   &  3 &  52444673 &  52457657 &  52444673 & rs1108842  &  4 &  52720080 &  275407 & 2.0069e-11 & 0.0000000 & 0.0 &           NA & 0.0 & NA & 0 &          NA & 0\\\\\n",
       "\t6 & ENSG00000010319 & SEMA3G &  3 &  52467069 &  52479101 &  52479101 & rs1108842  &  4 &  52720080 &  240979 & 1.6328e-11 & 0.0000000 & 0.0 &           NA & 0.0 & NA & 0 & 0.002939900 & 1\\\\\n",
       "\\end{tabular}\n"
      ],
      "text/markdown": [
       "\n",
       "A data.frame: 6 × 19\n",
       "\n",
       "| <!--/--> | ENSGID &lt;chr&gt; | NAME &lt;chr&gt; | CHR &lt;int&gt; | START &lt;int&gt; | END &lt;int&gt; | TSS &lt;int&gt; | INDEX &lt;chr&gt; | WINDOW &lt;int&gt; | POSITION &lt;int&gt; | TSS_DISTANCE &lt;int&gt; | MAGMA_P &lt;dbl&gt; | coloc_pip &lt;dbl&gt; | coloc_WT &lt;dbl&gt; | p_SMR &lt;dbl&gt; | SMR_WT &lt;dbl&gt; | P_EQTL &lt;dbl&gt; | EQTL_WT &lt;dbl&gt; | LDSC_P &lt;dbl&gt; | LDSC_WT &lt;dbl&gt; |\n",
       "|---|---|---|---|---|---|---|---|---|---|---|---|---|---|---|---|---|---|---|---|\n",
       "| 1 | ENSG00000004700 | RECQL  | 12 |  21621845 |  21654603 |  21654603 | rs11045172 | 14 |  20470221 | 1184382 | 6.5270e-03 | 0.0000000 | 0.0 |           NA | 0.0 | NA | 0 | 0.626449957 | 1 |\n",
       "| 2 | ENSG00000004975 | DVL2   | 17 |   7128660 |   7137864 |   7137864 | rs222852   | 21 |   7140606 |    2742 | 1.0485e-09 | 0.0000000 | 0.0 |           NA | 0.0 | NA | 0 | 0.000110552 | 1 |\n",
       "| 3 | ENSG00000006047 | YBX2   | 17 |   7191571 |   7197934 |   7197934 | rs222852   | 21 |   7140606 |   57328 | 1.3405e-09 | 0.5262069 | 0.8 | 7.094827e-06 | 0.8 | NA | 0 |          NA | 0 |\n",
       "| 4 | ENSG00000008405 | CRY1   | 12 | 107385142 | 107487607 | 107487607 | rs10778506 | 16 | 107143260 |  344347 | 1.3150e-07 | 0.0000000 | 0.0 |           NA | 0.0 | NA | 0 | 0.084596732 | 1 |\n",
       "| 5 | ENSG00000010318 | PHF7   |  3 |  52444673 |  52457657 |  52444673 | rs1108842  |  4 |  52720080 |  275407 | 2.0069e-11 | 0.0000000 | 0.0 |           NA | 0.0 | NA | 0 |          NA | 0 |\n",
       "| 6 | ENSG00000010319 | SEMA3G |  3 |  52467069 |  52479101 |  52479101 | rs1108842  |  4 |  52720080 |  240979 | 1.6328e-11 | 0.0000000 | 0.0 |           NA | 0.0 | NA | 0 | 0.002939900 | 1 |\n",
       "\n"
      ],
      "text/plain": [
       "  ENSGID          NAME   CHR START     END       TSS       INDEX      WINDOW\n",
       "1 ENSG00000004700 RECQL  12   21621845  21654603  21654603 rs11045172 14    \n",
       "2 ENSG00000004975 DVL2   17    7128660   7137864   7137864 rs222852   21    \n",
       "3 ENSG00000006047 YBX2   17    7191571   7197934   7197934 rs222852   21    \n",
       "4 ENSG00000008405 CRY1   12  107385142 107487607 107487607 rs10778506 16    \n",
       "5 ENSG00000010318 PHF7    3   52444673  52457657  52444673 rs1108842   4    \n",
       "6 ENSG00000010319 SEMA3G  3   52467069  52479101  52479101 rs1108842   4    \n",
       "  POSITION  TSS_DISTANCE MAGMA_P    coloc_pip coloc_WT p_SMR        SMR_WT\n",
       "1  20470221 1184382      6.5270e-03 0.0000000 0.0                NA 0.0   \n",
       "2   7140606    2742      1.0485e-09 0.0000000 0.0                NA 0.0   \n",
       "3   7140606   57328      1.3405e-09 0.5262069 0.8      7.094827e-06 0.8   \n",
       "4 107143260  344347      1.3150e-07 0.0000000 0.0                NA 0.0   \n",
       "5  52720080  275407      2.0069e-11 0.0000000 0.0                NA 0.0   \n",
       "6  52720080  240979      1.6328e-11 0.0000000 0.0                NA 0.0   \n",
       "  P_EQTL EQTL_WT LDSC_P      LDSC_WT\n",
       "1 NA     0       0.626449957 1      \n",
       "2 NA     0       0.000110552 1      \n",
       "3 NA     0                NA 0      \n",
       "4 NA     0       0.084596732 1      \n",
       "5 NA     0                NA 0      \n",
       "6 NA     0       0.002939900 1      "
      ]
     },
     "metadata": {},
     "output_type": "display_data"
    }
   ],
   "source": [
    "head(gene_variant_5)"
   ]
  },
  {
   "cell_type": "code",
   "execution_count": 79,
   "id": "ed826249",
   "metadata": {},
   "outputs": [],
   "source": [
    "##EMS overlaps"
   ]
  },
  {
   "cell_type": "code",
   "execution_count": 80,
   "id": "bb9f53f7",
   "metadata": {},
   "outputs": [],
   "source": [
    "trans_ems <- read.table(\"../../ANALYSIS/EMS_OVERLAP/TRANS_OVERLAP_EMS.TAB\",fill=TRUE,row.names=NULL,header=TRUE)"
   ]
  },
  {
   "cell_type": "code",
   "execution_count": 81,
   "id": "69d02adc",
   "metadata": {},
   "outputs": [
    {
     "data": {
      "text/html": [
       "<table class=\"dataframe\">\n",
       "<caption>A data.frame: 2 × 6</caption>\n",
       "<thead>\n",
       "\t<tr><th></th><th scope=col>CHROMOSOME</th><th scope=col>POSITION</th><th scope=col>GENE</th><th scope=col>EMS_N</th><th scope=col>Tissue</th><th scope=col>scaled_EMS</th></tr>\n",
       "\t<tr><th></th><th scope=col>&lt;int&gt;</th><th scope=col>&lt;int&gt;</th><th scope=col>&lt;chr&gt;</th><th scope=col>&lt;dbl&gt;</th><th scope=col>&lt;chr&gt;</th><th scope=col>&lt;dbl&gt;</th></tr>\n",
       "</thead>\n",
       "<tbody>\n",
       "\t<tr><th scope=row>1</th><td>1</td><td>10003457</td><td>ENSG00000173614</td><td>3017000</td><td>Artery_Coronary       </td><td>0.3031811</td></tr>\n",
       "\t<tr><th scope=row>2</th><td>1</td><td>10003457</td><td>ENSG00000173614</td><td>7680000</td><td>Heart_Atrial_Appendage</td><td>0.7718478</td></tr>\n",
       "</tbody>\n",
       "</table>\n"
      ],
      "text/latex": [
       "A data.frame: 2 × 6\n",
       "\\begin{tabular}{r|llllll}\n",
       "  & CHROMOSOME & POSITION & GENE & EMS\\_N & Tissue & scaled\\_EMS\\\\\n",
       "  & <int> & <int> & <chr> & <dbl> & <chr> & <dbl>\\\\\n",
       "\\hline\n",
       "\t1 & 1 & 10003457 & ENSG00000173614 & 3017000 & Artery\\_Coronary        & 0.3031811\\\\\n",
       "\t2 & 1 & 10003457 & ENSG00000173614 & 7680000 & Heart\\_Atrial\\_Appendage & 0.7718478\\\\\n",
       "\\end{tabular}\n"
      ],
      "text/markdown": [
       "\n",
       "A data.frame: 2 × 6\n",
       "\n",
       "| <!--/--> | CHROMOSOME &lt;int&gt; | POSITION &lt;int&gt; | GENE &lt;chr&gt; | EMS_N &lt;dbl&gt; | Tissue &lt;chr&gt; | scaled_EMS &lt;dbl&gt; |\n",
       "|---|---|---|---|---|---|---|\n",
       "| 1 | 1 | 10003457 | ENSG00000173614 | 3017000 | Artery_Coronary        | 0.3031811 |\n",
       "| 2 | 1 | 10003457 | ENSG00000173614 | 7680000 | Heart_Atrial_Appendage | 0.7718478 |\n",
       "\n"
      ],
      "text/plain": [
       "  CHROMOSOME POSITION GENE            EMS_N   Tissue                 scaled_EMS\n",
       "1 1          10003457 ENSG00000173614 3017000 Artery_Coronary        0.3031811 \n",
       "2 1          10003457 ENSG00000173614 7680000 Heart_Atrial_Appendage 0.7718478 "
      ]
     },
     "metadata": {},
     "output_type": "display_data"
    }
   ],
   "source": [
    "head(trans_ems,2)"
   ]
  },
  {
   "cell_type": "code",
   "execution_count": 82,
   "id": "5195dcca",
   "metadata": {},
   "outputs": [],
   "source": [
    "gene_variant_6 <- data.frame()\n",
    "for (i in 1:nrow(gene_variant_5) ){\n",
    "line_q <- gene_variant_5[i,]\n",
    "ensg_q <- as.character(line_q[1])\n",
    "genep<- nrow(trans_ems%>%filter(GENE==ensg_q))\n",
    "if (genep>0){\n",
    "ems_df <- trans_ems%>%filter(GENE==ensg_q)%>%select(Tissue,scaled_EMS)%>%mutate(weight_ems = case_when(grepl(\"Artery|Adipose|Heart\", Tissue) ~ \"1\",TRUE ~ '0.8'))\n",
    "s_ems <- max(ems_df$scaled_EMS)\n",
    "ems_weight <- max(as.double((ems_df%>%filter(scaled_EMS==s_ems))$weight_ems))\n",
    "}else {\n",
    "s_ems <- 0\n",
    "ems_weight <-0 \n",
    "}\n",
    "tmp_df <- gene_variant_5[i,]%>%mutate(EMS_SCORE=s_ems,EMS_WT=ems_weight)\n",
    "gene_variant_6 <- rbind(gene_variant_6,tmp_df)\n",
    "}"
   ]
  },
  {
   "cell_type": "code",
   "execution_count": 83,
   "id": "9c910578",
   "metadata": {},
   "outputs": [
    {
     "data": {
      "text/html": [
       "<table class=\"dataframe\">\n",
       "<caption>A data.frame: 2 × 21</caption>\n",
       "<thead>\n",
       "\t<tr><th></th><th scope=col>ENSGID</th><th scope=col>NAME</th><th scope=col>CHR</th><th scope=col>START</th><th scope=col>END</th><th scope=col>TSS</th><th scope=col>INDEX</th><th scope=col>WINDOW</th><th scope=col>POSITION</th><th scope=col>TSS_DISTANCE</th><th scope=col>⋯</th><th scope=col>coloc_pip</th><th scope=col>coloc_WT</th><th scope=col>p_SMR</th><th scope=col>SMR_WT</th><th scope=col>P_EQTL</th><th scope=col>EQTL_WT</th><th scope=col>LDSC_P</th><th scope=col>LDSC_WT</th><th scope=col>EMS_SCORE</th><th scope=col>EMS_WT</th></tr>\n",
       "\t<tr><th></th><th scope=col>&lt;chr&gt;</th><th scope=col>&lt;chr&gt;</th><th scope=col>&lt;int&gt;</th><th scope=col>&lt;int&gt;</th><th scope=col>&lt;int&gt;</th><th scope=col>&lt;int&gt;</th><th scope=col>&lt;chr&gt;</th><th scope=col>&lt;int&gt;</th><th scope=col>&lt;int&gt;</th><th scope=col>&lt;int&gt;</th><th scope=col>⋯</th><th scope=col>&lt;dbl&gt;</th><th scope=col>&lt;dbl&gt;</th><th scope=col>&lt;dbl&gt;</th><th scope=col>&lt;dbl&gt;</th><th scope=col>&lt;dbl&gt;</th><th scope=col>&lt;dbl&gt;</th><th scope=col>&lt;dbl&gt;</th><th scope=col>&lt;dbl&gt;</th><th scope=col>&lt;dbl&gt;</th><th scope=col>&lt;dbl&gt;</th></tr>\n",
       "</thead>\n",
       "<tbody>\n",
       "\t<tr><th scope=row>1</th><td>ENSG00000004700</td><td>RECQL</td><td>12</td><td>21621845</td><td>21654603</td><td>21654603</td><td>rs11045172</td><td>14</td><td>20470221</td><td>1184382</td><td>⋯</td><td>0</td><td>0</td><td>NA</td><td>0</td><td>NA</td><td>0</td><td>0.626449957</td><td>1</td><td>0.0000000</td><td>0</td></tr>\n",
       "\t<tr><th scope=row>2</th><td>ENSG00000004975</td><td>DVL2 </td><td>17</td><td> 7128660</td><td> 7137864</td><td> 7137864</td><td>rs222852  </td><td>21</td><td> 7140606</td><td>   2742</td><td>⋯</td><td>0</td><td>0</td><td>NA</td><td>0</td><td>NA</td><td>0</td><td>0.000110552</td><td>1</td><td>0.7718478</td><td>1</td></tr>\n",
       "</tbody>\n",
       "</table>\n"
      ],
      "text/latex": [
       "A data.frame: 2 × 21\n",
       "\\begin{tabular}{r|lllllllllllllllllllll}\n",
       "  & ENSGID & NAME & CHR & START & END & TSS & INDEX & WINDOW & POSITION & TSS\\_DISTANCE & ⋯ & coloc\\_pip & coloc\\_WT & p\\_SMR & SMR\\_WT & P\\_EQTL & EQTL\\_WT & LDSC\\_P & LDSC\\_WT & EMS\\_SCORE & EMS\\_WT\\\\\n",
       "  & <chr> & <chr> & <int> & <int> & <int> & <int> & <chr> & <int> & <int> & <int> & ⋯ & <dbl> & <dbl> & <dbl> & <dbl> & <dbl> & <dbl> & <dbl> & <dbl> & <dbl> & <dbl>\\\\\n",
       "\\hline\n",
       "\t1 & ENSG00000004700 & RECQL & 12 & 21621845 & 21654603 & 21654603 & rs11045172 & 14 & 20470221 & 1184382 & ⋯ & 0 & 0 & NA & 0 & NA & 0 & 0.626449957 & 1 & 0.0000000 & 0\\\\\n",
       "\t2 & ENSG00000004975 & DVL2  & 17 &  7128660 &  7137864 &  7137864 & rs222852   & 21 &  7140606 &    2742 & ⋯ & 0 & 0 & NA & 0 & NA & 0 & 0.000110552 & 1 & 0.7718478 & 1\\\\\n",
       "\\end{tabular}\n"
      ],
      "text/markdown": [
       "\n",
       "A data.frame: 2 × 21\n",
       "\n",
       "| <!--/--> | ENSGID &lt;chr&gt; | NAME &lt;chr&gt; | CHR &lt;int&gt; | START &lt;int&gt; | END &lt;int&gt; | TSS &lt;int&gt; | INDEX &lt;chr&gt; | WINDOW &lt;int&gt; | POSITION &lt;int&gt; | TSS_DISTANCE &lt;int&gt; | ⋯ ⋯ | coloc_pip &lt;dbl&gt; | coloc_WT &lt;dbl&gt; | p_SMR &lt;dbl&gt; | SMR_WT &lt;dbl&gt; | P_EQTL &lt;dbl&gt; | EQTL_WT &lt;dbl&gt; | LDSC_P &lt;dbl&gt; | LDSC_WT &lt;dbl&gt; | EMS_SCORE &lt;dbl&gt; | EMS_WT &lt;dbl&gt; |\n",
       "|---|---|---|---|---|---|---|---|---|---|---|---|---|---|---|---|---|---|---|---|---|---|\n",
       "| 1 | ENSG00000004700 | RECQL | 12 | 21621845 | 21654603 | 21654603 | rs11045172 | 14 | 20470221 | 1184382 | ⋯ | 0 | 0 | NA | 0 | NA | 0 | 0.626449957 | 1 | 0.0000000 | 0 |\n",
       "| 2 | ENSG00000004975 | DVL2  | 17 |  7128660 |  7137864 |  7137864 | rs222852   | 21 |  7140606 |    2742 | ⋯ | 0 | 0 | NA | 0 | NA | 0 | 0.000110552 | 1 | 0.7718478 | 1 |\n",
       "\n"
      ],
      "text/plain": [
       "  ENSGID          NAME  CHR START    END      TSS      INDEX      WINDOW\n",
       "1 ENSG00000004700 RECQL 12  21621845 21654603 21654603 rs11045172 14    \n",
       "2 ENSG00000004975 DVL2  17   7128660  7137864  7137864 rs222852   21    \n",
       "  POSITION TSS_DISTANCE ⋯ coloc_pip coloc_WT p_SMR SMR_WT P_EQTL EQTL_WT\n",
       "1 20470221 1184382      ⋯ 0         0        NA    0      NA     0      \n",
       "2  7140606    2742      ⋯ 0         0        NA    0      NA     0      \n",
       "  LDSC_P      LDSC_WT EMS_SCORE EMS_WT\n",
       "1 0.626449957 1       0.0000000 0     \n",
       "2 0.000110552 1       0.7718478 1     "
      ]
     },
     "metadata": {},
     "output_type": "display_data"
    }
   ],
   "source": [
    "head(gene_variant_6,2)"
   ]
  },
  {
   "cell_type": "code",
   "execution_count": 84,
   "id": "349b3246",
   "metadata": {},
   "outputs": [],
   "source": [
    "### POPS\n",
    "stand01 <- function(x){(x-min(x,na.rm = TRUE))/(max(x,na.rm = TRUE)-min(x,na.rm = TRUE))}"
   ]
  },
  {
   "cell_type": "code",
   "execution_count": 85,
   "id": "e85f16fa",
   "metadata": {},
   "outputs": [],
   "source": [
    "pops_ems <- read.table(\"../../ANALYSIS/POPS/TRANS_POPS.txt\",fill=TRUE,row.names=NULL,header=TRUE)%>%mutate(POPS=stand01(PoPS_score))"
   ]
  },
  {
   "cell_type": "code",
   "execution_count": 86,
   "id": "f5c061b5",
   "metadata": {},
   "outputs": [
    {
     "data": {
      "text/html": [
       "<table class=\"dataframe\">\n",
       "<caption>A data.frame: 2 × 4</caption>\n",
       "<thead>\n",
       "\t<tr><th></th><th scope=col>ENSG</th><th scope=col>GENE</th><th scope=col>PoPS_score</th><th scope=col>POPS</th></tr>\n",
       "\t<tr><th></th><th scope=col>&lt;chr&gt;</th><th scope=col>&lt;chr&gt;</th><th scope=col>&lt;dbl&gt;</th><th scope=col>&lt;dbl&gt;</th></tr>\n",
       "</thead>\n",
       "<tbody>\n",
       "\t<tr><th scope=row>1</th><td>ENSG00000031698</td><td>SARS </td><td> 0.1608348</td><td>0.5342267</td></tr>\n",
       "\t<tr><th scope=row>2</th><td>ENSG00000064703</td><td>DDX20</td><td>-0.8479503</td><td>0.2839632</td></tr>\n",
       "</tbody>\n",
       "</table>\n"
      ],
      "text/latex": [
       "A data.frame: 2 × 4\n",
       "\\begin{tabular}{r|llll}\n",
       "  & ENSG & GENE & PoPS\\_score & POPS\\\\\n",
       "  & <chr> & <chr> & <dbl> & <dbl>\\\\\n",
       "\\hline\n",
       "\t1 & ENSG00000031698 & SARS  &  0.1608348 & 0.5342267\\\\\n",
       "\t2 & ENSG00000064703 & DDX20 & -0.8479503 & 0.2839632\\\\\n",
       "\\end{tabular}\n"
      ],
      "text/markdown": [
       "\n",
       "A data.frame: 2 × 4\n",
       "\n",
       "| <!--/--> | ENSG &lt;chr&gt; | GENE &lt;chr&gt; | PoPS_score &lt;dbl&gt; | POPS &lt;dbl&gt; |\n",
       "|---|---|---|---|---|\n",
       "| 1 | ENSG00000031698 | SARS  |  0.1608348 | 0.5342267 |\n",
       "| 2 | ENSG00000064703 | DDX20 | -0.8479503 | 0.2839632 |\n",
       "\n"
      ],
      "text/plain": [
       "  ENSG            GENE  PoPS_score POPS     \n",
       "1 ENSG00000031698 SARS   0.1608348 0.5342267\n",
       "2 ENSG00000064703 DDX20 -0.8479503 0.2839632"
      ]
     },
     "metadata": {},
     "output_type": "display_data"
    }
   ],
   "source": [
    "head(pops_ems,2)"
   ]
  },
  {
   "cell_type": "code",
   "execution_count": 87,
   "id": "49a1b411",
   "metadata": {},
   "outputs": [],
   "source": [
    "gene_variant_7 <- data.frame()\n",
    "for (i in 1:nrow(gene_variant_6) ){\n",
    "line_q <- gene_variant_6[i,]\n",
    "ensg_q <- as.character(line_q[1])\n",
    "genep<- nrow(pops_ems%>%filter(ENSG==ensg_q))\n",
    "if (genep>0){\n",
    "pops_df <- pops_ems%>%filter(ENSG==ensg_q)%>%select(POPS)\n",
    "pops_score <- as.double(pops_df)\n",
    "}else {\n",
    "pops_score <- 0 \n",
    "}\n",
    "tmp_df <- gene_variant_6[i,]%>%mutate(POPS_SCORE=pops_score)\n",
    "gene_variant_7 <- rbind(gene_variant_7,tmp_df)\n",
    "}"
   ]
  },
  {
   "cell_type": "code",
   "execution_count": 88,
   "id": "39cc7c7e",
   "metadata": {},
   "outputs": [
    {
     "data": {
      "text/html": [
       "<table class=\"dataframe\">\n",
       "<caption>A data.frame: 2 × 22</caption>\n",
       "<thead>\n",
       "\t<tr><th></th><th scope=col>ENSGID</th><th scope=col>NAME</th><th scope=col>CHR</th><th scope=col>START</th><th scope=col>END</th><th scope=col>TSS</th><th scope=col>INDEX</th><th scope=col>WINDOW</th><th scope=col>POSITION</th><th scope=col>TSS_DISTANCE</th><th scope=col>⋯</th><th scope=col>coloc_WT</th><th scope=col>p_SMR</th><th scope=col>SMR_WT</th><th scope=col>P_EQTL</th><th scope=col>EQTL_WT</th><th scope=col>LDSC_P</th><th scope=col>LDSC_WT</th><th scope=col>EMS_SCORE</th><th scope=col>EMS_WT</th><th scope=col>POPS_SCORE</th></tr>\n",
       "\t<tr><th></th><th scope=col>&lt;chr&gt;</th><th scope=col>&lt;chr&gt;</th><th scope=col>&lt;int&gt;</th><th scope=col>&lt;int&gt;</th><th scope=col>&lt;int&gt;</th><th scope=col>&lt;int&gt;</th><th scope=col>&lt;chr&gt;</th><th scope=col>&lt;int&gt;</th><th scope=col>&lt;int&gt;</th><th scope=col>&lt;int&gt;</th><th scope=col>⋯</th><th scope=col>&lt;dbl&gt;</th><th scope=col>&lt;dbl&gt;</th><th scope=col>&lt;dbl&gt;</th><th scope=col>&lt;dbl&gt;</th><th scope=col>&lt;dbl&gt;</th><th scope=col>&lt;dbl&gt;</th><th scope=col>&lt;dbl&gt;</th><th scope=col>&lt;dbl&gt;</th><th scope=col>&lt;dbl&gt;</th><th scope=col>&lt;dbl&gt;</th></tr>\n",
       "</thead>\n",
       "<tbody>\n",
       "\t<tr><th scope=row>1</th><td>ENSG00000004700</td><td>RECQL</td><td>12</td><td>21621845</td><td>21654603</td><td>21654603</td><td>rs11045172</td><td>14</td><td>20470221</td><td>1184382</td><td>⋯</td><td>0</td><td>NA</td><td>0</td><td>NA</td><td>0</td><td>0.626449957</td><td>1</td><td>0.0000000</td><td>0</td><td>0.4911776</td></tr>\n",
       "\t<tr><th scope=row>2</th><td>ENSG00000004975</td><td>DVL2 </td><td>17</td><td> 7128660</td><td> 7137864</td><td> 7137864</td><td>rs222852  </td><td>21</td><td> 7140606</td><td>   2742</td><td>⋯</td><td>0</td><td>NA</td><td>0</td><td>NA</td><td>0</td><td>0.000110552</td><td>1</td><td>0.7718478</td><td>1</td><td>0.4984750</td></tr>\n",
       "</tbody>\n",
       "</table>\n"
      ],
      "text/latex": [
       "A data.frame: 2 × 22\n",
       "\\begin{tabular}{r|lllllllllllllllllllll}\n",
       "  & ENSGID & NAME & CHR & START & END & TSS & INDEX & WINDOW & POSITION & TSS\\_DISTANCE & ⋯ & coloc\\_WT & p\\_SMR & SMR\\_WT & P\\_EQTL & EQTL\\_WT & LDSC\\_P & LDSC\\_WT & EMS\\_SCORE & EMS\\_WT & POPS\\_SCORE\\\\\n",
       "  & <chr> & <chr> & <int> & <int> & <int> & <int> & <chr> & <int> & <int> & <int> & ⋯ & <dbl> & <dbl> & <dbl> & <dbl> & <dbl> & <dbl> & <dbl> & <dbl> & <dbl> & <dbl>\\\\\n",
       "\\hline\n",
       "\t1 & ENSG00000004700 & RECQL & 12 & 21621845 & 21654603 & 21654603 & rs11045172 & 14 & 20470221 & 1184382 & ⋯ & 0 & NA & 0 & NA & 0 & 0.626449957 & 1 & 0.0000000 & 0 & 0.4911776\\\\\n",
       "\t2 & ENSG00000004975 & DVL2  & 17 &  7128660 &  7137864 &  7137864 & rs222852   & 21 &  7140606 &    2742 & ⋯ & 0 & NA & 0 & NA & 0 & 0.000110552 & 1 & 0.7718478 & 1 & 0.4984750\\\\\n",
       "\\end{tabular}\n"
      ],
      "text/markdown": [
       "\n",
       "A data.frame: 2 × 22\n",
       "\n",
       "| <!--/--> | ENSGID &lt;chr&gt; | NAME &lt;chr&gt; | CHR &lt;int&gt; | START &lt;int&gt; | END &lt;int&gt; | TSS &lt;int&gt; | INDEX &lt;chr&gt; | WINDOW &lt;int&gt; | POSITION &lt;int&gt; | TSS_DISTANCE &lt;int&gt; | ⋯ ⋯ | coloc_WT &lt;dbl&gt; | p_SMR &lt;dbl&gt; | SMR_WT &lt;dbl&gt; | P_EQTL &lt;dbl&gt; | EQTL_WT &lt;dbl&gt; | LDSC_P &lt;dbl&gt; | LDSC_WT &lt;dbl&gt; | EMS_SCORE &lt;dbl&gt; | EMS_WT &lt;dbl&gt; | POPS_SCORE &lt;dbl&gt; |\n",
       "|---|---|---|---|---|---|---|---|---|---|---|---|---|---|---|---|---|---|---|---|---|---|\n",
       "| 1 | ENSG00000004700 | RECQL | 12 | 21621845 | 21654603 | 21654603 | rs11045172 | 14 | 20470221 | 1184382 | ⋯ | 0 | NA | 0 | NA | 0 | 0.626449957 | 1 | 0.0000000 | 0 | 0.4911776 |\n",
       "| 2 | ENSG00000004975 | DVL2  | 17 |  7128660 |  7137864 |  7137864 | rs222852   | 21 |  7140606 |    2742 | ⋯ | 0 | NA | 0 | NA | 0 | 0.000110552 | 1 | 0.7718478 | 1 | 0.4984750 |\n",
       "\n"
      ],
      "text/plain": [
       "  ENSGID          NAME  CHR START    END      TSS      INDEX      WINDOW\n",
       "1 ENSG00000004700 RECQL 12  21621845 21654603 21654603 rs11045172 14    \n",
       "2 ENSG00000004975 DVL2  17   7128660  7137864  7137864 rs222852   21    \n",
       "  POSITION TSS_DISTANCE ⋯ coloc_WT p_SMR SMR_WT P_EQTL EQTL_WT LDSC_P     \n",
       "1 20470221 1184382      ⋯ 0        NA    0      NA     0       0.626449957\n",
       "2  7140606    2742      ⋯ 0        NA    0      NA     0       0.000110552\n",
       "  LDSC_WT EMS_SCORE EMS_WT POPS_SCORE\n",
       "1 1       0.0000000 0      0.4911776 \n",
       "2 1       0.7718478 1      0.4984750 "
      ]
     },
     "metadata": {},
     "output_type": "display_data"
    }
   ],
   "source": [
    "head(gene_variant_7,2)"
   ]
  },
  {
   "cell_type": "code",
   "execution_count": 89,
   "id": "52e96a74",
   "metadata": {},
   "outputs": [],
   "source": [
    "## DOWNSTREAMER"
   ]
  },
  {
   "cell_type": "code",
   "execution_count": 90,
   "id": "7ed55ee2",
   "metadata": {},
   "outputs": [],
   "source": [
    "down_df <- read.table(\"../../ANALYSIS/DOWNSTREAMER//TRANS_Downstreamer.txt\",fill=TRUE,row.names=NULL,header=TRUE)%>%mutate(DOWNSTREAMER_P=pnorm(q=ZSCORE, lower.tail=TRUE))"
   ]
  },
  {
   "cell_type": "code",
   "execution_count": 91,
   "id": "496d0f4c",
   "metadata": {},
   "outputs": [
    {
     "data": {
      "text/html": [
       "<table class=\"dataframe\">\n",
       "<caption>A data.frame: 2 × 4</caption>\n",
       "<thead>\n",
       "\t<tr><th></th><th scope=col>ENSG</th><th scope=col>NAME</th><th scope=col>ZSCORE</th><th scope=col>DOWNSTREAMER_P</th></tr>\n",
       "\t<tr><th></th><th scope=col>&lt;chr&gt;</th><th scope=col>&lt;chr&gt;</th><th scope=col>&lt;dbl&gt;</th><th scope=col>&lt;dbl&gt;</th></tr>\n",
       "</thead>\n",
       "<tbody>\n",
       "\t<tr><th scope=row>1</th><td>ENSG00000135698</td><td>MPHOSPH6</td><td> 0.5106511</td><td>0.695202306</td></tr>\n",
       "\t<tr><th scope=row>2</th><td>ENSG00000140945</td><td>CDH13   </td><td>-2.4247364</td><td>0.007659754</td></tr>\n",
       "</tbody>\n",
       "</table>\n"
      ],
      "text/latex": [
       "A data.frame: 2 × 4\n",
       "\\begin{tabular}{r|llll}\n",
       "  & ENSG & NAME & ZSCORE & DOWNSTREAMER\\_P\\\\\n",
       "  & <chr> & <chr> & <dbl> & <dbl>\\\\\n",
       "\\hline\n",
       "\t1 & ENSG00000135698 & MPHOSPH6 &  0.5106511 & 0.695202306\\\\\n",
       "\t2 & ENSG00000140945 & CDH13    & -2.4247364 & 0.007659754\\\\\n",
       "\\end{tabular}\n"
      ],
      "text/markdown": [
       "\n",
       "A data.frame: 2 × 4\n",
       "\n",
       "| <!--/--> | ENSG &lt;chr&gt; | NAME &lt;chr&gt; | ZSCORE &lt;dbl&gt; | DOWNSTREAMER_P &lt;dbl&gt; |\n",
       "|---|---|---|---|---|\n",
       "| 1 | ENSG00000135698 | MPHOSPH6 |  0.5106511 | 0.695202306 |\n",
       "| 2 | ENSG00000140945 | CDH13    | -2.4247364 | 0.007659754 |\n",
       "\n"
      ],
      "text/plain": [
       "  ENSG            NAME     ZSCORE     DOWNSTREAMER_P\n",
       "1 ENSG00000135698 MPHOSPH6  0.5106511 0.695202306   \n",
       "2 ENSG00000140945 CDH13    -2.4247364 0.007659754   "
      ]
     },
     "metadata": {},
     "output_type": "display_data"
    }
   ],
   "source": [
    "head(down_df,2)"
   ]
  },
  {
   "cell_type": "code",
   "execution_count": 92,
   "id": "9e9a10e2",
   "metadata": {},
   "outputs": [],
   "source": [
    "gene_variant_8 <- data.frame()\n",
    "for (i in 1:nrow(gene_variant_7) ){\n",
    "line_q <- gene_variant_7[i,]\n",
    "ensg_q <- as.character(line_q[1])\n",
    "genep<- nrow(down_df%>%filter(ENSG==ensg_q))\n",
    "if (genep>0){\n",
    "downs_df <- down_df%>%filter(ENSG==ensg_q)%>%select(DOWNSTREAMER_P)\n",
    "p_down <- min(downs_df$DOWNSTREAMER_P)\n",
    "}else {\n",
    "p_down <- NA\n",
    "}\n",
    "tmp_df <- gene_variant_7[i,]%>%mutate(DOWN_P=p_down)\n",
    "gene_variant_8 <- rbind(gene_variant_8,tmp_df)\n",
    "}"
   ]
  },
  {
   "cell_type": "code",
   "execution_count": 93,
   "id": "24f59d77",
   "metadata": {},
   "outputs": [
    {
     "data": {
      "text/html": [
       "<table class=\"dataframe\">\n",
       "<caption>A data.frame: 1 × 23</caption>\n",
       "<thead>\n",
       "\t<tr><th scope=col>ENSGID</th><th scope=col>NAME</th><th scope=col>CHR</th><th scope=col>START</th><th scope=col>END</th><th scope=col>TSS</th><th scope=col>INDEX</th><th scope=col>WINDOW</th><th scope=col>POSITION</th><th scope=col>TSS_DISTANCE</th><th scope=col>⋯</th><th scope=col>p_SMR</th><th scope=col>SMR_WT</th><th scope=col>P_EQTL</th><th scope=col>EQTL_WT</th><th scope=col>LDSC_P</th><th scope=col>LDSC_WT</th><th scope=col>EMS_SCORE</th><th scope=col>EMS_WT</th><th scope=col>POPS_SCORE</th><th scope=col>DOWN_P</th></tr>\n",
       "\t<tr><th scope=col>&lt;chr&gt;</th><th scope=col>&lt;chr&gt;</th><th scope=col>&lt;int&gt;</th><th scope=col>&lt;int&gt;</th><th scope=col>&lt;int&gt;</th><th scope=col>&lt;int&gt;</th><th scope=col>&lt;chr&gt;</th><th scope=col>&lt;int&gt;</th><th scope=col>&lt;int&gt;</th><th scope=col>&lt;int&gt;</th><th scope=col>⋯</th><th scope=col>&lt;dbl&gt;</th><th scope=col>&lt;dbl&gt;</th><th scope=col>&lt;dbl&gt;</th><th scope=col>&lt;dbl&gt;</th><th scope=col>&lt;dbl&gt;</th><th scope=col>&lt;dbl&gt;</th><th scope=col>&lt;dbl&gt;</th><th scope=col>&lt;dbl&gt;</th><th scope=col>&lt;dbl&gt;</th><th scope=col>&lt;dbl&gt;</th></tr>\n",
       "</thead>\n",
       "<tbody>\n",
       "\t<tr><td>ENSG00000181092</td><td>ADIPOQ</td><td>3</td><td>186560463</td><td>186576252</td><td>186560463</td><td>rs17366568</td><td>5</td><td>186570453</td><td>9990</td><td>⋯</td><td>NA</td><td>0</td><td>1.1e-14</td><td>1</td><td>0.0883593</td><td>1</td><td>0.02929795</td><td>0.8</td><td>0.5534483</td><td>0.3806506</td></tr>\n",
       "</tbody>\n",
       "</table>\n"
      ],
      "text/latex": [
       "A data.frame: 1 × 23\n",
       "\\begin{tabular}{lllllllllllllllllllll}\n",
       " ENSGID & NAME & CHR & START & END & TSS & INDEX & WINDOW & POSITION & TSS\\_DISTANCE & ⋯ & p\\_SMR & SMR\\_WT & P\\_EQTL & EQTL\\_WT & LDSC\\_P & LDSC\\_WT & EMS\\_SCORE & EMS\\_WT & POPS\\_SCORE & DOWN\\_P\\\\\n",
       " <chr> & <chr> & <int> & <int> & <int> & <int> & <chr> & <int> & <int> & <int> & ⋯ & <dbl> & <dbl> & <dbl> & <dbl> & <dbl> & <dbl> & <dbl> & <dbl> & <dbl> & <dbl>\\\\\n",
       "\\hline\n",
       "\t ENSG00000181092 & ADIPOQ & 3 & 186560463 & 186576252 & 186560463 & rs17366568 & 5 & 186570453 & 9990 & ⋯ & NA & 0 & 1.1e-14 & 1 & 0.0883593 & 1 & 0.02929795 & 0.8 & 0.5534483 & 0.3806506\\\\\n",
       "\\end{tabular}\n"
      ],
      "text/markdown": [
       "\n",
       "A data.frame: 1 × 23\n",
       "\n",
       "| ENSGID &lt;chr&gt; | NAME &lt;chr&gt; | CHR &lt;int&gt; | START &lt;int&gt; | END &lt;int&gt; | TSS &lt;int&gt; | INDEX &lt;chr&gt; | WINDOW &lt;int&gt; | POSITION &lt;int&gt; | TSS_DISTANCE &lt;int&gt; | ⋯ ⋯ | p_SMR &lt;dbl&gt; | SMR_WT &lt;dbl&gt; | P_EQTL &lt;dbl&gt; | EQTL_WT &lt;dbl&gt; | LDSC_P &lt;dbl&gt; | LDSC_WT &lt;dbl&gt; | EMS_SCORE &lt;dbl&gt; | EMS_WT &lt;dbl&gt; | POPS_SCORE &lt;dbl&gt; | DOWN_P &lt;dbl&gt; |\n",
       "|---|---|---|---|---|---|---|---|---|---|---|---|---|---|---|---|---|---|---|---|---|\n",
       "| ENSG00000181092 | ADIPOQ | 3 | 186560463 | 186576252 | 186560463 | rs17366568 | 5 | 186570453 | 9990 | ⋯ | NA | 0 | 1.1e-14 | 1 | 0.0883593 | 1 | 0.02929795 | 0.8 | 0.5534483 | 0.3806506 |\n",
       "\n"
      ],
      "text/plain": [
       "  ENSGID          NAME   CHR START     END       TSS       INDEX      WINDOW\n",
       "1 ENSG00000181092 ADIPOQ 3   186560463 186576252 186560463 rs17366568 5     \n",
       "  POSITION  TSS_DISTANCE ⋯ p_SMR SMR_WT P_EQTL  EQTL_WT LDSC_P    LDSC_WT\n",
       "1 186570453 9990         ⋯ NA    0      1.1e-14 1       0.0883593 1      \n",
       "  EMS_SCORE  EMS_WT POPS_SCORE DOWN_P   \n",
       "1 0.02929795 0.8    0.5534483  0.3806506"
      ]
     },
     "metadata": {},
     "output_type": "display_data"
    }
   ],
   "source": [
    "gene_variant_8%>%filter(NAME==\"ADIPOQ\")"
   ]
  },
  {
   "cell_type": "code",
   "execution_count": 94,
   "id": "cf216d41",
   "metadata": {},
   "outputs": [],
   "source": [
    "## Epi MAp"
   ]
  },
  {
   "cell_type": "code",
   "execution_count": 95,
   "id": "51f59da4",
   "metadata": {},
   "outputs": [],
   "source": [
    "epi_map <- read.table(\"../../ANALYSIS/EPIMAP//EPIMAP.tab\",fill=TRUE,row.names=NULL,header=TRUE)"
   ]
  },
  {
   "cell_type": "code",
   "execution_count": 96,
   "id": "f7340579",
   "metadata": {},
   "outputs": [
    {
     "data": {
      "text/html": [
       "<table class=\"dataframe\">\n",
       "<caption>A data.frame: 2 × 3</caption>\n",
       "<thead>\n",
       "\t<tr><th></th><th scope=col>gene</th><th scope=col>score</th><th scope=col>group</th></tr>\n",
       "\t<tr><th></th><th scope=col>&lt;chr&gt;</th><th scope=col>&lt;chr&gt;</th><th scope=col>&lt;chr&gt;</th></tr>\n",
       "</thead>\n",
       "<tbody>\n",
       "\t<tr><th scope=row>1</th><td>ENSG00000008128</td><td>0.0882523589664035</td><td>Adipose</td></tr>\n",
       "\t<tr><th scope=row>2</th><td>ENSG00000078808</td><td>0.0823467903667026</td><td>Adipose</td></tr>\n",
       "</tbody>\n",
       "</table>\n"
      ],
      "text/latex": [
       "A data.frame: 2 × 3\n",
       "\\begin{tabular}{r|lll}\n",
       "  & gene & score & group\\\\\n",
       "  & <chr> & <chr> & <chr>\\\\\n",
       "\\hline\n",
       "\t1 & ENSG00000008128 & 0.0882523589664035 & Adipose\\\\\n",
       "\t2 & ENSG00000078808 & 0.0823467903667026 & Adipose\\\\\n",
       "\\end{tabular}\n"
      ],
      "text/markdown": [
       "\n",
       "A data.frame: 2 × 3\n",
       "\n",
       "| <!--/--> | gene &lt;chr&gt; | score &lt;chr&gt; | group &lt;chr&gt; |\n",
       "|---|---|---|---|\n",
       "| 1 | ENSG00000008128 | 0.0882523589664035 | Adipose |\n",
       "| 2 | ENSG00000078808 | 0.0823467903667026 | Adipose |\n",
       "\n"
      ],
      "text/plain": [
       "  gene            score              group  \n",
       "1 ENSG00000008128 0.0882523589664035 Adipose\n",
       "2 ENSG00000078808 0.0823467903667026 Adipose"
      ]
     },
     "metadata": {},
     "output_type": "display_data"
    }
   ],
   "source": [
    "head(epi_map,2)"
   ]
  },
  {
   "cell_type": "code",
   "execution_count": 97,
   "id": "3ce46a42",
   "metadata": {},
   "outputs": [],
   "source": [
    "gene_variant_9 <- data.frame()\n",
    "for (i in 1:nrow(gene_variant_8) ){\n",
    "line_q <- gene_variant_8[i,]\n",
    "ensg_q <- as.character(line_q[1])\n",
    "genep<- nrow(epi_map%>%filter(gene==ensg_q))\n",
    "if (genep>0){\n",
    "epi_df <- epi_map%>%filter(gene==ensg_q)%>%select(score)\n",
    "epi_score <- max(epi_df$score)\n",
    "}else {\n",
    "epi_score <- 0\n",
    "}\n",
    "tmp_df <- gene_variant_8[i,]%>%mutate(EPIMAP_SCORE=epi_score)\n",
    "gene_variant_9 <- rbind(gene_variant_9,tmp_df)\n",
    "}"
   ]
  },
  {
   "cell_type": "code",
   "execution_count": 98,
   "id": "d66bf486",
   "metadata": {},
   "outputs": [
    {
     "data": {
      "text/html": [
       "<table class=\"dataframe\">\n",
       "<caption>A data.frame: 1 × 24</caption>\n",
       "<thead>\n",
       "\t<tr><th scope=col>ENSGID</th><th scope=col>NAME</th><th scope=col>CHR</th><th scope=col>START</th><th scope=col>END</th><th scope=col>TSS</th><th scope=col>INDEX</th><th scope=col>WINDOW</th><th scope=col>POSITION</th><th scope=col>TSS_DISTANCE</th><th scope=col>⋯</th><th scope=col>SMR_WT</th><th scope=col>P_EQTL</th><th scope=col>EQTL_WT</th><th scope=col>LDSC_P</th><th scope=col>LDSC_WT</th><th scope=col>EMS_SCORE</th><th scope=col>EMS_WT</th><th scope=col>POPS_SCORE</th><th scope=col>DOWN_P</th><th scope=col>EPIMAP_SCORE</th></tr>\n",
       "\t<tr><th scope=col>&lt;chr&gt;</th><th scope=col>&lt;chr&gt;</th><th scope=col>&lt;int&gt;</th><th scope=col>&lt;int&gt;</th><th scope=col>&lt;int&gt;</th><th scope=col>&lt;int&gt;</th><th scope=col>&lt;chr&gt;</th><th scope=col>&lt;int&gt;</th><th scope=col>&lt;int&gt;</th><th scope=col>&lt;int&gt;</th><th scope=col>⋯</th><th scope=col>&lt;dbl&gt;</th><th scope=col>&lt;dbl&gt;</th><th scope=col>&lt;dbl&gt;</th><th scope=col>&lt;dbl&gt;</th><th scope=col>&lt;dbl&gt;</th><th scope=col>&lt;dbl&gt;</th><th scope=col>&lt;dbl&gt;</th><th scope=col>&lt;dbl&gt;</th><th scope=col>&lt;dbl&gt;</th><th scope=col>&lt;chr&gt;</th></tr>\n",
       "</thead>\n",
       "<tbody>\n",
       "\t<tr><td>ENSG00000184371</td><td>CSF1</td><td>1</td><td>110452864</td><td>110473614</td><td>110452864</td><td>rs333947</td><td>1</td><td>110470764</td><td>17900</td><td>⋯</td><td>1</td><td>1.3e-19</td><td>1</td><td>0.4198435</td><td>1</td><td>0.09607518</td><td>0.8</td><td>0.607029</td><td>0.3668719</td><td>0.953864627414279</td></tr>\n",
       "</tbody>\n",
       "</table>\n"
      ],
      "text/latex": [
       "A data.frame: 1 × 24\n",
       "\\begin{tabular}{lllllllllllllllllllll}\n",
       " ENSGID & NAME & CHR & START & END & TSS & INDEX & WINDOW & POSITION & TSS\\_DISTANCE & ⋯ & SMR\\_WT & P\\_EQTL & EQTL\\_WT & LDSC\\_P & LDSC\\_WT & EMS\\_SCORE & EMS\\_WT & POPS\\_SCORE & DOWN\\_P & EPIMAP\\_SCORE\\\\\n",
       " <chr> & <chr> & <int> & <int> & <int> & <int> & <chr> & <int> & <int> & <int> & ⋯ & <dbl> & <dbl> & <dbl> & <dbl> & <dbl> & <dbl> & <dbl> & <dbl> & <dbl> & <chr>\\\\\n",
       "\\hline\n",
       "\t ENSG00000184371 & CSF1 & 1 & 110452864 & 110473614 & 110452864 & rs333947 & 1 & 110470764 & 17900 & ⋯ & 1 & 1.3e-19 & 1 & 0.4198435 & 1 & 0.09607518 & 0.8 & 0.607029 & 0.3668719 & 0.953864627414279\\\\\n",
       "\\end{tabular}\n"
      ],
      "text/markdown": [
       "\n",
       "A data.frame: 1 × 24\n",
       "\n",
       "| ENSGID &lt;chr&gt; | NAME &lt;chr&gt; | CHR &lt;int&gt; | START &lt;int&gt; | END &lt;int&gt; | TSS &lt;int&gt; | INDEX &lt;chr&gt; | WINDOW &lt;int&gt; | POSITION &lt;int&gt; | TSS_DISTANCE &lt;int&gt; | ⋯ ⋯ | SMR_WT &lt;dbl&gt; | P_EQTL &lt;dbl&gt; | EQTL_WT &lt;dbl&gt; | LDSC_P &lt;dbl&gt; | LDSC_WT &lt;dbl&gt; | EMS_SCORE &lt;dbl&gt; | EMS_WT &lt;dbl&gt; | POPS_SCORE &lt;dbl&gt; | DOWN_P &lt;dbl&gt; | EPIMAP_SCORE &lt;chr&gt; |\n",
       "|---|---|---|---|---|---|---|---|---|---|---|---|---|---|---|---|---|---|---|---|---|\n",
       "| ENSG00000184371 | CSF1 | 1 | 110452864 | 110473614 | 110452864 | rs333947 | 1 | 110470764 | 17900 | ⋯ | 1 | 1.3e-19 | 1 | 0.4198435 | 1 | 0.09607518 | 0.8 | 0.607029 | 0.3668719 | 0.953864627414279 |\n",
       "\n"
      ],
      "text/plain": [
       "  ENSGID          NAME CHR START     END       TSS       INDEX    WINDOW\n",
       "1 ENSG00000184371 CSF1 1   110452864 110473614 110452864 rs333947 1     \n",
       "  POSITION  TSS_DISTANCE ⋯ SMR_WT P_EQTL  EQTL_WT LDSC_P    LDSC_WT EMS_SCORE \n",
       "1 110470764 17900        ⋯ 1      1.3e-19 1       0.4198435 1       0.09607518\n",
       "  EMS_WT POPS_SCORE DOWN_P    EPIMAP_SCORE     \n",
       "1 0.8    0.607029   0.3668719 0.953864627414279"
      ]
     },
     "metadata": {},
     "output_type": "display_data"
    }
   ],
   "source": [
    "gene_variant_9%>%filter(NAME==\"CSF1\")"
   ]
  },
  {
   "cell_type": "code",
   "execution_count": 99,
   "id": "8ccefa45",
   "metadata": {},
   "outputs": [],
   "source": [
    "## Genehancer"
   ]
  },
  {
   "cell_type": "code",
   "execution_count": 100,
   "id": "34f5cc7e",
   "metadata": {},
   "outputs": [
    {
     "name": "stderr",
     "output_type": "stream",
     "text": [
      "Warning message in mask$eval_all_mutate(quo):\n",
      "\"NAs introduced by coercion\"\n"
     ]
    }
   ],
   "source": [
    "gh <- read.table(\"../../ANALYSIS/GeneHancer/GENEHANCER.TAB\",fill=TRUE,row.names=NULL,header=TRUE)%>%mutate(CHROM=as.integer(om))%>%rename(START=name,END=start,SCORE=end)%>%\n",
    "select(-om)%>%mutate(SCORE=stand01(SCORE))"
   ]
  },
  {
   "cell_type": "code",
   "execution_count": 101,
   "id": "f72f469e",
   "metadata": {},
   "outputs": [
    {
     "data": {
      "text/html": [
       "<table class=\"dataframe\">\n",
       "<caption>A data.frame: 2 × 4</caption>\n",
       "<thead>\n",
       "\t<tr><th></th><th scope=col>START</th><th scope=col>END</th><th scope=col>SCORE</th><th scope=col>CHROM</th></tr>\n",
       "\t<tr><th></th><th scope=col>&lt;int&gt;</th><th scope=col>&lt;int&gt;</th><th scope=col>&lt;dbl&gt;</th><th scope=col>&lt;int&gt;</th></tr>\n",
       "</thead>\n",
       "<tbody>\n",
       "\t<tr><th scope=row>1</th><td>133518045</td><td>133518161</td><td>0.00617284</td><td> 6</td></tr>\n",
       "\t<tr><th scope=row>2</th><td> 51630569</td><td> 51633727</td><td>0.24691358</td><td>13</td></tr>\n",
       "</tbody>\n",
       "</table>\n"
      ],
      "text/latex": [
       "A data.frame: 2 × 4\n",
       "\\begin{tabular}{r|llll}\n",
       "  & START & END & SCORE & CHROM\\\\\n",
       "  & <int> & <int> & <dbl> & <int>\\\\\n",
       "\\hline\n",
       "\t1 & 133518045 & 133518161 & 0.00617284 &  6\\\\\n",
       "\t2 &  51630569 &  51633727 & 0.24691358 & 13\\\\\n",
       "\\end{tabular}\n"
      ],
      "text/markdown": [
       "\n",
       "A data.frame: 2 × 4\n",
       "\n",
       "| <!--/--> | START &lt;int&gt; | END &lt;int&gt; | SCORE &lt;dbl&gt; | CHROM &lt;int&gt; |\n",
       "|---|---|---|---|---|\n",
       "| 1 | 133518045 | 133518161 | 0.00617284 |  6 |\n",
       "| 2 |  51630569 |  51633727 | 0.24691358 | 13 |\n",
       "\n"
      ],
      "text/plain": [
       "  START     END       SCORE      CHROM\n",
       "1 133518045 133518161 0.00617284  6   \n",
       "2  51630569  51633727 0.24691358 13   "
      ]
     },
     "metadata": {},
     "output_type": "display_data"
    }
   ],
   "source": [
    "head(gh,2)"
   ]
  },
  {
   "cell_type": "code",
   "execution_count": 102,
   "id": "f5fa22ce",
   "metadata": {},
   "outputs": [],
   "source": [
    "gene_variant_10 <- data.frame()\n",
    "for (i in 1:nrow(gene_variant_9) ){\n",
    "line_q <- gene_variant_9[i,]\n",
    "chr_q <- as.integer(line_q[3])\n",
    "start_q<- as.integer(line_q[4])\n",
    "end_q <- as.integer(line_q[5])\n",
    "genep<- nrow(gh%>%filter(CHROM==chr_q & START >= start_q & END <= end_q))\n",
    "if (genep>0){\n",
    "gh_df <- gh%>%filter(CHROM==chr_q & START >= start_q & END <= end_q)%>%select(SCORE)\n",
    "gh_score <- max(gh_df$SCORE)\n",
    "}else {\n",
    "gh_score <- 0\n",
    "}\n",
    "tmp_df <- gene_variant_9[i,]%>%mutate(GH_SCORE=gh_score)\n",
    "gene_variant_10 <- rbind(gene_variant_10,tmp_df)\n",
    "}"
   ]
  },
  {
   "cell_type": "code",
   "execution_count": 103,
   "id": "59c312e4-1e69-4a30-9e51-a51bfce5b220",
   "metadata": {},
   "outputs": [],
   "source": [
    "write.table(gene_variant_10,\"../../ANALYSIS/GeneHancer/TRANS_GENEHANCER.TAB\",quote=FALSE,sep=\"\\t\")"
   ]
  },
  {
   "cell_type": "code",
   "execution_count": 104,
   "id": "7edf7090",
   "metadata": {},
   "outputs": [
    {
     "data": {
      "text/html": [
       "<table class=\"dataframe\">\n",
       "<caption>A data.frame: 1 × 25</caption>\n",
       "<thead>\n",
       "\t<tr><th scope=col>ENSGID</th><th scope=col>NAME</th><th scope=col>CHR</th><th scope=col>START</th><th scope=col>END</th><th scope=col>TSS</th><th scope=col>INDEX</th><th scope=col>WINDOW</th><th scope=col>POSITION</th><th scope=col>TSS_DISTANCE</th><th scope=col>⋯</th><th scope=col>P_EQTL</th><th scope=col>EQTL_WT</th><th scope=col>LDSC_P</th><th scope=col>LDSC_WT</th><th scope=col>EMS_SCORE</th><th scope=col>EMS_WT</th><th scope=col>POPS_SCORE</th><th scope=col>DOWN_P</th><th scope=col>EPIMAP_SCORE</th><th scope=col>GH_SCORE</th></tr>\n",
       "\t<tr><th scope=col>&lt;chr&gt;</th><th scope=col>&lt;chr&gt;</th><th scope=col>&lt;int&gt;</th><th scope=col>&lt;int&gt;</th><th scope=col>&lt;int&gt;</th><th scope=col>&lt;int&gt;</th><th scope=col>&lt;chr&gt;</th><th scope=col>&lt;int&gt;</th><th scope=col>&lt;int&gt;</th><th scope=col>&lt;int&gt;</th><th scope=col>⋯</th><th scope=col>&lt;dbl&gt;</th><th scope=col>&lt;dbl&gt;</th><th scope=col>&lt;dbl&gt;</th><th scope=col>&lt;dbl&gt;</th><th scope=col>&lt;dbl&gt;</th><th scope=col>&lt;dbl&gt;</th><th scope=col>&lt;dbl&gt;</th><th scope=col>&lt;dbl&gt;</th><th scope=col>&lt;chr&gt;</th><th scope=col>&lt;dbl&gt;</th></tr>\n",
       "</thead>\n",
       "<tbody>\n",
       "\t<tr><td>ENSG00000181092</td><td>ADIPOQ</td><td>3</td><td>186560463</td><td>186576252</td><td>186560463</td><td>rs17366568</td><td>5</td><td>186570453</td><td>9990</td><td>⋯</td><td>1.1e-14</td><td>1</td><td>0.0883593</td><td>1</td><td>0.02929795</td><td>0.8</td><td>0.5534483</td><td>0.3806506</td><td>0.416221218865092</td><td>0.5740741</td></tr>\n",
       "</tbody>\n",
       "</table>\n"
      ],
      "text/latex": [
       "A data.frame: 1 × 25\n",
       "\\begin{tabular}{lllllllllllllllllllll}\n",
       " ENSGID & NAME & CHR & START & END & TSS & INDEX & WINDOW & POSITION & TSS\\_DISTANCE & ⋯ & P\\_EQTL & EQTL\\_WT & LDSC\\_P & LDSC\\_WT & EMS\\_SCORE & EMS\\_WT & POPS\\_SCORE & DOWN\\_P & EPIMAP\\_SCORE & GH\\_SCORE\\\\\n",
       " <chr> & <chr> & <int> & <int> & <int> & <int> & <chr> & <int> & <int> & <int> & ⋯ & <dbl> & <dbl> & <dbl> & <dbl> & <dbl> & <dbl> & <dbl> & <dbl> & <chr> & <dbl>\\\\\n",
       "\\hline\n",
       "\t ENSG00000181092 & ADIPOQ & 3 & 186560463 & 186576252 & 186560463 & rs17366568 & 5 & 186570453 & 9990 & ⋯ & 1.1e-14 & 1 & 0.0883593 & 1 & 0.02929795 & 0.8 & 0.5534483 & 0.3806506 & 0.416221218865092 & 0.5740741\\\\\n",
       "\\end{tabular}\n"
      ],
      "text/markdown": [
       "\n",
       "A data.frame: 1 × 25\n",
       "\n",
       "| ENSGID &lt;chr&gt; | NAME &lt;chr&gt; | CHR &lt;int&gt; | START &lt;int&gt; | END &lt;int&gt; | TSS &lt;int&gt; | INDEX &lt;chr&gt; | WINDOW &lt;int&gt; | POSITION &lt;int&gt; | TSS_DISTANCE &lt;int&gt; | ⋯ ⋯ | P_EQTL &lt;dbl&gt; | EQTL_WT &lt;dbl&gt; | LDSC_P &lt;dbl&gt; | LDSC_WT &lt;dbl&gt; | EMS_SCORE &lt;dbl&gt; | EMS_WT &lt;dbl&gt; | POPS_SCORE &lt;dbl&gt; | DOWN_P &lt;dbl&gt; | EPIMAP_SCORE &lt;chr&gt; | GH_SCORE &lt;dbl&gt; |\n",
       "|---|---|---|---|---|---|---|---|---|---|---|---|---|---|---|---|---|---|---|---|---|\n",
       "| ENSG00000181092 | ADIPOQ | 3 | 186560463 | 186576252 | 186560463 | rs17366568 | 5 | 186570453 | 9990 | ⋯ | 1.1e-14 | 1 | 0.0883593 | 1 | 0.02929795 | 0.8 | 0.5534483 | 0.3806506 | 0.416221218865092 | 0.5740741 |\n",
       "\n"
      ],
      "text/plain": [
       "  ENSGID          NAME   CHR START     END       TSS       INDEX      WINDOW\n",
       "1 ENSG00000181092 ADIPOQ 3   186560463 186576252 186560463 rs17366568 5     \n",
       "  POSITION  TSS_DISTANCE ⋯ P_EQTL  EQTL_WT LDSC_P    LDSC_WT EMS_SCORE  EMS_WT\n",
       "1 186570453 9990         ⋯ 1.1e-14 1       0.0883593 1       0.02929795 0.8   \n",
       "  POPS_SCORE DOWN_P    EPIMAP_SCORE      GH_SCORE \n",
       "1 0.5534483  0.3806506 0.416221218865092 0.5740741"
      ]
     },
     "metadata": {},
     "output_type": "display_data"
    }
   ],
   "source": [
    "gene_variant_10%>%filter(NAME==\"ADIPOQ\")"
   ]
  },
  {
   "cell_type": "code",
   "execution_count": 105,
   "id": "a4307f61",
   "metadata": {},
   "outputs": [],
   "source": [
    "## CS2GO SCORE"
   ]
  },
  {
   "cell_type": "code",
   "execution_count": 106,
   "id": "46c78a35",
   "metadata": {},
   "outputs": [],
   "source": [
    "cs2g <- read.table(\"../../ANALYSIS/cS2G/TRANS_CS2G.TAB\",fill=TRUE,row.names=NULL,header=TRUE)"
   ]
  },
  {
   "cell_type": "code",
   "execution_count": 107,
   "id": "5671fedd",
   "metadata": {},
   "outputs": [
    {
     "data": {
      "text/html": [
       "<table class=\"dataframe\">\n",
       "<caption>A data.frame: 2 × 5</caption>\n",
       "<thead>\n",
       "\t<tr><th></th><th scope=col>CHROMOSOME</th><th scope=col>POSITION</th><th scope=col>GENENAME</th><th scope=col>SCORE</th><th scope=col>INFO</th></tr>\n",
       "\t<tr><th></th><th scope=col>&lt;int&gt;</th><th scope=col>&lt;int&gt;</th><th scope=col>&lt;chr&gt;</th><th scope=col>&lt;dbl&gt;</th><th scope=col>&lt;chr&gt;</th></tr>\n",
       "</thead>\n",
       "<tbody>\n",
       "\t<tr><th scope=row>1</th><td> 4</td><td>96437606</td><td>UNC5C</td><td>1.0</td><td>|Roadmap=1|PCHiC_Jung=1|ABC=1          </td></tr>\n",
       "\t<tr><th scope=row>2</th><td>18</td><td>46361441</td><td>SMAD7</td><td>0.5</td><td>|PCHiC_Javierre=1|PCHiC_Jung=1|Cicero=1</td></tr>\n",
       "</tbody>\n",
       "</table>\n"
      ],
      "text/latex": [
       "A data.frame: 2 × 5\n",
       "\\begin{tabular}{r|lllll}\n",
       "  & CHROMOSOME & POSITION & GENENAME & SCORE & INFO\\\\\n",
       "  & <int> & <int> & <chr> & <dbl> & <chr>\\\\\n",
       "\\hline\n",
       "\t1 &  4 & 96437606 & UNC5C & 1.0 & \\textbar{}Roadmap=1\\textbar{}PCHiC\\_Jung=1\\textbar{}ABC=1          \\\\\n",
       "\t2 & 18 & 46361441 & SMAD7 & 0.5 & \\textbar{}PCHiC\\_Javierre=1\\textbar{}PCHiC\\_Jung=1\\textbar{}Cicero=1\\\\\n",
       "\\end{tabular}\n"
      ],
      "text/markdown": [
       "\n",
       "A data.frame: 2 × 5\n",
       "\n",
       "| <!--/--> | CHROMOSOME &lt;int&gt; | POSITION &lt;int&gt; | GENENAME &lt;chr&gt; | SCORE &lt;dbl&gt; | INFO &lt;chr&gt; |\n",
       "|---|---|---|---|---|---|\n",
       "| 1 |  4 | 96437606 | UNC5C | 1.0 | |Roadmap=1|PCHiC_Jung=1|ABC=1           |\n",
       "| 2 | 18 | 46361441 | SMAD7 | 0.5 | |PCHiC_Javierre=1|PCHiC_Jung=1|Cicero=1 |\n",
       "\n"
      ],
      "text/plain": [
       "  CHROMOSOME POSITION GENENAME SCORE INFO                                   \n",
       "1  4         96437606 UNC5C    1.0   |Roadmap=1|PCHiC_Jung=1|ABC=1          \n",
       "2 18         46361441 SMAD7    0.5   |PCHiC_Javierre=1|PCHiC_Jung=1|Cicero=1"
      ]
     },
     "metadata": {},
     "output_type": "display_data"
    }
   ],
   "source": [
    "head(cs2g,2)"
   ]
  },
  {
   "cell_type": "code",
   "execution_count": 108,
   "id": "df13763c",
   "metadata": {},
   "outputs": [],
   "source": [
    "gene_variant_11 <- data.frame()\n",
    "for (i in 1:nrow(gene_variant_10) ){\n",
    "line_q <- gene_variant_10[i,]\n",
    "ensg_q <- as.character(line_q[2])\n",
    "genep<- nrow(cs2g%>%filter(GENENAME==ensg_q))\n",
    "if (genep>0){\n",
    "cs2g_df <- cs2g%>%filter(GENENAME==ensg_q)%>%select(SCORE)\n",
    "score <- max(cs2g_df$SCORE)\n",
    "}else {\n",
    "score <- NA\n",
    "}\n",
    "tmp_df <- gene_variant_10[i,]%>%mutate(CS2G_SCORE=score)\n",
    "gene_variant_11 <- rbind(gene_variant_11,tmp_df)\n",
    "}"
   ]
  },
  {
   "cell_type": "code",
   "execution_count": 109,
   "id": "e715d131",
   "metadata": {},
   "outputs": [
    {
     "data": {
      "text/html": [
       "<table class=\"dataframe\">\n",
       "<caption>A data.frame: 6 × 26</caption>\n",
       "<thead>\n",
       "\t<tr><th></th><th scope=col>ENSGID</th><th scope=col>NAME</th><th scope=col>CHR</th><th scope=col>START</th><th scope=col>END</th><th scope=col>TSS</th><th scope=col>INDEX</th><th scope=col>WINDOW</th><th scope=col>POSITION</th><th scope=col>TSS_DISTANCE</th><th scope=col>⋯</th><th scope=col>EQTL_WT</th><th scope=col>LDSC_P</th><th scope=col>LDSC_WT</th><th scope=col>EMS_SCORE</th><th scope=col>EMS_WT</th><th scope=col>POPS_SCORE</th><th scope=col>DOWN_P</th><th scope=col>EPIMAP_SCORE</th><th scope=col>GH_SCORE</th><th scope=col>CS2G_SCORE</th></tr>\n",
       "\t<tr><th></th><th scope=col>&lt;chr&gt;</th><th scope=col>&lt;chr&gt;</th><th scope=col>&lt;int&gt;</th><th scope=col>&lt;int&gt;</th><th scope=col>&lt;int&gt;</th><th scope=col>&lt;int&gt;</th><th scope=col>&lt;chr&gt;</th><th scope=col>&lt;int&gt;</th><th scope=col>&lt;int&gt;</th><th scope=col>&lt;int&gt;</th><th scope=col>⋯</th><th scope=col>&lt;dbl&gt;</th><th scope=col>&lt;dbl&gt;</th><th scope=col>&lt;dbl&gt;</th><th scope=col>&lt;dbl&gt;</th><th scope=col>&lt;dbl&gt;</th><th scope=col>&lt;dbl&gt;</th><th scope=col>&lt;dbl&gt;</th><th scope=col>&lt;chr&gt;</th><th scope=col>&lt;dbl&gt;</th><th scope=col>&lt;dbl&gt;</th></tr>\n",
       "</thead>\n",
       "<tbody>\n",
       "\t<tr><th scope=row>1</th><td>ENSG00000004700</td><td>RECQL </td><td>12</td><td> 21621845</td><td> 21654603</td><td> 21654603</td><td>rs11045172</td><td>14</td><td> 20470221</td><td>1184382</td><td>⋯</td><td>0</td><td>0.626449957</td><td>1</td><td>0.0000000</td><td>0.0</td><td>0.4911776</td><td>       NA</td><td>0.262037256868874</td><td>0.1327160</td><td>0.005</td></tr>\n",
       "\t<tr><th scope=row>2</th><td>ENSG00000004975</td><td>DVL2  </td><td>17</td><td>  7128660</td><td>  7137864</td><td>  7137864</td><td>rs222852  </td><td>21</td><td>  7140606</td><td>   2742</td><td>⋯</td><td>0</td><td>0.000110552</td><td>1</td><td>0.7718478</td><td>1.0</td><td>0.4984750</td><td>0.9634051</td><td>0.843654039833281</td><td>0.4413580</td><td>1.000</td></tr>\n",
       "\t<tr><th scope=row>3</th><td>ENSG00000006047</td><td>YBX2  </td><td>17</td><td>  7191571</td><td>  7197934</td><td>  7197934</td><td>rs222852  </td><td>21</td><td>  7140606</td><td>  57328</td><td>⋯</td><td>0</td><td>         NA</td><td>0</td><td>0.7718478</td><td>1.0</td><td>0.4997579</td><td>0.3052930</td><td>0.739828457192677</td><td>0.1975309</td><td>1.000</td></tr>\n",
       "\t<tr><th scope=row>4</th><td>ENSG00000008405</td><td>CRY1  </td><td>12</td><td>107385142</td><td>107487607</td><td>107487607</td><td>rs10778506</td><td>16</td><td>107143260</td><td> 344347</td><td>⋯</td><td>0</td><td>0.084596732</td><td>1</td><td>0.0000000</td><td>0.0</td><td>0.5450225</td><td>0.6342621</td><td>0.336853981018066</td><td>0.2098765</td><td>   NA</td></tr>\n",
       "\t<tr><th scope=row>5</th><td>ENSG00000010318</td><td>PHF7  </td><td> 3</td><td> 52444673</td><td> 52457657</td><td> 52444673</td><td>rs1108842 </td><td> 4</td><td> 52720080</td><td> 275407</td><td>⋯</td><td>0</td><td>         NA</td><td>0</td><td>0.4434896</td><td>0.8</td><td>0.5064670</td><td>0.9426803</td><td>0.412455677986145</td><td>0.6759259</td><td>0.800</td></tr>\n",
       "\t<tr><th scope=row>6</th><td>ENSG00000010319</td><td>SEMA3G</td><td> 3</td><td> 52467069</td><td> 52479101</td><td> 52479101</td><td>rs1108842 </td><td> 4</td><td> 52720080</td><td> 240979</td><td>⋯</td><td>0</td><td>0.002939900</td><td>1</td><td>0.0000000</td><td>0.0</td><td>0.5125703</td><td>0.3892531</td><td>0.936377247174581</td><td>0.1481481</td><td>0.930</td></tr>\n",
       "</tbody>\n",
       "</table>\n"
      ],
      "text/latex": [
       "A data.frame: 6 × 26\n",
       "\\begin{tabular}{r|lllllllllllllllllllll}\n",
       "  & ENSGID & NAME & CHR & START & END & TSS & INDEX & WINDOW & POSITION & TSS\\_DISTANCE & ⋯ & EQTL\\_WT & LDSC\\_P & LDSC\\_WT & EMS\\_SCORE & EMS\\_WT & POPS\\_SCORE & DOWN\\_P & EPIMAP\\_SCORE & GH\\_SCORE & CS2G\\_SCORE\\\\\n",
       "  & <chr> & <chr> & <int> & <int> & <int> & <int> & <chr> & <int> & <int> & <int> & ⋯ & <dbl> & <dbl> & <dbl> & <dbl> & <dbl> & <dbl> & <dbl> & <chr> & <dbl> & <dbl>\\\\\n",
       "\\hline\n",
       "\t1 & ENSG00000004700 & RECQL  & 12 &  21621845 &  21654603 &  21654603 & rs11045172 & 14 &  20470221 & 1184382 & ⋯ & 0 & 0.626449957 & 1 & 0.0000000 & 0.0 & 0.4911776 &        NA & 0.262037256868874 & 0.1327160 & 0.005\\\\\n",
       "\t2 & ENSG00000004975 & DVL2   & 17 &   7128660 &   7137864 &   7137864 & rs222852   & 21 &   7140606 &    2742 & ⋯ & 0 & 0.000110552 & 1 & 0.7718478 & 1.0 & 0.4984750 & 0.9634051 & 0.843654039833281 & 0.4413580 & 1.000\\\\\n",
       "\t3 & ENSG00000006047 & YBX2   & 17 &   7191571 &   7197934 &   7197934 & rs222852   & 21 &   7140606 &   57328 & ⋯ & 0 &          NA & 0 & 0.7718478 & 1.0 & 0.4997579 & 0.3052930 & 0.739828457192677 & 0.1975309 & 1.000\\\\\n",
       "\t4 & ENSG00000008405 & CRY1   & 12 & 107385142 & 107487607 & 107487607 & rs10778506 & 16 & 107143260 &  344347 & ⋯ & 0 & 0.084596732 & 1 & 0.0000000 & 0.0 & 0.5450225 & 0.6342621 & 0.336853981018066 & 0.2098765 &    NA\\\\\n",
       "\t5 & ENSG00000010318 & PHF7   &  3 &  52444673 &  52457657 &  52444673 & rs1108842  &  4 &  52720080 &  275407 & ⋯ & 0 &          NA & 0 & 0.4434896 & 0.8 & 0.5064670 & 0.9426803 & 0.412455677986145 & 0.6759259 & 0.800\\\\\n",
       "\t6 & ENSG00000010319 & SEMA3G &  3 &  52467069 &  52479101 &  52479101 & rs1108842  &  4 &  52720080 &  240979 & ⋯ & 0 & 0.002939900 & 1 & 0.0000000 & 0.0 & 0.5125703 & 0.3892531 & 0.936377247174581 & 0.1481481 & 0.930\\\\\n",
       "\\end{tabular}\n"
      ],
      "text/markdown": [
       "\n",
       "A data.frame: 6 × 26\n",
       "\n",
       "| <!--/--> | ENSGID &lt;chr&gt; | NAME &lt;chr&gt; | CHR &lt;int&gt; | START &lt;int&gt; | END &lt;int&gt; | TSS &lt;int&gt; | INDEX &lt;chr&gt; | WINDOW &lt;int&gt; | POSITION &lt;int&gt; | TSS_DISTANCE &lt;int&gt; | ⋯ ⋯ | EQTL_WT &lt;dbl&gt; | LDSC_P &lt;dbl&gt; | LDSC_WT &lt;dbl&gt; | EMS_SCORE &lt;dbl&gt; | EMS_WT &lt;dbl&gt; | POPS_SCORE &lt;dbl&gt; | DOWN_P &lt;dbl&gt; | EPIMAP_SCORE &lt;chr&gt; | GH_SCORE &lt;dbl&gt; | CS2G_SCORE &lt;dbl&gt; |\n",
       "|---|---|---|---|---|---|---|---|---|---|---|---|---|---|---|---|---|---|---|---|---|---|\n",
       "| 1 | ENSG00000004700 | RECQL  | 12 |  21621845 |  21654603 |  21654603 | rs11045172 | 14 |  20470221 | 1184382 | ⋯ | 0 | 0.626449957 | 1 | 0.0000000 | 0.0 | 0.4911776 |        NA | 0.262037256868874 | 0.1327160 | 0.005 |\n",
       "| 2 | ENSG00000004975 | DVL2   | 17 |   7128660 |   7137864 |   7137864 | rs222852   | 21 |   7140606 |    2742 | ⋯ | 0 | 0.000110552 | 1 | 0.7718478 | 1.0 | 0.4984750 | 0.9634051 | 0.843654039833281 | 0.4413580 | 1.000 |\n",
       "| 3 | ENSG00000006047 | YBX2   | 17 |   7191571 |   7197934 |   7197934 | rs222852   | 21 |   7140606 |   57328 | ⋯ | 0 |          NA | 0 | 0.7718478 | 1.0 | 0.4997579 | 0.3052930 | 0.739828457192677 | 0.1975309 | 1.000 |\n",
       "| 4 | ENSG00000008405 | CRY1   | 12 | 107385142 | 107487607 | 107487607 | rs10778506 | 16 | 107143260 |  344347 | ⋯ | 0 | 0.084596732 | 1 | 0.0000000 | 0.0 | 0.5450225 | 0.6342621 | 0.336853981018066 | 0.2098765 |    NA |\n",
       "| 5 | ENSG00000010318 | PHF7   |  3 |  52444673 |  52457657 |  52444673 | rs1108842  |  4 |  52720080 |  275407 | ⋯ | 0 |          NA | 0 | 0.4434896 | 0.8 | 0.5064670 | 0.9426803 | 0.412455677986145 | 0.6759259 | 0.800 |\n",
       "| 6 | ENSG00000010319 | SEMA3G |  3 |  52467069 |  52479101 |  52479101 | rs1108842  |  4 |  52720080 |  240979 | ⋯ | 0 | 0.002939900 | 1 | 0.0000000 | 0.0 | 0.5125703 | 0.3892531 | 0.936377247174581 | 0.1481481 | 0.930 |\n",
       "\n"
      ],
      "text/plain": [
       "  ENSGID          NAME   CHR START     END       TSS       INDEX      WINDOW\n",
       "1 ENSG00000004700 RECQL  12   21621845  21654603  21654603 rs11045172 14    \n",
       "2 ENSG00000004975 DVL2   17    7128660   7137864   7137864 rs222852   21    \n",
       "3 ENSG00000006047 YBX2   17    7191571   7197934   7197934 rs222852   21    \n",
       "4 ENSG00000008405 CRY1   12  107385142 107487607 107487607 rs10778506 16    \n",
       "5 ENSG00000010318 PHF7    3   52444673  52457657  52444673 rs1108842   4    \n",
       "6 ENSG00000010319 SEMA3G  3   52467069  52479101  52479101 rs1108842   4    \n",
       "  POSITION  TSS_DISTANCE ⋯ EQTL_WT LDSC_P      LDSC_WT EMS_SCORE EMS_WT\n",
       "1  20470221 1184382      ⋯ 0       0.626449957 1       0.0000000 0.0   \n",
       "2   7140606    2742      ⋯ 0       0.000110552 1       0.7718478 1.0   \n",
       "3   7140606   57328      ⋯ 0                NA 0       0.7718478 1.0   \n",
       "4 107143260  344347      ⋯ 0       0.084596732 1       0.0000000 0.0   \n",
       "5  52720080  275407      ⋯ 0                NA 0       0.4434896 0.8   \n",
       "6  52720080  240979      ⋯ 0       0.002939900 1       0.0000000 0.0   \n",
       "  POPS_SCORE DOWN_P    EPIMAP_SCORE      GH_SCORE  CS2G_SCORE\n",
       "1 0.4911776         NA 0.262037256868874 0.1327160 0.005     \n",
       "2 0.4984750  0.9634051 0.843654039833281 0.4413580 1.000     \n",
       "3 0.4997579  0.3052930 0.739828457192677 0.1975309 1.000     \n",
       "4 0.5450225  0.6342621 0.336853981018066 0.2098765    NA     \n",
       "5 0.5064670  0.9426803 0.412455677986145 0.6759259 0.800     \n",
       "6 0.5125703  0.3892531 0.936377247174581 0.1481481 0.930     "
      ]
     },
     "metadata": {},
     "output_type": "display_data"
    }
   ],
   "source": [
    "head(gene_variant_11)"
   ]
  },
  {
   "cell_type": "code",
   "execution_count": 110,
   "id": "2de4dc00",
   "metadata": {},
   "outputs": [
    {
     "data": {
      "text/html": [
       "<style>\n",
       ".list-inline {list-style: none; margin:0; padding: 0}\n",
       ".list-inline>li {display: inline-block}\n",
       ".list-inline>li:not(:last-child)::after {content: \"\\00b7\"; padding: 0 .5ex}\n",
       "</style>\n",
       "<ol class=list-inline><li>'ENSGID'</li><li>'NAME'</li><li>'CHR'</li><li>'START'</li><li>'END'</li><li>'TSS'</li><li>'INDEX'</li><li>'WINDOW'</li><li>'POSITION'</li><li>'TSS_DISTANCE'</li><li>'MAGMA_P'</li><li>'coloc_pip'</li><li>'coloc_WT'</li><li>'p_SMR'</li><li>'SMR_WT'</li><li>'P_EQTL'</li><li>'EQTL_WT'</li><li>'LDSC_P'</li><li>'LDSC_WT'</li><li>'EMS_SCORE'</li><li>'EMS_WT'</li><li>'POPS_SCORE'</li><li>'DOWN_P'</li><li>'EPIMAP_SCORE'</li><li>'GH_SCORE'</li><li>'CS2G_SCORE'</li></ol>\n"
      ],
      "text/latex": [
       "\\begin{enumerate*}\n",
       "\\item 'ENSGID'\n",
       "\\item 'NAME'\n",
       "\\item 'CHR'\n",
       "\\item 'START'\n",
       "\\item 'END'\n",
       "\\item 'TSS'\n",
       "\\item 'INDEX'\n",
       "\\item 'WINDOW'\n",
       "\\item 'POSITION'\n",
       "\\item 'TSS\\_DISTANCE'\n",
       "\\item 'MAGMA\\_P'\n",
       "\\item 'coloc\\_pip'\n",
       "\\item 'coloc\\_WT'\n",
       "\\item 'p\\_SMR'\n",
       "\\item 'SMR\\_WT'\n",
       "\\item 'P\\_EQTL'\n",
       "\\item 'EQTL\\_WT'\n",
       "\\item 'LDSC\\_P'\n",
       "\\item 'LDSC\\_WT'\n",
       "\\item 'EMS\\_SCORE'\n",
       "\\item 'EMS\\_WT'\n",
       "\\item 'POPS\\_SCORE'\n",
       "\\item 'DOWN\\_P'\n",
       "\\item 'EPIMAP\\_SCORE'\n",
       "\\item 'GH\\_SCORE'\n",
       "\\item 'CS2G\\_SCORE'\n",
       "\\end{enumerate*}\n"
      ],
      "text/markdown": [
       "1. 'ENSGID'\n",
       "2. 'NAME'\n",
       "3. 'CHR'\n",
       "4. 'START'\n",
       "5. 'END'\n",
       "6. 'TSS'\n",
       "7. 'INDEX'\n",
       "8. 'WINDOW'\n",
       "9. 'POSITION'\n",
       "10. 'TSS_DISTANCE'\n",
       "11. 'MAGMA_P'\n",
       "12. 'coloc_pip'\n",
       "13. 'coloc_WT'\n",
       "14. 'p_SMR'\n",
       "15. 'SMR_WT'\n",
       "16. 'P_EQTL'\n",
       "17. 'EQTL_WT'\n",
       "18. 'LDSC_P'\n",
       "19. 'LDSC_WT'\n",
       "20. 'EMS_SCORE'\n",
       "21. 'EMS_WT'\n",
       "22. 'POPS_SCORE'\n",
       "23. 'DOWN_P'\n",
       "24. 'EPIMAP_SCORE'\n",
       "25. 'GH_SCORE'\n",
       "26. 'CS2G_SCORE'\n",
       "\n",
       "\n"
      ],
      "text/plain": [
       " [1] \"ENSGID\"       \"NAME\"         \"CHR\"          \"START\"        \"END\"         \n",
       " [6] \"TSS\"          \"INDEX\"        \"WINDOW\"       \"POSITION\"     \"TSS_DISTANCE\"\n",
       "[11] \"MAGMA_P\"      \"coloc_pip\"    \"coloc_WT\"     \"p_SMR\"        \"SMR_WT\"      \n",
       "[16] \"P_EQTL\"       \"EQTL_WT\"      \"LDSC_P\"       \"LDSC_WT\"      \"EMS_SCORE\"   \n",
       "[21] \"EMS_WT\"       \"POPS_SCORE\"   \"DOWN_P\"       \"EPIMAP_SCORE\" \"GH_SCORE\"    \n",
       "[26] \"CS2G_SCORE\"  "
      ]
     },
     "metadata": {},
     "output_type": "display_data"
    }
   ],
   "source": [
    "colnames(gene_variant_11)"
   ]
  },
  {
   "cell_type": "code",
   "execution_count": 111,
   "id": "ae735110",
   "metadata": {},
   "outputs": [
    {
     "data": {
      "text/html": [
       "<table class=\"dataframe\">\n",
       "<caption>A data.frame: 2 × 26</caption>\n",
       "<thead>\n",
       "\t<tr><th></th><th scope=col>ENSGID</th><th scope=col>NAME</th><th scope=col>CHR</th><th scope=col>START</th><th scope=col>END</th><th scope=col>TSS</th><th scope=col>INDEX</th><th scope=col>WINDOW</th><th scope=col>POSITION</th><th scope=col>TSS_DISTANCE</th><th scope=col>⋯</th><th scope=col>EQTL_WT</th><th scope=col>LDSC_P</th><th scope=col>LDSC_WT</th><th scope=col>EMS_SCORE</th><th scope=col>EMS_WT</th><th scope=col>POPS_SCORE</th><th scope=col>DOWN_P</th><th scope=col>EPIMAP_SCORE</th><th scope=col>GH_SCORE</th><th scope=col>CS2G_SCORE</th></tr>\n",
       "\t<tr><th></th><th scope=col>&lt;chr&gt;</th><th scope=col>&lt;chr&gt;</th><th scope=col>&lt;int&gt;</th><th scope=col>&lt;int&gt;</th><th scope=col>&lt;int&gt;</th><th scope=col>&lt;int&gt;</th><th scope=col>&lt;chr&gt;</th><th scope=col>&lt;int&gt;</th><th scope=col>&lt;int&gt;</th><th scope=col>&lt;int&gt;</th><th scope=col>⋯</th><th scope=col>&lt;dbl&gt;</th><th scope=col>&lt;dbl&gt;</th><th scope=col>&lt;dbl&gt;</th><th scope=col>&lt;dbl&gt;</th><th scope=col>&lt;dbl&gt;</th><th scope=col>&lt;dbl&gt;</th><th scope=col>&lt;dbl&gt;</th><th scope=col>&lt;chr&gt;</th><th scope=col>&lt;dbl&gt;</th><th scope=col>&lt;dbl&gt;</th></tr>\n",
       "</thead>\n",
       "<tbody>\n",
       "\t<tr><th scope=row>1</th><td>ENSG00000004700</td><td>RECQL</td><td>12</td><td>21621845</td><td>21654603</td><td>21654603</td><td>rs11045172</td><td>14</td><td>20470221</td><td>1184382</td><td>⋯</td><td>0</td><td>0.626449957</td><td>1</td><td>0.0000000</td><td>0</td><td>0.4911776</td><td>       NA</td><td>0.262037256868874</td><td>0.132716</td><td>0.005</td></tr>\n",
       "\t<tr><th scope=row>2</th><td>ENSG00000004975</td><td>DVL2 </td><td>17</td><td> 7128660</td><td> 7137864</td><td> 7137864</td><td>rs222852  </td><td>21</td><td> 7140606</td><td>   2742</td><td>⋯</td><td>0</td><td>0.000110552</td><td>1</td><td>0.7718478</td><td>1</td><td>0.4984750</td><td>0.9634051</td><td>0.843654039833281</td><td>0.441358</td><td>1.000</td></tr>\n",
       "</tbody>\n",
       "</table>\n"
      ],
      "text/latex": [
       "A data.frame: 2 × 26\n",
       "\\begin{tabular}{r|lllllllllllllllllllll}\n",
       "  & ENSGID & NAME & CHR & START & END & TSS & INDEX & WINDOW & POSITION & TSS\\_DISTANCE & ⋯ & EQTL\\_WT & LDSC\\_P & LDSC\\_WT & EMS\\_SCORE & EMS\\_WT & POPS\\_SCORE & DOWN\\_P & EPIMAP\\_SCORE & GH\\_SCORE & CS2G\\_SCORE\\\\\n",
       "  & <chr> & <chr> & <int> & <int> & <int> & <int> & <chr> & <int> & <int> & <int> & ⋯ & <dbl> & <dbl> & <dbl> & <dbl> & <dbl> & <dbl> & <dbl> & <chr> & <dbl> & <dbl>\\\\\n",
       "\\hline\n",
       "\t1 & ENSG00000004700 & RECQL & 12 & 21621845 & 21654603 & 21654603 & rs11045172 & 14 & 20470221 & 1184382 & ⋯ & 0 & 0.626449957 & 1 & 0.0000000 & 0 & 0.4911776 &        NA & 0.262037256868874 & 0.132716 & 0.005\\\\\n",
       "\t2 & ENSG00000004975 & DVL2  & 17 &  7128660 &  7137864 &  7137864 & rs222852   & 21 &  7140606 &    2742 & ⋯ & 0 & 0.000110552 & 1 & 0.7718478 & 1 & 0.4984750 & 0.9634051 & 0.843654039833281 & 0.441358 & 1.000\\\\\n",
       "\\end{tabular}\n"
      ],
      "text/markdown": [
       "\n",
       "A data.frame: 2 × 26\n",
       "\n",
       "| <!--/--> | ENSGID &lt;chr&gt; | NAME &lt;chr&gt; | CHR &lt;int&gt; | START &lt;int&gt; | END &lt;int&gt; | TSS &lt;int&gt; | INDEX &lt;chr&gt; | WINDOW &lt;int&gt; | POSITION &lt;int&gt; | TSS_DISTANCE &lt;int&gt; | ⋯ ⋯ | EQTL_WT &lt;dbl&gt; | LDSC_P &lt;dbl&gt; | LDSC_WT &lt;dbl&gt; | EMS_SCORE &lt;dbl&gt; | EMS_WT &lt;dbl&gt; | POPS_SCORE &lt;dbl&gt; | DOWN_P &lt;dbl&gt; | EPIMAP_SCORE &lt;chr&gt; | GH_SCORE &lt;dbl&gt; | CS2G_SCORE &lt;dbl&gt; |\n",
       "|---|---|---|---|---|---|---|---|---|---|---|---|---|---|---|---|---|---|---|---|---|---|\n",
       "| 1 | ENSG00000004700 | RECQL | 12 | 21621845 | 21654603 | 21654603 | rs11045172 | 14 | 20470221 | 1184382 | ⋯ | 0 | 0.626449957 | 1 | 0.0000000 | 0 | 0.4911776 |        NA | 0.262037256868874 | 0.132716 | 0.005 |\n",
       "| 2 | ENSG00000004975 | DVL2  | 17 |  7128660 |  7137864 |  7137864 | rs222852   | 21 |  7140606 |    2742 | ⋯ | 0 | 0.000110552 | 1 | 0.7718478 | 1 | 0.4984750 | 0.9634051 | 0.843654039833281 | 0.441358 | 1.000 |\n",
       "\n"
      ],
      "text/plain": [
       "  ENSGID          NAME  CHR START    END      TSS      INDEX      WINDOW\n",
       "1 ENSG00000004700 RECQL 12  21621845 21654603 21654603 rs11045172 14    \n",
       "2 ENSG00000004975 DVL2  17   7128660  7137864  7137864 rs222852   21    \n",
       "  POSITION TSS_DISTANCE ⋯ EQTL_WT LDSC_P      LDSC_WT EMS_SCORE EMS_WT\n",
       "1 20470221 1184382      ⋯ 0       0.626449957 1       0.0000000 0     \n",
       "2  7140606    2742      ⋯ 0       0.000110552 1       0.7718478 1     \n",
       "  POPS_SCORE DOWN_P    EPIMAP_SCORE      GH_SCORE CS2G_SCORE\n",
       "1 0.4911776         NA 0.262037256868874 0.132716 0.005     \n",
       "2 0.4984750  0.9634051 0.843654039833281 0.441358 1.000     "
      ]
     },
     "metadata": {},
     "output_type": "display_data"
    }
   ],
   "source": [
    "head(gene_variant_11,2)"
   ]
  },
  {
   "cell_type": "code",
   "execution_count": 112,
   "id": "a97f68f6",
   "metadata": {},
   "outputs": [
    {
     "data": {
      "text/html": [
       "679"
      ],
      "text/latex": [
       "679"
      ],
      "text/markdown": [
       "679"
      ],
      "text/plain": [
       "[1] 679"
      ]
     },
     "metadata": {},
     "output_type": "display_data"
    }
   ],
   "source": [
    "length(na.omit(gene_variant_11$POPS_SCORE))"
   ]
  },
  {
   "cell_type": "code",
   "execution_count": 113,
   "id": "cf4f6e85",
   "metadata": {},
   "outputs": [
    {
     "data": {
      "text/html": [
       "<table class=\"dataframe\">\n",
       "<caption>A data.frame: 1 × 26</caption>\n",
       "<thead>\n",
       "\t<tr><th scope=col>ENSGID</th><th scope=col>NAME</th><th scope=col>CHR</th><th scope=col>START</th><th scope=col>END</th><th scope=col>TSS</th><th scope=col>INDEX</th><th scope=col>WINDOW</th><th scope=col>POSITION</th><th scope=col>TSS_DISTANCE</th><th scope=col>⋯</th><th scope=col>EQTL_WT</th><th scope=col>LDSC_P</th><th scope=col>LDSC_WT</th><th scope=col>EMS_SCORE</th><th scope=col>EMS_WT</th><th scope=col>POPS_SCORE</th><th scope=col>DOWN_P</th><th scope=col>EPIMAP_SCORE</th><th scope=col>GH_SCORE</th><th scope=col>CS2G_SCORE</th></tr>\n",
       "\t<tr><th scope=col>&lt;chr&gt;</th><th scope=col>&lt;chr&gt;</th><th scope=col>&lt;int&gt;</th><th scope=col>&lt;int&gt;</th><th scope=col>&lt;int&gt;</th><th scope=col>&lt;int&gt;</th><th scope=col>&lt;chr&gt;</th><th scope=col>&lt;int&gt;</th><th scope=col>&lt;int&gt;</th><th scope=col>&lt;int&gt;</th><th scope=col>⋯</th><th scope=col>&lt;dbl&gt;</th><th scope=col>&lt;dbl&gt;</th><th scope=col>&lt;dbl&gt;</th><th scope=col>&lt;dbl&gt;</th><th scope=col>&lt;dbl&gt;</th><th scope=col>&lt;dbl&gt;</th><th scope=col>&lt;dbl&gt;</th><th scope=col>&lt;chr&gt;</th><th scope=col>&lt;dbl&gt;</th><th scope=col>&lt;dbl&gt;</th></tr>\n",
       "</thead>\n",
       "<tbody>\n",
       "\t<tr><td>ENSG00000184371</td><td>CSF1</td><td>1</td><td>110452864</td><td>110473614</td><td>110452864</td><td>rs333947</td><td>1</td><td>110470764</td><td>17900</td><td>⋯</td><td>1</td><td>0.4198435</td><td>1</td><td>0.09607518</td><td>0.8</td><td>0.607029</td><td>0.3668719</td><td>0.953864627414279</td><td>0.1728395</td><td>1</td></tr>\n",
       "</tbody>\n",
       "</table>\n"
      ],
      "text/latex": [
       "A data.frame: 1 × 26\n",
       "\\begin{tabular}{lllllllllllllllllllll}\n",
       " ENSGID & NAME & CHR & START & END & TSS & INDEX & WINDOW & POSITION & TSS\\_DISTANCE & ⋯ & EQTL\\_WT & LDSC\\_P & LDSC\\_WT & EMS\\_SCORE & EMS\\_WT & POPS\\_SCORE & DOWN\\_P & EPIMAP\\_SCORE & GH\\_SCORE & CS2G\\_SCORE\\\\\n",
       " <chr> & <chr> & <int> & <int> & <int> & <int> & <chr> & <int> & <int> & <int> & ⋯ & <dbl> & <dbl> & <dbl> & <dbl> & <dbl> & <dbl> & <dbl> & <chr> & <dbl> & <dbl>\\\\\n",
       "\\hline\n",
       "\t ENSG00000184371 & CSF1 & 1 & 110452864 & 110473614 & 110452864 & rs333947 & 1 & 110470764 & 17900 & ⋯ & 1 & 0.4198435 & 1 & 0.09607518 & 0.8 & 0.607029 & 0.3668719 & 0.953864627414279 & 0.1728395 & 1\\\\\n",
       "\\end{tabular}\n"
      ],
      "text/markdown": [
       "\n",
       "A data.frame: 1 × 26\n",
       "\n",
       "| ENSGID &lt;chr&gt; | NAME &lt;chr&gt; | CHR &lt;int&gt; | START &lt;int&gt; | END &lt;int&gt; | TSS &lt;int&gt; | INDEX &lt;chr&gt; | WINDOW &lt;int&gt; | POSITION &lt;int&gt; | TSS_DISTANCE &lt;int&gt; | ⋯ ⋯ | EQTL_WT &lt;dbl&gt; | LDSC_P &lt;dbl&gt; | LDSC_WT &lt;dbl&gt; | EMS_SCORE &lt;dbl&gt; | EMS_WT &lt;dbl&gt; | POPS_SCORE &lt;dbl&gt; | DOWN_P &lt;dbl&gt; | EPIMAP_SCORE &lt;chr&gt; | GH_SCORE &lt;dbl&gt; | CS2G_SCORE &lt;dbl&gt; |\n",
       "|---|---|---|---|---|---|---|---|---|---|---|---|---|---|---|---|---|---|---|---|---|\n",
       "| ENSG00000184371 | CSF1 | 1 | 110452864 | 110473614 | 110452864 | rs333947 | 1 | 110470764 | 17900 | ⋯ | 1 | 0.4198435 | 1 | 0.09607518 | 0.8 | 0.607029 | 0.3668719 | 0.953864627414279 | 0.1728395 | 1 |\n",
       "\n"
      ],
      "text/plain": [
       "  ENSGID          NAME CHR START     END       TSS       INDEX    WINDOW\n",
       "1 ENSG00000184371 CSF1 1   110452864 110473614 110452864 rs333947 1     \n",
       "  POSITION  TSS_DISTANCE ⋯ EQTL_WT LDSC_P    LDSC_WT EMS_SCORE  EMS_WT\n",
       "1 110470764 17900        ⋯ 1       0.4198435 1       0.09607518 0.8   \n",
       "  POPS_SCORE DOWN_P    EPIMAP_SCORE      GH_SCORE  CS2G_SCORE\n",
       "1 0.607029   0.3668719 0.953864627414279 0.1728395 1         "
      ]
     },
     "metadata": {},
     "output_type": "display_data"
    }
   ],
   "source": [
    "gene_variant_11%>%filter(NAME==\"CSF1\")"
   ]
  },
  {
   "cell_type": "code",
   "execution_count": 114,
   "id": "e364d7e3",
   "metadata": {},
   "outputs": [],
   "source": [
    "## GENE PRIORITY SCORE"
   ]
  },
  {
   "cell_type": "code",
   "execution_count": null,
   "id": "40f92c2b",
   "metadata": {},
   "outputs": [],
   "source": []
  },
  {
   "cell_type": "code",
   "execution_count": 115,
   "id": "093bf648",
   "metadata": {},
   "outputs": [],
   "source": [
    "library('metap')"
   ]
  },
  {
   "cell_type": "code",
   "execution_count": 116,
   "id": "03c23c6f",
   "metadata": {},
   "outputs": [],
   "source": [
    "gene_priority <- data.frame()\n",
    "for (i in 1:nrow(gene_variant_11) ){\n",
    "line_q <- gene_variant_11[i,] \n",
    "p_g_raw <- na.omit(c(line_q$MAGMA_P,line_q$p_SMR,line_q$P_EQTL,line_q$LDSC_P,line_q$DOWN_P))\n",
    "if (length(p_g_raw)<2){\n",
    "p_g <- p_g_raw\n",
    "} else {\n",
    "p_g <- -log10(as.double(allmetap(p_g_raw,method=\"sumz\")$p))}\n",
    "S_G <- sum(as.double(na.omit(c(line_q$coloc_pip,line_q$EMS_SCORE,line_q$POPS_SCORE,line_q$EPIMAP_SCORE,line_q$GH_SCORE,line_q$CS2G_SCORE))))\n",
    "C_S <- sum(as.double(na.omit(c(line_q$coloc_WT,line_q$SMR_WT,line_q$EQTL_WT,line_q$LDSC_WT,line_q$EMS_WT)))+\n",
    "           length(as.double(na.omit(line_q$MAGMA_P,line_q$POPS_SCORE,line_q$DOWN_P,line_q$EPIMAP_SCORE,line_q$GH_SCORE,line_q$CS2G_SCORE))))/11\n",
    "GP_SCORE <- ((as.double(p_g)+as.double(S_G))*as.double(C_S))/log2(line_q$TSS_DISTANCE)\n",
    "tmp_df <- gene_variant_11[i,]%>%mutate(GP_SCORE=as.double(GP_SCORE),P_G=p_g,SG=S_G,CS=C_S)\n",
    "gene_priority  <- rbind(gene_priority,tmp_df)\n",
    "}"
   ]
  },
  {
   "cell_type": "code",
   "execution_count": 117,
   "id": "2d6374fb",
   "metadata": {},
   "outputs": [
    {
     "name": "stderr",
     "output_type": "stream",
     "text": [
      "\u001b[1m\u001b[22mAdding missing grouping variables: `WINDOW`\n"
     ]
    }
   ],
   "source": [
    "gene_priority <- arrange(gene_priority%>%group_by(WINDOW)%>% mutate(mx = max(GP_SCORE)) %>% arrange(desc(mx), desc(GP_SCORE)) %>% select(-mx),CHR,POSITION)%>%\n",
    "select(NAME,CHR,POSITION,INDEX,GP_SCORE,TSS_DISTANCE,P_G,SG,CS,MAGMA_P,p_SMR,P_EQTL,LDSC_P,DOWN_P,coloc_pip,EMS_SCORE,POPS_SCORE,GH_SCORE,CS2G_SCORE,coloc_WT,SMR_WT,EQTL_WT,LDSC_WT,EMS_WT)"
   ]
  },
  {
   "cell_type": "code",
   "execution_count": 118,
   "id": "4f6e0bfa-f1bf-45d7-b199-19f59be4ec9d",
   "metadata": {},
   "outputs": [],
   "source": [
    "normalit<-function(m){\n",
    "   (m - mean(m))/(sd(m))\n",
    " }"
   ]
  },
  {
   "cell_type": "code",
   "execution_count": 119,
   "id": "b2e5d697-6e44-45bd-a2fd-d19371f556fb",
   "metadata": {},
   "outputs": [],
   "source": [
    "## reli imp"
   ]
  },
  {
   "cell_type": "code",
   "execution_count": 120,
   "id": "4507b0e4-2cde-41f1-b877-a4323e6a9784",
   "metadata": {},
   "outputs": [
    {
     "name": "stderr",
     "output_type": "stream",
     "text": [
      "Warning message:\n",
      "\"`cols` is now required when using unnest().\n",
      "Please use `cols = c(gpcontrib)`\"\n"
     ]
    }
   ],
   "source": [
    "suppressWarnings(suppressMessages(library('relaimpo')))\n",
    "df <- gene_priority%>%group_by(WINDOW)%>% mutate(CS2G_SCORE = ifelse(is.na(CS2G_SCORE), 0, CS2G_SCORE))%>%mutate(TSS_norm=normalit(log2(TSS_DISTANCE)),PG=normalit(P_G),CSN=normalit(CS),SGN=normalit(SG))\n",
    "df_csf1 <- df%>%filter(WINDOW==1)\n",
    "df1 <- df%>%group_by(WINDOW) %>%do( gpcontrib= (calc.relimp(lm(GP_SCORE ~  TSS_norm+ PG + CSN+ SGN, data = .),rela = TRUE))$lmg)\n",
    "df2<- read.table(\"../../ANALYSIS/TRANSANCESTRY_WINDOW_GENE.txt\",header=TRUE)\n",
    "df3 <- merge(df,df1,by=\"WINDOW\")\n",
    "df4 <- merge(df3,df2,by=\"WINDOW\")\n",
    "df5<-unnest(df4%>%dplyr::select(gpcontrib,GENE)%>%distinct())\n",
    "write.table(df5,\"../../ANALYSIS/PAPER/Figures/stackedplot_data.txt\",quote=FALSE)"
   ]
  },
  {
   "cell_type": "code",
   "execution_count": 121,
   "id": "afb1b5b9-cf15-4d80-94ee-b7569fc50180",
   "metadata": {},
   "outputs": [],
   "source": [
    "##"
   ]
  },
  {
   "cell_type": "code",
   "execution_count": 122,
   "id": "ff5a5f10-4ce9-4ee8-836f-451ef46e2013",
   "metadata": {},
   "outputs": [],
   "source": [
    "write.table(gene_priority,\"../../ANALYSIS/GENE_PRIORITY/TRANS_GPSCORE.TAB\",row.names=FALSE,quote=FALSE,sep=\"\\t\")"
   ]
  },
  {
   "cell_type": "code",
   "execution_count": 84,
   "id": "7c92229d-c988-427b-a52f-65874f40c7e9",
   "metadata": {},
   "outputs": [
    {
     "name": "stderr",
     "output_type": "stream",
     "text": [
      "\u001b[1m\u001b[22mAdding missing grouping variables: `WINDOW`\n"
     ]
    }
   ],
   "source": [
    "df10<- gene_priority%>%filter(WINDOW==1) %>%mutate(TSS_norm=normalit(log2(TSS_DISTANCE)),PG=normalit(P_G),CSN=normalit(CS),SGN=normalit(SG))%>%dplyr::select(NAME,TSS_norm,PG,CSN,SGN,GP_SCORE)"
   ]
  },
  {
   "cell_type": "code",
   "execution_count": 86,
   "id": "6c9faaf8-3e70-4e15-9687-c7083b330fb7",
   "metadata": {},
   "outputs": [],
   "source": [
    "df11 <- df10%>%ungroup()%>% slice_max(order_by = GP_SCORE, n = 15)%>% pivot_longer(cols=c('TSS_norm', 'PG','CSN','SGN'),\n",
    "                    names_to='GPTerm',\n",
    "                    values_to='value')%>%dplyr::select(-WINDOW)"
   ]
  },
  {
   "cell_type": "code",
   "execution_count": 87,
   "id": "4497f2b3-18d8-4403-b702-f6f86db286af",
   "metadata": {},
   "outputs": [
    {
     "data": {
      "text/html": [
       "<table class=\"dataframe\">\n",
       "<caption>A tibble: 6 × 4</caption>\n",
       "<thead>\n",
       "\t<tr><th scope=col>NAME</th><th scope=col>GP_SCORE</th><th scope=col>GPTerm</th><th scope=col>value</th></tr>\n",
       "\t<tr><th scope=col>&lt;chr&gt;</th><th scope=col>&lt;dbl&gt;</th><th scope=col>&lt;chr&gt;</th><th scope=col>&lt;dbl&gt;</th></tr>\n",
       "</thead>\n",
       "<tbody>\n",
       "\t<tr><td>CSF1  </td><td>1.3351294</td><td>TSS_norm</td><td>-3.848824</td></tr>\n",
       "\t<tr><td>CSF1  </td><td>1.3351294</td><td>PG      </td><td> 4.829563</td></tr>\n",
       "\t<tr><td>CSF1  </td><td>1.3351294</td><td>CSN     </td><td> 3.643085</td></tr>\n",
       "\t<tr><td>CSF1  </td><td>1.3351294</td><td>SGN     </td><td> 2.429850</td></tr>\n",
       "\t<tr><td>AHCYL1</td><td>0.5983399</td><td>TSS_norm</td><td>-2.538050</td></tr>\n",
       "\t<tr><td>AHCYL1</td><td>0.5983399</td><td>PG      </td><td> 2.594779</td></tr>\n",
       "</tbody>\n",
       "</table>\n"
      ],
      "text/latex": [
       "A tibble: 6 × 4\n",
       "\\begin{tabular}{llll}\n",
       " NAME & GP\\_SCORE & GPTerm & value\\\\\n",
       " <chr> & <dbl> & <chr> & <dbl>\\\\\n",
       "\\hline\n",
       "\t CSF1   & 1.3351294 & TSS\\_norm & -3.848824\\\\\n",
       "\t CSF1   & 1.3351294 & PG       &  4.829563\\\\\n",
       "\t CSF1   & 1.3351294 & CSN      &  3.643085\\\\\n",
       "\t CSF1   & 1.3351294 & SGN      &  2.429850\\\\\n",
       "\t AHCYL1 & 0.5983399 & TSS\\_norm & -2.538050\\\\\n",
       "\t AHCYL1 & 0.5983399 & PG       &  2.594779\\\\\n",
       "\\end{tabular}\n"
      ],
      "text/markdown": [
       "\n",
       "A tibble: 6 × 4\n",
       "\n",
       "| NAME &lt;chr&gt; | GP_SCORE &lt;dbl&gt; | GPTerm &lt;chr&gt; | value &lt;dbl&gt; |\n",
       "|---|---|---|---|\n",
       "| CSF1   | 1.3351294 | TSS_norm | -3.848824 |\n",
       "| CSF1   | 1.3351294 | PG       |  4.829563 |\n",
       "| CSF1   | 1.3351294 | CSN      |  3.643085 |\n",
       "| CSF1   | 1.3351294 | SGN      |  2.429850 |\n",
       "| AHCYL1 | 0.5983399 | TSS_norm | -2.538050 |\n",
       "| AHCYL1 | 0.5983399 | PG       |  2.594779 |\n",
       "\n"
      ],
      "text/plain": [
       "  NAME   GP_SCORE  GPTerm   value    \n",
       "1 CSF1   1.3351294 TSS_norm -3.848824\n",
       "2 CSF1   1.3351294 PG        4.829563\n",
       "3 CSF1   1.3351294 CSN       3.643085\n",
       "4 CSF1   1.3351294 SGN       2.429850\n",
       "5 AHCYL1 0.5983399 TSS_norm -2.538050\n",
       "6 AHCYL1 0.5983399 PG        2.594779"
      ]
     },
     "metadata": {},
     "output_type": "display_data"
    }
   ],
   "source": [
    "head(df11)"
   ]
  },
  {
   "cell_type": "code",
   "execution_count": 94,
   "id": "fdd0920f-b4c2-451f-8d10-3749ba26ce85",
   "metadata": {},
   "outputs": [
    {
     "name": "stderr",
     "output_type": "stream",
     "text": [
      "Installing package into 'C:/Users/svish/AppData/Local/R/win-library/4.2'\n",
      "(as 'lib' is unspecified)\n",
      "\n"
     ]
    },
    {
     "name": "stdout",
     "output_type": "stream",
     "text": [
      "package 'gghighlight' successfully unpacked and MD5 sums checked\n",
      "\n",
      "The downloaded binary packages are in\n",
      "\tC:\\Users\\svish\\AppData\\Local\\Temp\\RtmpOAtbAO\\downloaded_packages\n"
     ]
    }
   ],
   "source": [
    "install.packages('gghighlight')"
   ]
  },
  {
   "cell_type": "code",
   "execution_count": 90,
   "id": "586d3856-469b-4d8a-bd8e-3bed0bc83f1a",
   "metadata": {},
   "outputs": [],
   "source": [
    "options(repr.plot.width=15, repr.plot.height=7.5)\n",
    "suppressWarnings(suppressMessages(library(viridis)))\n",
    "library(hrbrthemes)\n",
    "p <- ggplot(df11, aes(NAME,GPTerm, fill= value)) + \n",
    "  geom_tile(color=\"gray\")  +\n",
    "  scale_fill_viridis(discrete=FALSE) +\n",
    "  theme_ipsum()"
   ]
  },
  {
   "cell_type": "code",
   "execution_count": 91,
   "id": "5079b8a8-1059-448f-b739-51add3a0679f",
   "metadata": {
    "tags": []
   },
   "outputs": [
    {
     "name": "stderr",
     "output_type": "stream",
     "text": [
      "Warning message in grid.Call(C_textBounds, as.graphicsAnnot(x$label), x$x, x$y, :\n",
      "\"font family not found in Windows font database\"\n",
      "Warning message in grid.Call(C_textBounds, as.graphicsAnnot(x$label), x$x, x$y, :\n",
      "\"font family not found in Windows font database\"\n",
      "Warning message in grid.Call(C_textBounds, as.graphicsAnnot(x$label), x$x, x$y, :\n",
      "\"font family not found in Windows font database\"\n",
      "Warning message in grid.Call(C_textBounds, as.graphicsAnnot(x$label), x$x, x$y, :\n",
      "\"font family not found in Windows font database\"\n",
      "Warning message in grid.Call(C_textBounds, as.graphicsAnnot(x$label), x$x, x$y, :\n",
      "\"font family not found in Windows font database\"\n",
      "Warning message in grid.Call(C_textBounds, as.graphicsAnnot(x$label), x$x, x$y, :\n",
      "\"font family not found in Windows font database\"\n",
      "Warning message in grid.Call(C_textBounds, as.graphicsAnnot(x$label), x$x, x$y, :\n",
      "\"font family not found in Windows font database\"\n",
      "Warning message in grid.Call(C_textBounds, as.graphicsAnnot(x$label), x$x, x$y, :\n",
      "\"font family not found in Windows font database\"\n",
      "Warning message in grid.Call.graphics(C_text, as.graphicsAnnot(x$label), x$x, x$y, :\n",
      "\"font family not found in Windows font database\"\n",
      "Warning message in grid.Call(C_textBounds, as.graphicsAnnot(x$label), x$x, x$y, :\n",
      "\"font family not found in Windows font database\"\n",
      "Warning message in grid.Call(C_textBounds, as.graphicsAnnot(x$label), x$x, x$y, :\n",
      "\"font family not found in Windows font database\"\n"
     ]
    },
    {
     "data": {
      "image/png": "[encoded data removed]",
      "text/plain": [
       "plot without title"
      ]
     },
     "metadata": {
      "image/png": {
       "height": 450,
       "width": 900
      }
     },
     "output_type": "display_data"
    }
   ],
   "source": [
    "p"
   ]
  },
  {
   "cell_type": "code",
   "execution_count": 175,
   "id": "b4fdc59d-f1c5-4375-836a-be7a8d83d4aa",
   "metadata": {},
   "outputs": [
    {
     "name": "stderr",
     "output_type": "stream",
     "text": [
      "Warning message in grid.Call(C_stringMetric, as.graphicsAnnot(x$label)):\n",
      "\"font family 'Arial Narrow' not found in PostScript font database\"\n",
      "Warning message in grid.Call(C_stringMetric, as.graphicsAnnot(x$label)):\n",
      "\"font family 'Arial Narrow' not found in PostScript font database\"\n",
      "Warning message in grid.Call(C_stringMetric, as.graphicsAnnot(x$label)):\n",
      "\"font family 'Arial Narrow' not found in PostScript font database\"\n",
      "Warning message in grid.Call(C_stringMetric, as.graphicsAnnot(x$label)):\n",
      "\"font family 'Arial Narrow' not found in PostScript font database\"\n",
      "Warning message in grid.Call(C_stringMetric, as.graphicsAnnot(x$label)):\n",
      "\"font family 'Arial Narrow' not found in PostScript font database\"\n",
      "Warning message in grid.Call(C_stringMetric, as.graphicsAnnot(x$label)):\n",
      "\"font family 'Arial Narrow' not found in PostScript font database\"\n",
      "Warning message in grid.Call(C_stringMetric, as.graphicsAnnot(x$label)):\n",
      "\"font family 'Arial Narrow' not found in PostScript font database\"\n",
      "Warning message in grid.Call(C_stringMetric, as.graphicsAnnot(x$label)):\n",
      "\"font family 'Arial Narrow' not found in PostScript font database\"\n",
      "Warning message in grid.Call(C_stringMetric, as.graphicsAnnot(x$label)):\n",
      "\"font family 'Arial Narrow' not found in PostScript font database\"\n",
      "Warning message in grid.Call(C_stringMetric, as.graphicsAnnot(x$label)):\n",
      "\"font family 'Arial Narrow' not found in PostScript font database\"\n",
      "Warning message in grid.Call(C_stringMetric, as.graphicsAnnot(x$label)):\n",
      "\"font family 'Arial Narrow' not found in PostScript font database\"\n",
      "Warning message in grid.Call(C_stringMetric, as.graphicsAnnot(x$label)):\n",
      "\"font family 'Arial Narrow' not found in PostScript font database\"\n",
      "Warning message in grid.Call(C_stringMetric, as.graphicsAnnot(x$label)):\n",
      "\"font family 'Arial Narrow' not found in PostScript font database\"\n",
      "Warning message in grid.Call(C_stringMetric, as.graphicsAnnot(x$label)):\n",
      "\"font family 'Arial Narrow' not found in PostScript font database\"\n",
      "Warning message in grid.Call(C_stringMetric, as.graphicsAnnot(x$label)):\n",
      "\"font family 'Arial Narrow' not found in PostScript font database\"\n",
      "Warning message in grid.Call(C_stringMetric, as.graphicsAnnot(x$label)):\n",
      "\"font family 'Arial Narrow' not found in PostScript font database\"\n",
      "Warning message in grid.Call(C_stringMetric, as.graphicsAnnot(x$label)):\n",
      "\"font family 'Arial Narrow' not found in PostScript font database\"\n",
      "Warning message in grid.Call(C_stringMetric, as.graphicsAnnot(x$label)):\n",
      "\"font family 'Arial Narrow' not found in PostScript font database\"\n",
      "Warning message in grid.Call(C_stringMetric, as.graphicsAnnot(x$label)):\n",
      "\"font family 'Arial Narrow' not found in PostScript font database\"\n",
      "Warning message in grid.Call(C_stringMetric, as.graphicsAnnot(x$label)):\n",
      "\"font family 'Arial Narrow' not found in PostScript font database\"\n",
      "Warning message in grid.Call(C_stringMetric, as.graphicsAnnot(x$label)):\n",
      "\"font family 'Arial Narrow' not found in PostScript font database\"\n",
      "Warning message in grid.Call(C_stringMetric, as.graphicsAnnot(x$label)):\n",
      "\"font family 'Arial Narrow' not found in PostScript font database\"\n",
      "Warning message in grid.Call(C_stringMetric, as.graphicsAnnot(x$label)):\n",
      "\"font family 'Arial Narrow' not found in PostScript font database\"\n",
      "Warning message in grid.Call(C_stringMetric, as.graphicsAnnot(x$label)):\n",
      "\"font family 'Arial Narrow' not found in PostScript font database\"\n",
      "Warning message in grid.Call(C_stringMetric, as.graphicsAnnot(x$label)):\n",
      "\"font family 'Arial Narrow' not found in PostScript font database\"\n",
      "Warning message in grid.Call(C_stringMetric, as.graphicsAnnot(x$label)):\n",
      "\"font family 'Arial Narrow' not found in PostScript font database\"\n",
      "Warning message in grid.Call(C_stringMetric, as.graphicsAnnot(x$label)):\n",
      "\"font family 'Arial Narrow' not found in PostScript font database\"\n",
      "Warning message in grid.Call(C_stringMetric, as.graphicsAnnot(x$label)):\n",
      "\"font family 'Arial Narrow' not found in PostScript font database\"\n",
      "Warning message in grid.Call(C_textBounds, as.graphicsAnnot(x$label), x$x, x$y, :\n",
      "\"font family 'Arial Narrow' not found in PostScript font database\"\n",
      "Warning message in grid.Call(C_textBounds, as.graphicsAnnot(x$label), x$x, x$y, :\n",
      "\"font family 'Arial Narrow' not found in PostScript font database\"\n",
      "Warning message in grid.Call(C_textBounds, as.graphicsAnnot(x$label), x$x, x$y, :\n",
      "\"font family 'Arial Narrow' not found in PostScript font database\"\n",
      "Warning message in grid.Call(C_textBounds, as.graphicsAnnot(x$label), x$x, x$y, :\n",
      "\"font family 'Arial Narrow' not found in PostScript font database\"\n",
      "Warning message in grid.Call(C_textBounds, as.graphicsAnnot(x$label), x$x, x$y, :\n",
      "\"font family 'Arial Narrow' not found in PostScript font database\"\n",
      "Warning message in grid.Call(C_textBounds, as.graphicsAnnot(x$label), x$x, x$y, :\n",
      "\"font family 'Arial Narrow' not found in PostScript font database\"\n",
      "Warning message in grid.Call(C_textBounds, as.graphicsAnnot(x$label), x$x, x$y, :\n",
      "\"font family 'Arial Narrow' not found in PostScript font database\"\n",
      "Warning message in grid.Call(C_textBounds, as.graphicsAnnot(x$label), x$x, x$y, :\n",
      "\"font family 'Arial Narrow' not found in PostScript font database\"\n",
      "Warning message in grid.Call(C_textBounds, as.graphicsAnnot(x$label), x$x, x$y, :\n",
      "\"font family 'Arial Narrow' not found in PostScript font database\"\n",
      "Warning message in grid.Call(C_textBounds, as.graphicsAnnot(x$label), x$x, x$y, :\n",
      "\"font family 'Arial Narrow' not found in PostScript font database\"\n",
      "Warning message in grid.Call(C_textBounds, as.graphicsAnnot(x$label), x$x, x$y, :\n",
      "\"font family 'Arial Narrow' not found in PostScript font database\"\n",
      "Warning message in grid.Call(C_stringMetric, as.graphicsAnnot(x$label)):\n",
      "\"font family 'Arial Narrow' not found in PostScript font database\"\n",
      "Warning message in grid.Call(C_stringMetric, as.graphicsAnnot(x$label)):\n",
      "\"font family 'Arial Narrow' not found in PostScript font database\"\n",
      "Warning message in grid.Call(C_stringMetric, as.graphicsAnnot(x$label)):\n",
      "\"font family 'Arial Narrow' not found in PostScript font database\"\n",
      "Warning message in grid.Call(C_stringMetric, as.graphicsAnnot(x$label)):\n",
      "\"font family 'Arial Narrow' not found in PostScript font database\"\n",
      "Warning message in grid.Call(C_stringMetric, as.graphicsAnnot(x$label)):\n",
      "\"font family 'Arial Narrow' not found in PostScript font database\"\n",
      "Warning message in grid.Call(C_stringMetric, as.graphicsAnnot(x$label)):\n",
      "\"font family 'Arial Narrow' not found in PostScript font database\"\n",
      "Warning message in grid.Call(C_stringMetric, as.graphicsAnnot(x$label)):\n",
      "\"font family 'Arial Narrow' not found in PostScript font database\"\n",
      "Warning message in grid.Call(C_stringMetric, as.graphicsAnnot(x$label)):\n",
      "\"font family 'Arial Narrow' not found in PostScript font database\"\n",
      "Warning message in grid.Call(C_stringMetric, as.graphicsAnnot(x$label)):\n",
      "\"font family 'Arial Narrow' not found in PostScript font database\"\n",
      "Warning message in grid.Call(C_stringMetric, as.graphicsAnnot(x$label)):\n",
      "\"font family 'Arial Narrow' not found in PostScript font database\"\n",
      "Warning message in grid.Call(C_stringMetric, as.graphicsAnnot(x$label)):\n",
      "\"font family 'Arial Narrow' not found in PostScript font database\"\n",
      "Warning message in grid.Call(C_stringMetric, as.graphicsAnnot(x$label)):\n",
      "\"font family 'Arial Narrow' not found in PostScript font database\"\n",
      "Warning message in grid.Call(C_stringMetric, as.graphicsAnnot(x$label)):\n",
      "\"font family 'Arial Narrow' not found in PostScript font database\"\n",
      "Warning message in grid.Call(C_stringMetric, as.graphicsAnnot(x$label)):\n",
      "\"font family 'Arial Narrow' not found in PostScript font database\"\n",
      "Warning message in grid.Call(C_textBounds, as.graphicsAnnot(x$label), x$x, x$y, :\n",
      "\"font family 'Arial Narrow' not found in PostScript font database\"\n",
      "Warning message in grid.Call(C_textBounds, as.graphicsAnnot(x$label), x$x, x$y, :\n",
      "\"font family 'Arial Narrow' not found in PostScript font database\"\n",
      "Warning message in grid.Call(C_textBounds, as.graphicsAnnot(x$label), x$x, x$y, :\n",
      "\"font family 'Arial Narrow' not found in PostScript font database\"\n",
      "Warning message in grid.Call(C_textBounds, as.graphicsAnnot(x$label), x$x, x$y, :\n",
      "\"font family 'Arial Narrow' not found in PostScript font database\"\n",
      "Warning message in grid.Call(C_textBounds, as.graphicsAnnot(x$label), x$x, x$y, :\n",
      "\"font family 'Arial Narrow' not found in PostScript font database\"\n",
      "Warning message in grid.Call(C_textBounds, as.graphicsAnnot(x$label), x$x, x$y, :\n",
      "\"font family 'Arial Narrow' not found in PostScript font database\"\n",
      "Warning message in grid.Call(C_textBounds, as.graphicsAnnot(x$label), x$x, x$y, :\n",
      "\"font family 'Arial Narrow' not found in PostScript font database\"\n",
      "Warning message in grid.Call(C_textBounds, as.graphicsAnnot(x$label), x$x, x$y, :\n",
      "\"font family 'Arial Narrow' not found in PostScript font database\"\n",
      "Warning message in grid.Call(C_textBounds, as.graphicsAnnot(x$label), x$x, x$y, :\n",
      "\"font family 'Arial Narrow' not found in PostScript font database\"\n",
      "Warning message in grid.Call(C_textBounds, as.graphicsAnnot(x$label), x$x, x$y, :\n",
      "\"font family 'Arial Narrow' not found in PostScript font database\"\n",
      "Warning message in grid.Call(C_textBounds, as.graphicsAnnot(x$label), x$x, x$y, :\n",
      "\"font family 'Arial Narrow' not found in PostScript font database\"\n",
      "Warning message in grid.Call(C_textBounds, as.graphicsAnnot(x$label), x$x, x$y, :\n",
      "\"font family 'Arial Narrow' not found in PostScript font database\"\n",
      "Warning message in grid.Call(C_textBounds, as.graphicsAnnot(x$label), x$x, x$y, :\n",
      "\"font family 'Arial Narrow' not found in PostScript font database\"\n",
      "Warning message in grid.Call(C_textBounds, as.graphicsAnnot(x$label), x$x, x$y, :\n",
      "\"font family 'Arial Narrow' not found in PostScript font database\"\n",
      "Warning message in grid.Call(C_textBounds, as.graphicsAnnot(x$label), x$x, x$y, :\n",
      "\"font family 'Arial Narrow' not found in PostScript font database\"\n",
      "Warning message in grid.Call(C_textBounds, as.graphicsAnnot(x$label), x$x, x$y, :\n",
      "\"font family 'Arial Narrow' not found in PostScript font database\"\n",
      "Warning message in grid.Call(C_textBounds, as.graphicsAnnot(x$label), x$x, x$y, :\n",
      "\"font family 'Arial Narrow' not found in PostScript font database\"\n",
      "Warning message in grid.Call(C_textBounds, as.graphicsAnnot(x$label), x$x, x$y, :\n",
      "\"font family 'Arial Narrow' not found in PostScript font database\"\n",
      "Warning message in grid.Call(C_textBounds, as.graphicsAnnot(x$label), x$x, x$y, :\n",
      "\"font family 'Arial Narrow' not found in PostScript font database\"\n",
      "Warning message in grid.Call(C_textBounds, as.graphicsAnnot(x$label), x$x, x$y, :\n",
      "\"font family 'Arial Narrow' not found in PostScript font database\"\n",
      "Warning message in grid.Call(C_textBounds, as.graphicsAnnot(x$label), x$x, x$y, :\n",
      "\"font family 'Arial Narrow' not found in PostScript font database\"\n",
      "Warning message in grid.Call(C_textBounds, as.graphicsAnnot(x$label), x$x, x$y, :\n",
      "\"font family 'Arial Narrow' not found in PostScript font database\"\n",
      "Warning message in grid.Call(C_textBounds, as.graphicsAnnot(x$label), x$x, x$y, :\n",
      "\"font family 'Arial Narrow' not found in PostScript font database\"\n",
      "Warning message in grid.Call(C_textBounds, as.graphicsAnnot(x$label), x$x, x$y, :\n",
      "\"font family 'Arial Narrow' not found in PostScript font database\"\n",
      "Warning message in grid.Call(C_textBounds, as.graphicsAnnot(x$label), x$x, x$y, :\n",
      "\"font family 'Arial Narrow' not found in PostScript font database\"\n",
      "Warning message in grid.Call(C_textBounds, as.graphicsAnnot(x$label), x$x, x$y, :\n",
      "\"font family 'Arial Narrow' not found in PostScript font database\"\n",
      "Warning message in grid.Call(C_textBounds, as.graphicsAnnot(x$label), x$x, x$y, :\n",
      "\"font family 'Arial Narrow' not found in PostScript font database\"\n",
      "Warning message in grid.Call(C_textBounds, as.graphicsAnnot(x$label), x$x, x$y, :\n",
      "\"font family 'Arial Narrow' not found in PostScript font database\"\n",
      "Warning message in grid.Call(C_textBounds, as.graphicsAnnot(x$label), x$x, x$y, :\n",
      "\"font family 'Arial Narrow' not found in PostScript font database\"\n",
      "Warning message in grid.Call(C_textBounds, as.graphicsAnnot(x$label), x$x, x$y, :\n",
      "\"font family 'Arial Narrow' not found in PostScript font database\"\n",
      "Warning message in grid.Call(C_textBounds, as.graphicsAnnot(x$label), x$x, x$y, :\n",
      "\"font family 'Arial Narrow' not found in PostScript font database\"\n",
      "Warning message in grid.Call(C_textBounds, as.graphicsAnnot(x$label), x$x, x$y, :\n",
      "\"font family 'Arial Narrow' not found in PostScript font database\"\n",
      "Warning message in grid.Call(C_textBounds, as.graphicsAnnot(x$label), x$x, x$y, :\n",
      "\"font family 'Arial Narrow' not found in PostScript font database\"\n",
      "Warning message in grid.Call(C_textBounds, as.graphicsAnnot(x$label), x$x, x$y, :\n",
      "\"font family 'Arial Narrow' not found in PostScript font database\"\n",
      "Warning message in grid.Call(C_textBounds, as.graphicsAnnot(x$label), x$x, x$y, :\n",
      "\"font family 'Arial Narrow' not found in PostScript font database\"\n",
      "Warning message in grid.Call(C_textBounds, as.graphicsAnnot(x$label), x$x, x$y, :\n",
      "\"font family 'Arial Narrow' not found in PostScript font database\"\n",
      "Warning message in grid.Call(C_textBounds, as.graphicsAnnot(x$label), x$x, x$y, :\n",
      "\"font family 'Arial Narrow' not found in PostScript font database\"\n",
      "Warning message in grid.Call(C_textBounds, as.graphicsAnnot(x$label), x$x, x$y, :\n",
      "\"font family 'Arial Narrow' not found in PostScript font database\"\n",
      "Warning message in grid.Call(C_textBounds, as.graphicsAnnot(x$label), x$x, x$y, :\n",
      "\"font family 'Arial Narrow' not found in PostScript font database\"\n",
      "Warning message in grid.Call(C_textBounds, as.graphicsAnnot(x$label), x$x, x$y, :\n",
      "\"font family 'Arial Narrow' not found in PostScript font database\"\n",
      "Warning message in grid.Call(C_textBounds, as.graphicsAnnot(x$label), x$x, x$y, :\n",
      "\"font family 'Arial Narrow' not found in PostScript font database\"\n",
      "Warning message in grid.Call(C_textBounds, as.graphicsAnnot(x$label), x$x, x$y, :\n",
      "\"font family 'Arial Narrow' not found in PostScript font database\"\n",
      "Warning message in grid.Call(C_textBounds, as.graphicsAnnot(x$label), x$x, x$y, :\n",
      "\"font family 'Arial Narrow' not found in PostScript font database\"\n",
      "Warning message in grid.Call(C_textBounds, as.graphicsAnnot(x$label), x$x, x$y, :\n",
      "\"font family 'Arial Narrow' not found in PostScript font database\"\n",
      "Warning message in grid.Call(C_textBounds, as.graphicsAnnot(x$label), x$x, x$y, :\n",
      "\"font family 'Arial Narrow' not found in PostScript font database\"\n",
      "Warning message in grid.Call(C_textBounds, as.graphicsAnnot(x$label), x$x, x$y, :\n",
      "\"font family 'Arial Narrow' not found in PostScript font database\"\n",
      "Warning message in grid.Call(C_textBounds, as.graphicsAnnot(x$label), x$x, x$y, :\n",
      "\"font family 'Arial Narrow' not found in PostScript font database\"\n",
      "Warning message in grid.Call(C_textBounds, as.graphicsAnnot(x$label), x$x, x$y, :\n",
      "\"font family 'Arial Narrow' not found in PostScript font database\"\n",
      "Warning message in grid.Call(C_textBounds, as.graphicsAnnot(x$label), x$x, x$y, :\n",
      "\"font family 'Arial Narrow' not found in PostScript font database\"\n",
      "Warning message in grid.Call(C_textBounds, as.graphicsAnnot(x$label), x$x, x$y, :\n",
      "\"font family 'Arial Narrow' not found in PostScript font database\"\n",
      "Warning message in grid.Call(C_textBounds, as.graphicsAnnot(x$label), x$x, x$y, :\n",
      "\"font family 'Arial Narrow' not found in PostScript font database\"\n",
      "Warning message in grid.Call(C_textBounds, as.graphicsAnnot(x$label), x$x, x$y, :\n",
      "\"font family 'Arial Narrow' not found in PostScript font database\"\n",
      "Warning message in grid.Call(C_textBounds, as.graphicsAnnot(x$label), x$x, x$y, :\n",
      "\"font family 'Arial Narrow' not found in PostScript font database\"\n",
      "Warning message in grid.Call(C_textBounds, as.graphicsAnnot(x$label), x$x, x$y, :\n",
      "\"font family 'Arial Narrow' not found in PostScript font database\"\n",
      "Warning message in grid.Call(C_textBounds, as.graphicsAnnot(x$label), x$x, x$y, :\n",
      "\"font family 'Arial Narrow' not found in PostScript font database\"\n",
      "Warning message in grid.Call(C_textBounds, as.graphicsAnnot(x$label), x$x, x$y, :\n",
      "\"font family 'Arial Narrow' not found in PostScript font database\"\n",
      "Warning message in grid.Call(C_textBounds, as.graphicsAnnot(x$label), x$x, x$y, :\n",
      "\"font family 'Arial Narrow' not found in PostScript font database\"\n",
      "Warning message in grid.Call(C_textBounds, as.graphicsAnnot(x$label), x$x, x$y, :\n",
      "\"font family 'Arial Narrow' not found in PostScript font database\"\n",
      "Warning message in grid.Call(C_textBounds, as.graphicsAnnot(x$label), x$x, x$y, :\n",
      "\"font family 'Arial Narrow' not found in PostScript font database\"\n",
      "Warning message in grid.Call(C_textBounds, as.graphicsAnnot(x$label), x$x, x$y, :\n",
      "\"font family 'Arial Narrow' not found in PostScript font database\"\n",
      "Warning message in grid.Call(C_textBounds, as.graphicsAnnot(x$label), x$x, x$y, :\n",
      "\"font family 'Arial Narrow' not found in PostScript font database\"\n",
      "Warning message in grid.Call(C_textBounds, as.graphicsAnnot(x$label), x$x, x$y, :\n",
      "\"font family 'Arial Narrow' not found in PostScript font database\"\n",
      "Warning message in grid.Call(C_textBounds, as.graphicsAnnot(x$label), x$x, x$y, :\n",
      "\"font family 'Arial Narrow' not found in PostScript font database\"\n",
      "Warning message in grid.Call(C_textBounds, as.graphicsAnnot(x$label), x$x, x$y, :\n",
      "\"font family 'Arial Narrow' not found in PostScript font database\"\n",
      "Warning message in grid.Call(C_textBounds, as.graphicsAnnot(x$label), x$x, x$y, :\n",
      "\"font family 'Arial Narrow' not found in PostScript font database\"\n",
      "Warning message in grid.Call(C_textBounds, as.graphicsAnnot(x$label), x$x, x$y, :\n",
      "\"font family 'Arial Narrow' not found in PostScript font database\"\n",
      "Warning message in grid.Call(C_textBounds, as.graphicsAnnot(x$label), x$x, x$y, :\n",
      "\"font family 'Arial Narrow' not found in PostScript font database\"\n",
      "Warning message in grid.Call(C_textBounds, as.graphicsAnnot(x$label), x$x, x$y, :\n",
      "\"font family 'Arial Narrow' not found in PostScript font database\"\n",
      "Warning message in grid.Call(C_textBounds, as.graphicsAnnot(x$label), x$x, x$y, :\n",
      "\"font family 'Arial Narrow' not found in PostScript font database\"\n",
      "Warning message in grid.Call(C_textBounds, as.graphicsAnnot(x$label), x$x, x$y, :\n",
      "\"font family 'Arial Narrow' not found in PostScript font database\"\n",
      "Warning message in grid.Call(C_textBounds, as.graphicsAnnot(x$label), x$x, x$y, :\n",
      "\"font family 'Arial Narrow' not found in PostScript font database\"\n",
      "Warning message in grid.Call(C_textBounds, as.graphicsAnnot(x$label), x$x, x$y, :\n",
      "\"font family 'Arial Narrow' not found in PostScript font database\"\n",
      "Warning message in grid.Call(C_textBounds, as.graphicsAnnot(x$label), x$x, x$y, :\n",
      "\"font family 'Arial Narrow' not found in PostScript font database\"\n",
      "Warning message in grid.Call(C_textBounds, as.graphicsAnnot(x$label), x$x, x$y, :\n",
      "\"font family 'Arial Narrow' not found in PostScript font database\"\n",
      "Warning message in grid.Call(C_textBounds, as.graphicsAnnot(x$label), x$x, x$y, :\n",
      "\"font family 'Arial Narrow' not found in PostScript font database\"\n",
      "Warning message in grid.Call(C_textBounds, as.graphicsAnnot(x$label), x$x, x$y, :\n",
      "\"font family 'Arial Narrow' not found in PostScript font database\"\n",
      "Warning message in grid.Call(C_textBounds, as.graphicsAnnot(x$label), x$x, x$y, :\n",
      "\"font family 'Arial Narrow' not found in PostScript font database\"\n",
      "Warning message in grid.Call(C_textBounds, as.graphicsAnnot(x$label), x$x, x$y, :\n",
      "\"font family 'Arial Narrow' not found in PostScript font database\"\n",
      "Warning message in grid.Call(C_textBounds, as.graphicsAnnot(x$label), x$x, x$y, :\n",
      "\"font family 'Arial Narrow' not found in PostScript font database\"\n",
      "Warning message in grid.Call(C_textBounds, as.graphicsAnnot(x$label), x$x, x$y, :\n",
      "\"font family 'Arial Narrow' not found in PostScript font database\"\n",
      "Warning message in grid.Call(C_textBounds, as.graphicsAnnot(x$label), x$x, x$y, :\n",
      "\"font family 'Arial Narrow' not found in PostScript font database\"\n",
      "Warning message in grid.Call(C_textBounds, as.graphicsAnnot(x$label), x$x, x$y, :\n",
      "\"font family 'Arial Narrow' not found in PostScript font database\"\n",
      "Warning message in grid.Call(C_textBounds, as.graphicsAnnot(x$label), x$x, x$y, :\n",
      "\"font family 'Arial Narrow' not found in PostScript font database\"\n",
      "Warning message in grid.Call(C_textBounds, as.graphicsAnnot(x$label), x$x, x$y, :\n",
      "\"font family 'Arial Narrow' not found in PostScript font database\"\n",
      "Warning message in grid.Call(C_textBounds, as.graphicsAnnot(x$label), x$x, x$y, :\n",
      "\"font family 'Arial Narrow' not found in PostScript font database\"\n",
      "Warning message in grid.Call(C_textBounds, as.graphicsAnnot(x$label), x$x, x$y, :\n",
      "\"font family 'Arial Narrow' not found in PostScript font database\"\n",
      "Warning message in grid.Call(C_textBounds, as.graphicsAnnot(x$label), x$x, x$y, :\n",
      "\"font family 'Arial Narrow' not found in PostScript font database\"\n",
      "Warning message in grid.Call(C_textBounds, as.graphicsAnnot(x$label), x$x, x$y, :\n",
      "\"font family 'Arial Narrow' not found in PostScript font database\"\n",
      "Warning message in grid.Call(C_textBounds, as.graphicsAnnot(x$label), x$x, x$y, :\n",
      "\"font family 'Arial Narrow' not found in PostScript font database\"\n",
      "Warning message in grid.Call(C_textBounds, as.graphicsAnnot(x$label), x$x, x$y, :\n",
      "\"font family 'Arial Narrow' not found in PostScript font database\"\n",
      "Warning message in grid.Call(C_textBounds, as.graphicsAnnot(x$label), x$x, x$y, :\n",
      "\"font family 'Arial Narrow' not found in PostScript font database\"\n",
      "Warning message in grid.Call(C_textBounds, as.graphicsAnnot(x$label), x$x, x$y, :\n",
      "\"font family 'Arial Narrow' not found in PostScript font database\"\n",
      "Warning message in grid.Call(C_textBounds, as.graphicsAnnot(x$label), x$x, x$y, :\n",
      "\"font family 'Arial Narrow' not found in PostScript font database\"\n",
      "Warning message in grid.Call(C_textBounds, as.graphicsAnnot(x$label), x$x, x$y, :\n",
      "\"font family 'Arial Narrow' not found in PostScript font database\"\n",
      "Warning message in grid.Call(C_textBounds, as.graphicsAnnot(x$label), x$x, x$y, :\n",
      "\"font family 'Arial Narrow' not found in PostScript font database\"\n",
      "Warning message in grid.Call(C_textBounds, as.graphicsAnnot(x$label), x$x, x$y, :\n",
      "\"font family 'Arial Narrow' not found in PostScript font database\"\n",
      "Warning message in grid.Call(C_textBounds, as.graphicsAnnot(x$label), x$x, x$y, :\n",
      "\"font family 'Arial Narrow' not found in PostScript font database\"\n",
      "Warning message in grid.Call(C_textBounds, as.graphicsAnnot(x$label), x$x, x$y, :\n",
      "\"font family 'Arial Narrow' not found in PostScript font database\"\n",
      "Warning message in grid.Call(C_textBounds, as.graphicsAnnot(x$label), x$x, x$y, :\n",
      "\"font family 'Arial Narrow' not found in PostScript font database\"\n",
      "Warning message in grid.Call(C_textBounds, as.graphicsAnnot(x$label), x$x, x$y, :\n",
      "\"font family 'Arial Narrow' not found in PostScript font database\"\n",
      "Warning message in grid.Call(C_textBounds, as.graphicsAnnot(x$label), x$x, x$y, :\n",
      "\"font family 'Arial Narrow' not found in PostScript font database\"\n",
      "Warning message in grid.Call(C_textBounds, as.graphicsAnnot(x$label), x$x, x$y, :\n",
      "\"font family 'Arial Narrow' not found in PostScript font database\"\n",
      "Warning message in grid.Call(C_textBounds, as.graphicsAnnot(x$label), x$x, x$y, :\n",
      "\"font family 'Arial Narrow' not found in PostScript font database\"\n",
      "Warning message in grid.Call(C_textBounds, as.graphicsAnnot(x$label), x$x, x$y, :\n",
      "\"font family 'Arial Narrow' not found in PostScript font database\"\n",
      "Warning message in grid.Call(C_textBounds, as.graphicsAnnot(x$label), x$x, x$y, :\n",
      "\"font family 'Arial Narrow' not found in PostScript font database\"\n",
      "Warning message in grid.Call(C_textBounds, as.graphicsAnnot(x$label), x$x, x$y, :\n",
      "\"font family 'Arial Narrow' not found in PostScript font database\"\n",
      "Warning message in grid.Call(C_textBounds, as.graphicsAnnot(x$label), x$x, x$y, :\n",
      "\"font family 'Arial Narrow' not found in PostScript font database\"\n",
      "Warning message in grid.Call(C_textBounds, as.graphicsAnnot(x$label), x$x, x$y, :\n",
      "\"font family 'Arial Narrow' not found in PostScript font database\"\n",
      "Warning message in grid.Call(C_textBounds, as.graphicsAnnot(x$label), x$x, x$y, :\n",
      "\"font family 'Arial Narrow' not found in PostScript font database\"\n",
      "Warning message in grid.Call(C_textBounds, as.graphicsAnnot(x$label), x$x, x$y, :\n",
      "\"font family 'Arial Narrow' not found in PostScript font database\"\n",
      "Warning message in grid.Call(C_textBounds, as.graphicsAnnot(x$label), x$x, x$y, :\n",
      "\"font family 'Arial Narrow' not found in PostScript font database\"\n",
      "Warning message in grid.Call(C_textBounds, as.graphicsAnnot(x$label), x$x, x$y, :\n",
      "\"font family 'Arial Narrow' not found in PostScript font database\"\n",
      "Warning message in grid.Call(C_textBounds, as.graphicsAnnot(x$label), x$x, x$y, :\n",
      "\"font family 'Arial Narrow' not found in PostScript font database\"\n",
      "Warning message in grid.Call(C_textBounds, as.graphicsAnnot(x$label), x$x, x$y, :\n",
      "\"font family 'Arial Narrow' not found in PostScript font database\"\n",
      "Warning message in grid.Call(C_textBounds, as.graphicsAnnot(x$label), x$x, x$y, :\n",
      "\"font family 'Arial Narrow' not found in PostScript font database\"\n",
      "Warning message in grid.Call(C_textBounds, as.graphicsAnnot(x$label), x$x, x$y, :\n",
      "\"font family 'Arial Narrow' not found in PostScript font database\"\n",
      "Warning message in grid.Call(C_textBounds, as.graphicsAnnot(x$label), x$x, x$y, :\n",
      "\"font family 'Arial Narrow' not found in PostScript font database\"\n",
      "Warning message in grid.Call(C_textBounds, as.graphicsAnnot(x$label), x$x, x$y, :\n",
      "\"font family 'Arial Narrow' not found in PostScript font database\"\n",
      "Warning message in grid.Call(C_textBounds, as.graphicsAnnot(x$label), x$x, x$y, :\n",
      "\"font family 'Arial Narrow' not found in PostScript font database\"\n",
      "Warning message in grid.Call(C_textBounds, as.graphicsAnnot(x$label), x$x, x$y, :\n",
      "\"font family 'Arial Narrow' not found in PostScript font database\"\n",
      "Warning message in grid.Call(C_textBounds, as.graphicsAnnot(x$label), x$x, x$y, :\n",
      "\"font family 'Arial Narrow' not found in PostScript font database\"\n",
      "Warning message in grid.Call(C_textBounds, as.graphicsAnnot(x$label), x$x, x$y, :\n",
      "\"font family 'Arial Narrow' not found in PostScript font database\"\n",
      "Warning message in grid.Call(C_textBounds, as.graphicsAnnot(x$label), x$x, x$y, :\n",
      "\"font family 'Arial Narrow' not found in PostScript font database\"\n",
      "Warning message in grid.Call(C_textBounds, as.graphicsAnnot(x$label), x$x, x$y, :\n",
      "\"font family 'Arial Narrow' not found in PostScript font database\"\n",
      "Warning message in grid.Call(C_textBounds, as.graphicsAnnot(x$label), x$x, x$y, :\n",
      "\"font family 'Arial Narrow' not found in PostScript font database\"\n",
      "Warning message in grid.Call(C_textBounds, as.graphicsAnnot(x$label), x$x, x$y, :\n",
      "\"font family 'Arial Narrow' not found in PostScript font database\"\n",
      "Warning message in grid.Call(C_textBounds, as.graphicsAnnot(x$label), x$x, x$y, :\n",
      "\"font family 'Arial Narrow' not found in PostScript font database\"\n",
      "Warning message in grid.Call(C_textBounds, as.graphicsAnnot(x$label), x$x, x$y, :\n",
      "\"font family 'Arial Narrow' not found in PostScript font database\"\n",
      "Warning message in grid.Call(C_textBounds, as.graphicsAnnot(x$label), x$x, x$y, :\n",
      "\"font family 'Arial Narrow' not found in PostScript font database\"\n",
      "Warning message in grid.Call(C_textBounds, as.graphicsAnnot(x$label), x$x, x$y, :\n",
      "\"font family 'Arial Narrow' not found in PostScript font database\"\n",
      "Warning message in grid.Call(C_textBounds, as.graphicsAnnot(x$label), x$x, x$y, :\n",
      "\"font family 'Arial Narrow' not found in PostScript font database\"\n",
      "Warning message in grid.Call(C_textBounds, as.graphicsAnnot(x$label), x$x, x$y, :\n",
      "\"font family 'Arial Narrow' not found in PostScript font database\"\n",
      "Warning message in grid.Call(C_textBounds, as.graphicsAnnot(x$label), x$x, x$y, :\n",
      "\"font family 'Arial Narrow' not found in PostScript font database\"\n",
      "Warning message in grid.Call(C_textBounds, as.graphicsAnnot(x$label), x$x, x$y, :\n",
      "\"font family 'Arial Narrow' not found in PostScript font database\"\n",
      "Warning message in grid.Call.graphics(C_text, as.graphicsAnnot(x$label), x$x, x$y, :\n",
      "\"font family 'Arial Narrow' not found in PostScript font database\"\n",
      "Warning message in grid.Call.graphics(C_text, as.graphicsAnnot(x$label), x$x, x$y, :\n",
      "\"font family 'Arial Narrow' not found in PostScript font database\"\n",
      "Warning message in grid.Call.graphics(C_text, as.graphicsAnnot(x$label), x$x, x$y, :\n",
      "\"font family 'Arial Narrow' not found in PostScript font database\"\n",
      "Warning message in grid.Call.graphics(C_text, as.graphicsAnnot(x$label), x$x, x$y, :\n",
      "\"font family 'Arial Narrow' not found in PostScript font database\"\n"
     ]
    },
    {
     "ename": "ERROR",
     "evalue": "Error in grid.Call.graphics(C_text, as.graphicsAnnot(x$label), x$x, x$y, : invalid font type\n",
     "output_type": "error",
     "traceback": [
      "Error in grid.Call.graphics(C_text, as.graphicsAnnot(x$label), x$x, x$y, : invalid font type\nTraceback:\n",
      "1. ggsave(filename = \"../../../ANALYSIS/PAPER/Figures/Fig6c.pdf\", \n .     device = \"pdf\", plot = p, width = 10, height = 6, dpi = 600, \n .     units = \"in\")",
      "2. grid.draw(plot)",
      "3. grid.draw.ggplot(plot)",
      "4. print(x)",
      "5. print.ggplot(x)",
      "6. grid.draw(gtable)",
      "7. grid.draw.gTree(gtable)",
      "8. recordGraphics(drawGTree(x), list(x = x), getNamespace(\"grid\"))",
      "9. drawGTree(x)",
      "10. grid.draw(x$children[[i]], recording = FALSE)",
      "11. grid.draw.gTree(x$children[[i]], recording = FALSE)",
      "12. recordGraphics(drawGTree(x), list(x = x), getNamespace(\"grid\"))",
      "13. drawGTree(x)",
      "14. grid.draw(x$children[[i]], recording = FALSE)",
      "15. grid.draw.absoluteGrob(x$children[[i]], recording = FALSE)",
      "16. NextMethod()",
      "17. grid.draw.gTree(x$children[[i]], recording = FALSE)",
      "18. recordGraphics(drawGTree(x), list(x = x), getNamespace(\"grid\"))",
      "19. drawGTree(x)",
      "20. grid.draw(x$children[[i]], recording = FALSE)",
      "21. grid.draw.gTree(x$children[[i]], recording = FALSE)",
      "22. recordGraphics(drawGTree(x), list(x = x), getNamespace(\"grid\"))",
      "23. drawGTree(x)",
      "24. grid.draw(x$children[[i]], recording = FALSE)",
      "25. grid.draw.gTree(x$children[[i]], recording = FALSE)",
      "26. recordGraphics(drawGTree(x), list(x = x), getNamespace(\"grid\"))",
      "27. drawGTree(x)",
      "28. grid.draw(x$children[[i]], recording = FALSE)",
      "29. grid.draw.gTree(x$children[[i]], recording = FALSE)",
      "30. recordGraphics(drawGTree(x), list(x = x), getNamespace(\"grid\"))",
      "31. drawGTree(x)",
      "32. grid.draw(x$children[[i]], recording = FALSE)",
      "33. grid.draw.grob(x$children[[i]], recording = FALSE)",
      "34. recordGraphics(drawGrob(x), list(x = x), getNamespace(\"grid\"))",
      "35. drawGrob(x)",
      "36. drawDetails(x, recording = FALSE)",
      "37. drawDetails.text(x, recording = FALSE)",
      "38. grid.Call.graphics(C_text, as.graphicsAnnot(x$label), x$x, x$y, \n  .     resolveHJust(x$just, x$hjust), resolveVJust(x$just, x$vjust), \n  .     x$rot, x$check.overlap)"
     ]
    }
   ],
   "source": [
    "ggsave(filename = \"../../../ANALYSIS/PAPER/Figures/Fig6c.pdf\", device = \"pdf\",  plot = p, width = 10, height =6 , dpi = 600, units = \"in\")"
   ]
  },
  {
   "cell_type": "code",
   "execution_count": null,
   "id": "a5af15d0-f346-4346-811b-336f9afe9c54",
   "metadata": {},
   "outputs": [],
   "source": []
  },
  {
   "cell_type": "code",
   "execution_count": null,
   "id": "29487d72-be28-4fbb-9879-63830585ceb0",
   "metadata": {},
   "outputs": [],
   "source": []
  },
  {
   "cell_type": "code",
   "execution_count": 149,
   "id": "55356168",
   "metadata": {},
   "outputs": [],
   "source": [
    "genes <- c(\"CYP2R1\",\"CSF1\",\"LYPLAL1\",\"IRS1\",\"PBRM1\",\"GNL3\",\"ADIPOQ\",\"RFC4\",\"NAP1L5\",\"FAM13A\",\"FST\",\"VEGFA\",\"RGS17\",\"TRIB1\",\"ADRB1\",\"PDE3A\",\"RBMS2\",\n",
    "           \"FGFR2\",\"RIC8B\",\"CCDC92\",\"DNAH10OS\",\"ZNF664\",\"CMIP\",\"CDH13\",\"CTDNEP1\",\"ELP5\",\"PEPD\",\"CEBPG\")"
   ]
  },
  {
   "cell_type": "code",
   "execution_count": 113,
   "id": "6b726c82",
   "metadata": {},
   "outputs": [
    {
     "data": {
      "text/html": [
       "<table class=\"dataframe\">\n",
       "<caption>A tibble: 34 × 29</caption>\n",
       "<thead>\n",
       "\t<tr><th scope=col>WINDOW</th><th scope=col>NAME</th><th scope=col>CHR</th><th scope=col>POSITION</th><th scope=col>INDEX</th><th scope=col>GP_SCORE</th><th scope=col>TSS</th><th scope=col>P_G</th><th scope=col>SG</th><th scope=col>CS</th><th scope=col>...</th><th scope=col>CS2G_SCORE</th><th scope=col>coloc_WT</th><th scope=col>SMR_WT</th><th scope=col>EQTL_WT</th><th scope=col>LDSC_WT</th><th scope=col>EMS_WT</th><th scope=col>GP_quartile</th><th scope=col>PG_quartile</th><th scope=col>SG_quartile</th><th scope=col>CS_quartile</th></tr>\n",
       "\t<tr><th scope=col>&lt;int&gt;</th><th scope=col>&lt;chr&gt;</th><th scope=col>&lt;int&gt;</th><th scope=col>&lt;int&gt;</th><th scope=col>&lt;chr&gt;</th><th scope=col>&lt;dbl&gt;</th><th scope=col>&lt;int&gt;</th><th scope=col>&lt;dbl&gt;</th><th scope=col>&lt;dbl&gt;</th><th scope=col>&lt;dbl&gt;</th><th scope=col>...</th><th scope=col>&lt;dbl&gt;</th><th scope=col>&lt;dbl&gt;</th><th scope=col>&lt;dbl&gt;</th><th scope=col>&lt;dbl&gt;</th><th scope=col>&lt;dbl&gt;</th><th scope=col>&lt;dbl&gt;</th><th scope=col>&lt;int&gt;</th><th scope=col>&lt;int&gt;</th><th scope=col>&lt;int&gt;</th><th scope=col>&lt;int&gt;</th></tr>\n",
       "</thead>\n",
       "<tbody>\n",
       "\t<tr><td> 1</td><td>CSF1    </td><td> 1</td><td>110470764</td><td>rs333947  </td><td>1.3351294</td><td>110452864</td><td>17.342127</td><td>3.829808</td><td>0.8909091</td><td>...</td><td>1.0</td><td>1.0</td><td>1.0</td><td>1.0</td><td>1.0</td><td>0.8</td><td> 99</td><td> 98</td><td> 98</td><td>100</td></tr>\n",
       "\t<tr><td> 2</td><td>LYPLAL1 </td><td> 1</td><td>219665008</td><td>rs2061155 </td><td>0.2503454</td><td>219347186</td><td> 6.606894</td><td>1.782034</td><td>0.5454545</td><td>...</td><td>1.0</td><td>0.0</td><td>0.0</td><td>0.0</td><td>1.0</td><td>0.0</td><td> 78</td><td> 83</td><td> 42</td><td> 43</td></tr>\n",
       "\t<tr><td> 3</td><td>IRS1    </td><td> 2</td><td>227123086</td><td>rs1515108 </td><td>0.9412943</td><td>227664475</td><td>15.934039</td><td>4.189429</td><td>0.8909091</td><td>...</td><td>1.0</td><td>1.0</td><td>1.0</td><td>1.0</td><td>0.8</td><td>1.0</td><td> 97</td><td> 97</td><td>100</td><td>100</td></tr>\n",
       "\t<tr><td> 4</td><td>PBRM1   </td><td> 3</td><td> 52720080</td><td>rs1108842 </td><td>3.7673800</td><td> 52719933</td><td>29.362880</td><td>4.541997</td><td>0.8000000</td><td>...</td><td>1.0</td><td>1.0</td><td>0.0</td><td>0.8</td><td>1.0</td><td>1.0</td><td>100</td><td> 99</td><td>100</td><td> 95</td></tr>\n",
       "\t<tr><td> 4</td><td>GNL3    </td><td> 3</td><td> 52720080</td><td>rs1108842 </td><td>2.5498659</td><td> 52715172</td><td>30.230454</td><td>4.159617</td><td>0.9090909</td><td>...</td><td>1.0</td><td>1.0</td><td>1.0</td><td>1.0</td><td>1.0</td><td>1.0</td><td>100</td><td>100</td><td>100</td><td>100</td></tr>\n",
       "\t<tr><td> 5</td><td>ADIPOQ  </td><td> 3</td><td>186570453</td><td>rs17366568</td><td>1.1681915</td><td>186560463</td><td>16.828091</td><td>2.573042</td><td>0.8000000</td><td>...</td><td>1.0</td><td>1.0</td><td>0.0</td><td>1.0</td><td>1.0</td><td>0.8</td><td> 98</td><td> 98</td><td> 75</td><td> 96</td></tr>\n",
       "\t<tr><td> 5</td><td>RFC4    </td><td> 3</td><td>186570453</td><td>rs17366568</td><td>0.8853143</td><td>186524847</td><td>14.447985</td><td>4.392201</td><td>0.7272727</td><td>...</td><td>1.0</td><td>1.0</td><td>1.0</td><td>0.0</td><td>0.0</td><td>1.0</td><td> 97</td><td> 96</td><td>100</td><td> 90</td></tr>\n",
       "\t<tr><td> 6</td><td>NAP1L5  </td><td> 4</td><td> 89739479</td><td>rs13131633</td><td>0.5507575</td><td> 89619386</td><td> 9.506711</td><td>3.271670</td><td>0.7272727</td><td>...</td><td>1.0</td><td>1.0</td><td>1.0</td><td>0.0</td><td>0.0</td><td>1.0</td><td> 94</td><td> 92</td><td> 93</td><td> 90</td></tr>\n",
       "\t<tr><td> 6</td><td>FAM13A  </td><td> 4</td><td> 89739479</td><td>rs13131633</td><td>0.4818217</td><td> 90032549</td><td>10.261057</td><td>3.489427</td><td>0.6363636</td><td>...</td><td>1.0</td><td>1.0</td><td>0.0</td><td>1.0</td><td>0.0</td><td>0.0</td><td> 92</td><td> 93</td><td> 95</td><td> 77</td></tr>\n",
       "\t<tr><td> 7</td><td>FST     </td><td> 5</td><td> 53298025</td><td>rs6450176 </td><td>0.3812766</td><td> 52776239</td><td> 9.218375</td><td>2.161321</td><td>0.6363636</td><td>...</td><td>1.0</td><td>0.0</td><td>0.0</td><td>1.0</td><td>1.0</td><td>0.0</td><td> 89</td><td> 91</td><td> 56</td><td> 77</td></tr>\n",
       "\t<tr><td> 8</td><td>VEGFA   </td><td> 6</td><td> 43757896</td><td>rs998584  </td><td>0.2981583</td><td> 43737921</td><td> 3.112866</td><td>3.580575</td><td>0.6363636</td><td>...</td><td>1.0</td><td>0.0</td><td>0.0</td><td>0.0</td><td>1.0</td><td>1.0</td><td> 82</td><td> 53</td><td> 96</td><td> 78</td></tr>\n",
       "\t<tr><td> 9</td><td>RGS17   </td><td> 6</td><td>153457053</td><td>rs596359  </td><td>1.6313097</td><td>153452384</td><td>21.419946</td><td>2.882559</td><td>0.8181818</td><td>...</td><td>1.0</td><td>1.0</td><td>1.0</td><td>1.0</td><td>0.0</td><td>1.0</td><td> 99</td><td> 99</td><td> 85</td><td> 98</td></tr>\n",
       "\t<tr><td>10</td><td>TRIB1   </td><td> 8</td><td>126481475</td><td>rs2980879 </td><td>0.3179183</td><td>126442563</td><td> 5.495744</td><td>2.345955</td><td>0.6181818</td><td>...</td><td>1.0</td><td>0.0</td><td>0.0</td><td>0.0</td><td>1.0</td><td>0.8</td><td> 84</td><td> 76</td><td> 64</td><td> 71</td></tr>\n",
       "\t<tr><td>11</td><td>ADRB1   </td><td>10</td><td>115813924</td><td>rs10787516</td><td>0.3601745</td><td>115803806</td><td> 3.979144</td><td>2.778791</td><td>0.7090909</td><td>...</td><td>1.0</td><td>0.8</td><td>0.0</td><td>0.0</td><td>1.0</td><td>1.0</td><td> 88</td><td> 63</td><td> 81</td><td> 88</td></tr>\n",
       "\t<tr><td>12</td><td>FGFR2   </td><td>10</td><td>122929493</td><td>rs10886863</td><td>0.3051572</td><td>123357972</td><td> 5.484395</td><td>2.566963</td><td>0.7090909</td><td>...</td><td>1.0</td><td>1.0</td><td>1.0</td><td>0.0</td><td>0.8</td><td>0.0</td><td> 83</td><td> 76</td><td> 74</td><td> 88</td></tr>\n",
       "\t<tr><td>12</td><td>WDR11   </td><td>10</td><td>122929493</td><td>rs10886863</td><td>0.2005874</td><td>122610687</td><td> 4.355522</td><td>1.576717</td><td>0.6181818</td><td>...</td><td>0.5</td><td>0.8</td><td>0.0</td><td>0.0</td><td>1.0</td><td>0.0</td><td> 67</td><td> 67</td><td> 34</td><td> 71</td></tr>\n",
       "\t<tr><td>13</td><td>CYP2R1  </td><td>11</td><td> 14784110</td><td>rs11023332</td><td>0.5779304</td><td> 14913798</td><td> 8.962541</td><td>3.891700</td><td>0.7636364</td><td>...</td><td>1.0</td><td>0.8</td><td>0.8</td><td>0.8</td><td>0.0</td><td>1.0</td><td> 94</td><td> 90</td><td> 98</td><td> 93</td></tr>\n",
       "\t<tr><td>14</td><td>PDE3A   </td><td>12</td><td> 20470221</td><td>rs11045172</td><td>1.9119315</td><td> 20522179</td><td>30.302065</td><td>4.016238</td><td>0.8727273</td><td>...</td><td>1.0</td><td>0.8</td><td>0.8</td><td>1.0</td><td>1.0</td><td>1.0</td><td> 99</td><td>100</td><td> 99</td><td> 99</td></tr>\n",
       "\t<tr><td>15</td><td>RBMS2   </td><td>12</td><td> 56938383</td><td>rs2657888 </td><td>0.5667130</td><td> 56915713</td><td> 5.528217</td><td>4.493375</td><td>0.8181818</td><td>...</td><td>1.0</td><td>1.0</td><td>1.0</td><td>0.0</td><td>1.0</td><td>1.0</td><td> 94</td><td> 76</td><td>100</td><td> 98</td></tr>\n",
       "\t<tr><td>15</td><td>SPRYD4  </td><td>12</td><td> 56938383</td><td>rs2657888 </td><td>0.4837919</td><td> 56862301</td><td> 8.089430</td><td>2.434104</td><td>0.7454545</td><td>...</td><td>1.0</td><td>0.8</td><td>0.8</td><td>0.0</td><td>0.8</td><td>0.8</td><td> 93</td><td> 89</td><td> 67</td><td> 93</td></tr>\n",
       "\t<tr><td>16</td><td>RIC8B   </td><td>12</td><td>107143260</td><td>rs10778506</td><td>0.4618357</td><td>107168373</td><td> 8.058842</td><td>2.548706</td><td>0.6363636</td><td>...</td><td>1.0</td><td>0.0</td><td>0.0</td><td>1.0</td><td>0.0</td><td>1.0</td><td> 92</td><td> 88</td><td> 73</td><td> 81</td></tr>\n",
       "\t<tr><td>17</td><td>CCDC92  </td><td>12</td><td>123174743</td><td>rs601339  </td><td>2.0289842</td><td>124457378</td><td>42.272166</td><td>3.938461</td><td>0.8909091</td><td>...</td><td>1.0</td><td>1.0</td><td>1.0</td><td>1.0</td><td>1.0</td><td>0.8</td><td>100</td><td>100</td><td> 98</td><td>100</td></tr>\n",
       "\t<tr><td>17</td><td>DNAH10OS</td><td>12</td><td>123174743</td><td>rs601339  </td><td>1.5703457</td><td>124419531</td><td>37.759912</td><td>1.984494</td><td>0.8000000</td><td>...</td><td> NA</td><td>1.0</td><td>1.0</td><td>1.0</td><td>0.0</td><td>0.8</td><td> 99</td><td>100</td><td> 48</td><td> 96</td></tr>\n",
       "\t<tr><td>17</td><td>ZNF664  </td><td>12</td><td>123174743</td><td>rs601339  </td><td>1.3463633</td><td>124456392</td><td>28.276113</td><td>3.690743</td><td>0.8545455</td><td>...</td><td>1.0</td><td>0.8</td><td>0.8</td><td>0.8</td><td>1.0</td><td>1.0</td><td> 99</td><td> 99</td><td> 97</td><td> 99</td></tr>\n",
       "\t<tr><td>18</td><td>CCDC92  </td><td>12</td><td>124468572</td><td>rs7978610 </td><td>3.0608273</td><td>124457378</td><td>42.272166</td><td>3.938461</td><td>0.8909091</td><td>...</td><td>1.0</td><td>1.0</td><td>1.0</td><td>1.0</td><td>1.0</td><td>0.8</td><td>100</td><td>100</td><td> 99</td><td>100</td></tr>\n",
       "\t<tr><td>18</td><td>DNAH10OS</td><td>12</td><td>124468572</td><td>rs7978610 </td><td>2.0405683</td><td>124419531</td><td>37.759912</td><td>1.984494</td><td>0.8000000</td><td>...</td><td> NA</td><td>1.0</td><td>1.0</td><td>1.0</td><td>0.0</td><td>0.8</td><td>100</td><td>100</td><td> 48</td><td> 97</td></tr>\n",
       "\t<tr><td>18</td><td>ZNF664  </td><td>12</td><td>124468572</td><td>rs7978610 </td><td>2.0127229</td><td>124456392</td><td>28.276113</td><td>3.690743</td><td>0.8545455</td><td>...</td><td>1.0</td><td>0.8</td><td>0.8</td><td>0.8</td><td>1.0</td><td>1.0</td><td>100</td><td> 99</td><td> 97</td><td> 99</td></tr>\n",
       "\t<tr><td>19</td><td>CMIP    </td><td>16</td><td> 81534790</td><td>rs2925979 </td><td>0.8601614</td><td> 81478775</td><td>16.475599</td><td>3.161974</td><td>0.6909091</td><td>...</td><td>1.0</td><td>0.0</td><td>0.0</td><td>1.0</td><td>0.8</td><td>0.8</td><td> 97</td><td> 97</td><td> 91</td><td> 87</td></tr>\n",
       "\t<tr><td>20</td><td>CDH13   </td><td>16</td><td> 82663288</td><td>rs12051272</td><td>3.3913954</td><td> 82660408</td><td>38.336582</td><td>4.534178</td><td>0.9090909</td><td>...</td><td>1.0</td><td>1.0</td><td>1.0</td><td>1.0</td><td>1.0</td><td>1.0</td><td>100</td><td>100</td><td>100</td><td>100</td></tr>\n",
       "\t<tr><td>20</td><td>CMIP    </td><td>16</td><td> 82663288</td><td>rs12051272</td><td>0.6724757</td><td> 81478775</td><td>16.475599</td><td>3.161974</td><td>0.6909091</td><td>...</td><td>1.0</td><td>0.0</td><td>0.0</td><td>1.0</td><td>0.8</td><td>0.8</td><td> 96</td><td> 97</td><td> 91</td><td> 87</td></tr>\n",
       "\t<tr><td>21</td><td>CTDNEP1 </td><td>17</td><td>  7140606</td><td>rs222852  </td><td>1.5380494</td><td>  7155810</td><td>20.643283</td><td>3.839546</td><td>0.8727273</td><td>...</td><td>1.0</td><td>0.8</td><td>1.0</td><td>0.8</td><td>1.0</td><td>1.0</td><td> 99</td><td> 99</td><td> 98</td><td> 99</td></tr>\n",
       "\t<tr><td>21</td><td>ELP5    </td><td>17</td><td>  7140606</td><td>rs222852  </td><td>1.3088367</td><td>  7154735</td><td>16.751191</td><td>3.924350</td><td>0.8727273</td><td>...</td><td>1.0</td><td>1.0</td><td>0.8</td><td>0.8</td><td>1.0</td><td>1.0</td><td> 98</td><td> 98</td><td> 98</td><td> 99</td></tr>\n",
       "\t<tr><td>22</td><td>PEPD    </td><td>19</td><td> 33899065</td><td>rs731839  </td><td>0.5829687</td><td> 34012700</td><td> 8.809779</td><td>3.428228</td><td>0.8000000</td><td>...</td><td>1.0</td><td>1.0</td><td>1.0</td><td>0.0</td><td>1.0</td><td>0.8</td><td> 95</td><td> 90</td><td> 95</td><td> 97</td></tr>\n",
       "\t<tr><td>22</td><td>CEBPG   </td><td>19</td><td> 33899065</td><td>rs731839  </td><td>0.5403282</td><td> 33864236</td><td> 7.620873</td><td>2.569718</td><td>0.8000000</td><td>...</td><td>1.0</td><td>1.0</td><td>1.0</td><td>0.0</td><td>1.0</td><td>0.8</td><td> 94</td><td> 86</td><td> 75</td><td> 98</td></tr>\n",
       "</tbody>\n",
       "</table>\n"
      ],
      "text/latex": [
       "A tibble: 34 × 29\n",
       "\\begin{tabular}{lllllllllllllllllllll}\n",
       " WINDOW & NAME & CHR & POSITION & INDEX & GP\\_SCORE & TSS & P\\_G & SG & CS & ... & CS2G\\_SCORE & coloc\\_WT & SMR\\_WT & EQTL\\_WT & LDSC\\_WT & EMS\\_WT & GP\\_quartile & PG\\_quartile & SG\\_quartile & CS\\_quartile\\\\\n",
       " <int> & <chr> & <int> & <int> & <chr> & <dbl> & <int> & <dbl> & <dbl> & <dbl> & ... & <dbl> & <dbl> & <dbl> & <dbl> & <dbl> & <dbl> & <int> & <int> & <int> & <int>\\\\\n",
       "\\hline\n",
       "\t  1 & CSF1     &  1 & 110470764 & rs333947   & 1.3351294 & 110452864 & 17.342127 & 3.829808 & 0.8909091 & ... & 1.0 & 1.0 & 1.0 & 1.0 & 1.0 & 0.8 &  99 &  98 &  98 & 100\\\\\n",
       "\t  2 & LYPLAL1  &  1 & 219665008 & rs2061155  & 0.2503454 & 219347186 &  6.606894 & 1.782034 & 0.5454545 & ... & 1.0 & 0.0 & 0.0 & 0.0 & 1.0 & 0.0 &  78 &  83 &  42 &  43\\\\\n",
       "\t  3 & IRS1     &  2 & 227123086 & rs1515108  & 0.9412943 & 227664475 & 15.934039 & 4.189429 & 0.8909091 & ... & 1.0 & 1.0 & 1.0 & 1.0 & 0.8 & 1.0 &  97 &  97 & 100 & 100\\\\\n",
       "\t  4 & PBRM1    &  3 &  52720080 & rs1108842  & 3.7673800 &  52719933 & 29.362880 & 4.541997 & 0.8000000 & ... & 1.0 & 1.0 & 0.0 & 0.8 & 1.0 & 1.0 & 100 &  99 & 100 &  95\\\\\n",
       "\t  4 & GNL3     &  3 &  52720080 & rs1108842  & 2.5498659 &  52715172 & 30.230454 & 4.159617 & 0.9090909 & ... & 1.0 & 1.0 & 1.0 & 1.0 & 1.0 & 1.0 & 100 & 100 & 100 & 100\\\\\n",
       "\t  5 & ADIPOQ   &  3 & 186570453 & rs17366568 & 1.1681915 & 186560463 & 16.828091 & 2.573042 & 0.8000000 & ... & 1.0 & 1.0 & 0.0 & 1.0 & 1.0 & 0.8 &  98 &  98 &  75 &  96\\\\\n",
       "\t  5 & RFC4     &  3 & 186570453 & rs17366568 & 0.8853143 & 186524847 & 14.447985 & 4.392201 & 0.7272727 & ... & 1.0 & 1.0 & 1.0 & 0.0 & 0.0 & 1.0 &  97 &  96 & 100 &  90\\\\\n",
       "\t  6 & NAP1L5   &  4 &  89739479 & rs13131633 & 0.5507575 &  89619386 &  9.506711 & 3.271670 & 0.7272727 & ... & 1.0 & 1.0 & 1.0 & 0.0 & 0.0 & 1.0 &  94 &  92 &  93 &  90\\\\\n",
       "\t  6 & FAM13A   &  4 &  89739479 & rs13131633 & 0.4818217 &  90032549 & 10.261057 & 3.489427 & 0.6363636 & ... & 1.0 & 1.0 & 0.0 & 1.0 & 0.0 & 0.0 &  92 &  93 &  95 &  77\\\\\n",
       "\t  7 & FST      &  5 &  53298025 & rs6450176  & 0.3812766 &  52776239 &  9.218375 & 2.161321 & 0.6363636 & ... & 1.0 & 0.0 & 0.0 & 1.0 & 1.0 & 0.0 &  89 &  91 &  56 &  77\\\\\n",
       "\t  8 & VEGFA    &  6 &  43757896 & rs998584   & 0.2981583 &  43737921 &  3.112866 & 3.580575 & 0.6363636 & ... & 1.0 & 0.0 & 0.0 & 0.0 & 1.0 & 1.0 &  82 &  53 &  96 &  78\\\\\n",
       "\t  9 & RGS17    &  6 & 153457053 & rs596359   & 1.6313097 & 153452384 & 21.419946 & 2.882559 & 0.8181818 & ... & 1.0 & 1.0 & 1.0 & 1.0 & 0.0 & 1.0 &  99 &  99 &  85 &  98\\\\\n",
       "\t 10 & TRIB1    &  8 & 126481475 & rs2980879  & 0.3179183 & 126442563 &  5.495744 & 2.345955 & 0.6181818 & ... & 1.0 & 0.0 & 0.0 & 0.0 & 1.0 & 0.8 &  84 &  76 &  64 &  71\\\\\n",
       "\t 11 & ADRB1    & 10 & 115813924 & rs10787516 & 0.3601745 & 115803806 &  3.979144 & 2.778791 & 0.7090909 & ... & 1.0 & 0.8 & 0.0 & 0.0 & 1.0 & 1.0 &  88 &  63 &  81 &  88\\\\\n",
       "\t 12 & FGFR2    & 10 & 122929493 & rs10886863 & 0.3051572 & 123357972 &  5.484395 & 2.566963 & 0.7090909 & ... & 1.0 & 1.0 & 1.0 & 0.0 & 0.8 & 0.0 &  83 &  76 &  74 &  88\\\\\n",
       "\t 12 & WDR11    & 10 & 122929493 & rs10886863 & 0.2005874 & 122610687 &  4.355522 & 1.576717 & 0.6181818 & ... & 0.5 & 0.8 & 0.0 & 0.0 & 1.0 & 0.0 &  67 &  67 &  34 &  71\\\\\n",
       "\t 13 & CYP2R1   & 11 &  14784110 & rs11023332 & 0.5779304 &  14913798 &  8.962541 & 3.891700 & 0.7636364 & ... & 1.0 & 0.8 & 0.8 & 0.8 & 0.0 & 1.0 &  94 &  90 &  98 &  93\\\\\n",
       "\t 14 & PDE3A    & 12 &  20470221 & rs11045172 & 1.9119315 &  20522179 & 30.302065 & 4.016238 & 0.8727273 & ... & 1.0 & 0.8 & 0.8 & 1.0 & 1.0 & 1.0 &  99 & 100 &  99 &  99\\\\\n",
       "\t 15 & RBMS2    & 12 &  56938383 & rs2657888  & 0.5667130 &  56915713 &  5.528217 & 4.493375 & 0.8181818 & ... & 1.0 & 1.0 & 1.0 & 0.0 & 1.0 & 1.0 &  94 &  76 & 100 &  98\\\\\n",
       "\t 15 & SPRYD4   & 12 &  56938383 & rs2657888  & 0.4837919 &  56862301 &  8.089430 & 2.434104 & 0.7454545 & ... & 1.0 & 0.8 & 0.8 & 0.0 & 0.8 & 0.8 &  93 &  89 &  67 &  93\\\\\n",
       "\t 16 & RIC8B    & 12 & 107143260 & rs10778506 & 0.4618357 & 107168373 &  8.058842 & 2.548706 & 0.6363636 & ... & 1.0 & 0.0 & 0.0 & 1.0 & 0.0 & 1.0 &  92 &  88 &  73 &  81\\\\\n",
       "\t 17 & CCDC92   & 12 & 123174743 & rs601339   & 2.0289842 & 124457378 & 42.272166 & 3.938461 & 0.8909091 & ... & 1.0 & 1.0 & 1.0 & 1.0 & 1.0 & 0.8 & 100 & 100 &  98 & 100\\\\\n",
       "\t 17 & DNAH10OS & 12 & 123174743 & rs601339   & 1.5703457 & 124419531 & 37.759912 & 1.984494 & 0.8000000 & ... &  NA & 1.0 & 1.0 & 1.0 & 0.0 & 0.8 &  99 & 100 &  48 &  96\\\\\n",
       "\t 17 & ZNF664   & 12 & 123174743 & rs601339   & 1.3463633 & 124456392 & 28.276113 & 3.690743 & 0.8545455 & ... & 1.0 & 0.8 & 0.8 & 0.8 & 1.0 & 1.0 &  99 &  99 &  97 &  99\\\\\n",
       "\t 18 & CCDC92   & 12 & 124468572 & rs7978610  & 3.0608273 & 124457378 & 42.272166 & 3.938461 & 0.8909091 & ... & 1.0 & 1.0 & 1.0 & 1.0 & 1.0 & 0.8 & 100 & 100 &  99 & 100\\\\\n",
       "\t 18 & DNAH10OS & 12 & 124468572 & rs7978610  & 2.0405683 & 124419531 & 37.759912 & 1.984494 & 0.8000000 & ... &  NA & 1.0 & 1.0 & 1.0 & 0.0 & 0.8 & 100 & 100 &  48 &  97\\\\\n",
       "\t 18 & ZNF664   & 12 & 124468572 & rs7978610  & 2.0127229 & 124456392 & 28.276113 & 3.690743 & 0.8545455 & ... & 1.0 & 0.8 & 0.8 & 0.8 & 1.0 & 1.0 & 100 &  99 &  97 &  99\\\\\n",
       "\t 19 & CMIP     & 16 &  81534790 & rs2925979  & 0.8601614 &  81478775 & 16.475599 & 3.161974 & 0.6909091 & ... & 1.0 & 0.0 & 0.0 & 1.0 & 0.8 & 0.8 &  97 &  97 &  91 &  87\\\\\n",
       "\t 20 & CDH13    & 16 &  82663288 & rs12051272 & 3.3913954 &  82660408 & 38.336582 & 4.534178 & 0.9090909 & ... & 1.0 & 1.0 & 1.0 & 1.0 & 1.0 & 1.0 & 100 & 100 & 100 & 100\\\\\n",
       "\t 20 & CMIP     & 16 &  82663288 & rs12051272 & 0.6724757 &  81478775 & 16.475599 & 3.161974 & 0.6909091 & ... & 1.0 & 0.0 & 0.0 & 1.0 & 0.8 & 0.8 &  96 &  97 &  91 &  87\\\\\n",
       "\t 21 & CTDNEP1  & 17 &   7140606 & rs222852   & 1.5380494 &   7155810 & 20.643283 & 3.839546 & 0.8727273 & ... & 1.0 & 0.8 & 1.0 & 0.8 & 1.0 & 1.0 &  99 &  99 &  98 &  99\\\\\n",
       "\t 21 & ELP5     & 17 &   7140606 & rs222852   & 1.3088367 &   7154735 & 16.751191 & 3.924350 & 0.8727273 & ... & 1.0 & 1.0 & 0.8 & 0.8 & 1.0 & 1.0 &  98 &  98 &  98 &  99\\\\\n",
       "\t 22 & PEPD     & 19 &  33899065 & rs731839   & 0.5829687 &  34012700 &  8.809779 & 3.428228 & 0.8000000 & ... & 1.0 & 1.0 & 1.0 & 0.0 & 1.0 & 0.8 &  95 &  90 &  95 &  97\\\\\n",
       "\t 22 & CEBPG    & 19 &  33899065 & rs731839   & 0.5403282 &  33864236 &  7.620873 & 2.569718 & 0.8000000 & ... & 1.0 & 1.0 & 1.0 & 0.0 & 1.0 & 0.8 &  94 &  86 &  75 &  98\\\\\n",
       "\\end{tabular}\n"
      ],
      "text/markdown": [
       "\n",
       "A tibble: 34 × 29\n",
       "\n",
       "| WINDOW &lt;int&gt; | NAME &lt;chr&gt; | CHR &lt;int&gt; | POSITION &lt;int&gt; | INDEX &lt;chr&gt; | GP_SCORE &lt;dbl&gt; | TSS &lt;int&gt; | P_G &lt;dbl&gt; | SG &lt;dbl&gt; | CS &lt;dbl&gt; | ... ... | CS2G_SCORE &lt;dbl&gt; | coloc_WT &lt;dbl&gt; | SMR_WT &lt;dbl&gt; | EQTL_WT &lt;dbl&gt; | LDSC_WT &lt;dbl&gt; | EMS_WT &lt;dbl&gt; | GP_quartile &lt;int&gt; | PG_quartile &lt;int&gt; | SG_quartile &lt;int&gt; | CS_quartile &lt;int&gt; |\n",
       "|---|---|---|---|---|---|---|---|---|---|---|---|---|---|---|---|---|---|---|---|---|\n",
       "|  1 | CSF1     |  1 | 110470764 | rs333947   | 1.3351294 | 110452864 | 17.342127 | 3.829808 | 0.8909091 | ... | 1.0 | 1.0 | 1.0 | 1.0 | 1.0 | 0.8 |  99 |  98 |  98 | 100 |\n",
       "|  2 | LYPLAL1  |  1 | 219665008 | rs2061155  | 0.2503454 | 219347186 |  6.606894 | 1.782034 | 0.5454545 | ... | 1.0 | 0.0 | 0.0 | 0.0 | 1.0 | 0.0 |  78 |  83 |  42 |  43 |\n",
       "|  3 | IRS1     |  2 | 227123086 | rs1515108  | 0.9412943 | 227664475 | 15.934039 | 4.189429 | 0.8909091 | ... | 1.0 | 1.0 | 1.0 | 1.0 | 0.8 | 1.0 |  97 |  97 | 100 | 100 |\n",
       "|  4 | PBRM1    |  3 |  52720080 | rs1108842  | 3.7673800 |  52719933 | 29.362880 | 4.541997 | 0.8000000 | ... | 1.0 | 1.0 | 0.0 | 0.8 | 1.0 | 1.0 | 100 |  99 | 100 |  95 |\n",
       "|  4 | GNL3     |  3 |  52720080 | rs1108842  | 2.5498659 |  52715172 | 30.230454 | 4.159617 | 0.9090909 | ... | 1.0 | 1.0 | 1.0 | 1.0 | 1.0 | 1.0 | 100 | 100 | 100 | 100 |\n",
       "|  5 | ADIPOQ   |  3 | 186570453 | rs17366568 | 1.1681915 | 186560463 | 16.828091 | 2.573042 | 0.8000000 | ... | 1.0 | 1.0 | 0.0 | 1.0 | 1.0 | 0.8 |  98 |  98 |  75 |  96 |\n",
       "|  5 | RFC4     |  3 | 186570453 | rs17366568 | 0.8853143 | 186524847 | 14.447985 | 4.392201 | 0.7272727 | ... | 1.0 | 1.0 | 1.0 | 0.0 | 0.0 | 1.0 |  97 |  96 | 100 |  90 |\n",
       "|  6 | NAP1L5   |  4 |  89739479 | rs13131633 | 0.5507575 |  89619386 |  9.506711 | 3.271670 | 0.7272727 | ... | 1.0 | 1.0 | 1.0 | 0.0 | 0.0 | 1.0 |  94 |  92 |  93 |  90 |\n",
       "|  6 | FAM13A   |  4 |  89739479 | rs13131633 | 0.4818217 |  90032549 | 10.261057 | 3.489427 | 0.6363636 | ... | 1.0 | 1.0 | 0.0 | 1.0 | 0.0 | 0.0 |  92 |  93 |  95 |  77 |\n",
       "|  7 | FST      |  5 |  53298025 | rs6450176  | 0.3812766 |  52776239 |  9.218375 | 2.161321 | 0.6363636 | ... | 1.0 | 0.0 | 0.0 | 1.0 | 1.0 | 0.0 |  89 |  91 |  56 |  77 |\n",
       "|  8 | VEGFA    |  6 |  43757896 | rs998584   | 0.2981583 |  43737921 |  3.112866 | 3.580575 | 0.6363636 | ... | 1.0 | 0.0 | 0.0 | 0.0 | 1.0 | 1.0 |  82 |  53 |  96 |  78 |\n",
       "|  9 | RGS17    |  6 | 153457053 | rs596359   | 1.6313097 | 153452384 | 21.419946 | 2.882559 | 0.8181818 | ... | 1.0 | 1.0 | 1.0 | 1.0 | 0.0 | 1.0 |  99 |  99 |  85 |  98 |\n",
       "| 10 | TRIB1    |  8 | 126481475 | rs2980879  | 0.3179183 | 126442563 |  5.495744 | 2.345955 | 0.6181818 | ... | 1.0 | 0.0 | 0.0 | 0.0 | 1.0 | 0.8 |  84 |  76 |  64 |  71 |\n",
       "| 11 | ADRB1    | 10 | 115813924 | rs10787516 | 0.3601745 | 115803806 |  3.979144 | 2.778791 | 0.7090909 | ... | 1.0 | 0.8 | 0.0 | 0.0 | 1.0 | 1.0 |  88 |  63 |  81 |  88 |\n",
       "| 12 | FGFR2    | 10 | 122929493 | rs10886863 | 0.3051572 | 123357972 |  5.484395 | 2.566963 | 0.7090909 | ... | 1.0 | 1.0 | 1.0 | 0.0 | 0.8 | 0.0 |  83 |  76 |  74 |  88 |\n",
       "| 12 | WDR11    | 10 | 122929493 | rs10886863 | 0.2005874 | 122610687 |  4.355522 | 1.576717 | 0.6181818 | ... | 0.5 | 0.8 | 0.0 | 0.0 | 1.0 | 0.0 |  67 |  67 |  34 |  71 |\n",
       "| 13 | CYP2R1   | 11 |  14784110 | rs11023332 | 0.5779304 |  14913798 |  8.962541 | 3.891700 | 0.7636364 | ... | 1.0 | 0.8 | 0.8 | 0.8 | 0.0 | 1.0 |  94 |  90 |  98 |  93 |\n",
       "| 14 | PDE3A    | 12 |  20470221 | rs11045172 | 1.9119315 |  20522179 | 30.302065 | 4.016238 | 0.8727273 | ... | 1.0 | 0.8 | 0.8 | 1.0 | 1.0 | 1.0 |  99 | 100 |  99 |  99 |\n",
       "| 15 | RBMS2    | 12 |  56938383 | rs2657888  | 0.5667130 |  56915713 |  5.528217 | 4.493375 | 0.8181818 | ... | 1.0 | 1.0 | 1.0 | 0.0 | 1.0 | 1.0 |  94 |  76 | 100 |  98 |\n",
       "| 15 | SPRYD4   | 12 |  56938383 | rs2657888  | 0.4837919 |  56862301 |  8.089430 | 2.434104 | 0.7454545 | ... | 1.0 | 0.8 | 0.8 | 0.0 | 0.8 | 0.8 |  93 |  89 |  67 |  93 |\n",
       "| 16 | RIC8B    | 12 | 107143260 | rs10778506 | 0.4618357 | 107168373 |  8.058842 | 2.548706 | 0.6363636 | ... | 1.0 | 0.0 | 0.0 | 1.0 | 0.0 | 1.0 |  92 |  88 |  73 |  81 |\n",
       "| 17 | CCDC92   | 12 | 123174743 | rs601339   | 2.0289842 | 124457378 | 42.272166 | 3.938461 | 0.8909091 | ... | 1.0 | 1.0 | 1.0 | 1.0 | 1.0 | 0.8 | 100 | 100 |  98 | 100 |\n",
       "| 17 | DNAH10OS | 12 | 123174743 | rs601339   | 1.5703457 | 124419531 | 37.759912 | 1.984494 | 0.8000000 | ... |  NA | 1.0 | 1.0 | 1.0 | 0.0 | 0.8 |  99 | 100 |  48 |  96 |\n",
       "| 17 | ZNF664   | 12 | 123174743 | rs601339   | 1.3463633 | 124456392 | 28.276113 | 3.690743 | 0.8545455 | ... | 1.0 | 0.8 | 0.8 | 0.8 | 1.0 | 1.0 |  99 |  99 |  97 |  99 |\n",
       "| 18 | CCDC92   | 12 | 124468572 | rs7978610  | 3.0608273 | 124457378 | 42.272166 | 3.938461 | 0.8909091 | ... | 1.0 | 1.0 | 1.0 | 1.0 | 1.0 | 0.8 | 100 | 100 |  99 | 100 |\n",
       "| 18 | DNAH10OS | 12 | 124468572 | rs7978610  | 2.0405683 | 124419531 | 37.759912 | 1.984494 | 0.8000000 | ... |  NA | 1.0 | 1.0 | 1.0 | 0.0 | 0.8 | 100 | 100 |  48 |  97 |\n",
       "| 18 | ZNF664   | 12 | 124468572 | rs7978610  | 2.0127229 | 124456392 | 28.276113 | 3.690743 | 0.8545455 | ... | 1.0 | 0.8 | 0.8 | 0.8 | 1.0 | 1.0 | 100 |  99 |  97 |  99 |\n",
       "| 19 | CMIP     | 16 |  81534790 | rs2925979  | 0.8601614 |  81478775 | 16.475599 | 3.161974 | 0.6909091 | ... | 1.0 | 0.0 | 0.0 | 1.0 | 0.8 | 0.8 |  97 |  97 |  91 |  87 |\n",
       "| 20 | CDH13    | 16 |  82663288 | rs12051272 | 3.3913954 |  82660408 | 38.336582 | 4.534178 | 0.9090909 | ... | 1.0 | 1.0 | 1.0 | 1.0 | 1.0 | 1.0 | 100 | 100 | 100 | 100 |\n",
       "| 20 | CMIP     | 16 |  82663288 | rs12051272 | 0.6724757 |  81478775 | 16.475599 | 3.161974 | 0.6909091 | ... | 1.0 | 0.0 | 0.0 | 1.0 | 0.8 | 0.8 |  96 |  97 |  91 |  87 |\n",
       "| 21 | CTDNEP1  | 17 |   7140606 | rs222852   | 1.5380494 |   7155810 | 20.643283 | 3.839546 | 0.8727273 | ... | 1.0 | 0.8 | 1.0 | 0.8 | 1.0 | 1.0 |  99 |  99 |  98 |  99 |\n",
       "| 21 | ELP5     | 17 |   7140606 | rs222852   | 1.3088367 |   7154735 | 16.751191 | 3.924350 | 0.8727273 | ... | 1.0 | 1.0 | 0.8 | 0.8 | 1.0 | 1.0 |  98 |  98 |  98 |  99 |\n",
       "| 22 | PEPD     | 19 |  33899065 | rs731839   | 0.5829687 |  34012700 |  8.809779 | 3.428228 | 0.8000000 | ... | 1.0 | 1.0 | 1.0 | 0.0 | 1.0 | 0.8 |  95 |  90 |  95 |  97 |\n",
       "| 22 | CEBPG    | 19 |  33899065 | rs731839   | 0.5403282 |  33864236 |  7.620873 | 2.569718 | 0.8000000 | ... | 1.0 | 1.0 | 1.0 | 0.0 | 1.0 | 0.8 |  94 |  86 |  75 |  98 |\n",
       "\n"
      ],
      "text/plain": [
       "   WINDOW NAME     CHR POSITION  INDEX      GP_SCORE  TSS       P_G      \n",
       "1   1     CSF1      1  110470764 rs333947   1.3351294 110452864 17.342127\n",
       "2   2     LYPLAL1   1  219665008 rs2061155  0.2503454 219347186  6.606894\n",
       "3   3     IRS1      2  227123086 rs1515108  0.9412943 227664475 15.934039\n",
       "4   4     PBRM1     3   52720080 rs1108842  3.7673800  52719933 29.362880\n",
       "5   4     GNL3      3   52720080 rs1108842  2.5498659  52715172 30.230454\n",
       "6   5     ADIPOQ    3  186570453 rs17366568 1.1681915 186560463 16.828091\n",
       "7   5     RFC4      3  186570453 rs17366568 0.8853143 186524847 14.447985\n",
       "8   6     NAP1L5    4   89739479 rs13131633 0.5507575  89619386  9.506711\n",
       "9   6     FAM13A    4   89739479 rs13131633 0.4818217  90032549 10.261057\n",
       "10  7     FST       5   53298025 rs6450176  0.3812766  52776239  9.218375\n",
       "11  8     VEGFA     6   43757896 rs998584   0.2981583  43737921  3.112866\n",
       "12  9     RGS17     6  153457053 rs596359   1.6313097 153452384 21.419946\n",
       "13 10     TRIB1     8  126481475 rs2980879  0.3179183 126442563  5.495744\n",
       "14 11     ADRB1    10  115813924 rs10787516 0.3601745 115803806  3.979144\n",
       "15 12     FGFR2    10  122929493 rs10886863 0.3051572 123357972  5.484395\n",
       "16 12     WDR11    10  122929493 rs10886863 0.2005874 122610687  4.355522\n",
       "17 13     CYP2R1   11   14784110 rs11023332 0.5779304  14913798  8.962541\n",
       "18 14     PDE3A    12   20470221 rs11045172 1.9119315  20522179 30.302065\n",
       "19 15     RBMS2    12   56938383 rs2657888  0.5667130  56915713  5.528217\n",
       "20 15     SPRYD4   12   56938383 rs2657888  0.4837919  56862301  8.089430\n",
       "21 16     RIC8B    12  107143260 rs10778506 0.4618357 107168373  8.058842\n",
       "22 17     CCDC92   12  123174743 rs601339   2.0289842 124457378 42.272166\n",
       "23 17     DNAH10OS 12  123174743 rs601339   1.5703457 124419531 37.759912\n",
       "24 17     ZNF664   12  123174743 rs601339   1.3463633 124456392 28.276113\n",
       "25 18     CCDC92   12  124468572 rs7978610  3.0608273 124457378 42.272166\n",
       "26 18     DNAH10OS 12  124468572 rs7978610  2.0405683 124419531 37.759912\n",
       "27 18     ZNF664   12  124468572 rs7978610  2.0127229 124456392 28.276113\n",
       "28 19     CMIP     16   81534790 rs2925979  0.8601614  81478775 16.475599\n",
       "29 20     CDH13    16   82663288 rs12051272 3.3913954  82660408 38.336582\n",
       "30 20     CMIP     16   82663288 rs12051272 0.6724757  81478775 16.475599\n",
       "31 21     CTDNEP1  17    7140606 rs222852   1.5380494   7155810 20.643283\n",
       "32 21     ELP5     17    7140606 rs222852   1.3088367   7154735 16.751191\n",
       "33 22     PEPD     19   33899065 rs731839   0.5829687  34012700  8.809779\n",
       "34 22     CEBPG    19   33899065 rs731839   0.5403282  33864236  7.620873\n",
       "   SG       CS        ... CS2G_SCORE coloc_WT SMR_WT EQTL_WT LDSC_WT EMS_WT\n",
       "1  3.829808 0.8909091 ... 1.0        1.0      1.0    1.0     1.0     0.8   \n",
       "2  1.782034 0.5454545 ... 1.0        0.0      0.0    0.0     1.0     0.0   \n",
       "3  4.189429 0.8909091 ... 1.0        1.0      1.0    1.0     0.8     1.0   \n",
       "4  4.541997 0.8000000 ... 1.0        1.0      0.0    0.8     1.0     1.0   \n",
       "5  4.159617 0.9090909 ... 1.0        1.0      1.0    1.0     1.0     1.0   \n",
       "6  2.573042 0.8000000 ... 1.0        1.0      0.0    1.0     1.0     0.8   \n",
       "7  4.392201 0.7272727 ... 1.0        1.0      1.0    0.0     0.0     1.0   \n",
       "8  3.271670 0.7272727 ... 1.0        1.0      1.0    0.0     0.0     1.0   \n",
       "9  3.489427 0.6363636 ... 1.0        1.0      0.0    1.0     0.0     0.0   \n",
       "10 2.161321 0.6363636 ... 1.0        0.0      0.0    1.0     1.0     0.0   \n",
       "11 3.580575 0.6363636 ... 1.0        0.0      0.0    0.0     1.0     1.0   \n",
       "12 2.882559 0.8181818 ... 1.0        1.0      1.0    1.0     0.0     1.0   \n",
       "13 2.345955 0.6181818 ... 1.0        0.0      0.0    0.0     1.0     0.8   \n",
       "14 2.778791 0.7090909 ... 1.0        0.8      0.0    0.0     1.0     1.0   \n",
       "15 2.566963 0.7090909 ... 1.0        1.0      1.0    0.0     0.8     0.0   \n",
       "16 1.576717 0.6181818 ... 0.5        0.8      0.0    0.0     1.0     0.0   \n",
       "17 3.891700 0.7636364 ... 1.0        0.8      0.8    0.8     0.0     1.0   \n",
       "18 4.016238 0.8727273 ... 1.0        0.8      0.8    1.0     1.0     1.0   \n",
       "19 4.493375 0.8181818 ... 1.0        1.0      1.0    0.0     1.0     1.0   \n",
       "20 2.434104 0.7454545 ... 1.0        0.8      0.8    0.0     0.8     0.8   \n",
       "21 2.548706 0.6363636 ... 1.0        0.0      0.0    1.0     0.0     1.0   \n",
       "22 3.938461 0.8909091 ... 1.0        1.0      1.0    1.0     1.0     0.8   \n",
       "23 1.984494 0.8000000 ...  NA        1.0      1.0    1.0     0.0     0.8   \n",
       "24 3.690743 0.8545455 ... 1.0        0.8      0.8    0.8     1.0     1.0   \n",
       "25 3.938461 0.8909091 ... 1.0        1.0      1.0    1.0     1.0     0.8   \n",
       "26 1.984494 0.8000000 ...  NA        1.0      1.0    1.0     0.0     0.8   \n",
       "27 3.690743 0.8545455 ... 1.0        0.8      0.8    0.8     1.0     1.0   \n",
       "28 3.161974 0.6909091 ... 1.0        0.0      0.0    1.0     0.8     0.8   \n",
       "29 4.534178 0.9090909 ... 1.0        1.0      1.0    1.0     1.0     1.0   \n",
       "30 3.161974 0.6909091 ... 1.0        0.0      0.0    1.0     0.8     0.8   \n",
       "31 3.839546 0.8727273 ... 1.0        0.8      1.0    0.8     1.0     1.0   \n",
       "32 3.924350 0.8727273 ... 1.0        1.0      0.8    0.8     1.0     1.0   \n",
       "33 3.428228 0.8000000 ... 1.0        1.0      1.0    0.0     1.0     0.8   \n",
       "34 2.569718 0.8000000 ... 1.0        1.0      1.0    0.0     1.0     0.8   \n",
       "   GP_quartile PG_quartile SG_quartile CS_quartile\n",
       "1   99          98          98         100        \n",
       "2   78          83          42          43        \n",
       "3   97          97         100         100        \n",
       "4  100          99         100          95        \n",
       "5  100         100         100         100        \n",
       "6   98          98          75          96        \n",
       "7   97          96         100          90        \n",
       "8   94          92          93          90        \n",
       "9   92          93          95          77        \n",
       "10  89          91          56          77        \n",
       "11  82          53          96          78        \n",
       "12  99          99          85          98        \n",
       "13  84          76          64          71        \n",
       "14  88          63          81          88        \n",
       "15  83          76          74          88        \n",
       "16  67          67          34          71        \n",
       "17  94          90          98          93        \n",
       "18  99         100          99          99        \n",
       "19  94          76         100          98        \n",
       "20  93          89          67          93        \n",
       "21  92          88          73          81        \n",
       "22 100         100          98         100        \n",
       "23  99         100          48          96        \n",
       "24  99          99          97          99        \n",
       "25 100         100          99         100        \n",
       "26 100         100          48          97        \n",
       "27 100          99          97          99        \n",
       "28  97          97          91          87        \n",
       "29 100         100         100         100        \n",
       "30  96          97          91          87        \n",
       "31  99          99          98          99        \n",
       "32  98          98          98          99        \n",
       "33  95          90          95          97        \n",
       "34  94          86          75          98        "
      ]
     },
     "metadata": {},
     "output_type": "display_data"
    }
   ],
   "source": [
    "gene_priority%>%ungroup()%>% mutate(GP_quartile = ntile(GP_SCORE, 100))%>%mutate(PG_quartile = ntile(P_G, 100))%>%mutate(SG_quartile = ntile(SG, 100))%>%mutate(CS_quartile = ntile(CS, 100))%>%filter(NAME %in% genes)"
   ]
  },
  {
   "cell_type": "code",
   "execution_count": 100,
   "id": "cb616ec2",
   "metadata": {},
   "outputs": [],
   "source": [
    "dat <- data.frame(Name = factor(sample(letters[1:5],1000,replace = TRUE)),\n",
    "                    val = runif(1000))\n",
    "\n",
    "datSum <- ddply(dat,.(Name),summarise,q05 = quantile(val,0.05),\n",
    "                                    q25 = quantile(val,0.25),\n",
    "                                    q45 = quantile(val,0.45),\n",
    "                                    q55 = quantile(val,0.55),\n",
    "                                    q75 = quantile(val,0.75),\n",
    "                                    q95 = quantile(val,0.95))\n",
    "datSum$NameAlt <- 1:5"
   ]
  },
  {
   "cell_type": "code",
   "execution_count": 103,
   "id": "f56d2266",
   "metadata": {},
   "outputs": [
    {
     "data": {
      "text/html": [
       "<table class=\"dataframe\">\n",
       "<caption>A data.frame: 5 × 8</caption>\n",
       "<thead>\n",
       "\t<tr><th scope=col>Name</th><th scope=col>q05</th><th scope=col>q25</th><th scope=col>q45</th><th scope=col>q55</th><th scope=col>q75</th><th scope=col>q95</th><th scope=col>NameAlt</th></tr>\n",
       "\t<tr><th scope=col>&lt;fct&gt;</th><th scope=col>&lt;dbl&gt;</th><th scope=col>&lt;dbl&gt;</th><th scope=col>&lt;dbl&gt;</th><th scope=col>&lt;dbl&gt;</th><th scope=col>&lt;dbl&gt;</th><th scope=col>&lt;dbl&gt;</th><th scope=col>&lt;int&gt;</th></tr>\n",
       "</thead>\n",
       "<tbody>\n",
       "\t<tr><td>a</td><td>0.06028899</td><td>0.2260286</td><td>0.4420988</td><td>0.5538258</td><td>0.7125111</td><td>0.9463209</td><td>1</td></tr>\n",
       "\t<tr><td>b</td><td>0.05860292</td><td>0.2471860</td><td>0.4262262</td><td>0.5568671</td><td>0.7655322</td><td>0.9441364</td><td>2</td></tr>\n",
       "\t<tr><td>c</td><td>0.04364850</td><td>0.1835297</td><td>0.3990594</td><td>0.5041903</td><td>0.7168268</td><td>0.9320738</td><td>3</td></tr>\n",
       "\t<tr><td>d</td><td>0.03494309</td><td>0.2248080</td><td>0.4267837</td><td>0.5342090</td><td>0.7389248</td><td>0.9588529</td><td>4</td></tr>\n",
       "\t<tr><td>e</td><td>0.06043279</td><td>0.2863483</td><td>0.5035947</td><td>0.5934387</td><td>0.8211826</td><td>0.9608218</td><td>5</td></tr>\n",
       "</tbody>\n",
       "</table>\n"
      ],
      "text/latex": [
       "A data.frame: 5 × 8\n",
       "\\begin{tabular}{llllllll}\n",
       " Name & q05 & q25 & q45 & q55 & q75 & q95 & NameAlt\\\\\n",
       " <fct> & <dbl> & <dbl> & <dbl> & <dbl> & <dbl> & <dbl> & <int>\\\\\n",
       "\\hline\n",
       "\t a & 0.06028899 & 0.2260286 & 0.4420988 & 0.5538258 & 0.7125111 & 0.9463209 & 1\\\\\n",
       "\t b & 0.05860292 & 0.2471860 & 0.4262262 & 0.5568671 & 0.7655322 & 0.9441364 & 2\\\\\n",
       "\t c & 0.04364850 & 0.1835297 & 0.3990594 & 0.5041903 & 0.7168268 & 0.9320738 & 3\\\\\n",
       "\t d & 0.03494309 & 0.2248080 & 0.4267837 & 0.5342090 & 0.7389248 & 0.9588529 & 4\\\\\n",
       "\t e & 0.06043279 & 0.2863483 & 0.5035947 & 0.5934387 & 0.8211826 & 0.9608218 & 5\\\\\n",
       "\\end{tabular}\n"
      ],
      "text/markdown": [
       "\n",
       "A data.frame: 5 × 8\n",
       "\n",
       "| Name &lt;fct&gt; | q05 &lt;dbl&gt; | q25 &lt;dbl&gt; | q45 &lt;dbl&gt; | q55 &lt;dbl&gt; | q75 &lt;dbl&gt; | q95 &lt;dbl&gt; | NameAlt &lt;int&gt; |\n",
       "|---|---|---|---|---|---|---|---|\n",
       "| a | 0.06028899 | 0.2260286 | 0.4420988 | 0.5538258 | 0.7125111 | 0.9463209 | 1 |\n",
       "| b | 0.05860292 | 0.2471860 | 0.4262262 | 0.5568671 | 0.7655322 | 0.9441364 | 2 |\n",
       "| c | 0.04364850 | 0.1835297 | 0.3990594 | 0.5041903 | 0.7168268 | 0.9320738 | 3 |\n",
       "| d | 0.03494309 | 0.2248080 | 0.4267837 | 0.5342090 | 0.7389248 | 0.9588529 | 4 |\n",
       "| e | 0.06043279 | 0.2863483 | 0.5035947 | 0.5934387 | 0.8211826 | 0.9608218 | 5 |\n",
       "\n"
      ],
      "text/plain": [
       "  Name q05        q25       q45       q55       q75       q95       NameAlt\n",
       "1 a    0.06028899 0.2260286 0.4420988 0.5538258 0.7125111 0.9463209 1      \n",
       "2 b    0.05860292 0.2471860 0.4262262 0.5568671 0.7655322 0.9441364 2      \n",
       "3 c    0.04364850 0.1835297 0.3990594 0.5041903 0.7168268 0.9320738 3      \n",
       "4 d    0.03494309 0.2248080 0.4267837 0.5342090 0.7389248 0.9588529 4      \n",
       "5 e    0.06043279 0.2863483 0.5035947 0.5934387 0.8211826 0.9608218 5      "
      ]
     },
     "metadata": {},
     "output_type": "display_data"
    }
   ],
   "source": [
    "datSum"
   ]
  },
  {
   "cell_type": "code",
   "execution_count": 102,
   "id": "eaac7ab6",
   "metadata": {},
   "outputs": [
    {
     "data": {
      "image/png": "[encoded data removed]",
      "text/plain": [
       "plot without title"
      ]
     },
     "metadata": {
      "image/png": {
       "height": 420,
       "width": 420
      }
     },
     "output_type": "display_data"
    }
   ],
   "source": [
    "ggplot(datSum,aes(ymin = NameAlt - 0.2,ymax = NameAlt + 0.2)) + \n",
    "    geom_rect(aes(xmin = q05,xmax = q95),fill = \"white\",colour = \"black\") + \n",
    "    geom_rect(aes(xmin = q25,xmax = q75),fill = 'lightblue',colour = \"black\") +\n",
    "    geom_rect(aes(xmin = q45,xmax = q55),fill = 'blue',colour = \"black\") +\n",
    "    scale_y_continuous(breaks = 1:5,labels = datSum$Name)"
   ]
  },
  {
   "cell_type": "code",
   "execution_count": 148,
   "id": "5134eb39",
   "metadata": {},
   "outputs": [],
   "source": [
    "write.table(gene_priority,\"../../ANALYSIS/GENE_PRIORITY/TRANS_GENE_PRIORITY_NM.TAB\",row.names=FALSE,quote=FALSE,sep=\"\\t\")"
   ]
  },
  {
   "cell_type": "code",
   "execution_count": 568,
   "id": "0a699a7b",
   "metadata": {},
   "outputs": [],
   "source": [
    "top3_genes <- gene_priority%>%group_by(WINDOW) %>% slice_max(order_by = GP_SCORE, n = 3)"
   ]
  },
  {
   "cell_type": "code",
   "execution_count": 569,
   "id": "631eda36",
   "metadata": {},
   "outputs": [],
   "source": [
    "write.table(top3_genes,\"../../ANALYSIS/GENE_PRIORITY/TRANS_GENE_PRIORITY_NMTOP3.TAB\",row.names=FALSE,quote=FALSE,sep=\"\\t\")"
   ]
  },
  {
   "cell_type": "code",
   "execution_count": null,
   "id": "85d8e496",
   "metadata": {},
   "outputs": [],
   "source": []
  }
 ],
 "metadata": {
  "kernelspec": {
   "display_name": "R",
   "language": "R",
   "name": "ir"
  },
  "language_info": {
   "codemirror_mode": "r",
   "file_extension": ".r",
   "mimetype": "text/x-r-source",
   "name": "R",
   "pygments_lexer": "r",
   "version": "4.2.0"
  }
 },
 "nbformat": 4,
 "nbformat_minor": 5
}
