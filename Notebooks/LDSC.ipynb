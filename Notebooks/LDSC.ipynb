{
 "cells": [
  {
   "cell_type": "code",
   "execution_count": 7,
   "id": "cc4c781f",
   "metadata": {},
   "outputs": [],
   "source": [
    "suppressMessages(suppressWarnings(library(tidyverse)))"
   ]
  },
  {
   "cell_type": "code",
   "execution_count": 26,
   "id": "a4fefa1c",
   "metadata": {},
   "outputs": [],
   "source": [
    "##TRANS"
   ]
  },
  {
   "cell_type": "code",
   "execution_count": 27,
   "id": "b34b11f2",
   "metadata": {},
   "outputs": [],
   "source": [
    "Metasoft_results <-  read.table(\"../../ANALYSIS/META/METASOFT/SECOND_PASS/TRANSANCESTRY_METASOFT_SECONDPASS_RESULTS.TAB\",fill=TRUE,row.names=NULL,header=FALSE)\n",
    "META_THREE <- read.table(gzfile(\"../data/TRANSANCESTRY_GWAS.TAB.gz\"),header=T,fill=TRUE,row.names=NULL)\n",
    "colnames(Metasoft_results) <- c(\"MARKERNAME\",\"N\",\"PVALUE_FE\",\"BETA_FE\",\"STD_FE\",\"PVALUE_RE\",\"BETA_RE\",\"STD_RE\",\"PVALUE_RE2\",\"STAT1_RE2\",\"STAT2_RE2\",\"PVALUE_BE\",\"I_SQUARE\",\"Q\",\"PVALUE_Q\",\"TAU_SQUARE\",\n",
    "                                \"PVALUE_ADIPOGEN\",\"PVALUE_AGEN\",\"PVALUE_METSIM\",\"NA1\",\"NA2\",\"NA3\")\n",
    "Metasoft_results <- Metasoft_results%>%filter(MARKERNAME!=\"RSID\")\n",
    "TRANSANCESTRY_RESULTS <- merge(META_THREE,Metasoft_results,by=\"MARKERNAME\")\n",
    "TRANSANCESTRY_RESULTS <- TRANSANCESTRY_RESULTS%>%mutate(TOTAL_N=ceiling(ADIPO_N)+ceiling(AGEN_N)+ceiling(METSIM_N))%>%mutate(MAF_AVG=(ADIPO_EAF*2*ADIPO_N+AGEN_EAF*2*AGEN_N+METSIM_EAF*2*METSIM_N)/(2*TOTAL_N))%>%\n",
    "filter(ADIPO_EAF>0.005)%>%filter(AGEN_EAF>0.005)%>%filter(METSIM_EAF>0.005)%>%select(-NA1,-N,-NA2,-NA3)"
   ]
  },
  {
   "cell_type": "code",
   "execution_count": 28,
   "id": "6162cdab",
   "metadata": {},
   "outputs": [],
   "source": [
    "trans <- TRANSANCESTRY_RESULTS%>%select(MARKERNAME,METSIM_EA,METSIM_NEA,MAF_AVG,PVALUE_FE,TOTAL_N)%>%\n",
    "rename(MarkerName=MARKERNAME,Allele1=METSIM_EA,Allele2=METSIM_NEA,Freq.TRANS=MAF_AVG,p=PVALUE_FE,N=TOTAL_N)%>%distinct(MarkerName,.keep_all = TRUE)"
   ]
  },
  {
   "cell_type": "code",
   "execution_count": 29,
   "id": "17c2b65e",
   "metadata": {},
   "outputs": [],
   "source": [
    "write.table(trans,\"../../ANALYSIS/GTEX/TRANS_SUMSTATS.txt\",sep = \" \",row.names=FALSE,quote=FALSE)"
   ]
  },
  {
   "cell_type": "code",
   "execution_count": 30,
   "id": "dc1709f8",
   "metadata": {},
   "outputs": [],
   "source": [
    "##EUR"
   ]
  },
  {
   "cell_type": "code",
   "execution_count": 31,
   "id": "a348e108",
   "metadata": {},
   "outputs": [],
   "source": [
    "Metasoft_results <-  read.table(\"../../ANALYSIS/META/METASOFT/SECOND_PASS/EUROPEAN_METASOFT_SECONDPASS_RESULTS.TAB\",fill=TRUE,row.names=NULL,header=FALSE)\n",
    "META_TWO <- read.table(gzfile(\"../data/EUR_GWAS.TAB.gz\"),header=T,fill=TRUE,row.names=NULL)\n",
    "colnames(Metasoft_results) <- c(\"MARKERNAME\",\"N\",\"PVALUE_FE\",\"BETA_FE\",\"STD_FE\",\"PVALUE_RE\",\"BETA_RE\",\"STD_RE\",\"PVALUE_RE2\",\"STAT1_RE2\",\"STAT2_RE2\",\"PVALUE_BE\",\"I_SQUARE\",\"Q\",\"PVALUE_Q\",\"TAU_SQUARE\",\n",
    "                                \"PVALUE_ADIPOGEN\",\"PVALUE_METSIM\",\"NA1\",\"NA2\")\n",
    "Metasoft_results <- Metasoft_results%>%filter(MARKERNAME!=\"RSID\")\n",
    "EUR_RESULTS <- merge(META_TWO,Metasoft_results,by=\"MARKERNAME\")\n",
    "EUR_RESULTS <- EUR_RESULTS%>%mutate(TOTAL_N=ceiling(ADIPO_N)+ceiling(METSIM_N))%>%mutate(MAF_AVG=(ADIPO_EAF*2*ADIPO_N+METSIM_EAF*2*METSIM_N)/(2*TOTAL_N))%>%\n",
    "filter(ADIPO_EAF>0.005)%>%filter(METSIM_EAF>0.005)%>%select(-NA1,-N,-NA2)"
   ]
  },
  {
   "cell_type": "code",
   "execution_count": 32,
   "id": "29d66181",
   "metadata": {},
   "outputs": [],
   "source": [
    "eur <- EUR_RESULTS%>%select(MARKERNAME,METSIM_EA,METSIM_NEA,MAF_AVG,PVALUE_FE,TOTAL_N)%>%\n",
    "rename(MarkerName=MARKERNAME,,Allele1=METSIM_EA,Allele2=METSIM_NEA,Freq.EUR=MAF_AVG,p=PVALUE_FE,N=TOTAL_N)%>%distinct(MarkerName,.keep_all = TRUE)"
   ]
  },
  {
   "cell_type": "code",
   "execution_count": 33,
   "id": "098f6a08",
   "metadata": {},
   "outputs": [],
   "source": [
    "write.table(trans,\"../../ANALYSIS/GTEX/EUR_SUMSTATS.txt\",sep = \" \",row.names=FALSE,quote=FALSE)"
   ]
  },
  {
   "cell_type": "code",
   "execution_count": 1,
   "id": "f56711d3",
   "metadata": {},
   "outputs": [],
   "source": [
    "##METSIM"
   ]
  },
  {
   "cell_type": "code",
   "execution_count": 2,
   "id": "cea61483",
   "metadata": {},
   "outputs": [],
   "source": [
    "METSIM_RESULTS <- read.table(\"../../Summary_Statistic//Formatted//METSIM_hg19_METAL_POS.TAB\",header=F,fill=TRUE,row.names=NULL)\n",
    "colnames(METSIM_RESULTS) <- c(\"CHROMOSOME\",\"POSITION\",\"MARKERNAME\",\"METSIM_NEA\",\"METSIM_EA\",\"METSIM_N\",\"PVALUE_FE\",\"METSIM_BETA\",\"METSIM_SE\")"
   ]
  },
  {
   "cell_type": "code",
   "execution_count": 3,
   "id": "ce9a2158",
   "metadata": {},
   "outputs": [],
   "source": [
    "METSIM_MAF <- read.table(\"../../Summary_Statistic//Formatted/CHR_POS_MAF.TAB\",header=F,fill=TRUE,row.names=NULL)\n",
    "colnames(METSIM_MAF) <- c(\"CHROMOSOME\",\"POSITION\",\"MAF\")"
   ]
  },
  {
   "cell_type": "code",
   "execution_count": 4,
   "id": "59111ac6",
   "metadata": {},
   "outputs": [],
   "source": [
    "METSIM_DF <- merge(METSIM_RESULTS,METSIM_MAF,by=c(\"CHROMOSOME\",\"POSITION\"))"
   ]
  },
  {
   "cell_type": "code",
   "execution_count": 5,
   "id": "ebb0be12",
   "metadata": {},
   "outputs": [
    {
     "data": {
      "text/html": [
       "<table class=\"dataframe\">\n",
       "<caption>A data.frame: 6 × 10</caption>\n",
       "<thead>\n",
       "\t<tr><th></th><th scope=col>CHROMOSOME</th><th scope=col>POSITION</th><th scope=col>MARKERNAME</th><th scope=col>METSIM_NEA</th><th scope=col>METSIM_EA</th><th scope=col>METSIM_N</th><th scope=col>PVALUE_FE</th><th scope=col>METSIM_BETA</th><th scope=col>METSIM_SE</th><th scope=col>MAF</th></tr>\n",
       "\t<tr><th></th><th scope=col>&lt;chr&gt;</th><th scope=col>&lt;int&gt;</th><th scope=col>&lt;chr&gt;</th><th scope=col>&lt;chr&gt;</th><th scope=col>&lt;chr&gt;</th><th scope=col>&lt;int&gt;</th><th scope=col>&lt;dbl&gt;</th><th scope=col>&lt;dbl&gt;</th><th scope=col>&lt;dbl&gt;</th><th scope=col>&lt;dbl&gt;</th></tr>\n",
       "</thead>\n",
       "<tbody>\n",
       "\t<tr><th scope=row>1</th><td>1</td><td>100000135</td><td>rs114947036</td><td>A     </td><td>T  </td><td>9236</td><td>0.8760</td><td> 0.03964</td><td>0.25410</td><td>0.00096</td></tr>\n",
       "\t<tr><th scope=row>2</th><td>1</td><td>100000989</td><td>rs146963890</td><td>A     </td><td>ATC</td><td>9236</td><td>0.2352</td><td>-0.03300</td><td>0.02780</td><td>0.08238</td></tr>\n",
       "\t<tr><th scope=row>3</th><td>1</td><td>100001138</td><td>rs144406489</td><td>A     </td><td>G  </td><td>9236</td><td>0.5446</td><td>-0.08074</td><td>0.13330</td><td>0.00345</td></tr>\n",
       "\t<tr><th scope=row>4</th><td>1</td><td>100002155</td><td>rs147727421</td><td>GTTAGT</td><td>G  </td><td>9236</td><td>0.2347</td><td> 0.02993</td><td>0.02519</td><td>0.10200</td></tr>\n",
       "\t<tr><th scope=row>5</th><td>1</td><td>100002271</td><td>rs185786036</td><td>A     </td><td>G  </td><td>9236</td><td>0.3882</td><td> 0.12600</td><td>0.14610</td><td>0.00268</td></tr>\n",
       "\t<tr><th scope=row>6</th><td>1</td><td>100002991</td><td>rs75635821 </td><td>G     </td><td>A  </td><td>9236</td><td>0.2262</td><td> 0.03047</td><td>0.02518</td><td>0.10211</td></tr>\n",
       "</tbody>\n",
       "</table>\n"
      ],
      "text/latex": [
       "A data.frame: 6 × 10\n",
       "\\begin{tabular}{r|llllllllll}\n",
       "  & CHROMOSOME & POSITION & MARKERNAME & METSIM\\_NEA & METSIM\\_EA & METSIM\\_N & PVALUE\\_FE & METSIM\\_BETA & METSIM\\_SE & MAF\\\\\n",
       "  & <chr> & <int> & <chr> & <chr> & <chr> & <int> & <dbl> & <dbl> & <dbl> & <dbl>\\\\\n",
       "\\hline\n",
       "\t1 & 1 & 100000135 & rs114947036 & A      & T   & 9236 & 0.8760 &  0.03964 & 0.25410 & 0.00096\\\\\n",
       "\t2 & 1 & 100000989 & rs146963890 & A      & ATC & 9236 & 0.2352 & -0.03300 & 0.02780 & 0.08238\\\\\n",
       "\t3 & 1 & 100001138 & rs144406489 & A      & G   & 9236 & 0.5446 & -0.08074 & 0.13330 & 0.00345\\\\\n",
       "\t4 & 1 & 100002155 & rs147727421 & GTTAGT & G   & 9236 & 0.2347 &  0.02993 & 0.02519 & 0.10200\\\\\n",
       "\t5 & 1 & 100002271 & rs185786036 & A      & G   & 9236 & 0.3882 &  0.12600 & 0.14610 & 0.00268\\\\\n",
       "\t6 & 1 & 100002991 & rs75635821  & G      & A   & 9236 & 0.2262 &  0.03047 & 0.02518 & 0.10211\\\\\n",
       "\\end{tabular}\n"
      ],
      "text/markdown": [
       "\n",
       "A data.frame: 6 × 10\n",
       "\n",
       "| <!--/--> | CHROMOSOME &lt;chr&gt; | POSITION &lt;int&gt; | MARKERNAME &lt;chr&gt; | METSIM_NEA &lt;chr&gt; | METSIM_EA &lt;chr&gt; | METSIM_N &lt;int&gt; | PVALUE_FE &lt;dbl&gt; | METSIM_BETA &lt;dbl&gt; | METSIM_SE &lt;dbl&gt; | MAF &lt;dbl&gt; |\n",
       "|---|---|---|---|---|---|---|---|---|---|---|\n",
       "| 1 | 1 | 100000135 | rs114947036 | A      | T   | 9236 | 0.8760 |  0.03964 | 0.25410 | 0.00096 |\n",
       "| 2 | 1 | 100000989 | rs146963890 | A      | ATC | 9236 | 0.2352 | -0.03300 | 0.02780 | 0.08238 |\n",
       "| 3 | 1 | 100001138 | rs144406489 | A      | G   | 9236 | 0.5446 | -0.08074 | 0.13330 | 0.00345 |\n",
       "| 4 | 1 | 100002155 | rs147727421 | GTTAGT | G   | 9236 | 0.2347 |  0.02993 | 0.02519 | 0.10200 |\n",
       "| 5 | 1 | 100002271 | rs185786036 | A      | G   | 9236 | 0.3882 |  0.12600 | 0.14610 | 0.00268 |\n",
       "| 6 | 1 | 100002991 | rs75635821  | G      | A   | 9236 | 0.2262 |  0.03047 | 0.02518 | 0.10211 |\n",
       "\n"
      ],
      "text/plain": [
       "  CHROMOSOME POSITION  MARKERNAME  METSIM_NEA METSIM_EA METSIM_N PVALUE_FE\n",
       "1 1          100000135 rs114947036 A          T         9236     0.8760   \n",
       "2 1          100000989 rs146963890 A          ATC       9236     0.2352   \n",
       "3 1          100001138 rs144406489 A          G         9236     0.5446   \n",
       "4 1          100002155 rs147727421 GTTAGT     G         9236     0.2347   \n",
       "5 1          100002271 rs185786036 A          G         9236     0.3882   \n",
       "6 1          100002991 rs75635821  G          A         9236     0.2262   \n",
       "  METSIM_BETA METSIM_SE MAF    \n",
       "1  0.03964    0.25410   0.00096\n",
       "2 -0.03300    0.02780   0.08238\n",
       "3 -0.08074    0.13330   0.00345\n",
       "4  0.02993    0.02519   0.10200\n",
       "5  0.12600    0.14610   0.00268\n",
       "6  0.03047    0.02518   0.10211"
      ]
     },
     "metadata": {},
     "output_type": "display_data"
    }
   ],
   "source": [
    "head(METSIM_DF)"
   ]
  },
  {
   "cell_type": "code",
   "execution_count": 8,
   "id": "20db351a",
   "metadata": {},
   "outputs": [],
   "source": [
    "met <- METSIM_DF%>%rename(MarkerName=MARKERNAME,,Allele1=METSIM_EA,Allele2=METSIM_NEA,Freq.METSIM=MAF,p=PVALUE_FE,N=METSIM_N)%>%distinct(MarkerName,.keep_all = TRUE)"
   ]
  },
  {
   "cell_type": "code",
   "execution_count": 11,
   "id": "d9a5a39c",
   "metadata": {},
   "outputs": [],
   "source": [
    "met <- met%>%select(MarkerName,Allele1,Allele2,Freq.METSIM,p,N)"
   ]
  },
  {
   "cell_type": "code",
   "execution_count": 10,
   "id": "5e46532f",
   "metadata": {},
   "outputs": [
    {
     "data": {
      "text/html": [
       "<table class=\"dataframe\">\n",
       "<caption>A data.frame: 6 × 10</caption>\n",
       "<thead>\n",
       "\t<tr><th></th><th scope=col>CHROMOSOME</th><th scope=col>POSITION</th><th scope=col>MarkerName</th><th scope=col>Allele2</th><th scope=col>Allele1</th><th scope=col>N</th><th scope=col>p</th><th scope=col>METSIM_BETA</th><th scope=col>METSIM_SE</th><th scope=col>Freq.METSIM</th></tr>\n",
       "\t<tr><th></th><th scope=col>&lt;chr&gt;</th><th scope=col>&lt;int&gt;</th><th scope=col>&lt;chr&gt;</th><th scope=col>&lt;chr&gt;</th><th scope=col>&lt;chr&gt;</th><th scope=col>&lt;int&gt;</th><th scope=col>&lt;dbl&gt;</th><th scope=col>&lt;dbl&gt;</th><th scope=col>&lt;dbl&gt;</th><th scope=col>&lt;dbl&gt;</th></tr>\n",
       "</thead>\n",
       "<tbody>\n",
       "\t<tr><th scope=row>1</th><td>1</td><td>100000135</td><td>rs114947036</td><td>A     </td><td>T  </td><td>9236</td><td>0.8760</td><td> 0.03964</td><td>0.25410</td><td>0.00096</td></tr>\n",
       "\t<tr><th scope=row>2</th><td>1</td><td>100000989</td><td>rs146963890</td><td>A     </td><td>ATC</td><td>9236</td><td>0.2352</td><td>-0.03300</td><td>0.02780</td><td>0.08238</td></tr>\n",
       "\t<tr><th scope=row>3</th><td>1</td><td>100001138</td><td>rs144406489</td><td>A     </td><td>G  </td><td>9236</td><td>0.5446</td><td>-0.08074</td><td>0.13330</td><td>0.00345</td></tr>\n",
       "\t<tr><th scope=row>4</th><td>1</td><td>100002155</td><td>rs147727421</td><td>GTTAGT</td><td>G  </td><td>9236</td><td>0.2347</td><td> 0.02993</td><td>0.02519</td><td>0.10200</td></tr>\n",
       "\t<tr><th scope=row>5</th><td>1</td><td>100002271</td><td>rs185786036</td><td>A     </td><td>G  </td><td>9236</td><td>0.3882</td><td> 0.12600</td><td>0.14610</td><td>0.00268</td></tr>\n",
       "\t<tr><th scope=row>6</th><td>1</td><td>100002991</td><td>rs75635821 </td><td>G     </td><td>A  </td><td>9236</td><td>0.2262</td><td> 0.03047</td><td>0.02518</td><td>0.10211</td></tr>\n",
       "</tbody>\n",
       "</table>\n"
      ],
      "text/latex": [
       "A data.frame: 6 × 10\n",
       "\\begin{tabular}{r|llllllllll}\n",
       "  & CHROMOSOME & POSITION & MarkerName & Allele2 & Allele1 & N & p & METSIM\\_BETA & METSIM\\_SE & Freq.METSIM\\\\\n",
       "  & <chr> & <int> & <chr> & <chr> & <chr> & <int> & <dbl> & <dbl> & <dbl> & <dbl>\\\\\n",
       "\\hline\n",
       "\t1 & 1 & 100000135 & rs114947036 & A      & T   & 9236 & 0.8760 &  0.03964 & 0.25410 & 0.00096\\\\\n",
       "\t2 & 1 & 100000989 & rs146963890 & A      & ATC & 9236 & 0.2352 & -0.03300 & 0.02780 & 0.08238\\\\\n",
       "\t3 & 1 & 100001138 & rs144406489 & A      & G   & 9236 & 0.5446 & -0.08074 & 0.13330 & 0.00345\\\\\n",
       "\t4 & 1 & 100002155 & rs147727421 & GTTAGT & G   & 9236 & 0.2347 &  0.02993 & 0.02519 & 0.10200\\\\\n",
       "\t5 & 1 & 100002271 & rs185786036 & A      & G   & 9236 & 0.3882 &  0.12600 & 0.14610 & 0.00268\\\\\n",
       "\t6 & 1 & 100002991 & rs75635821  & G      & A   & 9236 & 0.2262 &  0.03047 & 0.02518 & 0.10211\\\\\n",
       "\\end{tabular}\n"
      ],
      "text/markdown": [
       "\n",
       "A data.frame: 6 × 10\n",
       "\n",
       "| <!--/--> | CHROMOSOME &lt;chr&gt; | POSITION &lt;int&gt; | MarkerName &lt;chr&gt; | Allele2 &lt;chr&gt; | Allele1 &lt;chr&gt; | N &lt;int&gt; | p &lt;dbl&gt; | METSIM_BETA &lt;dbl&gt; | METSIM_SE &lt;dbl&gt; | Freq.METSIM &lt;dbl&gt; |\n",
       "|---|---|---|---|---|---|---|---|---|---|---|\n",
       "| 1 | 1 | 100000135 | rs114947036 | A      | T   | 9236 | 0.8760 |  0.03964 | 0.25410 | 0.00096 |\n",
       "| 2 | 1 | 100000989 | rs146963890 | A      | ATC | 9236 | 0.2352 | -0.03300 | 0.02780 | 0.08238 |\n",
       "| 3 | 1 | 100001138 | rs144406489 | A      | G   | 9236 | 0.5446 | -0.08074 | 0.13330 | 0.00345 |\n",
       "| 4 | 1 | 100002155 | rs147727421 | GTTAGT | G   | 9236 | 0.2347 |  0.02993 | 0.02519 | 0.10200 |\n",
       "| 5 | 1 | 100002271 | rs185786036 | A      | G   | 9236 | 0.3882 |  0.12600 | 0.14610 | 0.00268 |\n",
       "| 6 | 1 | 100002991 | rs75635821  | G      | A   | 9236 | 0.2262 |  0.03047 | 0.02518 | 0.10211 |\n",
       "\n"
      ],
      "text/plain": [
       "  CHROMOSOME POSITION  MarkerName  Allele2 Allele1 N    p      METSIM_BETA\n",
       "1 1          100000135 rs114947036 A       T       9236 0.8760  0.03964   \n",
       "2 1          100000989 rs146963890 A       ATC     9236 0.2352 -0.03300   \n",
       "3 1          100001138 rs144406489 A       G       9236 0.5446 -0.08074   \n",
       "4 1          100002155 rs147727421 GTTAGT  G       9236 0.2347  0.02993   \n",
       "5 1          100002271 rs185786036 A       G       9236 0.3882  0.12600   \n",
       "6 1          100002991 rs75635821  G       A       9236 0.2262  0.03047   \n",
       "  METSIM_SE Freq.METSIM\n",
       "1 0.25410   0.00096    \n",
       "2 0.02780   0.08238    \n",
       "3 0.13330   0.00345    \n",
       "4 0.02519   0.10200    \n",
       "5 0.14610   0.00268    \n",
       "6 0.02518   0.10211    "
      ]
     },
     "metadata": {},
     "output_type": "display_data"
    }
   ],
   "source": [
    "head(met)"
   ]
  },
  {
   "cell_type": "code",
   "execution_count": 12,
   "id": "bac275aa",
   "metadata": {},
   "outputs": [],
   "source": [
    "write.table(met,\"../../ANALYSIS/GTEX/METSIM_SUMSTATS.txt\",sep = \" \",row.names=FALSE,quote=FALSE)"
   ]
  },
  {
   "cell_type": "code",
   "execution_count": null,
   "id": "fe5c390f",
   "metadata": {},
   "outputs": [],
   "source": []
  }
 ],
 "metadata": {
  "kernelspec": {
   "display_name": "R",
   "language": "R",
   "name": "ir"
  },
  "language_info": {
   "codemirror_mode": "r",
   "file_extension": ".r",
   "mimetype": "text/x-r-source",
   "name": "R",
   "pygments_lexer": "r",
   "version": "4.1.2"
  }
 },
 "nbformat": 4,
 "nbformat_minor": 5
}
